{
 "cells": [
  {
   "cell_type": "markdown",
   "metadata": {
    "tags": [
     "papermill-error-cell-tag"
    ]
   },
   "source": [
    "<span style=\"color:red; font-family:Helvetica Neue, Helvetica, Arial, sans-serif; font-size:2em;\">An Exception was encountered at '<a href=\"#papermill-error-cell\">In [21]</a>'.</span>"
   ]
  },
  {
   "cell_type": "markdown",
   "metadata": {
    "papermill": {
     "duration": 0.025669,
     "end_time": "2020-08-28T18:58:04.497834",
     "exception": false,
     "start_time": "2020-08-28T18:58:04.472165",
     "status": "completed"
    },
    "tags": []
   },
   "source": [
    "# Machine Learning for String Field Theory\n",
    "\n",
    "*H. Erbin, R. Finotello, M. Kudrna, M. Schnabl*\n",
    "\n",
    "## Abstract\n",
    "\n",
    "In the framework of bosonic **Open String Field Theory** (OSFT), we consider several observables characterised by conformal weight, periodicity of the oscillations and the position of vacua in the potential for various values of truncated mass level.\n",
    "We focus on the prediction of the extrapolated value for the level-$\\infty$ truncation using Machine Learning (ML) techniques.\n",
    "\n",
    "## Synopsis\n",
    "\n",
    "In this notebook we train the machine learning algorithms on the WZW dataset.\n",
    "We focus on computing the argument angle of the extrapolated label and weight $h = 0$.\n",
    "\n",
    "## General Observations\n",
    "\n",
    "The idea is to improve the finite level predictions and reaching a result as close as possible to the extrapolated label.\n",
    "We need to find a strategy to evaluate the extrapolated labels with respect to the finite level truncation."
   ]
  },
  {
   "cell_type": "code",
   "execution_count": 1,
   "metadata": {
    "execution": {
     "iopub.execute_input": "2020-08-28T18:58:04.549968Z",
     "iopub.status.busy": "2020-08-28T18:58:04.549559Z",
     "iopub.status.idle": "2020-08-28T18:58:05.692393Z",
     "shell.execute_reply": "2020-08-28T18:58:05.691929Z"
    },
    "papermill": {
     "duration": 1.175098,
     "end_time": "2020-08-28T18:58:05.692506",
     "exception": false,
     "start_time": "2020-08-28T18:58:04.517408",
     "status": "completed"
    },
    "tags": []
   },
   "outputs": [],
   "source": [
    "%load_ext autoreload\n",
    "%autoreload 2\n",
    "\n",
    "import pandas as pd\n",
    "import numpy as np\n",
    "import seaborn as sns\n",
    "import matplotlib.pyplot as plt\n",
    "import re\n",
    "import os\n",
    "import joblib\n",
    "import time\n",
    "from IPython.display import Image\n",
    "import tensorflow as tf\n",
    "from sklearn.preprocessing import MinMaxScaler, StandardScaler, RobustScaler\n",
    "from sklearn.model_selection import KFold, train_test_split\n",
    "from sklearn.metrics import mean_squared_error, mean_absolute_error, r2_score\n",
    "from sklearn.linear_model import Ridge\n",
    "from sklearn.svm import SVR\n",
    "from lightgbm import LGBMRegressor\n",
    "from tensorflow import keras\n",
    "from skopt import BayesSearchCV\n",
    "from skopt.space import Real, Integer, Categorical\n",
    "from analysis import *\n",
    "\n",
    "import warnings\n",
    "warnings.filterwarnings('ignore', message='The objective has been evaluated at this point before.')\n",
    "\n",
    "# set matplot\n",
    "sns.set()\n",
    "PREFIX = 'wzw_'\n",
    "SUFFIX = '_angle_w0'\n",
    "\n",
    "# set memory growth\n",
    "gpus = tf.config.experimental.list_physical_devices('GPU')\n",
    "if gpus:\n",
    "    try:\n",
    "        for gpu in gpus:\n",
    "            tf.config.experimental.set_memory_growth(gpu, True)\n",
    "    except RuntimeError as e:\n",
    "        print(e)\n",
    "        \n",
    "# set random seed\n",
    "RAND = 42\n",
    "np.random.seed(RAND)\n",
    "tf.random.set_seed(RAND)"
   ]
  },
  {
   "cell_type": "code",
   "execution_count": 2,
   "metadata": {
    "execution": {
     "iopub.execute_input": "2020-08-28T18:58:05.750904Z",
     "iopub.status.busy": "2020-08-28T18:58:05.747589Z",
     "iopub.status.idle": "2020-08-28T18:58:05.763167Z",
     "shell.execute_reply": "2020-08-28T18:58:05.762701Z"
    },
    "papermill": {
     "duration": 0.042361,
     "end_time": "2020-08-28T18:58:05.763284",
     "exception": false,
     "start_time": "2020-08-28T18:58:05.720923",
     "status": "completed"
    },
    "tags": []
   },
   "outputs": [],
   "source": [
    "# create shortcuts for paths\n",
    "proot = lambda s: os.path.join('.', s)\n",
    "pdata = lambda s: os.path.join(proot('data'), s)\n",
    "pimg  = lambda s: os.path.join(proot('img'), s)\n",
    "pmet  = lambda s: os.path.join(proot('metrics'), s)\n",
    "pmod  = lambda s: os.path.join(proot('models'), s)"
   ]
  },
  {
   "cell_type": "markdown",
   "metadata": {
    "papermill": {
     "duration": 0.019076,
     "end_time": "2020-08-28T18:58:05.808239",
     "exception": false,
     "start_time": "2020-08-28T18:58:05.789163",
     "status": "completed"
    },
    "tags": []
   },
   "source": [
    "## Load the Dataset"
   ]
  },
  {
   "cell_type": "code",
   "execution_count": 3,
   "metadata": {
    "execution": {
     "iopub.execute_input": "2020-08-28T18:58:05.861164Z",
     "iopub.status.busy": "2020-08-28T18:58:05.860602Z",
     "iopub.status.idle": "2020-08-28T18:58:05.884057Z",
     "shell.execute_reply": "2020-08-28T18:58:05.884456Z"
    },
    "papermill": {
     "duration": 0.057057,
     "end_time": "2020-08-28T18:58:05.884588",
     "exception": false,
     "start_time": "2020-08-28T18:58:05.827531",
     "status": "completed"
    },
    "tags": []
   },
   "outputs": [
    {
     "name": "stdout",
     "output_type": "stream",
     "text": [
      "<class 'pandas.core.frame.DataFrame'>\n",
      "Int64Index: 41 entries, 0 to 558\n",
      "Data columns (total 38 columns):\n",
      " #   Column       Non-Null Count  Dtype  \n",
      "---  ------       --------------  -----  \n",
      " 0   k            41 non-null     float64\n",
      " 1   weight       41 non-null     float64\n",
      " 2   j            41 non-null     float64\n",
      " 3   m            41 non-null     float64\n",
      " 4   type_2       41 non-null     int64  \n",
      " 5   type_4       41 non-null     int64  \n",
      " 6   level_2      41 non-null     object \n",
      " 7   level_3      41 non-null     object \n",
      " 8   level_4      41 non-null     object \n",
      " 9   level_5      41 non-null     object \n",
      " 10  level_6      41 non-null     object \n",
      " 11  level_7      41 non-null     object \n",
      " 12  level_8      41 non-null     object \n",
      " 13  level_9      41 non-null     object \n",
      " 14  level_10     41 non-null     object \n",
      " 15  level_2_re   41 non-null     float64\n",
      " 16  level_3_re   41 non-null     float64\n",
      " 17  level_4_re   41 non-null     float64\n",
      " 18  level_5_re   41 non-null     float64\n",
      " 19  level_6_re   41 non-null     float64\n",
      " 20  level_7_re   41 non-null     float64\n",
      " 21  level_8_re   41 non-null     float64\n",
      " 22  level_9_re   41 non-null     float64\n",
      " 23  level_10_re  41 non-null     float64\n",
      " 24  level_2_im   41 non-null     float64\n",
      " 25  level_3_im   41 non-null     float64\n",
      " 26  level_4_im   41 non-null     float64\n",
      " 27  level_5_im   41 non-null     float64\n",
      " 28  level_6_im   41 non-null     float64\n",
      " 29  level_7_im   41 non-null     float64\n",
      " 30  level_8_im   41 non-null     float64\n",
      " 31  level_9_im   41 non-null     float64\n",
      " 32  level_10_im  41 non-null     float64\n",
      " 33  exp          41 non-null     object \n",
      " 34  exp_re       41 non-null     float64\n",
      " 35  exp_im       41 non-null     float64\n",
      " 36  exp_angle    41 non-null     float64\n",
      " 37  exp_mod      41 non-null     float64\n",
      "dtypes: float64(26), int64(2), object(10)\n",
      "memory usage: 12.5+ KB\n"
     ]
    }
   ],
   "source": [
    "df = pd.read_csv(pdata('wzw.csv'))\n",
    "df = df.loc[df['weight'] == 0.0]\n",
    "last = 'level_10'\n",
    "df.info()"
   ]
  },
  {
   "cell_type": "code",
   "execution_count": 4,
   "metadata": {
    "execution": {
     "iopub.execute_input": "2020-08-28T18:58:05.940223Z",
     "iopub.status.busy": "2020-08-28T18:58:05.937939Z",
     "iopub.status.idle": "2020-08-28T18:58:05.953977Z",
     "shell.execute_reply": "2020-08-28T18:58:05.953500Z"
    },
    "papermill": {
     "duration": 0.045601,
     "end_time": "2020-08-28T18:58:05.954084",
     "exception": false,
     "start_time": "2020-08-28T18:58:05.908483",
     "status": "completed"
    },
    "tags": []
   },
   "outputs": [],
   "source": [
    "# convert strings to complex numbers\n",
    "columns = df.loc[:,df.dtypes == 'object'].columns\n",
    "for c in columns:\n",
    "    df[c] = df[c].astype(np.complex)"
   ]
  },
  {
   "cell_type": "markdown",
   "metadata": {
    "papermill": {
     "duration": 0.020225,
     "end_time": "2020-08-28T18:58:06.001542",
     "exception": false,
     "start_time": "2020-08-28T18:58:05.981317",
     "status": "completed"
    },
    "tags": []
   },
   "source": [
    "We need to:\n",
    "\n",
    "1. define the evaluation metrics,\n",
    "2. rescale the labels,\n",
    "3. define the cross-validation strategy,\n",
    "4. divide into training and test sets,\n",
    "5. train the algorithms,\n",
    "6. evaluate each algorithm."
   ]
  },
  {
   "cell_type": "markdown",
   "metadata": {
    "papermill": {
     "duration": 0.020294,
     "end_time": "2020-08-28T18:58:06.042357",
     "exception": false,
     "start_time": "2020-08-28T18:58:06.022063",
     "status": "completed"
    },
    "tags": []
   },
   "source": [
    "## Evaluation Metric\n",
    "\n",
    "In general we use the average ratio between the residuals of predicted level and the last finite truncation level:\n",
    "\\begin{equation}\n",
    "    R(y_{true}, y_{finite}, y_{pred}) = \\frac{1}{N} \\sum\\limits_{i = 1}^N \\log_{10}\\left| \\frac{y_{true}^{(i)} - y_{pred}^{(i)}}{y_{true}^{(i)} - y_{finite}^{(i)}} \\right|\n",
    "\\end{equation}\n",
    "This way a negative result would represent an improvement on finite truncation levels."
   ]
  },
  {
   "cell_type": "markdown",
   "metadata": {
    "papermill": {
     "duration": 0.020277,
     "end_time": "2020-08-28T18:58:06.082864",
     "exception": false,
     "start_time": "2020-08-28T18:58:06.062587",
     "status": "completed"
    },
    "tags": []
   },
   "source": [
    "## Cross-Validation Strategy"
   ]
  },
  {
   "cell_type": "code",
   "execution_count": 5,
   "metadata": {
    "execution": {
     "iopub.execute_input": "2020-08-28T18:58:06.131378Z",
     "iopub.status.busy": "2020-08-28T18:58:06.130106Z",
     "iopub.status.idle": "2020-08-28T18:58:06.147005Z",
     "shell.execute_reply": "2020-08-28T18:58:06.146519Z"
    },
    "papermill": {
     "duration": 0.043959,
     "end_time": "2020-08-28T18:58:06.147111",
     "exception": false,
     "start_time": "2020-08-28T18:58:06.103152",
     "status": "completed"
    },
    "tags": []
   },
   "outputs": [],
   "source": [
    "cv = KFold(n_splits=9)"
   ]
  },
  {
   "cell_type": "markdown",
   "metadata": {
    "papermill": {
     "duration": 0.020285,
     "end_time": "2020-08-28T18:58:06.194437",
     "exception": false,
     "start_time": "2020-08-28T18:58:06.174152",
     "status": "completed"
    },
    "tags": []
   },
   "source": [
    "## Train and Test Sets"
   ]
  },
  {
   "cell_type": "code",
   "execution_count": 6,
   "metadata": {
    "execution": {
     "iopub.execute_input": "2020-08-28T18:58:06.245443Z",
     "iopub.status.busy": "2020-08-28T18:58:06.245059Z",
     "iopub.status.idle": "2020-08-28T18:58:06.264025Z",
     "shell.execute_reply": "2020-08-28T18:58:06.264400Z"
    },
    "papermill": {
     "duration": 0.049891,
     "end_time": "2020-08-28T18:58:06.264535",
     "exception": false,
     "start_time": "2020-08-28T18:58:06.214644",
     "status": "completed"
    },
    "tags": []
   },
   "outputs": [],
   "source": [
    "train, test = train_test_split(df, train_size=0.9, shuffle=True, random_state=RAND)\n",
    "\n",
    "X_train = train.filter(regex='k|weight|type_.*|level_[0-9]*$')\n",
    "X_train.to_csv(pdata(PREFIX + 'X_train' + SUFFIX + '.csv'), index=False)\n",
    "X_train = X_train.drop(columns=['k']).values\n",
    "\n",
    "X_test  = test.filter(regex='k|weight|type_.*|level_[0-9]*$')\n",
    "X_test.to_csv(pdata(PREFIX + 'X_test' + SUFFIX + '.csv'), index=False)\n",
    "X_test = X_test.drop(columns=['k']).values\n",
    "\n",
    "y_train = train['exp_angle']\n",
    "y_train.to_csv(pdata(PREFIX + 'y_train' + SUFFIX + '.csv'), index=False)\n",
    "y_train = y_train.values.reshape(-1,)\n",
    "\n",
    "y_test  = test['exp_angle']\n",
    "y_test.to_csv(pdata(PREFIX + 'y_test' + SUFFIX + '.csv'), index=False)\n",
    "y_test = y_test.values.reshape(-1,)"
   ]
  },
  {
   "cell_type": "code",
   "execution_count": 7,
   "metadata": {
    "execution": {
     "iopub.execute_input": "2020-08-28T18:58:06.325137Z",
     "iopub.status.busy": "2020-08-28T18:58:06.323588Z",
     "iopub.status.idle": "2020-08-28T18:58:06.336417Z",
     "shell.execute_reply": "2020-08-28T18:58:06.336008Z"
    },
    "papermill": {
     "duration": 0.043374,
     "end_time": "2020-08-28T18:58:06.336523",
     "exception": false,
     "start_time": "2020-08-28T18:58:06.293149",
     "status": "completed"
    },
    "tags": []
   },
   "outputs": [
    {
     "name": "stdout",
     "output_type": "stream",
     "text": [
      "Shape of the training set: X = (36, 12), y = (36,)\n",
      "Shape of the test     set: X = (5, 12),  y = (5,)\n"
     ]
    }
   ],
   "source": [
    "print(f'Shape of the training set: X = {X_train.shape}, y = {y_train.shape}')\n",
    "print(f'Shape of the test     set: X = {X_test.shape},  y = {y_test.shape}')"
   ]
  },
  {
   "cell_type": "markdown",
   "metadata": {
    "papermill": {
     "duration": 0.020216,
     "end_time": "2020-08-28T18:58:06.383210",
     "exception": false,
     "start_time": "2020-08-28T18:58:06.362994",
     "status": "completed"
    },
    "tags": []
   },
   "source": [
    "We also need a validation set (10% of the samples) for the neural networks:"
   ]
  },
  {
   "cell_type": "code",
   "execution_count": 8,
   "metadata": {
    "execution": {
     "iopub.execute_input": "2020-08-28T18:58:06.444237Z",
     "iopub.status.busy": "2020-08-28T18:58:06.439503Z",
     "iopub.status.idle": "2020-08-28T18:58:06.455766Z",
     "shell.execute_reply": "2020-08-28T18:58:06.455353Z"
    },
    "papermill": {
     "duration": 0.052335,
     "end_time": "2020-08-28T18:58:06.455871",
     "exception": false,
     "start_time": "2020-08-28T18:58:06.403536",
     "status": "completed"
    },
    "tags": []
   },
   "outputs": [],
   "source": [
    "train, validation = train_test_split(train, test_size=1/9, shuffle=False)\n",
    "\n",
    "X_train_nn = train.filter(regex='k|weight|type_.*|level_[0-9]*$')\n",
    "X_train_nn.to_csv(pdata(PREFIX + 'X_train_nn' + SUFFIX + '.csv'), index=False)\n",
    "X_train_nn = X_train_nn.drop(columns=['k']).values\n",
    "\n",
    "X_val_nn  = validation.filter(regex='k|weight|type_.*|level_[0-9]*$')\n",
    "X_val_nn.to_csv(pdata(PREFIX + 'X_val_nn' + SUFFIX + '.csv'), index=False)\n",
    "X_val_nn = X_val_nn.drop(columns=['k']).values\n",
    "\n",
    "y_train_nn = train['exp_angle']\n",
    "y_train_nn.to_csv(pdata(PREFIX + 'y_train_nn' + SUFFIX + '.csv'), index=False)\n",
    "y_train_nn = y_train_nn.values.reshape(-1,)\n",
    "\n",
    "y_val_nn  = validation['exp_angle']\n",
    "y_val_nn.to_csv(pdata(PREFIX + 'y_val_nn' + SUFFIX + '.csv'), index=False)\n",
    "y_val_nn = y_val_nn.values.reshape(-1,)\n",
    "\n",
    "y_test_nn = y_test"
   ]
  },
  {
   "cell_type": "code",
   "execution_count": 9,
   "metadata": {
    "execution": {
     "iopub.execute_input": "2020-08-28T18:58:06.513645Z",
     "iopub.status.busy": "2020-08-28T18:58:06.509029Z",
     "iopub.status.idle": "2020-08-28T18:58:06.523976Z",
     "shell.execute_reply": "2020-08-28T18:58:06.523503Z"
    },
    "papermill": {
     "duration": 0.043828,
     "end_time": "2020-08-28T18:58:06.524081",
     "exception": false,
     "start_time": "2020-08-28T18:58:06.480253",
     "status": "completed"
    },
    "tags": []
   },
   "outputs": [
    {
     "name": "stdout",
     "output_type": "stream",
     "text": [
      "Shape of the training   set (ANN): X = (32, 12), y = (32,)\n",
      "Shape of the validation set (ANN): X = (4, 12),  y = (4,)\n"
     ]
    }
   ],
   "source": [
    "print(f'Shape of the training   set (ANN): X = {X_train_nn.shape}, y = {y_train_nn.shape}')\n",
    "print(f'Shape of the validation set (ANN): X = {X_val_nn.shape},  y = {y_val_nn.shape}')"
   ]
  },
  {
   "cell_type": "markdown",
   "metadata": {
    "papermill": {
     "duration": 0.020496,
     "end_time": "2020-08-28T18:58:06.568954",
     "exception": false,
     "start_time": "2020-08-28T18:58:06.548458",
     "status": "completed"
    },
    "tags": []
   },
   "source": [
    "## Extract the Last Truncation Level"
   ]
  },
  {
   "cell_type": "code",
   "execution_count": 10,
   "metadata": {
    "execution": {
     "iopub.execute_input": "2020-08-28T18:58:06.615267Z",
     "iopub.status.busy": "2020-08-28T18:58:06.613808Z",
     "iopub.status.idle": "2020-08-28T18:58:06.633563Z",
     "shell.execute_reply": "2020-08-28T18:58:06.633148Z"
    },
    "papermill": {
     "duration": 0.044301,
     "end_time": "2020-08-28T18:58:06.633668",
     "exception": false,
     "start_time": "2020-08-28T18:58:06.589367",
     "status": "completed"
    },
    "tags": []
   },
   "outputs": [],
   "source": [
    "last_train    = np.angle(X_train[:,-1]).reshape(-1,) / np.pi\n",
    "last_train_nn = np.angle(X_train_nn[:,-1]).reshape(-1,) / np.pi\n",
    "last_val_nn   = np.angle(X_val_nn[:,-1]).reshape(-1,) / np.pi\n",
    "last_test     = np.angle(X_test[:,-1]).reshape(-1,) / np.pi\n",
    "last_test_nn  = np.angle(X_test[:,-1]).reshape(-1,) / np.pi"
   ]
  },
  {
   "cell_type": "markdown",
   "metadata": {
    "papermill": {
     "duration": 0.020343,
     "end_time": "2020-08-28T18:58:06.681438",
     "exception": false,
     "start_time": "2020-08-28T18:58:06.661095",
     "status": "completed"
    },
    "tags": []
   },
   "source": [
    "## Apply Fourier Transform to Levels"
   ]
  },
  {
   "cell_type": "code",
   "execution_count": 11,
   "metadata": {
    "execution": {
     "iopub.execute_input": "2020-08-28T18:58:06.736371Z",
     "iopub.status.busy": "2020-08-28T18:58:06.729444Z",
     "iopub.status.idle": "2020-08-28T18:58:06.749909Z",
     "shell.execute_reply": "2020-08-28T18:58:06.749494Z"
    },
    "papermill": {
     "duration": 0.048161,
     "end_time": "2020-08-28T18:58:06.750014",
     "exception": false,
     "start_time": "2020-08-28T18:58:06.701853",
     "status": "completed"
    },
    "tags": []
   },
   "outputs": [],
   "source": [
    "# compute Fourier transform (for real input)\n",
    "levels_train    = np.fft.fft(X_train[:,3:], axis=1)\n",
    "levels_train_nn = np.fft.fft(X_train_nn[:,3:], axis=1)\n",
    "levels_val_nn   = np.fft.fft(X_val_nn[:,3:], axis=1)\n",
    "levels_test     = np.fft.fft(X_test[:,3:], axis=1)\n",
    "\n",
    "# separate modulus and argument\n",
    "levels_train_mod    = np.abs(levels_train)\n",
    "levels_train_ang    = np.angle(levels_train) / np.pi\n",
    "levels_train_nn_mod = np.abs(levels_train_nn)\n",
    "levels_train_nn_ang = np.angle(levels_train_nn) / np.pi\n",
    "levels_val_nn_mod   = np.abs(levels_val_nn)\n",
    "levels_val_nn_ang   = np.angle(levels_val_nn) / np.pi\n",
    "levels_test_mod     = np.abs(levels_test)\n",
    "levels_test_ang     = np.angle(levels_test) / np.pi\n",
    "\n",
    "# concatenate the arrays (the first imaginary part is identically vanishing)\n",
    "levels_train_conc    = np.c_[levels_train_mod[:,1:], levels_train_ang[:,1:]]\n",
    "levels_train_nn_conc = np.c_[levels_train_nn_mod[:,1:], levels_train_nn_ang[:,1:]]\n",
    "levels_val_nn_conc   = np.c_[levels_val_nn_mod[:,1:], levels_val_nn_ang[:,1:]]\n",
    "levels_test_conc     = np.c_[levels_test_mod[:,1:], levels_test_ang[:,1:]]\n",
    "\n",
    "# reform the input vectors\n",
    "X_train    = np.c_[np.real(X_train[:,0:3]), levels_train_conc]\n",
    "X_train_nn = np.c_[np.real(X_train_nn[:,0:3]), levels_train_nn_conc]\n",
    "X_val_nn   = np.c_[np.real(X_val_nn[:,0:3]), levels_val_nn_conc]\n",
    "X_test     = np.c_[np.real(X_test[:,0:3]), levels_test_conc]"
   ]
  },
  {
   "cell_type": "markdown",
   "metadata": {
    "papermill": {
     "duration": 0.02044,
     "end_time": "2020-08-28T18:58:06.795829",
     "exception": false,
     "start_time": "2020-08-28T18:58:06.775389",
     "status": "completed"
    },
    "tags": []
   },
   "source": [
    "## Rescale the Truncation Levels"
   ]
  },
  {
   "cell_type": "code",
   "execution_count": 12,
   "metadata": {
    "execution": {
     "iopub.execute_input": "2020-08-28T18:58:06.850231Z",
     "iopub.status.busy": "2020-08-28T18:58:06.847186Z",
     "iopub.status.idle": "2020-08-28T18:58:06.862184Z",
     "shell.execute_reply": "2020-08-28T18:58:06.861769Z"
    },
    "papermill": {
     "duration": 0.045995,
     "end_time": "2020-08-28T18:58:06.862288",
     "exception": false,
     "start_time": "2020-08-28T18:58:06.816293",
     "status": "completed"
    },
    "tags": []
   },
   "outputs": [],
   "source": [
    "lev_scaler    = StandardScaler()\n",
    "lev_scaler_nn = StandardScaler()\n",
    "\n",
    "# scale the cross-validation levels\n",
    "levels_train = lev_scaler.fit_transform(X_train[:,3:])\n",
    "levels_test  = lev_scaler.transform(X_test[:,3:])\n",
    "\n",
    "# scale the neural network labels\n",
    "levels_train_nn = lev_scaler_nn.fit_transform(X_train_nn[:,3:])\n",
    "levels_val_nn   = lev_scaler_nn.transform(X_val_nn[:,3:])\n",
    "levels_test_nn  = lev_scaler_nn.transform(X_test[:,3:])\n",
    "\n",
    "# insert the levels back\n",
    "X_train[:,3:] = levels_train\n",
    "X_test[:,3:]  = levels_test\n",
    "\n",
    "X_train_nn[:,3:] = levels_train_nn\n",
    "X_val_nn[:,3:]   = levels_val_nn\n",
    "X_test_nn        = X_test\n",
    "X_test_nn[:,3:]  = levels_test_nn"
   ]
  },
  {
   "cell_type": "code",
   "execution_count": 13,
   "metadata": {
    "execution": {
     "iopub.execute_input": "2020-08-28T18:58:06.920394Z",
     "iopub.status.busy": "2020-08-28T18:58:06.919565Z",
     "iopub.status.idle": "2020-08-28T18:58:06.934759Z",
     "shell.execute_reply": "2020-08-28T18:58:06.934347Z"
    },
    "papermill": {
     "duration": 0.044627,
     "end_time": "2020-08-28T18:58:06.934862",
     "exception": false,
     "start_time": "2020-08-28T18:58:06.890235",
     "status": "completed"
    },
    "tags": []
   },
   "outputs": [],
   "source": [
    "os.makedirs('./models', exist_ok=True)"
   ]
  },
  {
   "cell_type": "code",
   "execution_count": 14,
   "metadata": {
    "execution": {
     "iopub.execute_input": "2020-08-28T18:58:06.993286Z",
     "iopub.status.busy": "2020-08-28T18:58:06.991208Z",
     "iopub.status.idle": "2020-08-28T18:58:07.005107Z",
     "shell.execute_reply": "2020-08-28T18:58:07.005503Z"
    },
    "papermill": {
     "duration": 0.045643,
     "end_time": "2020-08-28T18:58:07.005627",
     "exception": false,
     "start_time": "2020-08-28T18:58:06.959984",
     "status": "completed"
    },
    "tags": []
   },
   "outputs": [
    {
     "data": {
      "text/plain": [
       "['./models/wzw_levels_nn_scaler_angle_w0.pkl']"
      ]
     },
     "execution_count": 14,
     "metadata": {},
     "output_type": "execute_result"
    }
   ],
   "source": [
    "# save the scalers\n",
    "joblib.dump(lev_scaler, pmod(PREFIX + 'levels_cv_scaler' + SUFFIX + '.pkl'))\n",
    "joblib.dump(lev_scaler_nn, pmod(PREFIX + 'levels_nn_scaler' + SUFFIX + '.pkl'))"
   ]
  },
  {
   "cell_type": "markdown",
   "metadata": {
    "papermill": {
     "duration": 0.020511,
     "end_time": "2020-08-28T18:58:07.052262",
     "exception": false,
     "start_time": "2020-08-28T18:58:07.031751",
     "status": "completed"
    },
    "tags": []
   },
   "source": [
    "## Training"
   ]
  },
  {
   "cell_type": "code",
   "execution_count": 15,
   "metadata": {
    "execution": {
     "iopub.execute_input": "2020-08-28T18:58:07.104378Z",
     "iopub.status.busy": "2020-08-28T18:58:07.100535Z",
     "iopub.status.idle": "2020-08-28T18:58:07.116300Z",
     "shell.execute_reply": "2020-08-28T18:58:07.115886Z"
    },
    "papermill": {
     "duration": 0.043518,
     "end_time": "2020-08-28T18:58:07.116404",
     "exception": false,
     "start_time": "2020-08-28T18:58:07.072886",
     "status": "completed"
    },
    "tags": []
   },
   "outputs": [],
   "source": [
    "os.makedirs('./img', exist_ok=True)\n",
    "os.makedirs('./metrics', exist_ok=True)"
   ]
  },
  {
   "cell_type": "markdown",
   "metadata": {
    "papermill": {
     "duration": 0.02047,
     "end_time": "2020-08-28T18:58:07.162182",
     "exception": false,
     "start_time": "2020-08-28T18:58:07.141712",
     "status": "completed"
    },
    "tags": []
   },
   "source": [
    "### Linear Regression (w/ $\\ell_2$ regularisation)"
   ]
  },
  {
   "cell_type": "code",
   "execution_count": 16,
   "metadata": {
    "execution": {
     "iopub.execute_input": "2020-08-28T18:58:07.217852Z",
     "iopub.status.busy": "2020-08-28T18:58:07.217369Z",
     "iopub.status.idle": "2020-08-28T18:59:29.390297Z",
     "shell.execute_reply": "2020-08-28T18:59:29.390523Z"
    },
    "papermill": {
     "duration": 82.207924,
     "end_time": "2020-08-28T18:59:29.390598",
     "exception": false,
     "start_time": "2020-08-28T18:58:07.182674",
     "status": "completed"
    },
    "scrolled": true,
    "tags": []
   },
   "outputs": [
    {
     "name": "stdout",
     "output_type": "stream",
     "text": [
      "Optimisation time: 82.140 seconds.\n"
     ]
    }
   ],
   "source": [
    "spaces    = {'alpha':         Real(1.0e-8, 1.0e-1, prior='log-uniform'),\n",
    "             'fit_intercept': Integer(0, 1),\n",
    "             'normalize':     Integer(0, 1)\n",
    "            }\n",
    "estimator = BayesSearchCV(Ridge(tol=1.0e-5, random_state=RAND),\n",
    "                          spaces,\n",
    "                          n_iter=100,\n",
    "                          scoring='neg_mean_squared_error',\n",
    "                          n_jobs=-1,\n",
    "                          cv=cv,\n",
    "                          random_state=RAND\n",
    "                         )         \n",
    "\n",
    "# fit the estimator\n",
    "t = time.time()\n",
    "estimator = estimator.fit(X_train, y_train)\n",
    "t = time.time() - t\n",
    "print(f'Optimisation time: {t:.3f} seconds.')"
   ]
  },
  {
   "cell_type": "code",
   "execution_count": 17,
   "metadata": {
    "execution": {
     "iopub.execute_input": "2020-08-28T18:59:29.448836Z",
     "iopub.status.busy": "2020-08-28T18:59:29.447546Z",
     "iopub.status.idle": "2020-08-28T18:59:29.465093Z",
     "shell.execute_reply": "2020-08-28T18:59:29.464833Z"
    },
    "papermill": {
     "duration": 0.052958,
     "end_time": "2020-08-28T18:59:29.465149",
     "exception": false,
     "start_time": "2020-08-28T18:59:29.412191",
     "status": "completed"
    },
    "tags": []
   },
   "outputs": [
    {
     "name": "stdout",
     "output_type": "stream",
     "text": [
      "CV score: -0.000 ± 0.000\n"
     ]
    }
   ],
   "source": [
    "best_estimator, cv_score, best_hyperparameters = statisticsCV(estimator, cv)\n",
    "print(f'CV score: {-cv_score[0]:.3f} ± {cv_score[1]:.3f}')"
   ]
  },
  {
   "cell_type": "code",
   "execution_count": 18,
   "metadata": {
    "execution": {
     "iopub.execute_input": "2020-08-28T18:59:29.511801Z",
     "iopub.status.busy": "2020-08-28T18:59:29.511504Z",
     "iopub.status.idle": "2020-08-28T18:59:29.525388Z",
     "shell.execute_reply": "2020-08-28T18:59:29.525600Z"
    },
    "papermill": {
     "duration": 0.039111,
     "end_time": "2020-08-28T18:59:29.525662",
     "exception": false,
     "start_time": "2020-08-28T18:59:29.486551",
     "status": "completed"
    },
    "tags": []
   },
   "outputs": [
    {
     "data": {
      "text/plain": [
       "['./models/wzw_lr_angle_w0.pkl']"
      ]
     },
     "execution_count": 18,
     "metadata": {},
     "output_type": "execute_result"
    }
   ],
   "source": [
    "# save best estimator\n",
    "joblib.dump(best_estimator, pmod(PREFIX + 'lr' + SUFFIX + '.pkl'))"
   ]
  },
  {
   "cell_type": "code",
   "execution_count": 19,
   "metadata": {
    "execution": {
     "iopub.execute_input": "2020-08-28T18:59:29.571616Z",
     "iopub.status.busy": "2020-08-28T18:59:29.571320Z",
     "iopub.status.idle": "2020-08-28T18:59:29.588125Z",
     "shell.execute_reply": "2020-08-28T18:59:29.587870Z"
    },
    "papermill": {
     "duration": 0.040909,
     "end_time": "2020-08-28T18:59:29.588178",
     "exception": false,
     "start_time": "2020-08-28T18:59:29.547269",
     "status": "completed"
    },
    "tags": []
   },
   "outputs": [
    {
     "data": {
      "text/html": [
       "<div>\n",
       "<style scoped>\n",
       "    .dataframe tbody tr th:only-of-type {\n",
       "        vertical-align: middle;\n",
       "    }\n",
       "\n",
       "    .dataframe tbody tr th {\n",
       "        vertical-align: top;\n",
       "    }\n",
       "\n",
       "    .dataframe thead th {\n",
       "        text-align: right;\n",
       "    }\n",
       "</style>\n",
       "<table border=\"1\" class=\"dataframe\">\n",
       "  <thead>\n",
       "    <tr style=\"text-align: right;\">\n",
       "      <th></th>\n",
       "      <th>ridge</th>\n",
       "    </tr>\n",
       "  </thead>\n",
       "  <tbody>\n",
       "    <tr>\n",
       "      <th>alpha</th>\n",
       "      <td>0.000007</td>\n",
       "    </tr>\n",
       "    <tr>\n",
       "      <th>fit_intercept</th>\n",
       "      <td>1.000000</td>\n",
       "    </tr>\n",
       "    <tr>\n",
       "      <th>normalize</th>\n",
       "      <td>1.000000</td>\n",
       "    </tr>\n",
       "  </tbody>\n",
       "</table>\n",
       "</div>"
      ],
      "text/plain": [
       "                  ridge\n",
       "alpha          0.000007\n",
       "fit_intercept  1.000000\n",
       "normalize      1.000000"
      ]
     },
     "execution_count": 19,
     "metadata": {},
     "output_type": "execute_result"
    }
   ],
   "source": [
    "# save the hyperparameters\n",
    "best_hyperparameters.to_csv(pmet(PREFIX + 'lr_hyperparameters' + SUFFIX + '.csv'))\n",
    "best_hyperparameters"
   ]
  },
  {
   "cell_type": "code",
   "execution_count": 20,
   "metadata": {
    "execution": {
     "iopub.execute_input": "2020-08-28T18:59:29.642543Z",
     "iopub.status.busy": "2020-08-28T18:59:29.637008Z",
     "iopub.status.idle": "2020-08-28T18:59:29.657451Z",
     "shell.execute_reply": "2020-08-28T18:59:29.657201Z"
    },
    "papermill": {
     "duration": 0.047529,
     "end_time": "2020-08-28T18:59:29.657504",
     "exception": false,
     "start_time": "2020-08-28T18:59:29.609975",
     "status": "completed"
    },
    "tags": []
   },
   "outputs": [
    {
     "name": "stderr",
     "output_type": "stream",
     "text": [
      "/home/riccardo/documents/ml-sft-trunc/ml-sft-trunc-model-dep/analysis.py:75: RuntimeWarning: divide by zero encountered in log10\n",
      "  log_ratio = np.log10(ratio)\n",
      "/home/riccardo/documents/ml-sft-trunc/ml-sft-trunc-model-dep/analysis.py:75: RuntimeWarning: divide by zero encountered in log10\n",
      "  log_ratio = np.log10(ratio)\n"
     ]
    },
    {
     "data": {
      "text/html": [
       "<div>\n",
       "<style scoped>\n",
       "    .dataframe tbody tr th:only-of-type {\n",
       "        vertical-align: middle;\n",
       "    }\n",
       "\n",
       "    .dataframe tbody tr th {\n",
       "        vertical-align: top;\n",
       "    }\n",
       "\n",
       "    .dataframe thead th {\n",
       "        text-align: right;\n",
       "    }\n",
       "</style>\n",
       "<table border=\"1\" class=\"dataframe\">\n",
       "  <thead>\n",
       "    <tr style=\"text-align: right;\">\n",
       "      <th></th>\n",
       "      <th>train_lr</th>\n",
       "      <th>test_lr</th>\n",
       "    </tr>\n",
       "  </thead>\n",
       "  <tbody>\n",
       "    <tr>\n",
       "      <th>mean_squared_error</th>\n",
       "      <td>0.0</td>\n",
       "      <td>0.0</td>\n",
       "    </tr>\n",
       "    <tr>\n",
       "      <th>mean_absolute_error</th>\n",
       "      <td>0.0</td>\n",
       "      <td>0.0</td>\n",
       "    </tr>\n",
       "    <tr>\n",
       "      <th>r2_score</th>\n",
       "      <td>1.0</td>\n",
       "      <td>1.0</td>\n",
       "    </tr>\n",
       "    <tr>\n",
       "      <th>residual_ratio</th>\n",
       "      <td>-inf</td>\n",
       "      <td>-inf</td>\n",
       "    </tr>\n",
       "  </tbody>\n",
       "</table>\n",
       "</div>"
      ],
      "text/plain": [
       "                     train_lr  test_lr\n",
       "mean_squared_error        0.0      0.0\n",
       "mean_absolute_error       0.0      0.0\n",
       "r2_score                  1.0      1.0\n",
       "residual_ratio           -inf     -inf"
      ]
     },
     "execution_count": 20,
     "metadata": {},
     "output_type": "execute_result"
    }
   ],
   "source": [
    "train_metrics = make_predictions(best_estimator, X_train, y_train, last_train, prefix=PREFIX, suffix=SUFFIX, name='train_lr')\n",
    "test_metrics  = make_predictions(best_estimator, X_test, y_test, last_test, prefix=PREFIX, suffix=SUFFIX, name='test_lr')\n",
    "\n",
    "# concatenate the prediction results\n",
    "metrics = pd.concat([train_metrics, test_metrics], axis=0).transpose()\n",
    "metrics.to_csv(pmet(PREFIX + 'lr_metrics' + SUFFIX + '.csv'))\n",
    "metrics"
   ]
  },
  {
   "cell_type": "markdown",
   "metadata": {
    "tags": [
     "papermill-error-cell-tag"
    ]
   },
   "source": [
    "<span id=\"papermill-error-cell\" style=\"color:red; font-family:Helvetica Neue, Helvetica, Arial, sans-serif; font-size:2em;\">Execution using papermill encountered an exception here and stopped:</span>"
   ]
  },
  {
   "cell_type": "code",
   "execution_count": 21,
   "metadata": {
    "execution": {
     "iopub.execute_input": "2020-08-28T18:59:29.703847Z",
     "iopub.status.busy": "2020-08-28T18:59:29.703592Z",
     "iopub.status.idle": "2020-08-28T18:59:30.306128Z",
     "shell.execute_reply": "2020-08-28T18:59:30.305589Z"
    },
    "papermill": {
     "duration": 0.626521,
     "end_time": "2020-08-28T18:59:30.306207",
     "exception": true,
     "start_time": "2020-08-28T18:59:29.679686",
     "status": "failed"
    },
    "tags": []
   },
   "outputs": [
    {
     "name": "stderr",
     "output_type": "stream",
     "text": [
      "/home/riccardo/documents/ml-sft-trunc/ml-sft-trunc-model-dep/analysis.py:219: RuntimeWarning: divide by zero encountered in log10\n",
      "  resid_ratio = np.log10(np.abs(np.divide(resid_pred, resid_fin)))\n"
     ]
    },
    {
     "name": "stderr",
     "output_type": "stream",
     "text": [
      "/home/riccardo/conda/envs/ml-sft-trunc/lib/python3.7/site-packages/seaborn/utils.py:376: RuntimeWarning: invalid value encountered in double_scalars\n",
      "  return q3 - q1\n",
      "/home/riccardo/conda/envs/ml-sft-trunc/lib/python3.7/site-packages/seaborn/distributions.py:35: RuntimeWarning: invalid value encountered in double_scalars\n",
      "  return int(np.ceil((a.max() - a.min()) / h))\n"
     ]
    },
    {
     "ename": "ValueError",
     "evalue": "cannot convert float NaN to integer",
     "output_type": "error",
     "traceback": [
      "\u001b[0;31m---------------------------------------------------------------------------\u001b[0m",
      "\u001b[0;31mValueError\u001b[0m                                Traceback (most recent call last)",
      "\u001b[0;32m<ipython-input-21-ba16d1ca47bd>\u001b[0m in \u001b[0;36m<module>\u001b[0;34m\u001b[0m\n\u001b[0;32m----> 1\u001b[0;31m \u001b[0mmake_plots\u001b[0m\u001b[0;34m(\u001b[0m\u001b[0mestimator\u001b[0m\u001b[0;34m,\u001b[0m \u001b[0mX_train\u001b[0m\u001b[0;34m,\u001b[0m \u001b[0my_train\u001b[0m\u001b[0;34m,\u001b[0m \u001b[0mlast_train\u001b[0m\u001b[0;34m,\u001b[0m \u001b[0mprefix\u001b[0m\u001b[0;34m=\u001b[0m\u001b[0mPREFIX\u001b[0m\u001b[0;34m,\u001b[0m \u001b[0msuffix\u001b[0m\u001b[0;34m=\u001b[0m\u001b[0mSUFFIX\u001b[0m\u001b[0;34m,\u001b[0m \u001b[0mname\u001b[0m\u001b[0;34m=\u001b[0m\u001b[0;34m'train_lr'\u001b[0m\u001b[0;34m)\u001b[0m\u001b[0;34m\u001b[0m\u001b[0;34m\u001b[0m\u001b[0m\n\u001b[0m\u001b[1;32m      2\u001b[0m \u001b[0mmake_plots\u001b[0m\u001b[0;34m(\u001b[0m\u001b[0mestimator\u001b[0m\u001b[0;34m,\u001b[0m \u001b[0mX_test\u001b[0m\u001b[0;34m,\u001b[0m \u001b[0my_test\u001b[0m\u001b[0;34m,\u001b[0m \u001b[0mlast_test\u001b[0m\u001b[0;34m,\u001b[0m \u001b[0mprefix\u001b[0m\u001b[0;34m=\u001b[0m\u001b[0mPREFIX\u001b[0m\u001b[0;34m,\u001b[0m \u001b[0msuffix\u001b[0m\u001b[0;34m=\u001b[0m\u001b[0mSUFFIX\u001b[0m\u001b[0;34m,\u001b[0m \u001b[0mname\u001b[0m\u001b[0;34m=\u001b[0m\u001b[0;34m'test_lr'\u001b[0m\u001b[0;34m)\u001b[0m\u001b[0;34m\u001b[0m\u001b[0;34m\u001b[0m\u001b[0m\n\u001b[1;32m      3\u001b[0m \u001b[0mcompare_plots\u001b[0m\u001b[0;34m(\u001b[0m\u001b[0mestimator\u001b[0m\u001b[0;34m,\u001b[0m \u001b[0mX_train\u001b[0m\u001b[0;34m,\u001b[0m \u001b[0my_train\u001b[0m\u001b[0;34m,\u001b[0m \u001b[0mlast_train\u001b[0m\u001b[0;34m,\u001b[0m \u001b[0mX_test\u001b[0m\u001b[0;34m,\u001b[0m \u001b[0my_test\u001b[0m\u001b[0;34m,\u001b[0m \u001b[0mlast_test\u001b[0m\u001b[0;34m,\u001b[0m \u001b[0mlegend\u001b[0m\u001b[0;34m=\u001b[0m\u001b[0;34m[\u001b[0m\u001b[0;34m'training'\u001b[0m\u001b[0;34m,\u001b[0m \u001b[0;34m'test'\u001b[0m\u001b[0;34m]\u001b[0m\u001b[0;34m,\u001b[0m \u001b[0mprefix\u001b[0m\u001b[0;34m=\u001b[0m\u001b[0mPREFIX\u001b[0m\u001b[0;34m,\u001b[0m \u001b[0msuffix\u001b[0m\u001b[0;34m=\u001b[0m\u001b[0mSUFFIX\u001b[0m\u001b[0;34m,\u001b[0m \u001b[0mname\u001b[0m\u001b[0;34m=\u001b[0m\u001b[0;34m'lr'\u001b[0m\u001b[0;34m)\u001b[0m\u001b[0;34m\u001b[0m\u001b[0;34m\u001b[0m\u001b[0m\n",
      "\u001b[0;32m~/documents/ml-sft-trunc/ml-sft-trunc-model-dep/analysis.py\u001b[0m in \u001b[0;36mmake_plots\u001b[0;34m(estimator, X, y, y_finite, name, prefix, suffix, figsize)\u001b[0m\n\u001b[1;32m    248\u001b[0m     sns.distplot(resid_ratio,\n\u001b[1;32m    249\u001b[0m                  \u001b[0mkde\u001b[0m\u001b[0;34m=\u001b[0m\u001b[0;32mFalse\u001b[0m\u001b[0;34m,\u001b[0m\u001b[0;34m\u001b[0m\u001b[0;34m\u001b[0m\u001b[0m\n\u001b[0;32m--> 250\u001b[0;31m                  \u001b[0max\u001b[0m\u001b[0;34m=\u001b[0m\u001b[0mhist_ratio\u001b[0m\u001b[0;34m\u001b[0m\u001b[0;34m\u001b[0m\u001b[0m\n\u001b[0m\u001b[1;32m    251\u001b[0m                 )\n\u001b[1;32m    252\u001b[0m     hist_ratio.set(title='',\n",
      "\u001b[0;32m~/conda/envs/ml-sft-trunc/lib/python3.7/site-packages/seaborn/distributions.py\u001b[0m in \u001b[0;36mdistplot\u001b[0;34m(a, bins, hist, kde, rug, fit, hist_kws, kde_kws, rug_kws, fit_kws, color, vertical, norm_hist, axlabel, label, ax)\u001b[0m\n\u001b[1;32m    213\u001b[0m     \u001b[0;32mif\u001b[0m \u001b[0mhist\u001b[0m\u001b[0;34m:\u001b[0m\u001b[0;34m\u001b[0m\u001b[0;34m\u001b[0m\u001b[0m\n\u001b[1;32m    214\u001b[0m         \u001b[0;32mif\u001b[0m \u001b[0mbins\u001b[0m \u001b[0;32mis\u001b[0m \u001b[0;32mNone\u001b[0m\u001b[0;34m:\u001b[0m\u001b[0;34m\u001b[0m\u001b[0;34m\u001b[0m\u001b[0m\n\u001b[0;32m--> 215\u001b[0;31m             \u001b[0mbins\u001b[0m \u001b[0;34m=\u001b[0m \u001b[0mmin\u001b[0m\u001b[0;34m(\u001b[0m\u001b[0m_freedman_diaconis_bins\u001b[0m\u001b[0;34m(\u001b[0m\u001b[0ma\u001b[0m\u001b[0;34m)\u001b[0m\u001b[0;34m,\u001b[0m \u001b[0;36m50\u001b[0m\u001b[0;34m)\u001b[0m\u001b[0;34m\u001b[0m\u001b[0;34m\u001b[0m\u001b[0m\n\u001b[0m\u001b[1;32m    216\u001b[0m         \u001b[0mhist_kws\u001b[0m\u001b[0;34m.\u001b[0m\u001b[0msetdefault\u001b[0m\u001b[0;34m(\u001b[0m\u001b[0;34m\"alpha\"\u001b[0m\u001b[0;34m,\u001b[0m \u001b[0;36m0.4\u001b[0m\u001b[0;34m)\u001b[0m\u001b[0;34m\u001b[0m\u001b[0;34m\u001b[0m\u001b[0m\n\u001b[1;32m    217\u001b[0m         \u001b[0mhist_kws\u001b[0m\u001b[0;34m.\u001b[0m\u001b[0msetdefault\u001b[0m\u001b[0;34m(\u001b[0m\u001b[0;34m\"density\"\u001b[0m\u001b[0;34m,\u001b[0m \u001b[0mnorm_hist\u001b[0m\u001b[0;34m)\u001b[0m\u001b[0;34m\u001b[0m\u001b[0;34m\u001b[0m\u001b[0m\n",
      "\u001b[0;32m~/conda/envs/ml-sft-trunc/lib/python3.7/site-packages/seaborn/distributions.py\u001b[0m in \u001b[0;36m_freedman_diaconis_bins\u001b[0;34m(a)\u001b[0m\n\u001b[1;32m     33\u001b[0m         \u001b[0;32mreturn\u001b[0m \u001b[0mint\u001b[0m\u001b[0;34m(\u001b[0m\u001b[0mnp\u001b[0m\u001b[0;34m.\u001b[0m\u001b[0msqrt\u001b[0m\u001b[0;34m(\u001b[0m\u001b[0ma\u001b[0m\u001b[0;34m.\u001b[0m\u001b[0msize\u001b[0m\u001b[0;34m)\u001b[0m\u001b[0;34m)\u001b[0m\u001b[0;34m\u001b[0m\u001b[0;34m\u001b[0m\u001b[0m\n\u001b[1;32m     34\u001b[0m     \u001b[0;32melse\u001b[0m\u001b[0;34m:\u001b[0m\u001b[0;34m\u001b[0m\u001b[0;34m\u001b[0m\u001b[0m\n\u001b[0;32m---> 35\u001b[0;31m         \u001b[0;32mreturn\u001b[0m \u001b[0mint\u001b[0m\u001b[0;34m(\u001b[0m\u001b[0mnp\u001b[0m\u001b[0;34m.\u001b[0m\u001b[0mceil\u001b[0m\u001b[0;34m(\u001b[0m\u001b[0;34m(\u001b[0m\u001b[0ma\u001b[0m\u001b[0;34m.\u001b[0m\u001b[0mmax\u001b[0m\u001b[0;34m(\u001b[0m\u001b[0;34m)\u001b[0m \u001b[0;34m-\u001b[0m \u001b[0ma\u001b[0m\u001b[0;34m.\u001b[0m\u001b[0mmin\u001b[0m\u001b[0;34m(\u001b[0m\u001b[0;34m)\u001b[0m\u001b[0;34m)\u001b[0m \u001b[0;34m/\u001b[0m \u001b[0mh\u001b[0m\u001b[0;34m)\u001b[0m\u001b[0;34m)\u001b[0m\u001b[0;34m\u001b[0m\u001b[0;34m\u001b[0m\u001b[0m\n\u001b[0m\u001b[1;32m     36\u001b[0m \u001b[0;34m\u001b[0m\u001b[0m\n\u001b[1;32m     37\u001b[0m \u001b[0;34m\u001b[0m\u001b[0m\n",
      "\u001b[0;31mValueError\u001b[0m: cannot convert float NaN to integer"
     ]
    },
    {
     "data": {
      "image/png": "[encoded data removed]",
      "text/plain": [
       "<Figure size 432x360 with 1 Axes>"
      ]
     },
     "metadata": {},
     "output_type": "display_data"
    }
   ],
   "source": [
    "make_plots(estimator, X_train, y_train, last_train, prefix=PREFIX, suffix=SUFFIX, name='train_lr')\n",
    "make_plots(estimator, X_test, y_test, last_test, prefix=PREFIX, suffix=SUFFIX, name='test_lr')\n",
    "compare_plots(estimator, X_train, y_train, last_train, X_test, y_test, last_test, legend=['training', 'test'], prefix=PREFIX, suffix=SUFFIX, name='lr')"
   ]
  },
  {
   "cell_type": "code",
   "execution_count": null,
   "metadata": {
    "papermill": {
     "duration": null,
     "end_time": null,
     "exception": null,
     "start_time": null,
     "status": "pending"
    },
    "tags": []
   },
   "outputs": [],
   "source": [
    "Image(pimg(PREFIX + 'lr_residual_histogram_compare' + SUFFIX + '.png'), width=480)"
   ]
  },
  {
   "cell_type": "code",
   "execution_count": null,
   "metadata": {
    "papermill": {
     "duration": null,
     "end_time": null,
     "exception": null,
     "start_time": null,
     "status": "pending"
    },
    "tags": []
   },
   "outputs": [],
   "source": [
    "Image(pimg(PREFIX + 'lr_ratio_histogram_compare' + SUFFIX + '.png'), width=480)"
   ]
  },
  {
   "cell_type": "code",
   "execution_count": null,
   "metadata": {
    "papermill": {
     "duration": null,
     "end_time": null,
     "exception": null,
     "start_time": null,
     "status": "pending"
    },
    "tags": []
   },
   "outputs": [],
   "source": [
    "Image(pimg(PREFIX + 'lr_residual_scatterplot_compare' + SUFFIX + '.png'), width=480)"
   ]
  },
  {
   "cell_type": "code",
   "execution_count": null,
   "metadata": {
    "papermill": {
     "duration": null,
     "end_time": null,
     "exception": null,
     "start_time": null,
     "status": "pending"
    },
    "tags": []
   },
   "outputs": [],
   "source": [
    "Image(pimg(PREFIX + 'lr_ratio_scatterplot_compare' + SUFFIX + '.png'), width=480)"
   ]
  },
  {
   "cell_type": "markdown",
   "metadata": {
    "papermill": {
     "duration": null,
     "end_time": null,
     "exception": null,
     "start_time": null,
     "status": "pending"
    },
    "tags": []
   },
   "source": [
    "### Support Vector Machine (w/ Gaussian kernel)"
   ]
  },
  {
   "cell_type": "code",
   "execution_count": null,
   "metadata": {
    "papermill": {
     "duration": null,
     "end_time": null,
     "exception": null,
     "start_time": null,
     "status": "pending"
    },
    "scrolled": true,
    "tags": []
   },
   "outputs": [],
   "source": [
    "spaces    = {'gamma':   Real(1.0e-4, 1.0e1, prior='log-uniform'),\n",
    "             'C':       Real(1.0e-8, 1.0e-1, prior='log-uniform'),\n",
    "             'epsilon': Real(1.0e-4, 1.0e-1, prior='log-uniform')\n",
    "            }\n",
    "estimator = BayesSearchCV(SVR(kernel='rbf', tol=1.0e-5),\n",
    "                          spaces,\n",
    "                          n_iter=100,\n",
    "                          scoring='neg_mean_squared_error',\n",
    "                          n_jobs=-1,\n",
    "                          cv=cv,\n",
    "                          random_state=RAND\n",
    "                         )         \n",
    "\n",
    "# fit the estimator\n",
    "t = time.time()\n",
    "estimator = estimator.fit(X_train, y_train)\n",
    "t = time.time() - t\n",
    "print(f'Optimisation time: {t:.3f} seconds.')"
   ]
  },
  {
   "cell_type": "code",
   "execution_count": null,
   "metadata": {
    "papermill": {
     "duration": null,
     "end_time": null,
     "exception": null,
     "start_time": null,
     "status": "pending"
    },
    "tags": []
   },
   "outputs": [],
   "source": [
    "best_estimator, cv_score, best_hyperparameters = statisticsCV(estimator, cv)\n",
    "print(f'CV score: {-cv_score[0]:.3f} ± {cv_score[1]:.3f}')"
   ]
  },
  {
   "cell_type": "code",
   "execution_count": null,
   "metadata": {
    "papermill": {
     "duration": null,
     "end_time": null,
     "exception": null,
     "start_time": null,
     "status": "pending"
    },
    "tags": []
   },
   "outputs": [],
   "source": [
    "# save best estimator\n",
    "joblib.dump(best_estimator, pmod(PREFIX + 'svr' + SUFFIX + '.pkl'))"
   ]
  },
  {
   "cell_type": "code",
   "execution_count": null,
   "metadata": {
    "papermill": {
     "duration": null,
     "end_time": null,
     "exception": null,
     "start_time": null,
     "status": "pending"
    },
    "tags": []
   },
   "outputs": [],
   "source": [
    "# save the hyperparameters\n",
    "best_hyperparameters.to_csv(pmet(PREFIX + 'svr_hyperparameters' + SUFFIX + '.csv'))\n",
    "best_hyperparameters"
   ]
  },
  {
   "cell_type": "code",
   "execution_count": null,
   "metadata": {
    "papermill": {
     "duration": null,
     "end_time": null,
     "exception": null,
     "start_time": null,
     "status": "pending"
    },
    "tags": []
   },
   "outputs": [],
   "source": [
    "train_metrics = make_predictions(best_estimator, X_train, y_train, last_train, prefix=PREFIX, suffix=SUFFIX, name='train_svr')\n",
    "test_metrics  = make_predictions(best_estimator, X_test, y_test, last_test, prefix=PREFIX, suffix=SUFFIX, name='test_svr')\n",
    "\n",
    "# concatenate the prediction results\n",
    "metrics = pd.concat([train_metrics, test_metrics], axis=0).transpose()\n",
    "metrics.to_csv(pmet(PREFIX + 'svr_metrics' + SUFFIX + '.csv'))\n",
    "metrics"
   ]
  },
  {
   "cell_type": "code",
   "execution_count": null,
   "metadata": {
    "papermill": {
     "duration": null,
     "end_time": null,
     "exception": null,
     "start_time": null,
     "status": "pending"
    },
    "tags": []
   },
   "outputs": [],
   "source": [
    "make_plots(estimator, X_train, y_train, last_train, prefix=PREFIX, suffix=SUFFIX, name='train_svr')\n",
    "make_plots(estimator, X_test, y_test, last_test, prefix=PREFIX, suffix=SUFFIX, name='test_svr')\n",
    "compare_plots(estimator, X_train, y_train, last_train, X_test, y_test, last_test, legend=['training', 'test'], prefix=PREFIX, suffix=SUFFIX, name='svr')"
   ]
  },
  {
   "cell_type": "code",
   "execution_count": null,
   "metadata": {
    "papermill": {
     "duration": null,
     "end_time": null,
     "exception": null,
     "start_time": null,
     "status": "pending"
    },
    "tags": []
   },
   "outputs": [],
   "source": [
    "Image(pimg(PREFIX + 'svr_residual_histogram_compare' + SUFFIX + '.png'), width=480)"
   ]
  },
  {
   "cell_type": "code",
   "execution_count": null,
   "metadata": {
    "papermill": {
     "duration": null,
     "end_time": null,
     "exception": null,
     "start_time": null,
     "status": "pending"
    },
    "tags": []
   },
   "outputs": [],
   "source": [
    "Image(pimg(PREFIX + 'svr_ratio_histogram_compare' + SUFFIX + '.png'), width=480)"
   ]
  },
  {
   "cell_type": "code",
   "execution_count": null,
   "metadata": {
    "papermill": {
     "duration": null,
     "end_time": null,
     "exception": null,
     "start_time": null,
     "status": "pending"
    },
    "tags": []
   },
   "outputs": [],
   "source": [
    "Image(pimg(PREFIX + 'svr_residual_scatterplot_compare' + SUFFIX + '.png'), width=480)"
   ]
  },
  {
   "cell_type": "code",
   "execution_count": null,
   "metadata": {
    "papermill": {
     "duration": null,
     "end_time": null,
     "exception": null,
     "start_time": null,
     "status": "pending"
    },
    "tags": []
   },
   "outputs": [],
   "source": [
    "Image(pimg(PREFIX + 'svr_ratio_scatterplot_compare' + SUFFIX + '.png'), width=480)"
   ]
  },
  {
   "cell_type": "markdown",
   "metadata": {
    "papermill": {
     "duration": null,
     "end_time": null,
     "exception": null,
     "start_time": null,
     "status": "pending"
    },
    "tags": []
   },
   "source": [
    "### Gradient Boosted Decision Trees"
   ]
  },
  {
   "cell_type": "code",
   "execution_count": null,
   "metadata": {
    "papermill": {
     "duration": null,
     "end_time": null,
     "exception": null,
     "start_time": null,
     "status": "pending"
    },
    "scrolled": true,
    "tags": []
   },
   "outputs": [],
   "source": [
    "spaces    = {'num_leaves':       Integer(2, 100),\n",
    "             'max_depth':        Integer(2, 25),\n",
    "             'learning_rate':    Real(1e-5, 1e-1, prior='log-uniform'),\n",
    "             'n_estimators':     Integer(1e1, 2e3, prior='log-uniform'),\n",
    "             'subsample':        Real(0.5, 0.9),\n",
    "             'colsample_bytree': Real(0.7, 1.0),\n",
    "             'min_child_weight': Real(1.0e-3, 1.0e-1, prior='log-uniform'),\n",
    "             'reg_alpha':        Real(1.0e-5, 1.0e1, prior='log-uniform'),\n",
    "             'reg_lambda':       Real(1.0e-5, 1.0e1, prior='log-uniform')\n",
    "            }\n",
    "estimator = BayesSearchCV(LGBMRegressor(boosting_type='gbdt',\n",
    "                                        objective='regression',\n",
    "                                        subsample_freq=1,\n",
    "                                        n_jobs=-1,\n",
    "                                        importance_type='gain'\n",
    "                                       ),\n",
    "                          spaces,\n",
    "                          n_iter=100,\n",
    "                          scoring='neg_mean_squared_error',\n",
    "                          n_jobs=-1,\n",
    "                          cv=cv,\n",
    "                          random_state=RAND\n",
    "                         )         \n",
    "\n",
    "# fit the estimator\n",
    "t = time.time()\n",
    "estimator = estimator.fit(X_train, y_train)\n",
    "t = time.time() - t\n",
    "print(f'Optimisation time: {t:.3f} seconds.')"
   ]
  },
  {
   "cell_type": "code",
   "execution_count": null,
   "metadata": {
    "papermill": {
     "duration": null,
     "end_time": null,
     "exception": null,
     "start_time": null,
     "status": "pending"
    },
    "tags": []
   },
   "outputs": [],
   "source": [
    "best_estimator, cv_score, best_hyperparameters = statisticsCV(estimator, cv)\n",
    "print(f'CV score: {-cv_score[0]:.3f} ± {cv_score[1]:.3f}')"
   ]
  },
  {
   "cell_type": "code",
   "execution_count": null,
   "metadata": {
    "papermill": {
     "duration": null,
     "end_time": null,
     "exception": null,
     "start_time": null,
     "status": "pending"
    },
    "tags": []
   },
   "outputs": [],
   "source": [
    "# save best estimator\n",
    "joblib.dump(best_estimator, pmod(PREFIX + 'gbdt' + SUFFIX + '.pkl'))"
   ]
  },
  {
   "cell_type": "code",
   "execution_count": null,
   "metadata": {
    "papermill": {
     "duration": null,
     "end_time": null,
     "exception": null,
     "start_time": null,
     "status": "pending"
    },
    "tags": []
   },
   "outputs": [],
   "source": [
    "# save the hyperparameters\n",
    "best_hyperparameters.to_csv(pmet(PREFIX + 'gbdt_hyperparameters' + SUFFIX + '.csv'))\n",
    "best_hyperparameters"
   ]
  },
  {
   "cell_type": "code",
   "execution_count": null,
   "metadata": {
    "papermill": {
     "duration": null,
     "end_time": null,
     "exception": null,
     "start_time": null,
     "status": "pending"
    },
    "tags": []
   },
   "outputs": [],
   "source": [
    "train_metrics = make_predictions(best_estimator, X_train, y_train, last_train, prefix=PREFIX, suffix=SUFFIX, name='train_gbdt')\n",
    "test_metrics  = make_predictions(best_estimator, X_test, y_test, last_test, prefix=PREFIX, suffix=SUFFIX, name='test_gbdt')\n",
    "\n",
    "# concatenate the prediction results\n",
    "metrics = pd.concat([train_metrics, test_metrics], axis=0).transpose()\n",
    "metrics.to_csv(pmet(PREFIX + 'gbdt_metrics' + SUFFIX + '.csv'))\n",
    "metrics"
   ]
  },
  {
   "cell_type": "code",
   "execution_count": null,
   "metadata": {
    "papermill": {
     "duration": null,
     "end_time": null,
     "exception": null,
     "start_time": null,
     "status": "pending"
    },
    "tags": []
   },
   "outputs": [],
   "source": [
    "make_plots(estimator, X_train, y_train, last_train, prefix=PREFIX, suffix=SUFFIX, name='train_gbdt')\n",
    "make_plots(estimator, X_test, y_test, last_test, prefix=PREFIX, suffix=SUFFIX, name='test_gbdt')\n",
    "compare_plots(estimator, X_train, y_train, last_train, X_test, y_test, last_test, legend=['training', 'test'], prefix=PREFIX, suffix=SUFFIX, name='gbdt')"
   ]
  },
  {
   "cell_type": "code",
   "execution_count": null,
   "metadata": {
    "papermill": {
     "duration": null,
     "end_time": null,
     "exception": null,
     "start_time": null,
     "status": "pending"
    },
    "tags": []
   },
   "outputs": [],
   "source": [
    "Image(pimg(PREFIX + 'gbdt_residual_histogram_compare' + SUFFIX + '.png'), width=480)"
   ]
  },
  {
   "cell_type": "code",
   "execution_count": null,
   "metadata": {
    "papermill": {
     "duration": null,
     "end_time": null,
     "exception": null,
     "start_time": null,
     "status": "pending"
    },
    "tags": []
   },
   "outputs": [],
   "source": [
    "Image(pimg(PREFIX + 'gbdt_ratio_histogram_compare' + SUFFIX + '.png'), width=480)"
   ]
  },
  {
   "cell_type": "code",
   "execution_count": null,
   "metadata": {
    "papermill": {
     "duration": null,
     "end_time": null,
     "exception": null,
     "start_time": null,
     "status": "pending"
    },
    "tags": []
   },
   "outputs": [],
   "source": [
    "Image(pimg(PREFIX + 'gbdt_residual_scatterplot_compare' + SUFFIX + '.png'), width=480)"
   ]
  },
  {
   "cell_type": "code",
   "execution_count": null,
   "metadata": {
    "papermill": {
     "duration": null,
     "end_time": null,
     "exception": null,
     "start_time": null,
     "status": "pending"
    },
    "tags": []
   },
   "outputs": [],
   "source": [
    "Image(pimg(PREFIX + 'gbdt_ratio_scatterplot_compare' + SUFFIX + '.png'), width=480)"
   ]
  },
  {
   "cell_type": "markdown",
   "metadata": {
    "papermill": {
     "duration": null,
     "end_time": null,
     "exception": null,
     "start_time": null,
     "status": "pending"
    },
    "tags": []
   },
   "source": [
    "### Artificial Neural Network (w/ Keras)"
   ]
  },
  {
   "cell_type": "code",
   "execution_count": null,
   "metadata": {
    "papermill": {
     "duration": null,
     "end_time": null,
     "exception": null,
     "start_time": null,
     "status": "pending"
    },
    "tags": []
   },
   "outputs": [],
   "source": [
    "keras.backend.clear_session()\n",
    "\n",
    "ann = keras.models.Sequential([keras.layers.Input(shape=X_train_nn.shape[1:], name='input'),\n",
    "                               #####################################################################\n",
    "                               keras.layers.Dense(50,\n",
    "                                                  #kernel_regularizer=keras.regularizers.l2(1.0e-5),\n",
    "                                                 ),\n",
    "                               keras.layers.LeakyReLU(0.05),\n",
    "                               keras.layers.Dropout(0.03),\n",
    "                               #####################################################################\n",
    "                               keras.layers.Dense(30,\n",
    "                                                  #kernel_regularizer=keras.regularizers.l2(1.0e-5),\n",
    "                                                 ),\n",
    "                               keras.layers.LeakyReLU(0.05),\n",
    "                               keras.layers.Dropout(0.05),\n",
    "                               #####################################################################\n",
    "                               keras.layers.Dense(20,\n",
    "                                                  #kernel_regularizer=keras.regularizers.l2(1.0e-5),\n",
    "                                                 ),\n",
    "                               keras.layers.LeakyReLU(0.05),\n",
    "                               keras.layers.Dropout(0.05),\n",
    "                               #####################################################################\n",
    "                               keras.layers.Dense(20,\n",
    "                                                  #kernel_regularizer=keras.regularizers.l2(1.0e-5),\n",
    "                                                 ),\n",
    "                               keras.layers.LeakyReLU(0.05),\n",
    "                               keras.layers.Dropout(0.05),\n",
    "                               #####################################################################\n",
    "                               keras.layers.Dense(10,\n",
    "                                                  #kernel_regularizer=keras.regularizers.l2(1.0e-5),\n",
    "                                                 ),\n",
    "                               keras.layers.LeakyReLU(0.05),\n",
    "                               #####################################################################\n",
    "                               keras.layers.Dense(10,\n",
    "                                                  #kernel_regularizer=keras.regularizers.l2(1.0e-5),\n",
    "                                                 ),\n",
    "                               keras.layers.LeakyReLU(0.05),\n",
    "                               #####################################################################\n",
    "                               keras.layers.Dense(1, name='exp')\n",
    "                              ],\n",
    "                              name='wzw'\n",
    "                             )\n",
    "ann.compile(optimizer=keras.optimizers.Adam(learning_rate=1.0e-3),\n",
    "            loss=keras.losses.MeanSquaredError(),\n",
    "            metrics=[keras.metrics.MeanSquaredError(), keras.metrics.MeanAbsoluteError()]\n",
    "           )\n",
    "ann.summary()"
   ]
  },
  {
   "cell_type": "code",
   "execution_count": null,
   "metadata": {
    "papermill": {
     "duration": null,
     "end_time": null,
     "exception": null,
     "start_time": null,
     "status": "pending"
    },
    "tags": []
   },
   "outputs": [],
   "source": [
    "# save figure\n",
    "ann_dot = keras.utils.model_to_dot(ann,\n",
    "                                   #rankdir='LR',\n",
    "                                   rankdir='TB',\n",
    "                                   show_shapes=True,\n",
    "                                   dpi=150)\n",
    "ann_dot.write_pdf(pimg(PREFIX + 'ann_arch' + SUFFIX + '.pdf'))\n",
    "Image(ann_dot.create_png(), width=320)"
   ]
  },
  {
   "cell_type": "code",
   "execution_count": null,
   "metadata": {
    "papermill": {
     "duration": null,
     "end_time": null,
     "exception": null,
     "start_time": null,
     "status": "pending"
    },
    "tags": []
   },
   "outputs": [],
   "source": [
    "def lr_scheduler(epoch, lr):\n",
    "    '''\n",
    "    Schedule the learning rate:\n",
    "    \n",
    "    Arguments:\n",
    "        epoch: the current epoch,\n",
    "        lr:    the current learning rate.\n",
    "    '''\n",
    "    if epoch < 1000:\n",
    "        return lr\n",
    "    else:\n",
    "        if lr <= 1.0e-6:\n",
    "            return lr\n",
    "        else:\n",
    "            return lr * tf.math.exp(-1.0e-3)"
   ]
  },
  {
   "cell_type": "code",
   "execution_count": null,
   "metadata": {
    "papermill": {
     "duration": null,
     "end_time": null,
     "exception": null,
     "start_time": null,
     "status": "pending"
    },
    "tags": []
   },
   "outputs": [],
   "source": [
    "t = time.time()\n",
    "ann_history = ann.fit(x=X_train_nn,\n",
    "                      y=y_train_nn,\n",
    "                      batch_size=32,\n",
    "                      epochs=20000,\n",
    "                      verbose=0,\n",
    "                      callbacks=[keras.callbacks.EarlyStopping(patience=2500, restore_best_weights=True, verbose=0),\n",
    "                                 keras.callbacks.LearningRateScheduler(lr_scheduler, verbose=0),\n",
    "                                 keras.callbacks.ModelCheckpoint(pmod(PREFIX + 'ann' + SUFFIX + '.h5'), verbose=0, save_best_only=True)\n",
    "                                ],\n",
    "                      validation_data=(X_val_nn, y_val_nn)\n",
    "                     )\n",
    "t = time.time() - t\n",
    "print(f'Training took {t:.3f} seconds.')"
   ]
  },
  {
   "cell_type": "code",
   "execution_count": null,
   "metadata": {
    "papermill": {
     "duration": null,
     "end_time": null,
     "exception": null,
     "start_time": null,
     "status": "pending"
    },
    "tags": []
   },
   "outputs": [],
   "source": [
    "# save and display history\n",
    "ann_history_obj = pd.DataFrame(ann_history.history)\n",
    "ann_history_obj.to_csv(pmod(PREFIX + 'ann_history' + SUFFIX + '.csv'), index=False)\n",
    "print(f'No. of epochs: {ann_history_obj.shape[0]:d}')"
   ]
  },
  {
   "cell_type": "code",
   "execution_count": null,
   "metadata": {
    "papermill": {
     "duration": null,
     "end_time": null,
     "exception": null,
     "start_time": null,
     "status": "pending"
    },
    "tags": []
   },
   "outputs": [],
   "source": [
    "history_plots(ann_history_obj, prefix=PREFIX, suffix=SUFFIX)"
   ]
  },
  {
   "cell_type": "code",
   "execution_count": null,
   "metadata": {
    "papermill": {
     "duration": null,
     "end_time": null,
     "exception": null,
     "start_time": null,
     "status": "pending"
    },
    "tags": []
   },
   "outputs": [],
   "source": [
    "Image(pimg(PREFIX + 'ann_loss' + SUFFIX + '.png'), width=480)"
   ]
  },
  {
   "cell_type": "code",
   "execution_count": null,
   "metadata": {
    "papermill": {
     "duration": null,
     "end_time": null,
     "exception": null,
     "start_time": null,
     "status": "pending"
    },
    "tags": []
   },
   "outputs": [],
   "source": [
    "Image(pimg(PREFIX + 'ann_lr' + SUFFIX + '.png'), width=480)"
   ]
  },
  {
   "cell_type": "code",
   "execution_count": null,
   "metadata": {
    "papermill": {
     "duration": null,
     "end_time": null,
     "exception": null,
     "start_time": null,
     "status": "pending"
    },
    "tags": []
   },
   "outputs": [],
   "source": [
    "train_metrics = make_predictions(ann, X_train_nn, y_train_nn, last_train_nn, prefix=PREFIX, suffix=SUFFIX, name='train_ann', tensor=True)\n",
    "val_metrics   = make_predictions(ann, X_val_nn, y_val_nn, last_val_nn, prefix=PREFIX, suffix=SUFFIX, name='val_ann', tensor=True)\n",
    "test_metrics  = make_predictions(ann, X_test_nn, y_test_nn, last_test_nn, prefix=PREFIX, suffix=SUFFIX, name='test_ann', tensor=True)\n",
    "\n",
    "# concatenate the prediction results\n",
    "metrics = pd.concat([train_metrics, val_metrics, test_metrics], axis=0).transpose()\n",
    "metrics.to_csv(pmet(PREFIX + 'ann_metrics' + SUFFIX + '.csv'))\n",
    "metrics"
   ]
  },
  {
   "cell_type": "code",
   "execution_count": null,
   "metadata": {
    "papermill": {
     "duration": null,
     "end_time": null,
     "exception": null,
     "start_time": null,
     "status": "pending"
    },
    "tags": []
   },
   "outputs": [],
   "source": [
    "make_plots(ann, X_train_nn, y_train_nn, last_train_nn, prefix=PREFIX, suffix=SUFFIX, name='train_ann')\n",
    "make_plots(ann, X_val_nn, y_val_nn, last_val_nn, prefix=PREFIX, suffix=SUFFIX, name='val_ann')\n",
    "make_plots(ann, X_test_nn, y_test_nn, last_test_nn, prefix=PREFIX, suffix=SUFFIX, name='test_ann')\n",
    "compare_plots_val(ann,\n",
    "                  X_train_nn, y_train_nn, last_train_nn,\n",
    "                  X_val_nn, y_val_nn, last_val_nn,\n",
    "                  X_test_nn, y_test_nn, last_test_nn,\n",
    "                  legend=['training', 'validation', 'test'],\n",
    "                  prefix=PREFIX,\n",
    "                  suffix=SUFFIX,\n",
    "                  name='ann'\n",
    "                 )"
   ]
  },
  {
   "cell_type": "code",
   "execution_count": null,
   "metadata": {
    "papermill": {
     "duration": null,
     "end_time": null,
     "exception": null,
     "start_time": null,
     "status": "pending"
    },
    "tags": []
   },
   "outputs": [],
   "source": [
    "Image(pimg(PREFIX + 'ann_residual_histogram_compare' + SUFFIX + '.png'), width=480)"
   ]
  },
  {
   "cell_type": "code",
   "execution_count": null,
   "metadata": {
    "papermill": {
     "duration": null,
     "end_time": null,
     "exception": null,
     "start_time": null,
     "status": "pending"
    },
    "tags": []
   },
   "outputs": [],
   "source": [
    "Image(pimg(PREFIX + 'ann_ratio_histogram_compare' + SUFFIX + '.png'), width=480)"
   ]
  },
  {
   "cell_type": "code",
   "execution_count": null,
   "metadata": {
    "papermill": {
     "duration": null,
     "end_time": null,
     "exception": null,
     "start_time": null,
     "status": "pending"
    },
    "tags": []
   },
   "outputs": [],
   "source": [
    "Image(pimg(PREFIX + 'ann_residual_scatterplot_compare' + SUFFIX + '.png'), width=480)"
   ]
  },
  {
   "cell_type": "code",
   "execution_count": null,
   "metadata": {
    "papermill": {
     "duration": null,
     "end_time": null,
     "exception": null,
     "start_time": null,
     "status": "pending"
    },
    "tags": []
   },
   "outputs": [],
   "source": [
    "Image(pimg(PREFIX + 'ann_ratio_scatterplot_compare' + SUFFIX + '.png'), width=480)"
   ]
  }
 ],
 "metadata": {
  "kernelspec": {
   "display_name": "Python 3",
   "language": "python",
   "name": "python3"
  },
  "language_info": {
   "codemirror_mode": {
    "name": "ipython",
    "version": 3
   },
   "file_extension": ".py",
   "mimetype": "text/x-python",
   "name": "python",
   "nbconvert_exporter": "python",
   "pygments_lexer": "ipython3",
   "version": "3.7.8"
  },
  "papermill": {
   "duration": 88.169037,
   "end_time": "2020-08-28T18:59:32.035076",
   "environment_variables": {},
   "exception": true,
   "input_path": "./wzw_ml_angle_weight0.ipynb",
   "output_path": "wzw_ml_angle_weight0_output.ipynb",
   "parameters": {},
   "start_time": "2020-08-28T18:58:03.866039",
   "version": "2.1.2"
  }
 },
 "nbformat": 4,
 "nbformat_minor": 4
}