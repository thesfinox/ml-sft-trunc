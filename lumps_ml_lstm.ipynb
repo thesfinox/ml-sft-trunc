{
 "cells": [
  {
   "cell_type": "markdown",
   "metadata": {
    "papermill": {
     "duration": 0.030806,
     "end_time": "2020-08-27T17:28:23.253343",
     "exception": false,
     "start_time": "2020-08-27T17:28:23.222537",
     "status": "completed"
    },
    "tags": []
   },
   "source": [
    "# Machine Learning for String Field Theory\n",
    "\n",
    "*H. Erbin, R. Finotello, M. Kudrna, M. Schnabl*\n",
    "\n",
    "## Abstract\n",
    "\n",
    "In the framework of bosonic **Open String Field Theory** (OSFT), we consider several observables characterised by conformal weight, periodicity of the oscillations and the position of vacua in the potential for various values of truncated mass level.\n",
    "We focus on the prediction of the extrapolated value for the level-$\\infty$ truncation using Machine Learning (ML) techniques.\n",
    "\n",
    "## Synopsis\n",
    "\n",
    "In this notebook we train the machine learning algorithms on the lumps dataset.\n",
    "We use a recurrent neural network with LSTM cells to predict the infinite level extrapolation from finite level data.\n",
    "\n",
    "## General Observations\n",
    "\n",
    "The idea is to improve the finite level predictions and reaching a result as close as possible to the extrapolated label.\n",
    "In general we can first rescale all the labels to be in the interval $[-1, 1]$ (the lumps should already be in that interval).\n",
    "We need to find a strategy to evaluate the extrapolated labels with respect to the finite level truncation."
   ]
  },
  {
   "cell_type": "code",
   "execution_count": 1,
   "metadata": {
    "papermill": {
     "duration": 1.14016,
     "end_time": "2020-08-27T17:28:24.417972",
     "exception": false,
     "start_time": "2020-08-27T17:28:23.277812",
     "status": "completed"
    },
    "tags": []
   },
   "outputs": [],
   "source": [
    "%load_ext autoreload\n",
    "%autoreload 2\n",
    "\n",
    "import pandas as pd\n",
    "import numpy as np\n",
    "import seaborn as sns\n",
    "import matplotlib.pyplot as plt\n",
    "import re\n",
    "import os\n",
    "import joblib\n",
    "import time\n",
    "from IPython.display import Image\n",
    "import tensorflow as tf\n",
    "from sklearn.preprocessing import MinMaxScaler, StandardScaler, RobustScaler\n",
    "from sklearn.model_selection import KFold, train_test_split\n",
    "from sklearn.metrics import mean_squared_error, mean_absolute_error, r2_score\n",
    "from sklearn.linear_model import Ridge\n",
    "from sklearn.svm import SVR\n",
    "from lightgbm import LGBMRegressor\n",
    "from tensorflow import keras\n",
    "from skopt import BayesSearchCV\n",
    "from skopt.space import Real, Integer, Categorical\n",
    "from analysis import *\n",
    "\n",
    "import warnings\n",
    "warnings.filterwarnings('ignore', message='The objective has been evaluated at this point before.')\n",
    "\n",
    "# set matplot\n",
    "sns.set()\n",
    "SUFFIX = '_lstm'\n",
    "\n",
    "# set memory growth\n",
    "gpus = tf.config.experimental.list_physical_devices('GPU')\n",
    "if gpus:\n",
    "    try:\n",
    "        for gpu in gpus:\n",
    "            tf.config.experimental.set_memory_growth(gpu, True)\n",
    "    except RuntimeError as e:\n",
    "        print(e)\n",
    "        \n",
    "# set random seed\n",
    "RAND = 42\n",
    "np.random.seed(RAND)\n",
    "tf.random.set_seed(RAND)"
   ]
  },
  {
   "cell_type": "code",
   "execution_count": 2,
   "metadata": {
    "papermill": {
     "duration": 0.044105,
     "end_time": "2020-08-27T17:28:24.486985",
     "exception": false,
     "start_time": "2020-08-27T17:28:24.442880",
     "status": "completed"
    },
    "tags": []
   },
   "outputs": [],
   "source": [
    "# create shortcuts for paths\n",
    "proot = lambda s: os.path.join('.', s)\n",
    "pdata = lambda s: os.path.join(proot('data'), s)\n",
    "pimg  = lambda s: os.path.join(proot('img'), s)\n",
    "pmet  = lambda s: os.path.join(proot('metrics'), s)\n",
    "pmod  = lambda s: os.path.join(proot('models'), s)"
   ]
  },
  {
   "cell_type": "markdown",
   "metadata": {
    "papermill": {
     "duration": 0.024491,
     "end_time": "2020-08-27T17:28:24.535625",
     "exception": false,
     "start_time": "2020-08-27T17:28:24.511134",
     "status": "completed"
    },
    "tags": []
   },
   "source": [
    "## Load the Dataset"
   ]
  },
  {
   "cell_type": "code",
   "execution_count": 3,
   "metadata": {
    "papermill": {
     "duration": 0.049079,
     "end_time": "2020-08-27T17:28:24.609828",
     "exception": false,
     "start_time": "2020-08-27T17:28:24.560749",
     "status": "completed"
    },
    "tags": []
   },
   "outputs": [
    {
     "name": "stdout",
     "output_type": "stream",
     "text": [
      "<class 'pandas.core.frame.DataFrame'>\n",
      "RangeIndex: 718 entries, 0 to 717\n",
      "Data columns (total 22 columns):\n",
      " #   Column    Non-Null Count  Dtype  \n",
      "---  ------    --------------  -----  \n",
      " 0   solution  718 non-null    int64  \n",
      " 1   weight    718 non-null    float64\n",
      " 2   type_2    718 non-null    int64  \n",
      " 3   type_4    718 non-null    int64  \n",
      " 4   level_2   718 non-null    float64\n",
      " 5   level_3   718 non-null    float64\n",
      " 6   level_4   718 non-null    float64\n",
      " 7   level_5   718 non-null    float64\n",
      " 8   level_6   718 non-null    float64\n",
      " 9   level_7   718 non-null    float64\n",
      " 10  level_8   718 non-null    float64\n",
      " 11  level_9   718 non-null    float64\n",
      " 12  level_10  718 non-null    float64\n",
      " 13  level_11  718 non-null    float64\n",
      " 14  level_12  718 non-null    float64\n",
      " 15  level_13  718 non-null    float64\n",
      " 16  level_14  718 non-null    float64\n",
      " 17  level_15  718 non-null    float64\n",
      " 18  level_16  718 non-null    float64\n",
      " 19  level_17  718 non-null    float64\n",
      " 20  level_18  718 non-null    float64\n",
      " 21  exp       718 non-null    float64\n",
      "dtypes: float64(19), int64(3)\n",
      "memory usage: 123.5 KB\n"
     ]
    }
   ],
   "source": [
    "df = pd.read_csv(pdata('lumps.csv'))\n",
    "last = 'level_18'\n",
    "df.info()"
   ]
  },
  {
   "cell_type": "markdown",
   "metadata": {
    "papermill": {
     "duration": 0.023985,
     "end_time": "2020-08-27T17:28:24.660067",
     "exception": false,
     "start_time": "2020-08-27T17:28:24.636082",
     "status": "completed"
    },
    "tags": []
   },
   "source": [
    "We need to:\n",
    "\n",
    "1. define the evaluation metrics,\n",
    "2. divide into training and test sets,\n",
    "3. train the algorithms,\n",
    "4. evaluate each algorithm."
   ]
  },
  {
   "cell_type": "markdown",
   "metadata": {
    "papermill": {
     "duration": 0.023931,
     "end_time": "2020-08-27T17:28:24.708081",
     "exception": false,
     "start_time": "2020-08-27T17:28:24.684150",
     "status": "completed"
    },
    "tags": []
   },
   "source": [
    "## Evaluation Metric\n",
    "\n",
    "In general we use the average ratio between the residuals of predicted level and the last finite truncation level:\n",
    "\\begin{equation}\n",
    "    R(y_{true}, y_{finite}, y_{pred}) = \\frac{1}{N} \\sum\\limits_{i = 1}^N \\log_{10}\\left| \\frac{y_{true}^{(i)} - y_{pred}^{(i)}}{y_{true}^{(i)} - y_{finite}^{(i)}} \\right|\n",
    "\\end{equation}\n",
    "This way a negative result would represent an improvement on finite truncation levels."
   ]
  },
  {
   "cell_type": "markdown",
   "metadata": {
    "papermill": {
     "duration": 0.024205,
     "end_time": "2020-08-27T17:28:24.870897",
     "exception": false,
     "start_time": "2020-08-27T17:28:24.846692",
     "status": "completed"
    },
    "tags": []
   },
   "source": [
    "## Train and Test Sets"
   ]
  },
  {
   "cell_type": "code",
   "execution_count": 4,
   "metadata": {
    "papermill": {
     "duration": 0.059599,
     "end_time": "2020-08-27T17:28:24.954680",
     "exception": false,
     "start_time": "2020-08-27T17:28:24.895081",
     "status": "completed"
    },
    "tags": []
   },
   "outputs": [],
   "source": [
    "train, test = train_test_split(df, train_size=0.9, shuffle=True, random_state=RAND)\n",
    "\n",
    "X_train = train.filter(regex='solution|weight|type.*|level_.*')\n",
    "X_train.to_csv(pdata('lumps_X_train' + SUFFIX + '.csv'), index=False)\n",
    "X_train = X_train.drop(columns=['solution', 'weight', 'type_2', 'type_4']).values\n",
    "\n",
    "X_test  = test.filter(regex='solution|weight|type.*|level_.*')\n",
    "X_test.to_csv(pdata('lumps_X_test' + SUFFIX + '.csv'), index=False)\n",
    "X_test = X_test.drop(columns=['solution', 'weight', 'type_2', 'type_4']).values\n",
    "\n",
    "y_train = train['exp']\n",
    "y_train.to_csv(pdata('lumps_y_train' + SUFFIX + '.csv'), index=False)\n",
    "y_train = y_train.values.reshape(-1,)\n",
    "\n",
    "y_test  = test['exp']\n",
    "y_test.to_csv(pdata('lumps_y_test' + SUFFIX + '.csv'), index=False)\n",
    "y_test = y_test.values.reshape(-1,)"
   ]
  },
  {
   "cell_type": "code",
   "execution_count": 5,
   "metadata": {
    "papermill": {
     "duration": 0.046447,
     "end_time": "2020-08-27T17:28:25.025282",
     "exception": false,
     "start_time": "2020-08-27T17:28:24.978835",
     "status": "completed"
    },
    "tags": []
   },
   "outputs": [
    {
     "name": "stdout",
     "output_type": "stream",
     "text": [
      "Shape of the full training set: X = (646, 17), y = (646,)\n",
      "Shape of the test          set: X = (72, 17),  y = (72,)\n"
     ]
    }
   ],
   "source": [
    "print(f'Shape of the full training set: X = {X_train.shape}, y = {y_train.shape}')\n",
    "print(f'Shape of the test          set: X = {X_test.shape},  y = {y_test.shape}')"
   ]
  },
  {
   "cell_type": "markdown",
   "metadata": {
    "papermill": {
     "duration": 0.024355,
     "end_time": "2020-08-27T17:28:25.073879",
     "exception": false,
     "start_time": "2020-08-27T17:28:25.049524",
     "status": "completed"
    },
    "tags": []
   },
   "source": [
    "We also need a validation set (10% of the samples) for the neural networks:"
   ]
  },
  {
   "cell_type": "code",
   "execution_count": 6,
   "metadata": {
    "papermill": {
     "duration": 0.06577,
     "end_time": "2020-08-27T17:28:25.163971",
     "exception": false,
     "start_time": "2020-08-27T17:28:25.098201",
     "status": "completed"
    },
    "tags": []
   },
   "outputs": [],
   "source": [
    "train, validation = train_test_split(train, test_size=1/9, shuffle=False)\n",
    "\n",
    "X_train_nn = train.filter(regex='solution|weight|type.*|level_.*')\n",
    "X_train_nn.to_csv(pdata('lumps_X_train_nn' + SUFFIX + '.csv'), index=False)\n",
    "X_train_nn = X_train_nn.drop(columns=['solution', 'weight', 'type_2', 'type_4']).values\n",
    "\n",
    "X_val_nn  = validation.filter(regex='solution|weight|type.*|level_.*')\n",
    "X_val_nn.to_csv(pdata('lumps_X_val_nn' + SUFFIX + '.csv'), index=False)\n",
    "X_val_nn = X_val_nn.drop(columns=['solution', 'weight', 'type_2', 'type_4']).values\n",
    "\n",
    "y_train_nn = train['exp']\n",
    "y_train_nn.to_csv(pdata('lumps_y_train_nn' + SUFFIX + '.csv'), index=False)\n",
    "y_train_nn = y_train_nn.values.reshape(-1,)\n",
    "\n",
    "y_val_nn  = validation['exp']\n",
    "y_val_nn.to_csv(pdata('lumps_y_val_nn' + SUFFIX + '.csv'), index=False)\n",
    "y_val_nn = y_val_nn.values.reshape(-1,)\n",
    "\n",
    "y_test_nn = y_test"
   ]
  },
  {
   "cell_type": "code",
   "execution_count": 7,
   "metadata": {
    "papermill": {
     "duration": 0.052291,
     "end_time": "2020-08-27T17:28:25.240503",
     "exception": false,
     "start_time": "2020-08-27T17:28:25.188212",
     "status": "completed"
    },
    "tags": []
   },
   "outputs": [
    {
     "name": "stdout",
     "output_type": "stream",
     "text": [
      "Shape of the training   set (ANN): X = (574, 17), y = (574,)\n",
      "Shape of the validation set (ANN): X = (72, 17),  y = (72,)\n"
     ]
    }
   ],
   "source": [
    "print(f'Shape of the training   set (ANN): X = {X_train_nn.shape}, y = {y_train_nn.shape}')\n",
    "print(f'Shape of the validation set (ANN): X = {X_val_nn.shape},  y = {y_val_nn.shape}')"
   ]
  },
  {
   "cell_type": "markdown",
   "metadata": {
    "papermill": {
     "duration": 0.024471,
     "end_time": "2020-08-27T17:28:25.289509",
     "exception": false,
     "start_time": "2020-08-27T17:28:25.265038",
     "status": "completed"
    },
    "tags": []
   },
   "source": [
    "## Extract the Last Truncation Level"
   ]
  },
  {
   "cell_type": "code",
   "execution_count": 8,
   "metadata": {
    "papermill": {
     "duration": 0.047074,
     "end_time": "2020-08-27T17:28:25.361147",
     "exception": false,
     "start_time": "2020-08-27T17:28:25.314073",
     "status": "completed"
    },
    "tags": []
   },
   "outputs": [],
   "source": [
    "last_train    = X_train[:,-1].reshape(-1,)\n",
    "last_train_nn = X_train_nn[:,-1].reshape(-1,)\n",
    "last_val_nn   = X_val_nn[:,-1].reshape(-1,)\n",
    "last_test     = X_test[:,-1].reshape(-1,)\n",
    "last_test_nn  = X_test[:,-1].reshape(-1,)"
   ]
  },
  {
   "cell_type": "markdown",
   "metadata": {
    "papermill": {
     "duration": 0.024615,
     "end_time": "2020-08-27T17:28:25.410495",
     "exception": false,
     "start_time": "2020-08-27T17:28:25.385880",
     "status": "completed"
    },
    "tags": []
   },
   "source": [
    "## Apply Fourier Transform to Levels"
   ]
  },
  {
   "cell_type": "code",
   "execution_count": 9,
   "metadata": {
    "papermill": {
     "duration": 0.049722,
     "end_time": "2020-08-27T17:28:25.484955",
     "exception": false,
     "start_time": "2020-08-27T17:28:25.435233",
     "status": "completed"
    },
    "tags": []
   },
   "outputs": [],
   "source": [
    "# compute Fourier transform (for real input)\n",
    "levels_train    = np.fft.rfft(X_train[:,3:], axis=1)\n",
    "levels_train_nn = np.fft.rfft(X_train_nn[:,3:], axis=1)\n",
    "levels_val_nn   = np.fft.rfft(X_val_nn[:,3:], axis=1)\n",
    "levels_test     = np.fft.rfft(X_test[:,3:], axis=1)\n",
    "\n",
    "# separate modulus and argument\n",
    "levels_train_mod    = np.abs(levels_train)\n",
    "levels_train_ang    = np.angle(levels_train) / np.pi\n",
    "levels_train_nn_mod = np.abs(levels_train_nn)\n",
    "levels_train_nn_ang = np.angle(levels_train_nn) / np.pi\n",
    "levels_val_nn_mod   = np.abs(levels_val_nn)\n",
    "levels_val_nn_ang   = np.angle(levels_val_nn) / np.pi\n",
    "levels_test_mod     = np.abs(levels_test)\n",
    "levels_test_ang     = np.angle(levels_test) / np.pi\n",
    "\n",
    "# concatenate the arrays (the first imaginary part is identically vanishing)\n",
    "levels_train_conc    = np.c_[levels_train_mod[:,1:], levels_train_ang[:,1:]]\n",
    "levels_train_nn_conc = np.c_[levels_train_nn_mod[:,1:], levels_train_nn_ang[:,1:]]\n",
    "levels_val_nn_conc   = np.c_[levels_val_nn_mod[:,1:], levels_val_nn_ang[:,1:]]\n",
    "levels_test_conc     = np.c_[levels_test_mod[:,1:], levels_test_ang[:,1:]]"
   ]
  },
  {
   "cell_type": "code",
   "execution_count": 10,
   "metadata": {
    "papermill": {
     "duration": 0.04801,
     "end_time": "2020-08-27T17:28:25.562348",
     "exception": false,
     "start_time": "2020-08-27T17:28:25.514338",
     "status": "completed"
    },
    "tags": []
   },
   "outputs": [],
   "source": [
    "# reform the input vectors\n",
    "X_train    = np.c_[X_train[:,0:3], levels_train_conc]\n",
    "X_train_nn = np.c_[X_train_nn[:,0:3], levels_train_nn_conc]\n",
    "X_val_nn   = np.c_[X_val_nn[:,0:3], levels_val_nn_conc]\n",
    "X_test     = np.c_[X_test[:,0:3], levels_test_conc]"
   ]
  },
  {
   "cell_type": "markdown",
   "metadata": {
    "papermill": {
     "duration": 0.024573,
     "end_time": "2020-08-27T17:28:25.615582",
     "exception": false,
     "start_time": "2020-08-27T17:28:25.591009",
     "status": "completed"
    },
    "tags": []
   },
   "source": [
    "## Rescale the Truncation Levels"
   ]
  },
  {
   "cell_type": "code",
   "execution_count": 11,
   "metadata": {
    "papermill": {
     "duration": 0.048308,
     "end_time": "2020-08-27T17:28:25.688509",
     "exception": false,
     "start_time": "2020-08-27T17:28:25.640201",
     "status": "completed"
    },
    "tags": []
   },
   "outputs": [],
   "source": [
    "lev_scaler    = StandardScaler()\n",
    "lev_scaler_nn = StandardScaler()\n",
    "\n",
    "# scale the cross-validation levels\n",
    "levels_train = lev_scaler.fit_transform(X_train[:,3:])\n",
    "levels_test  = lev_scaler.transform(X_test[:,3:])\n",
    "\n",
    "# scale the neural network labels\n",
    "levels_train_nn = lev_scaler_nn.fit_transform(X_train_nn[:,3:])\n",
    "levels_val_nn   = lev_scaler_nn.transform(X_val_nn[:,3:])\n",
    "levels_test_nn  = lev_scaler_nn.transform(X_test[:,3:])\n",
    "\n",
    "# insert the levels back\n",
    "X_train[:,3:] = levels_train\n",
    "X_test[:,3:]  = levels_test\n",
    "\n",
    "X_train_nn[:,3:] = levels_train_nn\n",
    "X_val_nn[:,3:]   = levels_val_nn\n",
    "X_test_nn        = X_test\n",
    "X_test_nn[:,3:]  = levels_test_nn"
   ]
  },
  {
   "cell_type": "code",
   "execution_count": 12,
   "metadata": {
    "papermill": {
     "duration": 0.049065,
     "end_time": "2020-08-27T17:28:25.767047",
     "exception": false,
     "start_time": "2020-08-27T17:28:25.717982",
     "status": "completed"
    },
    "tags": []
   },
   "outputs": [],
   "source": [
    "os.makedirs('./models', exist_ok=True)"
   ]
  },
  {
   "cell_type": "code",
   "execution_count": 13,
   "metadata": {
    "papermill": {
     "duration": 0.049263,
     "end_time": "2020-08-27T17:28:25.847157",
     "exception": false,
     "start_time": "2020-08-27T17:28:25.797894",
     "status": "completed"
    },
    "tags": []
   },
   "outputs": [
    {
     "data": {
      "text/plain": [
       "['./models/lumps_levels_nn_scaler_lstm.pkl']"
      ]
     },
     "execution_count": 13,
     "metadata": {},
     "output_type": "execute_result"
    }
   ],
   "source": [
    "# save the scalers\n",
    "joblib.dump(lev_scaler, pmod('lumps_levels_cv_scaler' + SUFFIX + '.pkl'))\n",
    "joblib.dump(lev_scaler_nn, pmod('lumps_levels_nn_scaler' + SUFFIX + '.pkl'))"
   ]
  },
  {
   "cell_type": "markdown",
   "metadata": {},
   "source": [
    "## Reshape Input for LSTM"
   ]
  },
  {
   "cell_type": "code",
   "execution_count": 14,
   "metadata": {},
   "outputs": [],
   "source": [
    "X_train_nn = X_train_nn.reshape(-1, X_train_nn.shape[1], 1)\n",
    "X_val_nn   = X_val_nn.reshape(-1, X_val_nn.shape[1], 1)\n",
    "X_test_nn = X_test_nn.reshape(-1, X_test_nn.shape[1], 1)"
   ]
  },
  {
   "cell_type": "markdown",
   "metadata": {
    "papermill": {
     "duration": 0.02548,
     "end_time": "2020-08-27T17:28:25.901939",
     "exception": false,
     "start_time": "2020-08-27T17:28:25.876459",
     "status": "completed"
    },
    "tags": []
   },
   "source": [
    "## Training"
   ]
  },
  {
   "cell_type": "code",
   "execution_count": 15,
   "metadata": {
    "papermill": {
     "duration": 0.04936,
     "end_time": "2020-08-27T17:28:25.976711",
     "exception": false,
     "start_time": "2020-08-27T17:28:25.927351",
     "status": "completed"
    },
    "tags": []
   },
   "outputs": [],
   "source": [
    "os.makedirs('./img', exist_ok=True)\n",
    "os.makedirs('./metrics', exist_ok=True)"
   ]
  },
  {
   "cell_type": "markdown",
   "metadata": {
    "papermill": {
     "duration": 0.035431,
     "end_time": "2020-08-27T17:42:35.768327",
     "exception": false,
     "start_time": "2020-08-27T17:42:35.732896",
     "status": "completed"
    },
    "tags": []
   },
   "source": [
    "### Artificial Neural Network (w/ Keras)"
   ]
  },
  {
   "cell_type": "code",
   "execution_count": 16,
   "metadata": {
    "papermill": {
     "duration": 0.464511,
     "end_time": "2020-08-27T17:42:36.267852",
     "exception": false,
     "start_time": "2020-08-27T17:42:35.803341",
     "status": "completed"
    },
    "tags": []
   },
   "outputs": [
    {
     "name": "stdout",
     "output_type": "stream",
     "text": [
      "Model: \"lumps\"\n",
      "_________________________________________________________________\n",
      "Layer (type)                 Output Shape              Param #   \n",
      "=================================================================\n",
      "lstm (LSTM)                  (None, 17, 50)            10400     \n",
      "_________________________________________________________________\n",
      "dropout (Dropout)            (None, 17, 50)            0         \n",
      "_________________________________________________________________\n",
      "lstm_1 (LSTM)                (None, 17, 30)            9720      \n",
      "_________________________________________________________________\n",
      "dropout_1 (Dropout)          (None, 17, 30)            0         \n",
      "_________________________________________________________________\n",
      "lstm_2 (LSTM)                (None, 17, 30)            7320      \n",
      "_________________________________________________________________\n",
      "dropout_2 (Dropout)          (None, 17, 30)            0         \n",
      "_________________________________________________________________\n",
      "lstm_3 (LSTM)                (None, 10)                1640      \n",
      "_________________________________________________________________\n",
      "dropout_3 (Dropout)          (None, 10)                0         \n",
      "_________________________________________________________________\n",
      "exp (Dense)                  (None, 1)                 11        \n",
      "=================================================================\n",
      "Total params: 29,091\n",
      "Trainable params: 29,091\n",
      "Non-trainable params: 0\n",
      "_________________________________________________________________\n"
     ]
    }
   ],
   "source": [
    "keras.backend.clear_session()\n",
    "\n",
    "ann = keras.models.Sequential([keras.layers.Input(shape=X_train_nn.shape[1:], name='input'),\n",
    "                               #####################################################################\n",
    "                               keras.layers.LSTM(50, return_sequences=True),\n",
    "                               keras.layers.Dropout(0.03),\n",
    "                               #####################################################################\n",
    "                               keras.layers.LSTM(30, return_sequences=True),\n",
    "                               keras.layers.Dropout(0.03),\n",
    "                               #####################################################################\n",
    "                               keras.layers.LSTM(30, return_sequences=True),\n",
    "                               keras.layers.Dropout(0.03),\n",
    "                               #####################################################################\n",
    "                               keras.layers.LSTM(10),\n",
    "                               keras.layers.Dropout(0.03),\n",
    "                               #####################################################################\n",
    "                               keras.layers.Dense(1, name='exp')\n",
    "                              ],\n",
    "                              name='lumps'\n",
    "                             )\n",
    "ann.compile(optimizer=keras.optimizers.Adam(learning_rate=1.0e-3),\n",
    "            loss=keras.losses.MeanSquaredError(),\n",
    "            metrics=[keras.metrics.MeanSquaredError(), keras.metrics.MeanAbsoluteError()]\n",
    "           )\n",
    "ann.summary()"
   ]
  },
  {
   "cell_type": "code",
   "execution_count": 17,
   "metadata": {
    "papermill": {
     "duration": 0.263715,
     "end_time": "2020-08-27T17:42:36.566434",
     "exception": false,
     "start_time": "2020-08-27T17:42:36.302719",
     "status": "completed"
    },
    "tags": []
   },
   "outputs": [
    {
     "data": {
      "image/png": "[encoded data removed]",
      "text/plain": [
       "<IPython.core.display.Image object>"
      ]
     },
     "execution_count": 17,
     "metadata": {
      "image/png": {
       "width": 320
      }
     },
     "output_type": "execute_result"
    }
   ],
   "source": [
    "# save figure\n",
    "ann_dot = keras.utils.model_to_dot(ann,\n",
    "                                   #rankdir='LR',\n",
    "                                   rankdir='TB',\n",
    "                                   show_shapes=True,\n",
    "                                   dpi=150)\n",
    "ann_dot.write_pdf(pimg('ann_arch' + SUFFIX + '.pdf'))\n",
    "Image(ann_dot.create_png(), width=320)"
   ]
  },
  {
   "cell_type": "code",
   "execution_count": 18,
   "metadata": {
    "papermill": {
     "duration": 0.062731,
     "end_time": "2020-08-27T17:42:36.670293",
     "exception": false,
     "start_time": "2020-08-27T17:42:36.607562",
     "status": "completed"
    },
    "tags": []
   },
   "outputs": [],
   "source": [
    "def lr_scheduler(epoch, lr):\n",
    "    '''\n",
    "    Schedule the learning rate:\n",
    "    \n",
    "    Arguments:\n",
    "        epoch: the current epoch,\n",
    "        lr:    the current learning rate.\n",
    "    '''\n",
    "    if epoch < 1000:\n",
    "        return lr\n",
    "    else:\n",
    "        if lr <= 1.0e-6:\n",
    "            return lr\n",
    "        else:\n",
    "            return lr * tf.math.exp(-1.0e-2)"
   ]
  },
  {
   "cell_type": "code",
   "execution_count": 22,
   "metadata": {
    "papermill": {
     "duration": 121.8042,
     "end_time": "2020-08-27T17:44:38.515683",
     "exception": false,
     "start_time": "2020-08-27T17:42:36.711483",
     "status": "completed"
    },
    "tags": []
   },
   "outputs": [
    {
     "name": "stdout",
     "output_type": "stream",
     "text": [
      "Training took 1.586 seconds.\n"
     ]
    }
   ],
   "source": [
    "t = time.time()\n",
    "ann_history = ann.fit(x=X_train_nn,\n",
    "                      y=y_train_nn,\n",
    "                      batch_size=32,\n",
    "                      epochs=10000,\n",
    "                      verbose=0,\n",
    "                      callbacks=[keras.callbacks.EarlyStopping(patience=1500, restore_best_weights=True, verbose=0),\n",
    "                                 keras.callbacks.LearningRateScheduler(lr_scheduler, verbose=0),\n",
    "                                 keras.callbacks.ModelCheckpoint(pmod('lumps_ann' + SUFFIX + '.h5'), verbose=0, save_best_only=True)\n",
    "                                ],\n",
    "                      validation_data=(X_val_nn, y_val_nn)\n",
    "                     )\n",
    "t = time.time() - t\n",
    "print(f'Training took {t:.3f} seconds.')"
   ]
  },
  {
   "cell_type": "code",
   "execution_count": 23,
   "metadata": {
    "papermill": {
     "duration": 0.080867,
     "end_time": "2020-08-27T17:44:38.633839",
     "exception": false,
     "start_time": "2020-08-27T17:44:38.552972",
     "status": "completed"
    },
    "tags": []
   },
   "outputs": [
    {
     "name": "stdout",
     "output_type": "stream",
     "text": [
      "No. of epochs: 10\n"
     ]
    }
   ],
   "source": [
    "# save and display history\n",
    "ann_history_obj = pd.DataFrame(ann_history.history)\n",
    "ann_history_obj.to_csv(pmod('lumps_ann_history' + SUFFIX + '.csv'), index=False)\n",
    "print(f'No. of epochs: {ann_history_obj.shape[0]:d}')"
   ]
  },
  {
   "cell_type": "code",
   "execution_count": 24,
   "metadata": {
    "papermill": {
     "duration": 0.732527,
     "end_time": "2020-08-27T17:44:39.407856",
     "exception": false,
     "start_time": "2020-08-27T17:44:38.675329",
     "status": "completed"
    },
    "tags": []
   },
   "outputs": [],
   "source": [
    "history_plots(ann_history_obj, suffix=SUFFIX)"
   ]
  },
  {
   "cell_type": "code",
   "execution_count": 25,
   "metadata": {
    "papermill": {
     "duration": 0.056723,
     "end_time": "2020-08-27T17:44:39.502728",
     "exception": false,
     "start_time": "2020-08-27T17:44:39.446005",
     "status": "completed"
    },
    "tags": []
   },
   "outputs": [
    {
     "data": {
      "image/png": "[encoded data removed]",
      "text/plain": [
       "<IPython.core.display.Image object>"
      ]
     },
     "execution_count": 25,
     "metadata": {
      "image/png": {
       "width": 480
      }
     },
     "output_type": "execute_result"
    }
   ],
   "source": [
    "Image(pimg('lumps_ann_loss' + SUFFIX + '.png'), width=480)"
   ]
  },
  {
   "cell_type": "code",
   "execution_count": 26,
   "metadata": {
    "papermill": {
     "duration": 0.060725,
     "end_time": "2020-08-27T17:44:39.601507",
     "exception": false,
     "start_time": "2020-08-27T17:44:39.540782",
     "status": "completed"
    },
    "tags": []
   },
   "outputs": [
    {
     "data": {
      "image/png": "[encoded data removed]",
      "text/plain": [
       "<IPython.core.display.Image object>"
      ]
     },
     "execution_count": 26,
     "metadata": {
      "image/png": {
       "width": 480
      }
     },
     "output_type": "execute_result"
    }
   ],
   "source": [
    "Image(pimg('lumps_ann_lr' + SUFFIX + '.png'), width=480)"
   ]
  },
  {
   "cell_type": "code",
   "execution_count": 27,
   "metadata": {
    "papermill": {
     "duration": 0.185185,
     "end_time": "2020-08-27T17:44:39.825028",
     "exception": false,
     "start_time": "2020-08-27T17:44:39.639843",
     "status": "completed"
    },
    "tags": []
   },
   "outputs": [
    {
     "data": {
      "text/html": [
       "<div>\n",
       "<style scoped>\n",
       "    .dataframe tbody tr th:only-of-type {\n",
       "        vertical-align: middle;\n",
       "    }\n",
       "\n",
       "    .dataframe tbody tr th {\n",
       "        vertical-align: top;\n",
       "    }\n",
       "\n",
       "    .dataframe thead th {\n",
       "        text-align: right;\n",
       "    }\n",
       "</style>\n",
       "<table border=\"1\" class=\"dataframe\">\n",
       "  <thead>\n",
       "    <tr style=\"text-align: right;\">\n",
       "      <th></th>\n",
       "      <th>train_ann</th>\n",
       "      <th>val_ann</th>\n",
       "      <th>test_ann</th>\n",
       "    </tr>\n",
       "  </thead>\n",
       "  <tbody>\n",
       "    <tr>\n",
       "      <th>mean_squared_error</th>\n",
       "      <td>0.029093</td>\n",
       "      <td>0.030901</td>\n",
       "      <td>0.008511</td>\n",
       "    </tr>\n",
       "    <tr>\n",
       "      <th>mean_absolute_error</th>\n",
       "      <td>0.064796</td>\n",
       "      <td>0.081464</td>\n",
       "      <td>0.047447</td>\n",
       "    </tr>\n",
       "    <tr>\n",
       "      <th>r2_score</th>\n",
       "      <td>0.944197</td>\n",
       "      <td>0.900872</td>\n",
       "      <td>0.981947</td>\n",
       "    </tr>\n",
       "    <tr>\n",
       "      <th>residual_ratio</th>\n",
       "      <td>-1.911499</td>\n",
       "      <td>-1.209412</td>\n",
       "      <td>-2.500272</td>\n",
       "    </tr>\n",
       "  </tbody>\n",
       "</table>\n",
       "</div>"
      ],
      "text/plain": [
       "                     train_ann   val_ann  test_ann\n",
       "mean_squared_error    0.029093  0.030901  0.008511\n",
       "mean_absolute_error   0.064796  0.081464  0.047447\n",
       "r2_score              0.944197  0.900872  0.981947\n",
       "residual_ratio       -1.911499 -1.209412 -2.500272"
      ]
     },
     "execution_count": 27,
     "metadata": {},
     "output_type": "execute_result"
    }
   ],
   "source": [
    "train_metrics = make_predictions(ann, X_train_nn, y_train_nn, last_train_nn, suffix=SUFFIX, name='train_ann', tensor=True)\n",
    "val_metrics   = make_predictions(ann, X_val_nn, y_val_nn, last_val_nn, suffix=SUFFIX, name='val_ann', tensor=True)\n",
    "test_metrics  = make_predictions(ann, X_test_nn, y_test_nn, last_test_nn, suffix=SUFFIX, name='test_ann', tensor=True)\n",
    "\n",
    "# concatenate the prediction results\n",
    "metrics = pd.concat([train_metrics, val_metrics, test_metrics], axis=0).transpose()\n",
    "metrics.to_csv(pmet('lumps_ann_metrics' + SUFFIX + '.csv'))\n",
    "metrics"
   ]
  },
  {
   "cell_type": "code",
   "execution_count": 28,
   "metadata": {
    "papermill": {
     "duration": 4.826631,
     "end_time": "2020-08-27T17:44:44.694971",
     "exception": false,
     "start_time": "2020-08-27T17:44:39.868340",
     "status": "completed"
    },
    "tags": []
   },
   "outputs": [],
   "source": [
    "make_plots(ann, X_train_nn, y_train_nn, last_train_nn, suffix=SUFFIX, name='train_ann')\n",
    "make_plots(ann, X_val_nn, y_val_nn, last_val_nn, suffix=SUFFIX, name='val_ann')\n",
    "make_plots(ann, X_test_nn, y_test_nn, last_test_nn, suffix=SUFFIX, name='test_ann')\n",
    "compare_plots_val(ann,\n",
    "                  X_train_nn, y_train_nn, last_train_nn,\n",
    "                  X_val_nn, y_val_nn, last_val_nn,\n",
    "                  X_test_nn, y_test_nn, last_test_nn,\n",
    "                  legend=['training', 'validation', 'test'],\n",
    "                  suffix=SUFFIX,\n",
    "                  name='ann'\n",
    "                 )"
   ]
  },
  {
   "cell_type": "code",
   "execution_count": null,
   "metadata": {
    "papermill": {
     "duration": 0.063619,
     "end_time": "2020-08-27T17:44:44.805005",
     "exception": false,
     "start_time": "2020-08-27T17:44:44.741386",
     "status": "completed"
    },
    "tags": []
   },
   "outputs": [],
   "source": [
    "Image(pimg('lumps_ann_residual_histogram_compare' + SUFFIX + '.png'), width=480)"
   ]
  },
  {
   "cell_type": "code",
   "execution_count": null,
   "metadata": {
    "papermill": {
     "duration": 0.061766,
     "end_time": "2020-08-27T17:44:44.910437",
     "exception": false,
     "start_time": "2020-08-27T17:44:44.848671",
     "status": "completed"
    },
    "tags": []
   },
   "outputs": [],
   "source": [
    "Image(pimg('lumps_ann_ratio_histogram_compare' + SUFFIX + '.png'), width=480)"
   ]
  },
  {
   "cell_type": "code",
   "execution_count": null,
   "metadata": {
    "papermill": {
     "duration": 0.063239,
     "end_time": "2020-08-27T17:44:45.017462",
     "exception": false,
     "start_time": "2020-08-27T17:44:44.954223",
     "status": "completed"
    },
    "tags": []
   },
   "outputs": [],
   "source": [
    "Image(pimg('lumps_ann_residual_scatterplot_compare' + SUFFIX + '.png'), width=480)"
   ]
  },
  {
   "cell_type": "code",
   "execution_count": null,
   "metadata": {
    "papermill": {
     "duration": 0.063941,
     "end_time": "2020-08-27T17:44:45.126006",
     "exception": false,
     "start_time": "2020-08-27T17:44:45.062065",
     "status": "completed"
    },
    "tags": []
   },
   "outputs": [],
   "source": [
    "Image(pimg('lumps_ann_ratio_scatterplot_compare' + SUFFIX + '.png'), width=480)"
   ]
  },
  {
   "cell_type": "markdown",
   "metadata": {
    "papermill": {
     "duration": 0.040483,
     "end_time": "2020-08-27T17:44:45.213458",
     "exception": false,
     "start_time": "2020-08-27T17:44:45.172975",
     "status": "completed"
    },
    "tags": []
   },
   "source": [
    "## Double Lumps\n",
    "\n",
    "We finally show how the various algorithms can generalise to double lump solutions.\n",
    "We keep only weight $h \\le 1.25$."
   ]
  },
  {
   "cell_type": "code",
   "execution_count": 29,
   "metadata": {
    "papermill": {
     "duration": 0.067895,
     "end_time": "2020-08-27T17:44:45.321787",
     "exception": false,
     "start_time": "2020-08-27T17:44:45.253892",
     "status": "completed"
    },
    "tags": []
   },
   "outputs": [
    {
     "name": "stdout",
     "output_type": "stream",
     "text": [
      "<class 'pandas.core.frame.DataFrame'>\n",
      "Int64Index: 10 entries, 0 to 11\n",
      "Data columns (total 21 columns):\n",
      " #   Column    Non-Null Count  Dtype  \n",
      "---  ------    --------------  -----  \n",
      " 0   weight    10 non-null     float64\n",
      " 1   type_2    10 non-null     int64  \n",
      " 2   type_4    10 non-null     int64  \n",
      " 3   level_2   10 non-null     float64\n",
      " 4   level_3   10 non-null     float64\n",
      " 5   level_4   10 non-null     float64\n",
      " 6   level_5   10 non-null     float64\n",
      " 7   level_6   10 non-null     float64\n",
      " 8   level_7   10 non-null     float64\n",
      " 9   level_8   10 non-null     float64\n",
      " 10  level_9   10 non-null     float64\n",
      " 11  level_10  10 non-null     float64\n",
      " 12  level_11  10 non-null     float64\n",
      " 13  level_12  10 non-null     float64\n",
      " 14  level_13  10 non-null     float64\n",
      " 15  level_14  10 non-null     float64\n",
      " 16  level_15  10 non-null     float64\n",
      " 17  level_16  10 non-null     float64\n",
      " 18  level_17  10 non-null     float64\n",
      " 19  level_18  10 non-null     float64\n",
      " 20  exp       10 non-null     float64\n",
      "dtypes: float64(19), int64(2)\n",
      "memory usage: 1.7 KB\n"
     ]
    }
   ],
   "source": [
    "dlumps = pd.read_csv(pdata('dlumps.csv'))\n",
    "dlumps = dlumps.loc[dlumps['weight'] <= 1.25]\n",
    "dlumps.info()"
   ]
  },
  {
   "cell_type": "markdown",
   "metadata": {
    "papermill": {
     "duration": 0.040626,
     "end_time": "2020-08-27T17:44:45.407263",
     "exception": false,
     "start_time": "2020-08-27T17:44:45.366637",
     "status": "completed"
    },
    "tags": []
   },
   "source": [
    "# Extract the Labels"
   ]
  },
  {
   "cell_type": "code",
   "execution_count": 30,
   "metadata": {
    "papermill": {
     "duration": 0.064062,
     "end_time": "2020-08-27T17:44:45.511978",
     "exception": false,
     "start_time": "2020-08-27T17:44:45.447916",
     "status": "completed"
    },
    "tags": []
   },
   "outputs": [],
   "source": [
    "# extract the labels\n",
    "y_dlumps    = dlumps['exp'].values.reshape(-1,)\n",
    "y_dlumps_nn = dlumps['exp'].values.reshape(-1,)"
   ]
  },
  {
   "cell_type": "markdown",
   "metadata": {
    "papermill": {
     "duration": 0.041469,
     "end_time": "2020-08-27T17:44:45.601204",
     "exception": false,
     "start_time": "2020-08-27T17:44:45.559735",
     "status": "completed"
    },
    "tags": []
   },
   "source": [
    "## Apply Fourier Transform to the Levels"
   ]
  },
  {
   "cell_type": "code",
   "execution_count": 31,
   "metadata": {
    "papermill": {
     "duration": 0.064624,
     "end_time": "2020-08-27T17:44:45.706354",
     "exception": false,
     "start_time": "2020-08-27T17:44:45.641730",
     "status": "completed"
    },
    "tags": []
   },
   "outputs": [],
   "source": [
    "# extract the features\n",
    "X_dlumps = dlumps.drop(columns=['weight', 'type_2', 'type_4', 'exp']).values\n",
    "\n",
    "# compute Fourier transform (for real input)\n",
    "levels = np.fft.rfft(X_dlumps[:,3:], axis=1)\n",
    "\n",
    "# separate modulus and argument\n",
    "levels_mod = np.abs(levels)\n",
    "levels_ang = np.angle(levels) / np.pi\n",
    "\n",
    "# concatenate the arrays (the first imaginary part is identically vanishing)\n",
    "levels_conc = np.c_[levels_mod[:,1:], levels_ang[:,1:]]\n",
    "\n",
    "# join the output\n",
    "X_dlumps = np.c_[X_dlumps[:,:3], levels_conc]"
   ]
  },
  {
   "cell_type": "markdown",
   "metadata": {
    "papermill": {
     "duration": 0.041257,
     "end_time": "2020-08-27T17:44:45.795414",
     "exception": false,
     "start_time": "2020-08-27T17:44:45.754157",
     "status": "completed"
    },
    "tags": []
   },
   "source": [
    "## Rescale the Features"
   ]
  },
  {
   "cell_type": "code",
   "execution_count": 32,
   "metadata": {
    "papermill": {
     "duration": 0.065181,
     "end_time": "2020-08-27T17:44:45.901851",
     "exception": false,
     "start_time": "2020-08-27T17:44:45.836670",
     "status": "completed"
    },
    "tags": []
   },
   "outputs": [],
   "source": [
    "lev_scaler    = joblib.load(pmod('lumps_levels_cv_scaler' + SUFFIX + '.pkl'))\n",
    "lev_scaler_nn = joblib.load(pmod('lumps_levels_cv_scaler' + SUFFIX + '.pkl'))\n",
    "\n",
    "# rescale the levels\n",
    "X_dlumps_nn       = X_dlumps\n",
    "X_dlumps[:,3:]    = lev_scaler.transform(X_dlumps[:,3:])\n",
    "X_dlumps_nn[:,3:] = lev_scaler_nn.transform(X_dlumps_nn[:,3:])"
   ]
  },
  {
   "cell_type": "code",
   "execution_count": 33,
   "metadata": {},
   "outputs": [],
   "source": [
    "X_dlumps    = X_dlumps.reshape(-1, X_dlumps.shape[1], 1)\n",
    "X_dlumps_nn = X_dlumps_nn.reshape(-1, X_dlumps_nn.shape[1], 1)"
   ]
  },
  {
   "cell_type": "markdown",
   "metadata": {
    "papermill": {
     "duration": 0.041277,
     "end_time": "2020-08-27T17:44:45.988876",
     "exception": false,
     "start_time": "2020-08-27T17:44:45.947599",
     "status": "completed"
    },
    "tags": []
   },
   "source": [
    "## Compute Predictions"
   ]
  },
  {
   "cell_type": "code",
   "execution_count": 34,
   "metadata": {
    "papermill": {
     "duration": 0.222306,
     "end_time": "2020-08-27T17:44:46.252350",
     "exception": false,
     "start_time": "2020-08-27T17:44:46.030044",
     "status": "completed"
    },
    "tags": []
   },
   "outputs": [
    {
     "data": {
      "text/html": [
       "<div>\n",
       "<style scoped>\n",
       "    .dataframe tbody tr th:only-of-type {\n",
       "        vertical-align: middle;\n",
       "    }\n",
       "\n",
       "    .dataframe tbody tr th {\n",
       "        vertical-align: top;\n",
       "    }\n",
       "\n",
       "    .dataframe thead th {\n",
       "        text-align: right;\n",
       "    }\n",
       "</style>\n",
       "<table border=\"1\" class=\"dataframe\">\n",
       "  <thead>\n",
       "    <tr style=\"text-align: right;\">\n",
       "      <th></th>\n",
       "      <th>real_values</th>\n",
       "      <th>finite_values</th>\n",
       "      <th>lstm</th>\n",
       "    </tr>\n",
       "  </thead>\n",
       "  <tbody>\n",
       "    <tr>\n",
       "      <th>0</th>\n",
       "      <td>2.000132</td>\n",
       "      <td>2.010872</td>\n",
       "      <td>-1.682118</td>\n",
       "    </tr>\n",
       "    <tr>\n",
       "      <th>1</th>\n",
       "      <td>-0.000045</td>\n",
       "      <td>0.000039</td>\n",
       "      <td>1.520373</td>\n",
       "    </tr>\n",
       "    <tr>\n",
       "      <th>2</th>\n",
       "      <td>-2.000161</td>\n",
       "      <td>-2.048203</td>\n",
       "      <td>-1.935468</td>\n",
       "    </tr>\n",
       "    <tr>\n",
       "      <th>3</th>\n",
       "      <td>1.998589</td>\n",
       "      <td>2.008174</td>\n",
       "      <td>-1.660196</td>\n",
       "    </tr>\n",
       "    <tr>\n",
       "      <th>4</th>\n",
       "      <td>0.955293</td>\n",
       "      <td>0.875055</td>\n",
       "      <td>2.002932</td>\n",
       "    </tr>\n",
       "    <tr>\n",
       "      <th>5</th>\n",
       "      <td>-1.083093</td>\n",
       "      <td>-1.174038</td>\n",
       "      <td>-0.789675</td>\n",
       "    </tr>\n",
       "    <tr>\n",
       "      <th>6</th>\n",
       "      <td>-1.994476</td>\n",
       "      <td>-1.952275</td>\n",
       "      <td>-1.995222</td>\n",
       "    </tr>\n",
       "    <tr>\n",
       "      <th>7</th>\n",
       "      <td>-0.827465</td>\n",
       "      <td>-0.573408</td>\n",
       "      <td>1.835888</td>\n",
       "    </tr>\n",
       "    <tr>\n",
       "      <th>8</th>\n",
       "      <td>1.213654</td>\n",
       "      <td>1.409107</td>\n",
       "      <td>-0.897843</td>\n",
       "    </tr>\n",
       "    <tr>\n",
       "      <th>9</th>\n",
       "      <td>2.015004</td>\n",
       "      <td>1.585226</td>\n",
       "      <td>1.992637</td>\n",
       "    </tr>\n",
       "  </tbody>\n",
       "</table>\n",
       "</div>"
      ],
      "text/plain": [
       "   real_values  finite_values      lstm\n",
       "0     2.000132       2.010872 -1.682118\n",
       "1    -0.000045       0.000039  1.520373\n",
       "2    -2.000161      -2.048203 -1.935468\n",
       "3     1.998589       2.008174 -1.660196\n",
       "4     0.955293       0.875055  2.002932\n",
       "5    -1.083093      -1.174038 -0.789675\n",
       "6    -1.994476      -1.952275 -1.995222\n",
       "7    -0.827465      -0.573408  1.835888\n",
       "8     1.213654       1.409107 -0.897843\n",
       "9     2.015004       1.585226  1.992637"
      ]
     },
     "execution_count": 34,
     "metadata": {},
     "output_type": "execute_result"
    }
   ],
   "source": [
    "predictions = {'real_values': dlumps['exp'].values.reshape(-1,),\n",
    "               'finite_values': dlumps['level_18'].values.reshape(-1,)\n",
    "              }\n",
    "\n",
    "# ANN\n",
    "ann = keras.models.load_model(pmod('lumps_ann' + SUFFIX + '.h5'))\n",
    "predictions['lstm'] = 2 * ann.predict(X_dlumps_nn).reshape(-1,1).reshape(-1,)\n",
    "\n",
    "# get dataframe\n",
    "predictions = pd.DataFrame(predictions)\n",
    "predictions.to_csv(pdata('lumps_dlumps_predictions' + SUFFIX + '.csv'), index=False)\n",
    "predictions"
   ]
  },
  {
   "cell_type": "code",
   "execution_count": 35,
   "metadata": {
    "papermill": {
     "duration": 0.068686,
     "end_time": "2020-08-27T17:44:46.362963",
     "exception": false,
     "start_time": "2020-08-27T17:44:46.294277",
     "status": "completed"
    },
    "tags": []
   },
   "outputs": [
    {
     "data": {
      "text/html": [
       "<div>\n",
       "<style scoped>\n",
       "    .dataframe tbody tr th:only-of-type {\n",
       "        vertical-align: middle;\n",
       "    }\n",
       "\n",
       "    .dataframe tbody tr th {\n",
       "        vertical-align: top;\n",
       "    }\n",
       "\n",
       "    .dataframe thead th {\n",
       "        text-align: right;\n",
       "    }\n",
       "</style>\n",
       "<table border=\"1\" class=\"dataframe\">\n",
       "  <thead>\n",
       "    <tr style=\"text-align: right;\">\n",
       "      <th></th>\n",
       "      <th>mean_squared_error</th>\n",
       "      <th>mean_absolute_error</th>\n",
       "      <th>r2_score</th>\n",
       "      <th>residual_ratio</th>\n",
       "    </tr>\n",
       "  </thead>\n",
       "  <tbody>\n",
       "    <tr>\n",
       "      <th>lstm</th>\n",
       "      <td>4.199753</td>\n",
       "      <td>1.506517</td>\n",
       "      <td>-0.767695</td>\n",
       "      <td>1.015259</td>\n",
       "    </tr>\n",
       "  </tbody>\n",
       "</table>\n",
       "</div>"
      ],
      "text/plain": [
       "      mean_squared_error  mean_absolute_error  r2_score  residual_ratio\n",
       "lstm            4.199753             1.506517 -0.767695        1.015259"
      ]
     },
     "execution_count": 35,
     "metadata": {},
     "output_type": "execute_result"
    }
   ],
   "source": [
    "metrics = {'mean_squared_error': mean_squared_error(predictions['real_values'],\n",
    "                                                    predictions['lstm']\n",
    "                                                   ),\n",
    "           'mean_absolute_error': mean_absolute_error(predictions['real_values'],\n",
    "                                                      predictions['lstm']\n",
    "                                                     ),\n",
    "           'r2_score': r2_score(predictions['real_values'],\n",
    "                                predictions['lstm']\n",
    "                               ),\n",
    "           'residual_ratio': metric(predictions['real_values'],\n",
    "                                    dlumps['level_18'].values.reshape(-1,),\n",
    "                                    predictions['lstm']\n",
    "                                   )\n",
    "          }\n",
    "\n",
    "# get dataframe\n",
    "metrics = pd.DataFrame(metrics, index=['lstm'])\n",
    "metrics.to_csv(pmet('lumps_dlumps_metrics' + SUFFIX + '.csv'))\n",
    "metrics"
   ]
  },
  {
   "cell_type": "code",
   "execution_count": 36,
   "metadata": {
    "papermill": {
     "duration": 0.066295,
     "end_time": "2020-08-27T17:44:46.471087",
     "exception": false,
     "start_time": "2020-08-27T17:44:46.404792",
     "status": "completed"
    },
    "tags": []
   },
   "outputs": [
    {
     "data": {
      "text/html": [
       "<div>\n",
       "<style scoped>\n",
       "    .dataframe tbody tr th:only-of-type {\n",
       "        vertical-align: middle;\n",
       "    }\n",
       "\n",
       "    .dataframe tbody tr th {\n",
       "        vertical-align: top;\n",
       "    }\n",
       "\n",
       "    .dataframe thead th {\n",
       "        text-align: right;\n",
       "    }\n",
       "</style>\n",
       "<table border=\"1\" class=\"dataframe\">\n",
       "  <thead>\n",
       "    <tr style=\"text-align: right;\">\n",
       "      <th></th>\n",
       "      <th>lstm_res</th>\n",
       "      <th>lstm_ratio</th>\n",
       "    </tr>\n",
       "  </thead>\n",
       "  <tbody>\n",
       "    <tr>\n",
       "      <th>0</th>\n",
       "      <td>3.682250</td>\n",
       "      <td>2.535112</td>\n",
       "    </tr>\n",
       "    <tr>\n",
       "      <th>1</th>\n",
       "      <td>-1.520418</td>\n",
       "      <td>4.258586</td>\n",
       "    </tr>\n",
       "    <tr>\n",
       "      <th>2</th>\n",
       "      <td>-0.064693</td>\n",
       "      <td>0.129236</td>\n",
       "    </tr>\n",
       "    <tr>\n",
       "      <th>3</th>\n",
       "      <td>3.658785</td>\n",
       "      <td>2.581730</td>\n",
       "    </tr>\n",
       "    <tr>\n",
       "      <th>4</th>\n",
       "      <td>-1.047639</td>\n",
       "      <td>1.115828</td>\n",
       "    </tr>\n",
       "    <tr>\n",
       "      <th>5</th>\n",
       "      <td>-0.293418</td>\n",
       "      <td>0.508710</td>\n",
       "    </tr>\n",
       "    <tr>\n",
       "      <th>6</th>\n",
       "      <td>0.000746</td>\n",
       "      <td>-1.752323</td>\n",
       "    </tr>\n",
       "    <tr>\n",
       "      <th>7</th>\n",
       "      <td>-2.663353</td>\n",
       "      <td>1.020499</td>\n",
       "    </tr>\n",
       "    <tr>\n",
       "      <th>8</th>\n",
       "      <td>2.111497</td>\n",
       "      <td>1.033550</td>\n",
       "    </tr>\n",
       "    <tr>\n",
       "      <th>9</th>\n",
       "      <td>0.022367</td>\n",
       "      <td>-1.283633</td>\n",
       "    </tr>\n",
       "  </tbody>\n",
       "</table>\n",
       "</div>"
      ],
      "text/plain": [
       "   lstm_res  lstm_ratio\n",
       "0  3.682250    2.535112\n",
       "1 -1.520418    4.258586\n",
       "2 -0.064693    0.129236\n",
       "3  3.658785    2.581730\n",
       "4 -1.047639    1.115828\n",
       "5 -0.293418    0.508710\n",
       "6  0.000746   -1.752323\n",
       "7 -2.663353    1.020499\n",
       "8  2.111497    1.033550\n",
       "9  0.022367   -1.283633"
      ]
     },
     "execution_count": 36,
     "metadata": {},
     "output_type": "execute_result"
    }
   ],
   "source": [
    "# compute residual and residual ratio per value\n",
    "residuals = {'lstm_res': predictions['real_values'].values.reshape(-1,) - predictions['lstm'].values.reshape(-1,)}\n",
    "ratios    = {'lstm_ratio': np.log10(\n",
    "                             np.abs(\n",
    "                                np.divide(predictions['real_values'].values.reshape(-1,) - predictions['lstm'].values.reshape(-1,),\n",
    "                                          predictions['real_values'].values.reshape(-1,) - predictions['finite_values'].values.reshape(-1,)\n",
    "                                         )\n",
    "                                )\n",
    "                            )\n",
    "            }\n",
    "\n",
    "# get dataframe\n",
    "residuals = pd.DataFrame(residuals)\n",
    "ratios    = pd.DataFrame(ratios)\n",
    "metric_per_value = pd.concat([residuals, ratios], axis=1)\n",
    "metric_per_value.to_csv(pmet('lumps_dlumps_metric_per_value' + SUFFIX + '.csv'), index=False)\n",
    "metric_per_value"
   ]
  }
 ],
 "metadata": {
  "kernelspec": {
   "display_name": "Python 3",
   "language": "python",
   "name": "python3"
  },
  "language_info": {
   "codemirror_mode": {
    "name": "ipython",
    "version": 3
   },
   "file_extension": ".py",
   "mimetype": "text/x-python",
   "name": "python",
   "nbconvert_exporter": "python",
   "pygments_lexer": "ipython3",
   "version": "3.7.8"
  },
  "papermill": {
   "duration": 984.907159,
   "end_time": "2020-08-27T17:44:47.524377",
   "environment_variables": {},
   "exception": null,
   "input_path": "./lumps_ml.ipynb",
   "output_path": "lumps_ml_output.ipynb",
   "parameters": {},
   "start_time": "2020-08-27T17:28:22.617218",
   "version": "2.1.2"
  }
 },
 "nbformat": 4,
 "nbformat_minor": 4
}
