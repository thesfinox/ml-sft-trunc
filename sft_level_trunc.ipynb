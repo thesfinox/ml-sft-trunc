{
 "cells": [
  {
   "cell_type": "markdown",
   "metadata": {},
   "source": [
    "# Machine Learning for Level Truncation in Bosonic Open String Field Theory\n",
    "\n",
    "We consider the position of minima of the tachyon potential in bosonic open string field theory (OSFT) at mass level truncation of finite order. We then extrapolate predictions for level-$\\infty$ truncation using machine learning (ML) techniques. In particular we will consider:\n",
    "\n",
    "- [linear regression](https://scikit-learn.org/stable/modules/generated/sklearn.linear_model.LinearRegression.html) (LR) to provide a solid baseline for the computation,\n",
    "- [elastic net](https://scikit-learn.org/stable/modules/generated/sklearn.linear_model.ElasticNet.html) (EN) to introduce $l_1$ and $l_2$ regularisation to weight the contributions (we could consider [lasso](https://scikit-learn.org/stable/modules/generated/sklearn.linear_model.Lasso.html) or [ridge](https://scikit-learn.org/stable/modules/generated/sklearn.linear_model.Ridge.html) regression if we notice $l_1$ or $l_2$ are particularly favoured),\n",
    "- [linear SVR](https://scikit-learn.org/stable/modules/generated/sklearn.svm.LinearSVR.html) (l-SVR) to introduce support vectors,\n",
    "- [SVR (rbf kernel)](https://scikit-learn.org/stable/modules/generated/sklearn.svm.SVR.html) (SVR) to use the _kernel trick_ inside the support vectors,\n",
    "- [random forests of decision trees](https://xgboost.readthedocs.io/en/latest/tutorials/rf.html) (RFs) to bag several decision trees and decrease the variance of the tree-based model,\n",
    "- [boosted decision trees](https://xgboost.readthedocs.io/en/latest/python/python_api.html#module-xgboost.training) (BDTs) to increase the predictive ability to tackle the problem of reducing bias and variance (we also consider the case of boosted random forests of decision trees (BRF),\n",
    "- [artificial neural networks](https://www.tensorflow.org) (ANNs) to introduce more complex regression functions.\n",
    "\n",
    "In general we use [Scikit](https://scikit-learn.org) for most manipulations and [XGBoost](https://xgboost.ai/) for the BDTs. We then use [Tensorflow](https://www.tensorflow.org/) as a deep learning framework for the ANNs."
   ]
  },
  {
   "cell_type": "markdown",
   "metadata": {},
   "source": [
    "# Preanalysis\n",
    "\n",
    "First of all we consider the dataset containing the positions of minimum points of the tachyon potential for several finite levels of mass truncation. Given a set of initial conditions, these are computed and stored in 'systems' (in the dataset there are 46 of them). Then the extrapolation for level-$\\infty$ is given for each.\n",
    "\n",
    "The idea is therefore to manipulate the system by studying the distribution of the systems: we flatten the database in order to have a feature matrix containing data for training and a vector of labels for the supervised learning. We also exclude duplicates (in this case, data identical over all columns) and identify the outliers of the distribution."
   ]
  },
  {
   "cell_type": "markdown",
   "metadata": {},
   "source": [
    "## Setup\n",
    "\n",
    "The following analysis is performed on a machine with the following specifications:"
   ]
  },
  {
   "cell_type": "code",
   "execution_count": 1,
   "metadata": {},
   "outputs": [
    {
     "name": "stdout",
     "output_type": "stream",
     "text": [
      "CPU: Intel(R) Core(TM) i7-7700HQ CPU @ 2.80GHz\n",
      "GPU: NVIDIA Corporation GM108M [GeForce 940MX] (rev a2)\n",
      "RAM: 16GB (avail. now: 10GB)\n"
     ]
    }
   ],
   "source": [
    "!echo \"CPU: $(lscpu| awk '/^Model name/ {$1=\"\"; $2=\"\"; print}'| sed 's/^[[:space:]]*//g')\"\n",
    "!echo \"GPU: $(lspci| awk '/3D controller/ {$1=\"\"; $2=\"\"; $3=\"\"; print}'| sed 's/^[[:space:]]*//g')\"\n",
    "!echo \"RAM: $(free --giga| awk '/^Mem/ {print $2}')GB (avail. now: $(free --giga| awk '/^Mem/ {print $7}')GB)\""
   ]
  },
  {
   "cell_type": "markdown",
   "metadata": {},
   "source": [
    "Computations will be executed using a restricted amount of CPU threads:"
   ]
  },
  {
   "cell_type": "code",
   "execution_count": 2,
   "metadata": {},
   "outputs": [],
   "source": [
    "multi_thread = 8\n",
    "\n",
    "# sanitise the input\n",
    "if multi_thread > 8:\n",
    "    multi_thread = 8"
   ]
  },
  {
   "cell_type": "markdown",
   "metadata": {},
   "source": [
    "We will use several module in this Python notebook. We import them early to take a look at their version number and to keep track of changes in the intallation:"
   ]
  },
  {
   "cell_type": "code",
   "execution_count": 3,
   "metadata": {},
   "outputs": [
    {
     "name": "stdout",
     "output_type": "stream",
     "text": [
      "Numpy_version: 1.18.4\n",
      "Pandas version: 1.0.3\n",
      "Matplotlib version: 3.2.1\n",
      "Scikit-learn version: 0.23.1\n",
      "Scikit-optimize version: 0.23.1\n",
      "Tensorflow version: 2.0.0\n",
      "XGBoost version: 2.0.0\n"
     ]
    }
   ],
   "source": [
    "import sys\n",
    "\n",
    "import numpy             as np\n",
    "import pandas            as pd\n",
    "import matplotlib        as mpl\n",
    "import matplotlib.pyplot as plt\n",
    "import sklearn           as skl\n",
    "import skopt             as skp\n",
    "import tensorflow        as tf\n",
    "import xgboost           as xgb\n",
    "\n",
    "# Jupyter magics\n",
    "%load_ext autoreload\n",
    "%autoreload 2\n",
    "\n",
    "%matplotlib inline\n",
    "mpl.rc('axes', labelsize=12) #------- set size of the labels in Matplotlib\n",
    "mpl.rc('xtick', labelsize=12)\n",
    "mpl.rc('ytick', labelsize=12)\n",
    "\n",
    "# check for restrictions and print version number\n",
    "try:\n",
    "    assert np.__version__ >= '1.18.0', 'Numpy version should be at least 1.18.0 to avoid conflict with Pandas and PyTables'\n",
    "    print('Numpy_version: {}'.format(np.__version__))\n",
    "    \n",
    "    assert pd.__version__ >= '1.0.0', 'Pandas version should be at least 1.0.0 to use PyTables correctly'\n",
    "    print('Pandas version: {}'.format(pd.__version__))\n",
    "    \n",
    "    assert mpl.__version__ > '3.1.0', 'Matplotlib version should be at least 3.1.0'\n",
    "    print('Matplotlib version: {}'.format(mpl.__version__))\n",
    "\n",
    "    assert skl.__version__ >= '0.22.0', 'Scikit-learn version should be at least 0.22.0 to use newest implementations.'\n",
    "    print('Scikit-learn version: {}'.format(skl.__version__))\n",
    "\n",
    "    assert skp.__version__ >= '0.7.4', 'Scikit-optimize version should be at least 0.7.4 to use newest implementations.'\n",
    "    print('Scikit-optimize version: {}'.format(skl.__version__))\n",
    "    \n",
    "    assert tf.__version__ >= '2.0.0', 'Tensorflow version should be at least 2.0.0 to use newest implementations.'\n",
    "    print('Tensorflow version: {}'.format(tf.__version__))\n",
    "    \n",
    "    assert xgb.__version__ >= '0.88.0', 'XGBoost version should be at least 0.88.0 to use newest implementations.'\n",
    "    print('XGBoost version: {}'.format(tf.__version__))\n",
    "    \n",
    "except AssertionError as msg:\n",
    "    print(msg)\n",
    "    \n",
    "# fix the random seed\n",
    "RAND = 42\n",
    "np.random.seed(RAND)"
   ]
  },
  {
   "cell_type": "markdown",
   "metadata": {},
   "source": [
    "We immediately set the memory growth for the gpu in order not to overflow it and avoid leaks when using Tensorflow:"
   ]
  },
  {
   "cell_type": "code",
   "execution_count": 4,
   "metadata": {},
   "outputs": [],
   "source": [
    "# get gpus devices\n",
    "gpus = tf.config.experimental.list_physical_devices('GPU')\n",
    "\n",
    "# set memory growth\n",
    "if gpus:\n",
    "    try:\n",
    "        for gpu in gpus:\n",
    "            tf.config.experimental.set_memory_growth(gpu, True)\n",
    "    except RuntimeError as e:\n",
    "        print(e)"
   ]
  },
  {
   "cell_type": "markdown",
   "metadata": {},
   "source": [
    "Now create the directory structure and path names to work within the notebook:"
   ]
  },
  {
   "cell_type": "code",
   "execution_count": 5,
   "metadata": {},
   "outputs": [],
   "source": [
    "from os import path, makedirs\n",
    "\n",
    "# define directory names\n",
    "ROOT_DIR = '.' #-------------------------------------------------- root directory\n",
    "IMG_DIR  = 'img' #------------------------------------------------ images\n",
    "MOD_DIR  = 'models' #--------------------------------------------- saved models\n",
    "LOG_DIR  = 'log' #------------------------------------------------ logs\n",
    "OUT_DIR  = 'output' #--------------------------------------------- saved predictions, relevant output, etc.\n",
    "\n",
    "DB_NAME = 'data_sft_dict' #--------------------------------------- name of the dataset\n",
    "DB_FILE = DB_NAME + '.json' #------------------------------------- full name with extension\n",
    "DB_PATH = path.join(ROOT_DIR, DB_FILE) #-------------------------- full path of the dataset\n",
    "\n",
    "# define full paths\n",
    "IMG_PATH = path.join(ROOT_DIR, IMG_DIR)\n",
    "MOD_PATH = path.join(ROOT_DIR, MOD_DIR)\n",
    "LOG_PATH = path.join(ROOT_DIR, LOG_DIR)\n",
    "OUT_PATH = path.join(ROOT_DIR, OUT_DIR)\n",
    "\n",
    "# create directories if non existent\n",
    "if not path.isdir(IMG_PATH):\n",
    "    makedirs(IMG_PATH, exist_ok=True)\n",
    "if not path.isdir(MOD_PATH):\n",
    "    makedirs(MOD_PATH, exist_ok=True)\n",
    "if not path.isdir(LOG_PATH):\n",
    "    makedirs(LOG_PATH, exist_ok=True)\n",
    "if not path.isdir(OUT_PATH):\n",
    "    makedirs(OUT_PATH, exist_ok=True)"
   ]
  },
  {
   "cell_type": "markdown",
   "metadata": {},
   "source": [
    "Finally create a logging session to store debug info:"
   ]
  },
  {
   "cell_type": "code",
   "execution_count": 6,
   "metadata": {},
   "outputs": [
    {
     "name": "stdout",
     "output_type": "stream",
     "text": [
      "Rotating existing logs...\n"
     ]
    }
   ],
   "source": [
    "import logging\n",
    "from mltools.liblog import create_logfile\n",
    "\n",
    "LOG_NAME = 'sft-trunc-ml'\n",
    "path_to_log = path.join(LOG_PATH, LOG_NAME + '.log') #------------------------- path to the log\n",
    "log = create_logfile(path_to_log, name=LOG_NAME, level=logging.DEBUG) #---------- create log file and session\n",
    "\n",
    "log.info('\\n\\n'\n",
    "         '--------------------------------------------\\n'\n",
    "         '  MACHINE LEARNING FOR LEVEL TRUNCATION IN\\n'\n",
    "         '  BOSONIC OPEN STRING FIELD THEORY\\n\\n'\n",
    "         '--------------------------------------------\\n'\n",
    "         '  Authors: Harold Erbin, Riccardo Finotello\\n'\n",
    "         '--------------------------------------------\\n'\n",
    "         '  Abstract:\\n\\n'\n",
    "         '  We consider the position of the lumps of\\n'\n",
    "         '  the tachyon potential in bosonic open\\n'\n",
    "         '  string field theory at a finite mass level\\n'\n",
    "         '  truncation. We then extrapolate the\\n'\n",
    "         '  predictions for level-$\\infty$ using\\n'\n",
    "         '  machine learning techniques.\\n\\n'\n",
    "        )"
   ]
  },
  {
   "cell_type": "markdown",
   "metadata": {},
   "source": [
    "## Importing the Database\n",
    "\n",
    "We import the database containing the positions of the lumps of the tachyon potential:"
   ]
  },
  {
   "cell_type": "code",
   "execution_count": 7,
   "metadata": {},
   "outputs": [],
   "source": [
    "if path.isfile(DB_PATH):\n",
    "    df = pd.read_json(DB_PATH)\n",
    "    \n",
    "    if not df.empty:\n",
    "        log.debug('Successfully imported {}'.format(DB_PATH))\n",
    "    else:\n",
    "        sys.stderr.write('Database is empty!')\n",
    "        log.error('Database is empty!')\n",
    "else:\n",
    "    sys.stderr.write('Cannot find database!')"
   ]
  },
  {
   "cell_type": "markdown",
   "metadata": {},
   "source": [
    "We then start to analyse the _dtypes_ of the columns to understand what the dataset is made of:"
   ]
  },
  {
   "cell_type": "code",
   "execution_count": 8,
   "metadata": {},
   "outputs": [
    {
     "data": {
      "text/plain": [
       "init      object\n",
       "exp       object\n",
       "weight    object\n",
       "type      object\n",
       "2         object\n",
       "3         object\n",
       "4         object\n",
       "5         object\n",
       "6         object\n",
       "7         object\n",
       "8         object\n",
       "9         object\n",
       "10        object\n",
       "11        object\n",
       "12        object\n",
       "13        object\n",
       "14        object\n",
       "15        object\n",
       "16        object\n",
       "17        object\n",
       "18        object\n",
       "dtype: object"
      ]
     },
     "execution_count": 8,
     "metadata": {},
     "output_type": "execute_result"
    }
   ],
   "source": [
    "df.dtypes"
   ]
  },
  {
   "cell_type": "markdown",
   "metadata": {},
   "source": [
    "And then we take a look at the first few entries to understand the composition of the dataset:"
   ]
  },
  {
   "cell_type": "code",
   "execution_count": 9,
   "metadata": {},
   "outputs": [
    {
     "data": {
      "text/html": [
       "<div>\n",
       "<style scoped>\n",
       "    .dataframe tbody tr th:only-of-type {\n",
       "        vertical-align: middle;\n",
       "    }\n",
       "\n",
       "    .dataframe tbody tr th {\n",
       "        vertical-align: top;\n",
       "    }\n",
       "\n",
       "    .dataframe thead th {\n",
       "        text-align: right;\n",
       "    }\n",
       "</style>\n",
       "<table border=\"1\" class=\"dataframe\">\n",
       "  <thead>\n",
       "    <tr style=\"text-align: right;\">\n",
       "      <th></th>\n",
       "      <th>init</th>\n",
       "      <th>exp</th>\n",
       "      <th>weight</th>\n",
       "      <th>type</th>\n",
       "      <th>2</th>\n",
       "      <th>3</th>\n",
       "      <th>4</th>\n",
       "      <th>5</th>\n",
       "      <th>6</th>\n",
       "      <th>7</th>\n",
       "      <th>...</th>\n",
       "      <th>9</th>\n",
       "      <th>10</th>\n",
       "      <th>11</th>\n",
       "      <th>12</th>\n",
       "      <th>13</th>\n",
       "      <th>14</th>\n",
       "      <th>15</th>\n",
       "      <th>16</th>\n",
       "      <th>17</th>\n",
       "      <th>18</th>\n",
       "    </tr>\n",
       "  </thead>\n",
       "  <tbody>\n",
       "    <tr>\n",
       "      <th>0</th>\n",
       "      <td>[1, 0, 1, 1, 1, 1, 0, 0, 0, 0, 1, 1, 1, 1, 1]</td>\n",
       "      <td>[1, 0, -1, 1, -1, 1, 1, 1, 1, 1, 1, 0, 0, 0, 0]</td>\n",
       "      <td>[0, 0, 1, 4, 9, 0, 0.25, 1, 2.25, 4, 0, 0.25, ...</td>\n",
       "      <td>[2, 2, 4, 4, 4, 4, 4, 4, 4, 4, 4, 4, 4, 4, 4]</td>\n",
       "      <td>[1, 0, 1, 1, 1, 1, 0, 0, 0, 0, 1, 1, 1, 1, 1]</td>\n",
       "      <td>[1, 0, 1, 1, 1, 1, 0, 0, 0, 0, 1, 1, 1, 1, 1]</td>\n",
       "      <td>[1, 0, 1, 1, 1, 1, 0, 0, 0, 0, 1, 1, 1, 1, 1]</td>\n",
       "      <td>[1, 0, 1, 1, 1, 1, 0, 0, 0, 0, 1, 1, 1, 1, 1]</td>\n",
       "      <td>[1, 0, 1, 1, 1, 1, 0, 0, 0, 0, 1, 1, 1, 1, 1]</td>\n",
       "      <td>[1, 0, 1, 1, 1, 1, 0, 0, 0, 0, 1, 1, 1, 1, 1]</td>\n",
       "      <td>...</td>\n",
       "      <td>[1, 0, 1, 1, 1, 1, 0, 0, 0, 0, 1, 1, 1, 1, 1]</td>\n",
       "      <td>[1, 0, 1, 1, 1, 1, 0, 0, 0, 0, 1, 1, 1, 1, 1]</td>\n",
       "      <td>[1, 0, 1, 1, 1, 1, 0, 0, 0, 0, 1, 1, 1, 1, 1]</td>\n",
       "      <td>[1, 0, 1, 1, 1, 1, 0, 0, 0, 0, 1, 1, 1, 1, 1]</td>\n",
       "      <td>[1, 0, 1, 1, 1, 1, 0, 0, 0, 0, 1, 1, 1, 1, 1]</td>\n",
       "      <td>[1, 0, 1, 1, 1, 1, 0, 0, 0, 0, 1, 1, 1, 1, 1]</td>\n",
       "      <td>[1, 0, 1, 1, 1, 1, 0, 0, 0, 0, 1, 1, 1, 1, 1]</td>\n",
       "      <td>[1, 0, 1, 1, 1, 1, 0, 0, 0, 0, 1, 1, 1, 1, 1]</td>\n",
       "      <td>[1, 0, 1, 1, 1, 1, 0, 0, 0, 0, 1, 1, 1, 1, 1]</td>\n",
       "      <td>[1, 0, 1, 1, 1, 1, 0, 0, 0, 0, 1, 1, 1, 1, 1]</td>\n",
       "    </tr>\n",
       "    <tr>\n",
       "      <th>1</th>\n",
       "      <td>[1.0001, 0, 1.0001, 1.0001, 1.0001, 1.0001, 0,...</td>\n",
       "      <td>[1, 0, -1, 1, -1, 1, 1, 1, 1, 1, 1, 0, 0, 0, 0]</td>\n",
       "      <td>[0, 0, 1, 4, 9, 0, 0.249950007499, 0.999800029...</td>\n",
       "      <td>[2, 2, 4, 4, 4, 4, 4, 4, 4, 4, 4, 4, 4, 4, 4]</td>\n",
       "      <td>[1.000099754465899, -4.382819109385611e-08, 0....</td>\n",
       "      <td>[1.000099754261711, -6.385189815988693e-08, 0....</td>\n",
       "      <td>[1.000099495309939, -1.9972775228453091e-07, 0...</td>\n",
       "      <td>[1.000099494726808, -1.724421881015622e-07, 0....</td>\n",
       "      <td>[1.000099223845491, -3.2173432889712715e-07, 0...</td>\n",
       "      <td>[1.000099222907449, -2.856173963606407e-07, 0....</td>\n",
       "      <td>...</td>\n",
       "      <td>[1.000098951488667, -3.9768513795577186e-07, 0...</td>\n",
       "      <td>[1.000098684133785, -5.470716468222031e-07, 0....</td>\n",
       "      <td>[1.000098682609473, -5.081256574169557e-07, 0....</td>\n",
       "      <td>[1.000098418312006, -6.559751804689415e-07, 0....</td>\n",
       "      <td>[1.000098416531483, -6.169537248661669e-07, 0....</td>\n",
       "      <td>[1.000098155198292, -7.630807670831046e-07, 0....</td>\n",
       "      <td>[1.000098153176776, -7.242020485026188e-07, 0....</td>\n",
       "      <td>[1.000097894670832, -8.685182838696036e-07, 0....</td>\n",
       "      <td>[1.000097892420157, -8.29888184051414e-07, 0.9...</td>\n",
       "      <td>[1.000097636616163, -9.72346758033437e-07, 0.9...</td>\n",
       "    </tr>\n",
       "    <tr>\n",
       "      <th>2</th>\n",
       "      <td>[1.001, 0, 1.001, 1.001, 1.001, 1.001, 0, 0, 0...</td>\n",
       "      <td>[1, 0, -1, 1, -1, 1, 1, 1, 1, 1, 1, 0, 0, 0, 0]</td>\n",
       "      <td>[0, 0, 1, 4, 9, 0, 0.24950074900124802, 0.9980...</td>\n",
       "      <td>[2, 2, 4, 4, 4, 4, 4, 4, 4, 4, 4, 4, 4, 4, 4]</td>\n",
       "      <td>[1.000976232275641, -3.8820163895943e-06, 0.90...</td>\n",
       "      <td>[1.000976049237533, -5.9682788728782085e-06, 0...</td>\n",
       "      <td>[1.000952815386108, -1.689178344782202e-05, 0....</td>\n",
       "      <td>[1.000952352120989, -1.5047680126166993e-05, 0...</td>\n",
       "      <td>[1.000929855311967, -2.5515953552563565e-05, 0...</td>\n",
       "      <td>[1.000929190755388, -2.3264350581688953e-05, 0...</td>\n",
       "      <td>...</td>\n",
       "      <td>[1.0009075350494, -3.03802946004187e-05, 0.664...</td>\n",
       "      <td>[1.000888236249875, -3.860013055708573e-05, 0....</td>\n",
       "      <td>[1.000887354078869, -3.657126395737419e-05, 0....</td>\n",
       "      <td>[1.000869431716091, -4.387998808033297e-05, 0....</td>\n",
       "      <td>[1.000868490272024, -4.199905525467674e-05, 0....</td>\n",
       "      <td>[1.000851773655717, -4.853491335211209e-05, 0....</td>\n",
       "      <td>[1.000850791489764, -4.6788451470318466e-05, 0...</td>\n",
       "      <td>[1.000835137520457, -5.266383019452565e-05, 0....</td>\n",
       "      <td>[1.000834127701389, -5.1036790056833293e-05, 0...</td>\n",
       "      <td>[1.000819417460843, -5.634321216588246e-05, 0....</td>\n",
       "    </tr>\n",
       "  </tbody>\n",
       "</table>\n",
       "<p>3 rows × 21 columns</p>\n",
       "</div>"
      ],
      "text/plain": [
       "                                                init  \\\n",
       "0      [1, 0, 1, 1, 1, 1, 0, 0, 0, 0, 1, 1, 1, 1, 1]   \n",
       "1  [1.0001, 0, 1.0001, 1.0001, 1.0001, 1.0001, 0,...   \n",
       "2  [1.001, 0, 1.001, 1.001, 1.001, 1.001, 0, 0, 0...   \n",
       "\n",
       "                                               exp  \\\n",
       "0  [1, 0, -1, 1, -1, 1, 1, 1, 1, 1, 1, 0, 0, 0, 0]   \n",
       "1  [1, 0, -1, 1, -1, 1, 1, 1, 1, 1, 1, 0, 0, 0, 0]   \n",
       "2  [1, 0, -1, 1, -1, 1, 1, 1, 1, 1, 1, 0, 0, 0, 0]   \n",
       "\n",
       "                                              weight  \\\n",
       "0  [0, 0, 1, 4, 9, 0, 0.25, 1, 2.25, 4, 0, 0.25, ...   \n",
       "1  [0, 0, 1, 4, 9, 0, 0.249950007499, 0.999800029...   \n",
       "2  [0, 0, 1, 4, 9, 0, 0.24950074900124802, 0.9980...   \n",
       "\n",
       "                                            type  \\\n",
       "0  [2, 2, 4, 4, 4, 4, 4, 4, 4, 4, 4, 4, 4, 4, 4]   \n",
       "1  [2, 2, 4, 4, 4, 4, 4, 4, 4, 4, 4, 4, 4, 4, 4]   \n",
       "2  [2, 2, 4, 4, 4, 4, 4, 4, 4, 4, 4, 4, 4, 4, 4]   \n",
       "\n",
       "                                                   2  \\\n",
       "0      [1, 0, 1, 1, 1, 1, 0, 0, 0, 0, 1, 1, 1, 1, 1]   \n",
       "1  [1.000099754465899, -4.382819109385611e-08, 0....   \n",
       "2  [1.000976232275641, -3.8820163895943e-06, 0.90...   \n",
       "\n",
       "                                                   3  \\\n",
       "0      [1, 0, 1, 1, 1, 1, 0, 0, 0, 0, 1, 1, 1, 1, 1]   \n",
       "1  [1.000099754261711, -6.385189815988693e-08, 0....   \n",
       "2  [1.000976049237533, -5.9682788728782085e-06, 0...   \n",
       "\n",
       "                                                   4  \\\n",
       "0      [1, 0, 1, 1, 1, 1, 0, 0, 0, 0, 1, 1, 1, 1, 1]   \n",
       "1  [1.000099495309939, -1.9972775228453091e-07, 0...   \n",
       "2  [1.000952815386108, -1.689178344782202e-05, 0....   \n",
       "\n",
       "                                                   5  \\\n",
       "0      [1, 0, 1, 1, 1, 1, 0, 0, 0, 0, 1, 1, 1, 1, 1]   \n",
       "1  [1.000099494726808, -1.724421881015622e-07, 0....   \n",
       "2  [1.000952352120989, -1.5047680126166993e-05, 0...   \n",
       "\n",
       "                                                   6  \\\n",
       "0      [1, 0, 1, 1, 1, 1, 0, 0, 0, 0, 1, 1, 1, 1, 1]   \n",
       "1  [1.000099223845491, -3.2173432889712715e-07, 0...   \n",
       "2  [1.000929855311967, -2.5515953552563565e-05, 0...   \n",
       "\n",
       "                                                   7  ...  \\\n",
       "0      [1, 0, 1, 1, 1, 1, 0, 0, 0, 0, 1, 1, 1, 1, 1]  ...   \n",
       "1  [1.000099222907449, -2.856173963606407e-07, 0....  ...   \n",
       "2  [1.000929190755388, -2.3264350581688953e-05, 0...  ...   \n",
       "\n",
       "                                                   9  \\\n",
       "0      [1, 0, 1, 1, 1, 1, 0, 0, 0, 0, 1, 1, 1, 1, 1]   \n",
       "1  [1.000098951488667, -3.9768513795577186e-07, 0...   \n",
       "2  [1.0009075350494, -3.03802946004187e-05, 0.664...   \n",
       "\n",
       "                                                  10  \\\n",
       "0      [1, 0, 1, 1, 1, 1, 0, 0, 0, 0, 1, 1, 1, 1, 1]   \n",
       "1  [1.000098684133785, -5.470716468222031e-07, 0....   \n",
       "2  [1.000888236249875, -3.860013055708573e-05, 0....   \n",
       "\n",
       "                                                  11  \\\n",
       "0      [1, 0, 1, 1, 1, 1, 0, 0, 0, 0, 1, 1, 1, 1, 1]   \n",
       "1  [1.000098682609473, -5.081256574169557e-07, 0....   \n",
       "2  [1.000887354078869, -3.657126395737419e-05, 0....   \n",
       "\n",
       "                                                  12  \\\n",
       "0      [1, 0, 1, 1, 1, 1, 0, 0, 0, 0, 1, 1, 1, 1, 1]   \n",
       "1  [1.000098418312006, -6.559751804689415e-07, 0....   \n",
       "2  [1.000869431716091, -4.387998808033297e-05, 0....   \n",
       "\n",
       "                                                  13  \\\n",
       "0      [1, 0, 1, 1, 1, 1, 0, 0, 0, 0, 1, 1, 1, 1, 1]   \n",
       "1  [1.000098416531483, -6.169537248661669e-07, 0....   \n",
       "2  [1.000868490272024, -4.199905525467674e-05, 0....   \n",
       "\n",
       "                                                  14  \\\n",
       "0      [1, 0, 1, 1, 1, 1, 0, 0, 0, 0, 1, 1, 1, 1, 1]   \n",
       "1  [1.000098155198292, -7.630807670831046e-07, 0....   \n",
       "2  [1.000851773655717, -4.853491335211209e-05, 0....   \n",
       "\n",
       "                                                  15  \\\n",
       "0      [1, 0, 1, 1, 1, 1, 0, 0, 0, 0, 1, 1, 1, 1, 1]   \n",
       "1  [1.000098153176776, -7.242020485026188e-07, 0....   \n",
       "2  [1.000850791489764, -4.6788451470318466e-05, 0...   \n",
       "\n",
       "                                                  16  \\\n",
       "0      [1, 0, 1, 1, 1, 1, 0, 0, 0, 0, 1, 1, 1, 1, 1]   \n",
       "1  [1.000097894670832, -8.685182838696036e-07, 0....   \n",
       "2  [1.000835137520457, -5.266383019452565e-05, 0....   \n",
       "\n",
       "                                                  17  \\\n",
       "0      [1, 0, 1, 1, 1, 1, 0, 0, 0, 0, 1, 1, 1, 1, 1]   \n",
       "1  [1.000097892420157, -8.29888184051414e-07, 0.9...   \n",
       "2  [1.000834127701389, -5.1036790056833293e-05, 0...   \n",
       "\n",
       "                                                  18  \n",
       "0      [1, 0, 1, 1, 1, 1, 0, 0, 0, 0, 1, 1, 1, 1, 1]  \n",
       "1  [1.000097636616163, -9.72346758033437e-07, 0.9...  \n",
       "2  [1.000819417460843, -5.634321216588246e-05, 0....  \n",
       "\n",
       "[3 rows x 21 columns]"
      ]
     },
     "execution_count": 9,
     "metadata": {},
     "output_type": "execute_result"
    }
   ],
   "source": [
    "df.head(3)"
   ]
  },
  {
   "cell_type": "markdown",
   "metadata": {},
   "source": [
    "In total we are dealing with a dataset of shape:"
   ]
  },
  {
   "cell_type": "code",
   "execution_count": 10,
   "metadata": {},
   "outputs": [
    {
     "data": {
      "text/plain": [
       "(46, 21)"
      ]
     },
     "execution_count": 10,
     "metadata": {},
     "output_type": "execute_result"
    }
   ],
   "source": [
    "df.shape"
   ]
  },
  {
   "cell_type": "markdown",
   "metadata": {},
   "source": [
    "In the dataset we have therefore different predictions for the position of the lumps of the bosonic potential: they correspond to different choices of the initial point and other properties and data for 18 levels of mass truncation are provided together with the extrapolation for the level-$\\infty$."
   ]
  },
  {
   "cell_type": "markdown",
   "metadata": {},
   "source": [
    "## Features Extraction and Manipulation\n",
    "\n",
    "Before moving to the analysis we need to extract the modify the features in the dataset."
   ]
  },
  {
   "cell_type": "markdown",
   "metadata": {},
   "source": [
    "First of all we exclude the first entry which looks too static and artificially \"perfect\" to help in the predictions."
   ]
  },
  {
   "cell_type": "code",
   "execution_count": 11,
   "metadata": {},
   "outputs": [
    {
     "name": "stdout",
     "output_type": "stream",
     "text": [
      "New shape of the dataset: (45, 21)\n"
     ]
    }
   ],
   "source": [
    "df = df[1:].reset_index(drop=True) #------ drop first entry and reset the index counter (do not include former index as column)\n",
    "print('New shape of the dataset: {}'.format(df.shape))\n",
    "\n",
    "log.info('Dropped first entry of the dataset. New shape: {}'.format(df.shape))"
   ]
  },
  {
   "cell_type": "markdown",
   "metadata": {},
   "source": [
    "We then check that row-wise the size of the elements is unique:"
   ]
  },
  {
   "cell_type": "code",
   "execution_count": 12,
   "metadata": {},
   "outputs": [],
   "source": [
    "df_sizes = df.applymap(np.shape)\\\n",
    "             .apply(np.unique, axis=1) #-------------------------------- compute the shape of each element of the dataframe and\n",
    "#----------------------------------------------------------------------- take the unique values in each row\n",
    "\n",
    "df_sizes_if_unique = df_sizes.apply(lambda x: np.shape(x) == (1,))\\\n",
    "                             .sum(axis=0) #----------------------------- check if each row contains only one element and\n",
    "#----------------------------------------------------------------------- sum True values which should equal the size of the dataframe\n",
    "\n",
    "try:\n",
    "    assert df_sizes_if_unique == df.shape[0], 'Sizes along rows are not unique!'\n",
    "    log.info('Sizes along rows are unique.')\n",
    "except AssertionError as msg:\n",
    "    log.error(msg)\n",
    "    print(msg)"
   ]
  },
  {
   "cell_type": "markdown",
   "metadata": {},
   "source": [
    "We then add one column which represents the position of each datum inside its own system of solutions:"
   ]
  },
  {
   "cell_type": "code",
   "execution_count": 13,
   "metadata": {},
   "outputs": [],
   "source": [
    "def pad_index(index, shape):\n",
    "    '''\n",
    "    Pad the index number with a certain shape.\n",
    "    \n",
    "    Required arguments:\n",
    "        index: the index to pad\n",
    "        shape: the shape of the padding\n",
    "        \n",
    "    Returns:\n",
    "        the padded index\n",
    "    '''\n",
    "    \n",
    "    return [index] * np.prod(shape)\n",
    "\n",
    "def pad_index_list(index_list, shape_list):\n",
    "    '''\n",
    "    Pad the entire list of indices.\n",
    "    \n",
    "    Required arguments:\n",
    "        index_list: list of indices to pad\n",
    "        shape_list: list of shapes of the paddings\n",
    "    '''\n",
    "    \n",
    "    try:\n",
    "        assert df.shape[0] == df_sizes.shape[0]\n",
    "    except AssertionError as msg:\n",
    "        print(msg)\n",
    "        \n",
    "    full_list = []\n",
    "    for n in range(df.shape[0]):\n",
    "        full_list.append(pad_index(index_list[n], shape_list[n]))\n",
    "        \n",
    "    return full_list\n",
    "\n",
    "# add the column with the list of indices\n",
    "df['system'] = pad_index_list(df.index, df_sizes.apply(lambda x: x[0]))\n",
    "log.info('Add \"system\" feature as reference.')\n",
    "\n",
    "# reorder the dataframe\n",
    "df = df[['system', 'init', 'weight', 'type', '2', '3', '4', '5', '6', '7', '8', '9', '10', '11', '12', '13', '14', '15', '16', '17', '18', 'exp']]"
   ]
  },
  {
   "cell_type": "markdown",
   "metadata": {},
   "source": [
    "We then \"flatten\" the systems: for each system we build a new dataframe and then concatenate each of the new dataframes."
   ]
  },
  {
   "cell_type": "code",
   "execution_count": 14,
   "metadata": {},
   "outputs": [
    {
     "data": {
      "text/html": [
       "<div>\n",
       "<style scoped>\n",
       "    .dataframe tbody tr th:only-of-type {\n",
       "        vertical-align: middle;\n",
       "    }\n",
       "\n",
       "    .dataframe tbody tr th {\n",
       "        vertical-align: top;\n",
       "    }\n",
       "\n",
       "    .dataframe thead th {\n",
       "        text-align: right;\n",
       "    }\n",
       "</style>\n",
       "<table border=\"1\" class=\"dataframe\">\n",
       "  <thead>\n",
       "    <tr style=\"text-align: right;\">\n",
       "      <th></th>\n",
       "      <th>system</th>\n",
       "      <th>init</th>\n",
       "      <th>weight</th>\n",
       "      <th>type</th>\n",
       "      <th>2</th>\n",
       "      <th>3</th>\n",
       "      <th>4</th>\n",
       "      <th>5</th>\n",
       "      <th>6</th>\n",
       "      <th>7</th>\n",
       "      <th>...</th>\n",
       "      <th>10</th>\n",
       "      <th>11</th>\n",
       "      <th>12</th>\n",
       "      <th>13</th>\n",
       "      <th>14</th>\n",
       "      <th>15</th>\n",
       "      <th>16</th>\n",
       "      <th>17</th>\n",
       "      <th>18</th>\n",
       "      <th>exp</th>\n",
       "    </tr>\n",
       "  </thead>\n",
       "  <tbody>\n",
       "    <tr>\n",
       "      <th>count</th>\n",
       "      <td>763.000000</td>\n",
       "      <td>763.000000</td>\n",
       "      <td>763.000000</td>\n",
       "      <td>763.000000</td>\n",
       "      <td>763.000000</td>\n",
       "      <td>763.000000</td>\n",
       "      <td>763.000000</td>\n",
       "      <td>763.000000</td>\n",
       "      <td>763.000000</td>\n",
       "      <td>763.000000</td>\n",
       "      <td>...</td>\n",
       "      <td>763.000000</td>\n",
       "      <td>763.000000</td>\n",
       "      <td>763.000000</td>\n",
       "      <td>763.000000</td>\n",
       "      <td>763.000000</td>\n",
       "      <td>763.000000</td>\n",
       "      <td>763.000000</td>\n",
       "      <td>763.000000</td>\n",
       "      <td>7.630000e+02</td>\n",
       "      <td>763.000000</td>\n",
       "    </tr>\n",
       "    <tr>\n",
       "      <th>mean</th>\n",
       "      <td>23.237221</td>\n",
       "      <td>0.900145</td>\n",
       "      <td>1.864810</td>\n",
       "      <td>3.764089</td>\n",
       "      <td>-1.486604</td>\n",
       "      <td>-1.646112</td>\n",
       "      <td>7.572923</td>\n",
       "      <td>8.009875</td>\n",
       "      <td>-32.442704</td>\n",
       "      <td>-33.974851</td>\n",
       "      <td>...</td>\n",
       "      <td>-707.859825</td>\n",
       "      <td>-730.665421</td>\n",
       "      <td>2880.727031</td>\n",
       "      <td>2962.131627</td>\n",
       "      <td>-10880.473304</td>\n",
       "      <td>-11156.002595</td>\n",
       "      <td>38233.218285</td>\n",
       "      <td>39115.222069</td>\n",
       "      <td>-1.256117e+05</td>\n",
       "      <td>0.568807</td>\n",
       "    </tr>\n",
       "    <tr>\n",
       "      <th>std</th>\n",
       "      <td>13.025317</td>\n",
       "      <td>1.018137</td>\n",
       "      <td>2.314590</td>\n",
       "      <td>0.645534</td>\n",
       "      <td>4.459840</td>\n",
       "      <td>4.903356</td>\n",
       "      <td>20.975753</td>\n",
       "      <td>22.199837</td>\n",
       "      <td>108.036621</td>\n",
       "      <td>113.190933</td>\n",
       "      <td>...</td>\n",
       "      <td>2772.330578</td>\n",
       "      <td>2859.981462</td>\n",
       "      <td>11577.937424</td>\n",
       "      <td>11896.896973</td>\n",
       "      <td>44115.397542</td>\n",
       "      <td>45204.266729</td>\n",
       "      <td>155584.082650</td>\n",
       "      <td>159093.092977</td>\n",
       "      <td>5.129852e+05</td>\n",
       "      <td>0.694124</td>\n",
       "    </tr>\n",
       "    <tr>\n",
       "      <th>min</th>\n",
       "      <td>0.000000</td>\n",
       "      <td>0.000000</td>\n",
       "      <td>0.000000</td>\n",
       "      <td>2.000000</td>\n",
       "      <td>-19.744040</td>\n",
       "      <td>-21.893983</td>\n",
       "      <td>-0.754568</td>\n",
       "      <td>-0.782633</td>\n",
       "      <td>-514.984097</td>\n",
       "      <td>-538.627792</td>\n",
       "      <td>...</td>\n",
       "      <td>-13321.170445</td>\n",
       "      <td>-13781.246472</td>\n",
       "      <td>-8.850113</td>\n",
       "      <td>-12.265769</td>\n",
       "      <td>-211473.396816</td>\n",
       "      <td>-216475.644423</td>\n",
       "      <td>-44.356923</td>\n",
       "      <td>-66.596211</td>\n",
       "      <td>-2.489024e+06</td>\n",
       "      <td>-1.000000</td>\n",
       "    </tr>\n",
       "    <tr>\n",
       "      <th>25%</th>\n",
       "      <td>12.000000</td>\n",
       "      <td>0.000000</td>\n",
       "      <td>0.040825</td>\n",
       "      <td>4.000000</td>\n",
       "      <td>-0.685810</td>\n",
       "      <td>-0.973798</td>\n",
       "      <td>0.000000</td>\n",
       "      <td>0.000000</td>\n",
       "      <td>-0.896869</td>\n",
       "      <td>-0.915398</td>\n",
       "      <td>...</td>\n",
       "      <td>-1.022243</td>\n",
       "      <td>-1.073550</td>\n",
       "      <td>0.001907</td>\n",
       "      <td>0.001975</td>\n",
       "      <td>-2.093628</td>\n",
       "      <td>-4.152302</td>\n",
       "      <td>0.139497</td>\n",
       "      <td>0.124570</td>\n",
       "      <td>-6.801183e+00</td>\n",
       "      <td>0.000000</td>\n",
       "    </tr>\n",
       "    <tr>\n",
       "      <th>50%</th>\n",
       "      <td>24.000000</td>\n",
       "      <td>0.000000</td>\n",
       "      <td>1.000000</td>\n",
       "      <td>4.000000</td>\n",
       "      <td>0.000000</td>\n",
       "      <td>0.000000</td>\n",
       "      <td>0.938337</td>\n",
       "      <td>0.944864</td>\n",
       "      <td>0.000000</td>\n",
       "      <td>0.002741</td>\n",
       "      <td>...</td>\n",
       "      <td>0.002597</td>\n",
       "      <td>0.002644</td>\n",
       "      <td>0.999960</td>\n",
       "      <td>0.997910</td>\n",
       "      <td>0.473076</td>\n",
       "      <td>0.550104</td>\n",
       "      <td>1.005628</td>\n",
       "      <td>1.005427</td>\n",
       "      <td>8.994815e-01</td>\n",
       "      <td>1.000000</td>\n",
       "    </tr>\n",
       "    <tr>\n",
       "      <th>75%</th>\n",
       "      <td>35.000000</td>\n",
       "      <td>1.750000</td>\n",
       "      <td>2.985594</td>\n",
       "      <td>4.000000</td>\n",
       "      <td>0.912406</td>\n",
       "      <td>0.992236</td>\n",
       "      <td>1.347502</td>\n",
       "      <td>1.486801</td>\n",
       "      <td>0.991624</td>\n",
       "      <td>1.000029</td>\n",
       "      <td>...</td>\n",
       "      <td>1.000028</td>\n",
       "      <td>1.004544</td>\n",
       "      <td>3.385307</td>\n",
       "      <td>5.228127</td>\n",
       "      <td>1.006120</td>\n",
       "      <td>1.006436</td>\n",
       "      <td>7.344206</td>\n",
       "      <td>10.777103</td>\n",
       "      <td>1.005195e+00</td>\n",
       "      <td>1.000000</td>\n",
       "    </tr>\n",
       "    <tr>\n",
       "      <th>max</th>\n",
       "      <td>44.000000</td>\n",
       "      <td>3.000000</td>\n",
       "      <td>9.000000</td>\n",
       "      <td>4.000000</td>\n",
       "      <td>1.239384</td>\n",
       "      <td>1.358098</td>\n",
       "      <td>122.931347</td>\n",
       "      <td>131.675490</td>\n",
       "      <td>2.275741</td>\n",
       "      <td>2.712998</td>\n",
       "      <td>...</td>\n",
       "      <td>5.243298</td>\n",
       "      <td>6.283092</td>\n",
       "      <td>56115.100219</td>\n",
       "      <td>57592.698860</td>\n",
       "      <td>16.106978</td>\n",
       "      <td>23.077325</td>\n",
       "      <td>731718.332090</td>\n",
       "      <td>748286.961169</td>\n",
       "      <td>1.033588e+02</td>\n",
       "      <td>1.000000</td>\n",
       "    </tr>\n",
       "  </tbody>\n",
       "</table>\n",
       "<p>8 rows × 22 columns</p>\n",
       "</div>"
      ],
      "text/plain": [
       "           system        init      weight        type           2           3  \\\n",
       "count  763.000000  763.000000  763.000000  763.000000  763.000000  763.000000   \n",
       "mean    23.237221    0.900145    1.864810    3.764089   -1.486604   -1.646112   \n",
       "std     13.025317    1.018137    2.314590    0.645534    4.459840    4.903356   \n",
       "min      0.000000    0.000000    0.000000    2.000000  -19.744040  -21.893983   \n",
       "25%     12.000000    0.000000    0.040825    4.000000   -0.685810   -0.973798   \n",
       "50%     24.000000    0.000000    1.000000    4.000000    0.000000    0.000000   \n",
       "75%     35.000000    1.750000    2.985594    4.000000    0.912406    0.992236   \n",
       "max     44.000000    3.000000    9.000000    4.000000    1.239384    1.358098   \n",
       "\n",
       "                4           5           6           7  ...            10  \\\n",
       "count  763.000000  763.000000  763.000000  763.000000  ...    763.000000   \n",
       "mean     7.572923    8.009875  -32.442704  -33.974851  ...   -707.859825   \n",
       "std     20.975753   22.199837  108.036621  113.190933  ...   2772.330578   \n",
       "min     -0.754568   -0.782633 -514.984097 -538.627792  ... -13321.170445   \n",
       "25%      0.000000    0.000000   -0.896869   -0.915398  ...     -1.022243   \n",
       "50%      0.938337    0.944864    0.000000    0.002741  ...      0.002597   \n",
       "75%      1.347502    1.486801    0.991624    1.000029  ...      1.000028   \n",
       "max    122.931347  131.675490    2.275741    2.712998  ...      5.243298   \n",
       "\n",
       "                 11            12            13             14             15  \\\n",
       "count    763.000000    763.000000    763.000000     763.000000     763.000000   \n",
       "mean    -730.665421   2880.727031   2962.131627  -10880.473304  -11156.002595   \n",
       "std     2859.981462  11577.937424  11896.896973   44115.397542   45204.266729   \n",
       "min   -13781.246472     -8.850113    -12.265769 -211473.396816 -216475.644423   \n",
       "25%       -1.073550      0.001907      0.001975      -2.093628      -4.152302   \n",
       "50%        0.002644      0.999960      0.997910       0.473076       0.550104   \n",
       "75%        1.004544      3.385307      5.228127       1.006120       1.006436   \n",
       "max        6.283092  56115.100219  57592.698860      16.106978      23.077325   \n",
       "\n",
       "                  16             17            18         exp  \n",
       "count     763.000000     763.000000  7.630000e+02  763.000000  \n",
       "mean    38233.218285   39115.222069 -1.256117e+05    0.568807  \n",
       "std    155584.082650  159093.092977  5.129852e+05    0.694124  \n",
       "min       -44.356923     -66.596211 -2.489024e+06   -1.000000  \n",
       "25%         0.139497       0.124570 -6.801183e+00    0.000000  \n",
       "50%         1.005628       1.005427  8.994815e-01    1.000000  \n",
       "75%         7.344206      10.777103  1.005195e+00    1.000000  \n",
       "max    731718.332090  748286.961169  1.033588e+02    1.000000  \n",
       "\n",
       "[8 rows x 22 columns]"
      ]
     },
     "execution_count": 14,
     "metadata": {},
     "output_type": "execute_result"
    }
   ],
   "source": [
    "df_flat = pd.concat([pd.DataFrame({f: df[f].iloc[n] for f in df}) for n in range(df.shape[0])], axis=0, ignore_index=True)\n",
    "log.debug('New flattened dataframe has been built.')\n",
    "\n",
    "# describe the new dataset\n",
    "df_flat.describe()"
   ]
  },
  {
   "cell_type": "markdown",
   "metadata": {},
   "source": [
    "## Duplicates Search and Outliers Detection\n",
    "\n",
    "We then analyse the new dataset in search of duplicates and outliers. We will drop the firsts, while we will keep the seconds even though we want to identify them."
   ]
  },
  {
   "cell_type": "code",
   "execution_count": 15,
   "metadata": {},
   "outputs": [
    {
     "data": {
      "text/html": [
       "<div>\n",
       "<style scoped>\n",
       "    .dataframe tbody tr th:only-of-type {\n",
       "        vertical-align: middle;\n",
       "    }\n",
       "\n",
       "    .dataframe tbody tr th {\n",
       "        vertical-align: top;\n",
       "    }\n",
       "\n",
       "    .dataframe thead th {\n",
       "        text-align: right;\n",
       "    }\n",
       "</style>\n",
       "<table border=\"1\" class=\"dataframe\">\n",
       "  <thead>\n",
       "    <tr style=\"text-align: right;\">\n",
       "      <th></th>\n",
       "      <th>system</th>\n",
       "      <th>init</th>\n",
       "      <th>weight</th>\n",
       "      <th>type</th>\n",
       "      <th>2</th>\n",
       "      <th>3</th>\n",
       "      <th>4</th>\n",
       "      <th>5</th>\n",
       "      <th>6</th>\n",
       "      <th>7</th>\n",
       "      <th>...</th>\n",
       "      <th>10</th>\n",
       "      <th>11</th>\n",
       "      <th>12</th>\n",
       "      <th>13</th>\n",
       "      <th>14</th>\n",
       "      <th>15</th>\n",
       "      <th>16</th>\n",
       "      <th>17</th>\n",
       "      <th>18</th>\n",
       "      <th>exp</th>\n",
       "    </tr>\n",
       "  </thead>\n",
       "  <tbody>\n",
       "    <tr>\n",
       "      <th>count</th>\n",
       "      <td>718.000000</td>\n",
       "      <td>718.000000</td>\n",
       "      <td>718.000000</td>\n",
       "      <td>718.000000</td>\n",
       "      <td>718.000000</td>\n",
       "      <td>718.000000</td>\n",
       "      <td>718.000000</td>\n",
       "      <td>718.000000</td>\n",
       "      <td>718.000000</td>\n",
       "      <td>718.000000</td>\n",
       "      <td>...</td>\n",
       "      <td>718.000000</td>\n",
       "      <td>718.000000</td>\n",
       "      <td>718.000000</td>\n",
       "      <td>718.000000</td>\n",
       "      <td>718.000000</td>\n",
       "      <td>718.000000</td>\n",
       "      <td>718.000000</td>\n",
       "      <td>718.000000</td>\n",
       "      <td>7.180000e+02</td>\n",
       "      <td>718.000000</td>\n",
       "    </tr>\n",
       "    <tr>\n",
       "      <th>mean</th>\n",
       "      <td>23.314763</td>\n",
       "      <td>0.836629</td>\n",
       "      <td>1.981686</td>\n",
       "      <td>3.749304</td>\n",
       "      <td>-1.649589</td>\n",
       "      <td>-1.817170</td>\n",
       "      <td>7.981259</td>\n",
       "      <td>8.445939</td>\n",
       "      <td>-34.541055</td>\n",
       "      <td>-36.169106</td>\n",
       "      <td>...</td>\n",
       "      <td>-752.288433</td>\n",
       "      <td>-776.523313</td>\n",
       "      <td>3061.210057</td>\n",
       "      <td>3147.716636</td>\n",
       "      <td>-11562.460857</td>\n",
       "      <td>-11855.258680</td>\n",
       "      <td>40629.386999</td>\n",
       "      <td>41566.669584</td>\n",
       "      <td>-1.334843e+05</td>\n",
       "      <td>0.541783</td>\n",
       "    </tr>\n",
       "    <tr>\n",
       "      <th>std</th>\n",
       "      <td>13.023788</td>\n",
       "      <td>1.004161</td>\n",
       "      <td>2.337013</td>\n",
       "      <td>0.662688</td>\n",
       "      <td>4.548304</td>\n",
       "      <td>5.005473</td>\n",
       "      <td>21.558408</td>\n",
       "      <td>22.815235</td>\n",
       "      <td>111.039170</td>\n",
       "      <td>116.338079</td>\n",
       "      <td>...</td>\n",
       "      <td>2852.135166</td>\n",
       "      <td>2942.302665</td>\n",
       "      <td>11912.541567</td>\n",
       "      <td>12240.685674</td>\n",
       "      <td>45391.801105</td>\n",
       "      <td>46512.063723</td>\n",
       "      <td>160087.941813</td>\n",
       "      <td>163698.216993</td>\n",
       "      <td>5.278422e+05</td>\n",
       "      <td>0.706857</td>\n",
       "    </tr>\n",
       "    <tr>\n",
       "      <th>min</th>\n",
       "      <td>0.000000</td>\n",
       "      <td>0.000000</td>\n",
       "      <td>0.000000</td>\n",
       "      <td>2.000000</td>\n",
       "      <td>-19.744040</td>\n",
       "      <td>-21.893983</td>\n",
       "      <td>-0.754568</td>\n",
       "      <td>-0.782633</td>\n",
       "      <td>-514.984097</td>\n",
       "      <td>-538.627792</td>\n",
       "      <td>...</td>\n",
       "      <td>-13321.170445</td>\n",
       "      <td>-13781.246472</td>\n",
       "      <td>-8.850113</td>\n",
       "      <td>-12.265769</td>\n",
       "      <td>-211473.396816</td>\n",
       "      <td>-216475.644423</td>\n",
       "      <td>-44.356923</td>\n",
       "      <td>-66.596211</td>\n",
       "      <td>-2.489024e+06</td>\n",
       "      <td>-1.000000</td>\n",
       "    </tr>\n",
       "    <tr>\n",
       "      <th>25%</th>\n",
       "      <td>12.000000</td>\n",
       "      <td>0.000000</td>\n",
       "      <td>0.155340</td>\n",
       "      <td>4.000000</td>\n",
       "      <td>-0.819357</td>\n",
       "      <td>-1.048764</td>\n",
       "      <td>0.000000</td>\n",
       "      <td>0.000000</td>\n",
       "      <td>-0.924887</td>\n",
       "      <td>-0.941950</td>\n",
       "      <td>...</td>\n",
       "      <td>-1.122517</td>\n",
       "      <td>-2.123912</td>\n",
       "      <td>0.001518</td>\n",
       "      <td>0.001679</td>\n",
       "      <td>-3.214377</td>\n",
       "      <td>-6.185564</td>\n",
       "      <td>0.045728</td>\n",
       "      <td>0.042314</td>\n",
       "      <td>-2.569285e+01</td>\n",
       "      <td>0.000000</td>\n",
       "    </tr>\n",
       "    <tr>\n",
       "      <th>50%</th>\n",
       "      <td>24.000000</td>\n",
       "      <td>0.000000</td>\n",
       "      <td>1.000100</td>\n",
       "      <td>4.000000</td>\n",
       "      <td>0.000000</td>\n",
       "      <td>0.000000</td>\n",
       "      <td>0.923914</td>\n",
       "      <td>0.935052</td>\n",
       "      <td>0.000000</td>\n",
       "      <td>0.000000</td>\n",
       "      <td>...</td>\n",
       "      <td>0.001407</td>\n",
       "      <td>0.001712</td>\n",
       "      <td>0.987326</td>\n",
       "      <td>0.987066</td>\n",
       "      <td>0.001634</td>\n",
       "      <td>0.004821</td>\n",
       "      <td>1.004445</td>\n",
       "      <td>1.001084</td>\n",
       "      <td>9.732395e-02</td>\n",
       "      <td>1.000000</td>\n",
       "    </tr>\n",
       "    <tr>\n",
       "      <th>75%</th>\n",
       "      <td>35.000000</td>\n",
       "      <td>1.650000</td>\n",
       "      <td>3.213367</td>\n",
       "      <td>4.000000</td>\n",
       "      <td>0.795133</td>\n",
       "      <td>0.913984</td>\n",
       "      <td>1.408763</td>\n",
       "      <td>1.552803</td>\n",
       "      <td>0.960644</td>\n",
       "      <td>0.984305</td>\n",
       "      <td>...</td>\n",
       "      <td>0.991467</td>\n",
       "      <td>0.996329</td>\n",
       "      <td>4.397037</td>\n",
       "      <td>6.811820</td>\n",
       "      <td>0.997875</td>\n",
       "      <td>1.001248</td>\n",
       "      <td>16.098058</td>\n",
       "      <td>16.131990</td>\n",
       "      <td>1.003658e+00</td>\n",
       "      <td>1.000000</td>\n",
       "    </tr>\n",
       "    <tr>\n",
       "      <th>max</th>\n",
       "      <td>44.000000</td>\n",
       "      <td>3.000000</td>\n",
       "      <td>9.000000</td>\n",
       "      <td>4.000000</td>\n",
       "      <td>1.239384</td>\n",
       "      <td>1.358098</td>\n",
       "      <td>122.931347</td>\n",
       "      <td>131.675490</td>\n",
       "      <td>2.275741</td>\n",
       "      <td>2.712998</td>\n",
       "      <td>...</td>\n",
       "      <td>5.243298</td>\n",
       "      <td>6.283092</td>\n",
       "      <td>56115.100219</td>\n",
       "      <td>57592.698860</td>\n",
       "      <td>16.106978</td>\n",
       "      <td>23.077325</td>\n",
       "      <td>731718.332090</td>\n",
       "      <td>748286.961169</td>\n",
       "      <td>1.033588e+02</td>\n",
       "      <td>1.000000</td>\n",
       "    </tr>\n",
       "  </tbody>\n",
       "</table>\n",
       "<p>8 rows × 22 columns</p>\n",
       "</div>"
      ],
      "text/plain": [
       "           system        init      weight        type           2           3  \\\n",
       "count  718.000000  718.000000  718.000000  718.000000  718.000000  718.000000   \n",
       "mean    23.314763    0.836629    1.981686    3.749304   -1.649589   -1.817170   \n",
       "std     13.023788    1.004161    2.337013    0.662688    4.548304    5.005473   \n",
       "min      0.000000    0.000000    0.000000    2.000000  -19.744040  -21.893983   \n",
       "25%     12.000000    0.000000    0.155340    4.000000   -0.819357   -1.048764   \n",
       "50%     24.000000    0.000000    1.000100    4.000000    0.000000    0.000000   \n",
       "75%     35.000000    1.650000    3.213367    4.000000    0.795133    0.913984   \n",
       "max     44.000000    3.000000    9.000000    4.000000    1.239384    1.358098   \n",
       "\n",
       "                4           5           6           7  ...            10  \\\n",
       "count  718.000000  718.000000  718.000000  718.000000  ...    718.000000   \n",
       "mean     7.981259    8.445939  -34.541055  -36.169106  ...   -752.288433   \n",
       "std     21.558408   22.815235  111.039170  116.338079  ...   2852.135166   \n",
       "min     -0.754568   -0.782633 -514.984097 -538.627792  ... -13321.170445   \n",
       "25%      0.000000    0.000000   -0.924887   -0.941950  ...     -1.122517   \n",
       "50%      0.923914    0.935052    0.000000    0.000000  ...      0.001407   \n",
       "75%      1.408763    1.552803    0.960644    0.984305  ...      0.991467   \n",
       "max    122.931347  131.675490    2.275741    2.712998  ...      5.243298   \n",
       "\n",
       "                 11            12            13             14             15  \\\n",
       "count    718.000000    718.000000    718.000000     718.000000     718.000000   \n",
       "mean    -776.523313   3061.210057   3147.716636  -11562.460857  -11855.258680   \n",
       "std     2942.302665  11912.541567  12240.685674   45391.801105   46512.063723   \n",
       "min   -13781.246472     -8.850113    -12.265769 -211473.396816 -216475.644423   \n",
       "25%       -2.123912      0.001518      0.001679      -3.214377      -6.185564   \n",
       "50%        0.001712      0.987326      0.987066       0.001634       0.004821   \n",
       "75%        0.996329      4.397037      6.811820       0.997875       1.001248   \n",
       "max        6.283092  56115.100219  57592.698860      16.106978      23.077325   \n",
       "\n",
       "                  16             17            18         exp  \n",
       "count     718.000000     718.000000  7.180000e+02  718.000000  \n",
       "mean    40629.386999   41566.669584 -1.334843e+05    0.541783  \n",
       "std    160087.941813  163698.216993  5.278422e+05    0.706857  \n",
       "min       -44.356923     -66.596211 -2.489024e+06   -1.000000  \n",
       "25%         0.045728       0.042314 -2.569285e+01    0.000000  \n",
       "50%         1.004445       1.001084  9.732395e-02    1.000000  \n",
       "75%        16.098058      16.131990  1.003658e+00    1.000000  \n",
       "max    731718.332090  748286.961169  1.033588e+02    1.000000  \n",
       "\n",
       "[8 rows x 22 columns]"
      ]
     },
     "execution_count": 15,
     "metadata": {},
     "output_type": "execute_result"
    }
   ],
   "source": [
    "df_nodup = df_flat.drop_duplicates(ignore_index=True)\n",
    "df_nodup.describe()"
   ]
  },
  {
   "cell_type": "markdown",
   "metadata": {},
   "source": [
    "We then look for outliers. However we have no idea how many of them are in the dataset, thus [`sklearn.EllipticEnvelope`](https://scikit-learn.org/stable/modules/generated/sklearn.covariance.EllipticEnvelope.html) is not a good choice. We use the _interquartile range_ (IQR) to detect outliers and decide (if needed) some boundaries for the outliers. We also define an _interdecile range_ (IDR) to select extreme outliers."
   ]
  },
  {
   "cell_type": "code",
   "execution_count": 16,
   "metadata": {},
   "outputs": [],
   "source": [
    "def iqr_detection(feature):\n",
    "    '''\n",
    "    Compute the interquartile range of a given feature and return the indices of the outliers.\n",
    "    \n",
    "    Required arguments:\n",
    "        feature: the list of data to analyse.\n",
    "        \n",
    "    Returns:\n",
    "        the list of indices of outliers.\n",
    "    '''\n",
    "    \n",
    "    q1, q3 = np.percentile(feature, [25, 75]) #-------------------------------- get values of 1st and 3rd quartile\n",
    "    iqr    = q3 - q1 #--------------------------------------------------------- compute the interquartile range (IQR)\n",
    "    \n",
    "    lower  = q1 - (iqr * 1.5) #------------------------------------------------ lower bound\n",
    "    upper  = q3 + (iqr * 1.5) #------------------------------------------------ higher bound\n",
    "    \n",
    "    return np.where((feature > upper) | (feature < lower))[0].tolist() #------- return indices out of bounds\n",
    "\n",
    "def idr_detection(feature):\n",
    "    '''\n",
    "    Compute the interdecile range and return indices of points outside the limit.\n",
    "    \n",
    "    Required arguments:\n",
    "        feature: the list of data to analyse.\n",
    "        \n",
    "    Returns:\n",
    "        the list of indices of outliers.\n",
    "    '''\n",
    "    \n",
    "    d1, d9 = np.percentile(feature, [10, 90]) #-------------------------------- get values of 1st and 9th decile\n",
    "    idr    = d9 - d1 #--------------------------------------------------------- compute the interdecile range (IDR)\n",
    "\n",
    "    lower  = d1 - (idr * 1.5) #------------------------------------------------ lower bound\n",
    "    upper  = d9 + (idr * 1.5) #------------------------------------------------ higher bound\n",
    "    \n",
    "    return np.where((feature > upper) | (feature < lower))[0].tolist() #------- return indice out of bounds"
   ]
  },
  {
   "cell_type": "markdown",
   "metadata": {},
   "source": [
    "To give a few exemples:"
   ]
  },
  {
   "cell_type": "code",
   "execution_count": 17,
   "metadata": {},
   "outputs": [
    {
     "name": "stdout",
     "output_type": "stream",
     "text": [
      "Number of outlying samples in \"system\":         0\n",
      "Number of extreme outlying samples in \"system\": 0\n",
      "Number of outlying samples in \"init\":         0\n",
      "Number of extreme outlying samples in \"init\": 0\n",
      "Number of outlying samples in \"weight\":         45\n",
      "Number of extreme outlying samples in \"weight\": 0\n",
      "Number of outlying samples in \"type\":         90\n",
      "Number of extreme outlying samples in \"type\": 0\n",
      "Number of outlying samples in \"2\":         123\n",
      "Number of extreme outlying samples in \"2\": 0\n",
      "Number of outlying samples in \"3\":         122\n",
      "Number of extreme outlying samples in \"3\": 3\n",
      "Number of outlying samples in \"4\":         140\n",
      "Number of extreme outlying samples in \"4\": 55\n",
      "Number of outlying samples in \"5\":         138\n",
      "Number of extreme outlying samples in \"5\": 54\n",
      "Number of outlying samples in \"6\":         142\n",
      "Number of extreme outlying samples in \"6\": 61\n",
      "Number of outlying samples in \"7\":         142\n",
      "Number of extreme outlying samples in \"7\": 61\n",
      "Number of outlying samples in \"8\":         140\n",
      "Number of extreme outlying samples in \"8\": 64\n",
      "Number of outlying samples in \"9\":         138\n",
      "Number of extreme outlying samples in \"9\": 64\n",
      "Number of outlying samples in \"10\":         158\n",
      "Number of extreme outlying samples in \"10\": 64\n",
      "Number of outlying samples in \"11\":         145\n",
      "Number of extreme outlying samples in \"11\": 64\n",
      "Number of outlying samples in \"12\":         145\n",
      "Number of extreme outlying samples in \"12\": 64\n",
      "Number of outlying samples in \"13\":         137\n",
      "Number of extreme outlying samples in \"13\": 64\n",
      "Number of outlying samples in \"14\":         208\n",
      "Number of extreme outlying samples in \"14\": 65\n",
      "Number of outlying samples in \"15\":         195\n",
      "Number of extreme outlying samples in \"15\": 65\n",
      "Number of outlying samples in \"16\":         150\n",
      "Number of extreme outlying samples in \"16\": 65\n",
      "Number of outlying samples in \"17\":         173\n",
      "Number of extreme outlying samples in \"17\": 65\n",
      "Number of outlying samples in \"18\":         167\n",
      "Number of extreme outlying samples in \"18\": 66\n",
      "Number of outlying samples in \"exp\":         0\n",
      "Number of extreme outlying samples in \"exp\": 0\n"
     ]
    }
   ],
   "source": [
    "for feature in df_nodup.columns:\n",
    "    print('Number of outlying samples in \"{}\":         {:d}'.format(feature, np.shape(iqr_detection(df_nodup[feature]))[0]))\n",
    "    print('Number of extreme outlying samples in \"{}\": {:d}'.format(feature, np.shape(idr_detection(df_nodup[feature]))[0]))"
   ]
  },
  {
   "cell_type": "markdown",
   "metadata": {},
   "source": [
    "## Saving the Dataset\n",
    "\n",
    "We finally save the dataset for further analysis."
   ]
  },
  {
   "cell_type": "code",
   "execution_count": 18,
   "metadata": {},
   "outputs": [],
   "source": [
    "df_nodup.to_json(path.join(ROOT_DIR, 'data_sft_analysis.json'))\n",
    "df = df_nodup #------------------------------------------------- rename the variable for simpler referencing\n",
    "\n",
    "log.debug('Dataset of the preanalysis saved to file.')"
   ]
  },
  {
   "cell_type": "markdown",
   "metadata": {},
   "source": [
    "The number of elements for each system should be rather contained and can be visualised in a histogram:"
   ]
  },
  {
   "cell_type": "code",
   "execution_count": 19,
   "metadata": {},
   "outputs": [
    {
     "data": {
      "image/png": "[encoded data removed]",
      "text/plain": [
       "<Figure size 864x360 with 2 Axes>"
      ]
     },
     "metadata": {
      "needs_background": "light"
     },
     "output_type": "display_data"
    }
   ],
   "source": [
    "from mltools.libplot import Plot\n",
    "\n",
    "hist_data = df.groupby(by=['system']).count().max(axis=1) #-------------- group by system, then count the number of elements and take a representative\n",
    "\n",
    "plot = Plot(rows=1, columns=2)\n",
    "\n",
    "plot.hist2D(df['system'],\n",
    "            axis=0,\n",
    "            title='Distribution of Samples in the Systems',\n",
    "            xlabel='systems',\n",
    "            ylabel='no. of samples',\n",
    "            binstep=4\n",
    "           )\n",
    "\n",
    "plot.hist2D(hist_data,\n",
    "            axis=1,\n",
    "            title='Distribution of Systems as Function of Their Size',\n",
    "            xlabel='size',\n",
    "            ylabel='no. of systems',\n",
    "            bins=range(hist_data.min(), hist_data.max() + 1, 1)\n",
    "           )\n",
    "\n",
    "plot.save_and_close(path.join(IMG_PATH, 'system_samples_distribution'))"
   ]
  },
  {
   "cell_type": "markdown",
   "metadata": {},
   "source": [
    "# Analysis\n",
    "\n",
    "We then move to the ML analysis using the previously described algorithms.\n",
    "\n",
    "We first split the dataset into test and training set and then we select a portion of the training set to be used as development: this is done to preserve the ordering of the systems inside each set, in order to have samples coming from the same distributions. Cross validation (CV) would be a better choice, but the restricted number of samples in the training may spoil the results. Moreover data seems to have a good variability and any choice of the development set seem to reproduce it quite well.\n",
    "\n",
    "We show the results of the predictions for each algorithm separately. Furthermore we first show the study operated through Bayes optimisation using [scikit-optimize](https://scikit-optimize.github.io) on the development set to avoid using the test set. We finally show the predictions for the test set."
   ]
  },
  {
   "cell_type": "markdown",
   "metadata": {},
   "source": [
    "## Test Set Selection\n",
    "\n",
    "We split the training set into a test and training sets keeping samples of the same system in the same set. As our dataset is quite small, we will try to keep around 20% of data in the test set to keep a good predictive ability."
   ]
  },
  {
   "cell_type": "markdown",
   "metadata": {},
   "source": [
    "We first divide features from labels (in the features, we also drop the `init` column as we are not interested in using the initial values for the learning algorithms and the `system` column which will only be used to split training and test sets)."
   ]
  },
  {
   "cell_type": "code",
   "execution_count": 20,
   "metadata": {},
   "outputs": [],
   "source": [
    "df = df.sample(frac=1, random_state=RAND) #-------------------------------------------------- first shuffle the dataset\n",
    "\n",
    "log.debug('Database has been shuffled.')"
   ]
  },
  {
   "cell_type": "markdown",
   "metadata": {},
   "source": [
    "We then split the dataset using the `system` label:"
   ]
  },
  {
   "cell_type": "code",
   "execution_count": 21,
   "metadata": {},
   "outputs": [],
   "source": [
    "from sklearn.model_selection import train_test_split\n",
    "\n",
    "train_system, test_system = train_test_split(df['system'].unique(), test_size=0.2, shuffle=False)"
   ]
  },
  {
   "cell_type": "markdown",
   "metadata": {},
   "source": [
    "This leads to training and test set with the following shapes:"
   ]
  },
  {
   "cell_type": "code",
   "execution_count": 22,
   "metadata": {},
   "outputs": [
    {
     "name": "stdout",
     "output_type": "stream",
     "text": [
      "Training set size: 580 (80.8% of the total dataset)\n",
      "Test set size:     138 (19.2% of the total dataset)\n"
     ]
    }
   ],
   "source": [
    "df_train = df.loc[df['system'].isin(train_system)]\n",
    "df_test  = df.loc[df['system'].isin(test_system)]\n",
    "\n",
    "# print the shape\n",
    "print('Training set size: {:d} ({:.1f}% of the total dataset)'.format(df_train.shape[0], 100 * df_train.shape[0] / df.shape[0]))\n",
    "print('Test set size:     {:d} ({:.1f}% of the total dataset)'.format(df_test.shape[0], 100 * df_test.shape[0] / df.shape[0]))"
   ]
  },
  {
   "cell_type": "markdown",
   "metadata": {},
   "source": [
    "## Validation Strategy\n",
    "\n",
    "For the same reason we used the `system` column to choose the training and test sets, we also need to use the same strategy for the validation set. Given the restricted size of the training dataset, we use a single _development set_ whose size must be decided. We use a linear regression to plot the error on the validation set as a function of the size of the development set. We clearly use the same approach as before: we take the `system` label, split the training set accordingly, fit the training data and evaluate on the development set.\n",
    "\n",
    "In foresight of what we are going to do, we also apply a standardization to the training data."
   ]
  },
  {
   "cell_type": "code",
   "execution_count": 23,
   "metadata": {},
   "outputs": [],
   "source": [
    "from sklearn.preprocessing import StandardScaler\n",
    "from sklearn.linear_model  import LinearRegression\n",
    "from sklearn.metrics       import mean_squared_error\n",
    "\n",
    "# define what development set sizes to explore\n",
    "dev_sizes = np.arange(0.15, 0.95, 0.05)\n",
    "\n",
    "# save results in an array (made of [dev set size, mse] for each sample: shape = (dev_sizes.shape[0], 2))\n",
    "results = np.zeros((dev_sizes.shape[0], 2))\n",
    "\n",
    "# explore each dev size\n",
    "for n in range(dev_sizes.shape[0]):\n",
    "    \n",
    "    # separate train and dev systems values\n",
    "    train_system, dev_system = train_test_split(df_train['system'].unique(), test_size=dev_sizes[n], shuffle=False)\n",
    "\n",
    "    # separate train and dev sets\n",
    "    df_train_tmp = df_train.loc[df_train['system'].isin(train_system)].drop(columns=['system', 'init'])\n",
    "    df_dev_tmp   = df_train.loc[df_train['system'].isin(dev_system)].drop(columns=['system', 'init'])\n",
    "\n",
    "    # compute the size of the dev set w.r.t. the training set (it can differ from the size selected with the 'system' label)\n",
    "    dev_set_size = df_dev_tmp.shape[0] / df_train.shape[0]\n",
    "\n",
    "    # separate features from labels\n",
    "    X_train, y_train = df_train_tmp.drop(columns='exp'), df_train_tmp['exp']\n",
    "    X_dev,   y_dev   = df_dev_tmp.drop(columns='exp'),   df_dev_tmp['exp']\n",
    "\n",
    "    # standardize the features\n",
    "    std = StandardScaler()\n",
    "\n",
    "    X_train = std.fit_transform(X_train)\n",
    "    X_dev   = std.transform(X_dev)\n",
    "\n",
    "    # compute the linear regression\n",
    "    est = LinearRegression(fit_intercept=True, n_jobs=multi_thread)\n",
    "    est.fit(X_train, y_train)\n",
    "\n",
    "    # compute the predictions on the development set\n",
    "    y_dev_pred = est.predict(X_dev)\n",
    "\n",
    "    # compute the MSE on the predictions\n",
    "    mse = mean_squared_error(y_dev, y_dev_pred)\n",
    "\n",
    "    # save the results in the list\n",
    "    results[n,:] = (dev_set_size, mse)"
   ]
  },
  {
   "cell_type": "markdown",
   "metadata": {},
   "source": [
    "We then plot the results of the study:"
   ]
  },
  {
   "cell_type": "code",
   "execution_count": 24,
   "metadata": {},
   "outputs": [
    {
     "data": {
      "image/png": "[encoded data removed]",
      "text/plain": [
       "<Figure size 432x360 with 1 Axes>"
      ]
     },
     "metadata": {
      "needs_background": "light"
     },
     "output_type": "display_data"
    }
   ],
   "source": [
    "Plot().series2D(results[:,1],\n",
    "                title='Validation Error (MSE) as Function of the Development Set Size',\n",
    "                xlabel='size of the development set',\n",
    "                ylabel='MSE',\n",
    "                ylog=True,\n",
    "                labels=np.around(results[:,0], decimals=2)\n",
    "               ).save_and_close(path.join(IMG_PATH, 'val_strat_error'))"
   ]
  },
  {
   "cell_type": "markdown",
   "metadata": {},
   "source": [
    "It seems that a good compromise between the number of samples and the validation error might be around 25% of the training set. We therefore select that value as a reference to split definitely the set:"
   ]
  },
  {
   "cell_type": "code",
   "execution_count": 25,
   "metadata": {},
   "outputs": [
    {
     "name": "stdout",
     "output_type": "stream",
     "text": [
      "Training set size:    60.7%\n",
      "Development set size: 20.1%\n",
      "Test set size:        19.2%\n"
     ]
    }
   ],
   "source": [
    "# get the index of the 'results' vector which is closer the desired quantity and take the corresponding 'dev_sizes' position\n",
    "chosen_dev_size = 0.25\n",
    "[dev_size]      = dev_sizes[np.where(np.isclose(results[:,0], chosen_dev_size, atol=0.01))]\n",
    "\n",
    "# split the datasets\n",
    "train_system, dev_system = train_test_split(df_train['system'].unique(), test_size=dev_size, shuffle=False)\n",
    "train_split = df_train.loc[df_train['system'].isin(train_system)].drop(columns=['system', 'init'])\n",
    "dev_split   = df_train.loc[df_train['system'].isin(dev_system)].drop(columns=['system', 'init'])\n",
    "test_split  = df_test.drop(columns=['system', 'init'])\n",
    "\n",
    "# compute train, dev and test sizes\n",
    "print('Training set size:    {:.1f}%'.format(100 * train_split.shape[0] / df.shape[0]))\n",
    "print('Development set size: {:.1f}%'.format(100 * dev_split.shape[0] / df.shape[0]))\n",
    "print('Test set size:        {:.1f}%'.format(100 * test_split.shape[0] / df.shape[0]))\n",
    "\n",
    "log.info('Partition of train/dev/test: {:.1f}/{:.1f}/{:.1f}'.format(100 * train_split.shape[0] / df.shape[0],\n",
    "                                                                    100 * dev_split.shape[0] / df.shape[0],\n",
    "                                                                    100 * test_split.shape[0] / df.shape[0]\n",
    "                                                                   )\n",
    "        )\n",
    "\n",
    "# divide features and labels\n",
    "X_train, y_train = train_split.drop(columns='exp'), train_split['exp'].values.reshape(-1,1)\n",
    "X_dev,   y_dev   = dev_split.drop(columns='exp'),   dev_split['exp'].values.reshape(-1,1)\n",
    "X_test,  y_test  = test_split.drop(columns='exp'),  test_split['exp'].values.reshape(-1,1)\n",
    "\n",
    "# apply the standardization\n",
    "std     = StandardScaler()\n",
    "X_train = std.fit_transform(X_train)\n",
    "X_dev   = std.transform(X_dev)\n",
    "X_test  = std.transform(X_test)"
   ]
  },
  {
   "cell_type": "markdown",
   "metadata": {},
   "source": [
    "## Machine Learning Analysis\n",
    "\n",
    "We can now start to implement the regression algorithms we are trying to study. In general we use Bayes optimisation to tune the hyperparameters of the algorithm (exception made for linear regression: we will use a grid search) trying to minimise the mean squared error loss function.\n",
    "\n",
    "For each algorithm we will try to output several metrics, even though we will only use the MSE to score the algorithm:\n",
    "\n",
    "- _mean squared error_:\n",
    "\\begin{equation}\n",
    "\\mathrm{MSE}( y_{true}, y_{pred} ) = \\frac{1}{N} \\sum\\limits_{i = 1}^N \\left( y^{(i)}_{true} - y^{(i)}_{pred} \\right) ^2,\n",
    "\\end{equation}\n",
    "\n",
    "- _$R^2$ score_:\n",
    "\\begin{equation}\n",
    "\\mathrm{R}^2( y_{true}, y_{pred} ) = 1 - \\frac{\\sum\\limits_{i = 1}^N \\left( y^{(i)}_{true} - y^{(i)}_{pred} \\right)^2}{\\sum\\limits_{i = 1}^N \\left( y^{(i)}_{true} - \\bar{y}_{pred} \\right)^2}\n",
    "\\end{equation}\n",
    "where\n",
    "\\begin{equation}\n",
    "\\bar{y}_{pred} = \\frac{1}{N} \\sum\\limits_{i = 1}^N y^{(i)}_{true},\n",
    "\\end{equation}\n",
    "\n",
    "- _explained variance score_:\n",
    "\\begin{equation}\n",
    "\\mathrm{EVar}( y_{true}, y_{pred} ) = 1 - \\frac{\\mathrm{Var}\\{ y_{true} - y_{pred} \\}}{\\mathrm{Var}\\{ y_{true} \\}}.\n",
    "\\end{equation}\n",
    "\n",
    "We will also compute the confidence interval of the variance: this represents the the range of values for which we have confidence that the variance estimated from the data is a good representative of the true error. We therefore fix here the confidence we are trying to achieve:"
   ]
  },
  {
   "cell_type": "code",
   "execution_count": 26,
   "metadata": {},
   "outputs": [],
   "source": [
    "confidence = 0.95 #--- usually we set 95% of the variance (lower values are stricter)"
   ]
  },
  {
   "cell_type": "markdown",
   "metadata": {},
   "source": [
    "### Linear Regression\n",
    "\n",
    "We now consider a simple linear regression whose only hyperparameter is `fit_intercept` $\\in \\lbrace 0, 1 \\rbrace$:"
   ]
  },
  {
   "cell_type": "code",
   "execution_count": 27,
   "metadata": {},
   "outputs": [
    {
     "name": "stdout",
     "output_type": "stream",
     "text": [
      "Results for LR:\n",
      "\n",
      "  Best parameters:\n",
      "\n",
      "    fit_intercept: True\n",
      "\n",
      "  MSE:  0.297\n",
      "  R2:   0.404\n",
      "  EVAR: 0.408\n"
     ]
    },
    {
     "data": {
      "text/plain": [
       "['./output/lin_reg_dev_opt_res.pkl.xz']"
      ]
     },
     "execution_count": 27,
     "metadata": {},
     "output_type": "execute_result"
    }
   ],
   "source": [
    "import joblib\n",
    "\n",
    "from sklearn.linear_model import LinearRegression\n",
    "from sklearn.metrics      import mean_squared_error, explained_variance_score, r2_score\n",
    "\n",
    "# define the grid search\n",
    "fit_intercept = np.array([False, True]).reshape(-1,1)\n",
    "\n",
    "# define a vector of results with a shape (fit_intercept.shape[0], 3), where 3 is the number of metrics used\n",
    "results = np.zeros((fit_intercept.shape[0], 3))\n",
    "\n",
    "# define the estimator (set normalize to False since we already added standardization)\n",
    "lin_reg = LinearRegression(normalize=False, n_jobs=multi_thread)\n",
    "log.info('Fitting LR.')\n",
    "\n",
    "# loop over the hyperparameter optimisation space and save the results in a dictionary\n",
    "opt_results = {'fit_intercept': [],\n",
    "               'mse':           [],\n",
    "               'r2':            [],\n",
    "               'evar':          []\n",
    "              }\n",
    "for n in range(fit_intercept.shape[0]):\n",
    "    \n",
    "    # insert hyperparameter in the estimator\n",
    "    lin_reg.set_params(**{'fit_intercept': fit_intercept[n,:]})\n",
    "\n",
    "    # fit the estimator\n",
    "    lin_reg.fit(X_train, y_train)\n",
    "\n",
    "    # generate predictions on the validation set\n",
    "    y_dev_pred = lin_reg.predict(X_dev)\n",
    "\n",
    "    # compute metrics\n",
    "    mse  = mean_squared_error(y_dev, y_dev_pred) #---------- compute MSE\n",
    "    r2   = r2_score(y_dev, y_dev_pred) #-------------------- compute R2\n",
    "    evar = explained_variance_score(y_dev, y_dev_pred) #---- compute explained variance\n",
    "    results[n,:] = (mse, r2, evar) #------------------------ add to the results\n",
    "    \n",
    "    # save to dictionary\n",
    "    opt_results['fit_intercept'].append(fit_intercept[n,:].squeeze().tolist())\n",
    "    opt_results['mse'].append(mse)\n",
    "    opt_results['r2'].append(r2)\n",
    "    opt_results['evar'].append(evar)\n",
    "    \n",
    "# look for the best results\n",
    "best_arg     = np.argmin(results[:,0])\n",
    "best_results = results[best_arg,:].reshape(-1,1)\n",
    "best_params  = fit_intercept[best_arg,:].reshape(-1,1)\n",
    "\n",
    "# retrain over the training set with the best parameters\n",
    "lin_reg.set_params(**{'fit_intercept': fit_intercept[best_arg,:]})\n",
    "lin_reg.fit(X_train, y_train)\n",
    "\n",
    "# generate predictions on the dev set\n",
    "y_dev_pred = lin_reg.predict(X_dev).reshape(-1,1)\n",
    "\n",
    "# print the best results\n",
    "print('Results for LR:\\n\\n'\n",
    "      '  Best parameters:\\n\\n'\n",
    "      '    fit_intercept: {}\\n\\n'\n",
    "      '  MSE:  {:.3f}\\n'\n",
    "      '  R2:   {:.3f}\\n'\n",
    "      '  EVAR: {:.3f}'\n",
    "      .format(best_params[0,:].squeeze(),\n",
    "              best_results[0,:].squeeze(),\n",
    "              best_results[1,:].squeeze(),\n",
    "              best_results[2,:].squeeze()\n",
    "             )\n",
    "     )\n",
    "\n",
    "# save results to file\n",
    "joblib.dump(opt_results, path.join(OUT_PATH, 'lin_reg_dev_opt_res.pkl.xz'), compress=('xz', 9))"
   ]
  },
  {
   "cell_type": "markdown",
   "metadata": {},
   "source": [
    "The confidence interval can be estimated using a Student's $t$-distribution:"
   ]
  },
  {
   "cell_type": "code",
   "execution_count": 28,
   "metadata": {},
   "outputs": [
    {
     "name": "stdout",
     "output_type": "stream",
     "text": [
      "Confidence interval: [ 0.095, 0.499 ]\n"
     ]
    }
   ],
   "source": [
    "from scipy import stats\n",
    "\n",
    "def confidence_interval(y_true, y_pred, confidence=0.95):\n",
    "    '''\n",
    "    Compute the confidence interval of the variance.\n",
    "    \n",
    "    Required arguments:\n",
    "        y_true: true values,\n",
    "        y_pred: predictions.\n",
    "        \n",
    "    Returns:\n",
    "        the array of lower and upper bounds of the confidence interval.\n",
    "    '''\n",
    "    \n",
    "    # compute the deviation of the data and the squared errors\n",
    "    deviation = y_pred - y_true #-------------------------------------- > 0 if overestimating, < 0 if underestimating\n",
    "    sq_errors = deviation ** 2 #--------------------------------------- squared errors\n",
    "\n",
    "    conf_interval = stats.t.interval(confidence,\n",
    "                                     sq_errors.shape[0] - 1,\n",
    "                                     loc=sq_errors.mean(),\n",
    "                                     scale=stats.sem(sq_errors)\n",
    "                                    ) #-------------------------------- compute the confidence interval\n",
    "    \n",
    "    return conf_interval\n",
    "\n",
    "conf_interval = confidence_interval(y_dev, y_dev_pred, confidence=confidence)\n",
    "print('Confidence interval: [ {:.3f}, {:.3f} ]'.format(conf_interval[0].squeeze(), conf_interval[1].squeeze()))"
   ]
  },
  {
   "cell_type": "markdown",
   "metadata": {},
   "source": [
    "We then save the model and its predictions for later use:"
   ]
  },
  {
   "cell_type": "code",
   "execution_count": 29,
   "metadata": {},
   "outputs": [],
   "source": [
    "import joblib\n",
    "\n",
    "def save_res(estimator, short_name):\n",
    "    '''\n",
    "    Save results to file.\n",
    "    \n",
    "    Required arguments:\n",
    "        estimator:  the estimator to save,\n",
    "        short_name: a short identifier of the estimator considered.\n",
    "    '''\n",
    "    # save the model to file\n",
    "    joblib.dump(estimator, path.join(MOD_PATH, short_name + '.pkl.xz'), compress=('xz', 9))\n",
    "\n",
    "    # save predictions to file\n",
    "    dev_predictions = {'y_dev_true': y_dev.squeeze().tolist(),\n",
    "                       'y_dev_pred': y_dev_pred.squeeze().tolist(),\n",
    "                       'y_dev_err':  (y_dev_pred - y_dev).squeeze().tolist()\n",
    "                      }\n",
    "    joblib.dump(dev_predictions, path.join(OUT_PATH, short_name + '_dev_preds.pkl.xz'), compress=('xz', 9))\n",
    "\n",
    "save_res(lin_reg, 'lin_reg')"
   ]
  },
  {
   "cell_type": "markdown",
   "metadata": {},
   "source": [
    "We can also plot the absolute deviation of the predictions in various ways:"
   ]
  },
  {
   "cell_type": "code",
   "execution_count": 30,
   "metadata": {},
   "outputs": [
    {
     "data": {
      "image/png": "[encoded data removed]",
      "text/plain": [
       "<Figure size 1296x360 with 3 Axes>"
      ]
     },
     "metadata": {
      "needs_background": "light"
     },
     "output_type": "display_data"
    }
   ],
   "source": [
    "from sklearn.preprocessing import Binarizer\n",
    "\n",
    "def error_visualisation(y_true, y_pred):\n",
    "    '''\n",
    "    Visualise plots of the variance of the errors.\n",
    "    \n",
    "    Required arguments:\n",
    "        y_true: true values,\n",
    "        y_pred: predictions.\n",
    "        \n",
    "    Returns:\n",
    "        the Matplotlib axis with the plots.\n",
    "    '''\n",
    "    # compute useful quantities\n",
    "    deviation    = y_pred - y_true #----------------------------------------------- > 0 if overestimating, < 0 if underestimating\n",
    "    binarization = Binarizer(threshold=0.0).transform(deviation) #----------------- +1 if overestimating, 0 if underestimating\n",
    "    digit_bins   = range(int(np.ceil(deviation.min())),\n",
    "                         int(np.ceil(deviation.max())) + 1\n",
    "                        ) #-------------------------------------------------------- define the bins to discretize the deviation\n",
    "    digitization = np.digitize(deviation, \n",
    "                               bins=digit_bins\n",
    "                              ) #-------------------------------------------------- discretize deviation into unit bins\n",
    "\n",
    "    # plot the results\n",
    "    plot = Plot(rows=1, columns=3)\n",
    "\n",
    "    plot.series2D(deviation,\n",
    "                  axis=0,\n",
    "                  title='Deviation of the Predictions',\n",
    "                  xlabel='id of the predictions',\n",
    "                  ylabel='$y_{pred} - y_{true}$',\n",
    "                  binstep=14\n",
    "                 )\n",
    "\n",
    "    plot.hist2D(binarization,\n",
    "                axis=1,\n",
    "                title='Underestimating and Overestimating Predictions',\n",
    "                ylabel='#',\n",
    "                bins=[0,1,2],\n",
    "                labels=['underest.', 'overest.']\n",
    "               )\n",
    "\n",
    "    plot.hist2D(digitization,\n",
    "                axis=2,\n",
    "                title='Distribution of Errors',\n",
    "                ylabel='#',\n",
    "                bins=range(len(digit_bins)+1),\n",
    "                labels=['{} < {}'.format(n-1, n) for n in digit_bins]\n",
    "               )\n",
    "    \n",
    "    return plot\n",
    "\n",
    "plot = error_visualisation(y_dev, y_dev_pred)\n",
    "plot.save_and_close(path.join(IMG_PATH, 'lin_reg_errors'))"
   ]
  },
  {
   "cell_type": "markdown",
   "metadata": {},
   "source": [
    "Using LR we therefore see that:\n",
    "\n",
    "- even though the MSE seems good, the variance has a very large confidence interval,\n",
    "- in general linear regression seems to underestimate the true values,\n",
    "- the distribution of the errors is peaked but in any case spread across a larger number of values,\n",
    "- the $R^2$ and explained variance are similar but far from good."
   ]
  },
  {
   "cell_type": "markdown",
   "metadata": {},
   "source": [
    "### Elastic Net\n",
    "\n",
    "We now consider the linear regression in the presence of $l_1$ and $l_2$ regularisation. We will need to study the hyperparameter space given by the choice of `fit_intercept` as in the linear regression, but also `alpha` and `l1-ratio` which control the regularisation: `alpha` $\\times$ `l1_ratio` is the magnitude of the $l_1$ regularisation, while `alpha` $\\times (1 -$ `l1_ratio` $) / 2$ controls the $l_2$ regularisation."
   ]
  },
  {
   "cell_type": "code",
   "execution_count": 31,
   "metadata": {},
   "outputs": [
    {
     "name": "stderr",
     "output_type": "stream",
     "text": [
      "/home/riccardo/anaconda/envs/ml/lib/python3.7/site-packages/sklearn/linear_model/_coordinate_descent.py:531: ConvergenceWarning: Objective did not converge. You might want to increase the number of iterations. Duality gap: 46.05626807490951, tolerance: 0.21598853211009178\n",
      "  positive)\n",
      "/home/riccardo/anaconda/envs/ml/lib/python3.7/site-packages/sklearn/linear_model/_coordinate_descent.py:531: ConvergenceWarning: Objective did not converge. You might want to increase the number of iterations. Duality gap: 46.25658259054967, tolerance: 0.21598853211009178\n",
      "  positive)\n",
      "/home/riccardo/anaconda/envs/ml/lib/python3.7/site-packages/sklearn/linear_model/_coordinate_descent.py:531: ConvergenceWarning: Objective did not converge. You might want to increase the number of iterations. Duality gap: 111.62799260003105, tolerance: 0.34700000000000003\n",
      "  positive)\n",
      "/home/riccardo/anaconda/envs/ml/lib/python3.7/site-packages/sklearn/linear_model/_coordinate_descent.py:531: ConvergenceWarning: Objective did not converge. You might want to increase the number of iterations. Duality gap: 46.080114778578654, tolerance: 0.21598853211009178\n",
      "  positive)\n",
      "/home/riccardo/anaconda/envs/ml/lib/python3.7/site-packages/sklearn/linear_model/_coordinate_descent.py:531: ConvergenceWarning: Objective did not converge. You might want to increase the number of iterations. Duality gap: 46.07704166644789, tolerance: 0.21598853211009178\n",
      "  positive)\n",
      "/home/riccardo/anaconda/envs/ml/lib/python3.7/site-packages/sklearn/linear_model/_coordinate_descent.py:531: ConvergenceWarning: Objective did not converge. You might want to increase the number of iterations. Duality gap: 46.751633705314916, tolerance: 0.21598853211009178\n",
      "  positive)\n",
      "/home/riccardo/anaconda/envs/ml/lib/python3.7/site-packages/sklearn/linear_model/_coordinate_descent.py:531: ConvergenceWarning: Objective did not converge. You might want to increase the number of iterations. Duality gap: 111.18178703730558, tolerance: 0.34700000000000003\n",
      "  positive)\n",
      "/home/riccardo/anaconda/envs/ml/lib/python3.7/site-packages/sklearn/linear_model/_coordinate_descent.py:531: ConvergenceWarning: Objective did not converge. You might want to increase the number of iterations. Duality gap: 103.69148287399292, tolerance: 0.34700000000000003\n",
      "  positive)\n",
      "/home/riccardo/anaconda/envs/ml/lib/python3.7/site-packages/sklearn/linear_model/_coordinate_descent.py:531: ConvergenceWarning: Objective did not converge. You might want to increase the number of iterations. Duality gap: 110.85335078507804, tolerance: 0.34700000000000003\n",
      "  positive)\n",
      "/home/riccardo/anaconda/envs/ml/lib/python3.7/site-packages/sklearn/linear_model/_coordinate_descent.py:531: ConvergenceWarning: Objective did not converge. You might want to increase the number of iterations. Duality gap: 45.77543219692662, tolerance: 0.21598853211009178\n",
      "  positive)\n"
     ]
    }
   ],
   "source": [
    "from sklearn.linear_model import ElasticNet\n",
    "from sklearn.metrics      import mean_squared_error, explained_variance_score, r2_score\n",
    "from skopt                import gp_minimize\n",
    "from skopt.space          import Real, Integer\n",
    "from skopt.utils          import use_named_args\n",
    "\n",
    "# define the hyperparameter search space\n",
    "hyp_names  = ['fit_intercept', 'alpha', 'l1_ratio']\n",
    "hyp_search = [Integer(0, 1, name=hyp_names[0]),\n",
    "              Real(1.0e-7, 1.0e-4, prior='log-uniform', name=hyp_names[1]),\n",
    "              Real(0.0, 1.0, name=hyp_names[2])\n",
    "             ]\n",
    "\n",
    "# define the number of iterations of the optimisation\n",
    "n_calls    = 10\n",
    "\n",
    "# define the estimator\n",
    "el_net = ElasticNet(normalize=False, #------------------------ keep normalize = 0 since we already standardize the features\n",
    "                    max_iter=1e4,\n",
    "                    tol=1.0e-3,\n",
    "                    random_state=RAND\n",
    "                   )\n",
    "log.info('Fitting EN.')\n",
    "\n",
    "# define the objective function\n",
    "@use_named_args(hyp_search)\n",
    "def objective(**params):\n",
    "    '''\n",
    "    Compute the mean squared error on the validation set.\n",
    "    \n",
    "    Required arguments:\n",
    "        **params:  the hyperparameters search space.\n",
    "        \n",
    "    Returns:\n",
    "        the mean squared error of the dev set.\n",
    "    '''\n",
    "    \n",
    "    # fit the estimator to the train set\n",
    "    el_net.set_params(**params)\n",
    "    el_net.fit(X_train, y_train)\n",
    "    \n",
    "    # compute predictions on the dev set\n",
    "    y_dev_pred = el_net.predict(X_dev).reshape(-1,1)\n",
    "    \n",
    "    # compute the mean squared error\n",
    "    return mean_squared_error(y_dev, y_dev_pred)\n",
    "\n",
    "# save the results of the optimisation\n",
    "el_net_res = gp_minimize(objective, hyp_search, n_calls=n_calls, random_state=RAND, n_jobs=multi_thread)\n",
    "skp.dump(el_net_res, path.join(OUT_PATH, 'el_net_dev_opt_res.pkl.xz'), compress=('xz', 9))"
   ]
  },
  {
   "cell_type": "markdown",
   "metadata": {},
   "source": [
    "We the print the results and compute the metrics:"
   ]
  },
  {
   "cell_type": "code",
   "execution_count": 32,
   "metadata": {},
   "outputs": [
    {
     "name": "stdout",
     "output_type": "stream",
     "text": [
      "Results for EN:\n",
      "\n",
      "  Best hyperparameters:\n",
      "\n",
      "    fit_intercept: 1\n",
      "    alpha: 6.838478430964043e-06\n",
      "    l1_ratio: 0.007066305219717408\n",
      "\n",
      "  MSE:  0.339\n",
      "  R2:   0.320\n",
      "  EVAR: 0.325\n"
     ]
    },
    {
     "name": "stderr",
     "output_type": "stream",
     "text": [
      "/home/riccardo/anaconda/envs/ml/lib/python3.7/site-packages/sklearn/linear_model/_coordinate_descent.py:531: ConvergenceWarning: Objective did not converge. You might want to increase the number of iterations. Duality gap: 46.751633705314916, tolerance: 0.21598853211009178\n",
      "  positive)\n"
     ]
    }
   ],
   "source": [
    "# retrieve best results, fit to the training set and print\n",
    "el_net.set_params(**dict(zip(hyp_names, el_net_res.x))) #----- set parameters to best possible choice\n",
    "el_net.fit(X_train, y_train) #-------------------------------- fit again on the training set\n",
    "y_dev_pred = el_net.predict(X_dev).reshape(-1,1) #------------ compute predictions\n",
    "\n",
    "# print the metrics\n",
    "def print_hyperparameters(names, results):\n",
    "    '''\n",
    "    Print best hyperparameters.\n",
    "    \n",
    "    Required arguments:\n",
    "        names:   the names of the hyperparameters,\n",
    "        results: results of the evaluation containing the hyperparameters.\n",
    "    '''\n",
    "    print('  Best hyperparameters:\\n')\n",
    "    for name, value in zip(names, results.x):\n",
    "        print('    {}: {}'.format(name, value))\n",
    "    \n",
    "def print_metrics(y_true, y_pred):\n",
    "    '''\n",
    "    Print regression metrics.\n",
    "    \n",
    "    Required arguments:\n",
    "        y_true: true values,\n",
    "        y_pred: predictions.\n",
    "    '''\n",
    "    print('\\n  MSE:  {:.3f}'.format(mean_squared_error(y_true, y_pred)))\n",
    "    print('  R2:   {:.3f}'.format(r2_score(y_true, y_pred)))\n",
    "    print('  EVAR: {:.3f}'.format(explained_variance_score(y_true, y_pred)))\n",
    "    \n",
    "print('Results for EN:\\n')\n",
    "print_hyperparameters(hyp_names, el_net_res)  \n",
    "print_metrics(y_dev, y_dev_pred)"
   ]
  },
  {
   "cell_type": "markdown",
   "metadata": {},
   "source": [
    "Results can then be completed by computing the confidence interval:"
   ]
  },
  {
   "cell_type": "code",
   "execution_count": 33,
   "metadata": {},
   "outputs": [
    {
     "name": "stdout",
     "output_type": "stream",
     "text": [
      "Confidence interval: [ 0.148, 0.529 ]\n"
     ]
    }
   ],
   "source": [
    "conf_interval = confidence_interval(y_dev, y_dev_pred, confidence=confidence)\n",
    "print('Confidence interval: [ {:.3f}, {:.3f} ]'.format(conf_interval[0].squeeze(), conf_interval[1].squeeze()))"
   ]
  },
  {
   "cell_type": "markdown",
   "metadata": {},
   "source": [
    "We then save the results to file:"
   ]
  },
  {
   "cell_type": "code",
   "execution_count": 34,
   "metadata": {},
   "outputs": [],
   "source": [
    "save_res(el_net, 'el_net')"
   ]
  },
  {
   "cell_type": "markdown",
   "metadata": {},
   "source": [
    "Finally we visualise the distribution of the variance of the errors in plots:"
   ]
  },
  {
   "cell_type": "code",
   "execution_count": 35,
   "metadata": {},
   "outputs": [
    {
     "data": {
      "image/png": "[encoded data removed]",
      "text/plain": [
       "<Figure size 1296x360 with 3 Axes>"
      ]
     },
     "metadata": {
      "needs_background": "light"
     },
     "output_type": "display_data"
    }
   ],
   "source": [
    "plot = error_visualisation(y_dev, y_dev_pred)\n",
    "plot.save_and_close(path.join(IMG_PATH, 'el_net_errors'))"
   ]
  },
  {
   "cell_type": "markdown",
   "metadata": {},
   "source": [
    "With the introduction of regularisation we find:\n",
    "\n",
    "- in general the MSE is worse, and the confidence interval seems to be larger,\n",
    "- errors are in general underestimating, but they are confined in a smaller range,\n",
    "- overestimating errors tend to have larger absolute deviations,\n",
    "- $R^2$ and explained variance are again similar but worse than the simple linear regression,\n",
    "- the algorithm seems to prefer a very small $l_1$ regularization (any an almost vanishing $l_2$ regularisation)."
   ]
  },
  {
   "cell_type": "markdown",
   "metadata": {},
   "source": [
    "### Lasso\n",
    "\n",
    "Given the results of the elastic net, we implement the lasso regression which a pure $l_1$ regularisation. We will therefore control only one hyperparameter `alpha` which represents the magnitude of the regularisation."
   ]
  },
  {
   "cell_type": "code",
   "execution_count": 36,
   "metadata": {},
   "outputs": [
    {
     "name": "stderr",
     "output_type": "stream",
     "text": [
      "/home/riccardo/anaconda/envs/ml/lib/python3.7/site-packages/sklearn/linear_model/_coordinate_descent.py:531: ConvergenceWarning: Objective did not converge. You might want to increase the number of iterations. Duality gap: 40.689295480256185, tolerance: 0.21598853211009178\n",
      "  positive)\n",
      "/home/riccardo/anaconda/envs/ml/lib/python3.7/site-packages/sklearn/linear_model/_coordinate_descent.py:531: ConvergenceWarning: Objective did not converge. You might want to increase the number of iterations. Duality gap: 1.4088511216368431, tolerance: 0.21598853211009178\n",
      "  positive)\n",
      "/home/riccardo/anaconda/envs/ml/lib/python3.7/site-packages/sklearn/linear_model/_coordinate_descent.py:531: ConvergenceWarning: Objective did not converge. You might want to increase the number of iterations. Duality gap: 103.61548665300202, tolerance: 0.34700000000000003\n",
      "  positive)\n",
      "/home/riccardo/anaconda/envs/ml/lib/python3.7/site-packages/sklearn/linear_model/_coordinate_descent.py:531: ConvergenceWarning: Objective did not converge. You might want to increase the number of iterations. Duality gap: 75.89442399609764, tolerance: 0.34700000000000003\n",
      "  positive)\n",
      "/home/riccardo/anaconda/envs/ml/lib/python3.7/site-packages/sklearn/linear_model/_coordinate_descent.py:531: ConvergenceWarning: Objective did not converge. You might want to increase the number of iterations. Duality gap: 44.477888735817075, tolerance: 0.21598853211009178\n",
      "  positive)\n",
      "/home/riccardo/anaconda/envs/ml/lib/python3.7/site-packages/sklearn/linear_model/_coordinate_descent.py:531: ConvergenceWarning: Objective did not converge. You might want to increase the number of iterations. Duality gap: 0.7471029043493758, tolerance: 0.21598853211009178\n",
      "  positive)\n",
      "/home/riccardo/anaconda/envs/ml/lib/python3.7/site-packages/sklearn/linear_model/_coordinate_descent.py:531: ConvergenceWarning: Objective did not converge. You might want to increase the number of iterations. Duality gap: 44.406866926592755, tolerance: 0.21598853211009178\n",
      "  positive)\n",
      "/home/riccardo/anaconda/envs/ml/lib/python3.7/site-packages/sklearn/linear_model/_coordinate_descent.py:531: ConvergenceWarning: Objective did not converge. You might want to increase the number of iterations. Duality gap: 17.64291365689553, tolerance: 0.34700000000000003\n",
      "  positive)\n"
     ]
    }
   ],
   "source": [
    "from sklearn.linear_model import Lasso\n",
    "from sklearn.metrics      import mean_squared_error, explained_variance_score, r2_score\n",
    "from skopt                import gp_minimize\n",
    "from skopt.space          import Real, Integer\n",
    "from skopt.utils          import use_named_args\n",
    "\n",
    "# define the hyperparameter search space\n",
    "hyp_names  = ['fit_intercept', 'alpha']\n",
    "hyp_search = [Integer(0, 1, name=hyp_names[0]),\n",
    "              Real(1.0e-5, 1.0e-2, prior='log-uniform', name=hyp_names[1])\n",
    "             ]\n",
    "\n",
    "# define the number of iterations of the optimisation\n",
    "n_calls    = 10\n",
    "\n",
    "# define the estimator\n",
    "lasso = Lasso(normalize=False, #------------------------ keep normalize = 0 since we already standardize the features\n",
    "              max_iter=1e4,\n",
    "              tol=1.0e-3,\n",
    "              random_state=RAND\n",
    "             )\n",
    "log.info('Fitting Lasso.')\n",
    "\n",
    "# define the objective function\n",
    "@use_named_args(hyp_search)\n",
    "def objective(**params):\n",
    "    '''\n",
    "    Compute the mean squared error on the validation set.\n",
    "    \n",
    "    Required arguments:\n",
    "        **params:  the hyperparameters search space.\n",
    "        \n",
    "    Returns:\n",
    "        the mean squared error of the dev set.\n",
    "    '''\n",
    "    \n",
    "    # fit the estimator to the train set\n",
    "    lasso.set_params(**params)\n",
    "    lasso.fit(X_train, y_train)\n",
    "    \n",
    "    # compute predictions on the dev set\n",
    "    y_dev_pred = lasso.predict(X_dev).reshape(-1,1)\n",
    "    \n",
    "    # compute the mean squared error\n",
    "    return mean_squared_error(y_dev, y_dev_pred)\n",
    "\n",
    "# save the results of the optimisation\n",
    "lasso_res = gp_minimize(objective, hyp_search, n_calls=n_calls, random_state=RAND, n_jobs=multi_thread)\n",
    "skp.dump(lasso_res, path.join(OUT_PATH, 'lasso_dev_opt_res.pkl.xz'), compress=('xz', 9))"
   ]
  },
  {
   "cell_type": "markdown",
   "metadata": {},
   "source": [
    "We the print the results and compute the metrics:"
   ]
  },
  {
   "cell_type": "code",
   "execution_count": 37,
   "metadata": {},
   "outputs": [
    {
     "name": "stdout",
     "output_type": "stream",
     "text": [
      "Results for LASSO:\n",
      "\n",
      "  Best hyperparameters:\n",
      "\n",
      "    fit_intercept: 1\n",
      "    alpha: 3.5506214270707665e-05\n",
      "\n",
      "  MSE:  0.338\n",
      "  R2:   0.321\n",
      "  EVAR: 0.326\n"
     ]
    },
    {
     "name": "stderr",
     "output_type": "stream",
     "text": [
      "/home/riccardo/anaconda/envs/ml/lib/python3.7/site-packages/sklearn/linear_model/_coordinate_descent.py:531: ConvergenceWarning: Objective did not converge. You might want to increase the number of iterations. Duality gap: 40.689295480256185, tolerance: 0.21598853211009178\n",
      "  positive)\n"
     ]
    }
   ],
   "source": [
    "# retrieve best results, fit to the training set and print\n",
    "lasso.set_params(**dict(zip(hyp_names, lasso_res.x))) #----- set parameters to best possible choice\n",
    "lasso.fit(X_train, y_train) #-------------------------------- fit again on the training set\n",
    "y_dev_pred = lasso.predict(X_dev).reshape(-1,1) #------------ compute predictions\n",
    "\n",
    "print('Results for LASSO:\\n')\n",
    "print_hyperparameters(hyp_names, lasso_res)\n",
    "print_metrics(y_dev, y_dev_pred)"
   ]
  },
  {
   "cell_type": "markdown",
   "metadata": {},
   "source": [
    "Results can then be completed by computing the confidence interval:"
   ]
  },
  {
   "cell_type": "code",
   "execution_count": 38,
   "metadata": {},
   "outputs": [
    {
     "name": "stdout",
     "output_type": "stream",
     "text": [
      "Confidence interval: [ 0.148, 0.528 ]\n"
     ]
    }
   ],
   "source": [
    "conf_interval = confidence_interval(y_dev, y_dev_pred, confidence=confidence)\n",
    "print('Confidence interval: [ {:.3f}, {:.3f} ]'.format(conf_interval[0].squeeze(), conf_interval[1].squeeze()))"
   ]
  },
  {
   "cell_type": "markdown",
   "metadata": {},
   "source": [
    "We then save the results to file:"
   ]
  },
  {
   "cell_type": "code",
   "execution_count": 39,
   "metadata": {},
   "outputs": [],
   "source": [
    "save_res(lasso, 'lasso')"
   ]
  },
  {
   "cell_type": "markdown",
   "metadata": {},
   "source": [
    "Finally we visualise the distribution of the variance of the errors in plots:"
   ]
  },
  {
   "cell_type": "code",
   "execution_count": 40,
   "metadata": {},
   "outputs": [
    {
     "data": {
      "image/png": "[encoded data removed]",
      "text/plain": [
       "<Figure size 1296x360 with 3 Axes>"
      ]
     },
     "metadata": {
      "needs_background": "light"
     },
     "output_type": "display_data"
    }
   ],
   "source": [
    "plot = error_visualisation(y_dev, y_dev_pred)\n",
    "plot.save_and_close(path.join(IMG_PATH, 'lasso_errors'))"
   ]
  },
  {
   "cell_type": "markdown",
   "metadata": {},
   "source": [
    "Given the elastic net regression, we introduced just the $l_1$ regularised version of linear regression:\n",
    "\n",
    "- we find the same scores as for the elastic net ($l_2$ regularisation does not influence the results),\n",
    "- the confidence interval is the same as in the elastic net,\n",
    "- underestimating errors are restricted to a small interval, while overestimating errors are in general spread across several values."
   ]
  },
  {
   "cell_type": "markdown",
   "metadata": {},
   "source": [
    "All in all, it seems that adding the regularisation is not helping."
   ]
  },
  {
   "cell_type": "markdown",
   "metadata": {},
   "source": [
    "### Linear SVR\n",
    "\n",
    "We now study the support vector machine without using the kernel trick. We will therefore control a wider range of possible hyperparameters mainly related to the _soft margin_ implementation of SVR for regression."
   ]
  },
  {
   "cell_type": "code",
   "execution_count": 41,
   "metadata": {},
   "outputs": [],
   "source": [
    "from sklearn.svm     import LinearSVR\n",
    "from sklearn.metrics import mean_squared_error, explained_variance_score, r2_score\n",
    "from skopt           import gp_minimize\n",
    "from skopt.space     import Real, Integer, Categorical\n",
    "from skopt.utils     import use_named_args\n",
    "\n",
    "# define the hyperparameter search space\n",
    "hyp_names  = ['fit_intercept', #------------ intercept fitting (True/False)\n",
    "              'epsilon', #------------------ penalty free boundary\n",
    "              'C', #------------------------ penalty magnitude\n",
    "              'loss', #--------------------- loss function (l1 or l2)\n",
    "              'intercept_scaling' #--------- scale the intercept (if fitting)\n",
    "             ]\n",
    "hyp_search = [Integer(0, 1, name=hyp_names[0]),\n",
    "              Real(1.0e-9, 1.0e-2, prior='log-uniform', name=hyp_names[1]),\n",
    "              Real(1.0e-4, 1.0e1, prior='log-uniform', name=hyp_names[2]),\n",
    "              Categorical(['epsilon_insensitive', 'squared_epsilon_insensitive'], name=hyp_names[3]),\n",
    "              Real(1.0e-3, 1.0e1, prior='log-uniform', name=hyp_names[4])\n",
    "             ]\n",
    "\n",
    "# define the number of iterations of the optimisation\n",
    "n_calls    = 10\n",
    "\n",
    "# define the estimator\n",
    "lin_svr = LinearSVR(dual=True,\n",
    "                    max_iter=1e6,\n",
    "                    random_state=RAND\n",
    "                   )\n",
    "log.info('Fitting l-SVR.')\n",
    "\n",
    "# define the objective function\n",
    "@use_named_args(hyp_search)\n",
    "def objective(**params):\n",
    "    '''\n",
    "    Compute the mean squared error on the validation set.\n",
    "    \n",
    "    Required arguments:\n",
    "        **params:  the hyperparameters search space.\n",
    "        \n",
    "    Returns:\n",
    "        the mean squared error of the dev set.\n",
    "    '''\n",
    "    \n",
    "    # fit the estimator to the train set\n",
    "    lin_svr.set_params(**params)\n",
    "    lin_svr.fit(X_train, y_train.ravel())\n",
    "    \n",
    "    # compute predictions on the dev set\n",
    "    y_dev_pred = lin_svr.predict(X_dev).reshape(-1,1)\n",
    "    \n",
    "    # compute the mean squared error\n",
    "    return mean_squared_error(y_dev, y_dev_pred)\n",
    "\n",
    "# save the results of the optimisation\n",
    "lin_svr_res = gp_minimize(objective, hyp_search, n_calls=n_calls, random_state=RAND, n_jobs=multi_thread)\n",
    "skp.dump(lin_svr_res, path.join(OUT_PATH, 'lin_svr_dev_opt_res.pkl.xz'), compress=('xz', 9))"
   ]
  },
  {
   "cell_type": "markdown",
   "metadata": {},
   "source": [
    "We the print the results and compute the metrics:"
   ]
  },
  {
   "cell_type": "code",
   "execution_count": 42,
   "metadata": {},
   "outputs": [
    {
     "name": "stdout",
     "output_type": "stream",
     "text": [
      "Results for l-SVR:\n",
      "\n",
      "  Best hyperparameters:\n",
      "\n",
      "    fit_intercept: 1\n",
      "    epsilon: 1.9232844888462213e-08\n",
      "    C: 0.7915074397656233\n",
      "    loss: squared_epsilon_insensitive\n",
      "    intercept_scaling: 0.06071989493441302\n",
      "\n",
      "  MSE:  0.362\n",
      "  R2:   0.274\n",
      "  EVAR: 0.300\n"
     ]
    }
   ],
   "source": [
    "# retrieve best results, fit to the training set and print\n",
    "lin_svr.set_params(**dict(zip(hyp_names, lin_svr_res.x))) #---- set parameters to best possible choice\n",
    "lin_svr.fit(X_train, y_train.ravel()) #------------------------ fit again on the training set\n",
    "y_dev_pred = lin_svr.predict(X_dev).reshape(-1,1) #------------ compute predictions\n",
    "\n",
    "print('Results for l-SVR:\\n')\n",
    "print_hyperparameters(hyp_names, lin_svr_res)\n",
    "print_metrics(y_dev, y_dev_pred)"
   ]
  },
  {
   "cell_type": "markdown",
   "metadata": {},
   "source": [
    "Results can then be completed by computing the confidence interval:"
   ]
  },
  {
   "cell_type": "code",
   "execution_count": 43,
   "metadata": {},
   "outputs": [
    {
     "name": "stdout",
     "output_type": "stream",
     "text": [
      "Confidence interval: [ 0.218, 0.506 ]\n"
     ]
    }
   ],
   "source": [
    "conf_interval = confidence_interval(y_dev, y_dev_pred, confidence=confidence)\n",
    "print('Confidence interval: [ {:.3f}, {:.3f} ]'.format(conf_interval[0].squeeze(), conf_interval[1].squeeze()))"
   ]
  },
  {
   "cell_type": "markdown",
   "metadata": {},
   "source": [
    "We then save the results to file:"
   ]
  },
  {
   "cell_type": "code",
   "execution_count": 44,
   "metadata": {},
   "outputs": [],
   "source": [
    "save_res(lin_svr, 'lin_svr')"
   ]
  },
  {
   "cell_type": "markdown",
   "metadata": {},
   "source": [
    "Finally we visualise the distribution of the variance of the errors in plots:"
   ]
  },
  {
   "cell_type": "code",
   "execution_count": 45,
   "metadata": {},
   "outputs": [
    {
     "data": {
      "image/png": "[encoded data removed]",
      "text/plain": [
       "<Figure size 1296x360 with 3 Axes>"
      ]
     },
     "metadata": {
      "needs_background": "light"
     },
     "output_type": "display_data"
    }
   ],
   "source": [
    "plot = error_visualisation(y_dev, y_dev_pred)\n",
    "plot.save_and_close(path.join(IMG_PATH, 'lin_svr_errors'))"
   ]
  },
  {
   "cell_type": "markdown",
   "metadata": {},
   "source": [
    "It seems that the support vectors without the kernel trick do not improve the situation seen with the linear regression:\n",
    "\n",
    "- we find the same scores as for the elastic net,\n",
    "- the confidence interval is more restricted, signalling in any case a better convergence of the values,\n",
    "- underestimating errors are restricted to a small interval, while overestimating errors are in general spread across several values."
   ]
  },
  {
   "cell_type": "markdown",
   "metadata": {},
   "source": [
    "### SVR (Gaussian kernel)\n",
    "\n",
    "We then focus on SVR with the kernel trick: we consider a Gaussian kernel (_rbf_) and implement the analysis."
   ]
  },
  {
   "cell_type": "code",
   "execution_count": 46,
   "metadata": {},
   "outputs": [],
   "source": [
    "from sklearn.svm     import SVR\n",
    "from sklearn.metrics import mean_squared_error, explained_variance_score, r2_score\n",
    "from skopt           import gp_minimize\n",
    "from skopt.space     import Real, Integer, Categorical\n",
    "from skopt.utils     import use_named_args\n",
    "\n",
    "# define the hyperparameter search space\n",
    "hyp_names  = ['gamma', #------------------- variance^{-1} of the kernel distribution\n",
    "              'epsilon', #----------------- penalty free boundary\n",
    "              'C' #------------------------ magnitude of the penalty\n",
    "             ]\n",
    "hyp_search = [Real(1.0e-3, 1.0e-1, prior='log-uniform', name=hyp_names[0]),\n",
    "              Real(1.0e-9, 1.0e-2, prior='log-uniform', name=hyp_names[1]),\n",
    "              Real(1.0e-4, 1.0e1, prior='log-uniform', name=hyp_names[2])\n",
    "             ]\n",
    "\n",
    "# define the number of iterations of the optimisation\n",
    "n_calls    = 10\n",
    "\n",
    "# define the estimator\n",
    "svr_rbf = SVR(kernel='rbf')\n",
    "log.info('Fitting SVR.')\n",
    "\n",
    "# define the objective function\n",
    "@use_named_args(hyp_search)\n",
    "def objective(**params):\n",
    "    '''\n",
    "    Compute the mean squared error on the validation set.\n",
    "    \n",
    "    Required arguments:\n",
    "        **params:  the hyperparameters search space.\n",
    "        \n",
    "    Returns:\n",
    "        the mean squared error of the dev set.\n",
    "    '''\n",
    "    \n",
    "    # fit the estimator to the train set\n",
    "    svr_rbf.set_params(**params)\n",
    "    svr_rbf.fit(X_train, y_train.ravel())\n",
    "    \n",
    "    # compute predictions on the dev set\n",
    "    y_dev_pred = svr_rbf.predict(X_dev).reshape(-1,1)\n",
    "    \n",
    "    # compute the mean squared error\n",
    "    return mean_squared_error(y_dev, y_dev_pred)\n",
    "\n",
    "# save the results of the optimisation\n",
    "svr_rbf_res = gp_minimize(objective, hyp_search, n_calls=n_calls, random_state=RAND, n_jobs=multi_thread)\n",
    "skp.dump(svr_rbf_res, path.join(OUT_PATH, 'svr_rbf_dev_opt_res.pkl.xz'), compress=('xz', 9))"
   ]
  },
  {
   "cell_type": "markdown",
   "metadata": {},
   "source": [
    "We the print the results and compute the metrics:"
   ]
  },
  {
   "cell_type": "code",
   "execution_count": 47,
   "metadata": {},
   "outputs": [
    {
     "name": "stdout",
     "output_type": "stream",
     "text": [
      "Results for SVR (rbf kernel):\n",
      "\n",
      "  Best hyperparameters:\n",
      "\n",
      "    gamma: 0.07535384509295551\n",
      "    epsilon: 1.0126313321124245e-09\n",
      "    C: 9.142349009056948\n",
      "\n",
      "  MSE:  0.157\n",
      "  R2:   0.685\n",
      "  EVAR: 0.702\n"
     ]
    }
   ],
   "source": [
    "# retrieve best results, fit to the training set and print\n",
    "svr_rbf.set_params(**dict(zip(hyp_names, svr_rbf_res.x))) #---- set parameters to best possible choice\n",
    "svr_rbf.fit(X_train, y_train.ravel()) #------------------------ fit again on the training set\n",
    "y_dev_pred = svr_rbf.predict(X_dev).reshape(-1,1) #------------ compute predictions\n",
    "\n",
    "print('Results for SVR (rbf kernel):\\n')\n",
    "print_hyperparameters(hyp_names, svr_rbf_res)\n",
    "print_metrics(y_dev, y_dev_pred)"
   ]
  },
  {
   "cell_type": "markdown",
   "metadata": {},
   "source": [
    "Results can then be completed by computing the confidence interval:"
   ]
  },
  {
   "cell_type": "code",
   "execution_count": 48,
   "metadata": {},
   "outputs": [
    {
     "name": "stdout",
     "output_type": "stream",
     "text": [
      "Confidence interval: [ 0.066, 0.247 ]\n"
     ]
    }
   ],
   "source": [
    "conf_interval = confidence_interval(y_dev, y_dev_pred, confidence=confidence)\n",
    "print('Confidence interval: [ {:.3f}, {:.3f} ]'.format(conf_interval[0].squeeze(), conf_interval[1].squeeze()))"
   ]
  },
  {
   "cell_type": "markdown",
   "metadata": {},
   "source": [
    "We then save the results to file:"
   ]
  },
  {
   "cell_type": "code",
   "execution_count": 49,
   "metadata": {},
   "outputs": [],
   "source": [
    "save_res(svr_rbf, 'svr_rbf')"
   ]
  },
  {
   "cell_type": "markdown",
   "metadata": {},
   "source": [
    "Finally we visualise the distribution of the variance of the errors in plots:"
   ]
  },
  {
   "cell_type": "code",
   "execution_count": 50,
   "metadata": {},
   "outputs": [
    {
     "data": {
      "image/png": "[encoded data removed]",
      "text/plain": [
       "<Figure size 1296x360 with 3 Axes>"
      ]
     },
     "metadata": {
      "needs_background": "light"
     },
     "output_type": "display_data"
    }
   ],
   "source": [
    "plot = error_visualisation(y_dev, y_dev_pred)\n",
    "plot.save_and_close(path.join(IMG_PATH, 'svr_rbf_errors'))"
   ]
  },
  {
   "cell_type": "markdown",
   "metadata": {},
   "source": [
    "The introduction of the kernel trick seems to drastically improve the situation:\n",
    "\n",
    "- the value of the MSE is significantly reduces and the $R^2$ and explained variance show a better results,\n",
    "- the confidence interval peaked around the value of the MSE,\n",
    "- underestimating and overestimating errors seem to be balanced and restricted to smaller intervals."
   ]
  },
  {
   "cell_type": "markdown",
   "metadata": {},
   "source": [
    "### Random Forests\n",
    "\n",
    "We then consider the predictions given by a standalone forest of fully grown decision trees. In this case the number of tunable hyperparameters is quite high, but we can expect a shorter training time given the restricted amount of training samples."
   ]
  },
  {
   "cell_type": "code",
   "execution_count": 51,
   "metadata": {},
   "outputs": [],
   "source": [
    "import xgboost       as xgb\n",
    "from sklearn.metrics import mean_squared_error, explained_variance_score, r2_score\n",
    "from skopt           import gp_minimize\n",
    "from skopt.space     import Real, Integer, Categorical\n",
    "from skopt.utils     import use_named_args\n",
    "\n",
    "# convert training data to DMatrix for training\n",
    "dtrain = xgb.DMatrix(X_train, label=y_train)\n",
    "ddev   = xgb.DMatrix(X_dev,   label=y_dev)\n",
    "dtest  = xgb.DMatrix(X_test,  label=y_test)\n",
    "\n",
    "# define the hyperparameter search space\n",
    "hyp_names  = ['max_depth', #----------------- max. depth of a tree [1, inf)\n",
    "              'min_child_weight', #---------- min. sum of instance weight (Hessian) needed in a child [0, inf)\n",
    "              'gamma', #--------------------- min. loss reduction required to make a further partition on a leaf node of the tree [0, inf)\n",
    "              'subsample', #----------------- subsample ratio of the training instances (0,1]\n",
    "              'colsample_bytree', #---------- subsample ratio of columns when constructing each tree (0,1]\n",
    "              'lambda', #-------------------- l2 regularisation\n",
    "              'alpha', #--------------------- l1 regularisation\n",
    "              'num_parallel_tree' #---------- number of trees in the forest\n",
    "             ]\n",
    "hyp_search = [Integer(3, 100, name=hyp_names[0]),\n",
    "              Real(1.0e-2, 1.0e-1, prior='log-uniform', name=hyp_names[1]),\n",
    "              Real(1.0e-2, 1.0e2, prior='log-uniform', name=hyp_names[2]),\n",
    "              Real(0.01, 1.0, name=hyp_names[3]),\n",
    "              Real(0.01, 1.0, name=hyp_names[4]),\n",
    "              Real(1.0e-6, 1.0e-1, prior='log-uniform', name=hyp_names[5]),\n",
    "              Real(1.0e-6, 1.0e-1, prior='log-uniform', name=hyp_names[6]),\n",
    "              Integer(2, 75, name=hyp_names[7])\n",
    "             ]\n",
    "log.info('Fitting RF.')\n",
    "\n",
    "# define the number of iterations of the optimisation\n",
    "n_calls    = 10\n",
    "\n",
    "# define the objective function\n",
    "@use_named_args(hyp_search)\n",
    "def objective(**params):\n",
    "    '''\n",
    "    Compute the mean squared error on the validation set.\n",
    "    \n",
    "    Required arguments:\n",
    "        **params:  the hyperparameters search space.\n",
    "        \n",
    "    Returns:\n",
    "        the mean squared error of the dev set.\n",
    "    '''\n",
    "    \n",
    "    # add more parameters\n",
    "    params['learning_rate'] = 1\n",
    "    params['objective']     = 'reg:squarederror'\n",
    "    params['tree_method']   = 'hist'\n",
    "    params['seed']          = RAND\n",
    "    \n",
    "    # fit the estimator\n",
    "    rnd_for = xgb.train(params, dtrain, num_boost_round=1, evals=[(ddev, 'eval'), (dtrain, 'train')], verbose_eval=False)\n",
    "    \n",
    "    # compute predictions on the dev set and release the memory\n",
    "    y_dev_pred = rnd_for.predict(ddev).reshape(-1,1)\n",
    "    \n",
    "    # compute the mean squared error\n",
    "    return mean_squared_error(y_dev, y_dev_pred)\n",
    "\n",
    "# save the results of the optimisation\n",
    "rnd_for_res = gp_minimize(objective, hyp_search, n_calls=n_calls, random_state=RAND, n_jobs=multi_thread)\n",
    "skp.dump(rnd_for_res, path.join(OUT_PATH, 'rnd_for_dev_opt_res.pkl.xz'), compress=('xz', 9))"
   ]
  },
  {
   "cell_type": "markdown",
   "metadata": {},
   "source": [
    "We the print the results and compute the metrics:"
   ]
  },
  {
   "cell_type": "code",
   "execution_count": 52,
   "metadata": {},
   "outputs": [
    {
     "name": "stdout",
     "output_type": "stream",
     "text": [
      "Results for the random forest:\n",
      "\n",
      "  Best hyperparameters:\n",
      "\n",
      "    max_depth: 62\n",
      "    min_child_weight: 0.010164038588691214\n",
      "    gamma: 0.012366582530130826\n",
      "    subsample: 0.5295269136558054\n",
      "    colsample_bytree: 0.40586236199810305\n",
      "    lambda: 1.7113085338473876e-06\n",
      "    alpha: 0.07392266140516068\n",
      "    num_parallel_tree: 19\n",
      "\n",
      "  MSE:  0.275\n",
      "  R2:   0.449\n",
      "  EVAR: 0.449\n"
     ]
    }
   ],
   "source": [
    "# retrieve best results, fit to the training set and print\n",
    "params = dict(zip(hyp_names, rnd_for_res.x)) #--------------------------- set parameters to best possible choice\n",
    "rnd_for = xgb.train(params,\n",
    "                    dtrain,\n",
    "                    num_boost_round=1,\n",
    "                    evals=[(ddev, 'eval'), (dtrain, 'train')],\n",
    "                    verbose_eval=False) #-------------------------------- fit again on the training set\n",
    "y_dev_pred = rnd_for.predict(ddev).reshape(-1,1) #----------------------- compute predictions\n",
    "\n",
    "print('Results for the random forest:\\n')\n",
    "print_hyperparameters(hyp_names, rnd_for_res)\n",
    "print_metrics(y_dev, y_dev_pred)"
   ]
  },
  {
   "cell_type": "markdown",
   "metadata": {},
   "source": [
    "Results can then be completed by computing the confidence interval:"
   ]
  },
  {
   "cell_type": "code",
   "execution_count": 53,
   "metadata": {},
   "outputs": [
    {
     "name": "stdout",
     "output_type": "stream",
     "text": [
      "Confidence interval: [ 0.210, 0.339 ]\n"
     ]
    }
   ],
   "source": [
    "conf_interval = confidence_interval(y_dev, y_dev_pred, confidence=confidence)\n",
    "print('Confidence interval: [ {:.3f}, {:.3f} ]'.format(conf_interval[0].squeeze(), conf_interval[1].squeeze()))"
   ]
  },
  {
   "cell_type": "markdown",
   "metadata": {},
   "source": [
    "We then save the results to file:"
   ]
  },
  {
   "cell_type": "code",
   "execution_count": 54,
   "metadata": {},
   "outputs": [],
   "source": [
    "save_res(rnd_for, 'rnd_for')"
   ]
  },
  {
   "cell_type": "markdown",
   "metadata": {},
   "source": [
    "Finally we visualise the distribution of the variance of the errors in plots:"
   ]
  },
  {
   "cell_type": "code",
   "execution_count": 55,
   "metadata": {},
   "outputs": [
    {
     "data": {
      "image/png": "[encoded data removed]",
      "text/plain": [
       "<Figure size 1296x360 with 3 Axes>"
      ]
     },
     "metadata": {
      "needs_background": "light"
     },
     "output_type": "display_data"
    }
   ],
   "source": [
    "plot = error_visualisation(y_dev, y_dev_pred)\n",
    "plot.save_and_close(path.join(IMG_PATH, 'rnd_for_errors'))"
   ]
  },
  {
   "cell_type": "markdown",
   "metadata": {},
   "source": [
    "Decision trees seem to slighlty improve the confidence of the results but do not significantly improve the situation:\n",
    "\n",
    "- the values of the MSE and the other scores are comparable with linear regression (w/o regularisation),\n",
    "- the confidence interval is definitely more peaked,\n",
    "- errors seem to be mainly underestimating the true values and are contained in small intervals."
   ]
  },
  {
   "cell_type": "markdown",
   "metadata": {},
   "source": [
    "### Boosted Trees\n",
    "\n",
    "We then implement the gradient boosting of shallow trees to improve previous results. In this case we add boosting rounds while we keep only one tree per round:"
   ]
  },
  {
   "cell_type": "code",
   "execution_count": 56,
   "metadata": {},
   "outputs": [],
   "source": [
    "import xgboost       as xgb\n",
    "from sklearn.metrics import mean_squared_error, explained_variance_score, r2_score\n",
    "from skopt           import gp_minimize\n",
    "from skopt.space     import Real, Integer, Categorical\n",
    "from skopt.utils     import use_named_args\n",
    "\n",
    "# convert training data to DMatrix for training\n",
    "dtrain = xgb.DMatrix(X_train, label=y_train)\n",
    "ddev   = xgb.DMatrix(X_dev,   label=y_dev)\n",
    "\n",
    "# define the hyperparameter search space\n",
    "hyp_names  = ['max_depth', #----------------- max. depth of a tree [1, inf)\n",
    "              'min_child_weight', #---------- min. sum of instance weight (Hessian) needed in a child [0, inf)\n",
    "              'gamma', #--------------------- min. loss reduction required to make a further partition on a leaf node of the tree [0, inf)\n",
    "              'subsample', #----------------- subsample ratio of the training instances (0,1]\n",
    "              'colsample_bytree', #---------- subsample ratio of columns when constructing each tree (0,1]\n",
    "              'lambda', #-------------------- l2 regularisation\n",
    "              'alpha', #--------------------- l1 regularisation\n",
    "              'learning_rate', #------------- learning rate of gradient descent\n",
    "              'num_boost_round' #------------ number of boosting rounds\n",
    "             ]\n",
    "hyp_search = [Integer(1, 30, name=hyp_names[0]),\n",
    "              Real(1.0e-2, 1.0e-1, prior='log-uniform', name=hyp_names[1]),\n",
    "              Real(1.0e-2, 1.0e2, prior='log-uniform', name=hyp_names[2]),\n",
    "              Real(0.01, 1.0, name=hyp_names[3]),\n",
    "              Real(0.01, 1.0, name=hyp_names[4]),\n",
    "              Real(1.0e-6, 1.0e-1, prior='log-uniform', name=hyp_names[5]),\n",
    "              Real(1.0e-6, 1.0e-1, prior='log-uniform', name=hyp_names[6]),\n",
    "              Real(1.0e-5, 1.0e-1, prior='log-uniform', name=hyp_names[7]),\n",
    "              Integer(2, 1000, name=hyp_names[8])\n",
    "             ]\n",
    "log.info('Fitting BDT.')\n",
    "\n",
    "# define the number of iterations of the optimisation\n",
    "n_calls    = 10\n",
    "\n",
    "# define the objective function\n",
    "@use_named_args(hyp_search)\n",
    "def objective(**params):\n",
    "    '''\n",
    "    Compute the mean squared error on the validation set.\n",
    "    \n",
    "    Required arguments:\n",
    "        **params:  the hyperparameters search space.\n",
    "        \n",
    "    Returns:\n",
    "        the mean squared error of the dev set.\n",
    "    '''\n",
    "    # save the number of boosting rounds\n",
    "    num_boost_round = params['num_boost_round']\n",
    "    \n",
    "    # create new dictionary without num_boost_round\n",
    "    params = {key: value for key, value in params.items() if key != 'num_boost_round'}\n",
    "    params['seed'] = RAND\n",
    "    \n",
    "    # add more parameters\n",
    "    params['num_parallel_tree'] = 1\n",
    "    params['objective']         = 'reg:squarederror'\n",
    "    params['tree_method']       = 'hist'\n",
    "    \n",
    "    # fit the estimator\n",
    "    bst_tree = xgb.train(params, dtrain, num_boost_round=num_boost_round, evals=[(ddev, 'eval'), (dtrain, 'train')], verbose_eval=False)\n",
    "    \n",
    "    # compute predictions on the dev set and release the memory\n",
    "    y_dev_pred = bst_tree.predict(ddev).reshape(-1,1)\n",
    "    del bst_tree\n",
    "    \n",
    "    # compute the mean squared error\n",
    "    return mean_squared_error(y_dev, y_dev_pred)\n",
    "\n",
    "# save the results of the optimisation\n",
    "bst_tree_res = gp_minimize(objective, hyp_search, n_calls=n_calls, random_state=RAND, n_jobs=multi_thread)\n",
    "skp.dump(bst_tree_res, path.join(OUT_PATH, 'bst_tree_dev_opt_res.pkl.xz'), compress=('xz', 9))"
   ]
  },
  {
   "cell_type": "markdown",
   "metadata": {},
   "source": [
    "We the print the results and compute the metrics:"
   ]
  },
  {
   "cell_type": "code",
   "execution_count": 57,
   "metadata": {},
   "outputs": [
    {
     "name": "stdout",
     "output_type": "stream",
     "text": [
      "Results for the boosted trees:\n",
      "\n",
      "  Best hyperparameters:\n",
      "\n",
      "    max_depth: 22\n",
      "    min_child_weight: 0.021210004897911045\n",
      "    gamma: 1.9132683954526493\n",
      "    subsample: 0.5256259174255655\n",
      "    colsample_bytree: 0.9615603041058558\n",
      "    lambda: 0.016698184041729174\n",
      "    alpha: 0.005452561223245021\n",
      "    learning_rate: 0.0014413469371110338\n",
      "    num_boost_round: 588\n",
      "\n",
      "  MSE:  0.140\n",
      "  R2:   0.720\n",
      "  EVAR: 0.720\n"
     ]
    }
   ],
   "source": [
    "# retrieve best results, fit to the training set and print\n",
    "params = dict(zip(hyp_names, bst_tree_res.x)) #------------------------------------------ set parameters to best possible choice\n",
    "num_boost_round = params['num_boost_round'] #-------------------------------------------- save the value of the boosting rounds\n",
    "params = {key: value for key, value in params.items() if key != 'num_boost_round'} #----- create new dictionary w/o boosting rounds\n",
    "bst_tree = xgb.train(params,\n",
    "                     dtrain,\n",
    "                     num_boost_round=num_boost_round,\n",
    "                     evals=[(ddev, 'eval'), (dtrain, 'train')],\n",
    "                     verbose_eval=False) #----------------------------------------------- fit again on the training set\n",
    "y_dev_pred = bst_tree.predict(ddev).reshape(-1,1) #-------------------------------------- compute predictions\n",
    "\n",
    "print('Results for the boosted trees:\\n')\n",
    "print_hyperparameters(hyp_names, bst_tree_res)\n",
    "print_metrics(y_dev, y_dev_pred)"
   ]
  },
  {
   "cell_type": "markdown",
   "metadata": {},
   "source": [
    "Results can then be completed by computing the confidence interval:"
   ]
  },
  {
   "cell_type": "code",
   "execution_count": 58,
   "metadata": {},
   "outputs": [
    {
     "name": "stdout",
     "output_type": "stream",
     "text": [
      "Confidence interval: [ 0.090, 0.189 ]\n"
     ]
    }
   ],
   "source": [
    "conf_interval = confidence_interval(y_dev, y_dev_pred, confidence=confidence)\n",
    "print('Confidence interval: [ {:.3f}, {:.3f} ]'.format(conf_interval[0].squeeze(), conf_interval[1].squeeze()))"
   ]
  },
  {
   "cell_type": "markdown",
   "metadata": {},
   "source": [
    "We then save the results to file:"
   ]
  },
  {
   "cell_type": "code",
   "execution_count": 59,
   "metadata": {},
   "outputs": [],
   "source": [
    "save_res(bst_tree, 'bst_tree')"
   ]
  },
  {
   "cell_type": "markdown",
   "metadata": {},
   "source": [
    "Finally we visualise the distribution of the variance of the errors in plots:"
   ]
  },
  {
   "cell_type": "code",
   "execution_count": 60,
   "metadata": {},
   "outputs": [
    {
     "data": {
      "image/png": "[encoded data removed]",
      "text/plain": [
       "<Figure size 1296x360 with 3 Axes>"
      ]
     },
     "metadata": {
      "needs_background": "light"
     },
     "output_type": "display_data"
    }
   ],
   "source": [
    "plot = error_visualisation(y_dev, y_dev_pred)\n",
    "plot.save_and_close(path.join(IMG_PATH, 'bst_tree_errors'))"
   ]
  },
  {
   "cell_type": "markdown",
   "metadata": {},
   "source": [
    "Gradient boosting shows a vast improvement on the previous decision tree implementation:\n",
    "\n",
    "- the values of the MSE and the other scores are comparable with SVR,\n",
    "- the confidence interval is definitely peaked,\n",
    "- errors seem to be mainly underestimating the true values and are contained in small intervals."
   ]
  },
  {
   "cell_type": "markdown",
   "metadata": {},
   "source": [
    "### Boosted Forests\n",
    "\n",
    "As a curiosity we also implement boosted forests of decision trees to see whether this improves anything:"
   ]
  },
  {
   "cell_type": "code",
   "execution_count": 61,
   "metadata": {},
   "outputs": [],
   "source": [
    "import xgboost       as xgb\n",
    "from sklearn.metrics import mean_squared_error, explained_variance_score, r2_score\n",
    "from skopt           import gp_minimize\n",
    "from skopt.space     import Real, Integer, Categorical\n",
    "from skopt.utils     import use_named_args\n",
    "\n",
    "# convert training data to DMatrix for training\n",
    "dtrain = xgb.DMatrix(X_train, label=y_train)\n",
    "ddev   = xgb.DMatrix(X_dev,   label=y_dev)\n",
    "\n",
    "# define the hyperparameter search space\n",
    "hyp_names  = ['max_depth', #----------------- max. depth of a tree [1, inf)\n",
    "              'min_child_weight', #---------- min. sum of instance weight (Hessian) needed in a child [0, inf)\n",
    "              'gamma', #--------------------- min. loss reduction required to make a further partition on a leaf node of the tree [0, inf)\n",
    "              'subsample', #----------------- subsample ratio of the training instances (0,1]\n",
    "              'colsample_bytree', #---------- subsample ratio of columns when constructing each tree (0,1]\n",
    "              'lambda', #-------------------- l2 regularisation\n",
    "              'alpha', #--------------------- l1 regularisation\n",
    "              'num_parallel_tree', #--------- number of trees in the forest\n",
    "              'learning_rate', #------------- learning rate of gradient descent\n",
    "              'num_boost_round' #------------ number of boosting rounds\n",
    "             ]\n",
    "hyp_search = [Integer(1, 30, name=hyp_names[0]),\n",
    "              Real(1.0e-2, 1.0e-1, prior='log-uniform', name=hyp_names[1]),\n",
    "              Real(1.0e-2, 1.0e2, prior='log-uniform', name=hyp_names[2]),\n",
    "              Real(0.01, 1.0, name=hyp_names[3]),\n",
    "              Real(0.01, 1.0, name=hyp_names[4]),\n",
    "              Real(1.0e-6, 1.0e-1, prior='log-uniform', name=hyp_names[5]),\n",
    "              Real(1.0e-6, 1.0e-1, prior='log-uniform', name=hyp_names[6]),\n",
    "              Integer(2, 10, name=hyp_names[7]),\n",
    "              Real(1.0e-5, 1.0e-1, prior='log-uniform', name=hyp_names[8]),\n",
    "              Integer(2, 1000, name=hyp_names[9])\n",
    "             ]\n",
    "log.info('Fitting BRF.')\n",
    "\n",
    "# define the number of iterations of the optimisation\n",
    "n_calls    = 10\n",
    "\n",
    "# define the objective function\n",
    "@use_named_args(hyp_search)\n",
    "def objective(**params):\n",
    "    '''\n",
    "    Compute the mean squared error on the validation set.\n",
    "    \n",
    "    Required arguments:\n",
    "        **params:  the hyperparameters search space.\n",
    "        \n",
    "    Returns:\n",
    "        the mean squared error of the dev set.\n",
    "    '''\n",
    "    # save the number of boosting rounds\n",
    "    num_boost_round = params['num_boost_round']\n",
    "    \n",
    "    # create new dictionary without num_boost_round\n",
    "    params = {key: value for key, value in params.items() if key != 'num_boost_round'}\n",
    "    \n",
    "    # add more parameters\n",
    "    params['objective']   = 'reg:squarederror'\n",
    "    params['tree_method'] = 'hist'\n",
    "    params['seed']        = RAND\n",
    "    \n",
    "    # fit the estimator\n",
    "    bst_for = xgb.train(params, dtrain, num_boost_round=num_boost_round, evals=[(ddev, 'eval'), (dtrain, 'train')], verbose_eval=False)\n",
    "    \n",
    "    # compute predictions on the dev set and release the memory\n",
    "    y_dev_pred = bst_for.predict(ddev).reshape(-1,1)\n",
    "    del bst_for\n",
    "    \n",
    "    # compute the mean squared error\n",
    "    return mean_squared_error(y_dev, y_dev_pred)\n",
    "\n",
    "# save the results of the optimisation\n",
    "bst_for_res = gp_minimize(objective, hyp_search, n_calls=n_calls, random_state=RAND, n_jobs=multi_thread)\n",
    "skp.dump(bst_for_res, path.join(OUT_PATH, 'bst_for_dev_opt_res.pkl.xz'), compress=('xz', 9))"
   ]
  },
  {
   "cell_type": "markdown",
   "metadata": {},
   "source": [
    "We the print the results and compute the metrics:"
   ]
  },
  {
   "cell_type": "code",
   "execution_count": 62,
   "metadata": {},
   "outputs": [
    {
     "name": "stdout",
     "output_type": "stream",
     "text": [
      "Results for the boosted forest of trees:\n",
      "\n",
      "  Best hyperparameters:\n",
      "\n",
      "    max_depth: 12\n",
      "    min_child_weight: 0.01965568459942485\n",
      "    gamma: 0.01138463970530464\n",
      "    subsample: 0.20685398004791716\n",
      "    colsample_bytree: 0.7142285332211636\n",
      "    lambda: 0.008930539642879314\n",
      "    alpha: 0.0010710256549997944\n",
      "    num_parallel_tree: 9\n",
      "    learning_rate: 0.00402075954874985\n",
      "    num_boost_round: 915\n",
      "\n",
      "  MSE:  0.065\n",
      "  R2:   0.870\n",
      "  EVAR: 0.872\n"
     ]
    }
   ],
   "source": [
    "# retrieve best results, fit to the training set and print\n",
    "params = dict(zip(hyp_names, bst_for_res.x)) #------------------------------------------- set parameters to best possible choice\n",
    "num_boost_round = params['num_boost_round'] #-------------------------------------------- save the value of the boosting rounds\n",
    "params = {key: value for key, value in params.items() if key != 'num_boost_round'} #----- create new dictionary w/o boosting rounds\n",
    "bst_for = xgb.train(params,\n",
    "                    dtrain,\n",
    "                    num_boost_round=num_boost_round,\n",
    "                    evals=[(ddev, 'eval'), (dtrain, 'train')],\n",
    "                    verbose_eval=False) #------------------------------------------------ fit again on the training set\n",
    "y_dev_pred = bst_for.predict(ddev).reshape(-1,1) #--------------------------------------- compute predictions\n",
    "\n",
    "print('Results for the boosted forest of trees:\\n')\n",
    "print_hyperparameters(hyp_names, bst_for_res)\n",
    "print_metrics(y_dev, y_dev_pred)"
   ]
  },
  {
   "cell_type": "markdown",
   "metadata": {},
   "source": [
    "Results can then be completed by computing the confidence interval:"
   ]
  },
  {
   "cell_type": "code",
   "execution_count": 63,
   "metadata": {},
   "outputs": [
    {
     "name": "stdout",
     "output_type": "stream",
     "text": [
      "Confidence interval: [ 0.005, 0.125 ]\n"
     ]
    }
   ],
   "source": [
    "conf_interval = confidence_interval(y_dev, y_dev_pred, confidence=confidence)\n",
    "print('Confidence interval: [ {:.3f}, {:.3f} ]'.format(conf_interval[0].squeeze(), conf_interval[1].squeeze()))"
   ]
  },
  {
   "cell_type": "markdown",
   "metadata": {},
   "source": [
    "We then save the results to file:"
   ]
  },
  {
   "cell_type": "code",
   "execution_count": 64,
   "metadata": {},
   "outputs": [],
   "source": [
    "save_res(bst_for, 'bst_for')"
   ]
  },
  {
   "cell_type": "markdown",
   "metadata": {},
   "source": [
    "Finally we visualise the distribution of the variance of the errors in plots:"
   ]
  },
  {
   "cell_type": "code",
   "execution_count": 65,
   "metadata": {},
   "outputs": [
    {
     "data": {
      "image/png": "[encoded data removed]",
      "text/plain": [
       "<Figure size 1296x360 with 3 Axes>"
      ]
     },
     "metadata": {
      "needs_background": "light"
     },
     "output_type": "display_data"
    }
   ],
   "source": [
    "plot = error_visualisation(y_dev, y_dev_pred)\n",
    "plot.save_and_close(path.join(IMG_PATH, 'bst_for_errors'))"
   ]
  },
  {
   "cell_type": "markdown",
   "metadata": {},
   "source": [
    "Boosted forests of trees seem to lead to the best results on the development set:\n",
    "\n",
    "- MSE and other scores are the best results so far,\n",
    "- the confidence interval is definitely peaked,\n",
    "- errors seem to be mainly underestimating the true values but the number of large errors is reduced."
   ]
  },
  {
   "cell_type": "markdown",
   "metadata": {},
   "source": [
    "### Neural Networks\n",
    "\n",
    "We finally implement an analysis based on ANNs. Given the small amount of sample data we try to keep the architecture as simple as possible. Given the distribution of the data we consider a fully connected (FC) ANN built using [Tensorflow](https://www.tensorflow.org/) and [Keras](https://www.tensorflow.org/guide/keras), its high level API."
   ]
  },
  {
   "cell_type": "code",
   "execution_count": 66,
   "metadata": {},
   "outputs": [],
   "source": [
    "from tensorflow.keras              import Sequential, metrics, losses\n",
    "from tensorflow.keras.layers       import InputLayer, Dense, Activation, LeakyReLU, Dropout, BatchNormalization\n",
    "from tensorflow.keras.initializers import glorot_uniform\n",
    "from tensorflow.keras.optimizers   import Adam\n",
    "\n",
    "# define the input shape\n",
    "input_shape = X_train.shape[1:]\n",
    "\n",
    "# define the batch size for training\n",
    "batch_size = X_train.shape[0]\n",
    "\n",
    "# build the model\n",
    "def ann_model(n_layers=1,\n",
    "              n_units=10,\n",
    "              learning_rate=0.1,\n",
    "              epochs=10,\n",
    "              activation='relu',\n",
    "              slope=0.3,\n",
    "              dropout=True,\n",
    "              dropout_rate=0.2,\n",
    "              batch_normalization=True,\n",
    "              momentum=0.99,\n",
    "              callbacks=None,\n",
    "              verbose=0\n",
    "             ):\n",
    "    '''\n",
    "    Create and return a compiled Tensorflow model.\n",
    "    \n",
    "    Required parameters:\n",
    "    \n",
    "    Optional parameters:\n",
    "        n_layers:            the number of fully connected layers to insert,\n",
    "        n_units:             the number of units in each layer,\n",
    "        learning_rate:       the learning rate of gradient descent,\n",
    "        epochs:              the number of epochs for training,\n",
    "        activation:          the name of the activation function ('relu' for ReLU or else for LeakyReLU)\n",
    "        slope:               the slope of the LeakyReLU activation (ignored if ReLU),\n",
    "        dropout:             whether to use dropout,\n",
    "        dropout_rate:        the dropout rate (ignored if no dropout),\n",
    "        batch_normalization: whether to use batch normalization,\n",
    "        momentum:            the momentum of batch normalization,\n",
    "        callbacks:           the list of callbacks,\n",
    "        verbose:             verbosity level.\n",
    "    \n",
    "    Returns:\n",
    "        the fitted model and its history.\n",
    "    '''\n",
    "\n",
    "    # instantiate the model\n",
    "    tf.keras.backend.clear_session()\n",
    "    model = Sequential(name='sft_trunc') #----------------------------------------------- create the model\n",
    "    model.add(InputLayer(input_shape=input_shape, name='input')) #----------------------- add the input layer of shape X_train.shape[1:]\n",
    "    \n",
    "    # add FC layers\n",
    "    for n in range(n_layers):\n",
    "        model.add(Dense(units=n_units,\n",
    "                        kernel_initializer=glorot_uniform(seed=RAND),\n",
    "                        bias_initializer=tf.zeros_initializer(),\n",
    "                        name='dense_{:d}'.format(n)\n",
    "                       )\n",
    "                 ) #--------------------------------------------------------------------- add FC layer\n",
    "        if activation == 'relu':\n",
    "            model.add(Activation('relu',\n",
    "                                 name='activation_{:d}'.format(n)\n",
    "                                )\n",
    "                     )\n",
    "        else:\n",
    "            model.add(LeakyReLU(alpha=slope,\n",
    "                                name='activation_{:d}'.format(n)\n",
    "                               )\n",
    "                     ) #----------------------------------------------------------------- add activation layer\n",
    "        if batch_normalization:\n",
    "            model.add(BatchNormalization(momentum=momentum,\n",
    "                                         name='batch_norm_{:d}'.format(n)\n",
    "                                        )\n",
    "                     ) #----------------------------------------------------------------- add batch normalization layer\n",
    "        if dropout:\n",
    "            model.add(Dropout(rate=dropout_rate,\n",
    "                              seed=RAND,\n",
    "                              name='dropout_{:d}'.format(n)\n",
    "                             )\n",
    "                     ) #----------------------------------------------------------------- add dropout layer\n",
    "        \n",
    "    # add the output layer\n",
    "    model.add(Dense(units=1,\n",
    "                    kernel_initializer=glorot_uniform(seed=RAND),\n",
    "                    bias_initializer=tf.zeros_initializer(),\n",
    "                    name='output'\n",
    "                   )\n",
    "             ) #------------------------------------------------------------------------- add output layer\n",
    "    \n",
    "    # compile the model\n",
    "    model.compile(optimizers=Adam(learning_rate=learning_rate),\n",
    "                  loss=losses.MeanSquaredError(),\n",
    "                  metrics=[metrics.MeanSquaredError(),\n",
    "                           metrics.RootMeanSquaredError(),\n",
    "                           metrics.MeanAbsoluteError()\n",
    "                          ]\n",
    "                 )\n",
    "    \n",
    "    # fit the model\n",
    "    model_history = model.fit(x=X_train,\n",
    "                              y=y_train,\n",
    "                              batch_size=batch_size,\n",
    "                              epochs=epochs,\n",
    "                              verbose=verbose,\n",
    "                              validation_data=(X_dev, y_dev),\n",
    "                              callbacks=callbacks\n",
    "                             )\n",
    "    \n",
    "    # return the compiled model\n",
    "    return model, model_history.history"
   ]
  },
  {
   "cell_type": "markdown",
   "metadata": {},
   "source": [
    "We then define the objective function on which to perform the optimisation of the hyperparameters:"
   ]
  },
  {
   "cell_type": "code",
   "execution_count": 67,
   "metadata": {},
   "outputs": [
    {
     "ename": "KeyboardInterrupt",
     "evalue": "",
     "output_type": "error",
     "traceback": [
      "\u001b[0;31m---------------------------------------------------------------------------\u001b[0m",
      "\u001b[0;31mKeyboardInterrupt\u001b[0m                         Traceback (most recent call last)",
      "\u001b[0;32m<ipython-input-67-2b465167a938>\u001b[0m in \u001b[0;36m<module>\u001b[0;34m\u001b[0m\n\u001b[1;32m     50\u001b[0m \u001b[0;34m\u001b[0m\u001b[0m\n\u001b[1;32m     51\u001b[0m \u001b[0;31m# save the results of the optimisation\u001b[0m\u001b[0;34m\u001b[0m\u001b[0;34m\u001b[0m\u001b[0;34m\u001b[0m\u001b[0m\n\u001b[0;32m---> 52\u001b[0;31m \u001b[0mann_res\u001b[0m \u001b[0;34m=\u001b[0m \u001b[0mgp_minimize\u001b[0m\u001b[0;34m(\u001b[0m\u001b[0mobjective\u001b[0m\u001b[0;34m,\u001b[0m \u001b[0mhyp_search\u001b[0m\u001b[0;34m,\u001b[0m \u001b[0mn_calls\u001b[0m\u001b[0;34m=\u001b[0m\u001b[0mn_calls\u001b[0m\u001b[0;34m,\u001b[0m \u001b[0mrandom_state\u001b[0m\u001b[0;34m=\u001b[0m\u001b[0mRAND\u001b[0m\u001b[0;34m,\u001b[0m \u001b[0mn_jobs\u001b[0m\u001b[0;34m=\u001b[0m\u001b[0;36m1\u001b[0m\u001b[0;34m)\u001b[0m\u001b[0;34m\u001b[0m\u001b[0;34m\u001b[0m\u001b[0m\n\u001b[0m\u001b[1;32m     53\u001b[0m \u001b[0mskp\u001b[0m\u001b[0;34m.\u001b[0m\u001b[0mdump\u001b[0m\u001b[0;34m(\u001b[0m\u001b[0mann_res\u001b[0m\u001b[0;34m,\u001b[0m \u001b[0mpath\u001b[0m\u001b[0;34m.\u001b[0m\u001b[0mjoin\u001b[0m\u001b[0;34m(\u001b[0m\u001b[0mOUT_PATH\u001b[0m\u001b[0;34m,\u001b[0m \u001b[0;34m'ann_fc_dev_opt_res.pkl.xz'\u001b[0m\u001b[0;34m)\u001b[0m\u001b[0;34m,\u001b[0m \u001b[0mcompress\u001b[0m\u001b[0;34m=\u001b[0m\u001b[0;34m(\u001b[0m\u001b[0;34m'xz'\u001b[0m\u001b[0;34m,\u001b[0m \u001b[0;36m9\u001b[0m\u001b[0;34m)\u001b[0m\u001b[0;34m)\u001b[0m\u001b[0;34m\u001b[0m\u001b[0;34m\u001b[0m\u001b[0m\n",
      "\u001b[0;32m~/anaconda/envs/ml/lib/python3.7/site-packages/skopt/optimizer/gp.py\u001b[0m in \u001b[0;36mgp_minimize\u001b[0;34m(func, dimensions, base_estimator, n_calls, n_random_starts, acq_func, acq_optimizer, x0, y0, random_state, verbose, callback, n_points, n_restarts_optimizer, xi, kappa, noise, n_jobs, model_queue_size)\u001b[0m\n\u001b[1;32m    269\u001b[0m         \u001b[0mn_restarts_optimizer\u001b[0m\u001b[0;34m=\u001b[0m\u001b[0mn_restarts_optimizer\u001b[0m\u001b[0;34m,\u001b[0m\u001b[0;34m\u001b[0m\u001b[0;34m\u001b[0m\u001b[0m\n\u001b[1;32m    270\u001b[0m         \u001b[0mx0\u001b[0m\u001b[0;34m=\u001b[0m\u001b[0mx0\u001b[0m\u001b[0;34m,\u001b[0m \u001b[0my0\u001b[0m\u001b[0;34m=\u001b[0m\u001b[0my0\u001b[0m\u001b[0;34m,\u001b[0m \u001b[0mrandom_state\u001b[0m\u001b[0;34m=\u001b[0m\u001b[0mrng\u001b[0m\u001b[0;34m,\u001b[0m \u001b[0mverbose\u001b[0m\u001b[0;34m=\u001b[0m\u001b[0mverbose\u001b[0m\u001b[0;34m,\u001b[0m\u001b[0;34m\u001b[0m\u001b[0;34m\u001b[0m\u001b[0m\n\u001b[0;32m--> 271\u001b[0;31m         callback=callback, n_jobs=n_jobs, model_queue_size=model_queue_size)\n\u001b[0m",
      "\u001b[0;32m~/anaconda/envs/ml/lib/python3.7/site-packages/skopt/optimizer/base.py\u001b[0m in \u001b[0;36mbase_minimize\u001b[0;34m(func, dimensions, base_estimator, n_calls, n_random_starts, acq_func, acq_optimizer, x0, y0, random_state, verbose, callback, n_points, n_restarts_optimizer, xi, kappa, n_jobs, model_queue_size)\u001b[0m\n\u001b[1;32m    270\u001b[0m     \u001b[0;32mfor\u001b[0m \u001b[0mn\u001b[0m \u001b[0;32min\u001b[0m \u001b[0mrange\u001b[0m\u001b[0;34m(\u001b[0m\u001b[0mn_calls\u001b[0m\u001b[0;34m)\u001b[0m\u001b[0;34m:\u001b[0m\u001b[0;34m\u001b[0m\u001b[0;34m\u001b[0m\u001b[0m\n\u001b[1;32m    271\u001b[0m         \u001b[0mnext_x\u001b[0m \u001b[0;34m=\u001b[0m \u001b[0moptimizer\u001b[0m\u001b[0;34m.\u001b[0m\u001b[0mask\u001b[0m\u001b[0;34m(\u001b[0m\u001b[0;34m)\u001b[0m\u001b[0;34m\u001b[0m\u001b[0;34m\u001b[0m\u001b[0m\n\u001b[0;32m--> 272\u001b[0;31m         \u001b[0mnext_y\u001b[0m \u001b[0;34m=\u001b[0m \u001b[0mfunc\u001b[0m\u001b[0;34m(\u001b[0m\u001b[0mnext_x\u001b[0m\u001b[0;34m)\u001b[0m\u001b[0;34m\u001b[0m\u001b[0;34m\u001b[0m\u001b[0m\n\u001b[0m\u001b[1;32m    273\u001b[0m         \u001b[0mresult\u001b[0m \u001b[0;34m=\u001b[0m \u001b[0moptimizer\u001b[0m\u001b[0;34m.\u001b[0m\u001b[0mtell\u001b[0m\u001b[0;34m(\u001b[0m\u001b[0mnext_x\u001b[0m\u001b[0;34m,\u001b[0m \u001b[0mnext_y\u001b[0m\u001b[0;34m)\u001b[0m\u001b[0;34m\u001b[0m\u001b[0;34m\u001b[0m\u001b[0m\n\u001b[1;32m    274\u001b[0m         \u001b[0mresult\u001b[0m\u001b[0;34m.\u001b[0m\u001b[0mspecs\u001b[0m \u001b[0;34m=\u001b[0m \u001b[0mspecs\u001b[0m\u001b[0;34m\u001b[0m\u001b[0;34m\u001b[0m\u001b[0m\n",
      "\u001b[0;32m~/anaconda/envs/ml/lib/python3.7/site-packages/skopt/utils.py\u001b[0m in \u001b[0;36mwrapper\u001b[0;34m(x)\u001b[0m\n\u001b[1;32m    762\u001b[0m \u001b[0;34m\u001b[0m\u001b[0m\n\u001b[1;32m    763\u001b[0m             \u001b[0;31m# Call the wrapped objective function with the named arguments.\u001b[0m\u001b[0;34m\u001b[0m\u001b[0;34m\u001b[0m\u001b[0;34m\u001b[0m\u001b[0m\n\u001b[0;32m--> 764\u001b[0;31m             \u001b[0mobjective_value\u001b[0m \u001b[0;34m=\u001b[0m \u001b[0mfunc\u001b[0m\u001b[0;34m(\u001b[0m\u001b[0;34m**\u001b[0m\u001b[0marg_dict\u001b[0m\u001b[0;34m)\u001b[0m\u001b[0;34m\u001b[0m\u001b[0;34m\u001b[0m\u001b[0m\n\u001b[0m\u001b[1;32m    765\u001b[0m \u001b[0;34m\u001b[0m\u001b[0m\n\u001b[1;32m    766\u001b[0m             \u001b[0;32mreturn\u001b[0m \u001b[0mobjective_value\u001b[0m\u001b[0;34m\u001b[0m\u001b[0;34m\u001b[0m\u001b[0m\n",
      "\u001b[0;32m<ipython-input-67-2b465167a938>\u001b[0m in \u001b[0;36mobjective\u001b[0;34m(**params)\u001b[0m\n\u001b[1;32m     44\u001b[0m     '''\n\u001b[1;32m     45\u001b[0m     \u001b[0;31m# create the model\u001b[0m\u001b[0;34m\u001b[0m\u001b[0;34m\u001b[0m\u001b[0;34m\u001b[0m\u001b[0m\n\u001b[0;32m---> 46\u001b[0;31m     \u001b[0m_\u001b[0m\u001b[0;34m,\u001b[0m \u001b[0mhistory\u001b[0m \u001b[0;34m=\u001b[0m \u001b[0mann_model\u001b[0m\u001b[0;34m(\u001b[0m\u001b[0;34m**\u001b[0m\u001b[0mparams\u001b[0m\u001b[0;34m)\u001b[0m\u001b[0;34m\u001b[0m\u001b[0;34m\u001b[0m\u001b[0m\n\u001b[0m\u001b[1;32m     47\u001b[0m \u001b[0;34m\u001b[0m\u001b[0m\n\u001b[1;32m     48\u001b[0m     \u001b[0;31m# return the minimum value of the loss achieved by the model during training\u001b[0m\u001b[0;34m\u001b[0m\u001b[0;34m\u001b[0m\u001b[0;34m\u001b[0m\u001b[0m\n",
      "\u001b[0;32m<ipython-input-66-24690d2bdea4>\u001b[0m in \u001b[0;36mann_model\u001b[0;34m(n_layers, n_units, learning_rate, epochs, activation, slope, dropout, dropout_rate, batch_normalization, momentum, callbacks, verbose)\u001b[0m\n\u001b[1;32m    106\u001b[0m                               \u001b[0mverbose\u001b[0m\u001b[0;34m=\u001b[0m\u001b[0mverbose\u001b[0m\u001b[0;34m,\u001b[0m\u001b[0;34m\u001b[0m\u001b[0;34m\u001b[0m\u001b[0m\n\u001b[1;32m    107\u001b[0m                               \u001b[0mvalidation_data\u001b[0m\u001b[0;34m=\u001b[0m\u001b[0;34m(\u001b[0m\u001b[0mX_dev\u001b[0m\u001b[0;34m,\u001b[0m \u001b[0my_dev\u001b[0m\u001b[0;34m)\u001b[0m\u001b[0;34m,\u001b[0m\u001b[0;34m\u001b[0m\u001b[0;34m\u001b[0m\u001b[0m\n\u001b[0;32m--> 108\u001b[0;31m                               \u001b[0mcallbacks\u001b[0m\u001b[0;34m=\u001b[0m\u001b[0mcallbacks\u001b[0m\u001b[0;34m\u001b[0m\u001b[0;34m\u001b[0m\u001b[0m\n\u001b[0m\u001b[1;32m    109\u001b[0m                              )\n\u001b[1;32m    110\u001b[0m \u001b[0;34m\u001b[0m\u001b[0m\n",
      "\u001b[0;32m~/anaconda/envs/ml/lib/python3.7/site-packages/tensorflow_core/python/keras/engine/training.py\u001b[0m in \u001b[0;36mfit\u001b[0;34m(self, x, y, batch_size, epochs, verbose, callbacks, validation_split, validation_data, shuffle, class_weight, sample_weight, initial_epoch, steps_per_epoch, validation_steps, validation_freq, max_queue_size, workers, use_multiprocessing, **kwargs)\u001b[0m\n\u001b[1;32m    726\u001b[0m         \u001b[0mmax_queue_size\u001b[0m\u001b[0;34m=\u001b[0m\u001b[0mmax_queue_size\u001b[0m\u001b[0;34m,\u001b[0m\u001b[0;34m\u001b[0m\u001b[0;34m\u001b[0m\u001b[0m\n\u001b[1;32m    727\u001b[0m         \u001b[0mworkers\u001b[0m\u001b[0;34m=\u001b[0m\u001b[0mworkers\u001b[0m\u001b[0;34m,\u001b[0m\u001b[0;34m\u001b[0m\u001b[0;34m\u001b[0m\u001b[0m\n\u001b[0;32m--> 728\u001b[0;31m         use_multiprocessing=use_multiprocessing)\n\u001b[0m\u001b[1;32m    729\u001b[0m \u001b[0;34m\u001b[0m\u001b[0m\n\u001b[1;32m    730\u001b[0m   def evaluate(self,\n",
      "\u001b[0;32m~/anaconda/envs/ml/lib/python3.7/site-packages/tensorflow_core/python/keras/engine/training_v2.py\u001b[0m in \u001b[0;36mfit\u001b[0;34m(self, model, x, y, batch_size, epochs, verbose, callbacks, validation_split, validation_data, shuffle, class_weight, sample_weight, initial_epoch, steps_per_epoch, validation_steps, validation_freq, **kwargs)\u001b[0m\n\u001b[1;32m    368\u001b[0m                       \u001b[0mmode\u001b[0m\u001b[0;34m=\u001b[0m\u001b[0mModeKeys\u001b[0m\u001b[0;34m.\u001b[0m\u001b[0mTEST\u001b[0m\u001b[0;34m,\u001b[0m\u001b[0;34m\u001b[0m\u001b[0;34m\u001b[0m\u001b[0m\n\u001b[1;32m    369\u001b[0m                       \u001b[0mtraining_context\u001b[0m\u001b[0;34m=\u001b[0m\u001b[0meval_context\u001b[0m\u001b[0;34m,\u001b[0m\u001b[0;34m\u001b[0m\u001b[0;34m\u001b[0m\u001b[0m\n\u001b[0;32m--> 370\u001b[0;31m                       total_epochs=1)\n\u001b[0m\u001b[1;32m    371\u001b[0m                   cbks.make_logs(model, epoch_logs, eval_result, ModeKeys.TEST,\n\u001b[1;32m    372\u001b[0m                                  prefix='val_')\n",
      "\u001b[0;32m~/anaconda/envs/ml/lib/python3.7/site-packages/tensorflow_core/python/keras/engine/training_v2.py\u001b[0m in \u001b[0;36mrun_one_epoch\u001b[0;34m(model, iterator, execution_function, dataset_size, batch_size, strategy, steps_per_epoch, num_samples, mode, training_context, total_epochs)\u001b[0m\n\u001b[1;32m    121\u001b[0m         step=step, mode=mode, size=current_batch_size) as batch_logs:\n\u001b[1;32m    122\u001b[0m       \u001b[0;32mtry\u001b[0m\u001b[0;34m:\u001b[0m\u001b[0;34m\u001b[0m\u001b[0;34m\u001b[0m\u001b[0m\n\u001b[0;32m--> 123\u001b[0;31m         \u001b[0mbatch_outs\u001b[0m \u001b[0;34m=\u001b[0m \u001b[0mexecution_function\u001b[0m\u001b[0;34m(\u001b[0m\u001b[0miterator\u001b[0m\u001b[0;34m)\u001b[0m\u001b[0;34m\u001b[0m\u001b[0;34m\u001b[0m\u001b[0m\n\u001b[0m\u001b[1;32m    124\u001b[0m       \u001b[0;32mexcept\u001b[0m \u001b[0;34m(\u001b[0m\u001b[0mStopIteration\u001b[0m\u001b[0;34m,\u001b[0m \u001b[0merrors\u001b[0m\u001b[0;34m.\u001b[0m\u001b[0mOutOfRangeError\u001b[0m\u001b[0;34m)\u001b[0m\u001b[0;34m:\u001b[0m\u001b[0;34m\u001b[0m\u001b[0;34m\u001b[0m\u001b[0m\n\u001b[1;32m    125\u001b[0m         \u001b[0;31m# TODO(kaftan): File bug about tf function and errors.OutOfRangeError?\u001b[0m\u001b[0;34m\u001b[0m\u001b[0;34m\u001b[0m\u001b[0;34m\u001b[0m\u001b[0m\n",
      "\u001b[0;32m~/anaconda/envs/ml/lib/python3.7/site-packages/tensorflow_core/python/keras/engine/training_v2_utils.py\u001b[0m in \u001b[0;36mexecution_function\u001b[0;34m(input_fn)\u001b[0m\n\u001b[1;32m     84\u001b[0m     \u001b[0;31m# `numpy` translates Tensors to values in Eager mode.\u001b[0m\u001b[0;34m\u001b[0m\u001b[0;34m\u001b[0m\u001b[0;34m\u001b[0m\u001b[0m\n\u001b[1;32m     85\u001b[0m     return nest.map_structure(_non_none_constant_value,\n\u001b[0;32m---> 86\u001b[0;31m                               distributed_function(input_fn))\n\u001b[0m\u001b[1;32m     87\u001b[0m \u001b[0;34m\u001b[0m\u001b[0m\n\u001b[1;32m     88\u001b[0m   \u001b[0;32mreturn\u001b[0m \u001b[0mexecution_function\u001b[0m\u001b[0;34m\u001b[0m\u001b[0;34m\u001b[0m\u001b[0m\n",
      "\u001b[0;32m~/anaconda/envs/ml/lib/python3.7/site-packages/tensorflow_core/python/eager/def_function.py\u001b[0m in \u001b[0;36m__call__\u001b[0;34m(self, *args, **kwds)\u001b[0m\n\u001b[1;32m    455\u001b[0m \u001b[0;34m\u001b[0m\u001b[0m\n\u001b[1;32m    456\u001b[0m     \u001b[0mtracing_count\u001b[0m \u001b[0;34m=\u001b[0m \u001b[0mself\u001b[0m\u001b[0;34m.\u001b[0m\u001b[0m_get_tracing_count\u001b[0m\u001b[0;34m(\u001b[0m\u001b[0;34m)\u001b[0m\u001b[0;34m\u001b[0m\u001b[0;34m\u001b[0m\u001b[0m\n\u001b[0;32m--> 457\u001b[0;31m     \u001b[0mresult\u001b[0m \u001b[0;34m=\u001b[0m \u001b[0mself\u001b[0m\u001b[0;34m.\u001b[0m\u001b[0m_call\u001b[0m\u001b[0;34m(\u001b[0m\u001b[0;34m*\u001b[0m\u001b[0margs\u001b[0m\u001b[0;34m,\u001b[0m \u001b[0;34m**\u001b[0m\u001b[0mkwds\u001b[0m\u001b[0;34m)\u001b[0m\u001b[0;34m\u001b[0m\u001b[0;34m\u001b[0m\u001b[0m\n\u001b[0m\u001b[1;32m    458\u001b[0m     \u001b[0;32mif\u001b[0m \u001b[0mtracing_count\u001b[0m \u001b[0;34m==\u001b[0m \u001b[0mself\u001b[0m\u001b[0;34m.\u001b[0m\u001b[0m_get_tracing_count\u001b[0m\u001b[0;34m(\u001b[0m\u001b[0;34m)\u001b[0m\u001b[0;34m:\u001b[0m\u001b[0;34m\u001b[0m\u001b[0;34m\u001b[0m\u001b[0m\n\u001b[1;32m    459\u001b[0m       \u001b[0mself\u001b[0m\u001b[0;34m.\u001b[0m\u001b[0m_call_counter\u001b[0m\u001b[0;34m.\u001b[0m\u001b[0mcalled_without_tracing\u001b[0m\u001b[0;34m(\u001b[0m\u001b[0;34m)\u001b[0m\u001b[0;34m\u001b[0m\u001b[0;34m\u001b[0m\u001b[0m\n",
      "\u001b[0;32m~/anaconda/envs/ml/lib/python3.7/site-packages/tensorflow_core/python/eager/def_function.py\u001b[0m in \u001b[0;36m_call\u001b[0;34m(self, *args, **kwds)\u001b[0m\n\u001b[1;32m    492\u001b[0m       \u001b[0;31m# In this case we have not created variables on the first call. So we can\u001b[0m\u001b[0;34m\u001b[0m\u001b[0;34m\u001b[0m\u001b[0;34m\u001b[0m\u001b[0m\n\u001b[1;32m    493\u001b[0m       \u001b[0;31m# run the first trace but we should fail if variables are created.\u001b[0m\u001b[0;34m\u001b[0m\u001b[0;34m\u001b[0m\u001b[0;34m\u001b[0m\u001b[0m\n\u001b[0;32m--> 494\u001b[0;31m       \u001b[0mresults\u001b[0m \u001b[0;34m=\u001b[0m \u001b[0mself\u001b[0m\u001b[0;34m.\u001b[0m\u001b[0m_stateful_fn\u001b[0m\u001b[0;34m(\u001b[0m\u001b[0;34m*\u001b[0m\u001b[0margs\u001b[0m\u001b[0;34m,\u001b[0m \u001b[0;34m**\u001b[0m\u001b[0mkwds\u001b[0m\u001b[0;34m)\u001b[0m\u001b[0;34m\u001b[0m\u001b[0;34m\u001b[0m\u001b[0m\n\u001b[0m\u001b[1;32m    495\u001b[0m       \u001b[0;32mif\u001b[0m \u001b[0mself\u001b[0m\u001b[0;34m.\u001b[0m\u001b[0m_created_variables\u001b[0m\u001b[0;34m:\u001b[0m\u001b[0;34m\u001b[0m\u001b[0;34m\u001b[0m\u001b[0m\n\u001b[1;32m    496\u001b[0m         raise ValueError(\"Creating variables on a non-first call to a function\"\n",
      "\u001b[0;32m~/anaconda/envs/ml/lib/python3.7/site-packages/tensorflow_core/python/eager/function.py\u001b[0m in \u001b[0;36m__call__\u001b[0;34m(self, *args, **kwargs)\u001b[0m\n\u001b[1;32m   1821\u001b[0m     \u001b[0;34m\"\"\"Calls a graph function specialized to the inputs.\"\"\"\u001b[0m\u001b[0;34m\u001b[0m\u001b[0;34m\u001b[0m\u001b[0m\n\u001b[1;32m   1822\u001b[0m     \u001b[0mgraph_function\u001b[0m\u001b[0;34m,\u001b[0m \u001b[0margs\u001b[0m\u001b[0;34m,\u001b[0m \u001b[0mkwargs\u001b[0m \u001b[0;34m=\u001b[0m \u001b[0mself\u001b[0m\u001b[0;34m.\u001b[0m\u001b[0m_maybe_define_function\u001b[0m\u001b[0;34m(\u001b[0m\u001b[0margs\u001b[0m\u001b[0;34m,\u001b[0m \u001b[0mkwargs\u001b[0m\u001b[0;34m)\u001b[0m\u001b[0;34m\u001b[0m\u001b[0;34m\u001b[0m\u001b[0m\n\u001b[0;32m-> 1823\u001b[0;31m     \u001b[0;32mreturn\u001b[0m \u001b[0mgraph_function\u001b[0m\u001b[0;34m.\u001b[0m\u001b[0m_filtered_call\u001b[0m\u001b[0;34m(\u001b[0m\u001b[0margs\u001b[0m\u001b[0;34m,\u001b[0m \u001b[0mkwargs\u001b[0m\u001b[0;34m)\u001b[0m  \u001b[0;31m# pylint: disable=protected-access\u001b[0m\u001b[0;34m\u001b[0m\u001b[0;34m\u001b[0m\u001b[0m\n\u001b[0m\u001b[1;32m   1824\u001b[0m \u001b[0;34m\u001b[0m\u001b[0m\n\u001b[1;32m   1825\u001b[0m   \u001b[0;34m@\u001b[0m\u001b[0mproperty\u001b[0m\u001b[0;34m\u001b[0m\u001b[0;34m\u001b[0m\u001b[0m\n",
      "\u001b[0;32m~/anaconda/envs/ml/lib/python3.7/site-packages/tensorflow_core/python/eager/function.py\u001b[0m in \u001b[0;36m_filtered_call\u001b[0;34m(self, args, kwargs)\u001b[0m\n\u001b[1;32m   1139\u001b[0m          if isinstance(t, (ops.Tensor,\n\u001b[1;32m   1140\u001b[0m                            resource_variable_ops.BaseResourceVariable))),\n\u001b[0;32m-> 1141\u001b[0;31m         self.captured_inputs)\n\u001b[0m\u001b[1;32m   1142\u001b[0m \u001b[0;34m\u001b[0m\u001b[0m\n\u001b[1;32m   1143\u001b[0m   \u001b[0;32mdef\u001b[0m \u001b[0m_call_flat\u001b[0m\u001b[0;34m(\u001b[0m\u001b[0mself\u001b[0m\u001b[0;34m,\u001b[0m \u001b[0margs\u001b[0m\u001b[0;34m,\u001b[0m \u001b[0mcaptured_inputs\u001b[0m\u001b[0;34m,\u001b[0m \u001b[0mcancellation_manager\u001b[0m\u001b[0;34m=\u001b[0m\u001b[0;32mNone\u001b[0m\u001b[0;34m)\u001b[0m\u001b[0;34m:\u001b[0m\u001b[0;34m\u001b[0m\u001b[0;34m\u001b[0m\u001b[0m\n",
      "\u001b[0;32m~/anaconda/envs/ml/lib/python3.7/site-packages/tensorflow_core/python/eager/function.py\u001b[0m in \u001b[0;36m_call_flat\u001b[0;34m(self, args, captured_inputs, cancellation_manager)\u001b[0m\n\u001b[1;32m   1222\u001b[0m     \u001b[0;32mif\u001b[0m \u001b[0mexecuting_eagerly\u001b[0m\u001b[0;34m:\u001b[0m\u001b[0;34m\u001b[0m\u001b[0;34m\u001b[0m\u001b[0m\n\u001b[1;32m   1223\u001b[0m       flat_outputs = forward_function.call(\n\u001b[0;32m-> 1224\u001b[0;31m           ctx, args, cancellation_manager=cancellation_manager)\n\u001b[0m\u001b[1;32m   1225\u001b[0m     \u001b[0;32melse\u001b[0m\u001b[0;34m:\u001b[0m\u001b[0;34m\u001b[0m\u001b[0;34m\u001b[0m\u001b[0m\n\u001b[1;32m   1226\u001b[0m       \u001b[0mgradient_name\u001b[0m \u001b[0;34m=\u001b[0m \u001b[0mself\u001b[0m\u001b[0;34m.\u001b[0m\u001b[0m_delayed_rewrite_functions\u001b[0m\u001b[0;34m.\u001b[0m\u001b[0mregister\u001b[0m\u001b[0;34m(\u001b[0m\u001b[0;34m)\u001b[0m\u001b[0;34m\u001b[0m\u001b[0;34m\u001b[0m\u001b[0m\n",
      "\u001b[0;32m~/anaconda/envs/ml/lib/python3.7/site-packages/tensorflow_core/python/eager/function.py\u001b[0m in \u001b[0;36mcall\u001b[0;34m(self, ctx, args, cancellation_manager)\u001b[0m\n\u001b[1;32m    487\u001b[0m       \u001b[0mValueError\u001b[0m\u001b[0;34m:\u001b[0m \u001b[0;32mif\u001b[0m \u001b[0mthe\u001b[0m \u001b[0mnumber\u001b[0m \u001b[0mof\u001b[0m \u001b[0marguments\u001b[0m \u001b[0;32mis\u001b[0m \u001b[0mincorrect\u001b[0m\u001b[0;34m.\u001b[0m\u001b[0;34m\u001b[0m\u001b[0;34m\u001b[0m\u001b[0m\n\u001b[1;32m    488\u001b[0m     \"\"\"\n\u001b[0;32m--> 489\u001b[0;31m     \u001b[0;32mif\u001b[0m \u001b[0mlen\u001b[0m\u001b[0;34m(\u001b[0m\u001b[0margs\u001b[0m\u001b[0;34m)\u001b[0m \u001b[0;34m!=\u001b[0m \u001b[0mlen\u001b[0m\u001b[0;34m(\u001b[0m\u001b[0mself\u001b[0m\u001b[0;34m.\u001b[0m\u001b[0msignature\u001b[0m\u001b[0;34m.\u001b[0m\u001b[0minput_arg\u001b[0m\u001b[0;34m)\u001b[0m\u001b[0;34m:\u001b[0m\u001b[0;34m\u001b[0m\u001b[0;34m\u001b[0m\u001b[0m\n\u001b[0m\u001b[1;32m    490\u001b[0m       raise ValueError(\n\u001b[1;32m    491\u001b[0m           \u001b[0;34m\"Arguments and signature arguments do not match. \"\u001b[0m\u001b[0;34m\u001b[0m\u001b[0;34m\u001b[0m\u001b[0m\n",
      "\u001b[0;31mKeyboardInterrupt\u001b[0m: "
     ]
    }
   ],
   "source": [
    "from skopt       import gp_minimize\n",
    "from skopt.space import Integer, Real, Categorical\n",
    "from skopt.utils import use_named_args\n",
    "\n",
    "# define the hyperparameter search space\n",
    "hyp_names  = ['n_layers', #----------------- the number of fully connected layers to insert,\n",
    "              'n_units', #------------------ the number of units in each layer,\n",
    "              'learning_rate', #------------ the learning rate of gradient descent,\n",
    "              'epochs', #------------------- the number of epochs for training,\n",
    "              'activation', #--------------- the name of the activation function ('relu' for ReLU or else for LeakyReLU)\n",
    "              'slope', #-------------------- the slope of the LeakyReLU activation (ignored if ReLU),\n",
    "              'dropout', #------------------ whether to use dropout,\n",
    "              'dropout_rate', #------------- the dropout rate (ignored if no dropout),\n",
    "              'batch_normalization', #------ whether to use batch normalization,\n",
    "              'momentum', #----------------- the momentum of batch normalization\n",
    "             ]\n",
    "hyp_search = [Integer(1, 100, name=hyp_names[0]),\n",
    "              Integer(1, 30, name=hyp_names[1]),\n",
    "              Real(1.0e-4, 1.0e-1, prior='log-uniform', name=hyp_names[2]),\n",
    "              Integer(10, 3000, name=hyp_names[3]),\n",
    "              Categorical(['relu', 'leaky'], name=hyp_names[4]),\n",
    "              Real(1.0e-2, 1.0e1, prior='log-uniform', name=hyp_names[5]),\n",
    "              Integer(0, 1, name=hyp_names[6]),\n",
    "              Real(1.0e-3, 5e-1, prior='log-uniform', name=hyp_names[7]),\n",
    "              Integer(0, 1, name=hyp_names[8]),\n",
    "              Real(0.0, 0.999, name=hyp_names[9])\n",
    "             ]\n",
    "log.info('Fitting ANN.')\n",
    "\n",
    "# define the number of iterations of the optimisation\n",
    "n_calls    = 10\n",
    "\n",
    "# define the objective function\n",
    "@use_named_args(hyp_search)\n",
    "def objective(**params):\n",
    "    '''\n",
    "    Compute the mean squared error on the validation set.\n",
    "    \n",
    "    Required arguments:\n",
    "        **params:  the hyperparameters search space.\n",
    "        \n",
    "    Returns:\n",
    "        the loss function value of the dev set.\n",
    "    '''\n",
    "    # create the model\n",
    "    _, history = ann_model(**params)\n",
    "    \n",
    "    # return the minimum value of the loss achieved by the model during training\n",
    "    return np.min(history['val_loss'])\n",
    "\n",
    "# save the results of the optimisation\n",
    "ann_res = gp_minimize(objective, hyp_search, n_calls=n_calls, random_state=RAND, n_jobs=1)\n",
    "skp.dump(ann_res, path.join(OUT_PATH, 'ann_fc_dev_opt_res.pkl.xz'), compress=('xz', 9))"
   ]
  },
  {
   "cell_type": "markdown",
   "metadata": {},
   "source": [
    "We the print the results and compute the metrics:"
   ]
  },
  {
   "cell_type": "code",
   "execution_count": null,
   "metadata": {},
   "outputs": [],
   "source": [
    "from tensorflow.keras.callbacks import ModelCheckpoint\n",
    "\n",
    "# define a set of callbacks to save the best model\n",
    "callbacks = [ModelCheckpoint(filepath=path.join(MOD_PATH, 'ann_fc.h5'),\n",
    "                             monitor='val_loss',\n",
    "                             verbose=0,\n",
    "                             save_best_only=True\n",
    "                            )\n",
    "            ]\n",
    "\n",
    "# retrieve best results, fit to the training set and print\n",
    "params = dict(zip(hyp_names, ann_res.x)) #---------------------------------------------- set parameters to best possible choice\n",
    "ann_fc, ann_fc_history = ann_model(callbacks=callbacks, verbose=0, **params)\n",
    "\n",
    "# compute the predictions\n",
    "y_dev_pred = ann_fc.predict(X_dev).reshape(-1,1) #----------------------------------------- compute predictions\n",
    "\n",
    "# save predictions to file\n",
    "dev_predictions = {'y_dev_true': y_dev.squeeze().tolist(),\n",
    "                   'y_dev_pred': y_dev_pred.squeeze().tolist(),\n",
    "                   'y_dev_err':  (y_dev_pred - y_dev).squeeze().tolist()\n",
    "                  }\n",
    "joblib.dump(dev_predictions, path.join(OUT_PATH, 'ann_fc_dev_preds.pkl.xz'), compress=('xz', 9))\n",
    "\n",
    "# print the results\n",
    "print('Results for the ANN:\\n')\n",
    "print_hyperparameters(hyp_names, ann_res)\n",
    "print_metrics(y_dev, y_dev_pred)"
   ]
  },
  {
   "cell_type": "markdown",
   "metadata": {},
   "source": [
    "Results can then be completed by computing the confidence interval:"
   ]
  },
  {
   "cell_type": "code",
   "execution_count": null,
   "metadata": {},
   "outputs": [],
   "source": [
    "conf_interval = confidence_interval(y_dev, y_dev_pred, confidence=confidence)\n",
    "print('Confidence interval: [ {:.3f}, {:.3f} ]'.format(conf_interval[0].squeeze(), conf_interval[1].squeeze()))"
   ]
  },
  {
   "cell_type": "markdown",
   "metadata": {},
   "source": [
    "In the case of neural networks, it may be a good idea to plot and study the loss and metrics functions during training and validation:"
   ]
  },
  {
   "cell_type": "code",
   "execution_count": null,
   "metadata": {},
   "outputs": [],
   "source": [
    "from mltools.libplot import Plot\n",
    "\n",
    "plot = Plot(rows=1, columns=4)\n",
    "\n",
    "plot.series2D(data=ann_fc_history['loss'],\n",
    "              axis=0,\n",
    "              title='Training and Validation Loss',\n",
    "              xlabel='epoch',\n",
    "              ylabel='loss',\n",
    "              legend='training',\n",
    "              ylog=True,\n",
    "              binstep=int(np.shape(ann_fc_history['loss'])[0] / 10)\n",
    "             )\\\n",
    "    .series2D(data=ann_fc_history['val_loss'],\n",
    "              axis=0,\n",
    "              title='Training and Validation Loss',\n",
    "              xlabel='epoch',\n",
    "              ylabel='loss',\n",
    "              legend='validation',\n",
    "              ylog=True,\n",
    "              binstep=int(np.shape(ann_fc_history['loss'])[0] / 10)\n",
    "             )\n",
    "plot.series2D(data=ann_fc_history['mean_squared_error'],\n",
    "              axis=1,\n",
    "              title='Training and Validation MSE',\n",
    "              xlabel='epoch',\n",
    "              ylabel='mse',\n",
    "              legend='training',\n",
    "              ylog=True,\n",
    "              binstep=int(np.shape(ann_fc_history['mean_squared_error'])[0] / 10)\n",
    "             )\\\n",
    "    .series2D(data=ann_fc_history['val_mean_squared_error'],\n",
    "              axis=1,\n",
    "              title='Training and Validation MSE',\n",
    "              xlabel='epoch',\n",
    "              ylabel='mse',\n",
    "              legend='validation',\n",
    "              ylog=True,\n",
    "              binstep=int(np.shape(ann_fc_history['mean_squared_error'])[0] / 10)\n",
    "             )\n",
    "plot.series2D(data=ann_fc_history['root_mean_squared_error'],\n",
    "              axis=2,\n",
    "              title='Training and Validation RMSE',\n",
    "              xlabel='epoch',\n",
    "              ylabel='rmse',\n",
    "              legend='training',\n",
    "              ylog=True,\n",
    "              binstep=int(np.shape(ann_fc_history['root_mean_squared_error'])[0] / 10)\n",
    "             )\\\n",
    "    .series2D(data=ann_fc_history['val_root_mean_squared_error'],\n",
    "              axis=2,\n",
    "              title='Training and Validation RMSE',\n",
    "              xlabel='epoch',\n",
    "              ylabel='rmse',\n",
    "              legend='validation',\n",
    "              ylog=True,\n",
    "              binstep=int(np.shape(ann_fc_history['root_mean_squared_error'])[0] / 10)\n",
    "             )\n",
    "plot.series2D(data=ann_fc_history['mean_absolute_error'],\n",
    "              axis=3,\n",
    "              title='Training and Validation MAE',\n",
    "              xlabel='epoch',\n",
    "              ylabel='mae',\n",
    "              legend='training',\n",
    "              ylog=True,\n",
    "              binstep=int(np.shape(ann_fc_history['mean_absolute_error'])[0] / 10)\n",
    "             )\\\n",
    "    .series2D(data=ann_fc_history['val_mean_absolute_error'],\n",
    "              axis=3,\n",
    "              title='Training and Validation MAE',\n",
    "              xlabel='epoch',\n",
    "              ylabel='mae',\n",
    "              legend='validation',\n",
    "              ylog=True,\n",
    "              binstep=int(np.shape(ann_fc_history['mean_absolute_error'])[0] / 10)\n",
    "             )\n",
    "\n",
    "plot.save_and_close(path.join(IMG_PATH, 'ann_fc_metrics_plot'))"
   ]
  },
  {
   "cell_type": "markdown",
   "metadata": {},
   "source": [
    "We then save the results of the training to file:"
   ]
  },
  {
   "cell_type": "code",
   "execution_count": null,
   "metadata": {},
   "outputs": [],
   "source": [
    "import joblib\n",
    "\n",
    "from tensorflow.keras.utils import model_to_dot\n",
    "\n",
    "# write history file\n",
    "joblib.dump(ann_fc_history, path.join(OUT_PATH, 'ann_fc_history.pkl.xz'), compress=('xz',9))\n",
    "\n",
    "# write summary\n",
    "with open(path.join(OUT_PATH, 'ann_fc_summary.txt'), 'w') as f:\n",
    "    f.write(ann_fc.summary())\n",
    "    \n",
    "# print model image\n",
    "ann_fc_dot = model_to_dot(model=ann_fc_model,\n",
    "                          show_shapes=True,\n",
    "                          show_layer_names=True,\n",
    "                          rankdir='TB',\n",
    "                          expand_nested=False,\n",
    "                          dpi=96,\n",
    "                          subgraph=False)\n",
    "ann_fc_dot.write_pdf(path.join(IMG_PATH, 'ann_fc_architecture.pdf'))"
   ]
  },
  {
   "cell_type": "markdown",
   "metadata": {},
   "source": [
    "Finally we visualise the distribution of the variance of the errors in plots:"
   ]
  },
  {
   "cell_type": "code",
   "execution_count": null,
   "metadata": {},
   "outputs": [],
   "source": [
    "plot = error_visualisation(y_dev, y_dev_pred)\n",
    "plot.save_and_close(path.join(IMG_PATH, 'ann_fc_errors'))"
   ]
  },
  {
   "cell_type": "markdown",
   "metadata": {},
   "source": [
    "The ANN does not look to improve the results of the trees. However we can see that:\n",
    "\n",
    "- MSE and other metrics are comparable with previous linear regressoin models,\n",
    "- the confidence interval is smaller than linear regression models,\n",
    "- errors seem to be mainly underestimating the true values but the number of large errors is reduced."
   ]
  },
  {
   "cell_type": "markdown",
   "metadata": {},
   "source": [
    "## Test Set Performance Evaluation\n",
    "\n",
    "We then show the predictions on the test set of the considered algorithms:"
   ]
  },
  {
   "cell_type": "markdown",
   "metadata": {},
   "source": [
    "We start from linear regression:"
   ]
  },
  {
   "cell_type": "code",
   "execution_count": null,
   "metadata": {},
   "outputs": [],
   "source": [
    "import joblib\n",
    "\n",
    "# compute the predictions\n",
    "y_test_pred = lin_reg.predict(X_test).reshape(-1,1)\n",
    "\n",
    "# print the metrics\n",
    "print('Results for LR:')\n",
    "print_metrics(y_test, y_test_pred)\n",
    "\n",
    "# save the predictions\n",
    "def save_res_test(short_name):\n",
    "    '''\n",
    "    Save results of the test predictions to file.\n",
    "    \n",
    "    Required arguments:\n",
    "        short_name: a short identifier of the estimator considered.\n",
    "    '''\n",
    "    # save predictions to file\n",
    "    test_predictions = {'y_dev_true': y_test.squeeze().tolist(),\n",
    "                        'y_dev_pred': y_test_pred.squeeze().tolist(),\n",
    "                        'y_dev_err':  (y_test_pred - y_test).squeeze().tolist()\n",
    "                       }\n",
    "    joblib.dump(test_predictions, path.join(OUT_PATH, short_name + '_test_preds.pkl.xz'), compress=('xz',9))\n",
    "\n",
    "save_res_test('lin_reg')\n",
    "log.debug('Linear regression results (test set) saved to file.')\n",
    "\n",
    "# visualise the errors\n",
    "plot = error_visualisation(y_test, y_test_pred)\n",
    "plot.save_and_close(path.join(IMG_PATH, 'lin_reg_test_errors'))"
   ]
  },
  {
   "cell_type": "markdown",
   "metadata": {},
   "source": [
    "We then show the same results for the elastic net:"
   ]
  },
  {
   "cell_type": "code",
   "execution_count": null,
   "metadata": {},
   "outputs": [],
   "source": [
    "# compute the predictions\n",
    "y_test_pred = el_net.predict(X_test).reshape(-1,1)\n",
    "\n",
    "# print the metrics\n",
    "print('Results for EN:')\n",
    "print_metrics(y_test, y_test_pred)\n",
    "\n",
    "# save the predictions\n",
    "save_res_test('el_net')\n",
    "\n",
    "# visualise the errors\n",
    "plot = error_visualisation(y_test, y_test_pred)\n",
    "plot.save_and_close(path.join(IMG_PATH, 'el_net_test_errors'))"
   ]
  },
  {
   "cell_type": "markdown",
   "metadata": {},
   "source": [
    "We show the results in the presence of regularisation with the lasso regression:"
   ]
  },
  {
   "cell_type": "code",
   "execution_count": null,
   "metadata": {},
   "outputs": [],
   "source": [
    "# compute the predictions\n",
    "y_test_pred = lasso.predict(X_test).reshape(-1,1)\n",
    "\n",
    "# print the metrics\n",
    "print('Results for LASSO:')\n",
    "print_metrics(y_test, y_test_pred)\n",
    "\n",
    "# save the predictions\n",
    "save_res_test('lasso')\n",
    "\n",
    "# visualise the errors\n",
    "plot = error_visualisation(y_test, y_test_pred)\n",
    "plot.save_and_close(path.join(IMG_PATH, 'lasso_test_errors'))"
   ]
  },
  {
   "cell_type": "markdown",
   "metadata": {},
   "source": [
    "We the move to the linear SVR (i.e. no kernel trick):"
   ]
  },
  {
   "cell_type": "code",
   "execution_count": null,
   "metadata": {},
   "outputs": [],
   "source": [
    "# compute the predictions\n",
    "y_test_pred = lin_svr.predict(X_test).reshape(-1,1)\n",
    "\n",
    "# print the metrics\n",
    "print('Results for l-SVR:')\n",
    "print_metrics(y_test, y_test_pred)\n",
    "\n",
    "# save the predictions\n",
    "save_res_test('lin_svr')\n",
    "\n",
    "# visualise the errors\n",
    "plot = error_visualisation(y_test, y_test_pred)\n",
    "plot.save_and_close(path.join(IMG_PATH, 'lin_svr_test_errors'))"
   ]
  },
  {
   "cell_type": "markdown",
   "metadata": {},
   "source": [
    "We show the improvements brought by the kernel trick in the SVR:"
   ]
  },
  {
   "cell_type": "code",
   "execution_count": null,
   "metadata": {},
   "outputs": [],
   "source": [
    "# compute the predictions\n",
    "y_test_pred = svr_rbf.predict(X_test).reshape(-1,1)\n",
    "\n",
    "# print the metrics\n",
    "print('Results for SVR:')\n",
    "print_metrics(y_test, y_test_pred)\n",
    "\n",
    "# save the predictions\n",
    "save_res_test('svr_rbf')\n",
    "\n",
    "# visualise the errors\n",
    "plot = error_visualisation(y_test, y_test_pred)\n",
    "plot.save_and_close(path.join(IMG_PATH, 'svr_rbf_test_errors'))"
   ]
  },
  {
   "cell_type": "markdown",
   "metadata": {},
   "source": [
    "We then move to the implementation of the random forests:"
   ]
  },
  {
   "cell_type": "code",
   "execution_count": null,
   "metadata": {},
   "outputs": [],
   "source": [
    "# compute the predictions\n",
    "y_test_pred = rnd_for.predict(dtest).reshape(-1,1)\n",
    "\n",
    "# print the metrics\n",
    "print('Results for RF:')\n",
    "print_metrics(y_test, y_test_pred)\n",
    "\n",
    "# save the predictions\n",
    "save_res_test('rnd_for')\n",
    "\n",
    "# visualise the errors\n",
    "plot = error_visualisation(y_test, y_test_pred)\n",
    "plot.save_and_close(path.join(IMG_PATH, 'rnd_for_test_errors'))"
   ]
  },
  {
   "cell_type": "markdown",
   "metadata": {},
   "source": [
    "The we show the boosted trees:"
   ]
  },
  {
   "cell_type": "code",
   "execution_count": null,
   "metadata": {},
   "outputs": [],
   "source": [
    "# compute the predictions\n",
    "y_test_pred = bst_tree.predict(dtest).reshape(-1,1)\n",
    "\n",
    "# print the metrics\n",
    "print('Results for BDT:')\n",
    "print_metrics(y_test, y_test_pred)\n",
    "\n",
    "# save the predictions\n",
    "save_res_test('bst_tree')\n",
    "\n",
    "# visualise the errors\n",
    "plot = error_visualisation(y_test, y_test_pred)\n",
    "plot.save_and_close(path.join(IMG_PATH, 'bst_tree_test_errors'))"
   ]
  },
  {
   "cell_type": "markdown",
   "metadata": {},
   "source": [
    "We show the predictions of the boosted forests:"
   ]
  },
  {
   "cell_type": "code",
   "execution_count": null,
   "metadata": {},
   "outputs": [],
   "source": [
    "# compute the predictions\n",
    "y_test_pred = bst_for.predict(dtest).reshape(-1,1)\n",
    "\n",
    "# print the metrics\n",
    "print('Results for BRF:')\n",
    "print_metrics(y_test, y_test_pred)\n",
    "\n",
    "# save the predictions\n",
    "save_res_test('bst_for')\n",
    "\n",
    "# visualise the errors\n",
    "plot = error_visualisation(y_test, y_test_pred)\n",
    "plot.save_and_close(path.join(IMG_PATH, 'bst_for_test_errors'))"
   ]
  },
  {
   "cell_type": "markdown",
   "metadata": {},
   "source": [
    "We finally show the predictions of the neural netowrk:"
   ]
  },
  {
   "cell_type": "code",
   "execution_count": null,
   "metadata": {},
   "outputs": [],
   "source": [
    "# compute the predictions\n",
    "y_test_pred = ann_fc.predict(X_test).reshape(-1,1)\n",
    "\n",
    "# print the metrics\n",
    "print('Results for the ANN:')\n",
    "print_metrics(y_test, y_test_pred)\n",
    "\n",
    "# save the predictions\n",
    "save_res_test('ann_fc')\n",
    "\n",
    "# visualise the errors\n",
    "plot = error_visualisation(y_test, y_test_pred)\n",
    "plot.save_and_close(path.join(IMG_PATH, 'ann_fc_test_errors'))"
   ]
  }
 ],
 "metadata": {
  "kernelspec": {
   "display_name": "Python 3",
   "language": "python",
   "name": "python3"
  },
  "language_info": {
   "codemirror_mode": {
    "name": "ipython",
    "version": 3
   },
   "file_extension": ".py",
   "mimetype": "text/x-python",
   "name": "python",
   "nbconvert_exporter": "python",
   "pygments_lexer": "ipython3",
   "version": "3.7.6"
  },
  "toc-autonumbering": true
 },
 "nbformat": 4,
 "nbformat_minor": 4
}
