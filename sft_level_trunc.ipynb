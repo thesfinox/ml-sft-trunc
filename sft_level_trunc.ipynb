{
 "cells": [
  {
   "cell_type": "markdown",
   "metadata": {},
   "source": [
    "# Machine Learning for Level Truncation in String Field Theory\n",
    "\n",
    "Consider the data of lumps in bosonic String Field Theory (SFT) and extrapolate level-$\\infty$ predictions from finite level data."
   ]
  },
  {
   "cell_type": "markdown",
   "metadata": {},
   "source": [
    "## Setup\n",
    "\n",
    "First of all we print the characteristics of the current setup (OS, cores, etc.):"
   ]
  },
  {
   "cell_type": "code",
   "execution_count": 1,
   "metadata": {},
   "outputs": [
    {
     "name": "stdout",
     "output_type": "stream",
     "text": [
      "Current OS:                  Linux (kernel release: 5.6.11-arch1-1, architecture: x86_64)\n",
      "Number of available threads: 8\n",
      "Current CPU frequency:       2825 MHz (max: 3800 MHz)\n",
      "Available RAM memory:        8179 MB (tot: 15758 MB)\n"
     ]
    }
   ],
   "source": [
    "from mltools.libos import InfoOS\n",
    "\n",
    "print('Current OS:                  {} (kernel release: {}, architecture: {})'.format(InfoOS().os, InfoOS().kernel, InfoOS().arch))\n",
    "print('Number of available threads: {:d}'.format(InfoOS().threads))\n",
    "print('Current CPU frequency:       {:.0f} MHz (max: {:.0f} MHz)'.format(InfoOS().freq, InfoOS().freqm))\n",
    "print('Available RAM memory:        {:d} MB (tot: {:d} MB)'.format(InfoOS().vmav, InfoOS().vmtot))"
   ]
  },
  {
   "cell_type": "markdown",
   "metadata": {},
   "source": [
    "We establish early in the notebook the amount of cores we want to use in order to parallelize computations:"
   ]
  },
  {
   "cell_type": "code",
   "execution_count": 2,
   "metadata": {},
   "outputs": [],
   "source": [
    "n_jobs = int(InfoOS().threads / 4)"
   ]
  },
  {
   "cell_type": "markdown",
   "metadata": {},
   "source": [
    "We then check the installed versions of the packages we are going to use:"
   ]
  },
  {
   "cell_type": "code",
   "execution_count": 3,
   "metadata": {},
   "outputs": [
    {
     "name": "stdout",
     "output_type": "stream",
     "text": [
      "Python version: 3.7\n",
      "Matplot version: 3.2.1\n",
      "Numpy version: 1.18.4\n",
      "Pandas version: 1.0.3\n",
      "Scikit-learn version: 0.22.2.post1\n"
     ]
    }
   ],
   "source": [
    "import sys\n",
    "\n",
    "import matplotlib as mpl\n",
    "import random     as rnd\n",
    "import sklearn    as skl\n",
    "import numpy      as np\n",
    "import pandas     as pd\n",
    "\n",
    "import warnings\n",
    "warnings.simplefilter(action='ignore', category=UserWarning) # ignore user warnings: nothing that I can really do anything about it...\n",
    "\n",
    "\n",
    "%matplotlib inline\n",
    "mpl.rc('axes', labelsize=12)\n",
    "mpl.rc('xtick', labelsize=12)\n",
    "mpl.rc('ytick', labelsize=12)\n",
    "\n",
    "# print the version of the modules\n",
    "print('Python version: {:d}.{:d}'      .format(sys.version_info.major, sys.version_info.minor))\n",
    "print('Matplot version: {}'            .format(mpl.__version__))\n",
    "print('Numpy version: {}'              .format(np.__version__))\n",
    "print('Pandas version: {}'             .format(pd.__version__))\n",
    "print('Scikit-learn version: {}'       .format(skl.__version__))\n",
    "\n",
    "# fix random_seed\n",
    "RAND = 42\n",
    "rnd.seed(RAND)\n",
    "np.random.seed(RAND)"
   ]
  },
  {
   "cell_type": "markdown",
   "metadata": {},
   "source": [
    "## Session Preparation\n",
    "\n",
    "In order to save the results of the analysis, we need to create the structure of directories in the current repository:"
   ]
  },
  {
   "cell_type": "code",
   "execution_count": 4,
   "metadata": {},
   "outputs": [],
   "source": [
    "from os import path, makedirs\n",
    "\n",
    "ROOT_DIR = '.' #-------------------------------------------------- root directory\n",
    "IMG_DIR  = 'img' #------------------------------------------------ directory of images\n",
    "MOD_DIR  = 'models' #--------------------------------------------- directory of saved models\n",
    "LOG_DIR  = 'log' #------------------------------------------------ directory of logs\n",
    "OUT_DIR  = 'output' #--------------------------------------------- directory for saved predictions, relevant output, etc.\n",
    "\n",
    "DB_NAME = 'data_sft_dict' #--------------------------------------- name of the dataset\n",
    "DB_FILE = DB_NAME + '.json' #------------------------------------- full name with extension\n",
    "DB_PATH = path.join(ROOT_DIR, DB_FILE) #-------------------------- full path of the dataset\n",
    "\n",
    "# define full paths\n",
    "IMG_PATH = path.join(ROOT_DIR, IMG_DIR)\n",
    "MOD_PATH = path.join(ROOT_DIR, MOD_DIR)\n",
    "LOG_PATH = path.join(ROOT_DIR, LOG_DIR)\n",
    "OUT_PATH = path.join(ROOT_DIR, OUT_DIR)\n",
    "\n",
    "# create directories if non existent\n",
    "if not path.isdir(IMG_PATH):\n",
    "    makedirs(IMG_PATH, exist_ok=True)\n",
    "if not path.isdir(MOD_PATH):\n",
    "    makedirs(MOD_PATH, exist_ok=True)\n",
    "if not path.isdir(LOG_PATH):\n",
    "    makedirs(LOG_PATH, exist_ok=True)\n",
    "if not path.isdir(OUT_PATH):\n",
    "    makedirs(OUT_PATH, exist_ok=True)"
   ]
  },
  {
   "cell_type": "markdown",
   "metadata": {},
   "source": [
    "Then create a logging session to store debug information:"
   ]
  },
  {
   "cell_type": "code",
   "execution_count": 5,
   "metadata": {},
   "outputs": [
    {
     "name": "stdout",
     "output_type": "stream",
     "text": [
      "Rotating existing logs...\n"
     ]
    },
    {
     "name": "stderr",
     "output_type": "stream",
     "text": [
      "2020-05-11 15:38:01,529: INFO ==> New logging session started. Log is at ./log/data_sft_dict.log.\n"
     ]
    }
   ],
   "source": [
    "import logging\n",
    "\n",
    "from mltools.liblog import create_logfile\n",
    "\n",
    "path_to_log = path.join(LOG_PATH,\n",
    "                        DB_NAME + '.log'\n",
    "                       ) #----------------------------------------------------- log path\n",
    "log = create_logfile(path_to_log,\n",
    "                     name=DB_NAME,\n",
    "                     level=logging.DEBUG\n",
    "                    ) #-------------------------------------------------------- create log file and session\n",
    "\n",
    "# these lines provide the same setup also for the Jupyter logging\n",
    "logger = logging.getLogger() #------------------------------------------------- get the current logging session\n",
    "\n",
    "fmt = logging.Formatter('%(asctime)s: %(levelname)s ==> %(message)s') #-------- customise the formatting options\n",
    "\n",
    "handler = logging.StreamHandler() #-------------------------------------------- handle the stream to the default (stderr)\n",
    "handler.setLevel(logging.DEBUG) #---------------------------------------------- print everything\n",
    "handler.setFormatter(fmt) #---------------------------------------------------- set the formatting options\n",
    "\n",
    "logger.handlers = [handler] #-------------------------------------------------- override the default stream\n",
    "\n",
    "# we are ready to go!\n",
    "log.info('New logging session started. Log is at {}.'.format(path_to_log))"
   ]
  },
  {
   "cell_type": "markdown",
   "metadata": {},
   "source": [
    "## Import the Database\n",
    "\n",
    "We then import the database from its JSON format and begin to analyse it:"
   ]
  },
  {
   "cell_type": "code",
   "execution_count": 6,
   "metadata": {},
   "outputs": [
    {
     "name": "stderr",
     "output_type": "stream",
     "text": [
      "2020-05-11 15:38:01,557: DEBUG ==> Database loaded.\n"
     ]
    }
   ],
   "source": [
    "if path.isfile(DB_PATH):\n",
    "    df = pd.read_json(DB_PATH)\n",
    "    log.debug('Database loaded.')\n",
    "else:\n",
    "    print('Database is not in the file tree!')\n",
    "    log.error('Cannot find database!')"
   ]
  },
  {
   "cell_type": "markdown",
   "metadata": {},
   "source": [
    "We then show the `dtypes` of each column to get an idea of the data structure:"
   ]
  },
  {
   "cell_type": "code",
   "execution_count": 7,
   "metadata": {},
   "outputs": [
    {
     "data": {
      "text/plain": [
       "init      object\n",
       "exp       object\n",
       "weight    object\n",
       "type      object\n",
       "2         object\n",
       "3         object\n",
       "4         object\n",
       "5         object\n",
       "6         object\n",
       "7         object\n",
       "8         object\n",
       "9         object\n",
       "10        object\n",
       "11        object\n",
       "12        object\n",
       "13        object\n",
       "14        object\n",
       "15        object\n",
       "16        object\n",
       "17        object\n",
       "18        object\n",
       "dtype: object"
      ]
     },
     "execution_count": 7,
     "metadata": {},
     "output_type": "execute_result"
    }
   ],
   "source": [
    "df.dtypes"
   ]
  },
  {
   "cell_type": "markdown",
   "metadata": {},
   "source": [
    "In the dataset we have the predictions of the position of lumps in bosonic SFT for finite levels in the numbered columns and the extrapolation for level-$\\infty$ in the column _exp_. We want to use known data (including the _weight_ and the _type_ of the input data) to predict the _exp_ labels (_init_ in principle can be left out)."
   ]
  },
  {
   "cell_type": "code",
   "execution_count": 8,
   "metadata": {},
   "outputs": [
    {
     "data": {
      "text/html": [
       "<div>\n",
       "<style scoped>\n",
       "    .dataframe tbody tr th:only-of-type {\n",
       "        vertical-align: middle;\n",
       "    }\n",
       "\n",
       "    .dataframe tbody tr th {\n",
       "        vertical-align: top;\n",
       "    }\n",
       "\n",
       "    .dataframe thead th {\n",
       "        text-align: right;\n",
       "    }\n",
       "</style>\n",
       "<table border=\"1\" class=\"dataframe\">\n",
       "  <thead>\n",
       "    <tr style=\"text-align: right;\">\n",
       "      <th></th>\n",
       "      <th>init</th>\n",
       "      <th>exp</th>\n",
       "      <th>weight</th>\n",
       "      <th>type</th>\n",
       "      <th>2</th>\n",
       "      <th>3</th>\n",
       "      <th>4</th>\n",
       "      <th>5</th>\n",
       "      <th>6</th>\n",
       "      <th>7</th>\n",
       "      <th>...</th>\n",
       "      <th>9</th>\n",
       "      <th>10</th>\n",
       "      <th>11</th>\n",
       "      <th>12</th>\n",
       "      <th>13</th>\n",
       "      <th>14</th>\n",
       "      <th>15</th>\n",
       "      <th>16</th>\n",
       "      <th>17</th>\n",
       "      <th>18</th>\n",
       "    </tr>\n",
       "  </thead>\n",
       "  <tbody>\n",
       "    <tr>\n",
       "      <th>0</th>\n",
       "      <td>[1, 0, 1, 1, 1, 1, 0, 0, 0, 0, 1, 1, 1, 1, 1]</td>\n",
       "      <td>[1, 0, -1, 1, -1, 1, 1, 1, 1, 1, 1, 0, 0, 0, 0]</td>\n",
       "      <td>[0, 0, 1, 4, 9, 0, 0.25, 1, 2.25, 4, 0, 0.25, ...</td>\n",
       "      <td>[2, 2, 4, 4, 4, 4, 4, 4, 4, 4, 4, 4, 4, 4, 4]</td>\n",
       "      <td>[1, 0, 1, 1, 1, 1, 0, 0, 0, 0, 1, 1, 1, 1, 1]</td>\n",
       "      <td>[1, 0, 1, 1, 1, 1, 0, 0, 0, 0, 1, 1, 1, 1, 1]</td>\n",
       "      <td>[1, 0, 1, 1, 1, 1, 0, 0, 0, 0, 1, 1, 1, 1, 1]</td>\n",
       "      <td>[1, 0, 1, 1, 1, 1, 0, 0, 0, 0, 1, 1, 1, 1, 1]</td>\n",
       "      <td>[1, 0, 1, 1, 1, 1, 0, 0, 0, 0, 1, 1, 1, 1, 1]</td>\n",
       "      <td>[1, 0, 1, 1, 1, 1, 0, 0, 0, 0, 1, 1, 1, 1, 1]</td>\n",
       "      <td>...</td>\n",
       "      <td>[1, 0, 1, 1, 1, 1, 0, 0, 0, 0, 1, 1, 1, 1, 1]</td>\n",
       "      <td>[1, 0, 1, 1, 1, 1, 0, 0, 0, 0, 1, 1, 1, 1, 1]</td>\n",
       "      <td>[1, 0, 1, 1, 1, 1, 0, 0, 0, 0, 1, 1, 1, 1, 1]</td>\n",
       "      <td>[1, 0, 1, 1, 1, 1, 0, 0, 0, 0, 1, 1, 1, 1, 1]</td>\n",
       "      <td>[1, 0, 1, 1, 1, 1, 0, 0, 0, 0, 1, 1, 1, 1, 1]</td>\n",
       "      <td>[1, 0, 1, 1, 1, 1, 0, 0, 0, 0, 1, 1, 1, 1, 1]</td>\n",
       "      <td>[1, 0, 1, 1, 1, 1, 0, 0, 0, 0, 1, 1, 1, 1, 1]</td>\n",
       "      <td>[1, 0, 1, 1, 1, 1, 0, 0, 0, 0, 1, 1, 1, 1, 1]</td>\n",
       "      <td>[1, 0, 1, 1, 1, 1, 0, 0, 0, 0, 1, 1, 1, 1, 1]</td>\n",
       "      <td>[1, 0, 1, 1, 1, 1, 0, 0, 0, 0, 1, 1, 1, 1, 1]</td>\n",
       "    </tr>\n",
       "    <tr>\n",
       "      <th>1</th>\n",
       "      <td>[1.0001, 0, 1.0001, 1.0001, 1.0001, 1.0001, 0,...</td>\n",
       "      <td>[1, 0, -1, 1, -1, 1, 1, 1, 1, 1, 1, 0, 0, 0, 0]</td>\n",
       "      <td>[0, 0, 1, 4, 9, 0, 0.249950007499, 0.999800029...</td>\n",
       "      <td>[2, 2, 4, 4, 4, 4, 4, 4, 4, 4, 4, 4, 4, 4, 4]</td>\n",
       "      <td>[1.000099754465899, -4.382819109385611e-08, 0....</td>\n",
       "      <td>[1.000099754261711, -6.385189815988693e-08, 0....</td>\n",
       "      <td>[1.000099495309939, -1.9972775228453091e-07, 0...</td>\n",
       "      <td>[1.000099494726808, -1.724421881015622e-07, 0....</td>\n",
       "      <td>[1.000099223845491, -3.2173432889712715e-07, 0...</td>\n",
       "      <td>[1.000099222907449, -2.856173963606407e-07, 0....</td>\n",
       "      <td>...</td>\n",
       "      <td>[1.000098951488667, -3.9768513795577186e-07, 0...</td>\n",
       "      <td>[1.000098684133785, -5.470716468222031e-07, 0....</td>\n",
       "      <td>[1.000098682609473, -5.081256574169557e-07, 0....</td>\n",
       "      <td>[1.000098418312006, -6.559751804689415e-07, 0....</td>\n",
       "      <td>[1.000098416531483, -6.169537248661669e-07, 0....</td>\n",
       "      <td>[1.000098155198292, -7.630807670831046e-07, 0....</td>\n",
       "      <td>[1.000098153176776, -7.242020485026188e-07, 0....</td>\n",
       "      <td>[1.000097894670832, -8.685182838696036e-07, 0....</td>\n",
       "      <td>[1.000097892420157, -8.29888184051414e-07, 0.9...</td>\n",
       "      <td>[1.000097636616163, -9.72346758033437e-07, 0.9...</td>\n",
       "    </tr>\n",
       "    <tr>\n",
       "      <th>2</th>\n",
       "      <td>[1.001, 0, 1.001, 1.001, 1.001, 1.001, 0, 0, 0...</td>\n",
       "      <td>[1, 0, -1, 1, -1, 1, 1, 1, 1, 1, 1, 0, 0, 0, 0]</td>\n",
       "      <td>[0, 0, 1, 4, 9, 0, 0.24950074900124802, 0.9980...</td>\n",
       "      <td>[2, 2, 4, 4, 4, 4, 4, 4, 4, 4, 4, 4, 4, 4, 4]</td>\n",
       "      <td>[1.000976232275641, -3.8820163895943e-06, 0.90...</td>\n",
       "      <td>[1.000976049237533, -5.9682788728782085e-06, 0...</td>\n",
       "      <td>[1.000952815386108, -1.689178344782202e-05, 0....</td>\n",
       "      <td>[1.000952352120989, -1.5047680126166993e-05, 0...</td>\n",
       "      <td>[1.000929855311967, -2.5515953552563565e-05, 0...</td>\n",
       "      <td>[1.000929190755388, -2.3264350581688953e-05, 0...</td>\n",
       "      <td>...</td>\n",
       "      <td>[1.0009075350494, -3.03802946004187e-05, 0.664...</td>\n",
       "      <td>[1.000888236249875, -3.860013055708573e-05, 0....</td>\n",
       "      <td>[1.000887354078869, -3.657126395737419e-05, 0....</td>\n",
       "      <td>[1.000869431716091, -4.387998808033297e-05, 0....</td>\n",
       "      <td>[1.000868490272024, -4.199905525467674e-05, 0....</td>\n",
       "      <td>[1.000851773655717, -4.853491335211209e-05, 0....</td>\n",
       "      <td>[1.000850791489764, -4.6788451470318466e-05, 0...</td>\n",
       "      <td>[1.000835137520457, -5.266383019452565e-05, 0....</td>\n",
       "      <td>[1.000834127701389, -5.1036790056833293e-05, 0...</td>\n",
       "      <td>[1.000819417460843, -5.634321216588246e-05, 0....</td>\n",
       "    </tr>\n",
       "  </tbody>\n",
       "</table>\n",
       "<p>3 rows × 21 columns</p>\n",
       "</div>"
      ],
      "text/plain": [
       "                                                init  \\\n",
       "0      [1, 0, 1, 1, 1, 1, 0, 0, 0, 0, 1, 1, 1, 1, 1]   \n",
       "1  [1.0001, 0, 1.0001, 1.0001, 1.0001, 1.0001, 0,...   \n",
       "2  [1.001, 0, 1.001, 1.001, 1.001, 1.001, 0, 0, 0...   \n",
       "\n",
       "                                               exp  \\\n",
       "0  [1, 0, -1, 1, -1, 1, 1, 1, 1, 1, 1, 0, 0, 0, 0]   \n",
       "1  [1, 0, -1, 1, -1, 1, 1, 1, 1, 1, 1, 0, 0, 0, 0]   \n",
       "2  [1, 0, -1, 1, -1, 1, 1, 1, 1, 1, 1, 0, 0, 0, 0]   \n",
       "\n",
       "                                              weight  \\\n",
       "0  [0, 0, 1, 4, 9, 0, 0.25, 1, 2.25, 4, 0, 0.25, ...   \n",
       "1  [0, 0, 1, 4, 9, 0, 0.249950007499, 0.999800029...   \n",
       "2  [0, 0, 1, 4, 9, 0, 0.24950074900124802, 0.9980...   \n",
       "\n",
       "                                            type  \\\n",
       "0  [2, 2, 4, 4, 4, 4, 4, 4, 4, 4, 4, 4, 4, 4, 4]   \n",
       "1  [2, 2, 4, 4, 4, 4, 4, 4, 4, 4, 4, 4, 4, 4, 4]   \n",
       "2  [2, 2, 4, 4, 4, 4, 4, 4, 4, 4, 4, 4, 4, 4, 4]   \n",
       "\n",
       "                                                   2  \\\n",
       "0      [1, 0, 1, 1, 1, 1, 0, 0, 0, 0, 1, 1, 1, 1, 1]   \n",
       "1  [1.000099754465899, -4.382819109385611e-08, 0....   \n",
       "2  [1.000976232275641, -3.8820163895943e-06, 0.90...   \n",
       "\n",
       "                                                   3  \\\n",
       "0      [1, 0, 1, 1, 1, 1, 0, 0, 0, 0, 1, 1, 1, 1, 1]   \n",
       "1  [1.000099754261711, -6.385189815988693e-08, 0....   \n",
       "2  [1.000976049237533, -5.9682788728782085e-06, 0...   \n",
       "\n",
       "                                                   4  \\\n",
       "0      [1, 0, 1, 1, 1, 1, 0, 0, 0, 0, 1, 1, 1, 1, 1]   \n",
       "1  [1.000099495309939, -1.9972775228453091e-07, 0...   \n",
       "2  [1.000952815386108, -1.689178344782202e-05, 0....   \n",
       "\n",
       "                                                   5  \\\n",
       "0      [1, 0, 1, 1, 1, 1, 0, 0, 0, 0, 1, 1, 1, 1, 1]   \n",
       "1  [1.000099494726808, -1.724421881015622e-07, 0....   \n",
       "2  [1.000952352120989, -1.5047680126166993e-05, 0...   \n",
       "\n",
       "                                                   6  \\\n",
       "0      [1, 0, 1, 1, 1, 1, 0, 0, 0, 0, 1, 1, 1, 1, 1]   \n",
       "1  [1.000099223845491, -3.2173432889712715e-07, 0...   \n",
       "2  [1.000929855311967, -2.5515953552563565e-05, 0...   \n",
       "\n",
       "                                                   7  ...  \\\n",
       "0      [1, 0, 1, 1, 1, 1, 0, 0, 0, 0, 1, 1, 1, 1, 1]  ...   \n",
       "1  [1.000099222907449, -2.856173963606407e-07, 0....  ...   \n",
       "2  [1.000929190755388, -2.3264350581688953e-05, 0...  ...   \n",
       "\n",
       "                                                   9  \\\n",
       "0      [1, 0, 1, 1, 1, 1, 0, 0, 0, 0, 1, 1, 1, 1, 1]   \n",
       "1  [1.000098951488667, -3.9768513795577186e-07, 0...   \n",
       "2  [1.0009075350494, -3.03802946004187e-05, 0.664...   \n",
       "\n",
       "                                                  10  \\\n",
       "0      [1, 0, 1, 1, 1, 1, 0, 0, 0, 0, 1, 1, 1, 1, 1]   \n",
       "1  [1.000098684133785, -5.470716468222031e-07, 0....   \n",
       "2  [1.000888236249875, -3.860013055708573e-05, 0....   \n",
       "\n",
       "                                                  11  \\\n",
       "0      [1, 0, 1, 1, 1, 1, 0, 0, 0, 0, 1, 1, 1, 1, 1]   \n",
       "1  [1.000098682609473, -5.081256574169557e-07, 0....   \n",
       "2  [1.000887354078869, -3.657126395737419e-05, 0....   \n",
       "\n",
       "                                                  12  \\\n",
       "0      [1, 0, 1, 1, 1, 1, 0, 0, 0, 0, 1, 1, 1, 1, 1]   \n",
       "1  [1.000098418312006, -6.559751804689415e-07, 0....   \n",
       "2  [1.000869431716091, -4.387998808033297e-05, 0....   \n",
       "\n",
       "                                                  13  \\\n",
       "0      [1, 0, 1, 1, 1, 1, 0, 0, 0, 0, 1, 1, 1, 1, 1]   \n",
       "1  [1.000098416531483, -6.169537248661669e-07, 0....   \n",
       "2  [1.000868490272024, -4.199905525467674e-05, 0....   \n",
       "\n",
       "                                                  14  \\\n",
       "0      [1, 0, 1, 1, 1, 1, 0, 0, 0, 0, 1, 1, 1, 1, 1]   \n",
       "1  [1.000098155198292, -7.630807670831046e-07, 0....   \n",
       "2  [1.000851773655717, -4.853491335211209e-05, 0....   \n",
       "\n",
       "                                                  15  \\\n",
       "0      [1, 0, 1, 1, 1, 1, 0, 0, 0, 0, 1, 1, 1, 1, 1]   \n",
       "1  [1.000098153176776, -7.242020485026188e-07, 0....   \n",
       "2  [1.000850791489764, -4.6788451470318466e-05, 0...   \n",
       "\n",
       "                                                  16  \\\n",
       "0      [1, 0, 1, 1, 1, 1, 0, 0, 0, 0, 1, 1, 1, 1, 1]   \n",
       "1  [1.000097894670832, -8.685182838696036e-07, 0....   \n",
       "2  [1.000835137520457, -5.266383019452565e-05, 0....   \n",
       "\n",
       "                                                  17  \\\n",
       "0      [1, 0, 1, 1, 1, 1, 0, 0, 0, 0, 1, 1, 1, 1, 1]   \n",
       "1  [1.000097892420157, -8.29888184051414e-07, 0.9...   \n",
       "2  [1.000834127701389, -5.1036790056833293e-05, 0...   \n",
       "\n",
       "                                                  18  \n",
       "0      [1, 0, 1, 1, 1, 1, 0, 0, 0, 0, 1, 1, 1, 1, 1]  \n",
       "1  [1.000097636616163, -9.72346758033437e-07, 0.9...  \n",
       "2  [1.000819417460843, -5.634321216588246e-05, 0....  \n",
       "\n",
       "[3 rows x 21 columns]"
      ]
     },
     "execution_count": 8,
     "metadata": {},
     "output_type": "execute_result"
    }
   ],
   "source": [
    "df.head(3)"
   ]
  },
  {
   "cell_type": "markdown",
   "metadata": {},
   "source": [
    "## Feature Extraction\n",
    "\n",
    "We first add a column representing the index of the system in which the data are inserted. We also reorder the dataset to have the labels as last column and the index as first. We drop the `init` value as we do not intend to use it for predictions."
   ]
  },
  {
   "cell_type": "code",
   "execution_count": 9,
   "metadata": {},
   "outputs": [],
   "source": [
    "df['system'] = [[i] for i in df.index]\n",
    "df = df[['system', 'type', 'weight', '2', '3', '4', '5', '6', '7', '8', '9', '10', '11', '12', '13', '14', '15', '16', '17', '18', 'exp']]"
   ]
  },
  {
   "cell_type": "markdown",
   "metadata": {},
   "source": [
    "We drop the first entry as it looks _suspiciously too perfect_ and might spoil the predictions. After that we reset the index:"
   ]
  },
  {
   "cell_type": "code",
   "execution_count": 10,
   "metadata": {},
   "outputs": [],
   "source": [
    "df = df.iloc[1:].reset_index(drop=True)"
   ]
  },
  {
   "cell_type": "markdown",
   "metadata": {},
   "source": [
    "We then shuffle the database a first time to keep each system together but in different order:"
   ]
  },
  {
   "cell_type": "code",
   "execution_count": 11,
   "metadata": {},
   "outputs": [],
   "source": [
    "df = df.sample(frac=1, random_state=RAND)"
   ]
  },
  {
   "cell_type": "markdown",
   "metadata": {},
   "source": [
    "We can now extract each feature and pad them to the same length in order to stack all entries on top of each others (we will take care of artificially created **duplicates** later):"
   ]
  },
  {
   "cell_type": "code",
   "execution_count": 12,
   "metadata": {},
   "outputs": [],
   "source": [
    "from mltools.libtransformer import ExtractTensor\n",
    "\n",
    "for n in range(df.shape[0]):\n",
    "    df['system'].iloc[n] = df['system'].iloc[n] \\\n",
    "                         * np.prod(np.shape(df['type'].iloc[n])) #----------------------- reshape `system` to have same length as other columns in the same row\n",
    "    \n",
    "for feature in df:\n",
    "    df[feature] = ExtractTensor(flatten=True).fit_transform(df[feature]) #--------------- extract features in the database"
   ]
  },
  {
   "cell_type": "markdown",
   "metadata": {},
   "source": [
    "For every value in any column we want to extrapolate its level-$\\infty$ predictions. We therefore need a way to extract each value from each column and treat the set of extracted numbers as different datasets to use for training."
   ]
  },
  {
   "cell_type": "code",
   "execution_count": 13,
   "metadata": {},
   "outputs": [
    {
     "name": "stderr",
     "output_type": "stream",
     "text": [
      "2020-05-11 15:38:01,926: DEBUG ==> Length of the spurious dataset: 900 samples.\n"
     ]
    },
    {
     "data": {
      "text/html": [
       "<div>\n",
       "<style scoped>\n",
       "    .dataframe tbody tr th:only-of-type {\n",
       "        vertical-align: middle;\n",
       "    }\n",
       "\n",
       "    .dataframe tbody tr th {\n",
       "        vertical-align: top;\n",
       "    }\n",
       "\n",
       "    .dataframe thead th {\n",
       "        text-align: right;\n",
       "    }\n",
       "</style>\n",
       "<table border=\"1\" class=\"dataframe\">\n",
       "  <thead>\n",
       "    <tr style=\"text-align: right;\">\n",
       "      <th></th>\n",
       "      <th>system</th>\n",
       "      <th>type</th>\n",
       "      <th>weight</th>\n",
       "      <th>2</th>\n",
       "      <th>3</th>\n",
       "      <th>4</th>\n",
       "      <th>5</th>\n",
       "      <th>6</th>\n",
       "      <th>7</th>\n",
       "      <th>8</th>\n",
       "      <th>...</th>\n",
       "      <th>10</th>\n",
       "      <th>11</th>\n",
       "      <th>12</th>\n",
       "      <th>13</th>\n",
       "      <th>14</th>\n",
       "      <th>15</th>\n",
       "      <th>16</th>\n",
       "      <th>17</th>\n",
       "      <th>18</th>\n",
       "      <th>exp</th>\n",
       "    </tr>\n",
       "  </thead>\n",
       "  <tbody>\n",
       "    <tr>\n",
       "      <th>0</th>\n",
       "      <td>40</td>\n",
       "      <td>2</td>\n",
       "      <td>0.0</td>\n",
       "      <td>1.169090</td>\n",
       "      <td>1.103953</td>\n",
       "      <td>1.049652</td>\n",
       "      <td>1.042422</td>\n",
       "      <td>1.025771</td>\n",
       "      <td>1.023925</td>\n",
       "      <td>1.016453</td>\n",
       "      <td>...</td>\n",
       "      <td>1.011730</td>\n",
       "      <td>1.011495</td>\n",
       "      <td>1.008954</td>\n",
       "      <td>1.008871</td>\n",
       "      <td>1.007160</td>\n",
       "      <td>1.007141</td>\n",
       "      <td>1.005919</td>\n",
       "      <td>1.00593</td>\n",
       "      <td>1.005018</td>\n",
       "      <td>1</td>\n",
       "    </tr>\n",
       "    <tr>\n",
       "      <th>1</th>\n",
       "      <td>26</td>\n",
       "      <td>2</td>\n",
       "      <td>0.0</td>\n",
       "      <td>1.133441</td>\n",
       "      <td>1.073850</td>\n",
       "      <td>1.041536</td>\n",
       "      <td>1.033556</td>\n",
       "      <td>1.022857</td>\n",
       "      <td>1.020416</td>\n",
       "      <td>1.015351</td>\n",
       "      <td>...</td>\n",
       "      <td>1.011415</td>\n",
       "      <td>1.010882</td>\n",
       "      <td>1.009026</td>\n",
       "      <td>1.008720</td>\n",
       "      <td>1.007436</td>\n",
       "      <td>1.007245</td>\n",
       "      <td>1.006306</td>\n",
       "      <td>1.00618</td>\n",
       "      <td>1.005465</td>\n",
       "      <td>1</td>\n",
       "    </tr>\n",
       "  </tbody>\n",
       "</table>\n",
       "<p>2 rows × 21 columns</p>\n",
       "</div>"
      ],
      "text/plain": [
       "   system  type  weight         2         3         4         5         6  \\\n",
       "0      40     2     0.0  1.169090  1.103953  1.049652  1.042422  1.025771   \n",
       "1      26     2     0.0  1.133441  1.073850  1.041536  1.033556  1.022857   \n",
       "\n",
       "          7         8  ...        10        11        12        13        14  \\\n",
       "0  1.023925  1.016453  ...  1.011730  1.011495  1.008954  1.008871  1.007160   \n",
       "1  1.020416  1.015351  ...  1.011415  1.010882  1.009026  1.008720  1.007436   \n",
       "\n",
       "         15        16       17        18  exp  \n",
       "0  1.007141  1.005919  1.00593  1.005018    1  \n",
       "1  1.007245  1.006306  1.00618  1.005465    1  \n",
       "\n",
       "[2 rows x 21 columns]"
      ]
     },
     "execution_count": 13,
     "metadata": {},
     "output_type": "execute_result"
    }
   ],
   "source": [
    "# get the length of each entry after the extraction\n",
    "length = np.max(df['exp'].apply(np.shape))[0]\n",
    "\n",
    "# extract each correspondent values and \"expand\" them vertically\n",
    "df = pd.concat([pd.DataFrame({f: df[f].str[n].values for f in df}) for n in range(length)], axis=0).reset_index(drop=True)\n",
    "log.debug('Length of the spurious dataset: {:d} samples.'.format(df.shape[0]))\n",
    "\n",
    "# show a couple of samples for reference\n",
    "df.head(2)"
   ]
  },
  {
   "cell_type": "markdown",
   "metadata": {},
   "source": [
    "## Finding Duplicates and Spurious Entries\n",
    "\n",
    "Before proceeding any further we must then make sure that there are no **duplicate** rows in the database which would spoil the results as well as no **spurious** entries (namely those with `system` $= 0$ which were artificially introduced with the padding):"
   ]
  },
  {
   "cell_type": "code",
   "execution_count": 14,
   "metadata": {},
   "outputs": [
    {
     "name": "stderr",
     "output_type": "stream",
     "text": [
      "2020-05-11 15:38:01,971: DEBUG ==> Length of the correct dataset: 718 samples.\n"
     ]
    }
   ],
   "source": [
    "# delete spurious elements\n",
    "df = df.loc[df['system'] > 0] #---------------------------- keep only system > 0\n",
    "\n",
    "# drop duplicates\n",
    "df = df.drop_duplicates(subset=None, keep='first') #------- do not use a subset of columns and keep only the first appearance\n",
    "\n",
    "log.debug('Length of the correct dataset: {:d} samples.'.format(df.shape[0]))"
   ]
  },
  {
   "cell_type": "markdown",
   "metadata": {},
   "source": [
    "The final dataset is as follows:"
   ]
  },
  {
   "cell_type": "code",
   "execution_count": 15,
   "metadata": {},
   "outputs": [
    {
     "data": {
      "text/html": [
       "<div>\n",
       "<style scoped>\n",
       "    .dataframe tbody tr th:only-of-type {\n",
       "        vertical-align: middle;\n",
       "    }\n",
       "\n",
       "    .dataframe tbody tr th {\n",
       "        vertical-align: top;\n",
       "    }\n",
       "\n",
       "    .dataframe thead th {\n",
       "        text-align: right;\n",
       "    }\n",
       "</style>\n",
       "<table border=\"1\" class=\"dataframe\">\n",
       "  <thead>\n",
       "    <tr style=\"text-align: right;\">\n",
       "      <th></th>\n",
       "      <th>system</th>\n",
       "      <th>type</th>\n",
       "      <th>weight</th>\n",
       "      <th>2</th>\n",
       "      <th>3</th>\n",
       "      <th>4</th>\n",
       "      <th>5</th>\n",
       "      <th>6</th>\n",
       "      <th>7</th>\n",
       "      <th>8</th>\n",
       "      <th>...</th>\n",
       "      <th>10</th>\n",
       "      <th>11</th>\n",
       "      <th>12</th>\n",
       "      <th>13</th>\n",
       "      <th>14</th>\n",
       "      <th>15</th>\n",
       "      <th>16</th>\n",
       "      <th>17</th>\n",
       "      <th>18</th>\n",
       "      <th>exp</th>\n",
       "    </tr>\n",
       "  </thead>\n",
       "  <tbody>\n",
       "    <tr>\n",
       "      <th>count</th>\n",
       "      <td>718.000000</td>\n",
       "      <td>718.000000</td>\n",
       "      <td>718.000000</td>\n",
       "      <td>718.000000</td>\n",
       "      <td>718.000000</td>\n",
       "      <td>718.000000</td>\n",
       "      <td>718.000000</td>\n",
       "      <td>718.000000</td>\n",
       "      <td>718.000000</td>\n",
       "      <td>718.000000</td>\n",
       "      <td>...</td>\n",
       "      <td>718.000000</td>\n",
       "      <td>718.000000</td>\n",
       "      <td>718.000000</td>\n",
       "      <td>718.000000</td>\n",
       "      <td>718.000000</td>\n",
       "      <td>718.000000</td>\n",
       "      <td>718.000000</td>\n",
       "      <td>718.000000</td>\n",
       "      <td>7.180000e+02</td>\n",
       "      <td>718.000000</td>\n",
       "    </tr>\n",
       "    <tr>\n",
       "      <th>mean</th>\n",
       "      <td>24.314763</td>\n",
       "      <td>3.749304</td>\n",
       "      <td>1.981686</td>\n",
       "      <td>-1.649589</td>\n",
       "      <td>-1.817170</td>\n",
       "      <td>7.981259</td>\n",
       "      <td>8.445939</td>\n",
       "      <td>-34.541055</td>\n",
       "      <td>-36.169106</td>\n",
       "      <td>172.934603</td>\n",
       "      <td>...</td>\n",
       "      <td>-752.288433</td>\n",
       "      <td>-776.523313</td>\n",
       "      <td>3061.210057</td>\n",
       "      <td>3147.716636</td>\n",
       "      <td>-11562.460857</td>\n",
       "      <td>-11855.258680</td>\n",
       "      <td>40629.386999</td>\n",
       "      <td>41566.669584</td>\n",
       "      <td>-1.334843e+05</td>\n",
       "      <td>0.541783</td>\n",
       "    </tr>\n",
       "    <tr>\n",
       "      <th>std</th>\n",
       "      <td>13.023788</td>\n",
       "      <td>0.662688</td>\n",
       "      <td>2.337013</td>\n",
       "      <td>4.548304</td>\n",
       "      <td>5.005473</td>\n",
       "      <td>21.558408</td>\n",
       "      <td>22.815235</td>\n",
       "      <td>111.039170</td>\n",
       "      <td>116.338079</td>\n",
       "      <td>613.372450</td>\n",
       "      <td>...</td>\n",
       "      <td>2852.135166</td>\n",
       "      <td>2942.302665</td>\n",
       "      <td>11912.541567</td>\n",
       "      <td>12240.685674</td>\n",
       "      <td>45391.801105</td>\n",
       "      <td>46512.063723</td>\n",
       "      <td>160087.941813</td>\n",
       "      <td>163698.216993</td>\n",
       "      <td>5.278422e+05</td>\n",
       "      <td>0.706857</td>\n",
       "    </tr>\n",
       "    <tr>\n",
       "      <th>min</th>\n",
       "      <td>1.000000</td>\n",
       "      <td>2.000000</td>\n",
       "      <td>0.000000</td>\n",
       "      <td>-19.744040</td>\n",
       "      <td>-21.893983</td>\n",
       "      <td>-0.754568</td>\n",
       "      <td>-0.782633</td>\n",
       "      <td>-514.984097</td>\n",
       "      <td>-538.627792</td>\n",
       "      <td>-0.909456</td>\n",
       "      <td>...</td>\n",
       "      <td>-13321.170445</td>\n",
       "      <td>-13781.246472</td>\n",
       "      <td>-8.850113</td>\n",
       "      <td>-12.265769</td>\n",
       "      <td>-211473.396816</td>\n",
       "      <td>-216475.644423</td>\n",
       "      <td>-44.356923</td>\n",
       "      <td>-66.596211</td>\n",
       "      <td>-2.489024e+06</td>\n",
       "      <td>-1.000000</td>\n",
       "    </tr>\n",
       "    <tr>\n",
       "      <th>25%</th>\n",
       "      <td>13.000000</td>\n",
       "      <td>4.000000</td>\n",
       "      <td>0.155340</td>\n",
       "      <td>-0.819357</td>\n",
       "      <td>-1.048764</td>\n",
       "      <td>0.000000</td>\n",
       "      <td>0.000000</td>\n",
       "      <td>-0.924887</td>\n",
       "      <td>-0.941950</td>\n",
       "      <td>0.000000</td>\n",
       "      <td>...</td>\n",
       "      <td>-1.122517</td>\n",
       "      <td>-2.123912</td>\n",
       "      <td>0.001518</td>\n",
       "      <td>0.001679</td>\n",
       "      <td>-3.214377</td>\n",
       "      <td>-6.185564</td>\n",
       "      <td>0.045728</td>\n",
       "      <td>0.042314</td>\n",
       "      <td>-2.569285e+01</td>\n",
       "      <td>0.000000</td>\n",
       "    </tr>\n",
       "    <tr>\n",
       "      <th>50%</th>\n",
       "      <td>25.000000</td>\n",
       "      <td>4.000000</td>\n",
       "      <td>1.000100</td>\n",
       "      <td>0.000000</td>\n",
       "      <td>0.000000</td>\n",
       "      <td>0.923914</td>\n",
       "      <td>0.935052</td>\n",
       "      <td>0.000000</td>\n",
       "      <td>0.000000</td>\n",
       "      <td>0.974117</td>\n",
       "      <td>...</td>\n",
       "      <td>0.001407</td>\n",
       "      <td>0.001712</td>\n",
       "      <td>0.987326</td>\n",
       "      <td>0.987066</td>\n",
       "      <td>0.001634</td>\n",
       "      <td>0.004821</td>\n",
       "      <td>1.004445</td>\n",
       "      <td>1.001084</td>\n",
       "      <td>9.732395e-02</td>\n",
       "      <td>1.000000</td>\n",
       "    </tr>\n",
       "    <tr>\n",
       "      <th>75%</th>\n",
       "      <td>36.000000</td>\n",
       "      <td>4.000000</td>\n",
       "      <td>3.213367</td>\n",
       "      <td>0.795133</td>\n",
       "      <td>0.913984</td>\n",
       "      <td>1.408763</td>\n",
       "      <td>1.552803</td>\n",
       "      <td>0.960644</td>\n",
       "      <td>0.984305</td>\n",
       "      <td>2.341926</td>\n",
       "      <td>...</td>\n",
       "      <td>0.991467</td>\n",
       "      <td>0.996329</td>\n",
       "      <td>4.397037</td>\n",
       "      <td>6.811820</td>\n",
       "      <td>0.997875</td>\n",
       "      <td>1.001248</td>\n",
       "      <td>16.098058</td>\n",
       "      <td>16.131990</td>\n",
       "      <td>1.003658e+00</td>\n",
       "      <td>1.000000</td>\n",
       "    </tr>\n",
       "    <tr>\n",
       "      <th>max</th>\n",
       "      <td>45.000000</td>\n",
       "      <td>4.000000</td>\n",
       "      <td>9.000000</td>\n",
       "      <td>1.239384</td>\n",
       "      <td>1.358098</td>\n",
       "      <td>122.931347</td>\n",
       "      <td>131.675490</td>\n",
       "      <td>2.275741</td>\n",
       "      <td>2.712998</td>\n",
       "      <td>2823.630938</td>\n",
       "      <td>...</td>\n",
       "      <td>5.243298</td>\n",
       "      <td>6.283092</td>\n",
       "      <td>56115.100219</td>\n",
       "      <td>57592.698860</td>\n",
       "      <td>16.106978</td>\n",
       "      <td>23.077325</td>\n",
       "      <td>731718.332090</td>\n",
       "      <td>748286.961169</td>\n",
       "      <td>1.033588e+02</td>\n",
       "      <td>1.000000</td>\n",
       "    </tr>\n",
       "  </tbody>\n",
       "</table>\n",
       "<p>8 rows × 21 columns</p>\n",
       "</div>"
      ],
      "text/plain": [
       "           system        type      weight           2           3           4  \\\n",
       "count  718.000000  718.000000  718.000000  718.000000  718.000000  718.000000   \n",
       "mean    24.314763    3.749304    1.981686   -1.649589   -1.817170    7.981259   \n",
       "std     13.023788    0.662688    2.337013    4.548304    5.005473   21.558408   \n",
       "min      1.000000    2.000000    0.000000  -19.744040  -21.893983   -0.754568   \n",
       "25%     13.000000    4.000000    0.155340   -0.819357   -1.048764    0.000000   \n",
       "50%     25.000000    4.000000    1.000100    0.000000    0.000000    0.923914   \n",
       "75%     36.000000    4.000000    3.213367    0.795133    0.913984    1.408763   \n",
       "max     45.000000    4.000000    9.000000    1.239384    1.358098  122.931347   \n",
       "\n",
       "                5           6           7            8  ...            10  \\\n",
       "count  718.000000  718.000000  718.000000   718.000000  ...    718.000000   \n",
       "mean     8.445939  -34.541055  -36.169106   172.934603  ...   -752.288433   \n",
       "std     22.815235  111.039170  116.338079   613.372450  ...   2852.135166   \n",
       "min     -0.782633 -514.984097 -538.627792    -0.909456  ... -13321.170445   \n",
       "25%      0.000000   -0.924887   -0.941950     0.000000  ...     -1.122517   \n",
       "50%      0.935052    0.000000    0.000000     0.974117  ...      0.001407   \n",
       "75%      1.552803    0.960644    0.984305     2.341926  ...      0.991467   \n",
       "max    131.675490    2.275741    2.712998  2823.630938  ...      5.243298   \n",
       "\n",
       "                 11            12            13             14             15  \\\n",
       "count    718.000000    718.000000    718.000000     718.000000     718.000000   \n",
       "mean    -776.523313   3061.210057   3147.716636  -11562.460857  -11855.258680   \n",
       "std     2942.302665  11912.541567  12240.685674   45391.801105   46512.063723   \n",
       "min   -13781.246472     -8.850113    -12.265769 -211473.396816 -216475.644423   \n",
       "25%       -2.123912      0.001518      0.001679      -3.214377      -6.185564   \n",
       "50%        0.001712      0.987326      0.987066       0.001634       0.004821   \n",
       "75%        0.996329      4.397037      6.811820       0.997875       1.001248   \n",
       "max        6.283092  56115.100219  57592.698860      16.106978      23.077325   \n",
       "\n",
       "                  16             17            18         exp  \n",
       "count     718.000000     718.000000  7.180000e+02  718.000000  \n",
       "mean    40629.386999   41566.669584 -1.334843e+05    0.541783  \n",
       "std    160087.941813  163698.216993  5.278422e+05    0.706857  \n",
       "min       -44.356923     -66.596211 -2.489024e+06   -1.000000  \n",
       "25%         0.045728       0.042314 -2.569285e+01    0.000000  \n",
       "50%         1.004445       1.001084  9.732395e-02    1.000000  \n",
       "75%        16.098058      16.131990  1.003658e+00    1.000000  \n",
       "max    731718.332090  748286.961169  1.033588e+02    1.000000  \n",
       "\n",
       "[8 rows x 21 columns]"
      ]
     },
     "execution_count": 15,
     "metadata": {},
     "output_type": "execute_result"
    }
   ],
   "source": [
    "df.describe() #-------- this is a meaningful representation because we do not have categorical or object-like columns"
   ]
  },
  {
   "cell_type": "markdown",
   "metadata": {},
   "source": [
    "As a comment we must notice that in same cases there are _minimum_ and _maximum_ values which look like outliers (their absolute value seems to be too large). For the moment we will keep them in the dataset.\n",
    "\n",
    "We save the dataset for further analysis:"
   ]
  },
  {
   "cell_type": "code",
   "execution_count": 16,
   "metadata": {},
   "outputs": [],
   "source": [
    "df.to_hdf(path.join(ROOT_DIR, 'data_sft_analysis.h5'), key='data_sft', complevel=9, complib='bzip2')"
   ]
  },
  {
   "cell_type": "markdown",
   "metadata": {},
   "source": [
    "## Training Set Preparation and Validation Strategy\n",
    "\n",
    "In this case the division into training and test set can be a bit tricky. In fact we want to separate the samples according to their reference `system` in order to keep entries coming from the same \"family\" together. We will then keep 25% of the `system` values as test set, without regards to the effective number of samples in the set."
   ]
  },
  {
   "cell_type": "code",
   "execution_count": 17,
   "metadata": {},
   "outputs": [],
   "source": [
    "from sklearn.model_selection import train_test_split\n",
    "\n",
    "system_train, system_test = train_test_split(df['system'].unique(), test_size=0.25, shuffle=True, random_state=RAND)"
   ]
  },
  {
   "cell_type": "markdown",
   "metadata": {},
   "source": [
    "We then form the training and test sets using `system_train` and `system_test` as index:"
   ]
  },
  {
   "cell_type": "code",
   "execution_count": 18,
   "metadata": {},
   "outputs": [
    {
     "name": "stderr",
     "output_type": "stream",
     "text": [
      "2020-05-11 15:38:02,357: DEBUG ==> Length of the training dataset: 519 samples.\n",
      "2020-05-11 15:38:02,361: DEBUG ==> Length of the test dataset: 199 samples.\n"
     ]
    },
    {
     "name": "stdout",
     "output_type": "stream",
     "text": [
      "Training data: 72% of the dataset.\n",
      "Test data:     27% of the dataset.\n"
     ]
    }
   ],
   "source": [
    "df_train = df.loc[df['system'].isin(system_train)]\n",
    "log.debug('Length of the training dataset: {:d} samples.'.format(df_train.shape[0]))\n",
    "\n",
    "df_test  = df.loc[df['system'].isin(system_test)]\n",
    "log.debug('Length of the test dataset: {:d} samples.'.format(df_test.shape[0]))\n",
    "\n",
    "print('Training data: {:d}% of the dataset.'.format(int(100 * df_train.shape[0] / df.shape[0])))\n",
    "print('Test data:     {:d}% of the dataset.'.format(int(100 * df_test.shape[0] / df.shape[0])))"
   ]
  },
  {
   "cell_type": "markdown",
   "metadata": {},
   "source": [
    "We then experiment on the best validation split size for the analysis. We split the training set into an effective training set and a **holdout validation** set with several different sizes and use the **mean squared error** (MSE) as a metric to evaluate the algorithm against the validation set."
   ]
  },
  {
   "cell_type": "code",
   "execution_count": 19,
   "metadata": {},
   "outputs": [
    {
     "data": {
      "image/png": "[encoded data removed]",
      "text/plain": [
       "<Figure size 864x360 with 2 Axes>"
      ]
     },
     "metadata": {
      "needs_background": "light"
     },
     "output_type": "display_data"
    },
    {
     "name": "stderr",
     "output_type": "stream",
     "text": [
      "2020-05-11 15:38:06,211: DEBUG ==> Plot saved in ./img/rmse_train_size.pdf.\n"
     ]
    }
   ],
   "source": [
    "from sklearn.metrics      import mean_squared_error\n",
    "from sklearn.linear_model import LinearRegression\n",
    "from sklearn.ensemble     import RandomForestRegressor\n",
    "from mltools.libplot      import Plot\n",
    "\n",
    "# choose an estimator\n",
    "estimators  = [LinearRegression(),\n",
    "               RandomForestRegressor(n_estimators=50, n_jobs=-1, random_state=RAND)\n",
    "              ]\n",
    "\n",
    "# define the size of the train set we want to experiment\n",
    "train_sizes = np.linspace(30, 90,\n",
    "                          num=11,\n",
    "                          dtype=np.int\n",
    "                         ).reshape(1,-1) / 100.0 #------------------------------------------------- training sizes\n",
    "rmse_values  = np.zeros((np.shape(estimators)[0], train_sizes.shape[1])) #------------------------- mse values (shape: n_estimators x train_sizes)\n",
    "\n",
    "# iterate over the training set sizes\n",
    "for n in range(train_sizes.shape[1]):\n",
    "    # split the set and select the features\n",
    "    train, val = train_test_split(df_train.drop(columns='system'), #------------------------------- drop the system column\n",
    "                                  train_size=train_sizes[:,n].reshape(-1,),\n",
    "                                  shuffle=True,\n",
    "                                  random_state=RAND\n",
    "                                 ) #--------------------------------------------------------------- split the training set\n",
    "    train_features = train.drop(columns='exp') #--------------------------------------------------- training features\n",
    "    val_features   = val.drop(columns='exp') #----------------------------------------------------- validation features\n",
    "\n",
    "    train_label    = train['exp'] #---------------------------------------------------------------- training label\n",
    "    val_label      = val['exp'] #------------------------------------------------------------------ validation label\n",
    "\n",
    "    # evaluate the algorithm\n",
    "    for m in range(np.shape(estimators)[0]):\n",
    "        estimators[m].fit(train_features, train_label) #------------------------------------------- fit the estimator_1\n",
    "        rmse_values[m,n] = np.sqrt(mean_squared_error(y_true=val_label,\n",
    "                                                      y_pred=estimators[m].predict(val_features)\n",
    "                                                     )\n",
    "                                  )#--------------------------------------------------------------- store the values of the MSE\n",
    "\n",
    "# plot the MSE values\n",
    "plot = Plot(rows=1, columns=np.shape(estimators)[0])\n",
    "\n",
    "for m in range(np.shape(estimators)[0]):\n",
    "    plot.series2D(data=rmse_values[m,:],\n",
    "                  axis=m,\n",
    "                  title='Validation Error as Function of the Training Set Size',\n",
    "                  xlabel='Train Set Size',\n",
    "                  ylabel='RMSE',\n",
    "                  legend=estimators[m].__class__.__name__,\n",
    "                  labels=train_sizes.reshape(-1,)\n",
    "                 )\n",
    "\n",
    "plot.save_and_close(path.join(IMG_PATH, 'rmse_train_size'))\n",
    "log.debug('Plot saved in {}.'.format(path.join(IMG_PATH, 'rmse_train_size.pdf')))"
   ]
  },
  {
   "cell_type": "markdown",
   "metadata": {},
   "source": [
    "In the plot we show the progression of the MSE as a function of the training size. A good compromise between the no. of samples in the training set and the MSE of different kinds of algorithms seems to be around 60% to 70% of the dataset.\n",
    "\n",
    "We will therefore divide the original training set as follows:\n",
    "\n",
    "- 27% into a **test set** (already split),\n",
    "- 25% into **cross-validation** splits (around 34% of the training dataset),\n",
    "- 48% into the effective **training set** (around 66% of the training dataset).\n",
    "\n",
    "When we implement cross-validation in _Scikit_ we will therefore use 3 splits."
   ]
  },
  {
   "cell_type": "code",
   "execution_count": 20,
   "metadata": {},
   "outputs": [],
   "source": [
    "from sklearn.model_selection import KFold\n",
    "\n",
    "cv = KFold(n_splits=3, shuffle=True, random_state=RAND)"
   ]
  },
  {
   "cell_type": "markdown",
   "metadata": {},
   "source": [
    "## Machine Learning Analysis\n",
    "\n",
    "We now move to the ML analysis of the dataset. Given the size of the dataframe, we will try different approaches to the extrapolation of the level-$\\infty$ predictions. Specifically we will look at:\n",
    "\n",
    "- [Linear Regression](https://scikit-learn.org/stable/modules/generated/sklearn.linear_model.LinearRegression.html) to have a solid baseline for comparison,\n",
    "- [Elastic Net](https://scikit-learn.org/stable/modules/generated/sklearn.linear_model.ElasticNet.html) to implement **L1** and **L2** regularizations,\n",
    "- [Ridge](https://scikit-learn.org/stable/modules/generated/sklearn.linear_model.Ridge.html) to implement **L2** regularization,\n",
    "- [Linear SVR](https://scikit-learn.org/stable/modules/generated/sklearn.svm.LinearSVR.html) to use **support vector machines** to improve the predictions,\n",
    "- [SVR (Gaussian kernel)](https://scikit-learn.org/stable/modules/generated/sklearn.svm.SVR.html) to hopefully find better results,\n",
    "- [Random Forest Regressor](https://scikit-learn.org/stable/modules/generated/sklearn.ensemble.RandomForestRegressor.html) to use the power of **decision trees** and **ensemble** learning,\n",
    "- [Histogram Gradient Boosting Regressor](https://scikit-learn.org/stable/modules/generated/sklearn.ensemble.HistGradientBoostingRegressor.html) to improve the predictive abilities of a single decision tree through successive improvement.\n",
    "\n",
    "For the hyperparameter optimization we use a [**Bayesan** approach](https://en.wikipedia.org/wiki/Bayesian_optimization) in the [_Scikit-optimize_](https://scikit-optimize.github.io/stable/modules/generated/skopt.BayesSearchCV.html) library: this will provide a better approach to the minimization of the cost functions during cross-validation with respect to a randomized search (apart from the linear regression where we will test all possible values of the hyperparameters). In order to print the output of the parameters dictionaries we implement a function to pretty print them:"
   ]
  },
  {
   "cell_type": "code",
   "execution_count": 21,
   "metadata": {},
   "outputs": [],
   "source": [
    "def pretty(dct, indent=True):\n",
    "    '''\n",
    "    Pretty print the dictionary of best parameters.\n",
    "    \n",
    "    Required argument:\n",
    "        dct:    the dictionary to pretty print.\n",
    "        \n",
    "    Optional argument:\n",
    "        indent: whether to indent the printed output.\n",
    "    '''\n",
    "    \n",
    "    for key, value in dct.items():\n",
    "        if indent:\n",
    "            print('    {} = {}'.format(key, value))\n",
    "        else:\n",
    "            print('{} = {}'.format(key, value))"
   ]
  },
  {
   "cell_type": "markdown",
   "metadata": {},
   "source": [
    "### Features and Labels Extraction\n",
    "\n",
    "We then extract the training features and the labels. If needed we can implement the scaling of the features."
   ]
  },
  {
   "cell_type": "code",
   "execution_count": 22,
   "metadata": {},
   "outputs": [],
   "source": [
    "from sklearn.preprocessing import StandardScaler, RobustScaler, MinMaxScaler\n",
    "\n",
    "# drop the `system` column\n",
    "df_train = df_train.drop(columns='system')\n",
    "df_test  = df_test.drop(columns='system')\n",
    "\n",
    "# features\n",
    "features_train = df_train.drop(columns='exp')\n",
    "features_test  = df_test.drop(columns='exp')\n",
    "\n",
    "# scale the features\n",
    "features_scaler = StandardScaler()\n",
    "\n",
    "if features_scaler is not None:\n",
    "    features_train = features_scaler.fit_transform(features_train)\n",
    "    features_test  = features_scaler.transform(features_test)\n",
    "\n",
    "# labels\n",
    "labels_train = df_train['exp']\n",
    "labels_test  = df_test['exp']"
   ]
  },
  {
   "cell_type": "markdown",
   "metadata": {},
   "source": [
    "### [Linear Regression](https://scikit-learn.org/stable/modules/generated/sklearn.linear_model.LinearRegression.html)\n",
    "\n",
    "We first consider a linear regression algorithm. In this case the number of hyperparameters to be tuned is small and we can use a **grid search** to try out every combination:\n",
    "\n",
    "- `fit_intercept` $\\in \\lbrace 0, 1 \\rbrace$,\n",
    "- `normalize` $\\in \\lbrace 0, 1 \\rbrace$."
   ]
  },
  {
   "cell_type": "code",
   "execution_count": 23,
   "metadata": {},
   "outputs": [
    {
     "name": "stderr",
     "output_type": "stream",
     "text": [
      "2020-05-11 15:38:06,369: INFO ==> LINEAR REGRESSION\n",
      "2020-05-11 15:38:06,371: INFO ==> Fitting the estimator...\n",
      "2020-05-11 15:38:08,308: INFO ==> Evaluating the estimator...\n"
     ]
    },
    {
     "name": "stdout",
     "output_type": "stream",
     "text": [
      "\n",
      "Best parameters:\n",
      "\n",
      "    fit_intercept = 1\n",
      "    normalize = 1\n",
      "\n",
      "RMSE on the validation set: 0.463 ± 0.159\n"
     ]
    }
   ],
   "source": [
    "from sklearn.linear_model    import LinearRegression\n",
    "from sklearn.model_selection import GridSearchCV\n",
    "from sklearn.metrics         import mean_squared_error\n",
    "from mltools.libscore        import ViewCV\n",
    "from mltools.libplot         import Plot\n",
    "\n",
    "import joblib\n",
    "\n",
    "# parameter dictionary\n",
    "search_params  = {'fit_intercept': [0, 1],\n",
    "                  'normalize':     [0, 1]\n",
    "                 } #----------------------------------------------------------------------------- define hyperparameter grid\n",
    "\n",
    "# optimization search\n",
    "log.info('LINEAR REGRESSION')\n",
    "lin_reg = GridSearchCV(estimator=LinearRegression(),\n",
    "                       param_grid=search_params,\n",
    "                       scoring='neg_mean_squared_error',\n",
    "                       n_jobs=-1,\n",
    "                       refit=True,\n",
    "                       cv=cv\n",
    "                      ) #----------------------------------------------------------------------- define the optimization estimator\n",
    "\n",
    "# fit the estimator\n",
    "log.info('Fitting the estimator...')\n",
    "lin_reg.fit(features_train, labels_train)\n",
    "\n",
    "# evaluate the estimator\n",
    "log.info('Evaluating the estimator...')\n",
    "cv_results = ViewCV(lin_reg)\n",
    "\n",
    "print('\\nBest parameters:\\n')\n",
    "pretty(cv_results.best_parameters)\n",
    "\n",
    "print('\\nRMSE on the validation set: {:.3f} ± {:.3f}'.format(np.sqrt(-cv_results.test_mean()),\n",
    "                                                             np.sqrt(cv_results.test_std())\n",
    "                                                            )\n",
    "     )"
   ]
  },
  {
   "cell_type": "markdown",
   "metadata": {},
   "source": [
    "### [Elastic Net](https://scikit-learn.org/stable/modules/generated/sklearn.linear_model.ElasticNet.html)\n",
    "\n",
    "We then try to implement the regularized version of the simple linear regression: we use an **elastic net** because it implements both **L1** and **L2** regularizations and can be a guide in choosing the appropriate values. In fact the hyperparameters in this case allow to separately control the two different regularizations. The additional term (with respect to the linear regression) to the cost function is of the form $\\Delta J(w) = \\alpha l_{1\\,ratio} \\vert\\vert w \\vert\\vert + \\frac{\\alpha}{2} (1 - l_{1\\,ratio}) \\vert\\vert w \\vert\\vert^2$. We will then study the following hyperparamter space:\n",
    "\n",
    "- `fit_intercept` $\\in \\lbrace 0, 1 \\rbrace$,\n",
    "- `normalize` $\\in \\lbrace 0, 1 \\rbrace$,\n",
    "- `alpha` $\\in \\left[ 10^{-2}, 10^2 \\right]$,\n",
    "- `l1_ratio` $\\in \\left[ 0.0, 1.0 \\right]$."
   ]
  },
  {
   "cell_type": "code",
   "execution_count": 24,
   "metadata": {},
   "outputs": [
    {
     "name": "stderr",
     "output_type": "stream",
     "text": [
      "2020-05-11 15:38:08,424: INFO ==> ELASTIC NET\n",
      "2020-05-11 15:38:08,425: INFO ==> Fitting the estimator...\n",
      "2020-05-11 15:40:46,551: INFO ==> Evaluating the estimator...\n"
     ]
    },
    {
     "name": "stdout",
     "output_type": "stream",
     "text": [
      "\n",
      "Best parameters:\n",
      "\n",
      "    alpha = 0.01\n",
      "    fit_intercept = 1\n",
      "    l1_ratio = 0.0\n",
      "    normalize = 0\n",
      "\n",
      "RMSE on the validation set: 0.579 ± 0.272\n"
     ]
    }
   ],
   "source": [
    "from sklearn.linear_model import ElasticNet\n",
    "from skopt                import BayesSearchCV\n",
    "from skopt.space          import Real, Integer, Categorical\n",
    "from sklearn.metrics      import mean_squared_error\n",
    "from mltools.libscore     import ViewCV\n",
    "from mltools.libplot      import Plot\n",
    "\n",
    "import joblib\n",
    "\n",
    "# parameter dictionary\n",
    "search_params  = {'fit_intercept': Integer(0, 1),\n",
    "                  'normalize':     Integer(0, 1),\n",
    "                  'alpha':         Real(1.0e-2, 1.0e2, prior='log-uniform'),\n",
    "                  'l1_ratio':      Real(0.0, 1.0, prior='uniform')\n",
    "                 } #--------------------------------------------------------------------------- define hyperparameter grid\n",
    "\n",
    "# optimization search\n",
    "log.info('ELASTIC NET')\n",
    "el_net = BayesSearchCV(estimator=ElasticNet(max_iter=1e5, random_state=RAND),\n",
    "                       search_spaces=search_params,\n",
    "                       scoring='neg_mean_squared_error',\n",
    "                       n_jobs=-1,\n",
    "                       refit=True,\n",
    "                       n_iter=50,\n",
    "                       random_state=RAND,\n",
    "                       cv=cv\n",
    "                      ) #---------------------------------------------------------------------- define the optimization estimator\n",
    "\n",
    "# fit the estimator\n",
    "log.info('Fitting the estimator...')\n",
    "el_net.fit(features_train, labels_train)\n",
    "\n",
    "# evaluate the estimator\n",
    "log.info('Evaluating the estimator...')\n",
    "cv_results = ViewCV(el_net)\n",
    "\n",
    "print('\\nBest parameters:\\n')\n",
    "pretty(cv_results.best_parameters)\n",
    "\n",
    "print('\\nRMSE on the validation set: {:.3f} ± {:.3f}'.format(np.sqrt(-cv_results.test_mean()),\n",
    "                                                             np.sqrt(cv_results.test_std())\n",
    "                                                            )\n",
    "     )"
   ]
  },
  {
   "cell_type": "markdown",
   "metadata": {},
   "source": [
    "Notice that the values of $\\alpha$ and $l_{1~ratio}$ seem to suggest the need for **L2** regularization procided by the **Ridge** regression which we implement as the next step. "
   ]
  },
  {
   "cell_type": "markdown",
   "metadata": {},
   "source": [
    "### [Ridge](https://scikit-learn.org/stable/modules/generated/sklearn.linear_model.Ridge.html)\n",
    "\n",
    "We try to implement the pure **L2** regularized linear model. We explore the hyperparameter space:\n",
    "\n",
    "- `fit_intercept` $\\in \\lbrace 0, 1 \\rbrace$,\n",
    "- `normalize` $\\in \\lbrace 0, 1 \\rbrace$,\n",
    "- `alpha` $\\in \\left[ 10^{-2}, 10^2 \\right]$."
   ]
  },
  {
   "cell_type": "code",
   "execution_count": 25,
   "metadata": {},
   "outputs": [
    {
     "name": "stderr",
     "output_type": "stream",
     "text": [
      "2020-05-11 15:40:46,594: INFO ==> RIDGE\n",
      "2020-05-11 15:40:46,597: INFO ==> Fitting the estimator...\n",
      "2020-05-11 15:42:30,419: INFO ==> Evaluating the estimator...\n"
     ]
    },
    {
     "name": "stdout",
     "output_type": "stream",
     "text": [
      "\n",
      "Best parameters:\n",
      "\n",
      "    alpha = 0.01\n",
      "    fit_intercept = 1\n",
      "    normalize = 0\n",
      "\n",
      "RMSE on the validation set: 0.531 ± 0.236\n"
     ]
    }
   ],
   "source": [
    "from sklearn.linear_model import Ridge\n",
    "from skopt                import BayesSearchCV\n",
    "from skopt.space          import Real, Integer, Categorical\n",
    "from sklearn.metrics      import mean_squared_error\n",
    "from mltools.libscore     import ViewCV\n",
    "from mltools.libplot      import Plot\n",
    "\n",
    "import joblib\n",
    "\n",
    "# parameter dictionary\n",
    "search_params  = {'fit_intercept': Integer(0, 1),\n",
    "                  'normalize':     Integer(0, 1),\n",
    "                  'alpha':         Real(1.0e-2, 1.0e2, prior='log-uniform')\n",
    "                 } #--------------------------------------------------------------------------- define hyperparameter grid\n",
    "\n",
    "# optimization search\n",
    "log.info('RIDGE')\n",
    "ridge = BayesSearchCV(estimator=Ridge(random_state=RAND),\n",
    "                      search_spaces=search_params,\n",
    "                      scoring='neg_mean_squared_error',\n",
    "                      n_jobs=-1,\n",
    "                      refit=True,\n",
    "                      n_iter=50,\n",
    "                      random_state=RAND,\n",
    "                      cv=cv\n",
    "                     ) #---------------------------------------------------------------------- define the optimization estimator\n",
    "\n",
    "# fit the estimator\n",
    "log.info('Fitting the estimator...')\n",
    "ridge.fit(features_train, labels_train)\n",
    "\n",
    "# evaluate the estimator\n",
    "log.info('Evaluating the estimator...')\n",
    "cv_results = ViewCV(ridge)\n",
    "\n",
    "print('\\nBest parameters:\\n')\n",
    "pretty(cv_results.best_parameters)\n",
    "\n",
    "print('\\nRMSE on the validation set: {:.3f} ± {:.3f}'.format(np.sqrt(-cv_results.test_mean()),\n",
    "                                                             np.sqrt(cv_results.test_std())\n",
    "                                                            )\n",
    "     )"
   ]
  },
  {
   "cell_type": "markdown",
   "metadata": {},
   "source": [
    "### [Linear SVR](https://scikit-learn.org/stable/modules/generated/sklearn.svm.LinearSVR.html)\n",
    "\n",
    "We move to the **support vector machines** (SVM) algorithms and start without a **kernel** function. We use the linear implementation of the support vector regressor with hyperparameters:\n",
    "\n",
    "- `fit_intercept` $\\in \\lbrace 0, 1 \\rbrace$,\n",
    "- `epsilon` $\\in \\left[ 0.0, 1.0 \\right]$,\n",
    "- `C` $\\in \\left[ 10^{-1}, 10^3 \\right]$,\n",
    "- `loss` $\\in \\lbrace epsilon\\_insensitive, squared\\_epsilon\\_insensitive \\rbrace$,\n",
    "- `intercept_scaling` $\\in \\left[ 10^{-2}, 10^2 \\right]$."
   ]
  },
  {
   "cell_type": "code",
   "execution_count": 26,
   "metadata": {},
   "outputs": [
    {
     "name": "stderr",
     "output_type": "stream",
     "text": [
      "2020-05-11 15:42:30,470: INFO ==> LINEAR SVR\n",
      "2020-05-11 15:42:30,472: INFO ==> Fitting the estimator...\n",
      "2020-05-11 15:51:24,043: INFO ==> Evaluating the estimator...\n"
     ]
    },
    {
     "name": "stdout",
     "output_type": "stream",
     "text": [
      "\n",
      "Best parameters:\n",
      "\n",
      "    C = 291.0760784596301\n",
      "    epsilon = 0.20475887943766544\n",
      "    fit_intercept = 1\n",
      "    intercept_scaling = 5.8001415263948015\n",
      "    loss = squared_epsilon_insensitive\n",
      "\n",
      "RMSE on the validation set: 0.525 ± 0.192\n"
     ]
    }
   ],
   "source": [
    "from sklearn.svm      import LinearSVR\n",
    "from skopt            import BayesSearchCV\n",
    "from skopt.space      import Real, Integer, Categorical\n",
    "from sklearn.metrics  import mean_squared_error\n",
    "from mltools.libscore import ViewCV\n",
    "from mltools.libplot  import Plot\n",
    "\n",
    "import joblib\n",
    "\n",
    "# parameter dictionary\n",
    "search_params  = {'fit_intercept':     Integer(0, 1),\n",
    "                  'epsilon':           Real(0.0, 1.0,  prior='uniform'),\n",
    "                  'C':                 Real(1.0e-1, 1.0e3, prior='log-uniform'),\n",
    "                  'intercept_scaling': Real(1.0e-2, 1.0e2, prior='log-uniform'),\n",
    "                  'loss':              Categorical(['squared_epsilon_insensitive', 'epsilon_insensitive'])\n",
    "                 } #----------------------------------------------------------------------------------- define hyperparameter grid\n",
    "\n",
    "# optimization search\n",
    "log.info('LINEAR SVR')\n",
    "lin_svr = BayesSearchCV(LinearSVR(max_iter=1e5, random_state=RAND),\n",
    "                        search_spaces=search_params,\n",
    "                        scoring='neg_mean_squared_error',\n",
    "                        n_jobs=-1,\n",
    "                        refit=True,\n",
    "                        n_iter=50,\n",
    "                        random_state=RAND,\n",
    "                        cv=cv\n",
    "                       ) #---------------------------------------------------------------------------- define the optimization estimator\n",
    "\n",
    "# fit the estimator\n",
    "log.info('Fitting the estimator...')\n",
    "lin_svr.fit(features_train, labels_train)\n",
    "\n",
    "# evaluate the estimator\n",
    "log.info('Evaluating the estimator...')\n",
    "cv_results = ViewCV(lin_svr)\n",
    "\n",
    "print('\\nBest parameters:\\n')\n",
    "pretty(cv_results.best_parameters)\n",
    "\n",
    "print('\\nRMSE on the validation set: {:.3f} ± {:.3f}'.format(np.sqrt(-cv_results.test_mean()),\n",
    "                                                             np.sqrt(cv_results.test_std())\n",
    "                                                            )\n",
    "     )"
   ]
  },
  {
   "cell_type": "markdown",
   "metadata": {},
   "source": [
    "### [SVR](https://scikit-learn.org/stable/modules/generated/sklearn.svm.SVR.html) (Gaussian Kernel)\n",
    "\n",
    "We now implement a kernel function in the SVM. In particular we use the Gaussian kernel (_rbf_) and try to approximate the level-$\\infty$ predictions using these hyperparameters:\n",
    "\n",
    "- `gamma` $\\in \\left[ 10^{-1}, 10^1 \\right]$,\n",
    "- `C` $\\in \\left[ 10^{-1}, 5 \\times 10^2 \\right]$,\n",
    "- `epsilon` $\\in \\left[ 10^{-4}, 10^{-1} \\right]$,\n",
    "- `shrinking` $\\in \\lbrace 0, 1 \\rbrace$."
   ]
  },
  {
   "cell_type": "code",
   "execution_count": 27,
   "metadata": {},
   "outputs": [
    {
     "name": "stderr",
     "output_type": "stream",
     "text": [
      "2020-05-11 15:51:24,071: INFO ==> SVR\n",
      "2020-05-11 15:51:24,074: INFO ==> Fitting the estimator...\n",
      "2020-05-11 15:55:16,622: INFO ==> Evaluating the estimator...\n"
     ]
    },
    {
     "name": "stdout",
     "output_type": "stream",
     "text": [
      "\n",
      "Best parameters:\n",
      "\n",
      "    C = 499.99999999999994\n",
      "    epsilon = 0.0001\n",
      "    gamma = 1.8158720638335621\n",
      "    shrinking = 1\n",
      "\n",
      "RMSE on the validation set: 0.200 ± 0.124\n"
     ]
    }
   ],
   "source": [
    "from sklearn.svm      import SVR\n",
    "from skopt            import BayesSearchCV\n",
    "from skopt.space      import Real, Integer, Categorical\n",
    "from sklearn.metrics  import mean_squared_error\n",
    "from mltools.libscore import ViewCV\n",
    "from mltools.libplot  import Plot\n",
    "\n",
    "import joblib\n",
    "\n",
    "# parameter dictionary\n",
    "search_params  = {'epsilon':   Real(1.0e-4, 1.0e-1, prior='log-uniform'),\n",
    "                  'C':         Real(1.0e-1, 5.0e2,  prior='log-uniform'),\n",
    "                  'gamma':     Real(1.0e-1, 1.0e1,  prior='log-uniform'),\n",
    "                  'shrinking': Integer(0, 1)\n",
    "                 } #----------------------------------------------------------------------------------- define hyperparameter grid\n",
    "\n",
    "# optimization search\n",
    "log.info('SVR')\n",
    "svr = BayesSearchCV(SVR(kernel='rbf'),\n",
    "                    search_spaces=search_params,\n",
    "                    scoring='neg_mean_squared_error',\n",
    "                    n_jobs=-1,\n",
    "                    refit=True,\n",
    "                    n_iter=50,\n",
    "                    random_state=RAND,\n",
    "                    cv=cv\n",
    "                   ) #-------------------------------------------------------------------------------- define the optimization estimator\n",
    "\n",
    "# fit the estimator\n",
    "log.info('Fitting the estimator...')\n",
    "svr.fit(features_train, labels_train)\n",
    "\n",
    "# evaluate the estimator\n",
    "log.info('Evaluating the estimator...')\n",
    "cv_results = ViewCV(svr)\n",
    "\n",
    "print('\\nBest parameters:\\n')\n",
    "pretty(cv_results.best_parameters)\n",
    "\n",
    "print('\\nRMSE on the validation set: {:.3f} ± {:.3f}'.format(np.sqrt(-cv_results.test_mean()),\n",
    "                                                             np.sqrt(cv_results.test_std())\n",
    "                                                            )\n",
    "     )"
   ]
  },
  {
   "cell_type": "markdown",
   "metadata": {},
   "source": [
    "### [Random Forest Regressor](https://scikit-learn.org/stable/modules/generated/sklearn.ensemble.RandomForestRegressor.html)\n",
    "\n",
    "Moving on to the **decision tree** family of algorithms, we implement the **random forest** regression in the _Scikit_ implementation. We will try to intervene on as many hyperparameters as possible both to avoid overfitting the training set and to be able to generalise to new results. We use the following hyperparameters:\n",
    "\n",
    "- `n_estimators` $\\in \\left[ 10, 300 \\right]$,\n",
    "- `criterion` $\\in \\lbrace mse, mae \\rbrace$,\n",
    "- `max_depth` $\\in \\left[ 2, 100 \\right]$,\n",
    "- `min_samples_split` $\\in \\left[ 2, 100 \\right]$,\n",
    "- `min_samples_leaf` $\\in \\left[ 1, 100 \\right]$,\n",
    "- `min_weight_fraction_leaf` $\\in \\left[ 0, 0.5\\right]$,\n",
    "- `max_leaf_nodes` $\\in \\left[ 2, 100 \\right]$."
   ]
  },
  {
   "cell_type": "code",
   "execution_count": 28,
   "metadata": {},
   "outputs": [
    {
     "name": "stderr",
     "output_type": "stream",
     "text": [
      "2020-05-11 15:55:16,657: INFO ==> RANDOM FOREST\n",
      "2020-05-11 15:55:16,659: INFO ==> Fitting the estimator...\n",
      "2020-05-11 15:56:29,173: INFO ==> Evaluating the estimator...\n"
     ]
    },
    {
     "name": "stdout",
     "output_type": "stream",
     "text": [
      "\n",
      "Best parameters:\n",
      "\n",
      "    criterion = mse\n",
      "    max_depth = 32\n",
      "    max_leaf_nodes = 18\n",
      "    min_samples_leaf = 1\n",
      "    min_samples_split = 14\n",
      "    min_weight_fraction_leaf = 0.0\n",
      "    n_estimators = 170\n",
      "\n",
      "RMSE on the validation set: 0.166 ± 0.060\n"
     ]
    }
   ],
   "source": [
    "from sklearn.ensemble import RandomForestRegressor\n",
    "from skopt            import BayesSearchCV\n",
    "from skopt.space      import Real, Integer, Categorical\n",
    "from sklearn.metrics  import mean_squared_error\n",
    "from mltools.libscore import ViewCV\n",
    "from mltools.libplot  import Plot\n",
    "\n",
    "import joblib\n",
    "\n",
    "# parameter dictionary\n",
    "search_params = {'n_estimators':             Integer(1.0e1, 3.0e2, prior='log-uniform'),\n",
    "                 'max_depth':                Integer(2, 100, prior='uniform'),\n",
    "                 'min_samples_split':        Integer(2, 100, prior='uniform'),\n",
    "                 'min_samples_leaf':         Integer(1, 100, prior='uniform'),\n",
    "                 'max_leaf_nodes':           Integer(2, 100, prior='uniform'),\n",
    "                 'min_weight_fraction_leaf': Real(0.0, 0.5, prior='uniform'),\n",
    "                 'criterion':                Categorical(['mse', 'mae'])\n",
    "                } #------------------------------------------------------------------------------------ define hyperparameter grid\n",
    "\n",
    "# optimization search\n",
    "log.info('RANDOM FOREST')\n",
    "rnd_for = BayesSearchCV(RandomForestRegressor(n_jobs=-1, random_state=RAND),\n",
    "                        search_spaces=search_params,\n",
    "                        scoring='neg_mean_squared_error',\n",
    "                        n_jobs=-1,\n",
    "                        refit=True,\n",
    "                        n_iter=25,\n",
    "                        random_state=RAND,\n",
    "                        cv=cv\n",
    "                       ) #---------------------------------------------------------------------------- define the optimization estimator\n",
    "\n",
    "# fit the estimator\n",
    "log.info('Fitting the estimator...')\n",
    "rnd_for.fit(features_train, labels_train)\n",
    "\n",
    "# evaluate the estimator\n",
    "log.info('Evaluating the estimator...')\n",
    "cv_results = ViewCV(rnd_for)\n",
    "\n",
    "print('\\nBest parameters:\\n')\n",
    "pretty(cv_results.best_parameters)\n",
    "\n",
    "print('\\nRMSE on the validation set: {:.3f} ± {:.3f}'.format(np.sqrt(-cv_results.test_mean()),\n",
    "                                                             np.sqrt(cv_results.test_std())\n",
    "                                                            )\n",
    "     )"
   ]
  },
  {
   "cell_type": "markdown",
   "metadata": {},
   "source": [
    "### [Histogram Based Gradient Boosting Regressor](https://scikit-learn.org/stable/modules/generated/sklearn.ensemble.HistGradientBoostingRegressor.html)\n",
    "\n",
    "We consider the new (still _experimental_) version of _Scikit_ **gradient boosting** algorithm, which is **histogram bases**. This should automatically handle _NaN_ gradients and be quite faster than the usual implementation. We will consider the followin hyperparameters:\n",
    "\n",
    "- `loss` $\\in \\lbrace least\\_squares, least\\_absolute\\_deviation \\rbrace$,\n",
    "- `learning_rate` $\\in \\left[ 10^{-4}, 10^{-1} \\right]$,\n",
    "- `max_iter` $\\in \\left[ 10, 300 \\right]$,\n",
    "- `max_depth` $\\in \\left[ 2, 100 \\right]$,\n",
    "- `min_samples_leaf` $\\in \\left[ 10, 100 \\right]$,\n",
    "- `l2_regularization` $\\in \\left[ 10^{-6}, 10^2 \\right]$,\n",
    "- `max_leaf_nodes` $\\in \\left[ 2, 50 \\right]$."
   ]
  },
  {
   "cell_type": "code",
   "execution_count": 29,
   "metadata": {},
   "outputs": [
    {
     "name": "stderr",
     "output_type": "stream",
     "text": [
      "2020-05-11 15:56:29,209: INFO ==> BOOSTED TREES\n",
      "2020-05-11 15:56:29,213: INFO ==> Fitting the estimator...\n",
      "2020-05-11 16:07:55,619: INFO ==> Evaluating the estimator...\n"
     ]
    },
    {
     "name": "stdout",
     "output_type": "stream",
     "text": [
      "\n",
      "Best parameters:\n",
      "\n",
      "    l2_regularization = 0.00524404052618982\n",
      "    learning_rate = 0.05234588205580838\n",
      "    loss = least_squares\n",
      "    max_depth = 41\n",
      "    max_iter = 92\n",
      "    max_leaf_nodes = 16\n",
      "    min_samples_leaf = 10\n",
      "\n",
      "RMSE on the validation set: 0.139 ± 0.072\n"
     ]
    }
   ],
   "source": [
    "from sklearn.experimental import enable_hist_gradient_boosting\n",
    "from sklearn.ensemble     import HistGradientBoostingRegressor\n",
    "from skopt                import BayesSearchCV\n",
    "from skopt.space          import Real, Integer, Categorical\n",
    "from sklearn.metrics      import mean_squared_error\n",
    "from mltools.libscore     import ViewCV\n",
    "from mltools.libplot      import Plot\n",
    "\n",
    "import joblib\n",
    "\n",
    "# parameter dictionary\n",
    "search_params = {'max_iter':          Integer(1.0e1, 3.0e2, prior='log-uniform'),\n",
    "                 'max_depth':         Integer(2, 100,  prior='uniform'),\n",
    "                 'max_leaf_nodes':    Integer(2, 50,   prior='uniform'),\n",
    "                 'min_samples_leaf':  Integer(10, 100, prior='uniform'),\n",
    "                 'learning_rate':     Real(1.0e-4, 1.0e-1, prior='log-uniform'),\n",
    "                 'l2_regularization': Real(1.0e-6, 1.0e2,  prior='log-uniform'),\n",
    "                 'loss':              Categorical(['least_squares', 'least_absolute_deviation'])\n",
    "                } #------------------------------------------------------------------------------------- define the hyperparameter grid\n",
    "\n",
    "# optimization search\n",
    "log.info('BOOSTED TREES')\n",
    "grd_boost = BayesSearchCV(HistGradientBoostingRegressor(scoring='loss', validation_fraction=None, n_iter_no_change=10, random_state=RAND),\n",
    "                          search_spaces=search_params,\n",
    "                          scoring='neg_mean_squared_error',\n",
    "                          n_jobs=-1,\n",
    "                          refit=True,\n",
    "                          n_iter=25,\n",
    "                          random_state=RAND,\n",
    "                          cv=cv\n",
    "                         ) #--------------------------------------------------------------------------- define the optimization estimator\n",
    "\n",
    "# fit the estimator\n",
    "log.info('Fitting the estimator...')\n",
    "grd_boost.fit(features_train, labels_train)\n",
    "\n",
    "# evaluate the estimator\n",
    "log.info('Evaluating the estimator...')\n",
    "cv_results = ViewCV(grd_boost)\n",
    "\n",
    "print('\\nBest parameters:\\n')\n",
    "pretty(cv_results.best_parameters)\n",
    "\n",
    "print('\\nRMSE on the validation set: {:.3f} ± {:.3f}'.format(np.sqrt(-cv_results.test_mean()),\n",
    "                                                             np.sqrt(cv_results.test_std())\n",
    "                                                            )\n",
    "     )"
   ]
  },
  {
   "cell_type": "markdown",
   "metadata": {},
   "source": [
    "## Discussion and Test Set Performance\n",
    "\n",
    "It seems that in general the **linear models** perform at best when **no regularization** is involved, thus the simple **linear regression** model represents a very good baseline for improvement. The **support vector machines** perform better in the presence of a kernel function (**Gaussian** in this case) and improve the results of the linear regression. In principle also the **random forest** regression is a very good prediction algorithm in this case even though it is strongly influenced by the presence of the initial values in the dataset. However, in the family of decision trees, the **boosted trees** vastly outperform the random forest, especially when the initial values are not present. \n",
    "\n",
    "Notice that we applied a scaler at the beginning in order to improve the convergence of the algorithms."
   ]
  },
  {
   "cell_type": "code",
   "execution_count": 30,
   "metadata": {},
   "outputs": [
    {
     "name": "stdout",
     "output_type": "stream",
     "text": [
      "RMSE of the linear regression on the test set: 0.376\n",
      "RMSE of the elastic net on the test set:       0.522\n",
      "RMSE of the ridge on the test set:             0.454\n",
      "RMSE of the linear svr on the test set:        0.479\n",
      "RMSE of the svr on the test set:               0.099\n",
      "RMSE of the random forest on the test set:     0.035\n",
      "RMSE of the boosted trees on the test set:     0.025\n"
     ]
    }
   ],
   "source": [
    "import joblib\n",
    "\n",
    "from sklearn.metrics import mean_squared_error\n",
    "\n",
    "print('RMSE of the linear regression on the test set: {:.3f}'.format(np.sqrt(mean_squared_error(y_true=labels_test, y_pred=lin_reg.best_estimator_.predict(features_test)))))\n",
    "print('RMSE of the elastic net on the test set:       {:.3f}'.format(np.sqrt(mean_squared_error(y_true=labels_test, y_pred=el_net.best_estimator_.predict(features_test)))))\n",
    "print('RMSE of the ridge on the test set:             {:.3f}'.format(np.sqrt(mean_squared_error(y_true=labels_test, y_pred=ridge.best_estimator_.predict(features_test)))))\n",
    "print('RMSE of the linear svr on the test set:        {:.3f}'.format(np.sqrt(mean_squared_error(y_true=labels_test, y_pred=lin_svr.best_estimator_.predict(features_test)))))\n",
    "print('RMSE of the svr on the test set:               {:.3f}'.format(np.sqrt(mean_squared_error(y_true=labels_test, y_pred=svr.best_estimator_.predict(features_test)))))\n",
    "print('RMSE of the random forest on the test set:     {:.3f}'.format(np.sqrt(mean_squared_error(y_true=labels_test, y_pred=rnd_for.best_estimator_.predict(features_test)))))\n",
    "print('RMSE of the boosted trees on the test set:     {:.3f}'.format(np.sqrt(mean_squared_error(y_true=labels_test, y_pred=grd_boost.best_estimator_.predict(features_test)))))"
   ]
  },
  {
   "cell_type": "markdown",
   "metadata": {},
   "source": [
    "We then save the predictions to a JSON file for later use:"
   ]
  },
  {
   "cell_type": "code",
   "execution_count": 31,
   "metadata": {},
   "outputs": [
    {
     "name": "stderr",
     "output_type": "stream",
     "text": [
      "2020-05-11 16:08:08,965: DEBUG ==> Predictions saved to ./output/sft_level_trunc_predictions.json\n"
     ]
    }
   ],
   "source": [
    "import json\n",
    "\n",
    "predictions = {'labels': labels_test.values.tolist(),\n",
    "               'lin_reg': lin_reg.predict(features_test).tolist(),\n",
    "               'el_net':  el_net.predict(features_test).tolist(),\n",
    "               'ridge':   ridge.predict(features_test).tolist(),\n",
    "               'lin_svr': lin_svr.predict(features_test).tolist(),\n",
    "               'svr_rbf': svr.predict(features_test).tolist(),\n",
    "               'rnd_for': rnd_for.predict(features_test).tolist(),\n",
    "               'grd_boost': grd_boost.predict(features_test).tolist(),\n",
    "              }\n",
    "\n",
    "with open(path.join(OUT_PATH, 'sft_level_trunc_predictions.json'), 'w') as f:\n",
    "    json.dump(predictions, f)\n",
    "    \n",
    "log.debug('Predictions saved to {}'.format(path.join(OUT_PATH, 'sft_level_trunc_predictions.json')))"
   ]
  }
 ],
 "metadata": {
  "kernelspec": {
   "display_name": "Python 3",
   "language": "python",
   "name": "python3"
  },
  "language_info": {
   "codemirror_mode": {
    "name": "ipython",
    "version": 3
   },
   "file_extension": ".py",
   "mimetype": "text/x-python",
   "name": "python",
   "nbconvert_exporter": "python",
   "pygments_lexer": "ipython3",
   "version": "3.7.6"
  }
 },
 "nbformat": 4,
 "nbformat_minor": 4
}
