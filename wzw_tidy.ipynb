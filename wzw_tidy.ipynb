{
 "cells": [
  {
   "cell_type": "markdown",
   "metadata": {
    "papermill": {
     "duration": 0.016068,
     "end_time": "2020-08-28T17:24:31.122364",
     "exception": false,
     "start_time": "2020-08-28T17:24:31.106296",
     "status": "completed"
    },
    "tags": []
   },
   "source": [
    "# Machine Learning for String Field Theory\n",
    "\n",
    "*H. Erbin, R. Finotello, M. Kudrna, M. Schnabl*\n",
    "\n",
    "## Abstract\n",
    "\n",
    "In the framework of bosonic **Open String Field Theory** (OSFT), we consider several observables characterised by conformal weight, periodicity of the oscillations and the position of vacua in the potential for various values of truncated mass level.\n",
    "We focus on the prediction of the extrapolated value for the level-$\\infty$ truncation using Machine Learning (ML) techniques.\n",
    "\n",
    "## Synopsis\n",
    "\n",
    "In this notebook we tidy and convert the datasets from their original format of the **WZW model** to a CSV-like format for training and predictions.\n",
    "\n",
    "## General Observations\n",
    "\n",
    "Each entry in the datasets represents one observable in OSFT.\n",
    "Since these observables are represented by vector entries in the dataset, we build a new dataset flattened over the columns.\n",
    "\n",
    "Together with the features labelling the observable, we also have the values of such observable at different truncation levels.\n",
    "The purpose of the analysis is eventually to compute the extrapolated values at $\\infty$ level truncation.\n",
    "The data is therefore twofold: some variable are labelling the observable, while the values of the truncation levels should then be compared with the values at $\\infty$.\n",
    "\n",
    "Notice that the finite truncation levels are in general complex, while the observables can be made real by taking linear combinations."
   ]
  },
  {
   "cell_type": "code",
   "execution_count": 1,
   "metadata": {
    "execution": {
     "iopub.execute_input": "2020-08-28T17:24:31.149731Z",
     "iopub.status.busy": "2020-08-28T17:24:31.147802Z",
     "iopub.status.idle": "2020-08-28T17:24:31.299604Z",
     "shell.execute_reply": "2020-08-28T17:24:31.299324Z"
    },
    "papermill": {
     "duration": 0.16566,
     "end_time": "2020-08-28T17:24:31.299679",
     "exception": false,
     "start_time": "2020-08-28T17:24:31.134019",
     "status": "completed"
    },
    "tags": []
   },
   "outputs": [],
   "source": [
    "%load_ext autoreload\n",
    "%autoreload 2\n",
    "\n",
    "import pandas as pd\n",
    "import numpy as np\n",
    "import re\n",
    "import os"
   ]
  },
  {
   "cell_type": "code",
   "execution_count": 2,
   "metadata": {
    "execution": {
     "iopub.execute_input": "2020-08-28T17:24:31.328667Z",
     "iopub.status.busy": "2020-08-28T17:24:31.328395Z",
     "iopub.status.idle": "2020-08-28T17:24:31.329592Z",
     "shell.execute_reply": "2020-08-28T17:24:31.329811Z"
    },
    "papermill": {
     "duration": 0.018776,
     "end_time": "2020-08-28T17:24:31.329877",
     "exception": false,
     "start_time": "2020-08-28T17:24:31.311101",
     "status": "completed"
    },
    "tags": []
   },
   "outputs": [],
   "source": [
    "# create shortcuts for paths\n",
    "proot = lambda s: os.path.join('.', s)\n",
    "pdata = lambda s: os.path.join(proot('data'), s)"
   ]
  },
  {
   "cell_type": "markdown",
   "metadata": {
    "papermill": {
     "duration": 0.011078,
     "end_time": "2020-08-28T17:24:31.357555",
     "exception": false,
     "start_time": "2020-08-28T17:24:31.346477",
     "status": "completed"
    },
    "tags": []
   },
   "source": [
    "## Load the Dataset"
   ]
  },
  {
   "cell_type": "code",
   "execution_count": 3,
   "metadata": {
    "execution": {
     "iopub.execute_input": "2020-08-28T17:24:31.387477Z",
     "iopub.status.busy": "2020-08-28T17:24:31.386864Z",
     "iopub.status.idle": "2020-08-28T17:24:31.403950Z",
     "shell.execute_reply": "2020-08-28T17:24:31.404155Z"
    },
    "papermill": {
     "duration": 0.035456,
     "end_time": "2020-08-28T17:24:31.404234",
     "exception": false,
     "start_time": "2020-08-28T17:24:31.368778",
     "status": "completed"
    },
    "tags": []
   },
   "outputs": [],
   "source": [
    "df_re = pd.read_json(pdata('mathematica_wzw_real.json'))\n",
    "df_im = pd.read_json(pdata('mathematica_wzw_imaginary.json'))"
   ]
  },
  {
   "cell_type": "code",
   "execution_count": 4,
   "metadata": {
    "execution": {
     "iopub.execute_input": "2020-08-28T17:24:31.431816Z",
     "iopub.status.busy": "2020-08-28T17:24:31.428223Z",
     "iopub.status.idle": "2020-08-28T17:24:31.437473Z",
     "shell.execute_reply": "2020-08-28T17:24:31.437695Z"
    },
    "papermill": {
     "duration": 0.022033,
     "end_time": "2020-08-28T17:24:31.437764",
     "exception": false,
     "start_time": "2020-08-28T17:24:31.415731",
     "status": "completed"
    },
    "tags": []
   },
   "outputs": [
    {
     "name": "stdout",
     "output_type": "stream",
     "text": [
      "<class 'pandas.core.frame.DataFrame'>\n",
      "RangeIndex: 46 entries, 0 to 45\n",
      "Data columns (total 19 columns):\n",
      " #   Column  Non-Null Count  Dtype \n",
      "---  ------  --------------  ----- \n",
      " 0   k       46 non-null     object\n",
      " 1   exp     46 non-null     object\n",
      " 2   weight  46 non-null     object\n",
      " 3   j       46 non-null     object\n",
      " 4   m       46 non-null     object\n",
      " 5   type    46 non-null     object\n",
      " 6   2.      46 non-null     object\n",
      " 7   3.      46 non-null     object\n",
      " 8   4.      46 non-null     object\n",
      " 9   5.      46 non-null     object\n",
      " 10  6.      46 non-null     object\n",
      " 11  7.      46 non-null     object\n",
      " 12  8.      46 non-null     object\n",
      " 13  9.      46 non-null     object\n",
      " 14  10.     46 non-null     object\n",
      " 15  11.     15 non-null     object\n",
      " 16  12.     2 non-null      object\n",
      " 17  13.     1 non-null      object\n",
      " 18  14.     1 non-null      object\n",
      "dtypes: object(19)\n",
      "memory usage: 7.0+ KB\n"
     ]
    }
   ],
   "source": [
    "df_re.info()"
   ]
  },
  {
   "cell_type": "code",
   "execution_count": 5,
   "metadata": {
    "execution": {
     "iopub.execute_input": "2020-08-28T17:24:31.470100Z",
     "iopub.status.busy": "2020-08-28T17:24:31.469624Z",
     "iopub.status.idle": "2020-08-28T17:24:31.470992Z",
     "shell.execute_reply": "2020-08-28T17:24:31.471197Z"
    },
    "papermill": {
     "duration": 0.021947,
     "end_time": "2020-08-28T17:24:31.471262",
     "exception": false,
     "start_time": "2020-08-28T17:24:31.449315",
     "status": "completed"
    },
    "tags": []
   },
   "outputs": [
    {
     "name": "stdout",
     "output_type": "stream",
     "text": [
      "<class 'pandas.core.frame.DataFrame'>\n",
      "RangeIndex: 46 entries, 0 to 45\n",
      "Data columns (total 19 columns):\n",
      " #   Column  Non-Null Count  Dtype \n",
      "---  ------  --------------  ----- \n",
      " 0   k       46 non-null     object\n",
      " 1   exp     46 non-null     object\n",
      " 2   weight  46 non-null     object\n",
      " 3   j       46 non-null     object\n",
      " 4   m       46 non-null     object\n",
      " 5   type    46 non-null     object\n",
      " 6   2.      46 non-null     object\n",
      " 7   3.      46 non-null     object\n",
      " 8   4.      46 non-null     object\n",
      " 9   5.      46 non-null     object\n",
      " 10  6.      46 non-null     object\n",
      " 11  7.      46 non-null     object\n",
      " 12  8.      46 non-null     object\n",
      " 13  9.      46 non-null     object\n",
      " 14  10.     46 non-null     object\n",
      " 15  11.     15 non-null     object\n",
      " 16  12.     2 non-null      object\n",
      " 17  13.     1 non-null      object\n",
      " 18  14.     1 non-null      object\n",
      "dtypes: object(19)\n",
      "memory usage: 7.0+ KB\n"
     ]
    }
   ],
   "source": [
    "df_im.info()"
   ]
  },
  {
   "cell_type": "markdown",
   "metadata": {
    "papermill": {
     "duration": 0.011413,
     "end_time": "2020-08-28T17:24:31.494189",
     "exception": false,
     "start_time": "2020-08-28T17:24:31.482776",
     "status": "completed"
    },
    "tags": []
   },
   "source": [
    "The dataset is made of 46 non-null vector entries (the dataset is not complete).\n",
    "We need to:\n",
    "\n",
    "1. remove non complete entries or variables,\n",
    "2. rename the variables of the truncation levels to be human manageable,\n",
    "3. flatten the entries,\n",
    "5. get the dummy variables for the type of oscillations,\n",
    "6. create entries for the levels in order to have both the complex and separate formulation."
   ]
  },
  {
   "cell_type": "markdown",
   "metadata": {
    "papermill": {
     "duration": 0.011461,
     "end_time": "2020-08-28T17:24:31.517077",
     "exception": false,
     "start_time": "2020-08-28T17:24:31.505616",
     "status": "completed"
    },
    "tags": []
   },
   "source": [
    "## Remove Incomplete Variables"
   ]
  },
  {
   "cell_type": "code",
   "execution_count": 6,
   "metadata": {
    "execution": {
     "iopub.execute_input": "2020-08-28T17:24:31.546843Z",
     "iopub.status.busy": "2020-08-28T17:24:31.541705Z",
     "iopub.status.idle": "2020-08-28T17:24:31.548524Z",
     "shell.execute_reply": "2020-08-28T17:24:31.548161Z"
    },
    "papermill": {
     "duration": 0.019847,
     "end_time": "2020-08-28T17:24:31.548615",
     "exception": false,
     "start_time": "2020-08-28T17:24:31.528768",
     "status": "completed"
    },
    "tags": []
   },
   "outputs": [],
   "source": [
    "df_re = df_re.drop(columns=['11.', '12.', '13.', '14.'])\n",
    "df_im = df_im.drop(columns=['11.', '12.', '13.', '14.'])"
   ]
  },
  {
   "cell_type": "markdown",
   "metadata": {
    "papermill": {
     "duration": 0.011406,
     "end_time": "2020-08-28T17:24:31.576245",
     "exception": false,
     "start_time": "2020-08-28T17:24:31.564839",
     "status": "completed"
    },
    "tags": []
   },
   "source": [
    "## Rename the columns"
   ]
  },
  {
   "cell_type": "code",
   "execution_count": 7,
   "metadata": {
    "execution": {
     "iopub.execute_input": "2020-08-28T17:24:31.606428Z",
     "iopub.status.busy": "2020-08-28T17:24:31.606008Z",
     "iopub.status.idle": "2020-08-28T17:24:31.606879Z",
     "shell.execute_reply": "2020-08-28T17:24:31.607231Z"
    },
    "papermill": {
     "duration": 0.019707,
     "end_time": "2020-08-28T17:24:31.607334",
     "exception": false,
     "start_time": "2020-08-28T17:24:31.587627",
     "status": "completed"
    },
    "tags": []
   },
   "outputs": [],
   "source": [
    "columns = lambda c: re.sub(r'(.*)[.]', r'level_\\1', c)\n",
    "df_re = df_re.rename(columns=columns)\n",
    "df_im = df_im.rename(columns=columns)"
   ]
  },
  {
   "cell_type": "code",
   "execution_count": 8,
   "metadata": {
    "execution": {
     "iopub.execute_input": "2020-08-28T17:24:31.639299Z",
     "iopub.status.busy": "2020-08-28T17:24:31.635738Z",
     "iopub.status.idle": "2020-08-28T17:24:31.643659Z",
     "shell.execute_reply": "2020-08-28T17:24:31.643851Z"
    },
    "papermill": {
     "duration": 0.021131,
     "end_time": "2020-08-28T17:24:31.643917",
     "exception": false,
     "start_time": "2020-08-28T17:24:31.622786",
     "status": "completed"
    },
    "tags": []
   },
   "outputs": [
    {
     "name": "stdout",
     "output_type": "stream",
     "text": [
      "<class 'pandas.core.frame.DataFrame'>\n",
      "RangeIndex: 46 entries, 0 to 45\n",
      "Data columns (total 15 columns):\n",
      " #   Column    Non-Null Count  Dtype \n",
      "---  ------    --------------  ----- \n",
      " 0   k         46 non-null     object\n",
      " 1   exp       46 non-null     object\n",
      " 2   weight    46 non-null     object\n",
      " 3   j         46 non-null     object\n",
      " 4   m         46 non-null     object\n",
      " 5   type      46 non-null     object\n",
      " 6   level_2   46 non-null     object\n",
      " 7   level_3   46 non-null     object\n",
      " 8   level_4   46 non-null     object\n",
      " 9   level_5   46 non-null     object\n",
      " 10  level_6   46 non-null     object\n",
      " 11  level_7   46 non-null     object\n",
      " 12  level_8   46 non-null     object\n",
      " 13  level_9   46 non-null     object\n",
      " 14  level_10  46 non-null     object\n",
      "dtypes: object(15)\n",
      "memory usage: 5.5+ KB\n"
     ]
    }
   ],
   "source": [
    "df_re.info()"
   ]
  },
  {
   "cell_type": "code",
   "execution_count": 9,
   "metadata": {
    "execution": {
     "iopub.execute_input": "2020-08-28T17:24:31.679762Z",
     "iopub.status.busy": "2020-08-28T17:24:31.676333Z",
     "iopub.status.idle": "2020-08-28T17:24:31.681650Z",
     "shell.execute_reply": "2020-08-28T17:24:31.681286Z"
    },
    "papermill": {
     "duration": 0.022647,
     "end_time": "2020-08-28T17:24:31.681735",
     "exception": false,
     "start_time": "2020-08-28T17:24:31.659088",
     "status": "completed"
    },
    "tags": []
   },
   "outputs": [
    {
     "name": "stdout",
     "output_type": "stream",
     "text": [
      "<class 'pandas.core.frame.DataFrame'>\n",
      "RangeIndex: 46 entries, 0 to 45\n",
      "Data columns (total 15 columns):\n",
      " #   Column    Non-Null Count  Dtype \n",
      "---  ------    --------------  ----- \n",
      " 0   k         46 non-null     object\n",
      " 1   exp       46 non-null     object\n",
      " 2   weight    46 non-null     object\n",
      " 3   j         46 non-null     object\n",
      " 4   m         46 non-null     object\n",
      " 5   type      46 non-null     object\n",
      " 6   level_2   46 non-null     object\n",
      " 7   level_3   46 non-null     object\n",
      " 8   level_4   46 non-null     object\n",
      " 9   level_5   46 non-null     object\n",
      " 10  level_6   46 non-null     object\n",
      " 11  level_7   46 non-null     object\n",
      " 12  level_8   46 non-null     object\n",
      " 13  level_9   46 non-null     object\n",
      " 14  level_10  46 non-null     object\n",
      "dtypes: object(15)\n",
      "memory usage: 5.5+ KB\n"
     ]
    }
   ],
   "source": [
    "df_im.info()"
   ]
  },
  {
   "cell_type": "markdown",
   "metadata": {
    "papermill": {
     "duration": 0.011509,
     "end_time": "2020-08-28T17:24:31.712929",
     "exception": false,
     "start_time": "2020-08-28T17:24:31.701420",
     "status": "completed"
    },
    "tags": []
   },
   "source": [
    "## Flatten the Entries"
   ]
  },
  {
   "cell_type": "code",
   "execution_count": 10,
   "metadata": {
    "execution": {
     "iopub.execute_input": "2020-08-28T17:24:31.742671Z",
     "iopub.status.busy": "2020-08-28T17:24:31.737815Z",
     "iopub.status.idle": "2020-08-28T17:24:31.779735Z",
     "shell.execute_reply": "2020-08-28T17:24:31.779263Z"
    },
    "papermill": {
     "duration": 0.055204,
     "end_time": "2020-08-28T17:24:31.779832",
     "exception": false,
     "start_time": "2020-08-28T17:24:31.724628",
     "status": "completed"
    },
    "tags": []
   },
   "outputs": [
    {
     "name": "stdout",
     "output_type": "stream",
     "text": [
      "<class 'pandas.core.frame.DataFrame'>\n",
      "Int64Index: 1680 entries, 0 to 49\n",
      "Data columns (total 15 columns):\n",
      " #   Column    Non-Null Count  Dtype  \n",
      "---  ------    --------------  -----  \n",
      " 0   k         1680 non-null   float64\n",
      " 1   exp       1680 non-null   float64\n",
      " 2   weight    1680 non-null   float64\n",
      " 3   j         1680 non-null   float64\n",
      " 4   m         1680 non-null   float64\n",
      " 5   type      1680 non-null   float64\n",
      " 6   level_2   1680 non-null   float64\n",
      " 7   level_3   1680 non-null   float64\n",
      " 8   level_4   1680 non-null   float64\n",
      " 9   level_5   1680 non-null   float64\n",
      " 10  level_6   1680 non-null   float64\n",
      " 11  level_7   1680 non-null   float64\n",
      " 12  level_8   1680 non-null   float64\n",
      " 13  level_9   1680 non-null   float64\n",
      " 14  level_10  1680 non-null   float64\n",
      "dtypes: float64(15)\n",
      "memory usage: 210.0 KB\n"
     ]
    }
   ],
   "source": [
    "df_re = pd.concat([pd.DataFrame({f: df_re[f].iloc[n] for f in df_re}) for n in range(df_re.shape[0])], axis=0)\n",
    "df_re.info()"
   ]
  },
  {
   "cell_type": "code",
   "execution_count": 11,
   "metadata": {
    "execution": {
     "iopub.execute_input": "2020-08-28T17:24:31.809410Z",
     "iopub.status.busy": "2020-08-28T17:24:31.809167Z",
     "iopub.status.idle": "2020-08-28T17:24:31.860335Z",
     "shell.execute_reply": "2020-08-28T17:24:31.859928Z"
    },
    "papermill": {
     "duration": 0.064831,
     "end_time": "2020-08-28T17:24:31.860432",
     "exception": false,
     "start_time": "2020-08-28T17:24:31.795601",
     "status": "completed"
    },
    "tags": []
   },
   "outputs": [
    {
     "name": "stdout",
     "output_type": "stream",
     "text": [
      "<class 'pandas.core.frame.DataFrame'>\n",
      "Int64Index: 1680 entries, 0 to 49\n",
      "Data columns (total 15 columns):\n",
      " #   Column    Non-Null Count  Dtype  \n",
      "---  ------    --------------  -----  \n",
      " 0   k         1680 non-null   int64  \n",
      " 1   exp       1680 non-null   float64\n",
      " 2   weight    1680 non-null   int64  \n",
      " 3   j         1680 non-null   int64  \n",
      " 4   m         1680 non-null   int64  \n",
      " 5   type      1680 non-null   int64  \n",
      " 6   level_2   1680 non-null   float64\n",
      " 7   level_3   1680 non-null   float64\n",
      " 8   level_4   1680 non-null   float64\n",
      " 9   level_5   1680 non-null   float64\n",
      " 10  level_6   1680 non-null   float64\n",
      " 11  level_7   1680 non-null   float64\n",
      " 12  level_8   1680 non-null   float64\n",
      " 13  level_9   1680 non-null   float64\n",
      " 14  level_10  1680 non-null   float64\n",
      "dtypes: float64(10), int64(5)\n",
      "memory usage: 210.0 KB\n"
     ]
    }
   ],
   "source": [
    "df_im = pd.concat([pd.DataFrame({f: df_im[f].iloc[n] for f in df_im}) for n in range(df_im.shape[0])], axis=0)\n",
    "df_im.info()"
   ]
  },
  {
   "cell_type": "code",
   "execution_count": 12,
   "metadata": {
    "execution": {
     "iopub.execute_input": "2020-08-28T17:24:31.889749Z",
     "iopub.status.busy": "2020-08-28T17:24:31.889510Z",
     "iopub.status.idle": "2020-08-28T17:24:31.919922Z",
     "shell.execute_reply": "2020-08-28T17:24:31.920341Z"
    },
    "papermill": {
     "duration": 0.04449,
     "end_time": "2020-08-28T17:24:31.920461",
     "exception": false,
     "start_time": "2020-08-28T17:24:31.875971",
     "status": "completed"
    },
    "tags": []
   },
   "outputs": [
    {
     "data": {
      "text/html": [
       "<div>\n",
       "<style scoped>\n",
       "    .dataframe tbody tr th:only-of-type {\n",
       "        vertical-align: middle;\n",
       "    }\n",
       "\n",
       "    .dataframe tbody tr th {\n",
       "        vertical-align: top;\n",
       "    }\n",
       "\n",
       "    .dataframe thead th {\n",
       "        text-align: right;\n",
       "    }\n",
       "</style>\n",
       "<table border=\"1\" class=\"dataframe\">\n",
       "  <thead>\n",
       "    <tr style=\"text-align: right;\">\n",
       "      <th></th>\n",
       "      <th>k</th>\n",
       "      <th>exp</th>\n",
       "      <th>weight</th>\n",
       "      <th>j</th>\n",
       "      <th>m</th>\n",
       "      <th>type</th>\n",
       "      <th>level_2</th>\n",
       "      <th>level_3</th>\n",
       "      <th>level_4</th>\n",
       "      <th>level_5</th>\n",
       "      <th>level_6</th>\n",
       "      <th>level_7</th>\n",
       "      <th>level_8</th>\n",
       "      <th>level_9</th>\n",
       "      <th>level_10</th>\n",
       "    </tr>\n",
       "  </thead>\n",
       "  <tbody>\n",
       "    <tr>\n",
       "      <th>count</th>\n",
       "      <td>1680.000000</td>\n",
       "      <td>1680.000000</td>\n",
       "      <td>1680.000000</td>\n",
       "      <td>1680.000000</td>\n",
       "      <td>1680.000000</td>\n",
       "      <td>1680.000000</td>\n",
       "      <td>1680.000000</td>\n",
       "      <td>1680.000000</td>\n",
       "      <td>1680.000000</td>\n",
       "      <td>1680.000000</td>\n",
       "      <td>1680.000000</td>\n",
       "      <td>1680.000000</td>\n",
       "      <td>1680.000000</td>\n",
       "      <td>1680.000000</td>\n",
       "      <td>1680.000000</td>\n",
       "    </tr>\n",
       "    <tr>\n",
       "      <th>mean</th>\n",
       "      <td>6.777381</td>\n",
       "      <td>0.038664</td>\n",
       "      <td>0.904315</td>\n",
       "      <td>1.971429</td>\n",
       "      <td>0.000000</td>\n",
       "      <td>3.890476</td>\n",
       "      <td>-0.077024</td>\n",
       "      <td>-0.079294</td>\n",
       "      <td>0.089836</td>\n",
       "      <td>0.078986</td>\n",
       "      <td>-0.011237</td>\n",
       "      <td>-0.003376</td>\n",
       "      <td>0.075769</td>\n",
       "      <td>0.069030</td>\n",
       "      <td>-0.008013</td>\n",
       "    </tr>\n",
       "    <tr>\n",
       "      <th>std</th>\n",
       "      <td>1.314858</td>\n",
       "      <td>0.594829</td>\n",
       "      <td>0.588936</td>\n",
       "      <td>1.263905</td>\n",
       "      <td>1.576801</td>\n",
       "      <td>0.455165</td>\n",
       "      <td>2.614227</td>\n",
       "      <td>2.648262</td>\n",
       "      <td>1.286826</td>\n",
       "      <td>1.317507</td>\n",
       "      <td>1.384471</td>\n",
       "      <td>1.436868</td>\n",
       "      <td>1.518934</td>\n",
       "      <td>1.578406</td>\n",
       "      <td>1.722916</td>\n",
       "    </tr>\n",
       "    <tr>\n",
       "      <th>min</th>\n",
       "      <td>2.000000</td>\n",
       "      <td>-1.519671</td>\n",
       "      <td>0.000000</td>\n",
       "      <td>0.000000</td>\n",
       "      <td>-4.000000</td>\n",
       "      <td>2.000000</td>\n",
       "      <td>-26.284377</td>\n",
       "      <td>-26.284377</td>\n",
       "      <td>-8.757038</td>\n",
       "      <td>-9.252983</td>\n",
       "      <td>-10.978029</td>\n",
       "      <td>-11.445648</td>\n",
       "      <td>-13.721069</td>\n",
       "      <td>-14.249796</td>\n",
       "      <td>-24.994666</td>\n",
       "    </tr>\n",
       "    <tr>\n",
       "      <th>25%</th>\n",
       "      <td>6.000000</td>\n",
       "      <td>-0.437426</td>\n",
       "      <td>0.416667</td>\n",
       "      <td>1.000000</td>\n",
       "      <td>-1.000000</td>\n",
       "      <td>4.000000</td>\n",
       "      <td>-0.570279</td>\n",
       "      <td>-0.601505</td>\n",
       "      <td>-0.487621</td>\n",
       "      <td>-0.460953</td>\n",
       "      <td>-0.530362</td>\n",
       "      <td>-0.535451</td>\n",
       "      <td>-0.494487</td>\n",
       "      <td>-0.482390</td>\n",
       "      <td>-0.485126</td>\n",
       "    </tr>\n",
       "    <tr>\n",
       "      <th>50%</th>\n",
       "      <td>7.000000</td>\n",
       "      <td>0.000000</td>\n",
       "      <td>0.972222</td>\n",
       "      <td>2.000000</td>\n",
       "      <td>0.000000</td>\n",
       "      <td>4.000000</td>\n",
       "      <td>0.000000</td>\n",
       "      <td>0.000000</td>\n",
       "      <td>0.018674</td>\n",
       "      <td>0.016188</td>\n",
       "      <td>0.000000</td>\n",
       "      <td>0.000000</td>\n",
       "      <td>0.008034</td>\n",
       "      <td>0.006125</td>\n",
       "      <td>0.000000</td>\n",
       "    </tr>\n",
       "    <tr>\n",
       "      <th>75%</th>\n",
       "      <td>8.000000</td>\n",
       "      <td>0.500705</td>\n",
       "      <td>1.333333</td>\n",
       "      <td>3.000000</td>\n",
       "      <td>1.000000</td>\n",
       "      <td>4.000000</td>\n",
       "      <td>0.586592</td>\n",
       "      <td>0.619976</td>\n",
       "      <td>0.611741</td>\n",
       "      <td>0.585377</td>\n",
       "      <td>0.536852</td>\n",
       "      <td>0.556819</td>\n",
       "      <td>0.597575</td>\n",
       "      <td>0.589435</td>\n",
       "      <td>0.506648</td>\n",
       "    </tr>\n",
       "    <tr>\n",
       "      <th>max</th>\n",
       "      <td>8.000000</td>\n",
       "      <td>1.414214</td>\n",
       "      <td>2.000000</td>\n",
       "      <td>4.000000</td>\n",
       "      <td>4.000000</td>\n",
       "      <td>4.000000</td>\n",
       "      <td>35.385221</td>\n",
       "      <td>35.385221</td>\n",
       "      <td>11.673646</td>\n",
       "      <td>11.673646</td>\n",
       "      <td>10.978029</td>\n",
       "      <td>11.445648</td>\n",
       "      <td>18.673134</td>\n",
       "      <td>20.051284</td>\n",
       "      <td>15.315423</td>\n",
       "    </tr>\n",
       "  </tbody>\n",
       "</table>\n",
       "</div>"
      ],
      "text/plain": [
       "                 k          exp       weight            j            m  \\\n",
       "count  1680.000000  1680.000000  1680.000000  1680.000000  1680.000000   \n",
       "mean      6.777381     0.038664     0.904315     1.971429     0.000000   \n",
       "std       1.314858     0.594829     0.588936     1.263905     1.576801   \n",
       "min       2.000000    -1.519671     0.000000     0.000000    -4.000000   \n",
       "25%       6.000000    -0.437426     0.416667     1.000000    -1.000000   \n",
       "50%       7.000000     0.000000     0.972222     2.000000     0.000000   \n",
       "75%       8.000000     0.500705     1.333333     3.000000     1.000000   \n",
       "max       8.000000     1.414214     2.000000     4.000000     4.000000   \n",
       "\n",
       "              type      level_2      level_3      level_4      level_5  \\\n",
       "count  1680.000000  1680.000000  1680.000000  1680.000000  1680.000000   \n",
       "mean      3.890476    -0.077024    -0.079294     0.089836     0.078986   \n",
       "std       0.455165     2.614227     2.648262     1.286826     1.317507   \n",
       "min       2.000000   -26.284377   -26.284377    -8.757038    -9.252983   \n",
       "25%       4.000000    -0.570279    -0.601505    -0.487621    -0.460953   \n",
       "50%       4.000000     0.000000     0.000000     0.018674     0.016188   \n",
       "75%       4.000000     0.586592     0.619976     0.611741     0.585377   \n",
       "max       4.000000    35.385221    35.385221    11.673646    11.673646   \n",
       "\n",
       "           level_6      level_7      level_8      level_9     level_10  \n",
       "count  1680.000000  1680.000000  1680.000000  1680.000000  1680.000000  \n",
       "mean     -0.011237    -0.003376     0.075769     0.069030    -0.008013  \n",
       "std       1.384471     1.436868     1.518934     1.578406     1.722916  \n",
       "min     -10.978029   -11.445648   -13.721069   -14.249796   -24.994666  \n",
       "25%      -0.530362    -0.535451    -0.494487    -0.482390    -0.485126  \n",
       "50%       0.000000     0.000000     0.008034     0.006125     0.000000  \n",
       "75%       0.536852     0.556819     0.597575     0.589435     0.506648  \n",
       "max      10.978029    11.445648    18.673134    20.051284    15.315423  "
      ]
     },
     "execution_count": 12,
     "metadata": {},
     "output_type": "execute_result"
    }
   ],
   "source": [
    "df_re.describe()"
   ]
  },
  {
   "cell_type": "code",
   "execution_count": 13,
   "metadata": {
    "execution": {
     "iopub.execute_input": "2020-08-28T17:24:31.949832Z",
     "iopub.status.busy": "2020-08-28T17:24:31.949594Z",
     "iopub.status.idle": "2020-08-28T17:24:31.977358Z",
     "shell.execute_reply": "2020-08-28T17:24:31.976925Z"
    },
    "papermill": {
     "duration": 0.04116,
     "end_time": "2020-08-28T17:24:31.977460",
     "exception": false,
     "start_time": "2020-08-28T17:24:31.936300",
     "status": "completed"
    },
    "tags": []
   },
   "outputs": [
    {
     "data": {
      "text/html": [
       "<div>\n",
       "<style scoped>\n",
       "    .dataframe tbody tr th:only-of-type {\n",
       "        vertical-align: middle;\n",
       "    }\n",
       "\n",
       "    .dataframe tbody tr th {\n",
       "        vertical-align: top;\n",
       "    }\n",
       "\n",
       "    .dataframe thead th {\n",
       "        text-align: right;\n",
       "    }\n",
       "</style>\n",
       "<table border=\"1\" class=\"dataframe\">\n",
       "  <thead>\n",
       "    <tr style=\"text-align: right;\">\n",
       "      <th></th>\n",
       "      <th>k</th>\n",
       "      <th>exp</th>\n",
       "      <th>weight</th>\n",
       "      <th>j</th>\n",
       "      <th>m</th>\n",
       "      <th>type</th>\n",
       "      <th>level_2</th>\n",
       "      <th>level_3</th>\n",
       "      <th>level_4</th>\n",
       "      <th>level_5</th>\n",
       "      <th>level_6</th>\n",
       "      <th>level_7</th>\n",
       "      <th>level_8</th>\n",
       "      <th>level_9</th>\n",
       "      <th>level_10</th>\n",
       "    </tr>\n",
       "  </thead>\n",
       "  <tbody>\n",
       "    <tr>\n",
       "      <th>count</th>\n",
       "      <td>1680.0</td>\n",
       "      <td>1680.000000</td>\n",
       "      <td>1680.0</td>\n",
       "      <td>1680.0</td>\n",
       "      <td>1680.0</td>\n",
       "      <td>1680.0</td>\n",
       "      <td>1680.000000</td>\n",
       "      <td>1680.000000</td>\n",
       "      <td>1680.000000</td>\n",
       "      <td>1680.000000</td>\n",
       "      <td>1680.000000</td>\n",
       "      <td>1680.000000</td>\n",
       "      <td>1680.000000</td>\n",
       "      <td>1680.000000</td>\n",
       "      <td>1680.000000</td>\n",
       "    </tr>\n",
       "    <tr>\n",
       "      <th>mean</th>\n",
       "      <td>0.0</td>\n",
       "      <td>-0.001853</td>\n",
       "      <td>0.0</td>\n",
       "      <td>0.0</td>\n",
       "      <td>0.0</td>\n",
       "      <td>0.0</td>\n",
       "      <td>-0.005670</td>\n",
       "      <td>-0.009452</td>\n",
       "      <td>-0.001553</td>\n",
       "      <td>0.003396</td>\n",
       "      <td>-0.001987</td>\n",
       "      <td>-0.014919</td>\n",
       "      <td>-0.010940</td>\n",
       "      <td>0.009722</td>\n",
       "      <td>0.006753</td>\n",
       "    </tr>\n",
       "    <tr>\n",
       "      <th>std</th>\n",
       "      <td>0.0</td>\n",
       "      <td>0.298647</td>\n",
       "      <td>0.0</td>\n",
       "      <td>0.0</td>\n",
       "      <td>0.0</td>\n",
       "      <td>0.0</td>\n",
       "      <td>0.234921</td>\n",
       "      <td>0.371899</td>\n",
       "      <td>0.352832</td>\n",
       "      <td>0.353773</td>\n",
       "      <td>0.368500</td>\n",
       "      <td>0.443906</td>\n",
       "      <td>0.471528</td>\n",
       "      <td>0.623249</td>\n",
       "      <td>0.657285</td>\n",
       "    </tr>\n",
       "    <tr>\n",
       "      <th>min</th>\n",
       "      <td>0.0</td>\n",
       "      <td>-0.930605</td>\n",
       "      <td>0.0</td>\n",
       "      <td>0.0</td>\n",
       "      <td>0.0</td>\n",
       "      <td>0.0</td>\n",
       "      <td>-1.867961</td>\n",
       "      <td>-1.969113</td>\n",
       "      <td>-1.930349</td>\n",
       "      <td>-2.005075</td>\n",
       "      <td>-2.287981</td>\n",
       "      <td>-3.646223</td>\n",
       "      <td>-4.023181</td>\n",
       "      <td>-6.650984</td>\n",
       "      <td>-7.174097</td>\n",
       "    </tr>\n",
       "    <tr>\n",
       "      <th>25%</th>\n",
       "      <td>0.0</td>\n",
       "      <td>0.000000</td>\n",
       "      <td>0.0</td>\n",
       "      <td>0.0</td>\n",
       "      <td>0.0</td>\n",
       "      <td>0.0</td>\n",
       "      <td>0.000000</td>\n",
       "      <td>0.000000</td>\n",
       "      <td>0.000000</td>\n",
       "      <td>0.000000</td>\n",
       "      <td>0.000000</td>\n",
       "      <td>0.000000</td>\n",
       "      <td>0.000000</td>\n",
       "      <td>0.000000</td>\n",
       "      <td>0.000000</td>\n",
       "    </tr>\n",
       "    <tr>\n",
       "      <th>50%</th>\n",
       "      <td>0.0</td>\n",
       "      <td>0.000000</td>\n",
       "      <td>0.0</td>\n",
       "      <td>0.0</td>\n",
       "      <td>0.0</td>\n",
       "      <td>0.0</td>\n",
       "      <td>0.000000</td>\n",
       "      <td>0.000000</td>\n",
       "      <td>0.000000</td>\n",
       "      <td>0.000000</td>\n",
       "      <td>0.000000</td>\n",
       "      <td>0.000000</td>\n",
       "      <td>0.000000</td>\n",
       "      <td>0.000000</td>\n",
       "      <td>0.000000</td>\n",
       "    </tr>\n",
       "    <tr>\n",
       "      <th>75%</th>\n",
       "      <td>0.0</td>\n",
       "      <td>0.000000</td>\n",
       "      <td>0.0</td>\n",
       "      <td>0.0</td>\n",
       "      <td>0.0</td>\n",
       "      <td>0.0</td>\n",
       "      <td>0.000000</td>\n",
       "      <td>0.000000</td>\n",
       "      <td>0.000000</td>\n",
       "      <td>0.000000</td>\n",
       "      <td>0.000000</td>\n",
       "      <td>0.000000</td>\n",
       "      <td>0.000000</td>\n",
       "      <td>0.000000</td>\n",
       "      <td>0.000000</td>\n",
       "    </tr>\n",
       "    <tr>\n",
       "      <th>max</th>\n",
       "      <td>0.0</td>\n",
       "      <td>0.930605</td>\n",
       "      <td>0.0</td>\n",
       "      <td>0.0</td>\n",
       "      <td>0.0</td>\n",
       "      <td>0.0</td>\n",
       "      <td>1.867961</td>\n",
       "      <td>1.736677</td>\n",
       "      <td>1.930349</td>\n",
       "      <td>2.005075</td>\n",
       "      <td>2.287981</td>\n",
       "      <td>3.646223</td>\n",
       "      <td>4.023181</td>\n",
       "      <td>6.683011</td>\n",
       "      <td>7.187127</td>\n",
       "    </tr>\n",
       "  </tbody>\n",
       "</table>\n",
       "</div>"
      ],
      "text/plain": [
       "            k          exp  weight       j       m    type      level_2  \\\n",
       "count  1680.0  1680.000000  1680.0  1680.0  1680.0  1680.0  1680.000000   \n",
       "mean      0.0    -0.001853     0.0     0.0     0.0     0.0    -0.005670   \n",
       "std       0.0     0.298647     0.0     0.0     0.0     0.0     0.234921   \n",
       "min       0.0    -0.930605     0.0     0.0     0.0     0.0    -1.867961   \n",
       "25%       0.0     0.000000     0.0     0.0     0.0     0.0     0.000000   \n",
       "50%       0.0     0.000000     0.0     0.0     0.0     0.0     0.000000   \n",
       "75%       0.0     0.000000     0.0     0.0     0.0     0.0     0.000000   \n",
       "max       0.0     0.930605     0.0     0.0     0.0     0.0     1.867961   \n",
       "\n",
       "           level_3      level_4      level_5      level_6      level_7  \\\n",
       "count  1680.000000  1680.000000  1680.000000  1680.000000  1680.000000   \n",
       "mean     -0.009452    -0.001553     0.003396    -0.001987    -0.014919   \n",
       "std       0.371899     0.352832     0.353773     0.368500     0.443906   \n",
       "min      -1.969113    -1.930349    -2.005075    -2.287981    -3.646223   \n",
       "25%       0.000000     0.000000     0.000000     0.000000     0.000000   \n",
       "50%       0.000000     0.000000     0.000000     0.000000     0.000000   \n",
       "75%       0.000000     0.000000     0.000000     0.000000     0.000000   \n",
       "max       1.736677     1.930349     2.005075     2.287981     3.646223   \n",
       "\n",
       "           level_8      level_9     level_10  \n",
       "count  1680.000000  1680.000000  1680.000000  \n",
       "mean     -0.010940     0.009722     0.006753  \n",
       "std       0.471528     0.623249     0.657285  \n",
       "min      -4.023181    -6.650984    -7.174097  \n",
       "25%       0.000000     0.000000     0.000000  \n",
       "50%       0.000000     0.000000     0.000000  \n",
       "75%       0.000000     0.000000     0.000000  \n",
       "max       4.023181     6.683011     7.187127  "
      ]
     },
     "execution_count": 13,
     "metadata": {},
     "output_type": "execute_result"
    }
   ],
   "source": [
    "df_im.describe()"
   ]
  },
  {
   "cell_type": "markdown",
   "metadata": {
    "papermill": {
     "duration": 0.01243,
     "end_time": "2020-08-28T17:24:32.008115",
     "exception": false,
     "start_time": "2020-08-28T17:24:31.995685",
     "status": "completed"
    },
    "tags": []
   },
   "source": [
    "## Remove Identically Vanishing Columns"
   ]
  },
  {
   "cell_type": "code",
   "execution_count": 14,
   "metadata": {
    "execution": {
     "iopub.execute_input": "2020-08-28T17:24:32.035324Z",
     "iopub.status.busy": "2020-08-28T17:24:32.035081Z",
     "iopub.status.idle": "2020-08-28T17:24:32.046646Z",
     "shell.execute_reply": "2020-08-28T17:24:32.046202Z"
    },
    "papermill": {
     "duration": 0.02615,
     "end_time": "2020-08-28T17:24:32.046749",
     "exception": false,
     "start_time": "2020-08-28T17:24:32.020599",
     "status": "completed"
    },
    "tags": []
   },
   "outputs": [],
   "source": [
    "df_im = df_im.drop(columns=df_im.loc[:,(df_im.mean() == 0) & (df_im.std() == 0)].columns)"
   ]
  },
  {
   "cell_type": "code",
   "execution_count": 15,
   "metadata": {
    "execution": {
     "iopub.execute_input": "2020-08-28T17:24:32.077894Z",
     "iopub.status.busy": "2020-08-28T17:24:32.077654Z",
     "iopub.status.idle": "2020-08-28T17:24:32.085427Z",
     "shell.execute_reply": "2020-08-28T17:24:32.085220Z"
    },
    "papermill": {
     "duration": 0.021436,
     "end_time": "2020-08-28T17:24:32.085477",
     "exception": false,
     "start_time": "2020-08-28T17:24:32.064041",
     "status": "completed"
    },
    "tags": []
   },
   "outputs": [
    {
     "name": "stdout",
     "output_type": "stream",
     "text": [
      "<class 'pandas.core.frame.DataFrame'>\n",
      "Int64Index: 1680 entries, 0 to 49\n",
      "Data columns (total 15 columns):\n",
      " #   Column    Non-Null Count  Dtype  \n",
      "---  ------    --------------  -----  \n",
      " 0   k         1680 non-null   float64\n",
      " 1   exp       1680 non-null   float64\n",
      " 2   weight    1680 non-null   float64\n",
      " 3   j         1680 non-null   float64\n",
      " 4   m         1680 non-null   float64\n",
      " 5   type      1680 non-null   float64\n",
      " 6   level_2   1680 non-null   float64\n",
      " 7   level_3   1680 non-null   float64\n",
      " 8   level_4   1680 non-null   float64\n",
      " 9   level_5   1680 non-null   float64\n",
      " 10  level_6   1680 non-null   float64\n",
      " 11  level_7   1680 non-null   float64\n",
      " 12  level_8   1680 non-null   float64\n",
      " 13  level_9   1680 non-null   float64\n",
      " 14  level_10  1680 non-null   float64\n",
      "dtypes: float64(15)\n",
      "memory usage: 210.0 KB\n"
     ]
    }
   ],
   "source": [
    "df_re.info()"
   ]
  },
  {
   "cell_type": "code",
   "execution_count": 16,
   "metadata": {
    "execution": {
     "iopub.execute_input": "2020-08-28T17:24:32.117639Z",
     "iopub.status.busy": "2020-08-28T17:24:32.117393Z",
     "iopub.status.idle": "2020-08-28T17:24:32.124893Z",
     "shell.execute_reply": "2020-08-28T17:24:32.124654Z"
    },
    "papermill": {
     "duration": 0.021371,
     "end_time": "2020-08-28T17:24:32.124942",
     "exception": false,
     "start_time": "2020-08-28T17:24:32.103571",
     "status": "completed"
    },
    "tags": []
   },
   "outputs": [
    {
     "name": "stdout",
     "output_type": "stream",
     "text": [
      "<class 'pandas.core.frame.DataFrame'>\n",
      "Int64Index: 1680 entries, 0 to 49\n",
      "Data columns (total 10 columns):\n",
      " #   Column    Non-Null Count  Dtype  \n",
      "---  ------    --------------  -----  \n",
      " 0   exp       1680 non-null   float64\n",
      " 1   level_2   1680 non-null   float64\n",
      " 2   level_3   1680 non-null   float64\n",
      " 3   level_4   1680 non-null   float64\n",
      " 4   level_5   1680 non-null   float64\n",
      " 5   level_6   1680 non-null   float64\n",
      " 6   level_7   1680 non-null   float64\n",
      " 7   level_8   1680 non-null   float64\n",
      " 8   level_9   1680 non-null   float64\n",
      " 9   level_10  1680 non-null   float64\n",
      "dtypes: float64(10)\n",
      "memory usage: 144.4 KB\n"
     ]
    }
   ],
   "source": [
    "df_im.info()"
   ]
  },
  {
   "cell_type": "markdown",
   "metadata": {
    "papermill": {
     "duration": 0.012761,
     "end_time": "2020-08-28T17:24:32.155827",
     "exception": false,
     "start_time": "2020-08-28T17:24:32.143066",
     "status": "completed"
    },
    "tags": []
   },
   "source": [
    "## Merge the Datasets"
   ]
  },
  {
   "cell_type": "code",
   "execution_count": 17,
   "metadata": {
    "execution": {
     "iopub.execute_input": "2020-08-28T17:24:32.183728Z",
     "iopub.status.busy": "2020-08-28T17:24:32.183483Z",
     "iopub.status.idle": "2020-08-28T17:24:32.189046Z",
     "shell.execute_reply": "2020-08-28T17:24:32.188839Z"
    },
    "papermill": {
     "duration": 0.020409,
     "end_time": "2020-08-28T17:24:32.189096",
     "exception": false,
     "start_time": "2020-08-28T17:24:32.168687",
     "status": "completed"
    },
    "tags": []
   },
   "outputs": [],
   "source": [
    "df_re = df_re.rename(columns=lambda c: re.sub(r'(exp|level_.*)', r'\\1_re', c))\n",
    "df_im = df_im.rename(columns=lambda c: re.sub(r'(exp|level_.*)', r'\\1_im', c))"
   ]
  },
  {
   "cell_type": "code",
   "execution_count": 18,
   "metadata": {
    "execution": {
     "iopub.execute_input": "2020-08-28T17:24:32.220457Z",
     "iopub.status.busy": "2020-08-28T17:24:32.220215Z",
     "iopub.status.idle": "2020-08-28T17:24:32.229360Z",
     "shell.execute_reply": "2020-08-28T17:24:32.228864Z"
    },
    "papermill": {
     "duration": 0.0238,
     "end_time": "2020-08-28T17:24:32.229464",
     "exception": false,
     "start_time": "2020-08-28T17:24:32.205664",
     "status": "completed"
    },
    "tags": []
   },
   "outputs": [
    {
     "name": "stdout",
     "output_type": "stream",
     "text": [
      "<class 'pandas.core.frame.DataFrame'>\n",
      "Int64Index: 1680 entries, 0 to 49\n",
      "Data columns (total 25 columns):\n",
      " #   Column       Non-Null Count  Dtype  \n",
      "---  ------       --------------  -----  \n",
      " 0   k            1680 non-null   float64\n",
      " 1   exp_re       1680 non-null   float64\n",
      " 2   weight       1680 non-null   float64\n",
      " 3   j            1680 non-null   float64\n",
      " 4   m            1680 non-null   float64\n",
      " 5   type         1680 non-null   float64\n",
      " 6   level_2_re   1680 non-null   float64\n",
      " 7   level_3_re   1680 non-null   float64\n",
      " 8   level_4_re   1680 non-null   float64\n",
      " 9   level_5_re   1680 non-null   float64\n",
      " 10  level_6_re   1680 non-null   float64\n",
      " 11  level_7_re   1680 non-null   float64\n",
      " 12  level_8_re   1680 non-null   float64\n",
      " 13  level_9_re   1680 non-null   float64\n",
      " 14  level_10_re  1680 non-null   float64\n",
      " 15  exp_im       1680 non-null   float64\n",
      " 16  level_2_im   1680 non-null   float64\n",
      " 17  level_3_im   1680 non-null   float64\n",
      " 18  level_4_im   1680 non-null   float64\n",
      " 19  level_5_im   1680 non-null   float64\n",
      " 20  level_6_im   1680 non-null   float64\n",
      " 21  level_7_im   1680 non-null   float64\n",
      " 22  level_8_im   1680 non-null   float64\n",
      " 23  level_9_im   1680 non-null   float64\n",
      " 24  level_10_im  1680 non-null   float64\n",
      "dtypes: float64(25)\n",
      "memory usage: 341.2 KB\n"
     ]
    }
   ],
   "source": [
    "df = pd.concat([df_re, df_im], axis=1)\n",
    "df.info()"
   ]
  },
  {
   "cell_type": "markdown",
   "metadata": {
    "papermill": {
     "duration": 0.012942,
     "end_time": "2020-08-28T17:24:32.260789",
     "exception": false,
     "start_time": "2020-08-28T17:24:32.247847",
     "status": "completed"
    },
    "tags": []
   },
   "source": [
    "## Get Dummy Variables for the Type of Oscillations"
   ]
  },
  {
   "cell_type": "code",
   "execution_count": 19,
   "metadata": {
    "execution": {
     "iopub.execute_input": "2020-08-28T17:24:32.289021Z",
     "iopub.status.busy": "2020-08-28T17:24:32.288779Z",
     "iopub.status.idle": "2020-08-28T17:24:32.299127Z",
     "shell.execute_reply": "2020-08-28T17:24:32.298659Z"
    },
    "papermill": {
     "duration": 0.025388,
     "end_time": "2020-08-28T17:24:32.299230",
     "exception": false,
     "start_time": "2020-08-28T17:24:32.273842",
     "status": "completed"
    },
    "tags": []
   },
   "outputs": [
    {
     "name": "stdout",
     "output_type": "stream",
     "text": [
      "<class 'pandas.core.frame.DataFrame'>\n",
      "Int64Index: 1680 entries, 0 to 49\n",
      "Data columns (total 26 columns):\n",
      " #   Column       Non-Null Count  Dtype  \n",
      "---  ------       --------------  -----  \n",
      " 0   k            1680 non-null   float64\n",
      " 1   exp_re       1680 non-null   float64\n",
      " 2   weight       1680 non-null   float64\n",
      " 3   j            1680 non-null   float64\n",
      " 4   m            1680 non-null   float64\n",
      " 5   level_2_re   1680 non-null   float64\n",
      " 6   level_3_re   1680 non-null   float64\n",
      " 7   level_4_re   1680 non-null   float64\n",
      " 8   level_5_re   1680 non-null   float64\n",
      " 9   level_6_re   1680 non-null   float64\n",
      " 10  level_7_re   1680 non-null   float64\n",
      " 11  level_8_re   1680 non-null   float64\n",
      " 12  level_9_re   1680 non-null   float64\n",
      " 13  level_10_re  1680 non-null   float64\n",
      " 14  exp_im       1680 non-null   float64\n",
      " 15  level_2_im   1680 non-null   float64\n",
      " 16  level_3_im   1680 non-null   float64\n",
      " 17  level_4_im   1680 non-null   float64\n",
      " 18  level_5_im   1680 non-null   float64\n",
      " 19  level_6_im   1680 non-null   float64\n",
      " 20  level_7_im   1680 non-null   float64\n",
      " 21  level_8_im   1680 non-null   float64\n",
      " 22  level_9_im   1680 non-null   float64\n",
      " 23  level_10_im  1680 non-null   float64\n",
      " 24  type_2       1680 non-null   uint8  \n",
      " 25  type_4       1680 non-null   uint8  \n",
      "dtypes: float64(24), uint8(2)\n",
      "memory usage: 331.4 KB\n"
     ]
    }
   ],
   "source": [
    "df = pd.get_dummies(df, columns=['type'])\n",
    "df = df.rename(columns={'type_2.0': 'type_2', 'type_4.0': 'type_4'})\n",
    "df.info()"
   ]
  },
  {
   "cell_type": "markdown",
   "metadata": {
    "papermill": {
     "duration": 0.013231,
     "end_time": "2020-08-28T17:24:32.330183",
     "exception": false,
     "start_time": "2020-08-28T17:24:32.316952",
     "status": "completed"
    },
    "tags": []
   },
   "source": [
    "## Compute Complex Numbers"
   ]
  },
  {
   "cell_type": "code",
   "execution_count": 20,
   "metadata": {
    "execution": {
     "iopub.execute_input": "2020-08-28T17:24:32.359623Z",
     "iopub.status.busy": "2020-08-28T17:24:32.359329Z",
     "iopub.status.idle": "2020-08-28T17:24:32.378945Z",
     "shell.execute_reply": "2020-08-28T17:24:32.378520Z"
    },
    "papermill": {
     "duration": 0.035628,
     "end_time": "2020-08-28T17:24:32.379045",
     "exception": false,
     "start_time": "2020-08-28T17:24:32.343417",
     "status": "completed"
    },
    "tags": []
   },
   "outputs": [],
   "source": [
    "levels = ['level_' + str(n) for n in range(2, 11)] + ['exp']\n",
    "\n",
    "df_re_tmp = df[[l + '_re' for l in levels]].applymap(lambda n: complex(n, 0))\n",
    "df_im_tmp = df[[l + '_im' for l in levels]].applymap(lambda n: complex(0, n))\n",
    "for l in levels:\n",
    "    df[l] = df_re_tmp[l + '_re'] + df_im_tmp[l + '_im']"
   ]
  },
  {
   "cell_type": "markdown",
   "metadata": {
    "papermill": {
     "duration": 0.013158,
     "end_time": "2020-08-28T17:24:32.409572",
     "exception": false,
     "start_time": "2020-08-28T17:24:32.396414",
     "status": "completed"
    },
    "tags": []
   },
   "source": [
    "## Reorder the Columns"
   ]
  },
  {
   "cell_type": "code",
   "execution_count": 21,
   "metadata": {
    "execution": {
     "iopub.execute_input": "2020-08-28T17:24:32.438570Z",
     "iopub.status.busy": "2020-08-28T17:24:32.438328Z",
     "iopub.status.idle": "2020-08-28T17:24:32.444685Z",
     "shell.execute_reply": "2020-08-28T17:24:32.444343Z"
    },
    "papermill": {
     "duration": 0.021946,
     "end_time": "2020-08-28T17:24:32.444763",
     "exception": false,
     "start_time": "2020-08-28T17:24:32.422817",
     "status": "completed"
    },
    "tags": []
   },
   "outputs": [],
   "source": [
    "columns = ['k', 'weight', 'j', 'm', 'type_2', 'type_4'] + ['level_' + str(n) for n in range(2, 11)]  + ['level_' + str(n) + '_re' for n in range(2, 11)] + ['level_' + str(n) + '_im' for n in range(2, 11)] + ['exp', 'exp_re', 'exp_im']\n",
    "df = df[columns]"
   ]
  },
  {
   "cell_type": "code",
   "execution_count": 22,
   "metadata": {
    "execution": {
     "iopub.execute_input": "2020-08-28T17:24:32.477173Z",
     "iopub.status.busy": "2020-08-28T17:24:32.476937Z",
     "iopub.status.idle": "2020-08-28T17:24:32.486122Z",
     "shell.execute_reply": "2020-08-28T17:24:32.485647Z"
    },
    "papermill": {
     "duration": 0.024215,
     "end_time": "2020-08-28T17:24:32.486221",
     "exception": false,
     "start_time": "2020-08-28T17:24:32.462006",
     "status": "completed"
    },
    "tags": []
   },
   "outputs": [
    {
     "name": "stdout",
     "output_type": "stream",
     "text": [
      "<class 'pandas.core.frame.DataFrame'>\n",
      "Int64Index: 1680 entries, 0 to 49\n",
      "Data columns (total 36 columns):\n",
      " #   Column       Non-Null Count  Dtype     \n",
      "---  ------       --------------  -----     \n",
      " 0   k            1680 non-null   float64   \n",
      " 1   weight       1680 non-null   float64   \n",
      " 2   j            1680 non-null   float64   \n",
      " 3   m            1680 non-null   float64   \n",
      " 4   type_2       1680 non-null   uint8     \n",
      " 5   type_4       1680 non-null   uint8     \n",
      " 6   level_2      1680 non-null   complex128\n",
      " 7   level_3      1680 non-null   complex128\n",
      " 8   level_4      1680 non-null   complex128\n",
      " 9   level_5      1680 non-null   complex128\n",
      " 10  level_6      1680 non-null   complex128\n",
      " 11  level_7      1680 non-null   complex128\n",
      " 12  level_8      1680 non-null   complex128\n",
      " 13  level_9      1680 non-null   complex128\n",
      " 14  level_10     1680 non-null   complex128\n",
      " 15  level_2_re   1680 non-null   float64   \n",
      " 16  level_3_re   1680 non-null   float64   \n",
      " 17  level_4_re   1680 non-null   float64   \n",
      " 18  level_5_re   1680 non-null   float64   \n",
      " 19  level_6_re   1680 non-null   float64   \n",
      " 20  level_7_re   1680 non-null   float64   \n",
      " 21  level_8_re   1680 non-null   float64   \n",
      " 22  level_9_re   1680 non-null   float64   \n",
      " 23  level_10_re  1680 non-null   float64   \n",
      " 24  level_2_im   1680 non-null   float64   \n",
      " 25  level_3_im   1680 non-null   float64   \n",
      " 26  level_4_im   1680 non-null   float64   \n",
      " 27  level_5_im   1680 non-null   float64   \n",
      " 28  level_6_im   1680 non-null   float64   \n",
      " 29  level_7_im   1680 non-null   float64   \n",
      " 30  level_8_im   1680 non-null   float64   \n",
      " 31  level_9_im   1680 non-null   float64   \n",
      " 32  level_10_im  1680 non-null   float64   \n",
      " 33  exp          1680 non-null   complex128\n",
      " 34  exp_re       1680 non-null   float64   \n",
      " 35  exp_im       1680 non-null   float64   \n",
      "dtypes: complex128(10), float64(24), uint8(2)\n",
      "memory usage: 593.9 KB\n"
     ]
    }
   ],
   "source": [
    "df.info()"
   ]
  },
  {
   "cell_type": "markdown",
   "metadata": {
    "papermill": {
     "duration": 0.013367,
     "end_time": "2020-08-28T17:24:32.517587",
     "exception": false,
     "start_time": "2020-08-28T17:24:32.504220",
     "status": "completed"
    },
    "tags": []
   },
   "source": [
    "## Compute the Angle and Modulus of the Extrapolated Label"
   ]
  },
  {
   "cell_type": "code",
   "execution_count": 23,
   "metadata": {
    "execution": {
     "iopub.execute_input": "2020-08-28T17:24:32.546652Z",
     "iopub.status.busy": "2020-08-28T17:24:32.546409Z",
     "iopub.status.idle": "2020-08-28T17:24:32.556258Z",
     "shell.execute_reply": "2020-08-28T17:24:32.556006Z"
    },
    "papermill": {
     "duration": 0.025319,
     "end_time": "2020-08-28T17:24:32.556319",
     "exception": false,
     "start_time": "2020-08-28T17:24:32.531000",
     "status": "completed"
    },
    "tags": []
   },
   "outputs": [],
   "source": [
    "# angle is computed in (-pi, pi) -> (-1, 1)\n",
    "df['exp_angle'] = df['exp'].apply(np.angle) / np.pi\n",
    "df['exp_mod']   = df['exp'].apply(np.abs)"
   ]
  },
  {
   "cell_type": "markdown",
   "metadata": {
    "papermill": {
     "duration": 0.013226,
     "end_time": "2020-08-28T17:24:32.588446",
     "exception": false,
     "start_time": "2020-08-28T17:24:32.575220",
     "status": "completed"
    },
    "tags": []
   },
   "source": [
    "## Remove Duplicates\n",
    "\n",
    "Duplicates can also be in the sense of complex conjugates: we first compute the absolute values and complex modulus of the observables and then mark as duplicates the entries coming from the same solution (same `k`), same weight, same $\\mathrm{SU}(2)$ multiplet (same `j` and same |`m`|), and same extrapolated labels (or complex conjugates)."
   ]
  },
  {
   "cell_type": "code",
   "execution_count": 24,
   "metadata": {
    "execution": {
     "iopub.execute_input": "2020-08-28T17:24:32.626143Z",
     "iopub.status.busy": "2020-08-28T17:24:32.618179Z",
     "iopub.status.idle": "2020-08-28T17:24:32.631158Z",
     "shell.execute_reply": "2020-08-28T17:24:32.630714Z"
    },
    "papermill": {
     "duration": 0.029424,
     "end_time": "2020-08-28T17:24:32.631257",
     "exception": false,
     "start_time": "2020-08-28T17:24:32.601833",
     "status": "completed"
    },
    "tags": []
   },
   "outputs": [],
   "source": [
    "duplicates_id = df.abs().duplicated(subset=['k', 'weight', 'j', 'm', 'type_2', 'type_4', 'exp_mod', 'exp_angle'])\n",
    "duplicates = df.loc[duplicates_id]\n",
    "df = df.loc[~duplicates_id]"
   ]
  },
  {
   "cell_type": "code",
   "execution_count": 25,
   "metadata": {
    "execution": {
     "iopub.execute_input": "2020-08-28T17:24:32.666406Z",
     "iopub.status.busy": "2020-08-28T17:24:32.666168Z",
     "iopub.status.idle": "2020-08-28T17:24:32.671947Z",
     "shell.execute_reply": "2020-08-28T17:24:32.671709Z"
    },
    "papermill": {
     "duration": 0.02107,
     "end_time": "2020-08-28T17:24:32.671997",
     "exception": false,
     "start_time": "2020-08-28T17:24:32.650927",
     "status": "completed"
    },
    "tags": []
   },
   "outputs": [
    {
     "name": "stdout",
     "output_type": "stream",
     "text": [
      "Number of duplicates:   768\n",
      "Fraction of duplicates: 0.457\n"
     ]
    }
   ],
   "source": [
    "print(f'Number of duplicates:   {duplicates_id.sum():d}')\n",
    "print(f'Fraction of duplicates: {duplicates_id.mean():.3f}')"
   ]
  },
  {
   "cell_type": "markdown",
   "metadata": {
    "papermill": {
     "duration": 0.013489,
     "end_time": "2020-08-28T17:24:32.701947",
     "exception": false,
     "start_time": "2020-08-28T17:24:32.688458",
     "status": "completed"
    },
    "tags": []
   },
   "source": [
    "## Save to File"
   ]
  },
  {
   "cell_type": "code",
   "execution_count": 26,
   "metadata": {
    "execution": {
     "iopub.execute_input": "2020-08-28T17:24:32.739940Z",
     "iopub.status.busy": "2020-08-28T17:24:32.739565Z",
     "iopub.status.idle": "2020-08-28T17:24:32.790681Z",
     "shell.execute_reply": "2020-08-28T17:24:32.790247Z"
    },
    "papermill": {
     "duration": 0.075324,
     "end_time": "2020-08-28T17:24:32.790780",
     "exception": false,
     "start_time": "2020-08-28T17:24:32.715456",
     "status": "completed"
    },
    "tags": []
   },
   "outputs": [],
   "source": [
    "duplicates.to_csv(pdata('wzw_dup.csv'), index=False)\n",
    "df.to_csv(pdata('wzw.csv'), index=False)"
   ]
  }
 ],
 "metadata": {
  "kernelspec": {
   "display_name": "Python 3",
   "language": "python",
   "name": "python3"
  },
  "language_info": {
   "codemirror_mode": {
    "name": "ipython",
    "version": 3
   },
   "file_extension": ".py",
   "mimetype": "text/x-python",
   "name": "python",
   "nbconvert_exporter": "python",
   "pygments_lexer": "ipython3",
   "version": "3.7.8"
  },
  "papermill": {
   "duration": 2.506479,
   "end_time": "2020-08-28T17:24:33.012600",
   "environment_variables": {},
   "exception": null,
   "input_path": "./wzw_tidy.ipynb",
   "output_path": "wzw_tidy_output.ipynb",
   "parameters": {},
   "start_time": "2020-08-28T17:24:30.506121",
   "version": "2.1.2"
  }
 },
 "nbformat": 4,
 "nbformat_minor": 4
}