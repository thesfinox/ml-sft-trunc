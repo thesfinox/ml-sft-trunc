{
 "cells": [
  {
   "cell_type": "markdown",
   "metadata": {},
   "source": [
    "# Machine Learning for Level Truncation in Bosonic Open String Field Theory\n",
    "\n",
    "We consider the position of lumps in bosonic open string field theory (OSFT) at mass level truncation of finite order. We then extrapolate predictions for level-$\\infty$ truncation.\n",
    "\n",
    "In this notebook we analyse the dataset using machine learning (ML) techniques. We first built a solid validation strategy trying to optimise the error as a function of the size of the training set. We then consider a few algorithms which may provide good predictions:\n",
    "\n",
    "- [linear egression](https://scikit-learn.org/stable/modules/generated/sklearn.linear_model.LinearRegression.html) to provide a solid baseline for the computation,\n",
    "- [elastic net](https://scikit-learn.org/stable/modules/generated/sklearn.linear_model.ElasticNet.html) to introduce $l_1$ and $l_2$ regularisation to weight their contribution (we could consider [lasso](https://scikit-learn.org/stable/modules/generated/sklearn.linear_model.Lasso.html) or [ridge](https://scikit-learn.org/stable/modules/generated/sklearn.linear_model.Ridge.html) regression if we notice $l_1$ or $l_2$ are particularly favoured),\n",
    "- [linear SVR](https://scikit-learn.org/stable/modules/generated/sklearn.svm.LinearSVR.html) to introduce suppoort vectors,\n",
    "- [SVR (rbf kernel)](https://scikit-learn.org/stable/modules/generated/sklearn.svm.SVR.html) to use the _kernel trick_ with the dataset,\n",
    "- [random forest](https://scikit-learn.org/stable/modules/generated/sklearn.ensemble.RandomForestRegressor.html) to bag a number of decision trees,\n",
    "- [XGBoost](https://xgboost.ai/) to use a flexible version of boosted trees,\n",
    "- [neural networks](https://www.tensorflow.org) to introduce more complex regression functions."
   ]
  },
  {
   "cell_type": "markdown",
   "metadata": {},
   "source": [
    "## Setup\n",
    "\n",
    "The following analysis is performed on a machine with the following specifications:"
   ]
  },
  {
   "cell_type": "code",
   "execution_count": 76,
   "metadata": {},
   "outputs": [
    {
     "name": "stdout",
     "output_type": "stream",
     "text": [
      "CPU: Intel(R) Core(TM) i7-7700HQ CPU @ 2.80GHz\n",
      "GPU: NVIDIA Corporation GM108M [GeForce 940MX] (rev a2)\n",
      "RAM: 16GB (avail. now: 10GB)\n"
     ]
    }
   ],
   "source": [
    "!echo \"CPU: $(lscpu| awk '/^Model name/ {$1=\"\"; $2=\"\"; print}'| sed 's/^[[:space:]]*//g')\"\n",
    "!echo \"GPU: $(lspci| awk '/3D controller/ {$1=\"\"; $2=\"\"; $3=\"\"; print}'| sed 's/^[[:space:]]*//g')\"\n",
    "!echo \"RAM: $(free --giga| awk '/^Mem/ {print $2}')GB (avail. now: $(free --giga| awk '/^Mem/ {print $7}')GB)\""
   ]
  },
  {
   "cell_type": "markdown",
   "metadata": {},
   "source": [
    "Computations will be executed using a restricted amount of CPU threads:"
   ]
  },
  {
   "cell_type": "code",
   "execution_count": 77,
   "metadata": {},
   "outputs": [],
   "source": [
    "multi_thread = 8\n",
    "\n",
    "# sanitise the input\n",
    "if multi_thread > 8:\n",
    "    multi_thread = 8"
   ]
  },
  {
   "cell_type": "markdown",
   "metadata": {},
   "source": [
    "We will use several module in this Python notebook. We import them early to take a look at their version number and to keep track of changes in the intallation:"
   ]
  },
  {
   "cell_type": "code",
   "execution_count": 78,
   "metadata": {},
   "outputs": [
    {
     "name": "stdout",
     "output_type": "stream",
     "text": [
      "The autoreload extension is already loaded. To reload it, use:\n",
      "  %reload_ext autoreload\n",
      "Numpy_version: 1.18.4\n",
      "Pandas version: 1.0.3\n",
      "Matplotlib version: 3.2.1\n",
      "Scikit-learn version: 0.23.1\n",
      "Scikit-optimize version: 0.23.1\n",
      "Tensorflow version: 2.0.0\n",
      "XGBoost version: 2.0.0\n"
     ]
    }
   ],
   "source": [
    "import sys\n",
    "\n",
    "import numpy             as np\n",
    "import pandas            as pd\n",
    "import matplotlib        as mpl\n",
    "import matplotlib.pyplot as plt\n",
    "import sklearn           as skl\n",
    "import skopt             as skp\n",
    "import tensorflow        as tf\n",
    "import xgboost           as xgb\n",
    "\n",
    "# Jupyter magics\n",
    "%load_ext autoreload\n",
    "%autoreload 2\n",
    "\n",
    "%matplotlib inline\n",
    "mpl.rc('axes', labelsize=12) #------- set size of the labels in Matplotlib\n",
    "mpl.rc('xtick', labelsize=12)\n",
    "mpl.rc('ytick', labelsize=12)\n",
    "\n",
    "# check for restrictions and print version number\n",
    "try:\n",
    "    assert np.__version__ >= '1.18.0', 'Numpy version should be at least 1.18.0 to avoid conflict with Pandas and PyTables'\n",
    "    print('Numpy_version: {}'.format(np.__version__))\n",
    "    \n",
    "    assert pd.__version__ >= '1.0.0', 'Pandas version should be at least 1.0.0 to use PyTables correctly'\n",
    "    print('Pandas version: {}'.format(pd.__version__))\n",
    "    \n",
    "    assert mpl.__version__ > '3.1.0', 'Matplotlib version should be at least 3.1.0'\n",
    "    print('Matplotlib version: {}'.format(mpl.__version__))\n",
    "\n",
    "    assert skl.__version__ >= '0.22.0', 'Scikit-learn version should be at least 0.22.0 to use newest implementations.'\n",
    "    print('Scikit-learn version: {}'.format(skl.__version__))\n",
    "\n",
    "    assert skp.__version__ >= '0.7.4', 'Scikit-optimize version should be at least 0.7.4 to use newest implementations.'\n",
    "    print('Scikit-optimize version: {}'.format(skl.__version__))\n",
    "    \n",
    "    assert tf.__version__ >= '2.0.0', 'Tensorflow version should be at least 2.0.0 to use newest implementations.'\n",
    "    print('Tensorflow version: {}'.format(tf.__version__))\n",
    "    \n",
    "    assert xgb.__version__ >= '0.88.0', 'XGBoost version should be at least 0.88.0 to use newest implementations.'\n",
    "    print('XGBoost version: {}'.format(tf.__version__))\n",
    "    \n",
    "except AssertionError as msg:\n",
    "    print(msg)\n",
    "    \n",
    "# fix the random seed\n",
    "RAND = 42\n",
    "np.random.seed(RAND)\n",
    "tf.random.set_seed(RAND)"
   ]
  },
  {
   "cell_type": "markdown",
   "metadata": {},
   "source": [
    "Now create the directory structure and path names to work within the notebook:"
   ]
  },
  {
   "cell_type": "code",
   "execution_count": 79,
   "metadata": {},
   "outputs": [],
   "source": [
    "from os import path, makedirs\n",
    "\n",
    "# define directory names\n",
    "ROOT_DIR = '.' #-------------------------------------------------- root directory\n",
    "IMG_DIR  = 'img' #------------------------------------------------ images\n",
    "MOD_DIR  = 'models' #--------------------------------------------- saved models\n",
    "LOG_DIR  = 'log' #------------------------------------------------ logs\n",
    "OUT_DIR  = 'output' #--------------------------------------------- saved predictions, relevant output, etc.\n",
    "\n",
    "DB_NAME = 'data_sft_analysis' #----------------------------------- name of the dataset\n",
    "DB_FILE = DB_NAME + '.h5' #--------------------------------------- full name with extension\n",
    "DB_PATH = path.join(ROOT_DIR, DB_FILE) #-------------------------- full path of the dataset\n",
    "\n",
    "# define full paths\n",
    "IMG_PATH = path.join(ROOT_DIR, IMG_DIR)\n",
    "MOD_PATH = path.join(ROOT_DIR, MOD_DIR)\n",
    "LOG_PATH = path.join(ROOT_DIR, LOG_DIR)\n",
    "OUT_PATH = path.join(ROOT_DIR, OUT_DIR)\n",
    "\n",
    "# create directories if non existent\n",
    "if not path.isdir(IMG_PATH):\n",
    "    makedirs(IMG_PATH, exist_ok=True)\n",
    "if not path.isdir(MOD_PATH):\n",
    "    makedirs(MOD_PATH, exist_ok=True)\n",
    "if not path.isdir(LOG_PATH):\n",
    "    makedirs(LOG_PATH, exist_ok=True)\n",
    "if not path.isdir(OUT_PATH):\n",
    "    makedirs(OUT_PATH, exist_ok=True)"
   ]
  },
  {
   "cell_type": "markdown",
   "metadata": {},
   "source": [
    "Finally create a logging session to store debug info:"
   ]
  },
  {
   "cell_type": "code",
   "execution_count": 80,
   "metadata": {},
   "outputs": [
    {
     "name": "stdout",
     "output_type": "stream",
     "text": [
      "Rotating existing logs...\n"
     ]
    }
   ],
   "source": [
    "import logging\n",
    "from mltools.liblog import create_logfile\n",
    "\n",
    "path_to_log = path.join(LOG_PATH, DB_NAME + '.log') #--------------------------- path to the log\n",
    "log = create_logfile(path_to_log, name=DB_NAME, level=logging.DEBUG) #---------- create log file and session\n",
    "\n",
    "log.info('\\n\\n'\n",
    "         '--------------------------------------------\\n'\n",
    "         '  MACHINE LEARNING FOR LEVEL TRUNCATION IN\\n'\n",
    "         '  BOSONIC OPEN STRING FIELD THEORY\\n\\n'\n",
    "         '  (analysis)\\n'\n",
    "         '--------------------------------------------\\n'\n",
    "         '  Authors: Harold Erbin, Riccardo Finotello\\n'\n",
    "         '--------------------------------------------\\n'\n",
    "         '  Abstract:\\n\\n'\n",
    "         '  We consider the position of the lumps of\\n'\n",
    "         '  the tachyon potential in bosonic open\\n'\n",
    "         '  string field theory at a finite mass level\\n'\n",
    "         '  truncation. We then extrapolate the\\n'\n",
    "         '  predictions for level-$\\infty$ using\\n'\n",
    "         '  machine learning techniques.\\n\\n'\n",
    "        )"
   ]
  },
  {
   "cell_type": "markdown",
   "metadata": {},
   "source": [
    "## Importing the Database\n",
    "\n",
    "We import the database containing the positions of the lumps of the tachyon potential:"
   ]
  },
  {
   "cell_type": "code",
   "execution_count": 81,
   "metadata": {},
   "outputs": [],
   "source": [
    "if path.isfile(DB_PATH):\n",
    "    df = pd.read_hdf(DB_PATH)\n",
    "    \n",
    "    if not df.empty:\n",
    "        log.debug('Successfully imported {}'.format(DB_PATH))\n",
    "    else:\n",
    "        sys.stderr.write('Database is empty!')\n",
    "        log.error('Database is empty!')\n",
    "else:\n",
    "    sys.stderr.write('Cannot find database!')"
   ]
  },
  {
   "cell_type": "markdown",
   "metadata": {},
   "source": [
    "We then start to analyse the _dtypes_ of the columns to understand what the dataset is made of:"
   ]
  },
  {
   "cell_type": "code",
   "execution_count": 82,
   "metadata": {},
   "outputs": [
    {
     "data": {
      "text/plain": [
       "system      int64\n",
       "init      float64\n",
       "weight    float64\n",
       "type        int64\n",
       "2         float64\n",
       "3         float64\n",
       "4         float64\n",
       "5         float64\n",
       "6         float64\n",
       "7         float64\n",
       "8         float64\n",
       "9         float64\n",
       "10        float64\n",
       "11        float64\n",
       "12        float64\n",
       "13        float64\n",
       "14        float64\n",
       "15        float64\n",
       "16        float64\n",
       "17        float64\n",
       "18        float64\n",
       "exp         int64\n",
       "dtype: object"
      ]
     },
     "execution_count": 82,
     "metadata": {},
     "output_type": "execute_result"
    }
   ],
   "source": [
    "df.dtypes"
   ]
  },
  {
   "cell_type": "markdown",
   "metadata": {},
   "source": [
    "Given these data types, we can have a meaningful description:"
   ]
  },
  {
   "cell_type": "code",
   "execution_count": 83,
   "metadata": {},
   "outputs": [
    {
     "data": {
      "text/html": [
       "<div>\n",
       "<style scoped>\n",
       "    .dataframe tbody tr th:only-of-type {\n",
       "        vertical-align: middle;\n",
       "    }\n",
       "\n",
       "    .dataframe tbody tr th {\n",
       "        vertical-align: top;\n",
       "    }\n",
       "\n",
       "    .dataframe thead th {\n",
       "        text-align: right;\n",
       "    }\n",
       "</style>\n",
       "<table border=\"1\" class=\"dataframe\">\n",
       "  <thead>\n",
       "    <tr style=\"text-align: right;\">\n",
       "      <th></th>\n",
       "      <th>system</th>\n",
       "      <th>init</th>\n",
       "      <th>weight</th>\n",
       "      <th>type</th>\n",
       "      <th>2</th>\n",
       "      <th>3</th>\n",
       "      <th>4</th>\n",
       "      <th>5</th>\n",
       "      <th>6</th>\n",
       "      <th>7</th>\n",
       "      <th>...</th>\n",
       "      <th>10</th>\n",
       "      <th>11</th>\n",
       "      <th>12</th>\n",
       "      <th>13</th>\n",
       "      <th>14</th>\n",
       "      <th>15</th>\n",
       "      <th>16</th>\n",
       "      <th>17</th>\n",
       "      <th>18</th>\n",
       "      <th>exp</th>\n",
       "    </tr>\n",
       "  </thead>\n",
       "  <tbody>\n",
       "    <tr>\n",
       "      <th>count</th>\n",
       "      <td>718.000000</td>\n",
       "      <td>718.000000</td>\n",
       "      <td>718.000000</td>\n",
       "      <td>718.000000</td>\n",
       "      <td>718.000000</td>\n",
       "      <td>718.000000</td>\n",
       "      <td>718.000000</td>\n",
       "      <td>718.000000</td>\n",
       "      <td>718.000000</td>\n",
       "      <td>718.000000</td>\n",
       "      <td>...</td>\n",
       "      <td>718.000000</td>\n",
       "      <td>718.000000</td>\n",
       "      <td>718.000000</td>\n",
       "      <td>718.000000</td>\n",
       "      <td>718.000000</td>\n",
       "      <td>718.000000</td>\n",
       "      <td>718.000000</td>\n",
       "      <td>718.000000</td>\n",
       "      <td>7.180000e+02</td>\n",
       "      <td>718.000000</td>\n",
       "    </tr>\n",
       "    <tr>\n",
       "      <th>mean</th>\n",
       "      <td>23.314763</td>\n",
       "      <td>0.836629</td>\n",
       "      <td>1.981686</td>\n",
       "      <td>3.749304</td>\n",
       "      <td>-1.649589</td>\n",
       "      <td>-1.817170</td>\n",
       "      <td>7.981259</td>\n",
       "      <td>8.445939</td>\n",
       "      <td>-34.541055</td>\n",
       "      <td>-36.169106</td>\n",
       "      <td>...</td>\n",
       "      <td>-752.288433</td>\n",
       "      <td>-776.523313</td>\n",
       "      <td>3061.210057</td>\n",
       "      <td>3147.716636</td>\n",
       "      <td>-11562.460857</td>\n",
       "      <td>-11855.258680</td>\n",
       "      <td>40629.386999</td>\n",
       "      <td>41566.669584</td>\n",
       "      <td>-1.334843e+05</td>\n",
       "      <td>0.541783</td>\n",
       "    </tr>\n",
       "    <tr>\n",
       "      <th>std</th>\n",
       "      <td>13.023788</td>\n",
       "      <td>1.004161</td>\n",
       "      <td>2.337013</td>\n",
       "      <td>0.662688</td>\n",
       "      <td>4.548304</td>\n",
       "      <td>5.005473</td>\n",
       "      <td>21.558408</td>\n",
       "      <td>22.815235</td>\n",
       "      <td>111.039170</td>\n",
       "      <td>116.338079</td>\n",
       "      <td>...</td>\n",
       "      <td>2852.135166</td>\n",
       "      <td>2942.302665</td>\n",
       "      <td>11912.541567</td>\n",
       "      <td>12240.685674</td>\n",
       "      <td>45391.801105</td>\n",
       "      <td>46512.063723</td>\n",
       "      <td>160087.941813</td>\n",
       "      <td>163698.216993</td>\n",
       "      <td>5.278422e+05</td>\n",
       "      <td>0.706857</td>\n",
       "    </tr>\n",
       "    <tr>\n",
       "      <th>min</th>\n",
       "      <td>0.000000</td>\n",
       "      <td>0.000000</td>\n",
       "      <td>0.000000</td>\n",
       "      <td>2.000000</td>\n",
       "      <td>-19.744040</td>\n",
       "      <td>-21.893983</td>\n",
       "      <td>-0.754568</td>\n",
       "      <td>-0.782633</td>\n",
       "      <td>-514.984097</td>\n",
       "      <td>-538.627792</td>\n",
       "      <td>...</td>\n",
       "      <td>-13321.170445</td>\n",
       "      <td>-13781.246472</td>\n",
       "      <td>-8.850113</td>\n",
       "      <td>-12.265769</td>\n",
       "      <td>-211473.396816</td>\n",
       "      <td>-216475.644423</td>\n",
       "      <td>-44.356923</td>\n",
       "      <td>-66.596211</td>\n",
       "      <td>-2.489024e+06</td>\n",
       "      <td>-1.000000</td>\n",
       "    </tr>\n",
       "    <tr>\n",
       "      <th>25%</th>\n",
       "      <td>12.000000</td>\n",
       "      <td>0.000000</td>\n",
       "      <td>0.155340</td>\n",
       "      <td>4.000000</td>\n",
       "      <td>-0.819357</td>\n",
       "      <td>-1.048764</td>\n",
       "      <td>0.000000</td>\n",
       "      <td>0.000000</td>\n",
       "      <td>-0.924887</td>\n",
       "      <td>-0.941950</td>\n",
       "      <td>...</td>\n",
       "      <td>-1.122517</td>\n",
       "      <td>-2.123912</td>\n",
       "      <td>0.001518</td>\n",
       "      <td>0.001679</td>\n",
       "      <td>-3.214377</td>\n",
       "      <td>-6.185564</td>\n",
       "      <td>0.045728</td>\n",
       "      <td>0.042314</td>\n",
       "      <td>-2.569285e+01</td>\n",
       "      <td>0.000000</td>\n",
       "    </tr>\n",
       "    <tr>\n",
       "      <th>50%</th>\n",
       "      <td>24.000000</td>\n",
       "      <td>0.000000</td>\n",
       "      <td>1.000100</td>\n",
       "      <td>4.000000</td>\n",
       "      <td>0.000000</td>\n",
       "      <td>0.000000</td>\n",
       "      <td>0.923914</td>\n",
       "      <td>0.935052</td>\n",
       "      <td>0.000000</td>\n",
       "      <td>0.000000</td>\n",
       "      <td>...</td>\n",
       "      <td>0.001407</td>\n",
       "      <td>0.001712</td>\n",
       "      <td>0.987326</td>\n",
       "      <td>0.987066</td>\n",
       "      <td>0.001634</td>\n",
       "      <td>0.004821</td>\n",
       "      <td>1.004445</td>\n",
       "      <td>1.001084</td>\n",
       "      <td>9.732395e-02</td>\n",
       "      <td>1.000000</td>\n",
       "    </tr>\n",
       "    <tr>\n",
       "      <th>75%</th>\n",
       "      <td>35.000000</td>\n",
       "      <td>1.650000</td>\n",
       "      <td>3.213367</td>\n",
       "      <td>4.000000</td>\n",
       "      <td>0.795133</td>\n",
       "      <td>0.913984</td>\n",
       "      <td>1.408763</td>\n",
       "      <td>1.552803</td>\n",
       "      <td>0.960644</td>\n",
       "      <td>0.984305</td>\n",
       "      <td>...</td>\n",
       "      <td>0.991467</td>\n",
       "      <td>0.996329</td>\n",
       "      <td>4.397037</td>\n",
       "      <td>6.811820</td>\n",
       "      <td>0.997875</td>\n",
       "      <td>1.001248</td>\n",
       "      <td>16.098058</td>\n",
       "      <td>16.131990</td>\n",
       "      <td>1.003658e+00</td>\n",
       "      <td>1.000000</td>\n",
       "    </tr>\n",
       "    <tr>\n",
       "      <th>max</th>\n",
       "      <td>44.000000</td>\n",
       "      <td>3.000000</td>\n",
       "      <td>9.000000</td>\n",
       "      <td>4.000000</td>\n",
       "      <td>1.239384</td>\n",
       "      <td>1.358098</td>\n",
       "      <td>122.931347</td>\n",
       "      <td>131.675490</td>\n",
       "      <td>2.275741</td>\n",
       "      <td>2.712998</td>\n",
       "      <td>...</td>\n",
       "      <td>5.243298</td>\n",
       "      <td>6.283092</td>\n",
       "      <td>56115.100219</td>\n",
       "      <td>57592.698860</td>\n",
       "      <td>16.106978</td>\n",
       "      <td>23.077325</td>\n",
       "      <td>731718.332090</td>\n",
       "      <td>748286.961169</td>\n",
       "      <td>1.033588e+02</td>\n",
       "      <td>1.000000</td>\n",
       "    </tr>\n",
       "  </tbody>\n",
       "</table>\n",
       "<p>8 rows × 22 columns</p>\n",
       "</div>"
      ],
      "text/plain": [
       "           system        init      weight        type           2           3  \\\n",
       "count  718.000000  718.000000  718.000000  718.000000  718.000000  718.000000   \n",
       "mean    23.314763    0.836629    1.981686    3.749304   -1.649589   -1.817170   \n",
       "std     13.023788    1.004161    2.337013    0.662688    4.548304    5.005473   \n",
       "min      0.000000    0.000000    0.000000    2.000000  -19.744040  -21.893983   \n",
       "25%     12.000000    0.000000    0.155340    4.000000   -0.819357   -1.048764   \n",
       "50%     24.000000    0.000000    1.000100    4.000000    0.000000    0.000000   \n",
       "75%     35.000000    1.650000    3.213367    4.000000    0.795133    0.913984   \n",
       "max     44.000000    3.000000    9.000000    4.000000    1.239384    1.358098   \n",
       "\n",
       "                4           5           6           7  ...            10  \\\n",
       "count  718.000000  718.000000  718.000000  718.000000  ...    718.000000   \n",
       "mean     7.981259    8.445939  -34.541055  -36.169106  ...   -752.288433   \n",
       "std     21.558408   22.815235  111.039170  116.338079  ...   2852.135166   \n",
       "min     -0.754568   -0.782633 -514.984097 -538.627792  ... -13321.170445   \n",
       "25%      0.000000    0.000000   -0.924887   -0.941950  ...     -1.122517   \n",
       "50%      0.923914    0.935052    0.000000    0.000000  ...      0.001407   \n",
       "75%      1.408763    1.552803    0.960644    0.984305  ...      0.991467   \n",
       "max    122.931347  131.675490    2.275741    2.712998  ...      5.243298   \n",
       "\n",
       "                 11            12            13             14             15  \\\n",
       "count    718.000000    718.000000    718.000000     718.000000     718.000000   \n",
       "mean    -776.523313   3061.210057   3147.716636  -11562.460857  -11855.258680   \n",
       "std     2942.302665  11912.541567  12240.685674   45391.801105   46512.063723   \n",
       "min   -13781.246472     -8.850113    -12.265769 -211473.396816 -216475.644423   \n",
       "25%       -2.123912      0.001518      0.001679      -3.214377      -6.185564   \n",
       "50%        0.001712      0.987326      0.987066       0.001634       0.004821   \n",
       "75%        0.996329      4.397037      6.811820       0.997875       1.001248   \n",
       "max        6.283092  56115.100219  57592.698860      16.106978      23.077325   \n",
       "\n",
       "                  16             17            18         exp  \n",
       "count     718.000000     718.000000  7.180000e+02  718.000000  \n",
       "mean    40629.386999   41566.669584 -1.334843e+05    0.541783  \n",
       "std    160087.941813  163698.216993  5.278422e+05    0.706857  \n",
       "min       -44.356923     -66.596211 -2.489024e+06   -1.000000  \n",
       "25%         0.045728       0.042314 -2.569285e+01    0.000000  \n",
       "50%         1.004445       1.001084  9.732395e-02    1.000000  \n",
       "75%        16.098058      16.131990  1.003658e+00    1.000000  \n",
       "max    731718.332090  748286.961169  1.033588e+02    1.000000  \n",
       "\n",
       "[8 rows x 22 columns]"
      ]
     },
     "execution_count": 83,
     "metadata": {},
     "output_type": "execute_result"
    }
   ],
   "source": [
    "df.describe()"
   ]
  },
  {
   "cell_type": "markdown",
   "metadata": {},
   "source": [
    "The number of elements for each system should be rather contained and can be visualised in a histogram:"
   ]
  },
  {
   "cell_type": "code",
   "execution_count": 84,
   "metadata": {},
   "outputs": [
    {
     "data": {
      "image/png": "[encoded data removed]",
      "text/plain": [
       "<Figure size 864x360 with 2 Axes>"
      ]
     },
     "metadata": {
      "needs_background": "light"
     },
     "output_type": "display_data"
    }
   ],
   "source": [
    "from mltools.libplot import Plot\n",
    "\n",
    "hist_data = df.groupby(by=['system']).count().max(axis=1) #-------------- group by system, then count the number of elements and take a representative\n",
    "\n",
    "plot = Plot(rows=1, columns=2)\n",
    "\n",
    "plot.hist2D(df['system'],\n",
    "            axis=0,\n",
    "            title='Distribution of Samples in the Systems',\n",
    "            xlabel='systems',\n",
    "            ylabel='no. of samples',\n",
    "            binstep=4\n",
    "           )\n",
    "\n",
    "plot.hist2D(hist_data,\n",
    "            axis=1,\n",
    "            title='Distribution of Systems as Function of Their Size',\n",
    "            xlabel='size',\n",
    "            ylabel='no. of systems',\n",
    "            bins=range(hist_data.min(), hist_data.max() + 1, 1)\n",
    "           )\n",
    "\n",
    "plot.save_and_close(path.join(IMG_PATH, 'distribution'))\n",
    "log.debug('Saved distribution plot.')"
   ]
  },
  {
   "cell_type": "markdown",
   "metadata": {},
   "source": [
    "## Test Set Selection\n",
    "\n",
    "We split the training set into a test and training sets keeping samples of the same system in the same set. As our dataset is quite small, we will try to keep around 20% of data in the test set to keep a good predictive ability."
   ]
  },
  {
   "cell_type": "markdown",
   "metadata": {},
   "source": [
    "We first divide features from labels (in the features, we also drop the `init` column as we are not interested in using the initial values for the learning algorithms and the `system` column which will only be used to split training and test sets)."
   ]
  },
  {
   "cell_type": "code",
   "execution_count": 85,
   "metadata": {},
   "outputs": [],
   "source": [
    "df = df.sample(frac=1, random_state=RAND) #-------------------------------------------------- first shuffle the dataset\n",
    "\n",
    "log.debug('Database has been shuffled.')"
   ]
  },
  {
   "cell_type": "markdown",
   "metadata": {},
   "source": [
    "We then split the dataset using the `system` label:"
   ]
  },
  {
   "cell_type": "code",
   "execution_count": 86,
   "metadata": {},
   "outputs": [],
   "source": [
    "from sklearn.model_selection import train_test_split\n",
    "\n",
    "train_system, test_system = train_test_split(df['system'].unique(), test_size=0.2, shuffle=False)"
   ]
  },
  {
   "cell_type": "markdown",
   "metadata": {},
   "source": [
    "This leads to training and test set with the following shapes:"
   ]
  },
  {
   "cell_type": "code",
   "execution_count": 87,
   "metadata": {},
   "outputs": [
    {
     "name": "stdout",
     "output_type": "stream",
     "text": [
      "Training set size: 580 (80.8% of the total dataset)\n",
      "Test set size:     138 (19.2% of the total dataset)\n"
     ]
    }
   ],
   "source": [
    "df_train = df.loc[df['system'].isin(train_system)]\n",
    "df_test  = df.loc[df['system'].isin(test_system)]\n",
    "\n",
    "# print the shape\n",
    "print('Training set size: {:d} ({:.1f}% of the total dataset)'.format(df_train.shape[0], 100 * df_train.shape[0] / df.shape[0]))\n",
    "print('Test set size:     {:d} ({:.1f}% of the total dataset)'.format(df_test.shape[0], 100 * df_test.shape[0] / df.shape[0]))"
   ]
  },
  {
   "cell_type": "markdown",
   "metadata": {},
   "source": [
    "## Validation Strategy\n",
    "\n",
    "For the same reason we used the `system` column to choose the training and test sets, we also need to use the same strategy for the validation set. Given the restricted size of the training dataset, we use a single _development set_ whose size must be decided. We use a linear regression to plot the error on the validation set as a function of the size of the development set. We clearly use the same approach as before: we take the `system` label, split the training set accordingly, fit the training data and evaluate on the development set.\n",
    "\n",
    "In foresight of what we are going to do, we also apply a standardization to the training data."
   ]
  },
  {
   "cell_type": "code",
   "execution_count": 88,
   "metadata": {},
   "outputs": [],
   "source": [
    "from sklearn.preprocessing import StandardScaler\n",
    "from sklearn.linear_model  import LinearRegression\n",
    "from sklearn.metrics       import mean_squared_error\n",
    "\n",
    "\n",
    "\n",
    "# devide what development set sizes to explore\n",
    "dev_sizes = np.arange(0.15, 0.95, 0.05)\n",
    "\n",
    "# save results in an array (made of [dev set size, mse] for each sample: shape = (dev_sizes.shape[0], 2))\n",
    "results = np.zeros((dev_sizes.shape[0], 2))\n",
    "\n",
    "# explore each dev size\n",
    "for n in range(dev_sizes.shape[0]):\n",
    "    \n",
    "    # separate train and dev systems values\n",
    "    train_system, dev_system = train_test_split(df_train['system'].unique(), test_size=dev_sizes[n], shuffle=False)\n",
    "\n",
    "    # separate train and dev sets\n",
    "    df_train_tmp = df_train.loc[df_train['system'].isin(train_system)].drop(columns=['system', 'init'])\n",
    "    df_dev_tmp   = df_train.loc[df_train['system'].isin(dev_system)].drop(columns=['system', 'init'])\n",
    "\n",
    "    # compute the size of the dev set w.r.t. the training set (it can differ from the size selected with the 'system' label)\n",
    "    dev_set_size = df_dev_tmp.shape[0] / df_train.shape[0]\n",
    "\n",
    "    # separate features from labels\n",
    "    X_train, y_train = df_train_tmp.drop(columns='exp'), df_train_tmp['exp']\n",
    "    X_dev,   y_dev   = df_dev_tmp.drop(columns='exp'),   df_dev_tmp['exp']\n",
    "\n",
    "    # standardize the features\n",
    "    std = StandardScaler()\n",
    "\n",
    "    X_train = std.fit_transform(X_train)\n",
    "    X_dev   = std.transform(X_dev)\n",
    "\n",
    "    # compute the linear regression\n",
    "    est = LinearRegression(fit_intercept=True, n_jobs=multi_thread)\n",
    "    est.fit(X_train, y_train)\n",
    "\n",
    "    # compute the predictions on the development set\n",
    "    y_dev_pred = est.predict(X_dev)\n",
    "\n",
    "    # compute the MSE on the predictions\n",
    "    mse = mean_squared_error(y_dev, y_dev_pred)\n",
    "\n",
    "    # save the results in the list\n",
    "    results[n,:] = (dev_set_size, mse)"
   ]
  },
  {
   "cell_type": "markdown",
   "metadata": {},
   "source": [
    "We then plot the results of the study:"
   ]
  },
  {
   "cell_type": "code",
   "execution_count": 89,
   "metadata": {},
   "outputs": [
    {
     "data": {
      "image/png": "[encoded data removed]",
      "text/plain": [
       "<Figure size 432x360 with 1 Axes>"
      ]
     },
     "metadata": {
      "needs_background": "light"
     },
     "output_type": "display_data"
    }
   ],
   "source": [
    "Plot().series2D(results[:,1],\n",
    "                title='Validation Error (MSE) as Function of the Development Set Size',\n",
    "                xlabel='size of the development set',\n",
    "                ylabel='MSE',\n",
    "                ylog=True,\n",
    "                labels=np.around(results[:,0], decimals=2)\n",
    "               ).save_and_close(path.join(IMG_PATH, 'val_error'))\n",
    "\n",
    "log.debug('Saved validation error plot.')"
   ]
  },
  {
   "cell_type": "markdown",
   "metadata": {},
   "source": [
    "It seems that a good compromise between the number of samples and the validation error might be around 25% of the training set. We therefore select that value as a reference to split definitely the set:"
   ]
  },
  {
   "cell_type": "code",
   "execution_count": 90,
   "metadata": {},
   "outputs": [
    {
     "name": "stdout",
     "output_type": "stream",
     "text": [
      "Training set size:    60.7%\n",
      "Development set size: 20.1%\n",
      "Test set size:        19.2%\n"
     ]
    }
   ],
   "source": [
    "# get the index of the 'results' vector which is closer the desired quantity and take the corresponding 'dev_sizes' position\n",
    "[dev_size] = dev_sizes[np.where(np.isclose(results[:,0], 0.25, atol=0.01))]\n",
    "\n",
    "# split the datasets\n",
    "train_system, dev_system = train_test_split(df_train['system'].unique(), test_size=dev_size, shuffle=False)\n",
    "train_split = df_train.loc[df_train['system'].isin(train_system)].drop(columns=['system', 'init'])\n",
    "dev_split   = df_train.loc[df_train['system'].isin(dev_system)].drop(columns=['system', 'init'])\n",
    "test_split  = df_test.drop(columns=['system', 'init'])\n",
    "\n",
    "# compute train, dev and test sizes\n",
    "print('Training set size:    {:.1f}%'.format(100 * train_split.shape[0] / df.shape[0]))\n",
    "print('Development set size: {:.1f}%'.format(100 * dev_split.shape[0] / df.shape[0]))\n",
    "print('Test set size:        {:.1f}%'.format(100 * test_split.shape[0] / df.shape[0]))\n",
    "\n",
    "# divide features and labels\n",
    "X_train, y_train = train_split.drop(columns='exp'), train_split['exp'].values.reshape(-1,1)\n",
    "X_dev,   y_dev   = dev_split.drop(columns='exp'),   dev_split['exp'].values.reshape(-1,1)\n",
    "X_test,  y_test  = test_split.drop(columns='exp'),  test_split['exp'].values.reshape(-1,1)\n",
    "\n",
    "# apply the standardization\n",
    "std     = StandardScaler()\n",
    "X_train = std.fit_transform(X_train)\n",
    "X_dev   = std.transform(X_dev)\n",
    "X_test  = std.transform(X_test)"
   ]
  },
  {
   "cell_type": "markdown",
   "metadata": {},
   "source": [
    "## Machine Learning Analysis\n",
    "\n",
    "We can now start to implement the regression algorithms we are trying to study. In general we use Bayes optimisation to tune the hyperparameters of the algorithm (exception made for linear regression: we will use a grid search) trying to minimise the mean squared error loss function.\n",
    "\n",
    "For each algorithm we will try to output several metrics, even though we will only use the MSE to score the algorithm:\n",
    "\n",
    "- _mean squared error_:\n",
    "\\begin{equation}\n",
    "\\mathrm{MSE}( y_{true}, y_{pred} ) = \\frac{1}{N} \\sum\\limits_{i = 1}^N \\left( y^{(i)}_{true} - y^{(i)}_{pred} \\right) ^2,\n",
    "\\end{equation}\n",
    "\n",
    "- _$R^2$ score_:\n",
    "\\begin{equation}\n",
    "\\mathrm{R}^2( y_{true}, y_{pred} ) = 1 - \\frac{\\sum\\limits_{i = 1}^N \\left( y^{(i)}_{true} - y^{(i)}_{pred} \\right)^2}{\\sum\\limits_{i = 1}^N \\left( y^{(i)}_{true} - \\bar{y}_{pred} \\right)^2}\n",
    "\\end{equation}\n",
    "where\n",
    "\\begin{equation}\n",
    "\\bar{y}_{pred} = \\frac{1}{N} \\sum\\limits_{i = 1}^N y^{(i)}_{true},\n",
    "\\end{equation}\n",
    "\n",
    "- _explained variance score_:\n",
    "\\begin{equation}\n",
    "\\mathrm{EVar}( y_{true}, y_{pred} ) = 1 - \\frac{\\mathrm{Var}\\{ y_{true} - y_{pred} \\}}{\\mathrm{Var}\\{ y_{true} \\}}.\n",
    "\\end{equation}\n",
    "\n",
    "We will also compute the confidence interval of the variance: this represents the the range of values for which we have confidence that the variance estimated from the data is a good representative of the true error. We therefore fix here the confidence we are trying to achieve:"
   ]
  },
  {
   "cell_type": "code",
   "execution_count": 91,
   "metadata": {},
   "outputs": [],
   "source": [
    "confidence = 0.95 #--- usually we set 95% of the variance (lower values are stricter)"
   ]
  },
  {
   "cell_type": "markdown",
   "metadata": {},
   "source": [
    "### Linear Regression\n",
    "\n",
    "We now consider a simple linear regression whose only hyperparameter is `fit_intercept` $\\in \\lbrace 0, 1 \\rbrace$:"
   ]
  },
  {
   "cell_type": "code",
   "execution_count": 92,
   "metadata": {},
   "outputs": [
    {
     "name": "stdout",
     "output_type": "stream",
     "text": [
      "Results for LINEAR REGRESSION:\n",
      "\n",
      "  Best parameters:\n",
      "\n",
      "    fit_intercept: True\n",
      "\n",
      "  MSE:  0.297\n",
      "  R2:   0.404\n",
      "  EVAR: 0.408\n"
     ]
    }
   ],
   "source": [
    "import json\n",
    "\n",
    "from sklearn.linear_model import LinearRegression\n",
    "from sklearn.metrics      import mean_squared_error, explained_variance_score, r2_score\n",
    "\n",
    "# define the grid search\n",
    "fit_intercept = np.array([False, True]).reshape(-1,1)\n",
    "\n",
    "# define a vector of results with a shape (fit_intercept.shape[0], 3), where 3 is the number of metrics used\n",
    "results = np.zeros((fit_intercept.shape[0], 3))\n",
    "\n",
    "# define the estimator (set normalize to False since we already added standardization)\n",
    "lin_reg = LinearRegression(normalize=False, n_jobs=multi_thread)\n",
    "log.info('Fitting linear regression.')\n",
    "\n",
    "# loop over the hyperparameter optimisation space and save the results in a dictionary\n",
    "opt_results = {'fit_intercept': [],\n",
    "               'mse':           [],\n",
    "               'r2':            [],\n",
    "               'evar':          []\n",
    "              }\n",
    "for n in range(fit_intercept.shape[0]):\n",
    "    \n",
    "    # insert hyperparameter in the estimator\n",
    "    lin_reg.set_params(**{'fit_intercept': fit_intercept[n,:]})\n",
    "\n",
    "    # fit the estimator\n",
    "    lin_reg.fit(X_train, y_train)\n",
    "\n",
    "    # generate predictions on the validation set\n",
    "    y_dev_pred = lin_reg.predict(X_dev)\n",
    "\n",
    "    # compute metrics\n",
    "    mse  = mean_squared_error(y_dev, y_dev_pred) #---------- compute MSE\n",
    "    r2   = r2_score(y_dev, y_dev_pred) #-------------------- compute R2\n",
    "    evar = explained_variance_score(y_dev, y_dev_pred) #---- compute explained variance\n",
    "    results[n,:] = (mse, r2, evar) #------------------------ add to the results\n",
    "    \n",
    "    # save to dictionary\n",
    "    opt_results['fit_intercept'].append(fit_intercept[n,:].squeeze().tolist())\n",
    "    opt_results['mse'].append(mse)\n",
    "    opt_results['r2'].append(r2)\n",
    "    opt_results['evar'].append(evar)\n",
    "    \n",
    "# look for the best results\n",
    "best_arg     = np.argmin(results[:,0])\n",
    "best_results = results[best_arg,:].reshape(-1,1)\n",
    "best_params  = fit_intercept[best_arg,:].reshape(-1,1)\n",
    "\n",
    "# retrain over the training set with the best parameters\n",
    "lin_reg.set_params(**{'fit_intercept': fit_intercept[best_arg,:]})\n",
    "lin_reg.fit(X_train, y_train)\n",
    "\n",
    "# generate predictions on the dev set\n",
    "y_dev_pred = lin_reg.predict(X_dev).reshape(-1,1)\n",
    "\n",
    "# print the best results\n",
    "print('Results for LINEAR REGRESSION:\\n\\n'\n",
    "      '  Best parameters:\\n\\n'\n",
    "      '    fit_intercept: {}\\n\\n'\n",
    "      '  MSE:  {:.3f}\\n'\n",
    "      '  R2:   {:.3f}\\n'\n",
    "      '  EVAR: {:.3f}'\n",
    "      .format(best_params[0,:].squeeze(),\n",
    "              best_results[0,:].squeeze(),\n",
    "              best_results[1,:].squeeze(),\n",
    "              best_results[2,:].squeeze()\n",
    "             )\n",
    "     )\n",
    "\n",
    "# save results to file\n",
    "with open(path.join(OUT_PATH, 'lin_reg_dev_opt_res.json'), 'w') as f:\n",
    "    json.dump(opt_results, f)\n",
    "    log.debug('Linear regression optimisation results (dev set) saved to file.')"
   ]
  },
  {
   "cell_type": "markdown",
   "metadata": {},
   "source": [
    "The confidence interval can be estimated using a Student's $t$-distribution:"
   ]
  },
  {
   "cell_type": "code",
   "execution_count": 93,
   "metadata": {},
   "outputs": [
    {
     "name": "stdout",
     "output_type": "stream",
     "text": [
      "Confidence interval: [ 0.095, 0.499 ]\n"
     ]
    }
   ],
   "source": [
    "from scipy import stats\n",
    "\n",
    "def confidence_interval(y_true, y_pred, confidence=0.95):\n",
    "    '''\n",
    "    Compute the confidence interval of the variance.\n",
    "    \n",
    "    Required arguments:\n",
    "        y_true: true values,\n",
    "        y_pred: predictions.\n",
    "        \n",
    "    Returns:\n",
    "        the array of lower and upper bounds of the confidence interval.\n",
    "    '''\n",
    "    \n",
    "    # compute the deviation of the data and the squared errors\n",
    "    deviation = y_pred - y_true #-------------------------------------- > 0 if overestimating, < 0 if underestimating\n",
    "    sq_errors = deviation ** 2 #--------------------------------------- squared errors\n",
    "\n",
    "    conf_interval = stats.t.interval(confidence,\n",
    "                                     sq_errors.shape[0] - 1,\n",
    "                                     loc=sq_errors.mean(),\n",
    "                                     scale=stats.sem(sq_errors)\n",
    "                                    ) #-------------------------------- compute the confidence interval\n",
    "    \n",
    "    return conf_interval\n",
    "\n",
    "conf_interval = confidence_interval(y_dev, y_dev_pred, confidence=confidence)\n",
    "print('Confidence interval: [ {:.3f}, {:.3f} ]'.format(conf_interval[0].squeeze(), conf_interval[1].squeeze()))"
   ]
  },
  {
   "cell_type": "markdown",
   "metadata": {},
   "source": [
    "We then save the model and its predictions for later use:"
   ]
  },
  {
   "cell_type": "code",
   "execution_count": 94,
   "metadata": {},
   "outputs": [],
   "source": [
    "import joblib\n",
    "\n",
    "def save_res(short_name):\n",
    "    '''\n",
    "    Save results to file.\n",
    "    \n",
    "    Required arguments:\n",
    "        short_name: a short identifier of the estimator considered.\n",
    "    '''\n",
    "    # save the model to file\n",
    "    joblib.dump(lin_reg, path.join(MOD_PATH, short_name + '.joblib.xz'), compress=('xz', 9))\n",
    "\n",
    "    # save predictions to file\n",
    "    dev_predictions = {'y_dev_true': y_dev.squeeze().tolist(),\n",
    "                       'y_dev_pred': y_dev_pred.squeeze().tolist(),\n",
    "                       'y_dev_err':  (y_dev_pred - y_dev).squeeze().tolist()\n",
    "                      }\n",
    "    with open(path.join(OUT_PATH, short_name + '_dev_preds.json'), 'w') as f:\n",
    "        json.dump(dev_predictions, f)\n",
    "\n",
    "save_res('lin_reg')\n",
    "log.debug('Linear regression results (dev set) saved to file.')"
   ]
  },
  {
   "cell_type": "markdown",
   "metadata": {},
   "source": [
    "We can also plot the absolute deviation of the predictions in various ways:"
   ]
  },
  {
   "cell_type": "code",
   "execution_count": 95,
   "metadata": {},
   "outputs": [
    {
     "data": {
      "image/png": "[encoded data removed]",
      "text/plain": [
       "<Figure size 1296x360 with 3 Axes>"
      ]
     },
     "metadata": {
      "needs_background": "light"
     },
     "output_type": "display_data"
    }
   ],
   "source": [
    "from sklearn.preprocessing import Binarizer\n",
    "\n",
    "def error_visualisation(y_true, y_pred):\n",
    "    '''\n",
    "    Visualise plots of the variance of the errors.\n",
    "    \n",
    "    Required arguments:\n",
    "        y_true: true values,\n",
    "        y_pred: predictions.\n",
    "        \n",
    "    Returns:\n",
    "        the Matplotlib axis with the plots.\n",
    "    '''\n",
    "    # compute useful quantities\n",
    "    deviation    = y_pred - y_true #----------------------------------------------- > 0 if overestimating, < 0 if underestimating\n",
    "    binarization = Binarizer(threshold=0.0).transform(deviation) #----------------- +1 if overestimating, 0 if underestimating\n",
    "    digit_bins   = range(int(np.ceil(deviation.min())),\n",
    "                         int(np.ceil(deviation.max())) + 1\n",
    "                        ) #-------------------------------------------------------- define the bins to discretize the deviation\n",
    "    digitization = np.digitize(deviation, \n",
    "                               bins=digit_bins\n",
    "                              ) #-------------------------------------------------- discretize deviation into unit bins\n",
    "\n",
    "    # plot the results\n",
    "    plot = Plot(rows=1, columns=3)\n",
    "\n",
    "    plot.series2D(deviation,\n",
    "                  axis=0,\n",
    "                  title='Deviation of the Predictions on the Development Set',\n",
    "                  xlabel='id of the predictions',\n",
    "                  ylabel='$y_{pred} - y_{true}$',\n",
    "                  binstep=14\n",
    "                 )\n",
    "\n",
    "    plot.hist2D(binarization,\n",
    "                axis=1,\n",
    "                title='Underestimating and Overestimating Predictions',\n",
    "                ylabel='#',\n",
    "                bins=[0,1,2],\n",
    "                labels=['underest.', 'overest.']\n",
    "               )\n",
    "\n",
    "    plot.hist2D(digitization,\n",
    "                axis=2,\n",
    "                title='Distribution of Errors',\n",
    "                ylabel='#',\n",
    "                bins=range(len(digit_bins)+1),\n",
    "                labels=['{} < {}'.format(n-1, n) for n in digit_bins]\n",
    "               )\n",
    "    \n",
    "    return plot\n",
    "\n",
    "plot = error_visualisation(y_dev, y_dev_pred)\n",
    "plot.save_and_close(path.join(IMG_PATH, 'lin_reg_errors'))\n",
    "log.debug('Linear regression plot saved.')"
   ]
  },
  {
   "cell_type": "markdown",
   "metadata": {},
   "source": [
    "Using linear regression we therefore see that:\n",
    "\n",
    "- even though the MSE seems good, the variance has a very large confidence interval,\n",
    "- in general linear regression seems to underestimate the true values,\n",
    "- the distribution of the errors is peaked but in any case spread across a larger number of values,\n",
    "- the $R^2$ and explained variance are similar but far from good."
   ]
  },
  {
   "cell_type": "markdown",
   "metadata": {},
   "source": [
    "### Elastic Net\n",
    "\n",
    "We now consider the linear regression in the presence of $l_1$ and $l_2$ regularisation. We will need to study the hyperparameter space given by the choice of `fit_intercept` as in the linear regression, but also `alpha` and `l1-ratio` which control the regularisation: `alpha` $\\times$ `l1_ratio` is the magnitude of the $l_1$ regularisation, while `alpha` $\\times (1 -$ `l1_ratio` $) / 2$ controls the $l_2$ regularisation."
   ]
  },
  {
   "cell_type": "code",
   "execution_count": null,
   "metadata": {},
   "outputs": [],
   "source": [
    "from sklearn.linear_model import ElasticNet\n",
    "from sklearn.metrics      import mean_squared_error, explained_variance_score, r2_score\n",
    "from skopt                import gp_minimize\n",
    "from skopt.space          import Real, Integer\n",
    "from skopt.utils          import use_named_args\n",
    "\n",
    "# define the hyperparameter search space\n",
    "hyp_names  = ['fit_intercept', 'alpha', 'l1_ratio']\n",
    "hyp_search = [Integer(0, 1, name=hyp_names[0]),\n",
    "              Real(1.0e-7, 1.0e-4, prior='log-uniform', name=hyp_names[1]),\n",
    "              Real(0.0, 1.0, name=hyp_names[2])\n",
    "             ]\n",
    "\n",
    "# define the number of iterations of the optimisation\n",
    "n_calls    = 10\n",
    "\n",
    "# define the estimator\n",
    "el_net = ElasticNet(normalize=False, #------------------------ keep normalize = 0 since we already standardize the features\n",
    "                    max_iter=1e8,\n",
    "                    tol=1.0e-3,\n",
    "                    random_state=RAND\n",
    "                   )\n",
    "\n",
    "# define the objective function\n",
    "@use_named_args(hyp_search)\n",
    "def objective(**params):\n",
    "    '''\n",
    "    Compute the mean squared error on the validation set.\n",
    "    \n",
    "    Required arguments:\n",
    "        **params:  the hyperparameters search space.\n",
    "        \n",
    "    Returns:\n",
    "        the mean squared error of the dev set.\n",
    "    '''\n",
    "    \n",
    "    # fit the estimator to the train set\n",
    "    el_net.set_params(**params)\n",
    "    el_net.fit(X_train, y_train)\n",
    "    \n",
    "    # compute predictions on the dev set\n",
    "    y_dev_pred = el_net.predict(X_dev).reshape(-1,1)\n",
    "    \n",
    "    # compute the mean squared error\n",
    "    return mean_squared_error(y_dev, y_dev_pred)\n",
    "\n",
    "# save the results of the optimisation\n",
    "el_net_res = gp_minimize(objective, hyp_search, n_calls=n_calls, random_state=RAND, n_jobs=multi_thread)\n",
    "skp.dump(el_net_res, path.join(OUT_PATH, 'el_net_dev_opt_res.pkl'))\n",
    "log.debug('Elastic net optimisation results (dev set) saved to file.')"
   ]
  },
  {
   "cell_type": "markdown",
   "metadata": {},
   "source": [
    "We the print the results and compute the metrics:"
   ]
  },
  {
   "cell_type": "code",
   "execution_count": null,
   "metadata": {},
   "outputs": [],
   "source": [
    "# retrieve best results, fit to the training set and print\n",
    "el_net.set_params(**dict(zip(hyp_names, el_net_res.x))) #----- set parameters to best possible choice\n",
    "el_net.fit(X_train, y_train) #-------------------------------- fit again on the training set\n",
    "y_dev_pred = el_net.predict(X_dev).reshape(-1,1) #------------ compute predictions\n",
    "\n",
    "print('Results for ELASTIC NET:\\n')\n",
    "print('  Best parameters:\\n')\n",
    "for name, value in zip(hyp_names, el_net_res.x):\n",
    "    print('    {}: {}'.format(name, value))\n",
    "    \n",
    "print('\\n  MSE:  {:.3f}'.format(mean_squared_error(y_dev, y_dev_pred)))\n",
    "print('  R2:   {:.3f}'.format(r2_score(y_dev, y_dev_pred)))\n",
    "print('  EVAR: {:.3f}'.format(explained_variance_score(y_dev, y_dev_pred)))"
   ]
  },
  {
   "cell_type": "markdown",
   "metadata": {},
   "source": [
    "Results can then be completed by computing the confidence interval:"
   ]
  },
  {
   "cell_type": "code",
   "execution_count": null,
   "metadata": {},
   "outputs": [],
   "source": [
    "conf_interval = confidence_interval(y_dev, y_dev_pred, confidence=confidence)\n",
    "print('Confidence interval: [ {:.3f}, {:.3f} ]'.format(conf_interval[0].squeeze(), conf_interval[1].squeeze()))"
   ]
  },
  {
   "cell_type": "markdown",
   "metadata": {},
   "source": [
    "We then save the results to file:"
   ]
  },
  {
   "cell_type": "code",
   "execution_count": null,
   "metadata": {},
   "outputs": [],
   "source": [
    "save_res('el_net')\n",
    "log.debug('Elastic net results (dev set) saved to file.')"
   ]
  },
  {
   "cell_type": "markdown",
   "metadata": {},
   "source": [
    "Finally we visualise the distribution of the variance of the errors in plots:"
   ]
  },
  {
   "cell_type": "code",
   "execution_count": null,
   "metadata": {},
   "outputs": [],
   "source": [
    "plot = error_visualisation(y_dev, y_dev_pred)\n",
    "plot.save_and_close(path.join(IMG_PATH, 'el_net_errors'))\n",
    "log.debug('Elastic net plot saved.')"
   ]
  },
  {
   "cell_type": "markdown",
   "metadata": {},
   "source": [
    "With the introduction of regularisation we find:\n",
    "\n",
    "- in general the MSE is worse, and the confidence interval seems to be larger,\n",
    "- errors are in general underestimating, but they are confined in a smaller range,\n",
    "- overestimating errors tend to have larger absolute deviations,\n",
    "- $R^2$ and explained variance are again similar but worse than the simple linear regression,\n",
    "- the algorithm seems to prefer a very small $l_1$ regularization (any an almost vanishing $l_2$ regularisation)."
   ]
  },
  {
   "cell_type": "markdown",
   "metadata": {},
   "source": [
    "### Lasso\n",
    "\n",
    "Given the results of the elastic net, we implement the lasso regression which a pure $l_1$ regularisation. We will therefore control only one hyperparameter `alpha` which represents the magnitude of the regularisation."
   ]
  },
  {
   "cell_type": "code",
   "execution_count": null,
   "metadata": {},
   "outputs": [],
   "source": [
    "from sklearn.linear_model import Lasso\n",
    "from sklearn.metrics      import mean_squared_error, explained_variance_score, r2_score\n",
    "from skopt                import gp_minimize\n",
    "from skopt.space          import Real, Integer\n",
    "from skopt.utils          import use_named_args\n",
    "\n",
    "# define the hyperparameter search space\n",
    "hyp_names  = ['fit_intercept', 'alpha']\n",
    "hyp_search = [Integer(0, 1, name=hyp_names[0]),\n",
    "              Real(1.0e-5, 1.0e-2, prior='log-uniform', name=hyp_names[1])\n",
    "             ]\n",
    "\n",
    "# define the number of iterations of the optimisation\n",
    "n_calls    = 10\n",
    "\n",
    "# define the estimator\n",
    "lasso = Lasso(normalize=False, #------------------------ keep normalize = 0 since we already standardize the features\n",
    "              max_iter=1e8,\n",
    "              tol=1.0e-3,\n",
    "              random_state=RAND\n",
    "             )\n",
    "\n",
    "# define the objective function\n",
    "@use_named_args(hyp_search)\n",
    "def objective(**params):\n",
    "    '''\n",
    "    Compute the mean squared error on the validation set.\n",
    "    \n",
    "    Required arguments:\n",
    "        **params:  the hyperparameters search space.\n",
    "        \n",
    "    Returns:\n",
    "        the mean squared error of the dev set.\n",
    "    '''\n",
    "    \n",
    "    # fit the estimator to the train set\n",
    "    lasso.set_params(**params)\n",
    "    lasso.fit(X_train, y_train)\n",
    "    \n",
    "    # compute predictions on the dev set\n",
    "    y_dev_pred = lasso.predict(X_dev).reshape(-1,1)\n",
    "    \n",
    "    # compute the mean squared error\n",
    "    return mean_squared_error(y_dev, y_dev_pred)\n",
    "\n",
    "# save the results of the optimisation\n",
    "lasso_res = gp_minimize(objective, hyp_search, n_calls=n_calls, random_state=RAND, n_jobs=multi_thread)\n",
    "skp.dump(lasso_res, path.join(OUT_PATH, 'lasso_dev_opt_res.pkl'))\n",
    "log.debug('Lasso optimisation results (dev set) saved to file.')"
   ]
  },
  {
   "cell_type": "markdown",
   "metadata": {},
   "source": [
    "We the print the results and compute the metrics:"
   ]
  },
  {
   "cell_type": "code",
   "execution_count": null,
   "metadata": {},
   "outputs": [],
   "source": [
    "# retrieve best results, fit to the training set and print\n",
    "lasso.set_params(**dict(zip(hyp_names, lasso_res.x))) #----- set parameters to best possible choice\n",
    "lasso.fit(X_train, y_train) #-------------------------------- fit again on the training set\n",
    "y_dev_pred = lasso.predict(X_dev).reshape(-1,1) #------------ compute predictions\n",
    "\n",
    "print('Results for LASSO:\\n')\n",
    "print('  Best parameters:\\n')\n",
    "for name, value in zip(hyp_names, lasso_res.x):\n",
    "    print('    {}: {}'.format(name, value))\n",
    "    \n",
    "print('\\n  MSE:  {:.3f}'.format(mean_squared_error(y_dev, y_dev_pred)))\n",
    "print('  R2:   {:.3f}'.format(r2_score(y_dev, y_dev_pred)))\n",
    "print('  EVAR: {:.3f}'.format(explained_variance_score(y_dev, y_dev_pred)))"
   ]
  },
  {
   "cell_type": "markdown",
   "metadata": {},
   "source": [
    "Results can then be completed by computing the confidence interval:"
   ]
  },
  {
   "cell_type": "code",
   "execution_count": null,
   "metadata": {},
   "outputs": [],
   "source": [
    "conf_interval = confidence_interval(y_dev, y_dev_pred, confidence=confidence)\n",
    "print('Confidence interval: [ {:.3f}, {:.3f} ]'.format(conf_interval[0].squeeze(), conf_interval[1].squeeze()))"
   ]
  },
  {
   "cell_type": "markdown",
   "metadata": {},
   "source": [
    "We then save the results to file:"
   ]
  },
  {
   "cell_type": "code",
   "execution_count": null,
   "metadata": {},
   "outputs": [],
   "source": [
    "save_res('lasso')\n",
    "log.debug('Lasso results (dev set) saved to file.')"
   ]
  },
  {
   "cell_type": "markdown",
   "metadata": {},
   "source": [
    "Finally we visualise the distribution of the variance of the errors in plots:"
   ]
  },
  {
   "cell_type": "code",
   "execution_count": null,
   "metadata": {},
   "outputs": [],
   "source": [
    "plot = error_visualisation(y_dev, y_dev_pred)\n",
    "plot.save_and_close(path.join(IMG_PATH, 'lasso_errors'))\n",
    "log.debug('Lasso plot saved.')"
   ]
  },
  {
   "cell_type": "markdown",
   "metadata": {},
   "source": [
    "Given the elastic net regression, we introduced just the $l_1$ regularised version of linear regression:\n",
    "\n",
    "- we find the same scores as for the elastic net ($l_2$ regularisation does not influence the results),\n",
    "- the confidence interval is the same as in the elastic net,\n",
    "- underestimating errors are restricted to a small interval, while overestimating errors are in general spread across several values."
   ]
  },
  {
   "cell_type": "markdown",
   "metadata": {},
   "source": [
    "All in all, it seems that adding the regularisation is not helping."
   ]
  },
  {
   "cell_type": "markdown",
   "metadata": {},
   "source": [
    "### Linear SVR\n",
    "\n",
    "We now study the support vector machine without using the kernel trick. We will therefore control a wider range of possible hyperparameters mainly related to the _soft margin_ implementation of SVR for regression."
   ]
  },
  {
   "cell_type": "code",
   "execution_count": null,
   "metadata": {},
   "outputs": [],
   "source": [
    "from sklearn.svm     import LinearSVR\n",
    "from sklearn.metrics import mean_squared_error, explained_variance_score, r2_score\n",
    "from skopt           import gp_minimize\n",
    "from skopt.space     import Real, Integer, Categorical\n",
    "from skopt.utils     import use_named_args\n",
    "\n",
    "# define the hyperparameter search space\n",
    "hyp_names  = ['fit_intercept', 'epsilon', 'C', 'loss', 'intercept_scaling']\n",
    "hyp_search = [Integer(0, 1, name=hyp_names[0]),\n",
    "              Real(1.0e-9, 1.0e-2, prior='log-uniform', name=hyp_names[1]),\n",
    "              Real(1.0e-4, 1.0e1, prior='log-uniform', name=hyp_names[2]),\n",
    "              Categorical(['epsilon_insensitive', 'squared_epsilon_insensitive'], name=hyp_names[3]),\n",
    "              Real(1.0e-3, 1.0e1, prior='log-uniform', name=hyp_names[4])\n",
    "             ]\n",
    "\n",
    "# define the number of iterations of the optimisation\n",
    "n_calls    = 10\n",
    "\n",
    "# define the estimator\n",
    "lin_svr = LinearSVR(dual=True,\n",
    "                    max_iter=1e6,\n",
    "                    random_state=RAND\n",
    "                   )\n",
    "\n",
    "# define the objective function\n",
    "@use_named_args(hyp_search)\n",
    "def objective(**params):\n",
    "    '''\n",
    "    Compute the mean squared error on the validation set.\n",
    "    \n",
    "    Required arguments:\n",
    "        **params:  the hyperparameters search space.\n",
    "        \n",
    "    Returns:\n",
    "        the mean squared error of the dev set.\n",
    "    '''\n",
    "    \n",
    "    # fit the estimator to the train set\n",
    "    lin_svr.set_params(**params)\n",
    "    lin_svr.fit(X_train, y_train.ravel())\n",
    "    \n",
    "    # compute predictions on the dev set\n",
    "    y_dev_pred = lin_svr.predict(X_dev).reshape(-1,1)\n",
    "    \n",
    "    # compute the mean squared error\n",
    "    return mean_squared_error(y_dev, y_dev_pred)\n",
    "\n",
    "# save the results of the optimisation\n",
    "lin_svr_res = gp_minimize(objective, hyp_search, n_calls=n_calls, random_state=RAND, n_jobs=multi_thread)\n",
    "skp.dump(lin_svr_res, path.join(OUT_PATH, 'lin_svr_dev_opt_res.pkl'))\n",
    "log.debug('Linear SVR optimisation results (dev set) saved to file.')"
   ]
  },
  {
   "cell_type": "markdown",
   "metadata": {},
   "source": [
    "We the print the results and compute the metrics:"
   ]
  },
  {
   "cell_type": "code",
   "execution_count": null,
   "metadata": {},
   "outputs": [],
   "source": [
    "# retrieve best results, fit to the training set and print\n",
    "lin_svr.set_params(**dict(zip(hyp_names, lin_svr_res.x))) #---- set parameters to best possible choice\n",
    "lin_svr.fit(X_train, y_train.ravel()) #------------------------ fit again on the training set\n",
    "y_dev_pred = lin_svr.predict(X_dev).reshape(-1,1) #------------ compute predictions\n",
    "\n",
    "print('Results for LINEAR SVR:\\n')\n",
    "print('  Best parameters:\\n')\n",
    "for name, value in zip(hyp_names, lin_svr_res.x):\n",
    "    print('    {}: {}'.format(name, value))\n",
    "    \n",
    "print('\\n  MSE:  {:.3f}'.format(mean_squared_error(y_dev, y_dev_pred)))\n",
    "print('  R2:   {:.3f}'.format(r2_score(y_dev, y_dev_pred)))\n",
    "print('  EVAR: {:.3f}'.format(explained_variance_score(y_dev, y_dev_pred)))"
   ]
  },
  {
   "cell_type": "markdown",
   "metadata": {},
   "source": [
    "Results can then be completed by computing the confidence interval:"
   ]
  },
  {
   "cell_type": "code",
   "execution_count": null,
   "metadata": {},
   "outputs": [],
   "source": [
    "conf_interval = confidence_interval(y_dev, y_dev_pred, confidence=confidence)\n",
    "print('Confidence interval: [ {:.3f}, {:.3f} ]'.format(conf_interval[0].squeeze(), conf_interval[1].squeeze()))"
   ]
  },
  {
   "cell_type": "markdown",
   "metadata": {},
   "source": [
    "We then save the results to file:"
   ]
  },
  {
   "cell_type": "code",
   "execution_count": null,
   "metadata": {},
   "outputs": [],
   "source": [
    "save_res('lin_svr')\n",
    "log.debug('Linear SVR results (dev set) saved to file.')"
   ]
  },
  {
   "cell_type": "markdown",
   "metadata": {},
   "source": [
    "Finally we visualise the distribution of the variance of the errors in plots:"
   ]
  },
  {
   "cell_type": "code",
   "execution_count": null,
   "metadata": {},
   "outputs": [],
   "source": [
    "plot = error_visualisation(y_dev, y_dev_pred)\n",
    "plot.save_and_close(path.join(IMG_PATH, 'lin_svr_errors'))\n",
    "log.debug('Linear SVR plot saved.')"
   ]
  },
  {
   "cell_type": "markdown",
   "metadata": {},
   "source": [
    "It seems that the support vectors without the kernel trick do not improve the situation seen with the linear regression:\n",
    "\n",
    "- we find the same scores as for the elastic net,\n",
    "- the confidence interval is more restricted, signalling in any case a better convergence of the values,\n",
    "- underestimating errors are restricted to a small interval, while overestimating errors are in general spread across several values."
   ]
  },
  {
   "cell_type": "markdown",
   "metadata": {},
   "source": [
    "### SVR (Gaussian kernel)\n",
    "\n",
    "We then focus on SVR with the kernel trick: we consider a Gaussian kernel (_rbf_) and implement the analysis."
   ]
  },
  {
   "cell_type": "code",
   "execution_count": 71,
   "metadata": {},
   "outputs": [
    {
     "name": "stderr",
     "output_type": "stream",
     "text": [
      "/home/riccardo/anaconda/envs/ml/lib/python3.7/site-packages/skopt/optimizer/optimizer.py:409: UserWarning: The objective has been evaluated at this point before.\n",
      "  warnings.warn(\"The objective has been evaluated \"\n",
      "/home/riccardo/anaconda/envs/ml/lib/python3.7/site-packages/skopt/optimizer/optimizer.py:409: UserWarning: The objective has been evaluated at this point before.\n",
      "  warnings.warn(\"The objective has been evaluated \"\n"
     ]
    }
   ],
   "source": [
    "from sklearn.svm     import SVR\n",
    "from sklearn.metrics import mean_squared_error, explained_variance_score, r2_score\n",
    "from skopt           import gp_minimize\n",
    "from skopt.space     import Real, Integer, Categorical\n",
    "from skopt.utils     import use_named_args\n",
    "\n",
    "# define the hyperparameter search space\n",
    "hyp_names  = ['gamma', 'epsilon', 'C']\n",
    "hyp_search = [Real(1.0e-3, 1.0e-1, prior='log-uniform', name=hyp_names[0]),\n",
    "              Real(1.0e-9, 1.0e-2, prior='log-uniform', name=hyp_names[1]),\n",
    "              Real(1.0e-4, 1.0e1, prior='log-uniform', name=hyp_names[2])\n",
    "             ]\n",
    "\n",
    "# define the number of iterations of the optimisation\n",
    "n_calls    = 10\n",
    "\n",
    "# define the estimator\n",
    "svr_rbf = SVR(kernel='rbf')\n",
    "\n",
    "# define the objective function\n",
    "@use_named_args(hyp_search)\n",
    "def objective(**params):\n",
    "    '''\n",
    "    Compute the mean squared error on the validation set.\n",
    "    \n",
    "    Required arguments:\n",
    "        **params:  the hyperparameters search space.\n",
    "        \n",
    "    Returns:\n",
    "        the mean squared error of the dev set.\n",
    "    '''\n",
    "    \n",
    "    # fit the estimator to the train set\n",
    "    svr_rbf.set_params(**params)\n",
    "    svr_rbf.fit(X_train, y_train.ravel())\n",
    "    \n",
    "    # compute predictions on the dev set\n",
    "    y_dev_pred = svr_rbf.predict(X_dev).reshape(-1,1)\n",
    "    \n",
    "    # compute the mean squared error\n",
    "    return mean_squared_error(y_dev, y_dev_pred)\n",
    "\n",
    "# save the results of the optimisation\n",
    "svr_rbf_res = gp_minimize(objective, hyp_search, n_calls=n_calls, random_state=RAND, n_jobs=multi_thread)\n",
    "skp.dump(svr_rbf_res, path.join(OUT_PATH, 'svr_rbf_dev_opt_res.pkl'))\n",
    "log.debug('SVR optimisation results (dev set) saved to file.')"
   ]
  },
  {
   "cell_type": "markdown",
   "metadata": {},
   "source": [
    "We the print the results and compute the metrics:"
   ]
  },
  {
   "cell_type": "code",
   "execution_count": 72,
   "metadata": {},
   "outputs": [
    {
     "name": "stdout",
     "output_type": "stream",
     "text": [
      "Results for SVR (rbf kernel):\n",
      "\n",
      "  Best parameters:\n",
      "\n",
      "    gamma: 0.1\n",
      "    epsilon: 0.01\n",
      "    C: 10.0\n",
      "\n",
      "  MSE:  0.153\n",
      "  R2:   0.693\n",
      "  EVAR: 0.710\n"
     ]
    }
   ],
   "source": [
    "# retrieve best results, fit to the training set and print\n",
    "svr_rbf.set_params(**dict(zip(hyp_names, svr_rbf_res.x))) #---- set parameters to best possible choice\n",
    "svr_rbf.fit(X_train, y_train.ravel()) #------------------------ fit again on the training set\n",
    "y_dev_pred = svr_rbf.predict(X_dev).reshape(-1,1) #------------ compute predictions\n",
    "\n",
    "print('Results for SVR (rbf kernel):\\n')\n",
    "print('  Best parameters:\\n')\n",
    "for name, value in zip(hyp_names, svr_rbf_res.x):\n",
    "    print('    {}: {}'.format(name, value))\n",
    "    \n",
    "print('\\n  MSE:  {:.3f}'.format(mean_squared_error(y_dev, y_dev_pred)))\n",
    "print('  R2:   {:.3f}'.format(r2_score(y_dev, y_dev_pred)))\n",
    "print('  EVAR: {:.3f}'.format(explained_variance_score(y_dev, y_dev_pred)))"
   ]
  },
  {
   "cell_type": "markdown",
   "metadata": {},
   "source": [
    "Results can then be completed by computing the confidence interval:"
   ]
  },
  {
   "cell_type": "code",
   "execution_count": 73,
   "metadata": {},
   "outputs": [
    {
     "name": "stdout",
     "output_type": "stream",
     "text": [
      "Confidence interval: [ 0.060, 0.246 ]\n"
     ]
    }
   ],
   "source": [
    "conf_interval = confidence_interval(y_dev, y_dev_pred, confidence=confidence)\n",
    "print('Confidence interval: [ {:.3f}, {:.3f} ]'.format(conf_interval[0].squeeze(), conf_interval[1].squeeze()))"
   ]
  },
  {
   "cell_type": "markdown",
   "metadata": {},
   "source": [
    "We then save the results to file:"
   ]
  },
  {
   "cell_type": "code",
   "execution_count": 74,
   "metadata": {},
   "outputs": [],
   "source": [
    "save_res('svr_rbf')\n",
    "log.debug('SVR results (dev set) saved to file.')"
   ]
  },
  {
   "cell_type": "markdown",
   "metadata": {},
   "source": [
    "Finally we visualise the distribution of the variance of the errors in plots:"
   ]
  },
  {
   "cell_type": "code",
   "execution_count": 75,
   "metadata": {},
   "outputs": [
    {
     "data": {
      "image/png": "[encoded data removed]",
      "text/plain": [
       "<Figure size 1296x360 with 3 Axes>"
      ]
     },
     "metadata": {
      "needs_background": "light"
     },
     "output_type": "display_data"
    }
   ],
   "source": [
    "plot = error_visualisation(y_dev, y_dev_pred)\n",
    "plot.save_and_close(path.join(IMG_PATH, 'svr_rbf_errors'))\n",
    "log.debug('SVR plot saved.')"
   ]
  },
  {
   "cell_type": "markdown",
   "metadata": {},
   "source": [
    "The introduction of the kernel trick seems to drastically improve the situation:\n",
    "\n",
    "- the value of the MSE is significantly reduces and the $R^2$ and explained variance show a better results,\n",
    "- the confidence interval peaked around the value of the MSE,\n",
    "- underestimating and overestimating errors seem to be balanced and restricted to smaller intervals."
   ]
  },
  {
   "cell_type": "code",
   "execution_count": null,
   "metadata": {},
   "outputs": [],
   "source": []
  }
 ],
 "metadata": {
  "kernelspec": {
   "display_name": "Python 3",
   "language": "python",
   "name": "python3"
  },
  "language_info": {
   "codemirror_mode": {
    "name": "ipython",
    "version": 3
   },
   "file_extension": ".py",
   "mimetype": "text/x-python",
   "name": "python",
   "nbconvert_exporter": "python",
   "pygments_lexer": "ipython3",
   "version": "3.7.6"
  },
  "toc-autonumbering": true,
  "toc-showcode": false,
  "toc-showmarkdowntxt": false
 },
 "nbformat": 4,
 "nbformat_minor": 4
}
