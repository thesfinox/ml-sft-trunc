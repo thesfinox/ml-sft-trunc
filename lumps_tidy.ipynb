{
 "cells": [
  {
   "cell_type": "markdown",
   "metadata": {
    "papermill": {
     "duration": 0.011443,
     "end_time": "2020-08-27T17:28:19.880892",
     "exception": false,
     "start_time": "2020-08-27T17:28:19.869449",
     "status": "completed"
    },
    "tags": []
   },
   "source": [
    "# Machine Learning for String Field Theory\n",
    "\n",
    "*H. Erbin, R. Finotello, M. Kudrna, M. Schnabl*\n",
    "\n",
    "## Abstract\n",
    "\n",
    "In the framework of bosonic **Open String Field Theory** (OSFT), we consider several observables characterised by conformal weight, periodicity of the oscillations and the position of vacua in the potential for various values of truncated mass level.\n",
    "We focus on the prediction of the extrapolated value for the level-$\\infty$ truncation using Machine Learning (ML) techniques.\n",
    "\n",
    "## Synopsis\n",
    "\n",
    "In this notebook we tidy and convert the datasets from their original format of the **lump solutions** to a CSV-like format for training and predictions.\n",
    "\n",
    "## General Observations\n",
    "\n",
    "Each entry in the datasets represents one observable in OSFT.\n",
    "Since these observables are represented by vector entries in the dataset, we also introduce a new label which will identify the observable inside its original solution vector.\n",
    "\n",
    "Together with the features labelling the observable, we also have the values of such observable at different truncation levels.\n",
    "The purpose of the analysis is eventually to compute the extrapolated values at $\\infty$ level truncation.\n",
    "The data is therefore twofold: some variable are labelling the observable, while the values of the truncation levels should then be compared with the values at $\\infty$."
   ]
  },
  {
   "cell_type": "code",
   "execution_count": 1,
   "metadata": {
    "execution": {
     "iopub.execute_input": "2020-08-27T17:28:19.906189Z",
     "iopub.status.busy": "2020-08-27T17:28:19.898363Z",
     "iopub.status.idle": "2020-08-27T17:28:20.051507Z",
     "shell.execute_reply": "2020-08-27T17:28:20.051704Z"
    },
    "papermill": {
     "duration": 0.164241,
     "end_time": "2020-08-27T17:28:20.051780",
     "exception": false,
     "start_time": "2020-08-27T17:28:19.887539",
     "status": "completed"
    },
    "tags": []
   },
   "outputs": [],
   "source": [
    "%load_ext autoreload\n",
    "%autoreload 2\n",
    "\n",
    "import pandas as pd\n",
    "import numpy as np\n",
    "import re\n",
    "import os"
   ]
  },
  {
   "cell_type": "code",
   "execution_count": 2,
   "metadata": {
    "execution": {
     "iopub.execute_input": "2020-08-27T17:28:20.066938Z",
     "iopub.status.busy": "2020-08-27T17:28:20.066688Z",
     "iopub.status.idle": "2020-08-27T17:28:20.071855Z",
     "shell.execute_reply": "2020-08-27T17:28:20.071641Z"
    },
    "papermill": {
     "duration": 0.013342,
     "end_time": "2020-08-27T17:28:20.071906",
     "exception": false,
     "start_time": "2020-08-27T17:28:20.058564",
     "status": "completed"
    },
    "tags": []
   },
   "outputs": [],
   "source": [
    "# create shortcuts for paths\n",
    "proot = lambda s: os.path.join('.', s)\n",
    "pdata = lambda s: os.path.join(proot('data'), s)"
   ]
  },
  {
   "cell_type": "markdown",
   "metadata": {
    "papermill": {
     "duration": 0.007223,
     "end_time": "2020-08-27T17:28:20.085850",
     "exception": false,
     "start_time": "2020-08-27T17:28:20.078627",
     "status": "completed"
    },
    "tags": []
   },
   "source": [
    "## Load the Dataset"
   ]
  },
  {
   "cell_type": "code",
   "execution_count": 3,
   "metadata": {
    "execution": {
     "iopub.execute_input": "2020-08-27T17:28:20.104510Z",
     "iopub.status.busy": "2020-08-27T17:28:20.104220Z",
     "iopub.status.idle": "2020-08-27T17:28:20.114899Z",
     "shell.execute_reply": "2020-08-27T17:28:20.115100Z"
    },
    "papermill": {
     "duration": 0.022725,
     "end_time": "2020-08-27T17:28:20.115159",
     "exception": false,
     "start_time": "2020-08-27T17:28:20.092434",
     "status": "completed"
    },
    "tags": []
   },
   "outputs": [
    {
     "name": "stdout",
     "output_type": "stream",
     "text": [
      "<class 'pandas.core.frame.DataFrame'>\n",
      "RangeIndex: 46 entries, 0 to 45\n",
      "Data columns (total 21 columns):\n",
      " #   Column  Non-Null Count  Dtype \n",
      "---  ------  --------------  ----- \n",
      " 0   init    46 non-null     object\n",
      " 1   exp     46 non-null     object\n",
      " 2   weight  46 non-null     object\n",
      " 3   type    46 non-null     object\n",
      " 4   2.      46 non-null     object\n",
      " 5   3.      46 non-null     object\n",
      " 6   4.      46 non-null     object\n",
      " 7   5.      46 non-null     object\n",
      " 8   6.      46 non-null     object\n",
      " 9   7.      46 non-null     object\n",
      " 10  8.      46 non-null     object\n",
      " 11  9.      46 non-null     object\n",
      " 12  10.     46 non-null     object\n",
      " 13  11.     46 non-null     object\n",
      " 14  12.     46 non-null     object\n",
      " 15  13.     46 non-null     object\n",
      " 16  14.     46 non-null     object\n",
      " 17  15.     46 non-null     object\n",
      " 18  16.     46 non-null     object\n",
      " 19  17.     46 non-null     object\n",
      " 20  18.     46 non-null     object\n",
      "dtypes: object(21)\n",
      "memory usage: 7.7+ KB\n"
     ]
    }
   ],
   "source": [
    "df = pd.read_json(pdata('mathematica_lumps.json'))\n",
    "df.info()"
   ]
  },
  {
   "cell_type": "markdown",
   "metadata": {
    "papermill": {
     "duration": 0.006686,
     "end_time": "2020-08-27T17:28:20.128552",
     "exception": false,
     "start_time": "2020-08-27T17:28:20.121866",
     "status": "completed"
    },
    "tags": []
   },
   "source": [
    "The dataset is made of 46 non-null vector entries (the dataset is complete).\n",
    "We need to:\n",
    "\n",
    "1. rename the variables of the truncation levels to be human manageable,\n",
    "2. add a label for each solution,\n",
    "3. flatten the entries,\n",
    "4. remove the initial point,\n",
    "5. get the dummy variables for the type of oscillations."
   ]
  },
  {
   "cell_type": "markdown",
   "metadata": {
    "papermill": {
     "duration": 0.006665,
     "end_time": "2020-08-27T17:28:20.141910",
     "exception": false,
     "start_time": "2020-08-27T17:28:20.135245",
     "status": "completed"
    },
    "tags": []
   },
   "source": [
    "## Rename the columns"
   ]
  },
  {
   "cell_type": "code",
   "execution_count": 4,
   "metadata": {
    "execution": {
     "iopub.execute_input": "2020-08-27T17:28:20.157079Z",
     "iopub.status.busy": "2020-08-27T17:28:20.156712Z",
     "iopub.status.idle": "2020-08-27T17:28:20.164830Z",
     "shell.execute_reply": "2020-08-27T17:28:20.164590Z"
    },
    "papermill": {
     "duration": 0.01625,
     "end_time": "2020-08-27T17:28:20.164880",
     "exception": false,
     "start_time": "2020-08-27T17:28:20.148630",
     "status": "completed"
    },
    "tags": []
   },
   "outputs": [
    {
     "name": "stdout",
     "output_type": "stream",
     "text": [
      "<class 'pandas.core.frame.DataFrame'>\n",
      "RangeIndex: 46 entries, 0 to 45\n",
      "Data columns (total 21 columns):\n",
      " #   Column    Non-Null Count  Dtype \n",
      "---  ------    --------------  ----- \n",
      " 0   init      46 non-null     object\n",
      " 1   exp       46 non-null     object\n",
      " 2   weight    46 non-null     object\n",
      " 3   type      46 non-null     object\n",
      " 4   level_2   46 non-null     object\n",
      " 5   level_3   46 non-null     object\n",
      " 6   level_4   46 non-null     object\n",
      " 7   level_5   46 non-null     object\n",
      " 8   level_6   46 non-null     object\n",
      " 9   level_7   46 non-null     object\n",
      " 10  level_8   46 non-null     object\n",
      " 11  level_9   46 non-null     object\n",
      " 12  level_10  46 non-null     object\n",
      " 13  level_11  46 non-null     object\n",
      " 14  level_12  46 non-null     object\n",
      " 15  level_13  46 non-null     object\n",
      " 16  level_14  46 non-null     object\n",
      " 17  level_15  46 non-null     object\n",
      " 18  level_16  46 non-null     object\n",
      " 19  level_17  46 non-null     object\n",
      " 20  level_18  46 non-null     object\n",
      "dtypes: object(21)\n",
      "memory usage: 7.7+ KB\n"
     ]
    }
   ],
   "source": [
    "columns = lambda c: re.sub(r'(.*)[.]', r'level_\\1', c)\n",
    "df = df.rename(columns=columns)\n",
    "df.info()"
   ]
  },
  {
   "cell_type": "markdown",
   "metadata": {
    "papermill": {
     "duration": 0.006811,
     "end_time": "2020-08-27T17:28:20.178679",
     "exception": false,
     "start_time": "2020-08-27T17:28:20.171868",
     "status": "completed"
    },
    "tags": []
   },
   "source": [
    "## Drop Perfect Match"
   ]
  },
  {
   "cell_type": "code",
   "execution_count": 5,
   "metadata": {
    "execution": {
     "iopub.execute_input": "2020-08-27T17:28:20.200397Z",
     "iopub.status.busy": "2020-08-27T17:28:20.193894Z",
     "iopub.status.idle": "2020-08-27T17:28:20.201867Z",
     "shell.execute_reply": "2020-08-27T17:28:20.201656Z"
    },
    "papermill": {
     "duration": 0.01641,
     "end_time": "2020-08-27T17:28:20.201917",
     "exception": false,
     "start_time": "2020-08-27T17:28:20.185507",
     "status": "completed"
    },
    "tags": []
   },
   "outputs": [
    {
     "name": "stdout",
     "output_type": "stream",
     "text": [
      "<class 'pandas.core.frame.DataFrame'>\n",
      "RangeIndex: 45 entries, 1 to 45\n",
      "Data columns (total 21 columns):\n",
      " #   Column    Non-Null Count  Dtype \n",
      "---  ------    --------------  ----- \n",
      " 0   init      45 non-null     object\n",
      " 1   exp       45 non-null     object\n",
      " 2   weight    45 non-null     object\n",
      " 3   type      45 non-null     object\n",
      " 4   level_2   45 non-null     object\n",
      " 5   level_3   45 non-null     object\n",
      " 6   level_4   45 non-null     object\n",
      " 7   level_5   45 non-null     object\n",
      " 8   level_6   45 non-null     object\n",
      " 9   level_7   45 non-null     object\n",
      " 10  level_8   45 non-null     object\n",
      " 11  level_9   45 non-null     object\n",
      " 12  level_10  45 non-null     object\n",
      " 13  level_11  45 non-null     object\n",
      " 14  level_12  45 non-null     object\n",
      " 15  level_13  45 non-null     object\n",
      " 16  level_14  45 non-null     object\n",
      " 17  level_15  45 non-null     object\n",
      " 18  level_16  45 non-null     object\n",
      " 19  level_17  45 non-null     object\n",
      " 20  level_18  45 non-null     object\n",
      "dtypes: object(21)\n",
      "memory usage: 7.5+ KB\n"
     ]
    }
   ],
   "source": [
    "df = df.iloc[1:]\n",
    "df.info()"
   ]
  },
  {
   "cell_type": "markdown",
   "metadata": {
    "papermill": {
     "duration": 0.007052,
     "end_time": "2020-08-27T17:28:20.216013",
     "exception": false,
     "start_time": "2020-08-27T17:28:20.208961",
     "status": "completed"
    },
    "tags": []
   },
   "source": [
    "## Add label"
   ]
  },
  {
   "cell_type": "code",
   "execution_count": 6,
   "metadata": {
    "execution": {
     "iopub.execute_input": "2020-08-27T17:28:20.236088Z",
     "iopub.status.busy": "2020-08-27T17:28:20.235799Z",
     "iopub.status.idle": "2020-08-27T17:28:20.242948Z",
     "shell.execute_reply": "2020-08-27T17:28:20.242708Z"
    },
    "papermill": {
     "duration": 0.019936,
     "end_time": "2020-08-27T17:28:20.242997",
     "exception": false,
     "start_time": "2020-08-27T17:28:20.223061",
     "status": "completed"
    },
    "tags": []
   },
   "outputs": [
    {
     "name": "stdout",
     "output_type": "stream",
     "text": [
      "<class 'pandas.core.frame.DataFrame'>\n",
      "RangeIndex: 45 entries, 1 to 45\n",
      "Data columns (total 22 columns):\n",
      " #   Column    Non-Null Count  Dtype \n",
      "---  ------    --------------  ----- \n",
      " 0   init      45 non-null     object\n",
      " 1   exp       45 non-null     object\n",
      " 2   weight    45 non-null     object\n",
      " 3   type      45 non-null     object\n",
      " 4   level_2   45 non-null     object\n",
      " 5   level_3   45 non-null     object\n",
      " 6   level_4   45 non-null     object\n",
      " 7   level_5   45 non-null     object\n",
      " 8   level_6   45 non-null     object\n",
      " 9   level_7   45 non-null     object\n",
      " 10  level_8   45 non-null     object\n",
      " 11  level_9   45 non-null     object\n",
      " 12  level_10  45 non-null     object\n",
      " 13  level_11  45 non-null     object\n",
      " 14  level_12  45 non-null     object\n",
      " 15  level_13  45 non-null     object\n",
      " 16  level_14  45 non-null     object\n",
      " 17  level_15  45 non-null     object\n",
      " 18  level_16  45 non-null     object\n",
      " 19  level_17  45 non-null     object\n",
      " 20  level_18  45 non-null     object\n",
      " 21  solution  45 non-null     object\n",
      "dtypes: object(22)\n",
      "memory usage: 7.9+ KB\n"
     ]
    }
   ],
   "source": [
    "shapes = list(df.applymap(len).max(axis=1))\n",
    "labels = [[k+1] * n for k, n in list(zip(range(df.shape[0]), shapes))]\n",
    "df['solution'] = labels\n",
    "df.info()"
   ]
  },
  {
   "cell_type": "markdown",
   "metadata": {
    "papermill": {
     "duration": 0.007161,
     "end_time": "2020-08-27T17:28:20.257365",
     "exception": false,
     "start_time": "2020-08-27T17:28:20.250204",
     "status": "completed"
    },
    "tags": []
   },
   "source": [
    "## Flatten the Entries"
   ]
  },
  {
   "cell_type": "code",
   "execution_count": 7,
   "metadata": {
    "execution": {
     "iopub.execute_input": "2020-08-27T17:28:20.276277Z",
     "iopub.status.busy": "2020-08-27T17:28:20.273981Z",
     "iopub.status.idle": "2020-08-27T17:28:20.325614Z",
     "shell.execute_reply": "2020-08-27T17:28:20.325807Z"
    },
    "papermill": {
     "duration": 0.061298,
     "end_time": "2020-08-27T17:28:20.325865",
     "exception": false,
     "start_time": "2020-08-27T17:28:20.264567",
     "status": "completed"
    },
    "tags": []
   },
   "outputs": [
    {
     "name": "stdout",
     "output_type": "stream",
     "text": [
      "<class 'pandas.core.frame.DataFrame'>\n",
      "Int64Index: 763 entries, 0 to 19\n",
      "Data columns (total 22 columns):\n",
      " #   Column    Non-Null Count  Dtype  \n",
      "---  ------    --------------  -----  \n",
      " 0   init      763 non-null    float64\n",
      " 1   exp       763 non-null    float64\n",
      " 2   weight    763 non-null    float64\n",
      " 3   type      763 non-null    float64\n",
      " 4   level_2   763 non-null    float64\n",
      " 5   level_3   763 non-null    float64\n",
      " 6   level_4   763 non-null    float64\n",
      " 7   level_5   763 non-null    float64\n",
      " 8   level_6   763 non-null    float64\n",
      " 9   level_7   763 non-null    float64\n",
      " 10  level_8   763 non-null    float64\n",
      " 11  level_9   763 non-null    float64\n",
      " 12  level_10  763 non-null    float64\n",
      " 13  level_11  763 non-null    float64\n",
      " 14  level_12  763 non-null    float64\n",
      " 15  level_13  763 non-null    float64\n",
      " 16  level_14  763 non-null    float64\n",
      " 17  level_15  763 non-null    float64\n",
      " 18  level_16  763 non-null    float64\n",
      " 19  level_17  763 non-null    float64\n",
      " 20  level_18  763 non-null    float64\n",
      " 21  solution  763 non-null    int64  \n",
      "dtypes: float64(21), int64(1)\n",
      "memory usage: 137.1 KB\n"
     ]
    }
   ],
   "source": [
    "df = pd.concat([pd.DataFrame({f: df[f].iloc[n] for f in df}) for n in range(df.shape[0])], axis=0)\n",
    "df.info()"
   ]
  },
  {
   "cell_type": "code",
   "execution_count": 8,
   "metadata": {
    "execution": {
     "iopub.execute_input": "2020-08-27T17:28:20.344512Z",
     "iopub.status.busy": "2020-08-27T17:28:20.344223Z",
     "iopub.status.idle": "2020-08-27T17:28:20.382282Z",
     "shell.execute_reply": "2020-08-27T17:28:20.382075Z"
    },
    "papermill": {
     "duration": 0.049015,
     "end_time": "2020-08-27T17:28:20.382331",
     "exception": false,
     "start_time": "2020-08-27T17:28:20.333316",
     "status": "completed"
    },
    "tags": []
   },
   "outputs": [
    {
     "data": {
      "text/html": [
       "<div>\n",
       "<style scoped>\n",
       "    .dataframe tbody tr th:only-of-type {\n",
       "        vertical-align: middle;\n",
       "    }\n",
       "\n",
       "    .dataframe tbody tr th {\n",
       "        vertical-align: top;\n",
       "    }\n",
       "\n",
       "    .dataframe thead th {\n",
       "        text-align: right;\n",
       "    }\n",
       "</style>\n",
       "<table border=\"1\" class=\"dataframe\">\n",
       "  <thead>\n",
       "    <tr style=\"text-align: right;\">\n",
       "      <th></th>\n",
       "      <th>init</th>\n",
       "      <th>exp</th>\n",
       "      <th>weight</th>\n",
       "      <th>type</th>\n",
       "      <th>level_2</th>\n",
       "      <th>level_3</th>\n",
       "      <th>level_4</th>\n",
       "      <th>level_5</th>\n",
       "      <th>level_6</th>\n",
       "      <th>level_7</th>\n",
       "      <th>...</th>\n",
       "      <th>level_10</th>\n",
       "      <th>level_11</th>\n",
       "      <th>level_12</th>\n",
       "      <th>level_13</th>\n",
       "      <th>level_14</th>\n",
       "      <th>level_15</th>\n",
       "      <th>level_16</th>\n",
       "      <th>level_17</th>\n",
       "      <th>level_18</th>\n",
       "      <th>solution</th>\n",
       "    </tr>\n",
       "  </thead>\n",
       "  <tbody>\n",
       "    <tr>\n",
       "      <th>count</th>\n",
       "      <td>763.000000</td>\n",
       "      <td>763.000000</td>\n",
       "      <td>763.000000</td>\n",
       "      <td>763.000000</td>\n",
       "      <td>763.000000</td>\n",
       "      <td>763.000000</td>\n",
       "      <td>763.000000</td>\n",
       "      <td>763.000000</td>\n",
       "      <td>763.000000</td>\n",
       "      <td>763.000000</td>\n",
       "      <td>...</td>\n",
       "      <td>763.000000</td>\n",
       "      <td>763.000000</td>\n",
       "      <td>763.000000</td>\n",
       "      <td>763.000000</td>\n",
       "      <td>763.000000</td>\n",
       "      <td>763.000000</td>\n",
       "      <td>763.000000</td>\n",
       "      <td>763.000000</td>\n",
       "      <td>7.630000e+02</td>\n",
       "      <td>763.000000</td>\n",
       "    </tr>\n",
       "    <tr>\n",
       "      <th>mean</th>\n",
       "      <td>0.900145</td>\n",
       "      <td>0.568807</td>\n",
       "      <td>1.864810</td>\n",
       "      <td>3.764089</td>\n",
       "      <td>-1.486604</td>\n",
       "      <td>-1.646112</td>\n",
       "      <td>7.572923</td>\n",
       "      <td>8.009875</td>\n",
       "      <td>-32.442704</td>\n",
       "      <td>-33.974851</td>\n",
       "      <td>...</td>\n",
       "      <td>-707.859825</td>\n",
       "      <td>-730.665421</td>\n",
       "      <td>2880.727031</td>\n",
       "      <td>2962.131627</td>\n",
       "      <td>-10880.473304</td>\n",
       "      <td>-11156.002595</td>\n",
       "      <td>38233.218285</td>\n",
       "      <td>39115.222069</td>\n",
       "      <td>-1.256117e+05</td>\n",
       "      <td>24.237221</td>\n",
       "    </tr>\n",
       "    <tr>\n",
       "      <th>std</th>\n",
       "      <td>1.018137</td>\n",
       "      <td>0.694124</td>\n",
       "      <td>2.314590</td>\n",
       "      <td>0.645534</td>\n",
       "      <td>4.459840</td>\n",
       "      <td>4.903356</td>\n",
       "      <td>20.975753</td>\n",
       "      <td>22.199837</td>\n",
       "      <td>108.036621</td>\n",
       "      <td>113.190933</td>\n",
       "      <td>...</td>\n",
       "      <td>2772.330578</td>\n",
       "      <td>2859.981462</td>\n",
       "      <td>11577.937424</td>\n",
       "      <td>11896.896973</td>\n",
       "      <td>44115.397542</td>\n",
       "      <td>45204.266729</td>\n",
       "      <td>155584.082650</td>\n",
       "      <td>159093.092977</td>\n",
       "      <td>5.129852e+05</td>\n",
       "      <td>13.025317</td>\n",
       "    </tr>\n",
       "    <tr>\n",
       "      <th>min</th>\n",
       "      <td>0.000000</td>\n",
       "      <td>-1.000000</td>\n",
       "      <td>0.000000</td>\n",
       "      <td>2.000000</td>\n",
       "      <td>-19.744040</td>\n",
       "      <td>-21.893983</td>\n",
       "      <td>-0.754568</td>\n",
       "      <td>-0.782633</td>\n",
       "      <td>-514.984097</td>\n",
       "      <td>-538.627792</td>\n",
       "      <td>...</td>\n",
       "      <td>-13321.170445</td>\n",
       "      <td>-13781.246472</td>\n",
       "      <td>-8.850113</td>\n",
       "      <td>-12.265769</td>\n",
       "      <td>-211473.396816</td>\n",
       "      <td>-216475.644423</td>\n",
       "      <td>-44.356923</td>\n",
       "      <td>-66.596211</td>\n",
       "      <td>-2.489024e+06</td>\n",
       "      <td>1.000000</td>\n",
       "    </tr>\n",
       "    <tr>\n",
       "      <th>25%</th>\n",
       "      <td>0.000000</td>\n",
       "      <td>0.000000</td>\n",
       "      <td>0.040825</td>\n",
       "      <td>4.000000</td>\n",
       "      <td>-0.685810</td>\n",
       "      <td>-0.973798</td>\n",
       "      <td>0.000000</td>\n",
       "      <td>0.000000</td>\n",
       "      <td>-0.896869</td>\n",
       "      <td>-0.915398</td>\n",
       "      <td>...</td>\n",
       "      <td>-1.022243</td>\n",
       "      <td>-1.073550</td>\n",
       "      <td>0.001907</td>\n",
       "      <td>0.001975</td>\n",
       "      <td>-2.093628</td>\n",
       "      <td>-4.152302</td>\n",
       "      <td>0.139497</td>\n",
       "      <td>0.124570</td>\n",
       "      <td>-6.801183e+00</td>\n",
       "      <td>13.000000</td>\n",
       "    </tr>\n",
       "    <tr>\n",
       "      <th>50%</th>\n",
       "      <td>0.000000</td>\n",
       "      <td>1.000000</td>\n",
       "      <td>1.000000</td>\n",
       "      <td>4.000000</td>\n",
       "      <td>0.000000</td>\n",
       "      <td>0.000000</td>\n",
       "      <td>0.938337</td>\n",
       "      <td>0.944864</td>\n",
       "      <td>0.000000</td>\n",
       "      <td>0.002741</td>\n",
       "      <td>...</td>\n",
       "      <td>0.002597</td>\n",
       "      <td>0.002644</td>\n",
       "      <td>0.999960</td>\n",
       "      <td>0.997910</td>\n",
       "      <td>0.473076</td>\n",
       "      <td>0.550104</td>\n",
       "      <td>1.005628</td>\n",
       "      <td>1.005427</td>\n",
       "      <td>8.994815e-01</td>\n",
       "      <td>25.000000</td>\n",
       "    </tr>\n",
       "    <tr>\n",
       "      <th>75%</th>\n",
       "      <td>1.750000</td>\n",
       "      <td>1.000000</td>\n",
       "      <td>2.985594</td>\n",
       "      <td>4.000000</td>\n",
       "      <td>0.912406</td>\n",
       "      <td>0.992236</td>\n",
       "      <td>1.347502</td>\n",
       "      <td>1.486801</td>\n",
       "      <td>0.991624</td>\n",
       "      <td>1.000029</td>\n",
       "      <td>...</td>\n",
       "      <td>1.000028</td>\n",
       "      <td>1.004544</td>\n",
       "      <td>3.385307</td>\n",
       "      <td>5.228127</td>\n",
       "      <td>1.006120</td>\n",
       "      <td>1.006436</td>\n",
       "      <td>7.344206</td>\n",
       "      <td>10.777103</td>\n",
       "      <td>1.005195e+00</td>\n",
       "      <td>36.000000</td>\n",
       "    </tr>\n",
       "    <tr>\n",
       "      <th>max</th>\n",
       "      <td>3.000000</td>\n",
       "      <td>1.000000</td>\n",
       "      <td>9.000000</td>\n",
       "      <td>4.000000</td>\n",
       "      <td>1.239384</td>\n",
       "      <td>1.358098</td>\n",
       "      <td>122.931347</td>\n",
       "      <td>131.675490</td>\n",
       "      <td>2.275741</td>\n",
       "      <td>2.712998</td>\n",
       "      <td>...</td>\n",
       "      <td>5.243298</td>\n",
       "      <td>6.283092</td>\n",
       "      <td>56115.100219</td>\n",
       "      <td>57592.698860</td>\n",
       "      <td>16.106978</td>\n",
       "      <td>23.077325</td>\n",
       "      <td>731718.332090</td>\n",
       "      <td>748286.961169</td>\n",
       "      <td>1.033588e+02</td>\n",
       "      <td>45.000000</td>\n",
       "    </tr>\n",
       "  </tbody>\n",
       "</table>\n",
       "<p>8 rows × 22 columns</p>\n",
       "</div>"
      ],
      "text/plain": [
       "             init         exp      weight        type     level_2     level_3  \\\n",
       "count  763.000000  763.000000  763.000000  763.000000  763.000000  763.000000   \n",
       "mean     0.900145    0.568807    1.864810    3.764089   -1.486604   -1.646112   \n",
       "std      1.018137    0.694124    2.314590    0.645534    4.459840    4.903356   \n",
       "min      0.000000   -1.000000    0.000000    2.000000  -19.744040  -21.893983   \n",
       "25%      0.000000    0.000000    0.040825    4.000000   -0.685810   -0.973798   \n",
       "50%      0.000000    1.000000    1.000000    4.000000    0.000000    0.000000   \n",
       "75%      1.750000    1.000000    2.985594    4.000000    0.912406    0.992236   \n",
       "max      3.000000    1.000000    9.000000    4.000000    1.239384    1.358098   \n",
       "\n",
       "          level_4     level_5     level_6     level_7  ...      level_10  \\\n",
       "count  763.000000  763.000000  763.000000  763.000000  ...    763.000000   \n",
       "mean     7.572923    8.009875  -32.442704  -33.974851  ...   -707.859825   \n",
       "std     20.975753   22.199837  108.036621  113.190933  ...   2772.330578   \n",
       "min     -0.754568   -0.782633 -514.984097 -538.627792  ... -13321.170445   \n",
       "25%      0.000000    0.000000   -0.896869   -0.915398  ...     -1.022243   \n",
       "50%      0.938337    0.944864    0.000000    0.002741  ...      0.002597   \n",
       "75%      1.347502    1.486801    0.991624    1.000029  ...      1.000028   \n",
       "max    122.931347  131.675490    2.275741    2.712998  ...      5.243298   \n",
       "\n",
       "           level_11      level_12      level_13       level_14       level_15  \\\n",
       "count    763.000000    763.000000    763.000000     763.000000     763.000000   \n",
       "mean    -730.665421   2880.727031   2962.131627  -10880.473304  -11156.002595   \n",
       "std     2859.981462  11577.937424  11896.896973   44115.397542   45204.266729   \n",
       "min   -13781.246472     -8.850113    -12.265769 -211473.396816 -216475.644423   \n",
       "25%       -1.073550      0.001907      0.001975      -2.093628      -4.152302   \n",
       "50%        0.002644      0.999960      0.997910       0.473076       0.550104   \n",
       "75%        1.004544      3.385307      5.228127       1.006120       1.006436   \n",
       "max        6.283092  56115.100219  57592.698860      16.106978      23.077325   \n",
       "\n",
       "            level_16       level_17      level_18    solution  \n",
       "count     763.000000     763.000000  7.630000e+02  763.000000  \n",
       "mean    38233.218285   39115.222069 -1.256117e+05   24.237221  \n",
       "std    155584.082650  159093.092977  5.129852e+05   13.025317  \n",
       "min       -44.356923     -66.596211 -2.489024e+06    1.000000  \n",
       "25%         0.139497       0.124570 -6.801183e+00   13.000000  \n",
       "50%         1.005628       1.005427  8.994815e-01   25.000000  \n",
       "75%         7.344206      10.777103  1.005195e+00   36.000000  \n",
       "max    731718.332090  748286.961169  1.033588e+02   45.000000  \n",
       "\n",
       "[8 rows x 22 columns]"
      ]
     },
     "execution_count": 8,
     "metadata": {},
     "output_type": "execute_result"
    }
   ],
   "source": [
    "df.describe()"
   ]
  },
  {
   "cell_type": "markdown",
   "metadata": {
    "papermill": {
     "duration": 0.007732,
     "end_time": "2020-08-27T17:28:20.397816",
     "exception": false,
     "start_time": "2020-08-27T17:28:20.390084",
     "status": "completed"
    },
    "tags": []
   },
   "source": [
    "## Get Dummy Variables for the Type of Oscillations"
   ]
  },
  {
   "cell_type": "code",
   "execution_count": 9,
   "metadata": {
    "execution": {
     "iopub.execute_input": "2020-08-27T17:28:20.418310Z",
     "iopub.status.busy": "2020-08-27T17:28:20.418020Z",
     "iopub.status.idle": "2020-08-27T17:28:20.421656Z",
     "shell.execute_reply": "2020-08-27T17:28:20.421895Z"
    },
    "papermill": {
     "duration": 0.016249,
     "end_time": "2020-08-27T17:28:20.421964",
     "exception": false,
     "start_time": "2020-08-27T17:28:20.405715",
     "status": "completed"
    },
    "tags": []
   },
   "outputs": [],
   "source": [
    "df = pd.get_dummies(df, columns=['type'])\n",
    "df = df.rename(columns={'type_2.0': 'type_2', 'type_4.0': 'type_4'})"
   ]
  },
  {
   "cell_type": "markdown",
   "metadata": {
    "papermill": {
     "duration": 0.007662,
     "end_time": "2020-08-27T17:28:20.437373",
     "exception": false,
     "start_time": "2020-08-27T17:28:20.429711",
     "status": "completed"
    },
    "tags": []
   },
   "source": [
    "## Remove Columns and Prepare for Analysis"
   ]
  },
  {
   "cell_type": "code",
   "execution_count": 10,
   "metadata": {
    "execution": {
     "iopub.execute_input": "2020-08-27T17:28:20.458944Z",
     "iopub.status.busy": "2020-08-27T17:28:20.458684Z",
     "iopub.status.idle": "2020-08-27T17:28:20.463230Z",
     "shell.execute_reply": "2020-08-27T17:28:20.463022Z"
    },
    "papermill": {
     "duration": 0.018125,
     "end_time": "2020-08-27T17:28:20.463280",
     "exception": false,
     "start_time": "2020-08-27T17:28:20.445155",
     "status": "completed"
    },
    "tags": []
   },
   "outputs": [
    {
     "name": "stdout",
     "output_type": "stream",
     "text": [
      "<class 'pandas.core.frame.DataFrame'>\n",
      "Int64Index: 763 entries, 0 to 19\n",
      "Data columns (total 22 columns):\n",
      " #   Column    Non-Null Count  Dtype  \n",
      "---  ------    --------------  -----  \n",
      " 0   solution  763 non-null    int64  \n",
      " 1   weight    763 non-null    float64\n",
      " 2   type_2    763 non-null    uint8  \n",
      " 3   type_4    763 non-null    uint8  \n",
      " 4   level_2   763 non-null    float64\n",
      " 5   level_3   763 non-null    float64\n",
      " 6   level_4   763 non-null    float64\n",
      " 7   level_5   763 non-null    float64\n",
      " 8   level_6   763 non-null    float64\n",
      " 9   level_7   763 non-null    float64\n",
      " 10  level_8   763 non-null    float64\n",
      " 11  level_9   763 non-null    float64\n",
      " 12  level_10  763 non-null    float64\n",
      " 13  level_11  763 non-null    float64\n",
      " 14  level_12  763 non-null    float64\n",
      " 15  level_13  763 non-null    float64\n",
      " 16  level_14  763 non-null    float64\n",
      " 17  level_15  763 non-null    float64\n",
      " 18  level_16  763 non-null    float64\n",
      " 19  level_17  763 non-null    float64\n",
      " 20  level_18  763 non-null    float64\n",
      " 21  exp       763 non-null    float64\n",
      "dtypes: float64(19), int64(1), uint8(2)\n",
      "memory usage: 126.7 KB\n"
     ]
    }
   ],
   "source": [
    "columns = ['solution', 'weight', 'type_2', 'type_4'] + ['level_' + str(n) for n in range(2, 19)] + ['exp']\n",
    "df = df[columns]\n",
    "df.info()"
   ]
  },
  {
   "cell_type": "markdown",
   "metadata": {
    "papermill": {
     "duration": 0.007925,
     "end_time": "2020-08-27T17:28:20.479114",
     "exception": false,
     "start_time": "2020-08-27T17:28:20.471189",
     "status": "completed"
    },
    "tags": []
   },
   "source": [
    "## Remove Duplicates"
   ]
  },
  {
   "cell_type": "code",
   "execution_count": 11,
   "metadata": {
    "execution": {
     "iopub.execute_input": "2020-08-27T17:28:20.499235Z",
     "iopub.status.busy": "2020-08-27T17:28:20.498991Z",
     "iopub.status.idle": "2020-08-27T17:28:20.503611Z",
     "shell.execute_reply": "2020-08-27T17:28:20.503361Z"
    },
    "papermill": {
     "duration": 0.016655,
     "end_time": "2020-08-27T17:28:20.503661",
     "exception": false,
     "start_time": "2020-08-27T17:28:20.487006",
     "status": "completed"
    },
    "tags": []
   },
   "outputs": [],
   "source": [
    "duplicates_id = df.duplicated()\n",
    "duplicates = df.loc[duplicates_id]\n",
    "df = df.loc[~duplicates_id]"
   ]
  },
  {
   "cell_type": "code",
   "execution_count": 12,
   "metadata": {
    "execution": {
     "iopub.execute_input": "2020-08-27T17:28:20.521669Z",
     "iopub.status.busy": "2020-08-27T17:28:20.521238Z",
     "iopub.status.idle": "2020-08-27T17:28:20.529570Z",
     "shell.execute_reply": "2020-08-27T17:28:20.529327Z"
    },
    "papermill": {
     "duration": 0.018054,
     "end_time": "2020-08-27T17:28:20.529619",
     "exception": false,
     "start_time": "2020-08-27T17:28:20.511565",
     "status": "completed"
    },
    "tags": []
   },
   "outputs": [
    {
     "name": "stdout",
     "output_type": "stream",
     "text": [
      "Number of duplicates:   45\n",
      "Fraction of duplicates: 0.059\n"
     ]
    }
   ],
   "source": [
    "print(f'Number of duplicates:   {duplicates_id.sum():d}')\n",
    "print(f'Fraction of duplicates: {duplicates_id.mean():.3f}')"
   ]
  },
  {
   "cell_type": "markdown",
   "metadata": {
    "papermill": {
     "duration": 0.008046,
     "end_time": "2020-08-27T17:28:20.545658",
     "exception": false,
     "start_time": "2020-08-27T17:28:20.537612",
     "status": "completed"
    },
    "tags": []
   },
   "source": [
    "## Save to File"
   ]
  },
  {
   "cell_type": "code",
   "execution_count": 13,
   "metadata": {
    "execution": {
     "iopub.execute_input": "2020-08-27T17:28:20.566827Z",
     "iopub.status.busy": "2020-08-27T17:28:20.564285Z",
     "iopub.status.idle": "2020-08-27T17:28:20.587935Z",
     "shell.execute_reply": "2020-08-27T17:28:20.588124Z"
    },
    "papermill": {
     "duration": 0.034453,
     "end_time": "2020-08-27T17:28:20.588182",
     "exception": false,
     "start_time": "2020-08-27T17:28:20.553729",
     "status": "completed"
    },
    "tags": []
   },
   "outputs": [],
   "source": [
    "duplicates.to_csv(pdata('lumps_dup.csv'), index=False)\n",
    "df.to_csv(pdata('lumps.csv'), index=False)"
   ]
  }
 ],
 "metadata": {
  "kernelspec": {
   "display_name": "Python 3",
   "language": "python",
   "name": "python3"
  },
  "language_info": {
   "codemirror_mode": {
    "name": "ipython",
    "version": 3
   },
   "file_extension": ".py",
   "mimetype": "text/x-python",
   "name": "python",
   "nbconvert_exporter": "python",
   "pygments_lexer": "ipython3",
   "version": "3.7.8"
  },
  "papermill": {
   "duration": 1.519201,
   "end_time": "2020-08-27T17:28:20.799612",
   "environment_variables": {},
   "exception": null,
   "input_path": "./lumps_tidy.ipynb",
   "output_path": "lumps_tidy_output.ipynb",
   "parameters": {},
   "start_time": "2020-08-27T17:28:19.280411",
   "version": "2.1.2"
  }
 },
 "nbformat": 4,
 "nbformat_minor": 4
}