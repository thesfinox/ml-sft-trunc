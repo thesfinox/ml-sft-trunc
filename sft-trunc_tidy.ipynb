{
 "cells": [
  {
   "cell_type": "markdown",
   "metadata": {},
   "source": [
    "# Machine Learning for Level Truncation in Open String Field Theory\n",
    "\n",
    "Harold Erbin, Riccardo Finotello, Matej Kudrna, Martin Schnabl\n",
    "\n",
    "---\n",
    "---\n",
    "\n",
    "## Abstract\n",
    "\n",
    "In the framework of bosonic Open String Field Theory (OSFT), we consider several observables characterised by conformal weight and type, and the position of vacua in the potential for various values of truncated mass level. We focus on the prediction of the extrapolated value for the level-$\\infty$ truncation using Machine Learning (ML) techniques.\n",
    "\n",
    "In this notebook we focus on tidying the dataset and preparing it for the analysis."
   ]
  },
  {
   "cell_type": "code",
   "execution_count": 1,
   "metadata": {},
   "outputs": [],
   "source": [
    "%load_ext autoreload\n",
    "%autoreload 2"
   ]
  },
  {
   "cell_type": "markdown",
   "metadata": {},
   "source": [
    "## Load the Dataset\n",
    "\n",
    "We first load the dataset and take a look at its properties before tidying its entries:"
   ]
  },
  {
   "cell_type": "code",
   "execution_count": 2,
   "metadata": {},
   "outputs": [],
   "source": [
    "import pandas as pd\n",
    "\n",
    "df = pd.read_json('./data/data_sft_list.json')"
   ]
  },
  {
   "cell_type": "markdown",
   "metadata": {},
   "source": [
    "The dataset is composed of the following column types:"
   ]
  },
  {
   "cell_type": "code",
   "execution_count": 3,
   "metadata": {},
   "outputs": [
    {
     "name": "stdout",
     "output_type": "stream",
     "text": [
      "<class 'pandas.core.frame.DataFrame'>\n",
      "RangeIndex: 46 entries, 0 to 45\n",
      "Data columns (total 21 columns):\n",
      " #   Column  Non-Null Count  Dtype \n",
      "---  ------  --------------  ----- \n",
      " 0   init    46 non-null     object\n",
      " 1   exp     46 non-null     object\n",
      " 2   weight  46 non-null     object\n",
      " 3   type    46 non-null     object\n",
      " 4   2       46 non-null     object\n",
      " 5   3       46 non-null     object\n",
      " 6   4       46 non-null     object\n",
      " 7   5       46 non-null     object\n",
      " 8   6       46 non-null     object\n",
      " 9   7       46 non-null     object\n",
      " 10  8       46 non-null     object\n",
      " 11  9       46 non-null     object\n",
      " 12  10      46 non-null     object\n",
      " 13  11      46 non-null     object\n",
      " 14  12      46 non-null     object\n",
      " 15  13      46 non-null     object\n",
      " 16  14      46 non-null     object\n",
      " 17  15      46 non-null     object\n",
      " 18  16      46 non-null     object\n",
      " 19  17      46 non-null     object\n",
      " 20  18      46 non-null     object\n",
      "dtypes: object(21)\n",
      "memory usage: 7.7+ KB\n"
     ]
    }
   ],
   "source": [
    "df.info()"
   ]
  },
  {
   "cell_type": "markdown",
   "metadata": {},
   "source": [
    "The _dtypes_ are in general _object_ types and should be tidied before use. We can take a look at the first few entries:"
   ]
  },
  {
   "cell_type": "code",
   "execution_count": 4,
   "metadata": {},
   "outputs": [
    {
     "data": {
      "text/html": [
       "<div>\n",
       "<style scoped>\n",
       "    .dataframe tbody tr th:only-of-type {\n",
       "        vertical-align: middle;\n",
       "    }\n",
       "\n",
       "    .dataframe tbody tr th {\n",
       "        vertical-align: top;\n",
       "    }\n",
       "\n",
       "    .dataframe thead th {\n",
       "        text-align: right;\n",
       "    }\n",
       "</style>\n",
       "<table border=\"1\" class=\"dataframe\">\n",
       "  <thead>\n",
       "    <tr style=\"text-align: right;\">\n",
       "      <th></th>\n",
       "      <th>init</th>\n",
       "      <th>exp</th>\n",
       "      <th>weight</th>\n",
       "      <th>type</th>\n",
       "      <th>2</th>\n",
       "      <th>3</th>\n",
       "      <th>4</th>\n",
       "      <th>5</th>\n",
       "      <th>6</th>\n",
       "      <th>7</th>\n",
       "      <th>...</th>\n",
       "      <th>9</th>\n",
       "      <th>10</th>\n",
       "      <th>11</th>\n",
       "      <th>12</th>\n",
       "      <th>13</th>\n",
       "      <th>14</th>\n",
       "      <th>15</th>\n",
       "      <th>16</th>\n",
       "      <th>17</th>\n",
       "      <th>18</th>\n",
       "    </tr>\n",
       "  </thead>\n",
       "  <tbody>\n",
       "    <tr>\n",
       "      <th>0</th>\n",
       "      <td>[1, 0, 1, 1, 1, 1, 0, 0, 0, 0, 1, 1, 1, 1, 1]</td>\n",
       "      <td>[1, 0, -1, 1, -1, 1, 1, 1, 1, 1, 1, 0, 0, 0, 0]</td>\n",
       "      <td>[0, 0, 1, 4, 9, 0, 0.25, 1, 2.25, 4, 0, 0.25, ...</td>\n",
       "      <td>[2, 2, 4, 4, 4, 4, 4, 4, 4, 4, 4, 4, 4, 4, 4]</td>\n",
       "      <td>[1, 0, 1, 1, 1, 1, 0, 0, 0, 0, 1, 1, 1, 1, 1]</td>\n",
       "      <td>[1, 0, 1, 1, 1, 1, 0, 0, 0, 0, 1, 1, 1, 1, 1]</td>\n",
       "      <td>[1, 0, 1, 1, 1, 1, 0, 0, 0, 0, 1, 1, 1, 1, 1]</td>\n",
       "      <td>[1, 0, 1, 1, 1, 1, 0, 0, 0, 0, 1, 1, 1, 1, 1]</td>\n",
       "      <td>[1, 0, 1, 1, 1, 1, 0, 0, 0, 0, 1, 1, 1, 1, 1]</td>\n",
       "      <td>[1, 0, 1, 1, 1, 1, 0, 0, 0, 0, 1, 1, 1, 1, 1]</td>\n",
       "      <td>...</td>\n",
       "      <td>[1, 0, 1, 1, 1, 1, 0, 0, 0, 0, 1, 1, 1, 1, 1]</td>\n",
       "      <td>[1, 0, 1, 1, 1, 1, 0, 0, 0, 0, 1, 1, 1, 1, 1]</td>\n",
       "      <td>[1, 0, 1, 1, 1, 1, 0, 0, 0, 0, 1, 1, 1, 1, 1]</td>\n",
       "      <td>[1, 0, 1, 1, 1, 1, 0, 0, 0, 0, 1, 1, 1, 1, 1]</td>\n",
       "      <td>[1, 0, 1, 1, 1, 1, 0, 0, 0, 0, 1, 1, 1, 1, 1]</td>\n",
       "      <td>[1, 0, 1, 1, 1, 1, 0, 0, 0, 0, 1, 1, 1, 1, 1]</td>\n",
       "      <td>[1, 0, 1, 1, 1, 1, 0, 0, 0, 0, 1, 1, 1, 1, 1]</td>\n",
       "      <td>[1, 0, 1, 1, 1, 1, 0, 0, 0, 0, 1, 1, 1, 1, 1]</td>\n",
       "      <td>[1, 0, 1, 1, 1, 1, 0, 0, 0, 0, 1, 1, 1, 1, 1]</td>\n",
       "      <td>[1, 0, 1, 1, 1, 1, 0, 0, 0, 0, 1, 1, 1, 1, 1]</td>\n",
       "    </tr>\n",
       "    <tr>\n",
       "      <th>1</th>\n",
       "      <td>[1.0001, 0, 1.0001, 1.0001, 1.0001, 1.0001, 0,...</td>\n",
       "      <td>[1, 0, -1, 1, -1, 1, 1, 1, 1, 1, 1, 0, 0, 0, 0]</td>\n",
       "      <td>[0, 0, 1, 4, 9, 0, 0.249950007499, 0.999800029...</td>\n",
       "      <td>[2, 2, 4, 4, 4, 4, 4, 4, 4, 4, 4, 4, 4, 4, 4]</td>\n",
       "      <td>[1.000099754465899, -4.382819109385611e-08, 0....</td>\n",
       "      <td>[1.000099754261711, -6.385189815988693e-08, 0....</td>\n",
       "      <td>[1.000099495309939, -1.9972775228453091e-07, 0...</td>\n",
       "      <td>[1.000099494726808, -1.724421881015622e-07, 0....</td>\n",
       "      <td>[1.000099223845491, -3.2173432889712715e-07, 0...</td>\n",
       "      <td>[1.000099222907449, -2.856173963606407e-07, 0....</td>\n",
       "      <td>...</td>\n",
       "      <td>[1.000098951488667, -3.9768513795577186e-07, 0...</td>\n",
       "      <td>[1.000098684133785, -5.470716468222031e-07, 0....</td>\n",
       "      <td>[1.000098682609473, -5.081256574169557e-07, 0....</td>\n",
       "      <td>[1.000098418312006, -6.559751804689415e-07, 0....</td>\n",
       "      <td>[1.000098416531483, -6.169537248661669e-07, 0....</td>\n",
       "      <td>[1.000098155198292, -7.630807670831046e-07, 0....</td>\n",
       "      <td>[1.000098153176776, -7.242020485026188e-07, 0....</td>\n",
       "      <td>[1.000097894670832, -8.685182838696036e-07, 0....</td>\n",
       "      <td>[1.000097892420157, -8.29888184051414e-07, 0.9...</td>\n",
       "      <td>[1.000097636616163, -9.72346758033437e-07, 0.9...</td>\n",
       "    </tr>\n",
       "    <tr>\n",
       "      <th>2</th>\n",
       "      <td>[1.001, 0, 1.001, 1.001, 1.001, 1.001, 0, 0, 0...</td>\n",
       "      <td>[1, 0, -1, 1, -1, 1, 1, 1, 1, 1, 1, 0, 0, 0, 0]</td>\n",
       "      <td>[0, 0, 1, 4, 9, 0, 0.24950074900124802, 0.9980...</td>\n",
       "      <td>[2, 2, 4, 4, 4, 4, 4, 4, 4, 4, 4, 4, 4, 4, 4]</td>\n",
       "      <td>[1.000976232275641, -3.8820163895943e-06, 0.90...</td>\n",
       "      <td>[1.000976049237533, -5.9682788728782085e-06, 0...</td>\n",
       "      <td>[1.000952815386108, -1.689178344782202e-05, 0....</td>\n",
       "      <td>[1.000952352120989, -1.5047680126166993e-05, 0...</td>\n",
       "      <td>[1.000929855311967, -2.5515953552563565e-05, 0...</td>\n",
       "      <td>[1.000929190755388, -2.3264350581688953e-05, 0...</td>\n",
       "      <td>...</td>\n",
       "      <td>[1.0009075350494, -3.03802946004187e-05, 0.664...</td>\n",
       "      <td>[1.000888236249875, -3.860013055708573e-05, 0....</td>\n",
       "      <td>[1.000887354078869, -3.657126395737419e-05, 0....</td>\n",
       "      <td>[1.000869431716091, -4.387998808033297e-05, 0....</td>\n",
       "      <td>[1.000868490272024, -4.199905525467674e-05, 0....</td>\n",
       "      <td>[1.000851773655717, -4.853491335211209e-05, 0....</td>\n",
       "      <td>[1.000850791489764, -4.6788451470318466e-05, 0...</td>\n",
       "      <td>[1.000835137520457, -5.266383019452565e-05, 0....</td>\n",
       "      <td>[1.000834127701389, -5.1036790056833293e-05, 0...</td>\n",
       "      <td>[1.000819417460843, -5.634321216588246e-05, 0....</td>\n",
       "    </tr>\n",
       "  </tbody>\n",
       "</table>\n",
       "<p>3 rows × 21 columns</p>\n",
       "</div>"
      ],
      "text/plain": [
       "                                                init  \\\n",
       "0      [1, 0, 1, 1, 1, 1, 0, 0, 0, 0, 1, 1, 1, 1, 1]   \n",
       "1  [1.0001, 0, 1.0001, 1.0001, 1.0001, 1.0001, 0,...   \n",
       "2  [1.001, 0, 1.001, 1.001, 1.001, 1.001, 0, 0, 0...   \n",
       "\n",
       "                                               exp  \\\n",
       "0  [1, 0, -1, 1, -1, 1, 1, 1, 1, 1, 1, 0, 0, 0, 0]   \n",
       "1  [1, 0, -1, 1, -1, 1, 1, 1, 1, 1, 1, 0, 0, 0, 0]   \n",
       "2  [1, 0, -1, 1, -1, 1, 1, 1, 1, 1, 1, 0, 0, 0, 0]   \n",
       "\n",
       "                                              weight  \\\n",
       "0  [0, 0, 1, 4, 9, 0, 0.25, 1, 2.25, 4, 0, 0.25, ...   \n",
       "1  [0, 0, 1, 4, 9, 0, 0.249950007499, 0.999800029...   \n",
       "2  [0, 0, 1, 4, 9, 0, 0.24950074900124802, 0.9980...   \n",
       "\n",
       "                                            type  \\\n",
       "0  [2, 2, 4, 4, 4, 4, 4, 4, 4, 4, 4, 4, 4, 4, 4]   \n",
       "1  [2, 2, 4, 4, 4, 4, 4, 4, 4, 4, 4, 4, 4, 4, 4]   \n",
       "2  [2, 2, 4, 4, 4, 4, 4, 4, 4, 4, 4, 4, 4, 4, 4]   \n",
       "\n",
       "                                                   2  \\\n",
       "0      [1, 0, 1, 1, 1, 1, 0, 0, 0, 0, 1, 1, 1, 1, 1]   \n",
       "1  [1.000099754465899, -4.382819109385611e-08, 0....   \n",
       "2  [1.000976232275641, -3.8820163895943e-06, 0.90...   \n",
       "\n",
       "                                                   3  \\\n",
       "0      [1, 0, 1, 1, 1, 1, 0, 0, 0, 0, 1, 1, 1, 1, 1]   \n",
       "1  [1.000099754261711, -6.385189815988693e-08, 0....   \n",
       "2  [1.000976049237533, -5.9682788728782085e-06, 0...   \n",
       "\n",
       "                                                   4  \\\n",
       "0      [1, 0, 1, 1, 1, 1, 0, 0, 0, 0, 1, 1, 1, 1, 1]   \n",
       "1  [1.000099495309939, -1.9972775228453091e-07, 0...   \n",
       "2  [1.000952815386108, -1.689178344782202e-05, 0....   \n",
       "\n",
       "                                                   5  \\\n",
       "0      [1, 0, 1, 1, 1, 1, 0, 0, 0, 0, 1, 1, 1, 1, 1]   \n",
       "1  [1.000099494726808, -1.724421881015622e-07, 0....   \n",
       "2  [1.000952352120989, -1.5047680126166993e-05, 0...   \n",
       "\n",
       "                                                   6  \\\n",
       "0      [1, 0, 1, 1, 1, 1, 0, 0, 0, 0, 1, 1, 1, 1, 1]   \n",
       "1  [1.000099223845491, -3.2173432889712715e-07, 0...   \n",
       "2  [1.000929855311967, -2.5515953552563565e-05, 0...   \n",
       "\n",
       "                                                   7  ...  \\\n",
       "0      [1, 0, 1, 1, 1, 1, 0, 0, 0, 0, 1, 1, 1, 1, 1]  ...   \n",
       "1  [1.000099222907449, -2.856173963606407e-07, 0....  ...   \n",
       "2  [1.000929190755388, -2.3264350581688953e-05, 0...  ...   \n",
       "\n",
       "                                                   9  \\\n",
       "0      [1, 0, 1, 1, 1, 1, 0, 0, 0, 0, 1, 1, 1, 1, 1]   \n",
       "1  [1.000098951488667, -3.9768513795577186e-07, 0...   \n",
       "2  [1.0009075350494, -3.03802946004187e-05, 0.664...   \n",
       "\n",
       "                                                  10  \\\n",
       "0      [1, 0, 1, 1, 1, 1, 0, 0, 0, 0, 1, 1, 1, 1, 1]   \n",
       "1  [1.000098684133785, -5.470716468222031e-07, 0....   \n",
       "2  [1.000888236249875, -3.860013055708573e-05, 0....   \n",
       "\n",
       "                                                  11  \\\n",
       "0      [1, 0, 1, 1, 1, 1, 0, 0, 0, 0, 1, 1, 1, 1, 1]   \n",
       "1  [1.000098682609473, -5.081256574169557e-07, 0....   \n",
       "2  [1.000887354078869, -3.657126395737419e-05, 0....   \n",
       "\n",
       "                                                  12  \\\n",
       "0      [1, 0, 1, 1, 1, 1, 0, 0, 0, 0, 1, 1, 1, 1, 1]   \n",
       "1  [1.000098418312006, -6.559751804689415e-07, 0....   \n",
       "2  [1.000869431716091, -4.387998808033297e-05, 0....   \n",
       "\n",
       "                                                  13  \\\n",
       "0      [1, 0, 1, 1, 1, 1, 0, 0, 0, 0, 1, 1, 1, 1, 1]   \n",
       "1  [1.000098416531483, -6.169537248661669e-07, 0....   \n",
       "2  [1.000868490272024, -4.199905525467674e-05, 0....   \n",
       "\n",
       "                                                  14  \\\n",
       "0      [1, 0, 1, 1, 1, 1, 0, 0, 0, 0, 1, 1, 1, 1, 1]   \n",
       "1  [1.000098155198292, -7.630807670831046e-07, 0....   \n",
       "2  [1.000851773655717, -4.853491335211209e-05, 0....   \n",
       "\n",
       "                                                  15  \\\n",
       "0      [1, 0, 1, 1, 1, 1, 0, 0, 0, 0, 1, 1, 1, 1, 1]   \n",
       "1  [1.000098153176776, -7.242020485026188e-07, 0....   \n",
       "2  [1.000850791489764, -4.6788451470318466e-05, 0...   \n",
       "\n",
       "                                                  16  \\\n",
       "0      [1, 0, 1, 1, 1, 1, 0, 0, 0, 0, 1, 1, 1, 1, 1]   \n",
       "1  [1.000097894670832, -8.685182838696036e-07, 0....   \n",
       "2  [1.000835137520457, -5.266383019452565e-05, 0....   \n",
       "\n",
       "                                                  17  \\\n",
       "0      [1, 0, 1, 1, 1, 1, 0, 0, 0, 0, 1, 1, 1, 1, 1]   \n",
       "1  [1.000097892420157, -8.29888184051414e-07, 0.9...   \n",
       "2  [1.000834127701389, -5.1036790056833293e-05, 0...   \n",
       "\n",
       "                                                  18  \n",
       "0      [1, 0, 1, 1, 1, 1, 0, 0, 0, 0, 1, 1, 1, 1, 1]  \n",
       "1  [1.000097636616163, -9.72346758033437e-07, 0.9...  \n",
       "2  [1.000819417460843, -5.634321216588246e-05, 0....  \n",
       "\n",
       "[3 rows x 21 columns]"
      ]
     },
     "execution_count": 4,
     "metadata": {},
     "output_type": "execute_result"
    }
   ],
   "source": [
    "df.head(3)"
   ]
  },
  {
   "cell_type": "markdown",
   "metadata": {},
   "source": [
    "In fact all the entries are vectors corresponding to a particular solution. The idea is therefore to tidy the dataset by separating all the entries while keeping track of the original solution."
   ]
  },
  {
   "cell_type": "markdown",
   "metadata": {},
   "source": [
    "The dimensions of the dataset are:"
   ]
  },
  {
   "cell_type": "code",
   "execution_count": 5,
   "metadata": {},
   "outputs": [
    {
     "name": "stdout",
     "output_type": "stream",
     "text": [
      "No. of rows:    46\n",
      "No. of columns: 21\n"
     ]
    }
   ],
   "source": [
    "print('No. of rows:    {:d}'.format(df.shape[0]))\n",
    "print('No. of columns: {:d}'.format(df.shape[1]))"
   ]
  },
  {
   "cell_type": "markdown",
   "metadata": {},
   "source": [
    "The columns of the dataset are:"
   ]
  },
  {
   "cell_type": "code",
   "execution_count": 6,
   "metadata": {},
   "outputs": [
    {
     "data": {
      "text/plain": [
       "['init',\n",
       " 'exp',\n",
       " 'weight',\n",
       " 'type',\n",
       " '2',\n",
       " '3',\n",
       " '4',\n",
       " '5',\n",
       " '6',\n",
       " '7',\n",
       " '8',\n",
       " '9',\n",
       " '10',\n",
       " '11',\n",
       " '12',\n",
       " '13',\n",
       " '14',\n",
       " '15',\n",
       " '16',\n",
       " '17',\n",
       " '18']"
      ]
     },
     "execution_count": 6,
     "metadata": {},
     "output_type": "execute_result"
    }
   ],
   "source": [
    "columns = df.columns.tolist()\n",
    "columns"
   ]
  },
  {
   "cell_type": "markdown",
   "metadata": {},
   "source": [
    "They refer to different properties of each solution: `init` is the initial position, columns from `2` to `18` represent lumps at different truncation levels, `weight` and `type` are observables referring to conformal properties and the oscillation of the solution, and `exp` is the extrapolated label at truncation level $\\infty$."
   ]
  },
  {
   "cell_type": "markdown",
   "metadata": {},
   "source": [
    "To better handle the columns in the dataset in the analysis we rename the truncation levels prepending the string \"level\" to each of them (to be able to grab them using a simple regex and avoid issues with other numeric data):"
   ]
  },
  {
   "cell_type": "code",
   "execution_count": 7,
   "metadata": {},
   "outputs": [
    {
     "data": {
      "text/plain": [
       "['init',\n",
       " 'exp',\n",
       " 'weight',\n",
       " 'type',\n",
       " 'level_2',\n",
       " 'level_3',\n",
       " 'level_4',\n",
       " 'level_5',\n",
       " 'level_6',\n",
       " 'level_7',\n",
       " 'level_8',\n",
       " 'level_9',\n",
       " 'level_10',\n",
       " 'level_11',\n",
       " 'level_12',\n",
       " 'level_13',\n",
       " 'level_14',\n",
       " 'level_15',\n",
       " 'level_16',\n",
       " 'level_17',\n",
       " 'level_18']"
      ]
     },
     "execution_count": 7,
     "metadata": {},
     "output_type": "execute_result"
    }
   ],
   "source": [
    "import re\n",
    "\n",
    "colrename = lambda s: re.sub(r'^([0-9]*)$', r'level_\\1', s)\n",
    "df        = df.rename(columns=colrename)\n",
    "\n",
    "# temporary save the new dataset to file\n",
    "df.to_json('./data/sft-trunc_tmp.json', orient='split', index=False)\n",
    "\n",
    "# print the columns\n",
    "df.columns.tolist()"
   ]
  },
  {
   "cell_type": "markdown",
   "metadata": {},
   "source": [
    "Moreover not all solutions are the same length in the dataset. In fact they increase in the column direction:"
   ]
  },
  {
   "cell_type": "code",
   "execution_count": 8,
   "metadata": {},
   "outputs": [],
   "source": [
    "INPUT = './data/sft-trunc_tmp.json'\n",
    "OUTPUT = 'sol_length'\n",
    "\n",
    "!python3 ./scripts/sol-length.py --input {INPUT} --output {OUTPUT}"
   ]
  },
  {
   "cell_type": "code",
   "execution_count": 9,
   "metadata": {},
   "outputs": [
    {
     "data": {
      "image/png": "[encoded data removed]",
      "text/plain": [
       "<IPython.core.display.Image object>"
      ]
     },
     "execution_count": 9,
     "metadata": {
      "image/png": {
       "width": 480
      }
     },
     "output_type": "execute_result"
    }
   ],
   "source": [
    "from IPython.display import Image\n",
    "Image('./img/{}.png'.format(OUTPUT), width=480)"
   ]
  },
  {
   "cell_type": "markdown",
   "metadata": {},
   "source": [
    "## Tidy the Dataset\n",
    "\n",
    "We then tidy the dataset by first inserting a reference to the solution and then flatten each vector entry."
   ]
  },
  {
   "cell_type": "code",
   "execution_count": 10,
   "metadata": {},
   "outputs": [],
   "source": [
    "import numpy  as np\n",
    "import pandas as pd\n",
    "\n",
    "# load the dataset and apply the transformations\n",
    "df     = pd.read_json('./data/sft-trunc_tmp.json', orient='split')\n",
    "shapes = df.applymap(len)\n",
    "shapes = shapes.apply(lambda x: np.unique(x).squeeze(), axis=1)\n",
    "\n",
    "# add the ID of the solution\n",
    "solutions = [] #------------------------------------ create a list of vectors\n",
    "for n in range(shapes.shape[0]):\n",
    "    solutions.append(np.full(shapes.iloc[n], n)) #-- insert vec. of the IDs\n",
    "\n",
    "# add the column to the dataset and reorder\n",
    "df['solutions'] = solutions\n",
    "df = df[['solutions',\n",
    "         'init',\n",
    "         'weight',\n",
    "         'type',\n",
    "         'exp',\n",
    "         'level_2',\n",
    "         'level_3',\n",
    "         'level_4',\n",
    "         'level_5',\n",
    "         'level_6',\n",
    "         'level_7',\n",
    "         'level_8',\n",
    "         'level_9',\n",
    "         'level_10',\n",
    "         'level_11',\n",
    "         'level_12',\n",
    "         'level_13',\n",
    "         'level_14',\n",
    "         'level_15',\n",
    "         'level_16',\n",
    "         'level_17',\n",
    "         'level_18'\n",
    "        ]\n",
    "       ]\n",
    "\n",
    "# stack each vector on top of each other\n",
    "df = pd.concat([pd.DataFrame({f: df[f].iloc[n] for f in df})\n",
    "                for n in range(df.shape[0]) \n",
    "               ],\n",
    "               axis=0,\n",
    "               ignore_index=True\n",
    "              )"
   ]
  },
  {
   "cell_type": "markdown",
   "metadata": {},
   "source": [
    "The new dataset is therefore entirely numeric and can be used for the analysis:"
   ]
  },
  {
   "cell_type": "code",
   "execution_count": 11,
   "metadata": {},
   "outputs": [
    {
     "name": "stdout",
     "output_type": "stream",
     "text": [
      "<class 'pandas.core.frame.DataFrame'>\n",
      "RangeIndex: 778 entries, 0 to 777\n",
      "Data columns (total 22 columns):\n",
      " #   Column     Non-Null Count  Dtype  \n",
      "---  ------     --------------  -----  \n",
      " 0   solutions  778 non-null    int64  \n",
      " 1   init       778 non-null    float64\n",
      " 2   weight     778 non-null    float64\n",
      " 3   type       778 non-null    int64  \n",
      " 4   exp        778 non-null    int64  \n",
      " 5   level_2    778 non-null    float64\n",
      " 6   level_3    778 non-null    float64\n",
      " 7   level_4    778 non-null    float64\n",
      " 8   level_5    778 non-null    float64\n",
      " 9   level_6    778 non-null    float64\n",
      " 10  level_7    778 non-null    float64\n",
      " 11  level_8    778 non-null    float64\n",
      " 12  level_9    778 non-null    float64\n",
      " 13  level_10   778 non-null    float64\n",
      " 14  level_11   778 non-null    float64\n",
      " 15  level_12   778 non-null    float64\n",
      " 16  level_13   778 non-null    float64\n",
      " 17  level_14   778 non-null    float64\n",
      " 18  level_15   778 non-null    float64\n",
      " 19  level_16   778 non-null    float64\n",
      " 20  level_17   778 non-null    float64\n",
      " 21  level_18   778 non-null    float64\n",
      "dtypes: float64(19), int64(3)\n",
      "memory usage: 133.8 KB\n"
     ]
    }
   ],
   "source": [
    "df.info()"
   ]
  },
  {
   "cell_type": "markdown",
   "metadata": {},
   "source": [
    "We can therefore save the dataset to file and proceed:"
   ]
  },
  {
   "cell_type": "code",
   "execution_count": 12,
   "metadata": {},
   "outputs": [],
   "source": [
    "df.to_csv('./data/sft-trunc_tidy.csv', index=False)"
   ]
  }
 ],
 "metadata": {
  "kernelspec": {
   "display_name": "ml-sft-trunc",
   "language": "python",
   "name": "ml-sft-trunc"
  },
  "language_info": {
   "codemirror_mode": {
    "name": "ipython",
    "version": 3
   },
   "file_extension": ".py",
   "mimetype": "text/x-python",
   "name": "python",
   "nbconvert_exporter": "python",
   "pygments_lexer": "ipython3",
   "version": "3.8.6"
  }
 },
 "nbformat": 4,
 "nbformat_minor": 4
}
