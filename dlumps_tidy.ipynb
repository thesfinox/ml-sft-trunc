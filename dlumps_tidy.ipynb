{
 "cells": [
  {
   "cell_type": "markdown",
   "metadata": {
    "papermill": {
     "duration": 0.011555,
     "end_time": "2020-08-31T06:55:55.300100",
     "exception": false,
     "start_time": "2020-08-31T06:55:55.288545",
     "status": "completed"
    },
    "tags": []
   },
   "source": [
    "# Machine Learning for String Field Theory\n",
    "\n",
    "*H. Erbin, R. Finotello, M. Kudrna, M. Schnabl*\n",
    "\n",
    "## Abstract\n",
    "\n",
    "In the framework of bosonic **Open String Field Theory** (OSFT), we consider several observables characterised by conformal weight, periodicity of the oscillations and the position of vacua in the potential for various values of truncated mass level.\n",
    "We focus on the prediction of the extrapolated value for the level-$\\infty$ truncation using Machine Learning (ML) techniques.\n",
    "\n",
    "## Synopsis\n",
    "\n",
    "In this notebook we tidy and convert the datasets from their original format of the **double lump solutions** to a CSV-like format for training and predictions.\n",
    "\n",
    "## General Observations\n",
    "\n",
    "Each entry in the datasets represents one observable in OSFT.\n",
    "Since these observables are represented by vector entries in the dataset, we also introduce a new label which will identify the observable inside its original solution vector.\n",
    "\n",
    "Together with the features labelling the observable, we also have the values of such observable at different truncation levels.\n",
    "The purpose of the analysis is eventually to compute the extrapolated values at $\\infty$ level truncation.\n",
    "The data is therefore twofold: some variable are labelling the observable, while the values of the truncation levels should then be compared with the values at $\\infty$."
   ]
  },
  {
   "cell_type": "code",
   "execution_count": 1,
   "metadata": {
    "execution": {
     "iopub.execute_input": "2020-08-31T06:55:55.324941Z",
     "iopub.status.busy": "2020-08-31T06:55:55.319642Z",
     "iopub.status.idle": "2020-08-31T06:55:55.473823Z",
     "shell.execute_reply": "2020-08-31T06:55:55.474064Z"
    },
    "papermill": {
     "duration": 0.166451,
     "end_time": "2020-08-31T06:55:55.474144",
     "exception": false,
     "start_time": "2020-08-31T06:55:55.307693",
     "status": "completed"
    },
    "tags": []
   },
   "outputs": [],
   "source": [
    "%load_ext autoreload\n",
    "%autoreload 2\n",
    "\n",
    "import pandas as pd\n",
    "import numpy as np\n",
    "import re\n",
    "import os"
   ]
  },
  {
   "cell_type": "code",
   "execution_count": 2,
   "metadata": {
    "execution": {
     "iopub.execute_input": "2020-08-31T06:55:55.485878Z",
     "iopub.status.busy": "2020-08-31T06:55:55.485630Z",
     "iopub.status.idle": "2020-08-31T06:55:55.491392Z",
     "shell.execute_reply": "2020-08-31T06:55:55.490974Z"
    },
    "papermill": {
     "duration": 0.01219,
     "end_time": "2020-08-31T06:55:55.491478",
     "exception": false,
     "start_time": "2020-08-31T06:55:55.479288",
     "status": "completed"
    },
    "tags": []
   },
   "outputs": [],
   "source": [
    "# create shortcuts for paths\n",
    "proot = lambda s: os.path.join('.', s)\n",
    "pdata = lambda s: os.path.join(proot('data'), s)"
   ]
  },
  {
   "cell_type": "markdown",
   "metadata": {
    "papermill": {
     "duration": 0.007345,
     "end_time": "2020-08-31T06:55:55.507849",
     "exception": false,
     "start_time": "2020-08-31T06:55:55.500504",
     "status": "completed"
    },
    "tags": []
   },
   "source": [
    "## Load the Dataset"
   ]
  },
  {
   "cell_type": "code",
   "execution_count": 3,
   "metadata": {
    "execution": {
     "iopub.execute_input": "2020-08-31T06:55:55.519671Z",
     "iopub.status.busy": "2020-08-31T06:55:55.519423Z",
     "iopub.status.idle": "2020-08-31T06:55:55.537007Z",
     "shell.execute_reply": "2020-08-31T06:55:55.536664Z"
    },
    "papermill": {
     "duration": 0.024376,
     "end_time": "2020-08-31T06:55:55.537094",
     "exception": false,
     "start_time": "2020-08-31T06:55:55.512718",
     "status": "completed"
    },
    "tags": []
   },
   "outputs": [
    {
     "name": "stdout",
     "output_type": "stream",
     "text": [
      "<class 'pandas.core.frame.DataFrame'>\n",
      "RangeIndex: 20 entries, 0 to 19\n",
      "Data columns (total 21 columns):\n",
      " #   Column  Non-Null Count  Dtype  \n",
      "---  ------  --------------  -----  \n",
      " 0   init    20 non-null     int64  \n",
      " 1   weight  20 non-null     float64\n",
      " 2   type    20 non-null     int64  \n",
      " 3   2.      20 non-null     float64\n",
      " 4   3.      20 non-null     float64\n",
      " 5   4.      20 non-null     float64\n",
      " 6   5.      20 non-null     float64\n",
      " 7   6.      20 non-null     float64\n",
      " 8   7.      20 non-null     float64\n",
      " 9   8.      20 non-null     float64\n",
      " 10  9.      20 non-null     float64\n",
      " 11  10.     20 non-null     float64\n",
      " 12  11.     20 non-null     float64\n",
      " 13  12.     20 non-null     float64\n",
      " 14  13.     20 non-null     float64\n",
      " 15  14.     20 non-null     float64\n",
      " 16  15.     20 non-null     float64\n",
      " 17  16.     20 non-null     float64\n",
      " 18  17.     20 non-null     float64\n",
      " 19  18.     20 non-null     float64\n",
      " 20  exp     20 non-null     float64\n",
      "dtypes: float64(19), int64(2)\n",
      "memory usage: 3.4 KB\n"
     ]
    }
   ],
   "source": [
    "df = pd.read_json(pdata('mathematica_dlumps.json'))\n",
    "df.info()"
   ]
  },
  {
   "cell_type": "markdown",
   "metadata": {
    "papermill": {
     "duration": 0.005055,
     "end_time": "2020-08-31T06:55:55.551753",
     "exception": false,
     "start_time": "2020-08-31T06:55:55.546698",
     "status": "completed"
    },
    "tags": []
   },
   "source": [
    "The dataset is made of 46 non-null vector entries (the dataset is complete).\n",
    "We need to:\n",
    "\n",
    "1. rename the variables of the truncation levels to be human manageable,\n",
    "2. remove the initial point,\n",
    "3. get the dummy variables for the type of oscillations."
   ]
  },
  {
   "cell_type": "markdown",
   "metadata": {
    "papermill": {
     "duration": 0.005067,
     "end_time": "2020-08-31T06:55:55.561880",
     "exception": false,
     "start_time": "2020-08-31T06:55:55.556813",
     "status": "completed"
    },
    "tags": []
   },
   "source": [
    "## Rename the columns"
   ]
  },
  {
   "cell_type": "code",
   "execution_count": 4,
   "metadata": {
    "execution": {
     "iopub.execute_input": "2020-08-31T06:55:55.573725Z",
     "iopub.status.busy": "2020-08-31T06:55:55.573480Z",
     "iopub.status.idle": "2020-08-31T06:55:55.582265Z",
     "shell.execute_reply": "2020-08-31T06:55:55.582066Z"
    },
    "papermill": {
     "duration": 0.015376,
     "end_time": "2020-08-31T06:55:55.582317",
     "exception": false,
     "start_time": "2020-08-31T06:55:55.566941",
     "status": "completed"
    },
    "tags": []
   },
   "outputs": [
    {
     "name": "stdout",
     "output_type": "stream",
     "text": [
      "<class 'pandas.core.frame.DataFrame'>\n",
      "RangeIndex: 20 entries, 0 to 19\n",
      "Data columns (total 21 columns):\n",
      " #   Column    Non-Null Count  Dtype  \n",
      "---  ------    --------------  -----  \n",
      " 0   init      20 non-null     int64  \n",
      " 1   weight    20 non-null     float64\n",
      " 2   type      20 non-null     int64  \n",
      " 3   level_2   20 non-null     float64\n",
      " 4   level_3   20 non-null     float64\n",
      " 5   level_4   20 non-null     float64\n",
      " 6   level_5   20 non-null     float64\n",
      " 7   level_6   20 non-null     float64\n",
      " 8   level_7   20 non-null     float64\n",
      " 9   level_8   20 non-null     float64\n",
      " 10  level_9   20 non-null     float64\n",
      " 11  level_10  20 non-null     float64\n",
      " 12  level_11  20 non-null     float64\n",
      " 13  level_12  20 non-null     float64\n",
      " 14  level_13  20 non-null     float64\n",
      " 15  level_14  20 non-null     float64\n",
      " 16  level_15  20 non-null     float64\n",
      " 17  level_16  20 non-null     float64\n",
      " 18  level_17  20 non-null     float64\n",
      " 19  level_18  20 non-null     float64\n",
      " 20  exp       20 non-null     float64\n",
      "dtypes: float64(19), int64(2)\n",
      "memory usage: 3.4 KB\n"
     ]
    }
   ],
   "source": [
    "columns = lambda c: re.sub(r'(.*)[.]', r'level_\\1', c)\n",
    "df = df.rename(columns=columns)\n",
    "df.info()"
   ]
  },
  {
   "cell_type": "code",
   "execution_count": 5,
   "metadata": {
    "execution": {
     "iopub.execute_input": "2020-08-31T06:55:55.599631Z",
     "iopub.status.busy": "2020-08-31T06:55:55.599389Z",
     "iopub.status.idle": "2020-08-31T06:55:55.639090Z",
     "shell.execute_reply": "2020-08-31T06:55:55.638677Z"
    },
    "papermill": {
     "duration": 0.047602,
     "end_time": "2020-08-31T06:55:55.639176",
     "exception": false,
     "start_time": "2020-08-31T06:55:55.591574",
     "status": "completed"
    },
    "tags": []
   },
   "outputs": [
    {
     "data": {
      "text/html": [
       "<div>\n",
       "<style scoped>\n",
       "    .dataframe tbody tr th:only-of-type {\n",
       "        vertical-align: middle;\n",
       "    }\n",
       "\n",
       "    .dataframe tbody tr th {\n",
       "        vertical-align: top;\n",
       "    }\n",
       "\n",
       "    .dataframe thead th {\n",
       "        text-align: right;\n",
       "    }\n",
       "</style>\n",
       "<table border=\"1\" class=\"dataframe\">\n",
       "  <thead>\n",
       "    <tr style=\"text-align: right;\">\n",
       "      <th></th>\n",
       "      <th>init</th>\n",
       "      <th>weight</th>\n",
       "      <th>type</th>\n",
       "      <th>level_2</th>\n",
       "      <th>level_3</th>\n",
       "      <th>level_4</th>\n",
       "      <th>level_5</th>\n",
       "      <th>level_6</th>\n",
       "      <th>level_7</th>\n",
       "      <th>level_8</th>\n",
       "      <th>...</th>\n",
       "      <th>level_10</th>\n",
       "      <th>level_11</th>\n",
       "      <th>level_12</th>\n",
       "      <th>level_13</th>\n",
       "      <th>level_14</th>\n",
       "      <th>level_15</th>\n",
       "      <th>level_16</th>\n",
       "      <th>level_17</th>\n",
       "      <th>level_18</th>\n",
       "      <th>exp</th>\n",
       "    </tr>\n",
       "  </thead>\n",
       "  <tbody>\n",
       "    <tr>\n",
       "      <th>count</th>\n",
       "      <td>20.000000</td>\n",
       "      <td>20.000000</td>\n",
       "      <td>20.000000</td>\n",
       "      <td>20.000000</td>\n",
       "      <td>20.000000</td>\n",
       "      <td>20.000000</td>\n",
       "      <td>20.000000</td>\n",
       "      <td>20.000000</td>\n",
       "      <td>20.000000</td>\n",
       "      <td>20.000000</td>\n",
       "      <td>...</td>\n",
       "      <td>20.000000</td>\n",
       "      <td>20.000000</td>\n",
       "      <td>20.000000</td>\n",
       "      <td>20.000000</td>\n",
       "      <td>20.000000</td>\n",
       "      <td>20.000000</td>\n",
       "      <td>2.000000e+01</td>\n",
       "      <td>2.000000e+01</td>\n",
       "      <td>2.000000e+01</td>\n",
       "      <td>2.000000e+01</td>\n",
       "    </tr>\n",
       "    <tr>\n",
       "      <th>mean</th>\n",
       "      <td>1.050000</td>\n",
       "      <td>1.715278</td>\n",
       "      <td>3.800000</td>\n",
       "      <td>-2.608983</td>\n",
       "      <td>-3.087235</td>\n",
       "      <td>12.360494</td>\n",
       "      <td>13.485368</td>\n",
       "      <td>-53.858729</td>\n",
       "      <td>-57.641226</td>\n",
       "      <td>258.016894</td>\n",
       "      <td>...</td>\n",
       "      <td>-1172.908731</td>\n",
       "      <td>-1232.022585</td>\n",
       "      <td>5292.641517</td>\n",
       "      <td>5529.478551</td>\n",
       "      <td>-22317.746351</td>\n",
       "      <td>-23199.704152</td>\n",
       "      <td>8.566285e+04</td>\n",
       "      <td>8.869707e+04</td>\n",
       "      <td>-3.006011e+05</td>\n",
       "      <td>-7.239206e+05</td>\n",
       "    </tr>\n",
       "    <tr>\n",
       "      <th>std</th>\n",
       "      <td>1.468081</td>\n",
       "      <td>2.189245</td>\n",
       "      <td>0.615587</td>\n",
       "      <td>8.118042</td>\n",
       "      <td>9.802525</td>\n",
       "      <td>44.393799</td>\n",
       "      <td>48.702023</td>\n",
       "      <td>222.478514</td>\n",
       "      <td>238.231213</td>\n",
       "      <td>1116.816835</td>\n",
       "      <td>...</td>\n",
       "      <td>5174.917644</td>\n",
       "      <td>5439.189243</td>\n",
       "      <td>23531.629810</td>\n",
       "      <td>24590.746496</td>\n",
       "      <td>99564.849566</td>\n",
       "      <td>103507.763796</td>\n",
       "      <td>3.826730e+05</td>\n",
       "      <td>3.962378e+05</td>\n",
       "      <td>1.343627e+06</td>\n",
       "      <td>3.237079e+06</td>\n",
       "    </tr>\n",
       "    <tr>\n",
       "      <th>min</th>\n",
       "      <td>0.000000</td>\n",
       "      <td>0.000000</td>\n",
       "      <td>2.000000</td>\n",
       "      <td>-33.620593</td>\n",
       "      <td>-40.373713</td>\n",
       "      <td>-1.734322</td>\n",
       "      <td>-1.825242</td>\n",
       "      <td>-997.122136</td>\n",
       "      <td>-1067.678440</td>\n",
       "      <td>-5.550577</td>\n",
       "      <td>...</td>\n",
       "      <td>-23157.212916</td>\n",
       "      <td>-24338.986279</td>\n",
       "      <td>-7.423880</td>\n",
       "      <td>-17.395405</td>\n",
       "      <td>-445320.847252</td>\n",
       "      <td>-462954.335124</td>\n",
       "      <td>-6.706599e+01</td>\n",
       "      <td>-6.704860e+01</td>\n",
       "      <td>-6.009038e+06</td>\n",
       "      <td>-1.447675e+07</td>\n",
       "    </tr>\n",
       "    <tr>\n",
       "      <th>25%</th>\n",
       "      <td>0.000000</td>\n",
       "      <td>0.090278</td>\n",
       "      <td>4.000000</td>\n",
       "      <td>-1.304863</td>\n",
       "      <td>-1.425327</td>\n",
       "      <td>0.000000</td>\n",
       "      <td>0.000000</td>\n",
       "      <td>-1.437197</td>\n",
       "      <td>-1.412107</td>\n",
       "      <td>-0.068770</td>\n",
       "      <td>...</td>\n",
       "      <td>-1.958771</td>\n",
       "      <td>-1.390445</td>\n",
       "      <td>-0.195941</td>\n",
       "      <td>-0.652932</td>\n",
       "      <td>-1.970593</td>\n",
       "      <td>-1.375239</td>\n",
       "      <td>-6.939012e-01</td>\n",
       "      <td>-1.802527e+00</td>\n",
       "      <td>-8.913318e+00</td>\n",
       "      <td>-1.995897e+00</td>\n",
       "    </tr>\n",
       "    <tr>\n",
       "      <th>50%</th>\n",
       "      <td>0.000000</td>\n",
       "      <td>1.000000</td>\n",
       "      <td>4.000000</td>\n",
       "      <td>0.000000</td>\n",
       "      <td>0.000000</td>\n",
       "      <td>0.011280</td>\n",
       "      <td>0.001635</td>\n",
       "      <td>0.000000</td>\n",
       "      <td>0.000000</td>\n",
       "      <td>0.010817</td>\n",
       "      <td>...</td>\n",
       "      <td>0.000000</td>\n",
       "      <td>0.000272</td>\n",
       "      <td>1.219497</td>\n",
       "      <td>0.424945</td>\n",
       "      <td>0.000099</td>\n",
       "      <td>0.201399</td>\n",
       "      <td>1.182381e+00</td>\n",
       "      <td>4.360167e-01</td>\n",
       "      <td>2.550822e-01</td>\n",
       "      <td>3.300225e-01</td>\n",
       "    </tr>\n",
       "    <tr>\n",
       "      <th>75%</th>\n",
       "      <td>3.000000</td>\n",
       "      <td>2.381944</td>\n",
       "      <td>4.000000</td>\n",
       "      <td>0.006879</td>\n",
       "      <td>0.341444</td>\n",
       "      <td>2.107497</td>\n",
       "      <td>2.043995</td>\n",
       "      <td>0.623679</td>\n",
       "      <td>0.639251</td>\n",
       "      <td>2.023673</td>\n",
       "      <td>...</td>\n",
       "      <td>1.222807</td>\n",
       "      <td>1.711390</td>\n",
       "      <td>2.185291</td>\n",
       "      <td>2.014058</td>\n",
       "      <td>1.580704</td>\n",
       "      <td>2.010701</td>\n",
       "      <td>6.847626e+00</td>\n",
       "      <td>2.034738e+00</td>\n",
       "      <td>2.008174e+00</td>\n",
       "      <td>1.998589e+00</td>\n",
       "    </tr>\n",
       "    <tr>\n",
       "      <th>max</th>\n",
       "      <td>3.000000</td>\n",
       "      <td>9.000000</td>\n",
       "      <td>4.000000</td>\n",
       "      <td>2.171332</td>\n",
       "      <td>2.499696</td>\n",
       "      <td>198.953725</td>\n",
       "      <td>218.118294</td>\n",
       "      <td>2.036695</td>\n",
       "      <td>2.032430</td>\n",
       "      <td>5001.157827</td>\n",
       "      <td>...</td>\n",
       "      <td>3.761426</td>\n",
       "      <td>9.229395</td>\n",
       "      <td>105266.161459</td>\n",
       "      <td>110002.605965</td>\n",
       "      <td>23.210856</td>\n",
       "      <td>23.159297</td>\n",
       "      <td>1.711459e+06</td>\n",
       "      <td>1.772124e+06</td>\n",
       "      <td>1.469126e+02</td>\n",
       "      <td>1.172284e+02</td>\n",
       "    </tr>\n",
       "  </tbody>\n",
       "</table>\n",
       "<p>8 rows × 21 columns</p>\n",
       "</div>"
      ],
      "text/plain": [
       "            init     weight       type    level_2    level_3     level_4  \\\n",
       "count  20.000000  20.000000  20.000000  20.000000  20.000000   20.000000   \n",
       "mean    1.050000   1.715278   3.800000  -2.608983  -3.087235   12.360494   \n",
       "std     1.468081   2.189245   0.615587   8.118042   9.802525   44.393799   \n",
       "min     0.000000   0.000000   2.000000 -33.620593 -40.373713   -1.734322   \n",
       "25%     0.000000   0.090278   4.000000  -1.304863  -1.425327    0.000000   \n",
       "50%     0.000000   1.000000   4.000000   0.000000   0.000000    0.011280   \n",
       "75%     3.000000   2.381944   4.000000   0.006879   0.341444    2.107497   \n",
       "max     3.000000   9.000000   4.000000   2.171332   2.499696  198.953725   \n",
       "\n",
       "          level_5     level_6      level_7      level_8  ...      level_10  \\\n",
       "count   20.000000   20.000000    20.000000    20.000000  ...     20.000000   \n",
       "mean    13.485368  -53.858729   -57.641226   258.016894  ...  -1172.908731   \n",
       "std     48.702023  222.478514   238.231213  1116.816835  ...   5174.917644   \n",
       "min     -1.825242 -997.122136 -1067.678440    -5.550577  ... -23157.212916   \n",
       "25%      0.000000   -1.437197    -1.412107    -0.068770  ...     -1.958771   \n",
       "50%      0.001635    0.000000     0.000000     0.010817  ...      0.000000   \n",
       "75%      2.043995    0.623679     0.639251     2.023673  ...      1.222807   \n",
       "max    218.118294    2.036695     2.032430  5001.157827  ...      3.761426   \n",
       "\n",
       "           level_11       level_12       level_13       level_14  \\\n",
       "count     20.000000      20.000000      20.000000      20.000000   \n",
       "mean   -1232.022585    5292.641517    5529.478551  -22317.746351   \n",
       "std     5439.189243   23531.629810   24590.746496   99564.849566   \n",
       "min   -24338.986279      -7.423880     -17.395405 -445320.847252   \n",
       "25%       -1.390445      -0.195941      -0.652932      -1.970593   \n",
       "50%        0.000272       1.219497       0.424945       0.000099   \n",
       "75%        1.711390       2.185291       2.014058       1.580704   \n",
       "max        9.229395  105266.161459  110002.605965      23.210856   \n",
       "\n",
       "            level_15      level_16      level_17      level_18           exp  \n",
       "count      20.000000  2.000000e+01  2.000000e+01  2.000000e+01  2.000000e+01  \n",
       "mean   -23199.704152  8.566285e+04  8.869707e+04 -3.006011e+05 -7.239206e+05  \n",
       "std    103507.763796  3.826730e+05  3.962378e+05  1.343627e+06  3.237079e+06  \n",
       "min   -462954.335124 -6.706599e+01 -6.704860e+01 -6.009038e+06 -1.447675e+07  \n",
       "25%        -1.375239 -6.939012e-01 -1.802527e+00 -8.913318e+00 -1.995897e+00  \n",
       "50%         0.201399  1.182381e+00  4.360167e-01  2.550822e-01  3.300225e-01  \n",
       "75%         2.010701  6.847626e+00  2.034738e+00  2.008174e+00  1.998589e+00  \n",
       "max        23.159297  1.711459e+06  1.772124e+06  1.469126e+02  1.172284e+02  \n",
       "\n",
       "[8 rows x 21 columns]"
      ]
     },
     "execution_count": 5,
     "metadata": {},
     "output_type": "execute_result"
    }
   ],
   "source": [
    "df.describe()"
   ]
  },
  {
   "cell_type": "markdown",
   "metadata": {
    "papermill": {
     "duration": 0.005526,
     "end_time": "2020-08-31T06:55:55.653510",
     "exception": false,
     "start_time": "2020-08-31T06:55:55.647984",
     "status": "completed"
    },
    "tags": []
   },
   "source": [
    "## Get Dummy Variables for the Type of Oscillations"
   ]
  },
  {
   "cell_type": "code",
   "execution_count": 6,
   "metadata": {
    "execution": {
     "iopub.execute_input": "2020-08-31T06:55:55.666232Z",
     "iopub.status.busy": "2020-08-31T06:55:55.665984Z",
     "iopub.status.idle": "2020-08-31T06:55:55.672746Z",
     "shell.execute_reply": "2020-08-31T06:55:55.672493Z"
    },
    "papermill": {
     "duration": 0.013723,
     "end_time": "2020-08-31T06:55:55.672807",
     "exception": false,
     "start_time": "2020-08-31T06:55:55.659084",
     "status": "completed"
    },
    "tags": []
   },
   "outputs": [],
   "source": [
    "df = pd.get_dummies(df, columns=['type'])\n",
    "df = df.rename(columns={'type_2.0': 'type_2', 'type_4.0': 'type_4'})"
   ]
  },
  {
   "cell_type": "markdown",
   "metadata": {
    "papermill": {
     "duration": 0.008752,
     "end_time": "2020-08-31T06:55:55.687689",
     "exception": false,
     "start_time": "2020-08-31T06:55:55.678937",
     "status": "completed"
    },
    "tags": []
   },
   "source": [
    "## Remove Columns and Prepare for Analysis"
   ]
  },
  {
   "cell_type": "code",
   "execution_count": 7,
   "metadata": {
    "execution": {
     "iopub.execute_input": "2020-08-31T06:55:55.700644Z",
     "iopub.status.busy": "2020-08-31T06:55:55.700404Z",
     "iopub.status.idle": "2020-08-31T06:55:55.709259Z",
     "shell.execute_reply": "2020-08-31T06:55:55.708849Z"
    },
    "papermill": {
     "duration": 0.016085,
     "end_time": "2020-08-31T06:55:55.709353",
     "exception": false,
     "start_time": "2020-08-31T06:55:55.693268",
     "status": "completed"
    },
    "tags": []
   },
   "outputs": [
    {
     "name": "stdout",
     "output_type": "stream",
     "text": [
      "<class 'pandas.core.frame.DataFrame'>\n",
      "RangeIndex: 20 entries, 0 to 19\n",
      "Data columns (total 21 columns):\n",
      " #   Column    Non-Null Count  Dtype  \n",
      "---  ------    --------------  -----  \n",
      " 0   weight    20 non-null     float64\n",
      " 1   type_2    20 non-null     uint8  \n",
      " 2   type_4    20 non-null     uint8  \n",
      " 3   level_2   20 non-null     float64\n",
      " 4   level_3   20 non-null     float64\n",
      " 5   level_4   20 non-null     float64\n",
      " 6   level_5   20 non-null     float64\n",
      " 7   level_6   20 non-null     float64\n",
      " 8   level_7   20 non-null     float64\n",
      " 9   level_8   20 non-null     float64\n",
      " 10  level_9   20 non-null     float64\n",
      " 11  level_10  20 non-null     float64\n",
      " 12  level_11  20 non-null     float64\n",
      " 13  level_12  20 non-null     float64\n",
      " 14  level_13  20 non-null     float64\n",
      " 15  level_14  20 non-null     float64\n",
      " 16  level_15  20 non-null     float64\n",
      " 17  level_16  20 non-null     float64\n",
      " 18  level_17  20 non-null     float64\n",
      " 19  level_18  20 non-null     float64\n",
      " 20  exp       20 non-null     float64\n",
      "dtypes: float64(19), uint8(2)\n",
      "memory usage: 3.1 KB\n"
     ]
    }
   ],
   "source": [
    "columns = ['weight', 'type_2', 'type_4'] + ['level_' + str(n) for n in range(2, 19)] + ['exp']\n",
    "df = df[columns]\n",
    "df.info()"
   ]
  },
  {
   "cell_type": "markdown",
   "metadata": {
    "papermill": {
     "duration": 0.005644,
     "end_time": "2020-08-31T06:55:55.724695",
     "exception": false,
     "start_time": "2020-08-31T06:55:55.719051",
     "status": "completed"
    },
    "tags": []
   },
   "source": [
    "## Remove Duplicates"
   ]
  },
  {
   "cell_type": "code",
   "execution_count": 8,
   "metadata": {
    "execution": {
     "iopub.execute_input": "2020-08-31T06:55:55.737686Z",
     "iopub.status.busy": "2020-08-31T06:55:55.737445Z",
     "iopub.status.idle": "2020-08-31T06:55:55.744206Z",
     "shell.execute_reply": "2020-08-31T06:55:55.743994Z"
    },
    "papermill": {
     "duration": 0.013848,
     "end_time": "2020-08-31T06:55:55.744256",
     "exception": false,
     "start_time": "2020-08-31T06:55:55.730408",
     "status": "completed"
    },
    "tags": []
   },
   "outputs": [],
   "source": [
    "duplicates_id = df.duplicated()\n",
    "duplicates = df.loc[duplicates_id]\n",
    "df = df.loc[~duplicates_id]"
   ]
  },
  {
   "cell_type": "code",
   "execution_count": 9,
   "metadata": {
    "execution": {
     "iopub.execute_input": "2020-08-31T06:55:55.760781Z",
     "iopub.status.busy": "2020-08-31T06:55:55.760545Z",
     "iopub.status.idle": "2020-08-31T06:55:55.766248Z",
     "shell.execute_reply": "2020-08-31T06:55:55.765945Z"
    },
    "papermill": {
     "duration": 0.016215,
     "end_time": "2020-08-31T06:55:55.766337",
     "exception": false,
     "start_time": "2020-08-31T06:55:55.750122",
     "status": "completed"
    },
    "tags": []
   },
   "outputs": [
    {
     "name": "stdout",
     "output_type": "stream",
     "text": [
      "Number of duplicates:   1\n",
      "Fraction of duplicates: 0.050\n"
     ]
    }
   ],
   "source": [
    "print(f'Number of duplicates:   {duplicates_id.sum():d}')\n",
    "print(f'Fraction of duplicates: {duplicates_id.mean():.3f}')"
   ]
  },
  {
   "cell_type": "markdown",
   "metadata": {
    "papermill": {
     "duration": 0.006245,
     "end_time": "2020-08-31T06:55:55.783451",
     "exception": false,
     "start_time": "2020-08-31T06:55:55.777206",
     "status": "completed"
    },
    "tags": []
   },
   "source": [
    "## Save to File"
   ]
  },
  {
   "cell_type": "code",
   "execution_count": 10,
   "metadata": {
    "execution": {
     "iopub.execute_input": "2020-08-31T06:55:55.796917Z",
     "iopub.status.busy": "2020-08-31T06:55:55.796676Z",
     "iopub.status.idle": "2020-08-31T06:55:55.803307Z",
     "shell.execute_reply": "2020-08-31T06:55:55.803068Z"
    },
    "papermill": {
     "duration": 0.013956,
     "end_time": "2020-08-31T06:55:55.803357",
     "exception": false,
     "start_time": "2020-08-31T06:55:55.789401",
     "status": "completed"
    },
    "tags": []
   },
   "outputs": [],
   "source": [
    "duplicates.to_csv(pdata('dlumps_dup.csv'), index=False)\n",
    "df.to_csv(pdata('dlumps.csv'), index=False)"
   ]
  }
 ],
 "metadata": {
  "kernelspec": {
   "display_name": "Python 3",
   "language": "python",
   "name": "python3"
  },
  "language_info": {
   "codemirror_mode": {
    "name": "ipython",
    "version": 3
   },
   "file_extension": ".py",
   "mimetype": "text/x-python",
   "name": "python",
   "nbconvert_exporter": "python",
   "pygments_lexer": "ipython3",
   "version": "3.7.8"
  },
  "papermill": {
   "duration": 1.316212,
   "end_time": "2020-08-31T06:55:56.016173",
   "environment_variables": {},
   "exception": null,
   "input_path": "./dlumps_tidy.ipynb",
   "output_path": "dlumps_tidy_output.ipynb",
   "parameters": {},
   "start_time": "2020-08-31T06:55:54.699961",
   "version": "2.1.2"
  }
 },
 "nbformat": 4,
 "nbformat_minor": 4
}