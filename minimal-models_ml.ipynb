{
 "cells": [
  {
   "cell_type": "markdown",
   "metadata": {
    "papermill": {
     "duration": 0.014545,
     "end_time": "2020-11-25T11:18:29.159818",
     "exception": false,
     "start_time": "2020-11-25T11:18:29.145273",
     "status": "completed"
    },
    "tags": []
   },
   "source": [
    "# Level Truncation in String Field Theory\n",
    "\n",
    "H. Erbin, R. Finotello, M. Kudrna\n",
    "\n",
    "## Minimal Models\n",
    "\n",
    "We consider minimal models in String Field Theory and their truncation levels.\n",
    "We use machine learning techniques to extrapolate the value of the truncations $L$ at $\\infty$ given the results using fits of polynomials in $\\frac{1}{L}$.\n",
    "\n",
    "## Machine Learning Analysis\n",
    "\n",
    "In what follows we proceed using a machine learning analysis on the dataset produced in the [exploratory data analysis](./minimal-models_eda.ipynb).\n",
    "We consider both **support vector machines** with different kernels (linear and Gaussian) and **decision trees** (*LightGBM*).\n",
    "We will use *scikit-optimize* for hyperparameter optimisation (we utilise cross-validation with 9 folds)."
   ]
  },
  {
   "cell_type": "code",
   "execution_count": 1,
   "metadata": {
    "papermill": {
     "duration": 0.853845,
     "end_time": "2020-11-25T11:18:30.027568",
     "exception": false,
     "start_time": "2020-11-25T11:18:29.173723",
     "status": "completed"
    },
    "tags": []
   },
   "outputs": [],
   "source": [
    "%matplotlib inline\n",
    "\n",
    "import os\n",
    "import pandas as pd\n",
    "import json\n",
    "import re\n",
    "import joblib\n",
    "import time\n",
    "from datetime import datetime\n",
    "from lightgbm import LGBMRegressor\n",
    "from sklearn.svm import SVR, LinearSVR\n",
    "from skopt import BayesSearchCV\n",
    "from skopt.space import Integer, Real, Categorical\n",
    "import numpy as np\n",
    "import seaborn as sns\n",
    "import matplotlib.pyplot as plt"
   ]
  },
  {
   "cell_type": "code",
   "execution_count": 2,
   "metadata": {
    "papermill": {
     "duration": 0.020828,
     "end_time": "2020-11-25T11:18:30.062914",
     "exception": false,
     "start_time": "2020-11-25T11:18:30.042086",
     "status": "completed"
    },
    "tags": []
   },
   "outputs": [],
   "source": [
    "sns.set()\n",
    "ratio   = lambda x, y: (6 * y, 5 * x)\n",
    "\n",
    "os.makedirs('./img', exist_ok=True)\n",
    "os.makedirs('./models', exist_ok=True)"
   ]
  },
  {
   "cell_type": "code",
   "execution_count": 3,
   "metadata": {
    "papermill": {
     "duration": 0.020703,
     "end_time": "2020-11-25T11:18:30.097354",
     "exception": false,
     "start_time": "2020-11-25T11:18:30.076651",
     "status": "completed"
    },
    "tags": []
   },
   "outputs": [],
   "source": [
    "def savefig(filename, fig, show=False):\n",
    "    '''\n",
    "    Save a Matplotlib figure to file.\n",
    "    \n",
    "    Needed arguments:\n",
    "        filename: the path to the saved file in the img directory (no extension),\n",
    "        fig:      the Matplotlib figure object.\n",
    "        \n",
    "    Optional arguments:\n",
    "        show: show the plot inline (bool).\n",
    "    '''\n",
    "    \n",
    "    # save the figure to file (PDF and PNG)\n",
    "    fig.tight_layout()\n",
    "    fig.savefig(os.path.join('./img', filename + '.pdf'), dpi=144, format='pdf')\n",
    "    fig.savefig(os.path.join('./img', filename + '.png'), dpi=144, format='png')\n",
    "    \n",
    "    # show if interactive\n",
    "    if show:\n",
    "        plt.show()\n",
    "    \n",
    "    # release memory\n",
    "    fig.clf()\n",
    "    plt.close(fig)"
   ]
  },
  {
   "cell_type": "code",
   "execution_count": 4,
   "metadata": {
    "papermill": {
     "duration": 0.018799,
     "end_time": "2020-11-25T11:18:30.129968",
     "exception": false,
     "start_time": "2020-11-25T11:18:30.111169",
     "status": "completed"
    },
    "tags": []
   },
   "outputs": [],
   "source": [
    "random_state = 123\n",
    "np.random.seed(random_state)"
   ]
  },
  {
   "cell_type": "markdown",
   "metadata": {
    "papermill": {
     "duration": 0.013994,
     "end_time": "2020-11-25T11:18:30.158048",
     "exception": false,
     "start_time": "2020-11-25T11:18:30.144054",
     "status": "completed"
    },
    "tags": []
   },
   "source": [
    "## Load the Dataset\n",
    "\n",
    "We use the pruned dataset created at the end of the [**exploratory data analysis**](./minimal-models_eda.ipynb).\n",
    "We first load the JSON dataset containing the samples.\n",
    "We then divide it into 90% for cross-validations and 10% test."
   ]
  },
  {
   "cell_type": "code",
   "execution_count": 5,
   "metadata": {
    "papermill": {
     "duration": 0.054722,
     "end_time": "2020-11-25T11:18:30.226596",
     "exception": false,
     "start_time": "2020-11-25T11:18:30.171874",
     "status": "completed"
    },
    "tags": []
   },
   "outputs": [],
   "source": [
    "df = pd.read_json('./data/data_ml.json.gz', orient='records')"
   ]
  },
  {
   "cell_type": "code",
   "execution_count": 6,
   "metadata": {
    "papermill": {
     "duration": 0.021796,
     "end_time": "2020-11-25T11:18:30.262503",
     "exception": false,
     "start_time": "2020-11-25T11:18:30.240707",
     "status": "completed"
    },
    "tags": []
   },
   "outputs": [],
   "source": [
    "# take 80% for training\n",
    "df_train = df.sample(frac=0.9, random_state=random_state)\n",
    "df_test  = df.loc[~df.index.isin(df_train.index)].copy()\n",
    "\n",
    "n_train = df_train.shape[0]\n",
    "n_test = df_test.shape[0]\n",
    "\n",
    "# check that the shapes are ok\n",
    "assert n_train + n_test == df.shape[0]"
   ]
  },
  {
   "cell_type": "code",
   "execution_count": 7,
   "metadata": {
    "papermill": {
     "duration": 0.019183,
     "end_time": "2020-11-25T11:18:30.295791",
     "exception": false,
     "start_time": "2020-11-25T11:18:30.276608",
     "status": "completed"
    },
    "tags": []
   },
   "outputs": [],
   "source": [
    "# save the input shape for later use (NB: -1 for the labels, -2 for solution and observable columns)\n",
    "features_shape = (df_train.shape[1] - 1 - 2,)"
   ]
  },
  {
   "cell_type": "code",
   "execution_count": 8,
   "metadata": {
    "papermill": {
     "duration": 0.019257,
     "end_time": "2020-11-25T11:18:30.328960",
     "exception": false,
     "start_time": "2020-11-25T11:18:30.309703",
     "status": "completed"
    },
    "tags": []
   },
   "outputs": [
    {
     "name": "stdout",
     "output_type": "stream",
     "text": [
      "Current working directory: ./models/ml_25112020_141749\n"
     ]
    }
   ],
   "source": [
    "# number of iterations of the hyperparameter optimisation\n",
    "n_iter = 50\n",
    "\n",
    "# number of cross-validation folds\n",
    "cv = 9\n",
    "\n",
    "# save the model into the appropriate directory\n",
    "now     = datetime.now().strftime(\"%d%m%Y_%H%M%S\")\n",
    "now_dir = 'ml_' + now\n",
    "now_dir = os.path.join('./models', now_dir)\n",
    "print(f'Current working directory: {now_dir}')\n",
    "\n",
    "os.makedirs(now_dir)"
   ]
  },
  {
   "cell_type": "markdown",
   "metadata": {
    "papermill": {
     "duration": 0.013923,
     "end_time": "2020-11-25T11:18:30.356662",
     "exception": false,
     "start_time": "2020-11-25T11:18:30.342739",
     "status": "completed"
    },
    "tags": []
   },
   "source": [
    "## Normalisation of the Features\n",
    "\n",
    "We scale the features to the interval $[0,\\, 1]$ to improve scalability of the deep learning technique:"
   ]
  },
  {
   "cell_type": "code",
   "execution_count": 9,
   "metadata": {
    "papermill": {
     "duration": 0.053538,
     "end_time": "2020-11-25T11:18:30.424235",
     "exception": false,
     "start_time": "2020-11-25T11:18:30.370697",
     "status": "completed"
    },
    "tags": []
   },
   "outputs": [],
   "source": [
    "norm_cols    = [c for c in df_train.columns if re.match('^lev_', c)]\n",
    "min_max_cols = [(c, np.min(df_train[c]), np.max(df_train[c])) for c in norm_cols]\n",
    "\n",
    "# apply the transformation\n",
    "for c, m, M in min_max_cols:\n",
    "    df_train[c] = df_train[c].apply(lambda x: (x - m) / (M - m))\n",
    "    df_test[c]  = df_test[c].apply(lambda x: (x - m) / (M - m))"
   ]
  },
  {
   "cell_type": "code",
   "execution_count": 10,
   "metadata": {
    "papermill": {
     "duration": 0.021384,
     "end_time": "2020-11-25T11:18:30.459960",
     "exception": false,
     "start_time": "2020-11-25T11:18:30.438576",
     "status": "completed"
    },
    "tags": []
   },
   "outputs": [],
   "source": [
    "X_train = df_train.drop(columns=['solution', 'observable', 'exp'])\n",
    "X_test  = df_test.drop(columns=['solution', 'observable', 'exp'])\n",
    "\n",
    "y_train = df_train['exp']\n",
    "y_test  = df_test['exp']"
   ]
  },
  {
   "cell_type": "markdown",
   "metadata": {
    "papermill": {
     "duration": 0.014353,
     "end_time": "2020-11-25T11:18:30.488341",
     "exception": false,
     "start_time": "2020-11-25T11:18:30.473988",
     "status": "completed"
    },
    "tags": []
   },
   "source": [
    "The following functions are helper methods to pretty print and analyse the results."
   ]
  },
  {
   "cell_type": "code",
   "execution_count": 11,
   "metadata": {
    "papermill": {
     "duration": 0.020207,
     "end_time": "2020-11-25T11:18:30.522547",
     "exception": false,
     "start_time": "2020-11-25T11:18:30.502340",
     "status": "completed"
    },
    "tags": []
   },
   "outputs": [],
   "source": [
    "def print_best_params(estimator):\n",
    "    '''\n",
    "    Print the best parameters.\n",
    "    \n",
    "    Needed arguments:\n",
    "        estimator: the fitted BayesSearchCV estimator.\n",
    "        \n",
    "    Returns:\n",
    "        best CV parameters.\n",
    "    '''\n",
    "    \n",
    "    est_name    = estimator.estimator.__class__.__name__\n",
    "    best_params = estimator.best_params_\n",
    "    \n",
    "    return pd.DataFrame(best_params, index=[est_name])"
   ]
  },
  {
   "cell_type": "code",
   "execution_count": 12,
   "metadata": {
    "papermill": {
     "duration": 0.022537,
     "end_time": "2020-11-25T11:18:30.559240",
     "exception": false,
     "start_time": "2020-11-25T11:18:30.536703",
     "status": "completed"
    },
    "tags": []
   },
   "outputs": [],
   "source": [
    "def cv_results(estimator):\n",
    "    '''\n",
    "    Extract CV results.\n",
    "    \n",
    "    Needed arguments:\n",
    "        estimator: the fitted BayesSearchCV estimator.\n",
    "        \n",
    "    Returns:\n",
    "        metrics, predictions, residuals\n",
    "    '''\n",
    "    \n",
    "    # extract the best estimator\n",
    "    est        = estimator.best_estimator_\n",
    "    est_name   = estimator.estimator.__class__.__name__.lower()\n",
    "    best_index = estimator.best_index_\n",
    "    cv_results = estimator.cv_results_\n",
    "    \n",
    "    # save model to file\n",
    "    joblib.dump(est, os.path.join(now_dir, est_name + '.joblib'))\n",
    "    \n",
    "    # compute the predictions\n",
    "    predictions = {'training':      list(est.predict(X_train)),\n",
    "                   'training_true': list(y_train),\n",
    "                   'test':          list(est.predict(X_test)),\n",
    "                   'test_true':     list(y_test)\n",
    "                  }\n",
    "    \n",
    "    # compute residuals\n",
    "    residuals  = {'training': list(predictions['training'] - y_train),\n",
    "                  'test':     list(predictions['test'] - y_test)\n",
    "                 }\n",
    "    \n",
    "    # compute metrics\n",
    "    metrics = {'train_mse':     np.mean(np.square(predictions['training'] - y_train)),\n",
    "               'train_mae':     np.mean(np.abs(predictions['training'] - y_train)),\n",
    "               'train_cv_mean': np.abs(cv_results['mean_test_score'][best_index]),\n",
    "               'train_cv_std':  cv_results['std_test_score'][best_index],\n",
    "               'test_mse':      np.mean(np.square(predictions['test'] - y_test)),\n",
    "               'test_mae':      np.mean(np.abs(predictions['test'] - y_test))\n",
    "              }\n",
    "    metrics = pd.DataFrame(metrics, index=[est_name])\n",
    "    \n",
    "    return metrics, predictions, residuals"
   ]
  },
  {
   "cell_type": "code",
   "execution_count": 13,
   "metadata": {
    "papermill": {
     "duration": 0.02016,
     "end_time": "2020-11-25T11:18:30.594467",
     "exception": false,
     "start_time": "2020-11-25T11:18:30.574307",
     "status": "completed"
    },
    "tags": []
   },
   "outputs": [],
   "source": [
    "def fit_time(estimator):\n",
    "    '''\n",
    "    Fit the estimator and display training time.\n",
    "    \n",
    "    Needed arguments:\n",
    "        estimator: the estimator to fit.\n",
    "    '''\n",
    "    \n",
    "    # fit keeping track of the time\n",
    "    start = time.time()\n",
    "    start_str = time.strftime('%H:%M:%S.', time.gmtime(start))\n",
    "    print(f'Start: {start_str}')\n",
    "    \n",
    "    estimator = estimator.fit(X_train, y_train)\n",
    "    \n",
    "    stop = time.time()\n",
    "    stop_str = time.strftime('%H:%M:%S.', time.gmtime(stop))\n",
    "    print(f'Stop: {stop_str}')\n",
    "    \n",
    "    diff = stop - start\n",
    "    diff_str = time.strftime('Training ended in %H hours, %M minutes and %S seconds.', time.gmtime(diff))\n",
    "    print(diff_str)\n",
    "    \n",
    "    return estimator"
   ]
  },
  {
   "cell_type": "markdown",
   "metadata": {
    "papermill": {
     "duration": 0.014343,
     "end_time": "2020-11-25T11:18:30.623281",
     "exception": false,
     "start_time": "2020-11-25T11:18:30.608938",
     "status": "completed"
    },
    "tags": []
   },
   "source": [
    "## Decision Trees\n",
    "\n",
    "We now consider the impact of boosted decision trees on the determination of the result."
   ]
  },
  {
   "cell_type": "code",
   "execution_count": 14,
   "metadata": {
    "papermill": {
     "duration": 2231.822902,
     "end_time": "2020-11-25T11:55:42.460448",
     "exception": true,
     "start_time": "2020-11-25T11:18:30.637546",
     "status": "failed"
    },
    "tags": []
   },
   "outputs": [
    {
     "name": "stdout",
     "output_type": "stream",
     "text": [
      "Start: 13:17:49.\n",
      "Stop: 13:21:49.\n",
      "Training ended in 00 hours, 04 minutes and 00 seconds.\n"
     ]
    }
   ],
   "source": [
    "search = {'num_leaves':        Integer(10, 100),\n",
    "          'max_depth':         Integer(2, 100),\n",
    "          'learning_rate':     Real(1.0e-4, 1.0e-1, prior='log-uniform'),\n",
    "          'n_estimators':      Integer(1e2, 1e4, prior='log-uniform'),\n",
    "          'min_child_samples': Integer(10, 50),\n",
    "          'colsample_bytree':  Real(0.5, 1.0),\n",
    "          'reg_alpha':         Real(1.0e-6, 1.0e-1, prior='log-uniform'),\n",
    "          'reg_lambda':        Real(1.0e-6, 1.0e-1, prior='log-uniform')\n",
    "         }\n",
    "\n",
    "gbdt = BayesSearchCV(LGBMRegressor(random_state=random_state, n_jobs=1),\n",
    "                     search,\n",
    "                     scoring='neg_mean_squared_error',\n",
    "                     n_iter=n_iter,\n",
    "                     cv=cv,\n",
    "                     n_jobs=-1,\n",
    "                     random_state=random_state\n",
    "                    )\n",
    "gbdt = fit_time(gbdt)"
   ]
  },
  {
   "cell_type": "code",
   "execution_count": 15,
   "metadata": {
    "papermill": {
     "duration": null,
     "end_time": null,
     "exception": null,
     "start_time": null,
     "status": "pending"
    },
    "tags": []
   },
   "outputs": [
    {
     "data": {
      "text/html": [
       "<div>\n",
       "<style scoped>\n",
       "    .dataframe tbody tr th:only-of-type {\n",
       "        vertical-align: middle;\n",
       "    }\n",
       "\n",
       "    .dataframe tbody tr th {\n",
       "        vertical-align: top;\n",
       "    }\n",
       "\n",
       "    .dataframe thead th {\n",
       "        text-align: right;\n",
       "    }\n",
       "</style>\n",
       "<table border=\"1\" class=\"dataframe\">\n",
       "  <thead>\n",
       "    <tr style=\"text-align: right;\">\n",
       "      <th></th>\n",
       "      <th>colsample_bytree</th>\n",
       "      <th>learning_rate</th>\n",
       "      <th>max_depth</th>\n",
       "      <th>min_child_samples</th>\n",
       "      <th>n_estimators</th>\n",
       "      <th>num_leaves</th>\n",
       "      <th>reg_alpha</th>\n",
       "      <th>reg_lambda</th>\n",
       "    </tr>\n",
       "  </thead>\n",
       "  <tbody>\n",
       "    <tr>\n",
       "      <th>LGBMRegressor</th>\n",
       "      <td>0.5</td>\n",
       "      <td>0.001572</td>\n",
       "      <td>100</td>\n",
       "      <td>10</td>\n",
       "      <td>8598</td>\n",
       "      <td>100</td>\n",
       "      <td>0.1</td>\n",
       "      <td>0.1</td>\n",
       "    </tr>\n",
       "  </tbody>\n",
       "</table>\n",
       "</div>"
      ],
      "text/plain": [
       "               colsample_bytree  learning_rate  max_depth  min_child_samples  \\\n",
       "LGBMRegressor               0.5       0.001572        100                 10   \n",
       "\n",
       "               n_estimators  num_leaves  reg_alpha  reg_lambda  \n",
       "LGBMRegressor          8598         100        0.1         0.1  "
      ]
     },
     "execution_count": 15,
     "metadata": {},
     "output_type": "execute_result"
    }
   ],
   "source": [
    "# print the best parameters\n",
    "print_best_params(gbdt)"
   ]
  },
  {
   "cell_type": "code",
   "execution_count": 16,
   "metadata": {
    "papermill": {
     "duration": null,
     "end_time": null,
     "exception": null,
     "start_time": null,
     "status": "pending"
    },
    "tags": []
   },
   "outputs": [
    {
     "data": {
      "text/html": [
       "<div>\n",
       "<style scoped>\n",
       "    .dataframe tbody tr th:only-of-type {\n",
       "        vertical-align: middle;\n",
       "    }\n",
       "\n",
       "    .dataframe tbody tr th {\n",
       "        vertical-align: top;\n",
       "    }\n",
       "\n",
       "    .dataframe thead th {\n",
       "        text-align: right;\n",
       "    }\n",
       "</style>\n",
       "<table border=\"1\" class=\"dataframe\">\n",
       "  <thead>\n",
       "    <tr style=\"text-align: right;\">\n",
       "      <th></th>\n",
       "      <th>train_mse</th>\n",
       "      <th>train_mae</th>\n",
       "      <th>train_cv_mean</th>\n",
       "      <th>train_cv_std</th>\n",
       "      <th>test_mse</th>\n",
       "      <th>test_mae</th>\n",
       "    </tr>\n",
       "  </thead>\n",
       "  <tbody>\n",
       "    <tr>\n",
       "      <th>lgbmregressor</th>\n",
       "      <td>0.013479</td>\n",
       "      <td>0.031155</td>\n",
       "      <td>0.061584</td>\n",
       "      <td>0.022037</td>\n",
       "      <td>0.112979</td>\n",
       "      <td>0.142882</td>\n",
       "    </tr>\n",
       "  </tbody>\n",
       "</table>\n",
       "</div>"
      ],
      "text/plain": [
       "               train_mse  train_mae  train_cv_mean  train_cv_std  test_mse  \\\n",
       "lgbmregressor   0.013479   0.031155       0.061584      0.022037  0.112979   \n",
       "\n",
       "               test_mae  \n",
       "lgbmregressor  0.142882  "
      ]
     },
     "execution_count": 16,
     "metadata": {},
     "output_type": "execute_result"
    }
   ],
   "source": [
    "# extract predictions and metrics\n",
    "metrics, predictions, residuals = cv_results(gbdt)\n",
    "with open('./data/gbdt_predictions.json', 'w') as f:\n",
    "    json.dump(predictions, f)\n",
    "metrics"
   ]
  },
  {
   "cell_type": "markdown",
   "metadata": {
    "papermill": {
     "duration": null,
     "end_time": null,
     "exception": null,
     "start_time": null,
     "status": "pending"
    },
    "tags": []
   },
   "source": [
    "We then plot the histogram of the residuals and the residual plot on the cross-validation and test sets:"
   ]
  },
  {
   "cell_type": "code",
   "execution_count": 17,
   "metadata": {
    "papermill": {
     "duration": null,
     "end_time": null,
     "exception": null,
     "start_time": null,
     "status": "pending"
    },
    "tags": []
   },
   "outputs": [
    {
     "data": {
      "image/png": "[encoded data removed]",
      "text/plain": [
       "<Figure size 432x360 with 1 Axes>"
      ]
     },
     "metadata": {},
     "output_type": "display_data"
    }
   ],
   "source": [
    "fig, ax = plt.subplots(1, 1, figsize=ratio(1,1))\n",
    "\n",
    "sns.histplot(data=residuals,\n",
    "             stat='count',\n",
    "             log_scale=[False, True],\n",
    "             alpha=0.5,\n",
    "             ax=ax\n",
    "            )\n",
    "ax.set(title='Univariate distribution of the residuals',\n",
    "       xlabel='residuals',\n",
    "       ylabel='count'\n",
    "      )\n",
    "\n",
    "savefig('gbdt_histogram', fig, show=True)"
   ]
  },
  {
   "cell_type": "code",
   "execution_count": 18,
   "metadata": {
    "papermill": {
     "duration": null,
     "end_time": null,
     "exception": null,
     "start_time": null,
     "status": "pending"
    },
    "tags": []
   },
   "outputs": [
    {
     "data": {
      "image/png": "[encoded data removed]",
      "text/plain": [
       "<Figure size 432x360 with 1 Axes>"
      ]
     },
     "metadata": {},
     "output_type": "display_data"
    }
   ],
   "source": [
    "fig, ax = plt.subplots(1, 1, figsize=ratio(1,1))\n",
    "\n",
    "sns.scatterplot(x=predictions['training'],\n",
    "                y=residuals['training'],\n",
    "                alpha=0.35,\n",
    "                ax=ax\n",
    "               )\n",
    "sns.scatterplot(x=predictions['test'],\n",
    "                y=residuals['test'],\n",
    "                alpha=0.35,\n",
    "                ax=ax\n",
    "               )\n",
    "ax.set(title='Residual plot',\n",
    "       xlabel='predictions',\n",
    "       ylabel='residuals'\n",
    "      )\n",
    "ax.legend(['training', 'test'])\n",
    "\n",
    "savefig('gbdt_resplot', fig, show=True)"
   ]
  },
  {
   "cell_type": "markdown",
   "metadata": {
    "papermill": {
     "duration": null,
     "end_time": null,
     "exception": null,
     "start_time": null,
     "status": "pending"
    },
    "tags": []
   },
   "source": [
    "## Linear SVR\n",
    "\n",
    "We then consider several *support vector machine* algorithms starting from the linear case."
   ]
  },
  {
   "cell_type": "code",
   "execution_count": 19,
   "metadata": {
    "papermill": {
     "duration": null,
     "end_time": null,
     "exception": null,
     "start_time": null,
     "status": "pending"
    },
    "tags": []
   },
   "outputs": [
    {
     "name": "stdout",
     "output_type": "stream",
     "text": [
      "Start: 13:21:57.\n",
      "Stop: 13:22:49.\n",
      "Training ended in 00 hours, 00 minutes and 51 seconds.\n"
     ]
    },
    {
     "name": "stderr",
     "output_type": "stream",
     "text": [
      "/home/riccardo/conda/envs/ml-sft-trunc/lib/python3.8/site-packages/sklearn/svm/_base.py:976: ConvergenceWarning: Liblinear failed to converge, increase the number of iterations.\n",
      "  warnings.warn(\"Liblinear failed to converge, increase \"\n"
     ]
    }
   ],
   "source": [
    "search = {'epsilon':           Real(0.0, 10.0), \n",
    "          'C':                 Real(1.0e-1, 1.0e3, prior='log-uniform'),\n",
    "          'loss':              Categorical(['epsilon_insensitive', 'squared_epsilon_insensitive']),\n",
    "          'fit_intercept':     Integer(0, 1),\n",
    "          'intercept_scaling': Real(1.0e-2, 1.0e2, prior='log-uniform')\n",
    "         }\n",
    "\n",
    "lsvr = BayesSearchCV(LinearSVR(random_state=random_state, max_iter=1000),\n",
    "                     search,\n",
    "                     scoring='neg_mean_squared_error',\n",
    "                     n_iter=n_iter,\n",
    "                     cv=cv,\n",
    "                     n_jobs=-1,\n",
    "                     random_state=random_state\n",
    "                    )\n",
    "lsvr = fit_time(lsvr)"
   ]
  },
  {
   "cell_type": "code",
   "execution_count": 20,
   "metadata": {
    "papermill": {
     "duration": null,
     "end_time": null,
     "exception": null,
     "start_time": null,
     "status": "pending"
    },
    "tags": []
   },
   "outputs": [
    {
     "data": {
      "text/html": [
       "<div>\n",
       "<style scoped>\n",
       "    .dataframe tbody tr th:only-of-type {\n",
       "        vertical-align: middle;\n",
       "    }\n",
       "\n",
       "    .dataframe tbody tr th {\n",
       "        vertical-align: top;\n",
       "    }\n",
       "\n",
       "    .dataframe thead th {\n",
       "        text-align: right;\n",
       "    }\n",
       "</style>\n",
       "<table border=\"1\" class=\"dataframe\">\n",
       "  <thead>\n",
       "    <tr style=\"text-align: right;\">\n",
       "      <th></th>\n",
       "      <th>C</th>\n",
       "      <th>epsilon</th>\n",
       "      <th>fit_intercept</th>\n",
       "      <th>intercept_scaling</th>\n",
       "      <th>loss</th>\n",
       "    </tr>\n",
       "  </thead>\n",
       "  <tbody>\n",
       "    <tr>\n",
       "      <th>LinearSVR</th>\n",
       "      <td>29.734963</td>\n",
       "      <td>0.0</td>\n",
       "      <td>0</td>\n",
       "      <td>0.01</td>\n",
       "      <td>squared_epsilon_insensitive</td>\n",
       "    </tr>\n",
       "  </tbody>\n",
       "</table>\n",
       "</div>"
      ],
      "text/plain": [
       "                   C  epsilon  fit_intercept  intercept_scaling  \\\n",
       "LinearSVR  29.734963      0.0              0               0.01   \n",
       "\n",
       "                                  loss  \n",
       "LinearSVR  squared_epsilon_insensitive  "
      ]
     },
     "execution_count": 20,
     "metadata": {},
     "output_type": "execute_result"
    }
   ],
   "source": [
    "# print the best parameters\n",
    "print_best_params(lsvr)"
   ]
  },
  {
   "cell_type": "code",
   "execution_count": 21,
   "metadata": {
    "papermill": {
     "duration": null,
     "end_time": null,
     "exception": null,
     "start_time": null,
     "status": "pending"
    },
    "tags": []
   },
   "outputs": [
    {
     "data": {
      "text/html": [
       "<div>\n",
       "<style scoped>\n",
       "    .dataframe tbody tr th:only-of-type {\n",
       "        vertical-align: middle;\n",
       "    }\n",
       "\n",
       "    .dataframe tbody tr th {\n",
       "        vertical-align: top;\n",
       "    }\n",
       "\n",
       "    .dataframe thead th {\n",
       "        text-align: right;\n",
       "    }\n",
       "</style>\n",
       "<table border=\"1\" class=\"dataframe\">\n",
       "  <thead>\n",
       "    <tr style=\"text-align: right;\">\n",
       "      <th></th>\n",
       "      <th>train_mse</th>\n",
       "      <th>train_mae</th>\n",
       "      <th>train_cv_mean</th>\n",
       "      <th>train_cv_std</th>\n",
       "      <th>test_mse</th>\n",
       "      <th>test_mae</th>\n",
       "    </tr>\n",
       "  </thead>\n",
       "  <tbody>\n",
       "    <tr>\n",
       "      <th>linearsvr</th>\n",
       "      <td>0.188778</td>\n",
       "      <td>0.301348</td>\n",
       "      <td>0.216536</td>\n",
       "      <td>0.056832</td>\n",
       "      <td>0.204791</td>\n",
       "      <td>0.303229</td>\n",
       "    </tr>\n",
       "  </tbody>\n",
       "</table>\n",
       "</div>"
      ],
      "text/plain": [
       "           train_mse  train_mae  train_cv_mean  train_cv_std  test_mse  \\\n",
       "linearsvr   0.188778   0.301348       0.216536      0.056832  0.204791   \n",
       "\n",
       "           test_mae  \n",
       "linearsvr  0.303229  "
      ]
     },
     "execution_count": 21,
     "metadata": {},
     "output_type": "execute_result"
    }
   ],
   "source": [
    "# extract predictions and metrics\n",
    "metrics, predictions, residuals = cv_results(lsvr)\n",
    "with open('./data/lsvr_predictions.json', 'w') as f:\n",
    "    json.dump(predictions, f)\n",
    "    \n",
    "metrics"
   ]
  },
  {
   "cell_type": "markdown",
   "metadata": {
    "papermill": {
     "duration": null,
     "end_time": null,
     "exception": null,
     "start_time": null,
     "status": "pending"
    },
    "tags": []
   },
   "source": [
    "We then plot the histogram of the residuals and the residual plot on the cross-validation and test sets:"
   ]
  },
  {
   "cell_type": "code",
   "execution_count": 22,
   "metadata": {
    "papermill": {
     "duration": null,
     "end_time": null,
     "exception": null,
     "start_time": null,
     "status": "pending"
    },
    "tags": []
   },
   "outputs": [
    {
     "data": {
      "image/png": "[encoded data removed]",
      "text/plain": [
       "<Figure size 432x360 with 1 Axes>"
      ]
     },
     "metadata": {},
     "output_type": "display_data"
    }
   ],
   "source": [
    "fig, ax = plt.subplots(1, 1, figsize=ratio(1,1))\n",
    "\n",
    "sns.histplot(data=residuals,\n",
    "             stat='count',\n",
    "             log_scale=[False, True],\n",
    "             alpha=0.5,\n",
    "             ax=ax\n",
    "            )\n",
    "ax.set(title='Univariate distribution of the residuals',\n",
    "       xlabel='residuals',\n",
    "       ylabel='count'\n",
    "      )\n",
    "\n",
    "savefig('lsvr_histogram', fig, show=True)"
   ]
  },
  {
   "cell_type": "code",
   "execution_count": 23,
   "metadata": {
    "papermill": {
     "duration": null,
     "end_time": null,
     "exception": null,
     "start_time": null,
     "status": "pending"
    },
    "tags": []
   },
   "outputs": [
    {
     "data": {
      "image/png": "[encoded data removed]",
      "text/plain": [
       "<Figure size 432x360 with 1 Axes>"
      ]
     },
     "metadata": {},
     "output_type": "display_data"
    }
   ],
   "source": [
    "fig, ax = plt.subplots(1, 1, figsize=ratio(1,1))\n",
    "\n",
    "sns.scatterplot(x=predictions['training'],\n",
    "                y=residuals['training'],\n",
    "                alpha=0.35,\n",
    "                ax=ax\n",
    "               )\n",
    "sns.scatterplot(x=predictions['test'],\n",
    "                y=residuals['test'],\n",
    "                alpha=0.35,\n",
    "                ax=ax\n",
    "               )\n",
    "ax.set(title='Residual plot',\n",
    "       xlabel='predictions',\n",
    "       ylabel='residuals'\n",
    "      )\n",
    "ax.legend(['training', 'test'])\n",
    "\n",
    "savefig('lsvr_resplot', fig, show=True)"
   ]
  },
  {
   "cell_type": "markdown",
   "metadata": {
    "papermill": {
     "duration": null,
     "end_time": null,
     "exception": null,
     "start_time": null,
     "status": "pending"
    },
    "tags": []
   },
   "source": [
    "## Gaussian SVR\n",
    "\n",
    "We consider the case of a Gaussian *kernel trick*."
   ]
  },
  {
   "cell_type": "code",
   "execution_count": 24,
   "metadata": {
    "papermill": {
     "duration": null,
     "end_time": null,
     "exception": null,
     "start_time": null,
     "status": "pending"
    },
    "tags": []
   },
   "outputs": [
    {
     "name": "stdout",
     "output_type": "stream",
     "text": [
      "Start: 13:22:50.\n"
     ]
    },
    {
     "name": "stderr",
     "output_type": "stream",
     "text": [
      "/home/riccardo/conda/envs/ml-sft-trunc/lib/python3.8/site-packages/skopt/optimizer/optimizer.py:449: UserWarning: The objective has been evaluated at this point before.\n",
      "  warnings.warn(\"The objective has been evaluated \"\n",
      "/home/riccardo/conda/envs/ml-sft-trunc/lib/python3.8/site-packages/skopt/optimizer/optimizer.py:449: UserWarning: The objective has been evaluated at this point before.\n",
      "  warnings.warn(\"The objective has been evaluated \"\n"
     ]
    },
    {
     "name": "stdout",
     "output_type": "stream",
     "text": [
      "Stop: 13:23:42.\n",
      "Training ended in 00 hours, 00 minutes and 52 seconds.\n"
     ]
    }
   ],
   "source": [
    "search = {'gamma':   Categorical(['scale', 'auto']),\n",
    "          'C':       Real(1.0e-2, 1.0e3, prior='log-uniform'),\n",
    "          'epsilon': Real(1.0e-3, 1.0e1, prior='log-uniform')\n",
    "         }\n",
    "\n",
    "rsvr = BayesSearchCV(SVR(kernel='rbf'),\n",
    "                     search,\n",
    "                     scoring='neg_mean_squared_error',\n",
    "                     n_iter=n_iter,\n",
    "                     cv=cv,\n",
    "                     n_jobs=-1,\n",
    "                     random_state=random_state\n",
    "                    )\n",
    "rsvr = fit_time(rsvr)"
   ]
  },
  {
   "cell_type": "code",
   "execution_count": 25,
   "metadata": {
    "papermill": {
     "duration": null,
     "end_time": null,
     "exception": null,
     "start_time": null,
     "status": "pending"
    },
    "tags": []
   },
   "outputs": [
    {
     "data": {
      "text/html": [
       "<div>\n",
       "<style scoped>\n",
       "    .dataframe tbody tr th:only-of-type {\n",
       "        vertical-align: middle;\n",
       "    }\n",
       "\n",
       "    .dataframe tbody tr th {\n",
       "        vertical-align: top;\n",
       "    }\n",
       "\n",
       "    .dataframe thead th {\n",
       "        text-align: right;\n",
       "    }\n",
       "</style>\n",
       "<table border=\"1\" class=\"dataframe\">\n",
       "  <thead>\n",
       "    <tr style=\"text-align: right;\">\n",
       "      <th></th>\n",
       "      <th>C</th>\n",
       "      <th>epsilon</th>\n",
       "      <th>gamma</th>\n",
       "    </tr>\n",
       "  </thead>\n",
       "  <tbody>\n",
       "    <tr>\n",
       "      <th>SVR</th>\n",
       "      <td>1000.0</td>\n",
       "      <td>0.005642</td>\n",
       "      <td>scale</td>\n",
       "    </tr>\n",
       "  </tbody>\n",
       "</table>\n",
       "</div>"
      ],
      "text/plain": [
       "          C   epsilon  gamma\n",
       "SVR  1000.0  0.005642  scale"
      ]
     },
     "execution_count": 25,
     "metadata": {},
     "output_type": "execute_result"
    }
   ],
   "source": [
    "# print the best parameters\n",
    "print_best_params(rsvr)"
   ]
  },
  {
   "cell_type": "code",
   "execution_count": 26,
   "metadata": {
    "papermill": {
     "duration": null,
     "end_time": null,
     "exception": null,
     "start_time": null,
     "status": "pending"
    },
    "tags": []
   },
   "outputs": [
    {
     "data": {
      "text/html": [
       "<div>\n",
       "<style scoped>\n",
       "    .dataframe tbody tr th:only-of-type {\n",
       "        vertical-align: middle;\n",
       "    }\n",
       "\n",
       "    .dataframe tbody tr th {\n",
       "        vertical-align: top;\n",
       "    }\n",
       "\n",
       "    .dataframe thead th {\n",
       "        text-align: right;\n",
       "    }\n",
       "</style>\n",
       "<table border=\"1\" class=\"dataframe\">\n",
       "  <thead>\n",
       "    <tr style=\"text-align: right;\">\n",
       "      <th></th>\n",
       "      <th>train_mse</th>\n",
       "      <th>train_mae</th>\n",
       "      <th>train_cv_mean</th>\n",
       "      <th>train_cv_std</th>\n",
       "      <th>test_mse</th>\n",
       "      <th>test_mae</th>\n",
       "    </tr>\n",
       "  </thead>\n",
       "  <tbody>\n",
       "    <tr>\n",
       "      <th>svr</th>\n",
       "      <td>0.010577</td>\n",
       "      <td>0.035865</td>\n",
       "      <td>0.072578</td>\n",
       "      <td>0.047716</td>\n",
       "      <td>0.076928</td>\n",
       "      <td>0.098945</td>\n",
       "    </tr>\n",
       "  </tbody>\n",
       "</table>\n",
       "</div>"
      ],
      "text/plain": [
       "     train_mse  train_mae  train_cv_mean  train_cv_std  test_mse  test_mae\n",
       "svr   0.010577   0.035865       0.072578      0.047716  0.076928  0.098945"
      ]
     },
     "execution_count": 26,
     "metadata": {},
     "output_type": "execute_result"
    }
   ],
   "source": [
    "# extract predictions and metrics\n",
    "metrics, predictions, residuals = cv_results(rsvr)\n",
    "with open('./data/lsvr_predictions.json', 'w') as f:\n",
    "    json.dump(predictions, f)\n",
    "    \n",
    "metrics"
   ]
  },
  {
   "cell_type": "markdown",
   "metadata": {
    "papermill": {
     "duration": null,
     "end_time": null,
     "exception": null,
     "start_time": null,
     "status": "pending"
    },
    "tags": []
   },
   "source": [
    "We then plot the histogram of the residuals and the residual plot on the cross-validation and test sets:"
   ]
  },
  {
   "cell_type": "code",
   "execution_count": 27,
   "metadata": {
    "papermill": {
     "duration": null,
     "end_time": null,
     "exception": null,
     "start_time": null,
     "status": "pending"
    },
    "tags": []
   },
   "outputs": [
    {
     "data": {
      "image/png": "[encoded data removed]",
      "text/plain": [
       "<Figure size 432x360 with 1 Axes>"
      ]
     },
     "metadata": {},
     "output_type": "display_data"
    }
   ],
   "source": [
    "fig, ax = plt.subplots(1, 1, figsize=ratio(1,1))\n",
    "\n",
    "sns.histplot(data=residuals,\n",
    "             stat='count',\n",
    "             log_scale=[False, True],\n",
    "             alpha=0.5,\n",
    "             ax=ax\n",
    "            )\n",
    "ax.set(title='Univariate distribution of the residuals',\n",
    "       xlabel='residuals',\n",
    "       ylabel='count'\n",
    "      )\n",
    "\n",
    "savefig('rsvr_histogram', fig, show=True)"
   ]
  },
  {
   "cell_type": "code",
   "execution_count": 28,
   "metadata": {
    "papermill": {
     "duration": null,
     "end_time": null,
     "exception": null,
     "start_time": null,
     "status": "pending"
    },
    "tags": []
   },
   "outputs": [
    {
     "data": {
      "image/png": "[encoded data removed]",
      "text/plain": [
       "<Figure size 432x360 with 1 Axes>"
      ]
     },
     "metadata": {},
     "output_type": "display_data"
    }
   ],
   "source": [
    "fig, ax = plt.subplots(1, 1, figsize=ratio(1,1))\n",
    "\n",
    "sns.scatterplot(x=predictions['training'],\n",
    "                y=residuals['training'],\n",
    "                alpha=0.35,\n",
    "                ax=ax\n",
    "               )\n",
    "sns.scatterplot(x=predictions['test'],\n",
    "                y=residuals['test'],\n",
    "                alpha=0.35,\n",
    "                ax=ax\n",
    "               )\n",
    "ax.set(title='Residual plot',\n",
    "       xlabel='predictions',\n",
    "       ylabel='residuals'\n",
    "      )\n",
    "ax.legend(['training', 'test'])\n",
    "\n",
    "savefig('rsvr_resplot', fig, show=True)"
   ]
  },
  {
   "cell_type": "markdown",
   "metadata": {
    "papermill": {
     "duration": null,
     "end_time": null,
     "exception": null,
     "start_time": null,
     "status": "pending"
    },
    "tags": []
   },
   "source": [
    "## Polynomial SVR\n",
    "\n",
    "We finally consider the case of a polynomial kernel."
   ]
  },
  {
   "cell_type": "code",
   "execution_count": 36,
   "metadata": {
    "papermill": {
     "duration": null,
     "end_time": null,
     "exception": null,
     "start_time": null,
     "status": "pending"
    },
    "tags": []
   },
   "outputs": [
    {
     "name": "stdout",
     "output_type": "stream",
     "text": [
      "Start: 20:41:39.\n",
      "Stop: 20:41:44.\n",
      "Training ended in 00 hours, 00 minutes and 05 seconds.\n"
     ]
    }
   ],
   "source": [
    "search = {'degree':  Integer(2, 3),\n",
    "          'gamma':   Categorical(['scale', 'auto']),\n",
    "          'coef0':   Real(-1.0, 1.0),\n",
    "          'C':       Real(1.0e-2, 1.0e3, prior='log-uniform'),\n",
    "          'epsilon': Real(1.0e-3, 1.0e1, prior='log-uniform')\n",
    "         }\n",
    "\n",
    "psvr = BayesSearchCV(SVR(kernel='poly'),\n",
    "                     search,\n",
    "                     scoring='neg_mean_squared_error',\n",
    "                     n_iter=int(n_iter/10),\n",
    "                     cv=cv,\n",
    "                     n_jobs=-1,\n",
    "                     random_state=random_state\n",
    "                    )\n",
    "psvr = fit_time(psvr)"
   ]
  },
  {
   "cell_type": "code",
   "execution_count": 37,
   "metadata": {
    "papermill": {
     "duration": null,
     "end_time": null,
     "exception": null,
     "start_time": null,
     "status": "pending"
    },
    "tags": []
   },
   "outputs": [
    {
     "data": {
      "text/html": [
       "<div>\n",
       "<style scoped>\n",
       "    .dataframe tbody tr th:only-of-type {\n",
       "        vertical-align: middle;\n",
       "    }\n",
       "\n",
       "    .dataframe tbody tr th {\n",
       "        vertical-align: top;\n",
       "    }\n",
       "\n",
       "    .dataframe thead th {\n",
       "        text-align: right;\n",
       "    }\n",
       "</style>\n",
       "<table border=\"1\" class=\"dataframe\">\n",
       "  <thead>\n",
       "    <tr style=\"text-align: right;\">\n",
       "      <th></th>\n",
       "      <th>C</th>\n",
       "      <th>coef0</th>\n",
       "      <th>degree</th>\n",
       "      <th>epsilon</th>\n",
       "      <th>gamma</th>\n",
       "    </tr>\n",
       "  </thead>\n",
       "  <tbody>\n",
       "    <tr>\n",
       "      <th>SVR</th>\n",
       "      <td>6.502414</td>\n",
       "      <td>-0.291791</td>\n",
       "      <td>2</td>\n",
       "      <td>0.35766</td>\n",
       "      <td>scale</td>\n",
       "    </tr>\n",
       "  </tbody>\n",
       "</table>\n",
       "</div>"
      ],
      "text/plain": [
       "            C     coef0  degree  epsilon  gamma\n",
       "SVR  6.502414 -0.291791       2  0.35766  scale"
      ]
     },
     "execution_count": 37,
     "metadata": {},
     "output_type": "execute_result"
    }
   ],
   "source": [
    "# print the best parameters\n",
    "print_best_params(psvr)"
   ]
  },
  {
   "cell_type": "code",
   "execution_count": 38,
   "metadata": {
    "papermill": {
     "duration": null,
     "end_time": null,
     "exception": null,
     "start_time": null,
     "status": "pending"
    },
    "tags": []
   },
   "outputs": [
    {
     "data": {
      "text/html": [
       "<div>\n",
       "<style scoped>\n",
       "    .dataframe tbody tr th:only-of-type {\n",
       "        vertical-align: middle;\n",
       "    }\n",
       "\n",
       "    .dataframe tbody tr th {\n",
       "        vertical-align: top;\n",
       "    }\n",
       "\n",
       "    .dataframe thead th {\n",
       "        text-align: right;\n",
       "    }\n",
       "</style>\n",
       "<table border=\"1\" class=\"dataframe\">\n",
       "  <thead>\n",
       "    <tr style=\"text-align: right;\">\n",
       "      <th></th>\n",
       "      <th>train_mse</th>\n",
       "      <th>train_mae</th>\n",
       "      <th>train_cv_mean</th>\n",
       "      <th>train_cv_std</th>\n",
       "      <th>test_mse</th>\n",
       "      <th>test_mae</th>\n",
       "    </tr>\n",
       "  </thead>\n",
       "  <tbody>\n",
       "    <tr>\n",
       "      <th>svr</th>\n",
       "      <td>0.076212</td>\n",
       "      <td>0.18912</td>\n",
       "      <td>0.167632</td>\n",
       "      <td>0.110751</td>\n",
       "      <td>0.108749</td>\n",
       "      <td>0.206155</td>\n",
       "    </tr>\n",
       "  </tbody>\n",
       "</table>\n",
       "</div>"
      ],
      "text/plain": [
       "     train_mse  train_mae  train_cv_mean  train_cv_std  test_mse  test_mae\n",
       "svr   0.076212    0.18912       0.167632      0.110751  0.108749  0.206155"
      ]
     },
     "execution_count": 38,
     "metadata": {},
     "output_type": "execute_result"
    }
   ],
   "source": [
    "# extract predictions and metrics\n",
    "metrics, predictions, residuals = cv_results(psvr)\n",
    "with open('./data/lsvr_predictions.json', 'w') as f:\n",
    "    json.dump(predictions, f)\n",
    "    \n",
    "metrics"
   ]
  },
  {
   "cell_type": "markdown",
   "metadata": {
    "papermill": {
     "duration": null,
     "end_time": null,
     "exception": null,
     "start_time": null,
     "status": "pending"
    },
    "tags": []
   },
   "source": [
    "We then plot the histogram of the residuals and the residual plot on the cross-validation and test sets:"
   ]
  },
  {
   "cell_type": "code",
   "execution_count": 39,
   "metadata": {
    "papermill": {
     "duration": null,
     "end_time": null,
     "exception": null,
     "start_time": null,
     "status": "pending"
    },
    "tags": []
   },
   "outputs": [
    {
     "data": {
      "image/png": "[encoded data removed]",
      "text/plain": [
       "<Figure size 432x360 with 1 Axes>"
      ]
     },
     "metadata": {},
     "output_type": "display_data"
    }
   ],
   "source": [
    "fig, ax = plt.subplots(1, 1, figsize=ratio(1,1))\n",
    "\n",
    "sns.histplot(data=residuals,\n",
    "             stat='count',\n",
    "             log_scale=[False, True],\n",
    "             alpha=0.5,\n",
    "             ax=ax\n",
    "            )\n",
    "ax.set(title='Univariate distribution of the residuals',\n",
    "       xlabel='residuals',\n",
    "       ylabel='count'\n",
    "      )\n",
    "\n",
    "savefig('psvr_histogram', fig, show=True)"
   ]
  },
  {
   "cell_type": "code",
   "execution_count": 40,
   "metadata": {
    "papermill": {
     "duration": null,
     "end_time": null,
     "exception": null,
     "start_time": null,
     "status": "pending"
    },
    "tags": []
   },
   "outputs": [
    {
     "data": {
      "image/png": "[encoded data removed]",
      "text/plain": [
       "<Figure size 432x360 with 1 Axes>"
      ]
     },
     "metadata": {},
     "output_type": "display_data"
    }
   ],
   "source": [
    "fig, ax = plt.subplots(1, 1, figsize=ratio(1,1))\n",
    "\n",
    "sns.scatterplot(x=predictions['training'],\n",
    "                y=residuals['training'],\n",
    "                alpha=0.35,\n",
    "                ax=ax\n",
    "               )\n",
    "sns.scatterplot(x=predictions['test'],\n",
    "                y=residuals['test'],\n",
    "                alpha=0.35,\n",
    "                ax=ax\n",
    "               )\n",
    "ax.set(title='Residual plot',\n",
    "       xlabel='predictions',\n",
    "       ylabel='residuals'\n",
    "      )\n",
    "ax.legend(['training', 'test'])\n",
    "\n",
    "savefig('psvr_resplot', fig, show=True)"
   ]
  }
 ],
 "metadata": {
  "kernelspec": {
   "display_name": "Python 3",
   "language": "python",
   "name": "python3"
  },
  "language_info": {
   "codemirror_mode": {
    "name": "ipython",
    "version": 3
   },
   "file_extension": ".py",
   "mimetype": "text/x-python",
   "name": "python",
   "nbconvert_exporter": "python",
   "pygments_lexer": "ipython3",
   "version": "3.8.6"
  },
  "papermill": {
   "default_parameters": {},
   "duration": 2235.677953,
   "end_time": "2020-11-25T11:55:43.996394",
   "environment_variables": {},
   "exception": true,
   "input_path": "minimal-models_ml.ipynb",
   "output_path": "minimal-models_ml_output.ipynb",
   "parameters": {},
   "start_time": "2020-11-25T11:18:28.318441",
   "version": "2.2.2"
  }
 },
 "nbformat": 4,
 "nbformat_minor": 4
}
