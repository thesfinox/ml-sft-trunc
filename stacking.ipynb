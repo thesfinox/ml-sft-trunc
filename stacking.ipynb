{
 "cells": [
  {
   "cell_type": "markdown",
   "metadata": {},
   "source": [
    "# Machine Learning for String Field Theory\n",
    "\n",
    "H. Erbin, R. Finotello, M. Kudrna, M. Schnabl\n",
    "\n",
    "---\n",
    "---\n",
    "\n",
    "## Abstract\n",
    "\n",
    "In the framework of bosonic Open String Field Theory (OSFT), we consider several observables characterised by conformal weight and type, and the position of vacua in the potential for various values of truncated mass level. We focus on the prediction of the extrapolated value for the level-$\\infty$ truncation using Machine Learning (ML) techniques.\n",
    "\n",
    "## Synopsis\n",
    "\n",
    "In this notebook we use the model independent dataset and use the *stacking* ensemble learning to improve the precision of the predictions."
   ]
  },
  {
   "cell_type": "code",
   "execution_count": 1,
   "metadata": {},
   "outputs": [],
   "source": [
    "%load_ext autoreload\n",
    "%autoreload 2"
   ]
  },
  {
   "cell_type": "code",
   "execution_count": 2,
   "metadata": {},
   "outputs": [],
   "source": [
    "import tensorflow as tf\n",
    "\n",
    "# set memory growth\n",
    "gpus = tf.config.experimental.list_physical_devices('GPU')\n",
    "if gpus:\n",
    "    try:\n",
    "        for gpu in gpus:\n",
    "            tf.config.experimental.set_memory_growth(gpu, True)\n",
    "    except:\n",
    "        pass"
   ]
  },
  {
   "cell_type": "code",
   "execution_count": 3,
   "metadata": {},
   "outputs": [],
   "source": [
    "import os\n",
    "import logging\n",
    "\n",
    "# set less logging\n",
    "os.environ['TF_CPP_MIN_LOG_LEVEL'] = '3'\n",
    "logging.getLogger('tensorflow').setLevel(logging.ERROR)"
   ]
  },
  {
   "cell_type": "code",
   "execution_count": 4,
   "metadata": {},
   "outputs": [],
   "source": [
    "import numpy as np\n",
    "import tensorflow as tf\n",
    "\n",
    "RAND = 123\n",
    "np.random.seed(RAND)\n",
    "tf.random.set_seed(RAND)"
   ]
  },
  {
   "cell_type": "markdown",
   "metadata": {},
   "source": [
    "## Training and Test Sets\n",
    "\n",
    "In this case we will use the training set split into two subsets.\n",
    "We will then use SVR, GBDT and ANN on the first fold and generate the predictions on the second fold.\n",
    "We finally use a linear model on the second fold as *meta learner*.\n",
    "Since we also wish to run some optimisation analysis on the first fold, we use also a cross-validation approach on the first fold."
   ]
  },
  {
   "cell_type": "code",
   "execution_count": 5,
   "metadata": {},
   "outputs": [],
   "source": [
    "import pandas as pd\n",
    "\n",
    "X_train = pd.read_csv('./data/X_train_cv.csv')\n",
    "X_test  = pd.read_csv('./data/X_test.csv')\n",
    "\n",
    "y_train = pd.read_csv('./data/y_train_cv.csv')\n",
    "y_test  = pd.read_csv('./data/y_test.csv')"
   ]
  },
  {
   "cell_type": "code",
   "execution_count": 6,
   "metadata": {},
   "outputs": [],
   "source": [
    "from sklearn.model_selection import train_test_split\n",
    "\n",
    "# split the training set into two levels\n",
    "X_train_lv1, X_train_lv2, y_train_lv1, y_train_lv2 = train_test_split(X_train,\n",
    "                                                                      y_train,\n",
    "                                                                      train_size=0.5,\n",
    "                                                                      shuffle=True,\n",
    "                                                                      random_state=RAND\n",
    "                                                                     )\n",
    "\n",
    "X_train_lv1.to_csv('./data/X_train_lv1.csv', index=False)\n",
    "X_train_lv2.to_csv('./data/X_train_lv2.csv', index=False)\n",
    "y_train_lv1.to_csv('./data/y_train_lv1.csv', index=False)\n",
    "y_train_lv2.to_csv('./data/y_train_lv2.csv', index=False)"
   ]
  },
  {
   "cell_type": "markdown",
   "metadata": {},
   "source": [
    "## Training and Optimisation (First Level)\n",
    "\n",
    "We then train the first level algorithms."
   ]
  },
  {
   "cell_type": "markdown",
   "metadata": {},
   "source": [
    "### Shallow Learning\n",
    "\n",
    "We first consider linear regression, SVR and GBDT training using the *Scikit-learn* interface."
   ]
  },
  {
   "cell_type": "code",
   "execution_count": 7,
   "metadata": {},
   "outputs": [
    {
     "data": {
      "text/plain": [
       "['./models/gbdt_lv1_hypers.pkl']"
      ]
     },
     "execution_count": 7,
     "metadata": {},
     "output_type": "execute_result"
    }
   ],
   "source": [
    "from sklearn.linear_model import Ridge\n",
    "from sklearn.svm import SVR\n",
    "from sklearn.multioutput import MultiOutputRegressor\n",
    "from lightgbm import LGBMRegressor\n",
    "from skopt.space import Categorical, Integer, Real\n",
    "import joblib\n",
    "\n",
    "ridge = Ridge(random_state=RAND)\n",
    "svr   = SVR(kernel='rbf')\n",
    "gbdt  = LGBMRegressor(boosting_type='gbdt',\n",
    "                      objective='regression',\n",
    "                      subsample_freq=1,\n",
    "                      n_jobs=-1,\n",
    "                      importance_type='gain'\n",
    "                     )\n",
    "\n",
    "rdg_space = {'estimator__alpha':         Real(1.0e-3, 1.0e1, prior='log-uniform'),\n",
    "             'estimator__fit_intercept': Integer(0, 1),\n",
    "             'estimator__normalize':     Integer(0, 1)\n",
    "            }\n",
    "\n",
    "svr_space = {'estimator__C':       Real(1.0e-4, 1.0e2, prior='log-uniform'),\n",
    "             'estimator__epsilon': Real(0.0, 10.0),\n",
    "             'estimator__gamma':   Real(1.0e-4, 1.0e1, prior='log-uniform'),\n",
    "            }\n",
    "\n",
    "gbdt_space = {'estimator__num_leaves':       Integer(2, 50),\n",
    "              'estimator__max_depth':        Integer(2, 25),\n",
    "              'estimator__learning_rate':    Real(1e-3, 1e-1, prior='log-uniform'),\n",
    "              'estimator__n_estimators':     Integer(1e2, 5e4, prior='log-uniform'),\n",
    "              'estimator__subsample':        Real(0.1, 0.99),\n",
    "              'estimator__colsample_bytree': Real(0.7, 1.0),\n",
    "              'estimator__min_child_weight': Real(1.0e-3, 1.0e-1, prior='log-uniform'),\n",
    "              'estimator__reg_alpha':        Real(1.0e0, 1.0e2, prior='log-uniform'),\n",
    "              'estimator__reg_lambda':       Real(1.0e0, 1.0e3, prior='log-uniform'),\n",
    "             }\n",
    "\n",
    "# save everything\n",
    "joblib.dump(MultiOutputRegressor(ridge, n_jobs=-1), './models/ridge_lv1.pkl')\n",
    "joblib.dump(MultiOutputRegressor(svr, n_jobs=-1), './models/svr_lv1.pkl')\n",
    "joblib.dump(MultiOutputRegressor(gbdt, n_jobs=-1), './models/gbdt_lv1.pkl')\n",
    "\n",
    "joblib.dump(rdg_space, './models/ridge_lv1_hypers.pkl')\n",
    "joblib.dump(svr_space, './models/svr_lv1_hypers.pkl')\n",
    "joblib.dump(gbdt_space, './models/gbdt_lv1_hypers.pkl')"
   ]
  },
  {
   "cell_type": "code",
   "execution_count": 8,
   "metadata": {},
   "outputs": [
    {
     "name": "stdout",
     "output_type": "stream",
     "text": [
      "/home/riccardo/conda/envs/ml-sft-trunc/lib/python3.7/site-packages/skopt/optimizer/optimizer.py:409: UserWarning: The objective has been evaluated at this point before.\n",
      "  warnings.warn(\"The objective has been evaluated \"\n",
      "/home/riccardo/conda/envs/ml-sft-trunc/lib/python3.7/site-packages/skopt/optimizer/optimizer.py:409: UserWarning: The objective has been evaluated at this point before.\n",
      "  warnings.warn(\"The objective has been evaluated \"\n",
      "/home/riccardo/conda/envs/ml-sft-trunc/lib/python3.7/site-packages/skopt/optimizer/optimizer.py:409: UserWarning: The objective has been evaluated at this point before.\n",
      "  warnings.warn(\"The objective has been evaluated \"\n",
      "/home/riccardo/conda/envs/ml-sft-trunc/lib/python3.7/site-packages/skopt/optimizer/optimizer.py:409: UserWarning: The objective has been evaluated at this point before.\n",
      "  warnings.warn(\"The objective has been evaluated \"\n",
      "/home/riccardo/conda/envs/ml-sft-trunc/lib/python3.7/site-packages/skopt/optimizer/optimizer.py:409: UserWarning: The objective has been evaluated at this point before.\n",
      "  warnings.warn(\"The objective has been evaluated \"\n",
      "/home/riccardo/conda/envs/ml-sft-trunc/lib/python3.7/site-packages/skopt/optimizer/optimizer.py:409: UserWarning: The objective has been evaluated at this point before.\n",
      "  warnings.warn(\"The objective has been evaluated \"\n",
      "/home/riccardo/conda/envs/ml-sft-trunc/lib/python3.7/site-packages/skopt/optimizer/optimizer.py:409: UserWarning: The objective has been evaluated at this point before.\n",
      "  warnings.warn(\"The objective has been evaluated \"\n",
      "/home/riccardo/conda/envs/ml-sft-trunc/lib/python3.7/site-packages/skopt/optimizer/optimizer.py:409: UserWarning: The objective has been evaluated at this point before.\n",
      "  warnings.warn(\"The objective has been evaluated \"\n",
      "/home/riccardo/conda/envs/ml-sft-trunc/lib/python3.7/site-packages/skopt/optimizer/optimizer.py:409: UserWarning: The objective has been evaluated at this point before.\n",
      "  warnings.warn(\"The objective has been evaluated \"\n",
      "/home/riccardo/conda/envs/ml-sft-trunc/lib/python3.7/site-packages/skopt/optimizer/optimizer.py:409: UserWarning: The objective has been evaluated at this point before.\n",
      "  warnings.warn(\"The objective has been evaluated \"\n",
      "/home/riccardo/conda/envs/ml-sft-trunc/lib/python3.7/site-packages/skopt/optimizer/optimizer.py:409: UserWarning: The objective has been evaluated at this point before.\n",
      "  warnings.warn(\"The objective has been evaluated \"\n",
      "BayesSearchCV trained in 37.924 seconds.\n",
      "/home/riccardo/conda/envs/ml-sft-trunc/lib/python3.7/site-packages/skopt/optimizer/optimizer.py:409: UserWarning: The objective has been evaluated at this point before.\n",
      "  warnings.warn(\"The objective has been evaluated \"\n",
      "/home/riccardo/conda/envs/ml-sft-trunc/lib/python3.7/site-packages/skopt/optimizer/optimizer.py:409: UserWarning: The objective has been evaluated at this point before.\n",
      "  warnings.warn(\"The objective has been evaluated \"\n",
      "/home/riccardo/conda/envs/ml-sft-trunc/lib/python3.7/site-packages/skopt/optimizer/optimizer.py:409: UserWarning: The objective has been evaluated at this point before.\n",
      "  warnings.warn(\"The objective has been evaluated \"\n",
      "/home/riccardo/conda/envs/ml-sft-trunc/lib/python3.7/site-packages/skopt/optimizer/optimizer.py:409: UserWarning: The objective has been evaluated at this point before.\n",
      "  warnings.warn(\"The objective has been evaluated \"\n",
      "/home/riccardo/conda/envs/ml-sft-trunc/lib/python3.7/site-packages/skopt/optimizer/optimizer.py:409: UserWarning: The objective has been evaluated at this point before.\n",
      "  warnings.warn(\"The objective has been evaluated \"\n",
      "/home/riccardo/conda/envs/ml-sft-trunc/lib/python3.7/site-packages/skopt/optimizer/optimizer.py:409: UserWarning: The objective has been evaluated at this point before.\n",
      "  warnings.warn(\"The objective has been evaluated \"\n",
      "/home/riccardo/conda/envs/ml-sft-trunc/lib/python3.7/site-packages/skopt/optimizer/optimizer.py:409: UserWarning: The objective has been evaluated at this point before.\n",
      "  warnings.warn(\"The objective has been evaluated \"\n",
      "/home/riccardo/conda/envs/ml-sft-trunc/lib/python3.7/site-packages/skopt/optimizer/optimizer.py:409: UserWarning: The objective has been evaluated at this point before.\n",
      "  warnings.warn(\"The objective has been evaluated \"\n",
      "/home/riccardo/conda/envs/ml-sft-trunc/lib/python3.7/site-packages/skopt/optimizer/optimizer.py:409: UserWarning: The objective has been evaluated at this point before.\n",
      "  warnings.warn(\"The objective has been evaluated \"\n",
      "/home/riccardo/conda/envs/ml-sft-trunc/lib/python3.7/site-packages/skopt/optimizer/optimizer.py:409: UserWarning: The objective has been evaluated at this point before.\n",
      "  warnings.warn(\"The objective has been evaluated \"\n",
      "/home/riccardo/conda/envs/ml-sft-trunc/lib/python3.7/site-packages/skopt/optimizer/optimizer.py:409: UserWarning: The objective has been evaluated at this point before.\n",
      "  warnings.warn(\"The objective has been evaluated \"\n",
      "/home/riccardo/conda/envs/ml-sft-trunc/lib/python3.7/site-packages/skopt/optimizer/optimizer.py:409: UserWarning: The objective has been evaluated at this point before.\n",
      "  warnings.warn(\"The objective has been evaluated \"\n",
      "BayesSearchCV trained in 73.254 seconds.\n",
      "/home/riccardo/conda/envs/ml-sft-trunc/lib/python3.7/site-packages/skopt/optimizer/optimizer.py:409: UserWarning: The objective has been evaluated at this point before.\n",
      "  warnings.warn(\"The objective has been evaluated \"\n",
      "BayesSearchCV trained in 236.930 seconds.\n"
     ]
    }
   ],
   "source": [
    "!python3 ./scripts/multiout-cv.py -t './data/X_train_lv1.csv' -l './data/y_train_lv1.csv' \\\n",
    "                                  -e './models/ridge_lv1.pkl' -p './models/ridge_lv1_hypers.pkl' \\\n",
    "                                  -cv 5 -n 50 -r {RAND}\n",
    "!python3 ./scripts/multiout-cv.py -t './data/X_train_lv1.csv' -l './data/y_train_lv1.csv' \\\n",
    "                                  -e './models/svr_lv1.pkl' -p './models/svr_lv1_hypers.pkl' \\\n",
    "                                  -cv 5 -n 50 -r {RAND}\n",
    "!python3 ./scripts/multiout-cv.py -t './data/X_train_lv1.csv' -l './data/y_train_lv1.csv' \\\n",
    "                                  -e './models/gbdt_lv1.pkl' -p './models/gbdt_lv1_hypers.pkl' \\\n",
    "                                  -cv 5 -n 50 -r {RAND}"
   ]
  },
  {
   "cell_type": "code",
   "execution_count": 9,
   "metadata": {},
   "outputs": [
    {
     "name": "stdout",
     "output_type": "stream",
     "text": [
      "Ridge -- best hyperparameters: \n"
     ]
    },
    {
     "data": {
      "text/html": [
       "<div>\n",
       "<style scoped>\n",
       "    .dataframe tbody tr th:only-of-type {\n",
       "        vertical-align: middle;\n",
       "    }\n",
       "\n",
       "    .dataframe tbody tr th {\n",
       "        vertical-align: top;\n",
       "    }\n",
       "\n",
       "    .dataframe thead th {\n",
       "        text-align: right;\n",
       "    }\n",
       "</style>\n",
       "<table border=\"1\" class=\"dataframe\">\n",
       "  <thead>\n",
       "    <tr style=\"text-align: right;\">\n",
       "      <th></th>\n",
       "      <th>alpha</th>\n",
       "      <th>fit_intercept</th>\n",
       "      <th>normalize</th>\n",
       "    </tr>\n",
       "  </thead>\n",
       "  <tbody>\n",
       "    <tr>\n",
       "      <th>ridge</th>\n",
       "      <td>0.044597</td>\n",
       "      <td>1</td>\n",
       "      <td>1</td>\n",
       "    </tr>\n",
       "  </tbody>\n",
       "</table>\n",
       "</div>"
      ],
      "text/plain": [
       "          alpha  fit_intercept  normalize\n",
       "ridge  0.044597              1          1"
      ]
     },
     "execution_count": 9,
     "metadata": {},
     "output_type": "execute_result"
    }
   ],
   "source": [
    "import json\n",
    "import re\n",
    "\n",
    "with open('./models/ridge_lv1_hypers.json') as f:\n",
    "    ridge = json.load(f)\n",
    "    \n",
    "ridge = pd.DataFrame(ridge, index=['ridge']).rename(columns=lambda c: re.sub('estimator__', '', c))\n",
    "print('Ridge -- best hyperparameters: ')\n",
    "ridge"
   ]
  },
  {
   "cell_type": "code",
   "execution_count": 10,
   "metadata": {},
   "outputs": [
    {
     "name": "stdout",
     "output_type": "stream",
     "text": [
      "SVR -- best hyperparameters: \n"
     ]
    },
    {
     "data": {
      "text/html": [
       "<div>\n",
       "<style scoped>\n",
       "    .dataframe tbody tr th:only-of-type {\n",
       "        vertical-align: middle;\n",
       "    }\n",
       "\n",
       "    .dataframe tbody tr th {\n",
       "        vertical-align: top;\n",
       "    }\n",
       "\n",
       "    .dataframe thead th {\n",
       "        text-align: right;\n",
       "    }\n",
       "</style>\n",
       "<table border=\"1\" class=\"dataframe\">\n",
       "  <thead>\n",
       "    <tr style=\"text-align: right;\">\n",
       "      <th></th>\n",
       "      <th>C</th>\n",
       "      <th>epsilon</th>\n",
       "      <th>gamma</th>\n",
       "    </tr>\n",
       "  </thead>\n",
       "  <tbody>\n",
       "    <tr>\n",
       "      <th>svr</th>\n",
       "      <td>100.0</td>\n",
       "      <td>0.0</td>\n",
       "      <td>10.0</td>\n",
       "    </tr>\n",
       "  </tbody>\n",
       "</table>\n",
       "</div>"
      ],
      "text/plain": [
       "         C  epsilon  gamma\n",
       "svr  100.0      0.0   10.0"
      ]
     },
     "execution_count": 10,
     "metadata": {},
     "output_type": "execute_result"
    }
   ],
   "source": [
    "import json\n",
    "import re\n",
    "\n",
    "with open('./models/svr_lv1_hypers.json') as f:\n",
    "    svr = json.load(f)\n",
    "    \n",
    "svr = pd.DataFrame(svr, index=['svr']).rename(columns=lambda c: re.sub('estimator__', '', c))\n",
    "print('SVR -- best hyperparameters: ')\n",
    "svr"
   ]
  },
  {
   "cell_type": "code",
   "execution_count": 11,
   "metadata": {},
   "outputs": [
    {
     "name": "stdout",
     "output_type": "stream",
     "text": [
      "GBDT -- best hyperparameters: \n"
     ]
    },
    {
     "data": {
      "text/html": [
       "<div>\n",
       "<style scoped>\n",
       "    .dataframe tbody tr th:only-of-type {\n",
       "        vertical-align: middle;\n",
       "    }\n",
       "\n",
       "    .dataframe tbody tr th {\n",
       "        vertical-align: top;\n",
       "    }\n",
       "\n",
       "    .dataframe thead th {\n",
       "        text-align: right;\n",
       "    }\n",
       "</style>\n",
       "<table border=\"1\" class=\"dataframe\">\n",
       "  <thead>\n",
       "    <tr style=\"text-align: right;\">\n",
       "      <th></th>\n",
       "      <th>colsample_bytree</th>\n",
       "      <th>learning_rate</th>\n",
       "      <th>max_depth</th>\n",
       "      <th>min_child_weight</th>\n",
       "      <th>n_estimators</th>\n",
       "      <th>num_leaves</th>\n",
       "      <th>reg_alpha</th>\n",
       "      <th>reg_lambda</th>\n",
       "      <th>subsample</th>\n",
       "    </tr>\n",
       "  </thead>\n",
       "  <tbody>\n",
       "    <tr>\n",
       "      <th>gbdt</th>\n",
       "      <td>0.7</td>\n",
       "      <td>0.1</td>\n",
       "      <td>25</td>\n",
       "      <td>0.001</td>\n",
       "      <td>24777</td>\n",
       "      <td>50</td>\n",
       "      <td>1.0</td>\n",
       "      <td>1000.0</td>\n",
       "      <td>0.99</td>\n",
       "    </tr>\n",
       "  </tbody>\n",
       "</table>\n",
       "</div>"
      ],
      "text/plain": [
       "      colsample_bytree  learning_rate  max_depth  min_child_weight  \\\n",
       "gbdt               0.7            0.1         25             0.001   \n",
       "\n",
       "      n_estimators  num_leaves  reg_alpha  reg_lambda  subsample  \n",
       "gbdt         24777          50        1.0      1000.0       0.99  "
      ]
     },
     "execution_count": 11,
     "metadata": {},
     "output_type": "execute_result"
    }
   ],
   "source": [
    "import json\n",
    "import re\n",
    "\n",
    "with open('./models/gbdt_lv1_hypers.json') as f:\n",
    "    gbdt = json.load(f)\n",
    "    \n",
    "gbdt = pd.DataFrame(gbdt, index=['gbdt']).rename(columns=lambda c: re.sub('estimator__', '', c))\n",
    "print('GBDT -- best hyperparameters: ')\n",
    "gbdt"
   ]
  },
  {
   "cell_type": "markdown",
   "metadata": {},
   "source": [
    "We then make the predictions on the second level set and the test set:"
   ]
  },
  {
   "cell_type": "code",
   "execution_count": 12,
   "metadata": {},
   "outputs": [
    {
     "name": "stdout",
     "output_type": "stream",
     "text": [
      "MultiOutputRegressor predicted in 0.292 seconds.\n",
      "MultiOutputRegressor predicted in 0.305 seconds.\n",
      "MultiOutputRegressor predicted in 0.562 seconds.\n"
     ]
    }
   ],
   "source": [
    "!python3 ./scripts/multiout-predict.py -t './data/X_train_lv2.csv' -l './data/y_train_lv2.csv' -e './models/ridge_lv1.pkl' -o 'ridge_lv2'\n",
    "!python3 ./scripts/multiout-predict.py -t './data/X_train_lv2.csv' -l './data/y_train_lv2.csv' -e './models/svr_lv1.pkl' -o 'svr_lv2'\n",
    "!python3 ./scripts/multiout-predict.py -t './data/X_train_lv2.csv' -l './data/y_train_lv2.csv' -e './models/gbdt_lv1.pkl' -o 'gbdt_lv2'"
   ]
  },
  {
   "cell_type": "code",
   "execution_count": 13,
   "metadata": {},
   "outputs": [
    {
     "data": {
      "text/html": [
       "<div>\n",
       "<style scoped>\n",
       "    .dataframe tbody tr th:only-of-type {\n",
       "        vertical-align: middle;\n",
       "    }\n",
       "\n",
       "    .dataframe tbody tr th {\n",
       "        vertical-align: top;\n",
       "    }\n",
       "\n",
       "    .dataframe thead th {\n",
       "        text-align: right;\n",
       "    }\n",
       "</style>\n",
       "<table border=\"1\" class=\"dataframe\">\n",
       "  <thead>\n",
       "    <tr style=\"text-align: right;\">\n",
       "      <th></th>\n",
       "      <th>DOF</th>\n",
       "      <th>MSE</th>\n",
       "      <th>MSE 95% CI (lower)</th>\n",
       "      <th>MSE 95% CI (upper)</th>\n",
       "      <th>RMSE</th>\n",
       "      <th>MAE</th>\n",
       "      <th>R2</th>\n",
       "    </tr>\n",
       "  </thead>\n",
       "  <tbody>\n",
       "    <tr>\n",
       "      <th>Re(exp)</th>\n",
       "      <td>1062</td>\n",
       "      <td>0.048683</td>\n",
       "      <td>0.043810</td>\n",
       "      <td>0.053556</td>\n",
       "      <td>0.220643</td>\n",
       "      <td>0.182761</td>\n",
       "      <td>0.106247</td>\n",
       "    </tr>\n",
       "    <tr>\n",
       "      <th>Im(exp)</th>\n",
       "      <td>1062</td>\n",
       "      <td>0.018551</td>\n",
       "      <td>0.016138</td>\n",
       "      <td>0.020965</td>\n",
       "      <td>0.136204</td>\n",
       "      <td>0.067464</td>\n",
       "      <td>-0.003830</td>\n",
       "    </tr>\n",
       "  </tbody>\n",
       "</table>\n",
       "</div>"
      ],
      "text/plain": [
       "          DOF       MSE  MSE 95% CI (lower)  MSE 95% CI (upper)      RMSE  \\\n",
       "Re(exp)  1062  0.048683            0.043810            0.053556  0.220643   \n",
       "Im(exp)  1062  0.018551            0.016138            0.020965  0.136204   \n",
       "\n",
       "              MAE        R2  \n",
       "Re(exp)  0.182761  0.106247  \n",
       "Im(exp)  0.067464 -0.003830  "
      ]
     },
     "execution_count": 13,
     "metadata": {},
     "output_type": "execute_result"
    }
   ],
   "source": [
    "import pandas as pd\n",
    "pd.read_json('./metrics/ridge_lv2.json').set_index(pd.Index(['Re(exp)', 'Im(exp)']))"
   ]
  },
  {
   "cell_type": "code",
   "execution_count": 14,
   "metadata": {},
   "outputs": [
    {
     "data": {
      "text/html": [
       "<div>\n",
       "<style scoped>\n",
       "    .dataframe tbody tr th:only-of-type {\n",
       "        vertical-align: middle;\n",
       "    }\n",
       "\n",
       "    .dataframe tbody tr th {\n",
       "        vertical-align: top;\n",
       "    }\n",
       "\n",
       "    .dataframe thead th {\n",
       "        text-align: right;\n",
       "    }\n",
       "</style>\n",
       "<table border=\"1\" class=\"dataframe\">\n",
       "  <thead>\n",
       "    <tr style=\"text-align: right;\">\n",
       "      <th></th>\n",
       "      <th>DOF</th>\n",
       "      <th>MSE</th>\n",
       "      <th>MSE 95% CI (lower)</th>\n",
       "      <th>MSE 95% CI (upper)</th>\n",
       "      <th>RMSE</th>\n",
       "      <th>MAE</th>\n",
       "      <th>R2</th>\n",
       "    </tr>\n",
       "  </thead>\n",
       "  <tbody>\n",
       "    <tr>\n",
       "      <th>Re(exp)</th>\n",
       "      <td>1062</td>\n",
       "      <td>0.014396</td>\n",
       "      <td>0.008877</td>\n",
       "      <td>0.019915</td>\n",
       "      <td>0.119983</td>\n",
       "      <td>0.042343</td>\n",
       "      <td>0.735714</td>\n",
       "    </tr>\n",
       "    <tr>\n",
       "      <th>Im(exp)</th>\n",
       "      <td>1062</td>\n",
       "      <td>0.002807</td>\n",
       "      <td>0.000733</td>\n",
       "      <td>0.004880</td>\n",
       "      <td>0.052979</td>\n",
       "      <td>0.011769</td>\n",
       "      <td>0.848126</td>\n",
       "    </tr>\n",
       "  </tbody>\n",
       "</table>\n",
       "</div>"
      ],
      "text/plain": [
       "          DOF       MSE  MSE 95% CI (lower)  MSE 95% CI (upper)      RMSE  \\\n",
       "Re(exp)  1062  0.014396            0.008877            0.019915  0.119983   \n",
       "Im(exp)  1062  0.002807            0.000733            0.004880  0.052979   \n",
       "\n",
       "              MAE        R2  \n",
       "Re(exp)  0.042343  0.735714  \n",
       "Im(exp)  0.011769  0.848126  "
      ]
     },
     "execution_count": 14,
     "metadata": {},
     "output_type": "execute_result"
    }
   ],
   "source": [
    "import pandas as pd\n",
    "pd.read_json('./metrics/svr_lv2.json').set_index(pd.Index(['Re(exp)', 'Im(exp)']))"
   ]
  },
  {
   "cell_type": "code",
   "execution_count": 15,
   "metadata": {},
   "outputs": [
    {
     "data": {
      "text/html": [
       "<div>\n",
       "<style scoped>\n",
       "    .dataframe tbody tr th:only-of-type {\n",
       "        vertical-align: middle;\n",
       "    }\n",
       "\n",
       "    .dataframe tbody tr th {\n",
       "        vertical-align: top;\n",
       "    }\n",
       "\n",
       "    .dataframe thead th {\n",
       "        text-align: right;\n",
       "    }\n",
       "</style>\n",
       "<table border=\"1\" class=\"dataframe\">\n",
       "  <thead>\n",
       "    <tr style=\"text-align: right;\">\n",
       "      <th></th>\n",
       "      <th>DOF</th>\n",
       "      <th>MSE</th>\n",
       "      <th>MSE 95% CI (lower)</th>\n",
       "      <th>MSE 95% CI (upper)</th>\n",
       "      <th>RMSE</th>\n",
       "      <th>MAE</th>\n",
       "      <th>R2</th>\n",
       "    </tr>\n",
       "  </thead>\n",
       "  <tbody>\n",
       "    <tr>\n",
       "      <th>Re(exp)</th>\n",
       "      <td>1062</td>\n",
       "      <td>0.005694</td>\n",
       "      <td>0.003763</td>\n",
       "      <td>0.007624</td>\n",
       "      <td>0.075456</td>\n",
       "      <td>0.035395</td>\n",
       "      <td>0.895475</td>\n",
       "    </tr>\n",
       "    <tr>\n",
       "      <th>Im(exp)</th>\n",
       "      <td>1062</td>\n",
       "      <td>0.002947</td>\n",
       "      <td>0.001408</td>\n",
       "      <td>0.004485</td>\n",
       "      <td>0.054282</td>\n",
       "      <td>0.017603</td>\n",
       "      <td>0.840559</td>\n",
       "    </tr>\n",
       "  </tbody>\n",
       "</table>\n",
       "</div>"
      ],
      "text/plain": [
       "          DOF       MSE  MSE 95% CI (lower)  MSE 95% CI (upper)      RMSE  \\\n",
       "Re(exp)  1062  0.005694            0.003763            0.007624  0.075456   \n",
       "Im(exp)  1062  0.002947            0.001408            0.004485  0.054282   \n",
       "\n",
       "              MAE        R2  \n",
       "Re(exp)  0.035395  0.895475  \n",
       "Im(exp)  0.017603  0.840559  "
      ]
     },
     "execution_count": 15,
     "metadata": {},
     "output_type": "execute_result"
    }
   ],
   "source": [
    "import pandas as pd\n",
    "pd.read_json('./metrics/gbdt_lv2.json').set_index(pd.Index(['Re(exp)', 'Im(exp)']))"
   ]
  },
  {
   "cell_type": "code",
   "execution_count": 16,
   "metadata": {},
   "outputs": [
    {
     "name": "stdout",
     "output_type": "stream",
     "text": [
      "MultiOutputRegressor predicted in 0.288 seconds.\n",
      "MultiOutputRegressor predicted in 0.292 seconds.\n",
      "MultiOutputRegressor predicted in 0.479 seconds.\n"
     ]
    }
   ],
   "source": [
    "!python3 ./scripts/multiout-predict.py -t './data/X_test.csv' -l './data/y_test.csv' -e './models/ridge_lv1.pkl' -o 'ridge_stack_test'\n",
    "!python3 ./scripts/multiout-predict.py -t './data/X_test.csv' -l './data/y_test.csv' -e './models/svr_lv1.pkl' -o 'svr_stack_test'\n",
    "!python3 ./scripts/multiout-predict.py -t './data/X_test.csv' -l './data/y_test.csv' -e './models/gbdt_lv1.pkl' -o 'gbdt_stack_test'"
   ]
  },
  {
   "cell_type": "code",
   "execution_count": 17,
   "metadata": {},
   "outputs": [
    {
     "data": {
      "text/html": [
       "<div>\n",
       "<style scoped>\n",
       "    .dataframe tbody tr th:only-of-type {\n",
       "        vertical-align: middle;\n",
       "    }\n",
       "\n",
       "    .dataframe tbody tr th {\n",
       "        vertical-align: top;\n",
       "    }\n",
       "\n",
       "    .dataframe thead th {\n",
       "        text-align: right;\n",
       "    }\n",
       "</style>\n",
       "<table border=\"1\" class=\"dataframe\">\n",
       "  <thead>\n",
       "    <tr style=\"text-align: right;\">\n",
       "      <th></th>\n",
       "      <th>DOF</th>\n",
       "      <th>MSE</th>\n",
       "      <th>MSE 95% CI (lower)</th>\n",
       "      <th>MSE 95% CI (upper)</th>\n",
       "      <th>RMSE</th>\n",
       "      <th>MAE</th>\n",
       "      <th>R2</th>\n",
       "    </tr>\n",
       "  </thead>\n",
       "  <tbody>\n",
       "    <tr>\n",
       "      <th>Re(exp)</th>\n",
       "      <td>232</td>\n",
       "      <td>0.054847</td>\n",
       "      <td>0.042973</td>\n",
       "      <td>0.066721</td>\n",
       "      <td>0.234194</td>\n",
       "      <td>0.188580</td>\n",
       "      <td>0.10031</td>\n",
       "    </tr>\n",
       "    <tr>\n",
       "      <th>Im(exp)</th>\n",
       "      <td>232</td>\n",
       "      <td>0.018441</td>\n",
       "      <td>0.013044</td>\n",
       "      <td>0.023838</td>\n",
       "      <td>0.135798</td>\n",
       "      <td>0.064021</td>\n",
       "      <td>-0.00252</td>\n",
       "    </tr>\n",
       "  </tbody>\n",
       "</table>\n",
       "</div>"
      ],
      "text/plain": [
       "         DOF       MSE  MSE 95% CI (lower)  MSE 95% CI (upper)      RMSE  \\\n",
       "Re(exp)  232  0.054847            0.042973            0.066721  0.234194   \n",
       "Im(exp)  232  0.018441            0.013044            0.023838  0.135798   \n",
       "\n",
       "              MAE       R2  \n",
       "Re(exp)  0.188580  0.10031  \n",
       "Im(exp)  0.064021 -0.00252  "
      ]
     },
     "execution_count": 17,
     "metadata": {},
     "output_type": "execute_result"
    }
   ],
   "source": [
    "import pandas as pd\n",
    "pd.read_json('./metrics/ridge_stack_test.json').set_index(pd.Index(['Re(exp)', 'Im(exp)']))"
   ]
  },
  {
   "cell_type": "code",
   "execution_count": 18,
   "metadata": {},
   "outputs": [
    {
     "data": {
      "text/html": [
       "<div>\n",
       "<style scoped>\n",
       "    .dataframe tbody tr th:only-of-type {\n",
       "        vertical-align: middle;\n",
       "    }\n",
       "\n",
       "    .dataframe tbody tr th {\n",
       "        vertical-align: top;\n",
       "    }\n",
       "\n",
       "    .dataframe thead th {\n",
       "        text-align: right;\n",
       "    }\n",
       "</style>\n",
       "<table border=\"1\" class=\"dataframe\">\n",
       "  <thead>\n",
       "    <tr style=\"text-align: right;\">\n",
       "      <th></th>\n",
       "      <th>DOF</th>\n",
       "      <th>MSE</th>\n",
       "      <th>MSE 95% CI (lower)</th>\n",
       "      <th>MSE 95% CI (upper)</th>\n",
       "      <th>RMSE</th>\n",
       "      <th>MAE</th>\n",
       "      <th>R2</th>\n",
       "    </tr>\n",
       "  </thead>\n",
       "  <tbody>\n",
       "    <tr>\n",
       "      <th>Re(exp)</th>\n",
       "      <td>232</td>\n",
       "      <td>0.017158</td>\n",
       "      <td>0.00667</td>\n",
       "      <td>0.027647</td>\n",
       "      <td>0.130990</td>\n",
       "      <td>0.044259</td>\n",
       "      <td>0.718540</td>\n",
       "    </tr>\n",
       "    <tr>\n",
       "      <th>Im(exp)</th>\n",
       "      <td>232</td>\n",
       "      <td>0.000803</td>\n",
       "      <td>-0.00002</td>\n",
       "      <td>0.001626</td>\n",
       "      <td>0.028337</td>\n",
       "      <td>0.006648</td>\n",
       "      <td>0.956348</td>\n",
       "    </tr>\n",
       "  </tbody>\n",
       "</table>\n",
       "</div>"
      ],
      "text/plain": [
       "         DOF       MSE  MSE 95% CI (lower)  MSE 95% CI (upper)      RMSE  \\\n",
       "Re(exp)  232  0.017158             0.00667            0.027647  0.130990   \n",
       "Im(exp)  232  0.000803            -0.00002            0.001626  0.028337   \n",
       "\n",
       "              MAE        R2  \n",
       "Re(exp)  0.044259  0.718540  \n",
       "Im(exp)  0.006648  0.956348  "
      ]
     },
     "execution_count": 18,
     "metadata": {},
     "output_type": "execute_result"
    }
   ],
   "source": [
    "import pandas as pd\n",
    "pd.read_json('./metrics/svr_stack_test.json').set_index(pd.Index(['Re(exp)', 'Im(exp)']))"
   ]
  },
  {
   "cell_type": "code",
   "execution_count": 19,
   "metadata": {},
   "outputs": [
    {
     "data": {
      "text/html": [
       "<div>\n",
       "<style scoped>\n",
       "    .dataframe tbody tr th:only-of-type {\n",
       "        vertical-align: middle;\n",
       "    }\n",
       "\n",
       "    .dataframe tbody tr th {\n",
       "        vertical-align: top;\n",
       "    }\n",
       "\n",
       "    .dataframe thead th {\n",
       "        text-align: right;\n",
       "    }\n",
       "</style>\n",
       "<table border=\"1\" class=\"dataframe\">\n",
       "  <thead>\n",
       "    <tr style=\"text-align: right;\">\n",
       "      <th></th>\n",
       "      <th>DOF</th>\n",
       "      <th>MSE</th>\n",
       "      <th>MSE 95% CI (lower)</th>\n",
       "      <th>MSE 95% CI (upper)</th>\n",
       "      <th>RMSE</th>\n",
       "      <th>MAE</th>\n",
       "      <th>R2</th>\n",
       "    </tr>\n",
       "  </thead>\n",
       "  <tbody>\n",
       "    <tr>\n",
       "      <th>Re(exp)</th>\n",
       "      <td>232</td>\n",
       "      <td>0.009794</td>\n",
       "      <td>0.002690</td>\n",
       "      <td>0.016897</td>\n",
       "      <td>0.098963</td>\n",
       "      <td>0.040452</td>\n",
       "      <td>0.839347</td>\n",
       "    </tr>\n",
       "    <tr>\n",
       "      <th>Im(exp)</th>\n",
       "      <td>232</td>\n",
       "      <td>0.002512</td>\n",
       "      <td>0.000777</td>\n",
       "      <td>0.004248</td>\n",
       "      <td>0.050123</td>\n",
       "      <td>0.017790</td>\n",
       "      <td>0.863421</td>\n",
       "    </tr>\n",
       "  </tbody>\n",
       "</table>\n",
       "</div>"
      ],
      "text/plain": [
       "         DOF       MSE  MSE 95% CI (lower)  MSE 95% CI (upper)      RMSE  \\\n",
       "Re(exp)  232  0.009794            0.002690            0.016897  0.098963   \n",
       "Im(exp)  232  0.002512            0.000777            0.004248  0.050123   \n",
       "\n",
       "              MAE        R2  \n",
       "Re(exp)  0.040452  0.839347  \n",
       "Im(exp)  0.017790  0.863421  "
      ]
     },
     "execution_count": 19,
     "metadata": {},
     "output_type": "execute_result"
    }
   ],
   "source": [
    "import pandas as pd\n",
    "pd.read_json('./metrics/gbdt_stack_test.json').set_index(pd.Index(['Re(exp)', 'Im(exp)']))"
   ]
  },
  {
   "cell_type": "markdown",
   "metadata": {},
   "source": [
    "### Deep Learning\n",
    "\n",
    "We also make predictions using the neural network:"
   ]
  },
  {
   "cell_type": "code",
   "execution_count": 20,
   "metadata": {},
   "outputs": [
    {
     "name": "stdout",
     "output_type": "stream",
     "text": [
      "Training finished in 163.17 seconds.\n"
     ]
    }
   ],
   "source": [
    "!python3 ./scripts/train.py -tx './data/X_train_lv1.csv' -ty './data/y_train_lv1.csv' \\\n",
    "                            -vx './data/X_train_lv2.csv' -vy './data/y_train_lv2.csv' \\\n",
    "                            -m './models/ann.h5' -ep 20000 -b 32 -es 1000 -pf 0.3 -pp 750 -r {RAND}"
   ]
  },
  {
   "cell_type": "code",
   "execution_count": 21,
   "metadata": {},
   "outputs": [],
   "source": [
    "!python3 ./scripts/predict.py -tx './data/X_train_lv2.csv' -ty './data/y_train_lv2.csv' -m './models/ann.h5' -o 'ann_lv2'\n",
    "!python3 ./scripts/predict.py -tx './data/X_test.csv' -ty './data/y_test.csv' -m './models/ann.h5' -o 'ann_stack_test'"
   ]
  },
  {
   "cell_type": "code",
   "execution_count": 22,
   "metadata": {},
   "outputs": [
    {
     "data": {
      "text/html": [
       "<div>\n",
       "<style scoped>\n",
       "    .dataframe tbody tr th:only-of-type {\n",
       "        vertical-align: middle;\n",
       "    }\n",
       "\n",
       "    .dataframe tbody tr th {\n",
       "        vertical-align: top;\n",
       "    }\n",
       "\n",
       "    .dataframe thead th {\n",
       "        text-align: right;\n",
       "    }\n",
       "</style>\n",
       "<table border=\"1\" class=\"dataframe\">\n",
       "  <thead>\n",
       "    <tr style=\"text-align: right;\">\n",
       "      <th></th>\n",
       "      <th>exp_re</th>\n",
       "      <th>exp_im</th>\n",
       "    </tr>\n",
       "  </thead>\n",
       "  <tbody>\n",
       "    <tr>\n",
       "      <th>dof</th>\n",
       "      <td>1062.000000</td>\n",
       "      <td>1062.000000</td>\n",
       "    </tr>\n",
       "    <tr>\n",
       "      <th>mse</th>\n",
       "      <td>0.001609</td>\n",
       "      <td>0.001267</td>\n",
       "    </tr>\n",
       "    <tr>\n",
       "      <th>mse_ci_low</th>\n",
       "      <td>0.000670</td>\n",
       "      <td>0.000547</td>\n",
       "    </tr>\n",
       "    <tr>\n",
       "      <th>mse_ci_high</th>\n",
       "      <td>0.002549</td>\n",
       "      <td>0.001986</td>\n",
       "    </tr>\n",
       "    <tr>\n",
       "      <th>mae</th>\n",
       "      <td>0.019269</td>\n",
       "      <td>0.014674</td>\n",
       "    </tr>\n",
       "    <tr>\n",
       "      <th>r2</th>\n",
       "      <td>0.970455</td>\n",
       "      <td>0.931454</td>\n",
       "    </tr>\n",
       "  </tbody>\n",
       "</table>\n",
       "</div>"
      ],
      "text/plain": [
       "                  exp_re       exp_im\n",
       "dof          1062.000000  1062.000000\n",
       "mse             0.001609     0.001267\n",
       "mse_ci_low      0.000670     0.000547\n",
       "mse_ci_high     0.002549     0.001986\n",
       "mae             0.019269     0.014674\n",
       "r2              0.970455     0.931454"
      ]
     },
     "execution_count": 22,
     "metadata": {},
     "output_type": "execute_result"
    }
   ],
   "source": [
    "import pandas as pd\n",
    "pd.read_csv('./data/ann_lv2_metrics.csv', index_col=0)"
   ]
  },
  {
   "cell_type": "code",
   "execution_count": 23,
   "metadata": {},
   "outputs": [
    {
     "data": {
      "text/html": [
       "<div>\n",
       "<style scoped>\n",
       "    .dataframe tbody tr th:only-of-type {\n",
       "        vertical-align: middle;\n",
       "    }\n",
       "\n",
       "    .dataframe tbody tr th {\n",
       "        vertical-align: top;\n",
       "    }\n",
       "\n",
       "    .dataframe thead th {\n",
       "        text-align: right;\n",
       "    }\n",
       "</style>\n",
       "<table border=\"1\" class=\"dataframe\">\n",
       "  <thead>\n",
       "    <tr style=\"text-align: right;\">\n",
       "      <th></th>\n",
       "      <th>exp_re</th>\n",
       "      <th>exp_im</th>\n",
       "    </tr>\n",
       "  </thead>\n",
       "  <tbody>\n",
       "    <tr>\n",
       "      <th>dof</th>\n",
       "      <td>232.000000</td>\n",
       "      <td>232.000000</td>\n",
       "    </tr>\n",
       "    <tr>\n",
       "      <th>mse</th>\n",
       "      <td>0.011419</td>\n",
       "      <td>0.000765</td>\n",
       "    </tr>\n",
       "    <tr>\n",
       "      <th>mse_ci_low</th>\n",
       "      <td>0.002264</td>\n",
       "      <td>0.000256</td>\n",
       "    </tr>\n",
       "    <tr>\n",
       "      <th>mse_ci_high</th>\n",
       "      <td>0.020574</td>\n",
       "      <td>0.001274</td>\n",
       "    </tr>\n",
       "    <tr>\n",
       "      <th>mae</th>\n",
       "      <td>0.035281</td>\n",
       "      <td>0.014559</td>\n",
       "    </tr>\n",
       "    <tr>\n",
       "      <th>r2</th>\n",
       "      <td>0.812693</td>\n",
       "      <td>0.958412</td>\n",
       "    </tr>\n",
       "  </tbody>\n",
       "</table>\n",
       "</div>"
      ],
      "text/plain": [
       "                 exp_re      exp_im\n",
       "dof          232.000000  232.000000\n",
       "mse            0.011419    0.000765\n",
       "mse_ci_low     0.002264    0.000256\n",
       "mse_ci_high    0.020574    0.001274\n",
       "mae            0.035281    0.014559\n",
       "r2             0.812693    0.958412"
      ]
     },
     "execution_count": 23,
     "metadata": {},
     "output_type": "execute_result"
    }
   ],
   "source": [
    "import pandas as pd\n",
    "pd.read_csv('./data/ann_stack_test_metrics.csv', index_col=0)"
   ]
  },
  {
   "cell_type": "markdown",
   "metadata": {},
   "source": [
    "## Meta Learner\n",
    "\n",
    "Since all algorithms are multi output learners we need to differentiate the predictions for the real part of the extrapolations and their imaginary part."
   ]
  },
  {
   "cell_type": "code",
   "execution_count": 24,
   "metadata": {},
   "outputs": [],
   "source": [
    "import pandas as pd\n",
    "\n",
    "ridge_lv2_pred = pd.read_csv('./predictions/ridge_lv2.csv')[['exp_re', 'exp_im']]\n",
    "svr_lv2_pred   = pd.read_csv('./predictions/svr_lv2.csv')[['exp_re', 'exp_im']]\n",
    "gbdt_lv2_pred  = pd.read_csv('./predictions/gbdt_lv2.csv')[['exp_re', 'exp_im']]\n",
    "ann_lv2_pred   = pd.read_csv('./data/y_ann_lv2_pred.csv')[['exp_re', 'exp_im']]\n",
    "\n",
    "# create the dataset for the real part\n",
    "df_re = pd.concat([ridge_lv2_pred['exp_re'],\n",
    "                   svr_lv2_pred['exp_re'],\n",
    "                   gbdt_lv2_pred['exp_re'],\n",
    "                   ann_lv2_pred['exp_re']\n",
    "                  ],\n",
    "                  axis=1\n",
    "                 ).reset_index(drop=True)\n",
    "\n",
    "# create the dataset for the imaginary part\n",
    "df_im = pd.concat([ridge_lv2_pred['exp_im'],\n",
    "                   svr_lv2_pred['exp_im'],\n",
    "                   gbdt_lv2_pred['exp_im'],\n",
    "                   ann_lv2_pred['exp_im']\n",
    "                  ],\n",
    "                  axis=1\n",
    "                 ).reset_index(drop=True)\n",
    "\n",
    "# save the datasets to file\n",
    "df_re.to_csv('./data/X_train_meta_re.csv', index=False)\n",
    "df_im.to_csv('./data/X_train_meta_im.csv', index=False)"
   ]
  },
  {
   "cell_type": "code",
   "execution_count": 25,
   "metadata": {},
   "outputs": [],
   "source": [
    "import pandas as pd\n",
    "\n",
    "ridge_test_pred = pd.read_csv('./predictions/ridge_test.csv')[['exp_re', 'exp_im']]\n",
    "svr_test_pred   = pd.read_csv('./predictions/svr_test.csv')[['exp_re', 'exp_im']]\n",
    "gbdt_test_pred   = pd.read_csv('./predictions/gbdt_test.csv')[['exp_re', 'exp_im']]\n",
    "ann_test_pred   = pd.read_csv('./data/y_ann_test_pred.csv')[['exp_re', 'exp_im']]\n",
    "\n",
    "# create the dataset for the real part\n",
    "df_re = pd.concat([ridge_test_pred['exp_re'],\n",
    "                   svr_test_pred['exp_re'],\n",
    "                   gbdt_test_pred['exp_re'],\n",
    "                   ann_test_pred['exp_re']\n",
    "                  ],\n",
    "                  axis=1\n",
    "                 ).reset_index(drop=True)\n",
    "\n",
    "# create the dataset for the imaginary part\n",
    "df_im = pd.concat([ridge_test_pred['exp_im'],\n",
    "                   svr_test_pred['exp_im'],\n",
    "                   gbdt_test_pred['exp_im'],\n",
    "                   ann_test_pred['exp_im']\n",
    "                  ],\n",
    "                  axis=1\n",
    "                 ).reset_index(drop=True)\n",
    "\n",
    "# save the datasets to file\n",
    "df_re.to_csv('./data/X_test_meta_re.csv', index=False)\n",
    "df_im.to_csv('./data/X_test_meta_im.csv', index=False)"
   ]
  },
  {
   "cell_type": "code",
   "execution_count": 26,
   "metadata": {},
   "outputs": [],
   "source": [
    "import pandas as pd\n",
    "\n",
    "# split the labels\n",
    "lab_lv2  = pd.read_csv('./data/y_train_lv2.csv')\n",
    "lab_test = pd.read_csv('./data/y_test.csv')\n",
    "\n",
    "# save the labels separately\n",
    "lab_lv2[['exp_re']].to_csv('./data/y_train_lv2_re.csv', index=False)\n",
    "lab_lv2[['exp_im']].to_csv('./data/y_train_lv2_im.csv', index=False)\n",
    "\n",
    "lab_test[['exp_re']].to_csv('./data/y_test_re.csv', index=False)\n",
    "lab_test[['exp_im']].to_csv('./data/y_test_im.csv', index=False)"
   ]
  },
  {
   "cell_type": "markdown",
   "metadata": {},
   "source": [
    "We then train two linear models on the predictions to find the real and imaginary parts:"
   ]
  },
  {
   "cell_type": "code",
   "execution_count": 27,
   "metadata": {},
   "outputs": [
    {
     "data": {
      "text/plain": [
       "['./models/ridge_meta_hypers_im.pkl']"
      ]
     },
     "execution_count": 27,
     "metadata": {},
     "output_type": "execute_result"
    }
   ],
   "source": [
    "from sklearn.linear_model import Ridge\n",
    "from skopt.space import Real, Integer\n",
    "import joblib\n",
    "\n",
    "ridge = Ridge(random_state=RAND)\n",
    "rdg_space = {'alpha':         Real(1.0e-3, 1.0e1, prior='log-uniform'),\n",
    "             'fit_intercept': Integer(0, 1),\n",
    "             'normalize':     Integer(0, 1)\n",
    "            }\n",
    "\n",
    "# save to file\n",
    "joblib.dump(ridge, './models/ridge_meta_re.pkl')\n",
    "joblib.dump(ridge, './models/ridge_meta_im.pkl')\n",
    "\n",
    "joblib.dump(rdg_space, './models/ridge_meta_hypers_re.pkl')\n",
    "joblib.dump(rdg_space, './models/ridge_meta_hypers_im.pkl')"
   ]
  },
  {
   "cell_type": "code",
   "execution_count": 28,
   "metadata": {},
   "outputs": [
    {
     "name": "stdout",
     "output_type": "stream",
     "text": [
      "/home/riccardo/conda/envs/ml-sft-trunc/lib/python3.7/site-packages/skopt/optimizer/optimizer.py:409: UserWarning: The objective has been evaluated at this point before.\n",
      "  warnings.warn(\"The objective has been evaluated \"\n",
      "/home/riccardo/conda/envs/ml-sft-trunc/lib/python3.7/site-packages/skopt/optimizer/optimizer.py:409: UserWarning: The objective has been evaluated at this point before.\n",
      "  warnings.warn(\"The objective has been evaluated \"\n",
      "/home/riccardo/conda/envs/ml-sft-trunc/lib/python3.7/site-packages/skopt/optimizer/optimizer.py:409: UserWarning: The objective has been evaluated at this point before.\n",
      "  warnings.warn(\"The objective has been evaluated \"\n",
      "/home/riccardo/conda/envs/ml-sft-trunc/lib/python3.7/site-packages/skopt/optimizer/optimizer.py:409: UserWarning: The objective has been evaluated at this point before.\n",
      "  warnings.warn(\"The objective has been evaluated \"\n",
      "BayesSearchCV trained in 28.749 seconds.\n",
      "/home/riccardo/conda/envs/ml-sft-trunc/lib/python3.7/site-packages/skopt/optimizer/optimizer.py:409: UserWarning: The objective has been evaluated at this point before.\n",
      "  warnings.warn(\"The objective has been evaluated \"\n",
      "/home/riccardo/conda/envs/ml-sft-trunc/lib/python3.7/site-packages/skopt/optimizer/optimizer.py:409: UserWarning: The objective has been evaluated at this point before.\n",
      "  warnings.warn(\"The objective has been evaluated \"\n",
      "/home/riccardo/conda/envs/ml-sft-trunc/lib/python3.7/site-packages/skopt/optimizer/optimizer.py:409: UserWarning: The objective has been evaluated at this point before.\n",
      "  warnings.warn(\"The objective has been evaluated \"\n",
      "/home/riccardo/conda/envs/ml-sft-trunc/lib/python3.7/site-packages/skopt/optimizer/optimizer.py:409: UserWarning: The objective has been evaluated at this point before.\n",
      "  warnings.warn(\"The objective has been evaluated \"\n",
      "/home/riccardo/conda/envs/ml-sft-trunc/lib/python3.7/site-packages/skopt/optimizer/optimizer.py:409: UserWarning: The objective has been evaluated at this point before.\n",
      "  warnings.warn(\"The objective has been evaluated \"\n",
      "/home/riccardo/conda/envs/ml-sft-trunc/lib/python3.7/site-packages/skopt/optimizer/optimizer.py:409: UserWarning: The objective has been evaluated at this point before.\n",
      "  warnings.warn(\"The objective has been evaluated \"\n",
      "/home/riccardo/conda/envs/ml-sft-trunc/lib/python3.7/site-packages/skopt/optimizer/optimizer.py:409: UserWarning: The objective has been evaluated at this point before.\n",
      "  warnings.warn(\"The objective has been evaluated \"\n",
      "/home/riccardo/conda/envs/ml-sft-trunc/lib/python3.7/site-packages/skopt/optimizer/optimizer.py:409: UserWarning: The objective has been evaluated at this point before.\n",
      "  warnings.warn(\"The objective has been evaluated \"\n",
      "/home/riccardo/conda/envs/ml-sft-trunc/lib/python3.7/site-packages/skopt/optimizer/optimizer.py:409: UserWarning: The objective has been evaluated at this point before.\n",
      "  warnings.warn(\"The objective has been evaluated \"\n",
      "/home/riccardo/conda/envs/ml-sft-trunc/lib/python3.7/site-packages/skopt/optimizer/optimizer.py:409: UserWarning: The objective has been evaluated at this point before.\n",
      "  warnings.warn(\"The objective has been evaluated \"\n",
      "/home/riccardo/conda/envs/ml-sft-trunc/lib/python3.7/site-packages/skopt/optimizer/optimizer.py:409: UserWarning: The objective has been evaluated at this point before.\n",
      "  warnings.warn(\"The objective has been evaluated \"\n",
      "BayesSearchCV trained in 23.193 seconds.\n"
     ]
    }
   ],
   "source": [
    "!python3 ./scripts/multiout-cv.py -t './data/X_train_meta_re.csv' -l './data/y_train_lv2_re.csv' \\\n",
    "                                  -e './models/ridge_meta_re.pkl' -p './models/ridge_meta_hypers_re.pkl' \\\n",
    "                                  -cv 5 -n 50 -r {RAND}\n",
    "!python3 ./scripts/multiout-cv.py -t './data/X_train_meta_im.csv' -l './data/y_train_lv2_im.csv' \\\n",
    "                                  -e './models/ridge_meta_im.pkl' -p './models/ridge_meta_hypers_im.pkl' \\\n",
    "                                  -cv 5 -n 50 -r {RAND}"
   ]
  },
  {
   "cell_type": "code",
   "execution_count": 29,
   "metadata": {},
   "outputs": [
    {
     "name": "stdout",
     "output_type": "stream",
     "text": [
      "Ridge Re(exp) -- best hyperparameters: \n"
     ]
    },
    {
     "data": {
      "text/html": [
       "<div>\n",
       "<style scoped>\n",
       "    .dataframe tbody tr th:only-of-type {\n",
       "        vertical-align: middle;\n",
       "    }\n",
       "\n",
       "    .dataframe tbody tr th {\n",
       "        vertical-align: top;\n",
       "    }\n",
       "\n",
       "    .dataframe thead th {\n",
       "        text-align: right;\n",
       "    }\n",
       "</style>\n",
       "<table border=\"1\" class=\"dataframe\">\n",
       "  <thead>\n",
       "    <tr style=\"text-align: right;\">\n",
       "      <th></th>\n",
       "      <th>alpha</th>\n",
       "      <th>fit_intercept</th>\n",
       "      <th>normalize</th>\n",
       "    </tr>\n",
       "  </thead>\n",
       "  <tbody>\n",
       "    <tr>\n",
       "      <th>ridge_re</th>\n",
       "      <td>0.044068</td>\n",
       "      <td>0</td>\n",
       "      <td>1</td>\n",
       "    </tr>\n",
       "  </tbody>\n",
       "</table>\n",
       "</div>"
      ],
      "text/plain": [
       "             alpha  fit_intercept  normalize\n",
       "ridge_re  0.044068              0          1"
      ]
     },
     "execution_count": 29,
     "metadata": {},
     "output_type": "execute_result"
    }
   ],
   "source": [
    "import json\n",
    "import re\n",
    "\n",
    "with open('./models/ridge_meta_hypers_re.json') as f:\n",
    "    ridge_re = json.load(f)\n",
    "    \n",
    "ridge_re = pd.DataFrame(ridge_re, index=['ridge_re']).rename(columns=lambda c: re.sub('estimator__', '', c))\n",
    "print('Ridge Re(exp) -- best hyperparameters: ')\n",
    "ridge_re"
   ]
  },
  {
   "cell_type": "code",
   "execution_count": 30,
   "metadata": {},
   "outputs": [
    {
     "name": "stdout",
     "output_type": "stream",
     "text": [
      "Ridge Im(exp) -- best hyperparameters: \n"
     ]
    },
    {
     "data": {
      "text/html": [
       "<div>\n",
       "<style scoped>\n",
       "    .dataframe tbody tr th:only-of-type {\n",
       "        vertical-align: middle;\n",
       "    }\n",
       "\n",
       "    .dataframe tbody tr th {\n",
       "        vertical-align: top;\n",
       "    }\n",
       "\n",
       "    .dataframe thead th {\n",
       "        text-align: right;\n",
       "    }\n",
       "</style>\n",
       "<table border=\"1\" class=\"dataframe\">\n",
       "  <thead>\n",
       "    <tr style=\"text-align: right;\">\n",
       "      <th></th>\n",
       "      <th>alpha</th>\n",
       "      <th>fit_intercept</th>\n",
       "      <th>normalize</th>\n",
       "    </tr>\n",
       "  </thead>\n",
       "  <tbody>\n",
       "    <tr>\n",
       "      <th>ridge_im</th>\n",
       "      <td>0.178016</td>\n",
       "      <td>0</td>\n",
       "      <td>0</td>\n",
       "    </tr>\n",
       "  </tbody>\n",
       "</table>\n",
       "</div>"
      ],
      "text/plain": [
       "             alpha  fit_intercept  normalize\n",
       "ridge_im  0.178016              0          0"
      ]
     },
     "execution_count": 30,
     "metadata": {},
     "output_type": "execute_result"
    }
   ],
   "source": [
    "import json\n",
    "import re\n",
    "\n",
    "with open('./models/ridge_meta_hypers_im.json') as f:\n",
    "    ridge_im = json.load(f)\n",
    "    \n",
    "ridge_im = pd.DataFrame(ridge_im, index=['ridge_im']).rename(columns=lambda c: re.sub('estimator__', '', c))\n",
    "print('Ridge Im(exp) -- best hyperparameters: ')\n",
    "ridge_im"
   ]
  },
  {
   "cell_type": "markdown",
   "metadata": {},
   "source": [
    "We finally compute the predictions on the test set."
   ]
  },
  {
   "cell_type": "code",
   "execution_count": 31,
   "metadata": {},
   "outputs": [],
   "source": [
    "import pandas as pd\n",
    "import joblib\n",
    "\n",
    "# load the trained estimators\n",
    "meta_re = joblib.load('./models/ridge_meta_re.pkl')\n",
    "meta_im = joblib.load('./models/ridge_meta_im.pkl')\n",
    "\n",
    "# load the datasets\n",
    "X_test_re = pd.read_csv('./data/X_test_meta_re.csv')\n",
    "X_test_im = pd.read_csv('./data/X_test_meta_im.csv')\n",
    "\n",
    "y_test_re = pd.read_csv('./data/y_test_re.csv')\n",
    "y_test_im = pd.read_csv('./data/y_test_im.csv')\n",
    "\n",
    "# compute the predictions\n",
    "y_test_re_pred = pd.DataFrame(meta_re.predict(X_test_re), columns=['exp_re_pred'])\n",
    "y_test_im_pred = pd.DataFrame(meta_im.predict(X_test_im), columns=['exp_im_pred'])\n",
    "\n",
    "# save the predictions to file\n",
    "y_test_re_pred.to_csv('./predictions/y_test_re_pred.csv', index=False)\n",
    "y_test_im_pred.to_csv('./predictions/y_test_im_pred.csv', index=False)"
   ]
  },
  {
   "cell_type": "markdown",
   "metadata": {},
   "source": [
    "We finally plot the predictions and compute the metrics:"
   ]
  },
  {
   "cell_type": "code",
   "execution_count": 32,
   "metadata": {},
   "outputs": [
    {
     "data": {
      "image/png": "[encoded data removed]",
      "text/plain": [
       "<Figure size 432x360 with 1 Axes>"
      ]
     },
     "metadata": {},
     "output_type": "display_data"
    }
   ],
   "source": [
    "import seaborn as sns\n",
    "import matplotlib.pyplot as plt\n",
    "\n",
    "sns.set()\n",
    "\n",
    "_, ax = plt.subplots(1, 1, figsize=(6,5))\n",
    "\n",
    "sns.lineplot(data=pd.concat([y_test_re, y_test_re_pred], axis=0),\n",
    "             alpha=0.5,\n",
    "             markers=True,\n",
    "             ax=ax\n",
    "            )\n",
    "ax.set(title='',\n",
    "       xlabel='ID of the prediction',\n",
    "       ylabel='$\\mathrm{Re}(\\mathrm{exp})$'\n",
    "      )\n",
    "ax.legend(['$\\mathrm{Re}(\\mathrm{exp})$', 'predictions'], loc='best')\n",
    "\n",
    "plt.tight_layout()\n",
    "plt.savefig('./img/meta_exp_re_plot.pdf', dpi=150, format='pdf')\n",
    "plt.savefig('./img/meta_exp_re_plot.png', dpi=150, format='png')"
   ]
  },
  {
   "cell_type": "code",
   "execution_count": 33,
   "metadata": {},
   "outputs": [
    {
     "data": {
      "image/png": "[encoded data removed]",
      "text/plain": [
       "<Figure size 432x360 with 1 Axes>"
      ]
     },
     "metadata": {},
     "output_type": "display_data"
    }
   ],
   "source": [
    "import seaborn as sns\n",
    "import matplotlib.pyplot as plt\n",
    "\n",
    "sns.set()\n",
    "\n",
    "_, ax = plt.subplots(1, 1, figsize=(6,5))\n",
    "\n",
    "sns.lineplot(data=pd.concat([y_test_im, y_test_im_pred], axis=0),\n",
    "             alpha=0.5,\n",
    "             markers=True,\n",
    "             ax=ax\n",
    "            )\n",
    "ax.set(title='',\n",
    "       xlabel='ID of the prediction',\n",
    "       ylabel='$\\mathrm{Im}(\\mathrm{exp})$'\n",
    "      )\n",
    "ax.legend(['$\\mathrm{Im}(\\mathrm{exp})$', 'predictions'], loc='best')\n",
    "\n",
    "plt.tight_layout()\n",
    "plt.savefig('./img/meta_exp_im_plot.pdf', dpi=150, format='pdf')\n",
    "plt.savefig('./img/meta_exp_im_plot.png', dpi=150, format='png')"
   ]
  },
  {
   "cell_type": "code",
   "execution_count": 34,
   "metadata": {},
   "outputs": [
    {
     "data": {
      "image/png": "[encoded data removed]",
      "text/plain": [
       "<Figure size 432x360 with 1 Axes>"
      ]
     },
     "metadata": {},
     "output_type": "display_data"
    }
   ],
   "source": [
    "import seaborn as sns\n",
    "import matplotlib.pyplot as plt\n",
    "\n",
    "sns.set()\n",
    "\n",
    "_, ax = plt.subplots(1, 1, figsize=(6,5))\n",
    "\n",
    "sns.scatterplot(x=y_test_re_pred.values.reshape(-1,),\n",
    "                y=(y_test_re.values - y_test_re_pred.values).reshape(-1,),\n",
    "                alpha=0.5,\n",
    "                ax=ax\n",
    "               )\n",
    "sns.scatterplot(x=y_test_im_pred.values.reshape(-1,),\n",
    "                y=(y_test_im.values - y_test_im_pred.values).reshape(-1,),\n",
    "                alpha=0.5,\n",
    "                ax=ax\n",
    "               )\n",
    "ax.set(title='',\n",
    "       xlabel='predictions',\n",
    "       ylabel='residual'\n",
    "      )\n",
    "ax.legend(['$\\mathrm{Re}(\\mathrm{exp})$', '$\\mathrm{Im}(\\mathrm{exp})$'])\n",
    "\n",
    "plt.tight_layout()\n",
    "plt.savefig('./img/meta_res_plot.pdf', dpi=150, format='pdf')\n",
    "plt.savefig('./img/meta_res_plot.png', dpi=150, format='png')"
   ]
  },
  {
   "cell_type": "code",
   "execution_count": 35,
   "metadata": {},
   "outputs": [
    {
     "name": "stdout",
     "output_type": "stream",
     "text": [
      "\n",
      "Real part:\n",
      "  MSE: 0.0107\n",
      "  MAE: 0.0346\n",
      "  R2:  0.8246\n",
      "\n",
      "Imaginary part:\n",
      "  MSE: 0.0007\n",
      "  MAE: 0.0135\n",
      "  R2:  0.9629\n"
     ]
    }
   ],
   "source": [
    "from sklearn.metrics import mean_squared_error, mean_absolute_error, r2_score\n",
    "\n",
    "print('\\nReal part:')\n",
    "mse_re = mean_squared_error(y_test_re.values.reshape(-1,), y_test_re_pred.values.reshape(-1,))\n",
    "mae_re = mean_absolute_error(y_test_re.values.reshape(-1,), y_test_re_pred.values.reshape(-1,))\n",
    "r2_re  = r2_score(y_test_re.values.reshape(-1,), y_test_re_pred.values.reshape(-1,))\n",
    "\n",
    "print(f'  MSE: {mse_re:.4f}')\n",
    "print(f'  MAE: {mae_re:.4f}')\n",
    "print(f'  R2:  {r2_re:.4f}')\n",
    "\n",
    "print('\\nImaginary part:')\n",
    "mse_im = mean_squared_error(y_test_im.values.reshape(-1,), y_test_im_pred.values.reshape(-1,))\n",
    "mae_im = mean_absolute_error(y_test_im.values.reshape(-1,), y_test_im_pred.values.reshape(-1,))\n",
    "r2_im  = r2_score(y_test_im.values.reshape(-1,), y_test_im_pred.values.reshape(-1,))\n",
    "\n",
    "print(f'  MSE: {mse_im:.4f}')\n",
    "print(f'  MAE: {mae_im:.4f}')\n",
    "print(f'  R2:  {r2_im:.4f}')"
   ]
  }
 ],
 "metadata": {
  "kernelspec": {
   "display_name": "ml-sft-trunc",
   "language": "python",
   "name": "ml-sft-trunc"
  },
  "language_info": {
   "codemirror_mode": {
    "name": "ipython",
    "version": 3
   },
   "file_extension": ".py",
   "mimetype": "text/x-python",
   "name": "python",
   "nbconvert_exporter": "python",
   "pygments_lexer": "ipython3",
   "version": "3.8.6"
  }
 },
 "nbformat": 4,
 "nbformat_minor": 4
}
