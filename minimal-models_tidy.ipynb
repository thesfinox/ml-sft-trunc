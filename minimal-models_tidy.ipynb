{
 "cells": [
  {
   "cell_type": "markdown",
   "metadata": {
    "papermill": {
     "duration": 0.013192,
     "end_time": "2020-11-23T22:06:34.417060",
     "exception": false,
     "start_time": "2020-11-23T22:06:34.403868",
     "status": "completed"
    },
    "tags": []
   },
   "source": [
    "# Level Truncation in String Field Theory\n",
    "\n",
    "H. Erbin, R. Finotello, M. Kudrna\n",
    "\n",
    "## Minimal Models\n",
    "\n",
    "We consider minimal models in String Field Theory and their truncation levels.\n",
    "We use machine learning techniques to extrapolate the value of the truncations $L$ at $\\infty$ given the results using fits of polynomials in $\\frac{1}{L}$.\n",
    "\n",
    "## Dataset Tidying\n",
    "\n",
    "In what follows we tidy the dataset and prepare a dataset containing the physical observables as rows, and weight, type and truncation levels as columns."
   ]
  },
  {
   "cell_type": "code",
   "execution_count": 1,
   "metadata": {
    "execution": {
     "iopub.execute_input": "2020-11-23T22:06:34.435269Z",
     "iopub.status.busy": "2020-11-23T22:06:34.434990Z",
     "iopub.status.idle": "2020-11-23T22:06:34.580246Z",
     "shell.execute_reply": "2020-11-23T22:06:34.580470Z"
    },
    "papermill": {
     "duration": 0.155843,
     "end_time": "2020-11-23T22:06:34.580595",
     "exception": false,
     "start_time": "2020-11-23T22:06:34.424752",
     "status": "completed"
    },
    "tags": []
   },
   "outputs": [],
   "source": [
    "%load_ext autoreload\n",
    "%autoreload 2\n",
    "\n",
    "import pandas as pd\n",
    "import numpy as np\n",
    "import re"
   ]
  },
  {
   "cell_type": "markdown",
   "metadata": {
    "papermill": {
     "duration": 0.007714,
     "end_time": "2020-11-23T22:06:34.596286",
     "exception": false,
     "start_time": "2020-11-23T22:06:34.588572",
     "status": "completed"
    },
    "tags": []
   },
   "source": [
    "## Import the Dataset\n",
    "\n",
    "We first import the dataset using the `pandas` library.\n",
    "The original dataset is a Mathematica file which has been convert to JSON in the format `[{column -> value} ... {column -> value}]` thus the correct *orientation* of the dataset is `records`.\n",
    "There are two different datasets: the first is the real part of the data, the second represents the imaginary part."
   ]
  },
  {
   "cell_type": "code",
   "execution_count": 2,
   "metadata": {
    "execution": {
     "iopub.execute_input": "2020-11-23T22:06:34.613441Z",
     "iopub.status.busy": "2020-11-23T22:06:34.613198Z",
     "iopub.status.idle": "2020-11-23T22:06:34.628530Z",
     "shell.execute_reply": "2020-11-23T22:06:34.628715Z"
    },
    "papermill": {
     "duration": 0.024777,
     "end_time": "2020-11-23T22:06:34.628777",
     "exception": false,
     "start_time": "2020-11-23T22:06:34.604000",
     "status": "completed"
    },
    "tags": []
   },
   "outputs": [],
   "source": [
    "df_re = pd.read_json('./data/data_re.json', orient='records')\n",
    "df_im = pd.read_json('./data/data_im.json', orient='records')"
   ]
  },
  {
   "cell_type": "markdown",
   "metadata": {
    "papermill": {
     "duration": 0.007721,
     "end_time": "2020-11-23T22:06:34.644221",
     "exception": false,
     "start_time": "2020-11-23T22:06:34.636500",
     "status": "completed"
    },
    "tags": []
   },
   "source": [
    "Native datasets are composed by solutions at different radii and, for each one of them, by the values of weight, type and truncation levels of different observables.\n",
    "There are several incomplete cases as it is impossible to compute the same number of truncation levels for all the observables."
   ]
  },
  {
   "cell_type": "code",
   "execution_count": 3,
   "metadata": {
    "execution": {
     "iopub.execute_input": "2020-11-23T22:06:34.662816Z",
     "iopub.status.busy": "2020-11-23T22:06:34.662536Z",
     "iopub.status.idle": "2020-11-23T22:06:34.664090Z",
     "shell.execute_reply": "2020-11-23T22:06:34.663899Z"
    },
    "papermill": {
     "duration": 0.01218,
     "end_time": "2020-11-23T22:06:34.664139",
     "exception": false,
     "start_time": "2020-11-23T22:06:34.651959",
     "status": "completed"
    },
    "tags": []
   },
   "outputs": [
    {
     "name": "stdout",
     "output_type": "stream",
     "text": [
      "There are 63 incomplete cases in each dataset.\n"
     ]
    }
   ],
   "source": [
    "# check consistency between the two datasets\n",
    "assert df_re.isna().astype(np.int).sum().max() == df_re.isna().astype(np.int).sum().max()\n",
    "\n",
    "n_incomplete = df_re.isna().astype(np.int).sum().max()\n",
    "print(f'There are {n_incomplete:d} incomplete cases in each dataset.')"
   ]
  },
  {
   "cell_type": "code",
   "execution_count": 4,
   "metadata": {
    "execution": {
     "iopub.execute_input": "2020-11-23T22:06:34.681853Z",
     "iopub.status.busy": "2020-11-23T22:06:34.681622Z",
     "iopub.status.idle": "2020-11-23T22:06:34.683164Z",
     "shell.execute_reply": "2020-11-23T22:06:34.682935Z"
    },
    "papermill": {
     "duration": 0.011066,
     "end_time": "2020-11-23T22:06:34.683216",
     "exception": false,
     "start_time": "2020-11-23T22:06:34.672150",
     "status": "completed"
    },
    "tags": []
   },
   "outputs": [
    {
     "name": "stdout",
     "output_type": "stream",
     "text": [
      "The datasets are made of 65 rows and 26 columns.\n",
      "Equivalently, they are 65 solutions and 26 features and labels.\n"
     ]
    }
   ],
   "source": [
    "# check consistency between the two datasets\n",
    "assert df_re.shape == df_im.shape\n",
    "\n",
    "df_nrows, df_ncols = df_re.shape\n",
    "print(f'The datasets are made of {df_nrows:d} rows and {df_ncols:d} columns.')\n",
    "print(f'Equivalently, they are {df_nrows:d} solutions and {df_ncols:d} features and labels.')"
   ]
  },
  {
   "cell_type": "markdown",
   "metadata": {
    "papermill": {
     "duration": 0.008217,
     "end_time": "2020-11-23T22:06:34.699690",
     "exception": false,
     "start_time": "2020-11-23T22:06:34.691473",
     "status": "completed"
    },
    "tags": []
   },
   "source": [
    "Each feature has a different physical interpretation.\n",
    "The column `exp` represents the extrapolated labels which will be used as output of the machine learning algorithms.\n",
    "In fact the `type` feature is categorical and can be rescaled to $\\{ 0,\\, 1\\}$."
   ]
  },
  {
   "cell_type": "code",
   "execution_count": 5,
   "metadata": {
    "execution": {
     "iopub.execute_input": "2020-11-23T22:06:34.720762Z",
     "iopub.status.busy": "2020-11-23T22:06:34.720465Z",
     "iopub.status.idle": "2020-11-23T22:06:34.721869Z",
     "shell.execute_reply": "2020-11-23T22:06:34.722061Z"
    },
    "papermill": {
     "duration": 0.014271,
     "end_time": "2020-11-23T22:06:34.722116",
     "exception": false,
     "start_time": "2020-11-23T22:06:34.707845",
     "status": "completed"
    },
    "tags": []
   },
   "outputs": [
    {
     "data": {
      "text/plain": [
       "Index(['exp', 'weight', 'type', '2', '3', '4', '5', '6', '7', '8', '9', '10',\n",
       "       '11', '12', '13', '14', '15', '16', '17', '18', '19', '20', '21', '22',\n",
       "       '23', '24'],\n",
       "      dtype='object')"
      ]
     },
     "execution_count": 5,
     "metadata": {},
     "output_type": "execute_result"
    }
   ],
   "source": [
    "df_re.columns"
   ]
  },
  {
   "cell_type": "code",
   "execution_count": 6,
   "metadata": {
    "execution": {
     "iopub.execute_input": "2020-11-23T22:06:34.740568Z",
     "iopub.status.busy": "2020-11-23T22:06:34.740341Z",
     "iopub.status.idle": "2020-11-23T22:06:34.741965Z",
     "shell.execute_reply": "2020-11-23T22:06:34.741774Z"
    },
    "papermill": {
     "duration": 0.01153,
     "end_time": "2020-11-23T22:06:34.742013",
     "exception": false,
     "start_time": "2020-11-23T22:06:34.730483",
     "status": "completed"
    },
    "tags": []
   },
   "outputs": [
    {
     "data": {
      "text/plain": [
       "Index(['exp', 'weight', 'type', '2', '3', '4', '5', '6', '7', '8', '9', '10',\n",
       "       '11', '12', '13', '14', '15', '16', '17', '18', '19', '20', '21', '22',\n",
       "       '23', '24'],\n",
       "      dtype='object')"
      ]
     },
     "execution_count": 6,
     "metadata": {},
     "output_type": "execute_result"
    }
   ],
   "source": [
    "df_im.columns"
   ]
  },
  {
   "cell_type": "markdown",
   "metadata": {
    "papermill": {
     "duration": 0.008552,
     "end_time": "2020-11-23T22:06:34.759158",
     "exception": false,
     "start_time": "2020-11-23T22:06:34.750606",
     "status": "completed"
    },
    "tags": []
   },
   "source": [
    "The `type` column takes only values $\\{ 2,\\, 4 \\}$ which can be rescaled by dividing by $2$ and subtracting $1$:"
   ]
  },
  {
   "cell_type": "code",
   "execution_count": 7,
   "metadata": {
    "execution": {
     "iopub.execute_input": "2020-11-23T22:06:34.778204Z",
     "iopub.status.busy": "2020-11-23T22:06:34.777977Z",
     "iopub.status.idle": "2020-11-23T22:06:34.779317Z",
     "shell.execute_reply": "2020-11-23T22:06:34.779084Z"
    },
    "papermill": {
     "duration": 0.011654,
     "end_time": "2020-11-23T22:06:34.779364",
     "exception": false,
     "start_time": "2020-11-23T22:06:34.767710",
     "status": "completed"
    },
    "tags": []
   },
   "outputs": [],
   "source": [
    "df_re['type'] = df_re['type'].apply(lambda x: [(i // 2) - 1 for i in x])"
   ]
  },
  {
   "cell_type": "markdown",
   "metadata": {
    "papermill": {
     "duration": 0.008587,
     "end_time": "2020-11-23T22:06:34.796588",
     "exception": false,
     "start_time": "2020-11-23T22:06:34.788001",
     "status": "completed"
    },
    "tags": []
   },
   "source": [
    "We finally rename the columns to be distinguishable by adding the prefix *lev_* to the truncation levels, and the suffixes *_re* and *_im* to set the real and imaginary parts apart."
   ]
  },
  {
   "cell_type": "code",
   "execution_count": 8,
   "metadata": {
    "execution": {
     "iopub.execute_input": "2020-11-23T22:06:34.816385Z",
     "iopub.status.busy": "2020-11-23T22:06:34.816115Z",
     "iopub.status.idle": "2020-11-23T22:06:34.817281Z",
     "shell.execute_reply": "2020-11-23T22:06:34.817462Z"
    },
    "papermill": {
     "duration": 0.012229,
     "end_time": "2020-11-23T22:06:34.817518",
     "exception": false,
     "start_time": "2020-11-23T22:06:34.805289",
     "status": "completed"
    },
    "tags": []
   },
   "outputs": [],
   "source": [
    "df_re = df_re.rename(columns=lambda x: re.sub('$', '_re', re.sub('^([0-9]*)$', r'lev_\\1', x)))\n",
    "df_im = df_im.rename(columns=lambda x: re.sub('$', '_im', re.sub('^([0-9]*)$', r'lev_\\1', x)))"
   ]
  },
  {
   "cell_type": "markdown",
   "metadata": {
    "papermill": {
     "duration": 0.008627,
     "end_time": "2020-11-23T22:06:34.834791",
     "exception": false,
     "start_time": "2020-11-23T22:06:34.826164",
     "status": "completed"
    },
    "tags": []
   },
   "source": [
    "## Incomplete Cases\n",
    "\n",
    "We then need to handle the incomplete cases.\n",
    "We fill every incomplete (`NaN`) case with a list of zeros as long as the number of observables in the solution.\n",
    "We then pad the entire result to be as long as the highest number of observables per solution in the dataset."
   ]
  },
  {
   "cell_type": "code",
   "execution_count": 9,
   "metadata": {
    "execution": {
     "iopub.execute_input": "2020-11-23T22:06:34.854103Z",
     "iopub.status.busy": "2020-11-23T22:06:34.853872Z",
     "iopub.status.idle": "2020-11-23T22:06:34.861431Z",
     "shell.execute_reply": "2020-11-23T22:06:34.861231Z"
    },
    "papermill": {
     "duration": 0.018044,
     "end_time": "2020-11-23T22:06:34.861478",
     "exception": false,
     "start_time": "2020-11-23T22:06:34.843434",
     "status": "completed"
    },
    "tags": []
   },
   "outputs": [],
   "source": [
    "length_re = df_re.applymap(lambda x: len(x) if isinstance(x, list) else 0).max(axis=1)\n",
    "length_im = df_im.applymap(lambda x: len(x) if isinstance(x, list) else 0).max(axis=1)\n",
    "\n",
    "# check if the number of observables is consistent\n",
    "assert (length_re == length_im).all()\n",
    "length = length_re # or length im since it is the same"
   ]
  },
  {
   "cell_type": "code",
   "execution_count": 10,
   "metadata": {
    "execution": {
     "iopub.execute_input": "2020-11-23T22:06:35.093201Z",
     "iopub.status.busy": "2020-11-23T22:06:35.092923Z",
     "iopub.status.idle": "2020-11-23T22:06:35.093665Z",
     "shell.execute_reply": "2020-11-23T22:06:35.093854Z"
    },
    "papermill": {
     "duration": 0.223721,
     "end_time": "2020-11-23T22:06:35.093911",
     "exception": false,
     "start_time": "2020-11-23T22:06:34.870190",
     "status": "completed"
    },
    "tags": []
   },
   "outputs": [],
   "source": [
    "# fill the incomplete cases with a list of zeros\n",
    "df_re = df_re.applymap(lambda x: x if isinstance(x, list) else [0])\n",
    "df_im = df_im.applymap(lambda x: x if isinstance(x, list) else [0])\n",
    "\n",
    "# pad the lists to be the maximal length\n",
    "df_re = df_re.applymap(lambda x: np.pad(x, (0,length.max() - len(x))))\n",
    "df_im = df_im.applymap(lambda x: np.pad(x, (0,length.max() - len(x))))"
   ]
  },
  {
   "cell_type": "markdown",
   "metadata": {
    "papermill": {
     "duration": 0.008723,
     "end_time": "2020-11-23T22:06:35.111369",
     "exception": false,
     "start_time": "2020-11-23T22:06:35.102646",
     "status": "completed"
    },
    "tags": []
   },
   "source": [
    "## Stacking the Dataset\n",
    "\n",
    "We then stack the dataset to obtain a dataset containing only one physical observable per line.\n",
    "We first add a column to dicriminate the number of solutions and observables for ordering purposes (i.e. we assign a number in $[0,\\, 64]$ for the solution and $[0,\\, 16]$ for each observable."
   ]
  },
  {
   "cell_type": "code",
   "execution_count": 11,
   "metadata": {
    "execution": {
     "iopub.execute_input": "2020-11-23T22:06:35.137156Z",
     "iopub.status.busy": "2020-11-23T22:06:35.136878Z",
     "iopub.status.idle": "2020-11-23T22:06:35.137428Z",
     "shell.execute_reply": "2020-11-23T22:06:35.137619Z"
    },
    "papermill": {
     "duration": 0.017609,
     "end_time": "2020-11-23T22:06:35.137673",
     "exception": false,
     "start_time": "2020-11-23T22:06:35.120064",
     "status": "completed"
    },
    "tags": []
   },
   "outputs": [],
   "source": [
    "solution   = []\n",
    "observable = []\n",
    "for n in df_re.index:\n",
    "    solution.append([n] * length.max())\n",
    "    observable.append([i for i in range(length.max())])\n",
    "\n",
    "# add to dataset\n",
    "df_re['solution']   = solution\n",
    "df_re['observable'] = observable\n",
    "df_im['solution']   = solution\n",
    "df_im['observable'] = observable"
   ]
  },
  {
   "cell_type": "markdown",
   "metadata": {
    "papermill": {
     "duration": 0.009514,
     "end_time": "2020-11-23T22:06:35.157191",
     "exception": false,
     "start_time": "2020-11-23T22:06:35.147677",
     "status": "completed"
    },
    "tags": []
   },
   "source": [
    "We stack each solution on top of each other by creating a list of `pd.DataFrame` for each solution and then stack all of them:"
   ]
  },
  {
   "cell_type": "code",
   "execution_count": 12,
   "metadata": {
    "execution": {
     "iopub.execute_input": "2020-11-23T22:06:35.176666Z",
     "iopub.status.busy": "2020-11-23T22:06:35.176435Z",
     "iopub.status.idle": "2020-11-23T22:06:35.177758Z",
     "shell.execute_reply": "2020-11-23T22:06:35.177532Z"
    },
    "papermill": {
     "duration": 0.011943,
     "end_time": "2020-11-23T22:06:35.177804",
     "exception": false,
     "start_time": "2020-11-23T22:06:35.165861",
     "status": "completed"
    },
    "tags": []
   },
   "outputs": [],
   "source": [
    "def expand_series(df, n):\n",
    "    '''\n",
    "    Expand a row of a dataset containing lists to a standalone dataframes.\n",
    "    \n",
    "    Needed arguments:\n",
    "        df: the dataframe (pd.DataFrame),\n",
    "        n:  the id number of the row (int).\n",
    "    '''\n",
    "    \n",
    "    # select the row\n",
    "    row = df.iloc[n]\n",
    "    \n",
    "    # expand to a series\n",
    "    row = row.apply(pd.Series)\n",
    "    \n",
    "    # transpose the dataframe\n",
    "    row = row.transpose()\n",
    "    \n",
    "    return row"
   ]
  },
  {
   "cell_type": "code",
   "execution_count": 13,
   "metadata": {
    "execution": {
     "iopub.execute_input": "2020-11-23T22:06:35.200643Z",
     "iopub.status.busy": "2020-11-23T22:06:35.200411Z",
     "iopub.status.idle": "2020-11-23T22:06:35.612616Z",
     "shell.execute_reply": "2020-11-23T22:06:35.612192Z"
    },
    "papermill": {
     "duration": 0.426095,
     "end_time": "2020-11-23T22:06:35.612715",
     "exception": false,
     "start_time": "2020-11-23T22:06:35.186620",
     "status": "completed"
    },
    "tags": []
   },
   "outputs": [],
   "source": [
    "df_re_list = [expand_series(df_re, n) for n in range(df_nrows)]\n",
    "df_im_list = [expand_series(df_im, n) for n in range(df_nrows)]"
   ]
  },
  {
   "cell_type": "markdown",
   "metadata": {
    "papermill": {
     "duration": 0.0088,
     "end_time": "2020-11-23T22:06:35.635341",
     "exception": false,
     "start_time": "2020-11-23T22:06:35.626541",
     "status": "completed"
    },
    "tags": []
   },
   "source": [
    "We then stack the dataframes using `pandas`:"
   ]
  },
  {
   "cell_type": "code",
   "execution_count": 14,
   "metadata": {
    "execution": {
     "iopub.execute_input": "2020-11-23T22:06:35.655008Z",
     "iopub.status.busy": "2020-11-23T22:06:35.654781Z",
     "iopub.status.idle": "2020-11-23T22:06:35.660469Z",
     "shell.execute_reply": "2020-11-23T22:06:35.660654Z"
    },
    "papermill": {
     "duration": 0.016626,
     "end_time": "2020-11-23T22:06:35.660711",
     "exception": false,
     "start_time": "2020-11-23T22:06:35.644085",
     "status": "completed"
    },
    "tags": []
   },
   "outputs": [],
   "source": [
    "df_re_tidy = pd.concat(df_re_list)\n",
    "df_im_tidy = pd.concat(df_im_list)"
   ]
  },
  {
   "cell_type": "markdown",
   "metadata": {
    "papermill": {
     "duration": 0.00881,
     "end_time": "2020-11-23T22:06:35.684734",
     "exception": false,
     "start_time": "2020-11-23T22:06:35.675924",
     "status": "completed"
    },
    "tags": []
   },
   "source": [
    "## Cleaning the Output\n",
    "\n",
    "We finally clean the output by setting the *dtypes*, reordering the columns, joining the datasets, and removing the duplicates."
   ]
  },
  {
   "cell_type": "code",
   "execution_count": 15,
   "metadata": {
    "execution": {
     "iopub.execute_input": "2020-11-23T22:06:35.706028Z",
     "iopub.status.busy": "2020-11-23T22:06:35.705143Z",
     "iopub.status.idle": "2020-11-23T22:06:35.710171Z",
     "shell.execute_reply": "2020-11-23T22:06:35.709973Z"
    },
    "papermill": {
     "duration": 0.01666,
     "end_time": "2020-11-23T22:06:35.710219",
     "exception": false,
     "start_time": "2020-11-23T22:06:35.693559",
     "status": "completed"
    },
    "tags": []
   },
   "outputs": [],
   "source": [
    "# change dtypes\n",
    "df_re_tidy = df_re_tidy.astype({'type_re': np.int, 'solution': np.int, 'observable': np.int})\n",
    "df_im_tidy = df_im_tidy.astype({'type_im': np.int, 'solution': np.int, 'observable': np.int})"
   ]
  },
  {
   "cell_type": "code",
   "execution_count": 16,
   "metadata": {
    "execution": {
     "iopub.execute_input": "2020-11-23T22:06:35.735345Z",
     "iopub.status.busy": "2020-11-23T22:06:35.735080Z",
     "iopub.status.idle": "2020-11-23T22:06:35.738629Z",
     "shell.execute_reply": "2020-11-23T22:06:35.738435Z"
    },
    "papermill": {
     "duration": 0.015846,
     "end_time": "2020-11-23T22:06:35.738677",
     "exception": false,
     "start_time": "2020-11-23T22:06:35.722831",
     "status": "completed"
    },
    "tags": []
   },
   "outputs": [],
   "source": [
    "# join the datasets\n",
    "df_tidy = df_re_tidy.merge(df_im_tidy, how='inner', on=['solution', 'observable'])\n",
    "\n",
    "# assert that no incomplete cases are present\n",
    "assert df_tidy.isna().sum().sum() == 0\n",
    "\n",
    "# check if shape still matches\n",
    "assert df_tidy.shape[0] == df_re_tidy.shape[0]\n",
    "assert df_tidy.shape[0] == df_im_tidy.shape[0]\n",
    "assert df_tidy.shape[1] == df_re_tidy.shape[1] + df_im_tidy.shape[1] - 2"
   ]
  },
  {
   "cell_type": "code",
   "execution_count": 17,
   "metadata": {
    "execution": {
     "iopub.execute_input": "2020-11-23T22:06:35.763012Z",
     "iopub.status.busy": "2020-11-23T22:06:35.762312Z",
     "iopub.status.idle": "2020-11-23T22:06:35.795640Z",
     "shell.execute_reply": "2020-11-23T22:06:35.795254Z"
    },
    "papermill": {
     "duration": 0.044357,
     "end_time": "2020-11-23T22:06:35.795738",
     "exception": false,
     "start_time": "2020-11-23T22:06:35.751381",
     "status": "completed"
    },
    "tags": []
   },
   "outputs": [],
   "source": [
    "# select vanishing columns\n",
    "df_agg_cols = df_tidy.agg([np.sum, np.mean, np.std])\n",
    "drop_cols   = [key for key in df_agg_cols.columns if (df_agg_cols[key] == 0).all()]\n",
    "df_tidy     = df_tidy.drop(columns=drop_cols)"
   ]
  },
  {
   "cell_type": "code",
   "execution_count": 18,
   "metadata": {
    "execution": {
     "iopub.execute_input": "2020-11-23T22:06:35.821165Z",
     "iopub.status.busy": "2020-11-23T22:06:35.820936Z",
     "iopub.status.idle": "2020-11-23T22:06:36.444612Z",
     "shell.execute_reply": "2020-11-23T22:06:36.444187Z"
    },
    "papermill": {
     "duration": 0.634893,
     "end_time": "2020-11-23T22:06:36.444711",
     "exception": false,
     "start_time": "2020-11-23T22:06:35.809818",
     "status": "completed"
    },
    "tags": []
   },
   "outputs": [],
   "source": [
    "# remove vanishing rows\n",
    "df_agg_rows = df_tidy.drop(columns=['solution', 'observable']).agg([np.sum, np.mean, np.std], axis=1)\n",
    "drop_rows   = [index for index in df_agg_rows.index if (df_agg_rows.iloc[index] == 0).all()]\n",
    "df_tidy     = df_tidy.drop(index=drop_rows)"
   ]
  },
  {
   "cell_type": "code",
   "execution_count": 19,
   "metadata": {
    "execution": {
     "iopub.execute_input": "2020-11-23T22:06:36.469466Z",
     "iopub.status.busy": "2020-11-23T22:06:36.469238Z",
     "iopub.status.idle": "2020-11-23T22:06:36.474805Z",
     "shell.execute_reply": "2020-11-23T22:06:36.474404Z"
    },
    "papermill": {
     "duration": 0.016664,
     "end_time": "2020-11-23T22:06:36.474888",
     "exception": false,
     "start_time": "2020-11-23T22:06:36.458224",
     "status": "completed"
    },
    "tags": []
   },
   "outputs": [
    {
     "name": "stdout",
     "output_type": "stream",
     "text": [
      "New shape of the tidy dataset: 802 samples, 34 features.\n"
     ]
    }
   ],
   "source": [
    "# remove duplicates (do not use solution and observable)\n",
    "col_list = [col for col in df_tidy.columns if col != 'solution' and col != 'observable']\n",
    "df_tidy  = df_tidy.drop_duplicates(subset=col_list, ignore_index=True)\n",
    "\n",
    "df_tidy_nrows, df_tidy_ncols = df_tidy.shape\n",
    "\n",
    "print(f'New shape of the tidy dataset: {df_tidy_nrows:d} samples, {df_tidy_ncols:d} features.')"
   ]
  },
  {
   "cell_type": "code",
   "execution_count": 20,
   "metadata": {
    "execution": {
     "iopub.execute_input": "2020-11-23T22:06:36.500469Z",
     "iopub.status.busy": "2020-11-23T22:06:36.499891Z",
     "iopub.status.idle": "2020-11-23T22:06:36.502073Z",
     "shell.execute_reply": "2020-11-23T22:06:36.501851Z"
    },
    "papermill": {
     "duration": 0.013251,
     "end_time": "2020-11-23T22:06:36.502120",
     "exception": false,
     "start_time": "2020-11-23T22:06:36.488869",
     "status": "completed"
    },
    "tags": []
   },
   "outputs": [],
   "source": [
    "# rename the new columns\n",
    "df_tidy = df_tidy.rename(columns={'exp_re': 'exp', 'weight_re': 'weight', 'type_re': 'type'})\n",
    "df_tidy = df_tidy.rename(columns=lambda x: re.sub('_([0-9])_', r'_0\\1_', x))"
   ]
  },
  {
   "cell_type": "code",
   "execution_count": 21,
   "metadata": {
    "execution": {
     "iopub.execute_input": "2020-11-23T22:06:36.527225Z",
     "iopub.status.busy": "2020-11-23T22:06:36.526955Z",
     "iopub.status.idle": "2020-11-23T22:06:36.528065Z",
     "shell.execute_reply": "2020-11-23T22:06:36.527870Z"
    },
    "papermill": {
     "duration": 0.013157,
     "end_time": "2020-11-23T22:06:36.528111",
     "exception": false,
     "start_time": "2020-11-23T22:06:36.514954",
     "status": "completed"
    },
    "tags": []
   },
   "outputs": [],
   "source": [
    "# sort the columns\n",
    "sorted_cols = ['solution', 'observable', 'weight', 'type'] + sorted(df_tidy.filter(regex='lev_')) + ['exp']\n",
    "df_tidy     = df_tidy[sorted_cols]"
   ]
  },
  {
   "cell_type": "markdown",
   "metadata": {
    "papermill": {
     "duration": 0.009394,
     "end_time": "2020-11-23T22:06:36.550399",
     "exception": false,
     "start_time": "2020-11-23T22:06:36.541005",
     "status": "completed"
    },
    "tags": []
   },
   "source": [
    "## Save the Dataset\n",
    "\n",
    "We finally have the tidy dataset and we can save it to file (we choose JSON format for versatility)."
   ]
  },
  {
   "cell_type": "code",
   "execution_count": 22,
   "metadata": {
    "execution": {
     "iopub.execute_input": "2020-11-23T22:06:36.574445Z",
     "iopub.status.busy": "2020-11-23T22:06:36.574045Z",
     "iopub.status.idle": "2020-11-23T22:06:36.613795Z",
     "shell.execute_reply": "2020-11-23T22:06:36.613333Z"
    },
    "papermill": {
     "duration": 0.054201,
     "end_time": "2020-11-23T22:06:36.613891",
     "exception": false,
     "start_time": "2020-11-23T22:06:36.559690",
     "status": "completed"
    },
    "tags": []
   },
   "outputs": [],
   "source": [
    "df_tidy.to_json('./data/data_tidy.json.gz', orient='records')"
   ]
  }
 ],
 "metadata": {
  "kernelspec": {
   "display_name": "ml-sft-trunc",
   "language": "python",
   "name": "ml-sft-trunc"
  },
  "language_info": {
   "codemirror_mode": {
    "name": "ipython",
    "version": 3
   },
   "file_extension": ".py",
   "mimetype": "text/x-python",
   "name": "python",
   "nbconvert_exporter": "python",
   "pygments_lexer": "ipython3",
   "version": "3.8.6"
  },
  "papermill": {
   "default_parameters": {},
   "duration": 3.024696,
   "end_time": "2020-11-23T22:06:36.832662",
   "environment_variables": {},
   "exception": null,
   "input_path": "minimal-models_tidy.ipynb",
   "output_path": "minimal-models_tidy_output.ipynb",
   "parameters": {},
   "start_time": "2020-11-23T22:06:33.807966",
   "version": "2.2.2"
  }
 },
 "nbformat": 4,
 "nbformat_minor": 4
}
